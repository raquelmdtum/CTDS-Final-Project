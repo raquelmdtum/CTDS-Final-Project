{
 "cells": [
  {
   "cell_type": "markdown",
   "metadata": {},
   "source": [
    "# Download the data (run only once)"
   ]
  },
  {
   "cell_type": "code",
   "execution_count": 1,
   "metadata": {},
   "outputs": [
    {
     "name": "stderr",
     "output_type": "stream",
     "text": [
      "c:\\miniconda\\envs\\ds\\Lib\\site-packages\\tqdm\\auto.py:21: TqdmWarning: IProgress not found. Please update jupyter and ipywidgets. See https://ipywidgets.readthedocs.io/en/stable/user_install.html\n",
      "  from .autonotebook import tqdm as notebook_tqdm\n"
     ]
    },
    {
     "name": "stdout",
     "output_type": "stream",
     "text": [
      "Downloading from https://www.kaggle.com/api/v1/datasets/download/nadyinky/sephora-products-and-skincare-reviews?dataset_version_number=2...\n"
     ]
    },
    {
     "name": "stderr",
     "output_type": "stream",
     "text": [
      "100%|██████████| 147M/147M [00:42<00:00, 3.65MB/s] "
     ]
    },
    {
     "name": "stdout",
     "output_type": "stream",
     "text": [
      "Extracting files...\n"
     ]
    },
    {
     "name": "stderr",
     "output_type": "stream",
     "text": [
      "\n"
     ]
    },
    {
     "name": "stdout",
     "output_type": "stream",
     "text": [
      "Path to dataset files: C:\\Users\\Ana Marija Pavičić\\.cache\\kagglehub\\datasets\\nadyinky\\sephora-products-and-skincare-reviews\\versions\\2\n"
     ]
    }
   ],
   "source": [
    "import kagglehub\n",
    "\n",
    "# Download latest version\n",
    "path = kagglehub.dataset_download(\"nadyinky/sephora-products-and-skincare-reviews\")\n",
    "\n",
    "print(\"Path to dataset files:\", path)"
   ]
  },
  {
   "cell_type": "markdown",
   "metadata": {},
   "source": [
    "# Load and clean the dataset"
   ]
  },
  {
   "cell_type": "code",
   "execution_count": 47,
   "metadata": {},
   "outputs": [
    {
     "name": "stdout",
     "output_type": "stream",
     "text": [
      "Skin care data size 2420\n",
      "Skin care data size after removing empty highlights 2003\n",
      "Skin care data size after removing empty ingredients 1927\n",
      "Skin care data size after removing empty secondary_category 1927\n"
     ]
    }
   ],
   "source": [
    "import pandas as pd\n",
    "\n",
    "# Load the CSV data into a DataFrame\n",
    "df = pd.read_csv(\"data/product_info.csv\")\n",
    "\n",
    "# Filter the DataFrame for rows where 'primary_category' is 'Skincare'\n",
    "skincare_df = df[df['primary_category'] == 'Skincare']\n",
    "\n",
    "# Display data size\n",
    "print(\"Skin care data size\", len(skincare_df))\n",
    "\n",
    "# remove rows where highlight are non existent\n",
    "skincare_df = skincare_df[skincare_df['highlights'].notna() & (skincare_df['highlights'] != '')]\n",
    "\n",
    "print(\"Skin care data size after removing empty highlights\",len(skincare_df))\n",
    "\n",
    "# remove rows where ingredients are non existent\n",
    "skincare_df = skincare_df[skincare_df['ingredients'].notna() & (skincare_df['ingredients'] != '')]\n",
    "\n",
    "print(\"Skin care data size after removing empty ingredients\",len(skincare_df))\n",
    "\n",
    "# remove where the secondary_category is empty\n",
    "skincare_df = skincare_df[skincare_df['secondary_category'].notna() & (skincare_df['secondary_category'] != '')]\n",
    "\n",
    "print(\"Skin care data size after removing empty secondary_category\",len(skincare_df))\n",
    "\n",
    "# # remove where the tertiary_category is empty\n",
    "# skincare_df = skincare_df[skincare_df['tertiary_category'].notna() & (skincare_df['tertiary_category'] != '')]\n",
    "# print(\"Skin care data size after removing empty tertiary_category\",len(skincare_df))\n"
   ]
  },
  {
   "cell_type": "markdown",
   "metadata": {},
   "source": [
    "# Clean highlights column"
   ]
  },
  {
   "cell_type": "code",
   "execution_count": 41,
   "metadata": {},
   "outputs": [],
   "source": [
    "highlights = skincare_df['highlights']\n",
    "\n",
    "highlights = [h.replace(\"[\", \"\").replace(\"]\", \"\").replace(\"'\", \"\").replace(\"Best for \", \"\").replace(\"Good for: \", \"\").replace(\" Skin\", \"\").replace(\"/\", \", \") for h in highlights]\n",
    "\n",
    "skincare_df['highlights'] = highlights"
   ]
  },
  {
   "cell_type": "markdown",
   "metadata": {},
   "source": [
    "# Save cleaned dataset"
   ]
  },
  {
   "cell_type": "code",
   "execution_count": 42,
   "metadata": {},
   "outputs": [],
   "source": [
    "skincare_df.to_csv('data/skincare.csv', index=False)"
   ]
  }
 ],
 "metadata": {
  "kernelspec": {
   "display_name": "ds",
   "language": "python",
   "name": "python3"
  },
  "language_info": {
   "codemirror_mode": {
    "name": "ipython",
    "version": 3
   },
   "file_extension": ".py",
   "mimetype": "text/x-python",
   "name": "python",
   "nbconvert_exporter": "python",
   "pygments_lexer": "ipython3",
   "version": "3.12.7"
  }
 },
 "nbformat": 4,
 "nbformat_minor": 2
}
