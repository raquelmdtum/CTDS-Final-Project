{
 "cells": [
  {
   "cell_type": "markdown",
   "metadata": {},
   "source": [
    "# Download the data (run only once)"
   ]
  },
  {
   "cell_type": "code",
   "execution_count": 1,
   "metadata": {},
   "outputs": [
    {
     "name": "stderr",
     "output_type": "stream",
     "text": [
      "c:\\miniconda\\envs\\ds\\Lib\\site-packages\\tqdm\\auto.py:21: TqdmWarning: IProgress not found. Please update jupyter and ipywidgets. See https://ipywidgets.readthedocs.io/en/stable/user_install.html\n",
      "  from .autonotebook import tqdm as notebook_tqdm\n"
     ]
    },
    {
     "name": "stdout",
     "output_type": "stream",
     "text": [
      "Path to dataset files: C:\\Users\\Ana Marija Pavičić\\.cache\\kagglehub\\datasets\\nadyinky\\sephora-products-and-skincare-reviews\\versions\\2\n"
     ]
    }
   ],
   "source": [
    "import kagglehub\n",
    "\n",
    "# Download latest version\n",
    "path = kagglehub.dataset_download(\"nadyinky/sephora-products-and-skincare-reviews\")\n",
    "\n",
    "print(\"Path to dataset files:\", path)"
   ]
  },
  {
   "cell_type": "markdown",
   "metadata": {},
   "source": [
    "# Load and clean the dataset"
   ]
  },
  {
   "cell_type": "code",
   "execution_count": 3,
   "metadata": {},
   "outputs": [
    {
     "name": "stdout",
     "output_type": "stream",
     "text": [
      "{'Hair', 'Bath & Body', 'Skincare', 'Gifts', 'Mini Size', 'Men', 'Fragrance', 'Tools & Brushes', 'Makeup'}\n",
      "Skin care data size 2420\n",
      "Skin care data size after removing empty highlights 2003\n",
      "Skin care data size after removing empty ingredients 1927\n",
      "Skin care data size after removing empty secondary_category 1927\n"
     ]
    }
   ],
   "source": [
    "import pandas as pd\n",
    "\n",
    "# Load the CSV data into a DataFrame\n",
    "df = pd.read_csv(\"data/product_info.csv\")\n",
    "\n",
    "primary_category = set(df['primary_category'])\n",
    "print(primary_category)\n",
    "\n",
    "# Filter the DataFrame for rows where 'primary_category' is 'Skincare'\n",
    "skincare_df = df[df['primary_category'] == 'Skincare']\n",
    "\n",
    "# Display data size\n",
    "print(\"Skin care data size\", len(skincare_df))\n",
    "\n",
    "# remove rows where highlight are non existent\n",
    "skincare_df = skincare_df[skincare_df['highlights'].notna() & (skincare_df['highlights'] != '')]\n",
    "\n",
    "print(\"Skin care data size after removing empty highlights\",len(skincare_df))\n",
    "\n",
    "# remove rows where ingredients are non existent\n",
    "skincare_df = skincare_df[skincare_df['ingredients'].notna() & (skincare_df['ingredients'] != '')]\n",
    "\n",
    "print(\"Skin care data size after removing empty ingredients\",len(skincare_df))\n",
    "\n",
    "# remove where the secondary_category is empty\n",
    "skincare_df = skincare_df[skincare_df['secondary_category'].notna() & (skincare_df['secondary_category'] != '')]\n",
    "\n",
    "print(\"Skin care data size after removing empty secondary_category\",len(skincare_df))\n",
    "\n",
    "# # remove where the tertiary_category is empty\n",
    "# skincare_df = skincare_df[skincare_df['tertiary_category'].notna() & (skincare_df['tertiary_category'] != '')]\n",
    "# print(\"Skin care data size after removing empty tertiary_category\",len(skincare_df))\n"
   ]
  },
  {
   "cell_type": "markdown",
   "metadata": {},
   "source": [
    "# Clean highlights column"
   ]
  },
  {
   "cell_type": "code",
   "execution_count": 4,
   "metadata": {},
   "outputs": [],
   "source": [
    "highlights = skincare_df['highlights']\n",
    "\n",
    "highlights = [h.replace(\"[\", \"\").replace(\"]\", \"\").replace(\"'\", \"\").replace(\"Best for \", \"\").replace(\"Good for: \", \"\").replace(\" Skin\", \"\").replace(\"/\", \", \") for h in highlights]\n",
    "\n",
    "skincare_df['highlights'] = highlights"
   ]
  },
  {
   "cell_type": "markdown",
   "metadata": {},
   "source": [
    "# Clean ingredients"
   ]
  },
  {
   "cell_type": "code",
   "execution_count": 24,
   "metadata": {},
   "outputs": [
    {
     "name": "stdout",
     "output_type": "stream",
     "text": [
      "90      ['Collagen (Vegan)*, Water (Aqua, Eau), Propan...\n",
      "92      ['Collagen (Vegan)*, Water (Aqua, Eau), Glycer...\n",
      "97      ['GENIUS Liquid Collagen:', 'Collagen (Vegan),...\n",
      "116     ['Collagen (Vegan)*, Water (Aqua, Eau), Propan...\n",
      "120     ['Collagen (Vegan)*, Water (Aqua, Eau), Glycer...\n",
      "6867    ['Water (Aqua/Eau), Pentaerythrityl Tetraethyl...\n",
      "Name: ingredients, dtype: object\n"
     ]
    },
    {
     "name": "stderr",
     "output_type": "stream",
     "text": [
      "<>:2: SyntaxWarning: invalid escape sequence '\\('\n",
      "<>:2: SyntaxWarning: invalid escape sequence '\\('\n",
      "C:\\Users\\Ana Marija Pavičić\\AppData\\Local\\Temp\\ipykernel_21080\\1588570066.py:2: SyntaxWarning: invalid escape sequence '\\('\n",
      "  contains_beta_carotene = skincare_df[skincare_df['ingredients'].str.contains('Beta-Carotene \\(', case=False, na=False)]['ingredients']\n"
     ]
    }
   ],
   "source": [
    "# Filter rows containing 'Beta-Carotene' in the ingredients column\n",
    "contains_beta_carotene = skincare_df[skincare_df['ingredients'].str.contains('Beta-Carotene \\(', case=False, na=False)]['ingredients']\n",
    "print(contains_beta_carotene)"
   ]
  },
  {
   "cell_type": "code",
   "execution_count": null,
   "metadata": {},
   "outputs": [
    {
     "name": "stdout",
     "output_type": "stream",
     "text": [
      "'Collagen (Vegan)*, Water (Aqua, Eau), Propanediol, Isononyl Isononanoate, Butylene Glycol, Glycerin, Betaine, Pentylene Glycol, Dextrin Palmitate, Collagen Amino Acids (Vegan)*, Parachlorella Beijerinckii Exopolysaccharides, Chlorella Protothecoides Oil, Helichrysum Stoechas Flower Extract, Cylindrotheca Fusiformis Extract, Niacinamide, Tocopherol, Palmitoyl Tripeptide-1, Palmitoyl Tetrapeptide-7, Adenosine, Helianthus Annuus (Sunflower) Seed Oil, Leuconostoc/Radish Root Ferment Filtrate, Caprylic/Capric Triglyceride, Palmitic Acid, Disodium EDTA, Carbomer, Sodium Lactate, Amodimethicone, Homosalate, Polysorbate 20, Butyl Methoxydibenzoylmethane, 1,2-Hexanediol, Caprylyl Glycol, Octocrylene, Sodium Hydroxide, Phenoxyethanol, Fragrance (Parfum), Limonene, Beta-Carotene (CI 40800).'\n"
     ]
    }
   ],
   "source": [
    "ingredients = skincare_df['ingredients']\n",
    "first = ingredients.iloc[1].replace(\"[\", \"\").replace(\"]\", \"\").replace(\"'\", \"\").replace(\" (Vegan)*\", \"\")\n",
    "print(first)\n",
    "\n",
    "seen_ingredients = []\n",
    "\n",
    "set_ingredients = set()\n",
    "for row in ingredients:\n",
    "   list_ingredients = set(row.replace(\"[\", \"\").replace(\"]\", \"\").split(\",\"))\n",
    "   set_ingredients.update(list_ingredients)\n",
    "   \n",
    "   \n",
    "#print(set_ingredients)"
   ]
  },
  {
   "cell_type": "markdown",
   "metadata": {},
   "source": [
    "# Save cleaned dataset"
   ]
  },
  {
   "cell_type": "code",
   "execution_count": 8,
   "metadata": {},
   "outputs": [],
   "source": [
    "skincare_df.to_csv('data/skincare.csv', index=False)"
   ]
  },
  {
   "cell_type": "code",
   "execution_count": 9,
   "metadata": {},
   "outputs": [
    {
     "name": "stderr",
     "output_type": "stream",
     "text": [
      "C:\\Users\\Ana Marija Pavičić\\AppData\\Local\\Temp\\ipykernel_20652\\79619641.py:5: DtypeWarning: Columns (1) have mixed types. Specify dtype option on import or set low_memory=False.\n",
      "  df = pd.read_csv(\"data/reviews_0-250.csv\")\n"
     ]
    },
    {
     "name": "stdout",
     "output_type": "stream",
     "text": [
      "602130\n",
      "545756\n",
      "Different users,  383697\n"
     ]
    }
   ],
   "source": [
    "import pandas as pd\n",
    "\n",
    "# Load the CSV data into a DataFrame\n",
    "count = 0\n",
    "df = pd.read_csv(\"data/reviews_0-250.csv\")\n",
    "count += len(df)\n",
    "\n",
    "product_ids = skincare_df['product_id']\n",
    "print(len(df))\n",
    "\n",
    "df_review1 = df[df['product_id'].isin(product_ids)]\n",
    "print(len(df_review1))\n",
    "print(\"Different users, \", len(set(df['author_id'])))"
   ]
  },
  {
   "cell_type": "code",
   "execution_count": 11,
   "metadata": {},
   "outputs": [
    {
     "name": "stderr",
     "output_type": "stream",
     "text": [
      "C:\\Users\\Ana Marija Pavičić\\AppData\\Local\\Temp\\ipykernel_20652\\4209465876.py:9: DtypeWarning: Columns (1) have mixed types. Specify dtype option on import or set low_memory=False.\n",
      "  df_4 = pd.read_csv(\"data/reviews_750-1250.csv\")\n",
      "C:\\Users\\Ana Marija Pavičić\\AppData\\Local\\Temp\\ipykernel_20652\\4209465876.py:13: DtypeWarning: Columns (1) have mixed types. Specify dtype option on import or set low_memory=False.\n",
      "  df_5 = pd.read_csv(\"data/reviews_1250-end.csv\")\n"
     ]
    },
    {
     "name": "stdout",
     "output_type": "stream",
     "text": [
      "skincare 966018\n",
      "all 1094411\n",
      "513998\n"
     ]
    }
   ],
   "source": [
    "df_2 = pd.read_csv(\"data/reviews_250-500.csv\")\n",
    "count += len(df_2)\n",
    "df_review2 = df_2[df_2['product_id'].isin(product_ids)]\n",
    "\n",
    "df_3 = pd.read_csv(\"data/reviews_500-750.csv\")\n",
    "count += len(df_3)\n",
    "df_review3 = df_3[df_3['product_id'].isin(product_ids)]\n",
    "\n",
    "df_4 = pd.read_csv(\"data/reviews_750-1250.csv\")\n",
    "count += len(df_4)\n",
    "df_review4 = df_4[df_4['product_id'].isin(product_ids)]\n",
    "\n",
    "df_5 = pd.read_csv(\"data/reviews_1250-end.csv\")\n",
    "count += len(df_5)\n",
    "df_review5 = df_5[df_5['product_id'].isin(product_ids)]\n",
    "\n",
    "combined_df = pd.concat([df_review2, df_review1], axis=0, ignore_index=True)\n",
    "combined_df = pd.concat([combined_df, df_review3], axis=0, ignore_index=True)\n",
    "combined_df = pd.concat([combined_df, df_review4], axis=0, ignore_index=True)\n",
    "combined_df = pd.concat([combined_df, df_review5], axis=0, ignore_index=True)\n",
    "\n",
    "print(\"skincare\", len(combined_df))\n",
    "print(\"all\", count)\n",
    "print(len(set(combined_df['author_id'])))\n"
   ]
  },
  {
   "cell_type": "markdown",
   "metadata": {},
   "source": [
    "### Users with at least 2 reviews"
   ]
  },
  {
   "cell_type": "code",
   "execution_count": 14,
   "metadata": {},
   "outputs": [
    {
     "name": "stdout",
     "output_type": "stream",
     "text": [
      "635362\n",
      "185228\n"
     ]
    }
   ],
   "source": [
    "# Group by 'author_id' and filter authors who have reviewed more than one product\n",
    "filtered_df = combined_df.groupby('author_id').filter(lambda x: x['product_id'].nunique() > 1)\n",
    "\n",
    "# Display the filtered DataFrame\n",
    "print(len(filtered_df))\n",
    "print(len(set(filtered_df['author_id'])))"
   ]
  },
  {
   "cell_type": "markdown",
   "metadata": {},
   "source": [
    "### Users with at least 3 reviews"
   ]
  },
  {
   "cell_type": "code",
   "execution_count": 16,
   "metadata": {},
   "outputs": [
    {
     "name": "stdout",
     "output_type": "stream",
     "text": [
      "424595\n",
      "80341\n"
     ]
    }
   ],
   "source": [
    "filtered_df = filtered_df.groupby('author_id').filter(lambda x: x['product_id'].nunique() > 2)\n",
    "\n",
    "# Display the filtered DataFrame\n",
    "print(len(filtered_df))\n",
    "print(len(set(filtered_df['author_id'])))"
   ]
  },
  {
   "cell_type": "markdown",
   "metadata": {},
   "source": [
    "### Users with at least 4 reviews"
   ]
  },
  {
   "cell_type": "code",
   "execution_count": 17,
   "metadata": {},
   "outputs": [
    {
     "name": "stdout",
     "output_type": "stream",
     "text": [
      "315929\n",
      "44270\n"
     ]
    }
   ],
   "source": [
    "filtered_df = filtered_df.groupby('author_id').filter(lambda x: x['product_id'].nunique() > 3)\n",
    "\n",
    "# Display the filtered DataFrame\n",
    "print(len(filtered_df))\n",
    "print(len(set(filtered_df['author_id'])))"
   ]
  },
  {
   "cell_type": "markdown",
   "metadata": {},
   "source": [
    "### Users with at least 5 reviews"
   ]
  },
  {
   "cell_type": "code",
   "execution_count": 18,
   "metadata": {},
   "outputs": [
    {
     "name": "stdout",
     "output_type": "stream",
     "text": [
      "247953\n",
      "27350\n"
     ]
    }
   ],
   "source": [
    "filtered_df = filtered_df.groupby('author_id').filter(lambda x: x['product_id'].nunique() > 4)\n",
    "\n",
    "# Display the filtered DataFrame\n",
    "print(len(filtered_df))\n",
    "print(len(set(filtered_df['author_id'])))"
   ]
  },
  {
   "cell_type": "markdown",
   "metadata": {},
   "source": [
    "### Users with at least 6 reviews"
   ]
  },
  {
   "cell_type": "code",
   "execution_count": 19,
   "metadata": {},
   "outputs": [
    {
     "name": "stdout",
     "output_type": "stream",
     "text": [
      "202496\n",
      "18287\n"
     ]
    }
   ],
   "source": [
    "filtered_df = filtered_df.groupby('author_id').filter(lambda x: x['product_id'].nunique() > 5)\n",
    "\n",
    "# Display the filtered DataFrame\n",
    "print(len(filtered_df))\n",
    "print(len(set(filtered_df['author_id'])))"
   ]
  },
  {
   "cell_type": "markdown",
   "metadata": {},
   "source": [
    "#### Users with at least 7 reviews"
   ]
  },
  {
   "cell_type": "code",
   "execution_count": 20,
   "metadata": {},
   "outputs": [
    {
     "name": "stdout",
     "output_type": "stream",
     "text": [
      "170851\n",
      "13033\n"
     ]
    }
   ],
   "source": [
    "filtered_df = filtered_df.groupby('author_id').filter(lambda x: x['product_id'].nunique() > 6)\n",
    "\n",
    "# Display the filtered DataFrame\n",
    "print(len(filtered_df))\n",
    "print(len(set(filtered_df['author_id'])))"
   ]
  }
 ],
 "metadata": {
  "kernelspec": {
   "display_name": "ds",
   "language": "python",
   "name": "python3"
  },
  "language_info": {
   "codemirror_mode": {
    "name": "ipython",
    "version": 3
   },
   "file_extension": ".py",
   "mimetype": "text/x-python",
   "name": "python",
   "nbconvert_exporter": "python",
   "pygments_lexer": "ipython3",
   "version": "3.12.7"
  }
 },
 "nbformat": 4,
 "nbformat_minor": 2
}
