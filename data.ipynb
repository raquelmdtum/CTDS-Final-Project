{
 "cells": [
  {
   "cell_type": "markdown",
   "metadata": {},
   "source": [
    "# Download the data (run only once)"
   ]
  },
  {
   "cell_type": "code",
   "execution_count": 1,
   "metadata": {},
   "outputs": [
    {
     "name": "stderr",
     "output_type": "stream",
     "text": [
      "c:\\miniconda\\envs\\ds\\Lib\\site-packages\\tqdm\\auto.py:21: TqdmWarning: IProgress not found. Please update jupyter and ipywidgets. See https://ipywidgets.readthedocs.io/en/stable/user_install.html\n",
      "  from .autonotebook import tqdm as notebook_tqdm\n"
     ]
    },
    {
     "name": "stdout",
     "output_type": "stream",
     "text": [
      "Downloading from https://www.kaggle.com/api/v1/datasets/download/nadyinky/sephora-products-and-skincare-reviews?dataset_version_number=2...\n"
     ]
    },
    {
     "name": "stderr",
     "output_type": "stream",
     "text": [
      "100%|██████████| 147M/147M [00:42<00:00, 3.65MB/s] "
     ]
    },
    {
     "name": "stdout",
     "output_type": "stream",
     "text": [
      "Extracting files...\n"
     ]
    },
    {
     "name": "stderr",
     "output_type": "stream",
     "text": [
      "\n"
     ]
    },
    {
     "name": "stdout",
     "output_type": "stream",
     "text": [
      "Path to dataset files: C:\\Users\\Ana Marija Pavičić\\.cache\\kagglehub\\datasets\\nadyinky\\sephora-products-and-skincare-reviews\\versions\\2\n"
     ]
    }
   ],
   "source": [
    "import kagglehub\n",
    "\n",
    "# Download latest version\n",
    "path = kagglehub.dataset_download(\"nadyinky/sephora-products-and-skincare-reviews\")\n",
    "\n",
    "print(\"Path to dataset files:\", path)"
   ]
  },
  {
   "cell_type": "markdown",
   "metadata": {},
   "source": [
    "# Load and clean the dataset"
   ]
  },
  {
   "cell_type": "code",
   "execution_count": 1,
   "metadata": {},
   "outputs": [
    {
     "name": "stdout",
     "output_type": "stream",
     "text": [
      "{'Makeup', 'Mini Size', 'Bath & Body', 'Gifts', 'Hair', 'Men', 'Fragrance', 'Tools & Brushes', 'Skincare'}\n",
      "Skin care data size 2420\n",
      "Skin care data size after removing empty highlights 2003\n",
      "Skin care data size after removing empty ingredients 1927\n",
      "Skin care data size after removing empty secondary_category 1927\n"
     ]
    }
   ],
   "source": [
    "import pandas as pd\n",
    "\n",
    "# Load the CSV data into a DataFrame\n",
    "df = pd.read_csv(\"data/product_info.csv\")\n",
    "\n",
    "primary_category = set(df['primary_category'])\n",
    "print(primary_category)\n",
    "\n",
    "# Filter the DataFrame for rows where 'primary_category' is 'Skincare'\n",
    "skincare_df = df[df['primary_category'] == 'Skincare']\n",
    "\n",
    "# Display data size\n",
    "print(\"Skin care data size\", len(skincare_df))\n",
    "\n",
    "# remove rows where highlight are non existent\n",
    "skincare_df = skincare_df[skincare_df['highlights'].notna() & (skincare_df['highlights'] != '')]\n",
    "\n",
    "print(\"Skin care data size after removing empty highlights\",len(skincare_df))\n",
    "\n",
    "# remove rows where ingredients are non existent\n",
    "skincare_df = skincare_df[skincare_df['ingredients'].notna() & (skincare_df['ingredients'] != '')]\n",
    "\n",
    "print(\"Skin care data size after removing empty ingredients\",len(skincare_df))\n",
    "\n",
    "# remove where the secondary_category is empty\n",
    "skincare_df = skincare_df[skincare_df['secondary_category'].notna() & (skincare_df['secondary_category'] != '')]\n",
    "\n",
    "print(\"Skin care data size after removing empty secondary_category\",len(skincare_df))\n",
    "\n",
    "# # remove where the tertiary_category is empty\n",
    "# skincare_df = skincare_df[skincare_df['tertiary_category'].notna() & (skincare_df['tertiary_category'] != '')]\n",
    "# print(\"Skin care data size after removing empty tertiary_category\",len(skincare_df))\n"
   ]
  },
  {
   "cell_type": "markdown",
   "metadata": {},
   "source": [
    "# Clean highlights column"
   ]
  },
  {
   "cell_type": "code",
   "execution_count": 41,
   "metadata": {},
   "outputs": [],
   "source": [
    "highlights = skincare_df['highlights']\n",
    "\n",
    "highlights = [h.replace(\"[\", \"\").replace(\"]\", \"\").replace(\"'\", \"\").replace(\"Best for \", \"\").replace(\"Good for: \", \"\").replace(\" Skin\", \"\").replace(\"/\", \", \") for h in highlights]\n",
    "\n",
    "skincare_df['highlights'] = highlights"
   ]
  },
  {
   "cell_type": "markdown",
   "metadata": {},
   "source": [
    "# Save cleaned dataset"
   ]
  },
  {
   "cell_type": "code",
   "execution_count": 42,
   "metadata": {},
   "outputs": [],
   "source": [
    "skincare_df.to_csv('data/skincare.csv', index=False)"
   ]
  },
  {
   "cell_type": "code",
   "execution_count": null,
   "metadata": {},
   "outputs": [
    {
     "name": "stderr",
     "output_type": "stream",
     "text": [
      "C:\\Users\\Ana Marija Pavičić\\AppData\\Local\\Temp\\ipykernel_33504\\4133797348.py:2: DtypeWarning: Columns (1) have mixed types. Specify dtype option on import or set low_memory=False.\n",
      "  df = pd.read_csv(\"data/reviews_0-250.csv\")\n"
     ]
    },
    {
     "name": "stdout",
     "output_type": "stream",
     "text": [
      "602130\n",
      "602130\n",
      "Different users,  383697\n"
     ]
    }
   ],
   "source": [
    "# Load the CSV data into a DataFrame\n",
    "df = pd.read_csv(\"data/reviews_0-250.csv\")\n",
    "\n",
    "product_ids = skincare_df['product_id']\n",
    "print(len(df))\n",
    "\n",
    "df_review1 = df[df['product_id'].isin(product_ids)]\n",
    "print(len(df_review1))\n",
    "print(\"Different users, \", len(set(df['author_id'])))"
   ]
  },
  {
   "cell_type": "code",
   "execution_count": null,
   "metadata": {},
   "outputs": [
    {
     "name": "stderr",
     "output_type": "stream",
     "text": [
      "C:\\Users\\Ana Marija Pavičić\\AppData\\Local\\Temp\\ipykernel_33504\\1564603506.py:7: DtypeWarning: Columns (1) have mixed types. Specify dtype option on import or set low_memory=False.\n",
      "  df_4 = pd.read_csv(\"data/reviews_750-1250.csv\")\n",
      "C:\\Users\\Ana Marija Pavičić\\AppData\\Local\\Temp\\ipykernel_33504\\1564603506.py:10: DtypeWarning: Columns (1) have mixed types. Specify dtype option on import or set low_memory=False.\n",
      "  df_5 = pd.read_csv(\"data/reviews_1250-end.csv\")\n"
     ]
    },
    {
     "name": "stdout",
     "output_type": "stream",
     "text": [
      "966018\n",
      "513998\n"
     ]
    }
   ],
   "source": [
    "df_2 = pd.read_csv(\"data/reviews_250-500.csv\")\n",
    "df_review2 = df_2[df_2['product_id'].isin(product_ids)]\n",
    "\n",
    "df_3 = pd.read_csv(\"data/reviews_500-750.csv\")\n",
    "df_review3 = df_3[df_3['product_id'].isin(product_ids)]\n",
    "\n",
    "df_4 = pd.read_csv(\"data/reviews_750-1250.csv\")\n",
    "df_review4 = df_4[df_4['product_id'].isin(product_ids)]\n",
    "\n",
    "df_5 = pd.read_csv(\"data/reviews_1250-end.csv\")\n",
    "df_review5 = df_5[df_5['product_id'].isin(product_ids)]\n",
    "\n",
    "combined_df = pd.concat([df_review2, df_review1], axis=0, ignore_index=True)\n",
    "combined_df = pd.concat([combined_df, df_review3], axis=0, ignore_index=True)\n",
    "combined_df = pd.concat([combined_df, df_review4], axis=0, ignore_index=True)\n",
    "combined_df = pd.concat([combined_df, df_review5], axis=0, ignore_index=True)\n",
    "\n",
    "print(len(combined_df))\n",
    "print(len(set(combined_df['author_id'])))\n"
   ]
  },
  {
   "cell_type": "markdown",
   "metadata": {},
   "source": [
    "### Users with at least 2 reviews"
   ]
  },
  {
   "cell_type": "code",
   "execution_count": 14,
   "metadata": {},
   "outputs": [
    {
     "name": "stdout",
     "output_type": "stream",
     "text": [
      "635362\n",
      "185228\n"
     ]
    }
   ],
   "source": [
    "# Group by 'author_id' and filter authors who have reviewed more than one product\n",
    "filtered_df = combined_df.groupby('author_id').filter(lambda x: x['product_id'].nunique() > 1)\n",
    "\n",
    "# Display the filtered DataFrame\n",
    "print(len(filtered_df))\n",
    "print(len(set(filtered_df['author_id'])))"
   ]
  },
  {
   "cell_type": "markdown",
   "metadata": {},
   "source": [
    "### Users with at least 3 reviews"
   ]
  },
  {
   "cell_type": "code",
   "execution_count": 16,
   "metadata": {},
   "outputs": [
    {
     "name": "stdout",
     "output_type": "stream",
     "text": [
      "424595\n",
      "80341\n"
     ]
    }
   ],
   "source": [
    "filtered_df = filtered_df.groupby('author_id').filter(lambda x: x['product_id'].nunique() > 2)\n",
    "\n",
    "# Display the filtered DataFrame\n",
    "print(len(filtered_df))\n",
    "print(len(set(filtered_df['author_id'])))"
   ]
  },
  {
   "cell_type": "markdown",
   "metadata": {},
   "source": [
    "### Users with at least 4 reviews"
   ]
  },
  {
   "cell_type": "code",
   "execution_count": 17,
   "metadata": {},
   "outputs": [
    {
     "name": "stdout",
     "output_type": "stream",
     "text": [
      "315929\n",
      "44270\n"
     ]
    }
   ],
   "source": [
    "filtered_df = filtered_df.groupby('author_id').filter(lambda x: x['product_id'].nunique() > 3)\n",
    "\n",
    "# Display the filtered DataFrame\n",
    "print(len(filtered_df))\n",
    "print(len(set(filtered_df['author_id'])))"
   ]
  },
  {
   "cell_type": "markdown",
   "metadata": {},
   "source": [
    "### Users with at least 5 reviews"
   ]
  },
  {
   "cell_type": "code",
   "execution_count": 18,
   "metadata": {},
   "outputs": [
    {
     "name": "stdout",
     "output_type": "stream",
     "text": [
      "247953\n",
      "27350\n"
     ]
    }
   ],
   "source": [
    "filtered_df = filtered_df.groupby('author_id').filter(lambda x: x['product_id'].nunique() > 4)\n",
    "\n",
    "# Display the filtered DataFrame\n",
    "print(len(filtered_df))\n",
    "print(len(set(filtered_df['author_id'])))"
   ]
  },
  {
   "cell_type": "markdown",
   "metadata": {},
   "source": [
    "### Users with at least 6 reviews"
   ]
  },
  {
   "cell_type": "code",
   "execution_count": 19,
   "metadata": {},
   "outputs": [
    {
     "name": "stdout",
     "output_type": "stream",
     "text": [
      "202496\n",
      "18287\n"
     ]
    }
   ],
   "source": [
    "filtered_df = filtered_df.groupby('author_id').filter(lambda x: x['product_id'].nunique() > 5)\n",
    "\n",
    "# Display the filtered DataFrame\n",
    "print(len(filtered_df))\n",
    "print(len(set(filtered_df['author_id'])))"
   ]
  },
  {
   "cell_type": "markdown",
   "metadata": {},
   "source": [
    "#### Users with at least 7 reviews"
   ]
  },
  {
   "cell_type": "code",
   "execution_count": 20,
   "metadata": {},
   "outputs": [
    {
     "name": "stdout",
     "output_type": "stream",
     "text": [
      "170851\n",
      "13033\n"
     ]
    }
   ],
   "source": [
    "filtered_df = filtered_df.groupby('author_id').filter(lambda x: x['product_id'].nunique() > 6)\n",
    "\n",
    "# Display the filtered DataFrame\n",
    "print(len(filtered_df))\n",
    "print(len(set(filtered_df['author_id'])))"
   ]
  }
 ],
 "metadata": {
  "kernelspec": {
   "display_name": "ds",
   "language": "python",
   "name": "python3"
  },
  "language_info": {
   "codemirror_mode": {
    "name": "ipython",
    "version": 3
   },
   "file_extension": ".py",
   "mimetype": "text/x-python",
   "name": "python",
   "nbconvert_exporter": "python",
   "pygments_lexer": "ipython3",
   "version": "3.12.7"
  }
 },
 "nbformat": 4,
 "nbformat_minor": 2
}
