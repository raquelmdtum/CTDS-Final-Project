{
 "cells": [
  {
   "cell_type": "markdown",
   "metadata": {},
   "source": [
    "# Data Preprocessing"
   ]
  },
  {
   "cell_type": "markdown",
   "metadata": {},
   "source": [
    "#### Imports"
   ]
  },
  {
   "cell_type": "code",
   "execution_count": 1,
   "metadata": {},
   "outputs": [],
   "source": [
    "import os\n",
    "import re\n",
    "import numpy as np\n",
    "%matplotlib inline\n",
    "import pandas as pd\n",
    "import seaborn as sns\n",
    "import plotly.io as pio\n",
    "import plotly.express as px\n",
    "import plotly.offline as pyo\n",
    "import matplotlib.pyplot as plt\n",
    "import plotly.graph_objects as go"
   ]
  },
  {
   "cell_type": "markdown",
   "metadata": {},
   "source": [
    "## Data Paths"
   ]
  },
  {
   "cell_type": "code",
   "execution_count": 2,
   "metadata": {},
   "outputs": [],
   "source": [
    "raw_data_directory = 'data'\n",
    "raw_data_path = 'data/product_info.csv'\n",
    "processed_data_directory = 'processed_data'\n",
    "processed_data_path = processed_data_directory + '/skincare.csv'"
   ]
  },
  {
   "cell_type": "markdown",
   "metadata": {},
   "source": [
    "## Data Cleaning and Preprocessing"
   ]
  },
  {
   "cell_type": "code",
   "execution_count": 7,
   "metadata": {},
   "outputs": [
    {
     "name": "stdout",
     "output_type": "stream",
     "text": [
      "Skin care data size: 2420\n",
      "Skin care data size after removing empty highlights: 2003\n",
      "Skin care data size after removing empty ingredients: 1927\n",
      "Size of skincare data after removing 'mini' from product names (case-insensitive): 1743\n",
      "Size of skincare data after removing 'limited edition' from product names (case-insensitive): 1741\n",
      "Skin care data size after removing 'Value & Gift Sets' secondary_category: 1583\n"
     ]
    }
   ],
   "source": [
    "# Read all products info\n",
    "df = pd.read_csv(raw_data_path)\n",
    "\n",
    "# Filter df for rows where 'primary_category' is 'Skincare'\n",
    "skincare_df = df[df['primary_category'] == 'Skincare']\n",
    "print(\"Skin care data size:\", len(skincare_df))\n",
    "\n",
    "# Remove rows where highlight are non existent\n",
    "skincare_df = skincare_df[skincare_df['highlights'].notna() & (skincare_df['highlights'] != '')]\n",
    "print(\"Skin care data size after removing empty highlights:\",len(skincare_df))\n",
    "\n",
    "# Remove rows where ingredients are non existent\n",
    "skincare_df = skincare_df[skincare_df['ingredients'].notna() & (skincare_df['ingredients'] != '')]\n",
    "print(\"Skin care data size after removing empty ingredients:\",len(skincare_df))\n",
    "\n",
    "# Remove 'Mini' size products from data as it could be seen as a duplicate\n",
    "skincare_df = skincare_df[~skincare_df['product_name'].str.contains('mini', case=False, na=False)]\n",
    "# Also removing additional products with 'Mini Size' as their secondary category\n",
    "skincare_df = skincare_df[skincare_df['secondary_category'] != 'Mini Size']\n",
    "print(f\"Size of skincare data after removing 'mini' from product names (case-insensitive): {len(skincare_df)}\")\n",
    "\n",
    "# Remove 'Limited edition' from data\n",
    "skincare_df = skincare_df[~skincare_df['product_name'].str.contains('limited edition', case=False, na=False)]\n",
    "print(f\"Size of skincare data after removing 'limited edition' from product names (case-insensitive): {len(skincare_df)}\")\n",
    "\n",
    "# Remove 'Value & Gift Sets' from data to focus on individual products\n",
    "skincare_df = skincare_df[skincare_df['secondary_category'] != 'Value & Gift Sets']\n",
    "print(\"Skin care data size after removing 'Value & Gift Sets' secondary_category:\",len(skincare_df))\n",
    "\n",
    "# Clean highlight column\n",
    "highlights = skincare_df['highlights']\n",
    "highlights = [h.replace(\"[\", \"\").replace(\"]\", \"\").replace(\"'\", \"\").replace(\"Best for \", \"\").replace(\"Good for: \", \"\").replace(\" Skin\", \"\").replace(\"/\", \", \") for h in highlights]\n",
    "skincare_df['highlights'] = highlights\n",
    "\n",
    "# Function to clean each ingredient row\n",
    "def clean_ingredients(row):\n",
    "   # Replace unwanted characters\n",
    "   row = row.replace(\"[\", \"\").replace(\"]\", \"\").replace(\"'\", \"\").replace(\" (Vegan)*\", \"\").replace(\".\", \"\")\n",
    "   \n",
    "   # Remove text inside parentheses\n",
    "   row = re.sub(r'\\([^)]*\\)', '', row)\n",
    "   \n",
    "   # Replace \" , \" with a single comma (in case extra spaces after commas)\n",
    "   row = row.replace(\" ,\", \",\")\n",
    "   row = row.replace(\"  \", \" \")\n",
    "   \n",
    "   # Check for \"water\", \"aqua\", or \"eau\" and replace first occurrence\n",
    "   if \"water\" in row.lower() or \"aqua\" in row.lower() or \"eau\" in row.lower():\n",
    "      row_list = row.split(\", \")\n",
    "      # Find the first occurrence of \"water\", \"aqua\", or \"eau\"\n",
    "      index = next((i for i, s in enumerate(row_list) if 'water' in s.lower() or \"aqua\" in s.lower() or \"eau\" in s.lower()), -1)\n",
    "      if index != -1:\n",
    "         # Replace the identified word with \"Water\"\n",
    "         row_list[index] = \"Water\"\n",
    "      row = \", \".join(row_list)\n",
    "   \n",
    "   return row\n",
    "\n",
    "# Apply the clean_ingredients function\n",
    "skincare_df['ingredients'] = skincare_df['ingredients'].apply(clean_ingredients)\n",
    "\n",
    "# Ensure the directory exists\n",
    "output_dir = os.path.dirname(processed_data_path)\n",
    "if not os.path.exists(output_dir):\n",
    "   os.makedirs(output_dir)\n",
    "# Save cleaned file\n",
    "skincare_df.to_csv(processed_data_path, index=False)"
   ]
  },
  {
   "cell_type": "markdown",
   "metadata": {},
   "source": [
    "## Clean and Filter Product Reviews"
   ]
  },
  {
   "cell_type": "code",
   "execution_count": 9,
   "metadata": {},
   "outputs": [
    {
     "name": "stderr",
     "output_type": "stream",
     "text": [
      "C:\\Users\\Ana Marija Pavičić\\AppData\\Local\\Temp\\ipykernel_11576\\566355813.py:12: DtypeWarning:\n",
      "\n",
      "Columns (1) have mixed types. Specify dtype option on import or set low_memory=False.\n",
      "\n"
     ]
    },
    {
     "name": "stdout",
     "output_type": "stream",
     "text": [
      "Processed and saved: processed_data/reviews_0-250.csv\n",
      "Processed and saved: processed_data/reviews_250-500.csv\n",
      "Processed and saved: processed_data/reviews_500-750.csv\n"
     ]
    },
    {
     "name": "stderr",
     "output_type": "stream",
     "text": [
      "C:\\Users\\Ana Marija Pavičić\\AppData\\Local\\Temp\\ipykernel_11576\\566355813.py:12: DtypeWarning:\n",
      "\n",
      "Columns (1) have mixed types. Specify dtype option on import or set low_memory=False.\n",
      "\n"
     ]
    },
    {
     "name": "stdout",
     "output_type": "stream",
     "text": [
      "Processed and saved: processed_data/reviews_750-1250.csv\n"
     ]
    },
    {
     "name": "stderr",
     "output_type": "stream",
     "text": [
      "C:\\Users\\Ana Marija Pavičić\\AppData\\Local\\Temp\\ipykernel_11576\\566355813.py:12: DtypeWarning:\n",
      "\n",
      "Columns (1) have mixed types. Specify dtype option on import or set low_memory=False.\n",
      "\n"
     ]
    },
    {
     "name": "stdout",
     "output_type": "stream",
     "text": [
      "Processed and saved: processed_data/reviews_1250-end.csv\n",
      "All files have been processed and saved.\n"
     ]
    }
   ],
   "source": [
    "# Convert product_id column to a set for efficient filtering\n",
    "product_ids = set(skincare_df['product_id'])\n",
    "\n",
    "def clean_reviews(raw_data_path, processed_data_path):\n",
    "    \"\"\"\n",
    "    Clean the reviews in the given CSV file by filtering based on the conditions.\n",
    "    - Filters rows where 'product_id' is in the skincare dataset.\n",
    "    - Keeps reviews with rating 5, 4, and only 3-star reviews if they have review text.\n",
    "    \"\"\"\n",
    "    try:\n",
    "        # Read the data\n",
    "        df = pd.read_csv(raw_data_path)\n",
    "\n",
    "        # Keep only the filtered skincare data\n",
    "        df = df[df['product_id'].isin(product_ids)]\n",
    "\n",
    "        # # Check for 3-star reviews with no text or empty text\n",
    "        # three_star_reviews = df[df['rating'] == 3]\n",
    "        # no_text_reviews = three_star_reviews[three_star_reviews['review_text'].isna() | (three_star_reviews['review_text'].str.strip() == '')]\n",
    "\n",
    "        # Keep reviews with rating 5, 4, or 3 (only keep 3-star reviews if they have review text)\n",
    "        df = df[\n",
    "            (df['rating'].isin((5, 4))) |\n",
    "            ((df['rating'] == 3) & df['review_text'].notna() & (df['review_text'].str.strip() != \"\"))  # Include 3-star reviews only if they have text\n",
    "        ]\n",
    "\n",
    "        # Ensure the output directory exists\n",
    "        output_dir = os.path.dirname(processed_data_path)\n",
    "        if not os.path.exists(output_dir):\n",
    "            os.makedirs(output_dir)\n",
    "        \n",
    "        # Save the cleaned file\n",
    "        df.to_csv(processed_data_path, index=False)\n",
    "        print(f\"Processed and saved: {processed_data_path}\")\n",
    "    \n",
    "    except Exception as e:\n",
    "        print(f\"Error processing {raw_data_path}: {e}\")\n",
    "\n",
    "# Apply the function to each review data file\n",
    "clean_reviews('data/reviews_0-250.csv', 'processed_data/reviews_0-250.csv')\n",
    "clean_reviews('data/reviews_250-500.csv', 'processed_data/reviews_250-500.csv')\n",
    "clean_reviews('data/reviews_500-750.csv', 'processed_data/reviews_500-750.csv')\n",
    "clean_reviews('data/reviews_750-1250.csv', 'processed_data/reviews_750-1250.csv')\n",
    "clean_reviews('data/reviews_1250-end.csv', 'processed_data/reviews_1250-end.csv')\n",
    "\n",
    "print(\"All files have been processed and saved.\")"
   ]
  },
  {
   "cell_type": "markdown",
   "metadata": {},
   "source": [
    "## Combining all reviews files into a single dataframe"
   ]
  },
  {
   "cell_type": "code",
   "execution_count": 10,
   "metadata": {},
   "outputs": [
    {
     "name": "stdout",
     "output_type": "stream",
     "text": [
      "Successfully added processed_data/reviews_0-250.csv\n",
      "Successfully added processed_data/reviews_250-500.csv\n",
      "Successfully added processed_data/reviews_500-750.csv\n",
      "Successfully added processed_data/reviews_750-1250.csv\n",
      "Successfully added processed_data/reviews_1250-end.csv\n",
      "All files have been combined and saved to: processed_data/combined_reviews.csv\n"
     ]
    }
   ],
   "source": [
    "# List of file paths for the processed reviews\n",
    "file_paths = [\n",
    "    'processed_data/reviews_0-250.csv',\n",
    "    'processed_data/reviews_250-500.csv',\n",
    "    'processed_data/reviews_500-750.csv',\n",
    "    'processed_data/reviews_750-1250.csv',\n",
    "    'processed_data/reviews_1250-end.csv'\n",
    "]\n",
    "\n",
    "# Combine all files into one DataFrame\n",
    "combined_reviews_df = pd.DataFrame()\n",
    "\n",
    "for file_path in file_paths:\n",
    "    try:\n",
    "        # Read each processed file with updated argument for handling bad lines\n",
    "        df = pd.read_csv(file_path, \n",
    "                         on_bad_lines='skip',  # Skip bad lines instead of using deprecated arguments\n",
    "                         encoding='utf-8',  # Ensure proper encoding\n",
    "                         engine='python')  # Use Python engine for more robust handling\n",
    "        \n",
    "        # Append it to the combined DataFrame\n",
    "        combined_reviews_df = pd.concat([combined_reviews_df, df], ignore_index=True)\n",
    "        print(f\"Successfully added {file_path}\")\n",
    "    except Exception as e:\n",
    "        print(f\"Error reading {file_path}: {e}\")\n",
    "\n",
    "# Save the combined DataFrame to a single CSV file\n",
    "output_combined_path = 'processed_data/combined_reviews.csv'\n",
    "combined_reviews_df.to_csv(output_combined_path, index=False)\n",
    "print(f\"All files have been combined and saved to: {output_combined_path}\")"
   ]
  },
  {
   "cell_type": "markdown",
   "metadata": {},
   "source": [
    "## Exploratory Data Analysis (EDA)"
   ]
  },
  {
   "cell_type": "markdown",
   "metadata": {},
   "source": [
    "### Overall data overview"
   ]
  },
  {
   "cell_type": "markdown",
   "metadata": {},
   "source": [
    "#### Skincare data"
   ]
  },
  {
   "cell_type": "code",
   "execution_count": 11,
   "metadata": {},
   "outputs": [
    {
     "name": "stdout",
     "output_type": "stream",
     "text": [
      "Skincare Data Overview:\n",
      "   product_id                                       product_name  brand_id  \\\n",
      "89    P439055               GENIUS Sleeping Collagen Moisturizer      6018   \n",
      "90    P421277                       GENIUS Liquid Collagen Serum      6018   \n",
      "92    P432045               GENIUS Liquid Collagen Lip Treatment      6018   \n",
      "93    P311143  SUBLIME DEFENSE Ultra Lightweight UV Defense F...      6018   \n",
      "94    P384537                   GENIUS Ultimate Anti-Aging Cream      6018   \n",
      "\n",
      "   brand_name  loves_count  rating  reviews           size variation_type  \\\n",
      "89   Algenist        33910  4.5413   1321.0    2 oz/ 60 mL           Size   \n",
      "90   Algenist        67870  4.0259   1159.0  1 oz  / 30 mL           Size   \n",
      "92   Algenist        44448  3.8721    649.0  .5 oz / 15 mL           Size   \n",
      "93   Algenist        27278  4.4134    508.0           1 oz           Size   \n",
      "94   Algenist        19733  4.2525    503.0    2 oz/ 60 mL           Size   \n",
      "\n",
      "   variation_value  ... online_only out_of_stock  sephora_exclusive  \\\n",
      "89     2 oz/ 60 mL  ...           0            0                  1   \n",
      "90   1 oz  / 30 mL  ...           0            0                  1   \n",
      "92   .5 oz / 15 mL  ...           0            0                  1   \n",
      "93            1 oz  ...           0            0                  0   \n",
      "94     2 oz/ 60 mL  ...           0            0                  0   \n",
      "\n",
      "                                           highlights  primary_category  \\\n",
      "89  Vegan, Loss of firmness, Collagen, Hypoallerge...          Skincare   \n",
      "90  Vegan, Loss of firmness, Collagen, Hypoallerge...          Skincare   \n",
      "92  Vegan, Loss of firmness, Plumping, Collagen, H...          Skincare   \n",
      "93  Vegan, Hypoallergenic, UV Protection, SPF, Dry...          Skincare   \n",
      "94  Vegan, Collagen, Hypoallergenic, Loss of firmn...          Skincare   \n",
      "\n",
      "        secondary_category  tertiary_category  child_count  child_max_price  \\\n",
      "89            Moisturizers       Moisturizers            0              NaN   \n",
      "90              Treatments        Face Serums            1             25.0   \n",
      "92  Lip Balms & Treatments                NaN            0              NaN   \n",
      "93               Sunscreen     Face Sunscreen            0              NaN   \n",
      "94            Moisturizers       Moisturizers            1             75.0   \n",
      "\n",
      "    child_min_price  \n",
      "89              NaN  \n",
      "90             25.0  \n",
      "92              NaN  \n",
      "93              NaN  \n",
      "94             75.0  \n",
      "\n",
      "[5 rows x 27 columns]\n"
     ]
    }
   ],
   "source": [
    "# Display the first few rows to get a sense of the data\n",
    "print(\"Skincare Data Overview:\")\n",
    "print(skincare_df.head())"
   ]
  },
  {
   "cell_type": "code",
   "execution_count": 12,
   "metadata": {},
   "outputs": [
    {
     "name": "stdout",
     "output_type": "stream",
     "text": [
      "\n",
      "Skincare Data Info:\n",
      "<class 'pandas.core.frame.DataFrame'>\n",
      "Index: 1583 entries, 89 to 8423\n",
      "Data columns (total 27 columns):\n",
      " #   Column              Non-Null Count  Dtype  \n",
      "---  ------              --------------  -----  \n",
      " 0   product_id          1583 non-null   object \n",
      " 1   product_name        1583 non-null   object \n",
      " 2   brand_id            1583 non-null   int64  \n",
      " 3   brand_name          1583 non-null   object \n",
      " 4   loves_count         1583 non-null   int64  \n",
      " 5   rating              1550 non-null   float64\n",
      " 6   reviews             1550 non-null   float64\n",
      " 7   size                1525 non-null   object \n",
      " 8   variation_type      1506 non-null   object \n",
      " 9   variation_value     1478 non-null   object \n",
      " 10  variation_desc      7 non-null      object \n",
      " 11  ingredients         1583 non-null   object \n",
      " 12  price_usd           1583 non-null   float64\n",
      " 13  value_price_usd     17 non-null     float64\n",
      " 14  sale_price_usd      17 non-null     float64\n",
      " 15  limited_edition     1583 non-null   int64  \n",
      " 16  new                 1583 non-null   int64  \n",
      " 17  online_only         1583 non-null   int64  \n",
      " 18  out_of_stock        1583 non-null   int64  \n",
      " 19  sephora_exclusive   1583 non-null   int64  \n",
      " 20  highlights          1583 non-null   object \n",
      " 21  primary_category    1583 non-null   object \n",
      " 22  secondary_category  1583 non-null   object \n",
      " 23  tertiary_category   1529 non-null   object \n",
      " 24  child_count         1583 non-null   int64  \n",
      " 25  child_max_price     340 non-null    float64\n",
      " 26  child_min_price     340 non-null    float64\n",
      "dtypes: float64(7), int64(8), object(12)\n",
      "memory usage: 346.3+ KB\n",
      "None\n"
     ]
    }
   ],
   "source": [
    "# Get general info \n",
    "print(\"\\nSkincare Data Info:\")\n",
    "print(skincare_df.info())"
   ]
  },
  {
   "cell_type": "code",
   "execution_count": 13,
   "metadata": {},
   "outputs": [
    {
     "name": "stdout",
     "output_type": "stream",
     "text": [
      "\n",
      "Skincare Data Statistics:\n",
      "          brand_id   loves_count       rating       reviews    price_usd  \\\n",
      "count  1583.000000  1.583000e+03  1550.000000   1550.000000  1583.000000   \n",
      "mean   5676.037903  3.286060e+04     4.291681    529.062581    61.408149   \n",
      "std    1421.601813  6.625197e+04     0.418085    936.350434    58.640613   \n",
      "min    1063.000000  0.000000e+00     1.000000      1.000000     3.000000   \n",
      "25%    5668.000000  4.284000e+03     4.095425     65.000000    30.000000   \n",
      "50%    6195.000000  1.191200e+04     4.363600    227.500000    46.000000   \n",
      "75%    6327.000000  3.440700e+04     4.569575    562.000000    71.000000   \n",
      "max    8017.000000  1.081315e+06     5.000000  16118.000000   495.000000   \n",
      "\n",
      "       value_price_usd  sale_price_usd  limited_edition          new  \\\n",
      "count        17.000000       17.000000      1583.000000  1583.000000   \n",
      "mean        199.176471       18.205882         0.007581     0.078964   \n",
      "std         184.000080       20.898609         0.086763     0.269768   \n",
      "min          35.000000        3.000000         0.000000     0.000000   \n",
      "25%          88.000000        7.000000         0.000000     0.000000   \n",
      "50%         120.000000       11.000000         0.000000     0.000000   \n",
      "75%         210.000000       19.000000         0.000000     0.000000   \n",
      "max         617.000000       85.000000         1.000000     1.000000   \n",
      "\n",
      "       online_only  out_of_stock  sephora_exclusive  child_count  \\\n",
      "count  1583.000000   1583.000000        1583.000000  1583.000000   \n",
      "mean      0.199621      0.034112           0.317751     0.365130   \n",
      "std       0.399842      0.181575           0.465749     0.993963   \n",
      "min       0.000000      0.000000           0.000000     0.000000   \n",
      "25%       0.000000      0.000000           0.000000     0.000000   \n",
      "50%       0.000000      0.000000           0.000000     0.000000   \n",
      "75%       0.000000      0.000000           1.000000     0.000000   \n",
      "max       1.000000      1.000000           1.000000    13.000000   \n",
      "\n",
      "       child_max_price  child_min_price  \n",
      "count       340.000000       340.000000  \n",
      "mean         60.255529        41.136412  \n",
      "std          72.324865        46.092970  \n",
      "min           3.000000         3.000000  \n",
      "25%          19.800000        17.875000  \n",
      "50%          35.000000        25.000000  \n",
      "75%          68.000000        46.000000  \n",
      "max         570.000000       365.000000  \n"
     ]
    }
   ],
   "source": [
    "# Describe numerical columns for basic statistics\n",
    "print(\"\\nSkincare Data Statistics:\")\n",
    "print(skincare_df.describe())"
   ]
  },
  {
   "cell_type": "markdown",
   "metadata": {},
   "source": [
    "#### Product Reviews Data"
   ]
  },
  {
   "cell_type": "code",
   "execution_count": 14,
   "metadata": {},
   "outputs": [
    {
     "name": "stdout",
     "output_type": "stream",
     "text": [
      "\n",
      "Review Data Overview:\n",
      "   Unnamed: 0    author_id  rating  is_recommended  helpfulness  \\\n",
      "0           0   1741593524       5             1.0          1.0   \n",
      "1           2   5061282401       5             1.0          NaN   \n",
      "2           3   6083038851       5             1.0          NaN   \n",
      "3           4  47056667835       5             1.0          NaN   \n",
      "4           5  42802569154       4             1.0          1.0   \n",
      "\n",
      "   total_feedback_count  total_neg_feedback_count  total_pos_feedback_count  \\\n",
      "0                     2                         0                         2   \n",
      "1                     0                         0                         0   \n",
      "2                     0                         0                         0   \n",
      "3                     0                         0                         0   \n",
      "4                     1                         0                         1   \n",
      "\n",
      "  submission_time                                        review_text  \\\n",
      "0      2023-02-01  I use this with the Nudestix “Citrus Clean Bal...   \n",
      "1      2023-03-21  My review title says it all! I get so excited ...   \n",
      "2      2023-03-20  I’ve always loved this formula for a long time...   \n",
      "3      2023-03-20  If you have dry cracked lips, this is a must h...   \n",
      "4      2023-03-19  The scent isn’t my favourite but it works grea...   \n",
      "\n",
      "                       review_title    skin_tone eye_color    skin_type  \\\n",
      "0  Taught me how to double cleanse!          NaN     brown          dry   \n",
      "1              New Favorite Routine        light     brown          dry   \n",
      "2   Can't go wrong with any of them          NaN     brown  combination   \n",
      "3                   A must have !!!        light     hazel  combination   \n",
      "4                            Great!  lightMedium     brown       normal   \n",
      "\n",
      "  hair_color product_id                                       product_name  \\\n",
      "0      black    P504322                     Gentle Hydra-Gel Face Cleanser   \n",
      "1     blonde    P420652  Lip Sleeping Mask Intense Hydration with Vitam...   \n",
      "2      black    P420652  Lip Sleeping Mask Intense Hydration with Vitam...   \n",
      "3        NaN    P420652  Lip Sleeping Mask Intense Hydration with Vitam...   \n",
      "4      brown    P420652  Lip Sleeping Mask Intense Hydration with Vitam...   \n",
      "\n",
      "  brand_name  price_usd  \n",
      "0   NUDESTIX       19.0  \n",
      "1    LANEIGE       24.0  \n",
      "2    LANEIGE       24.0  \n",
      "3    LANEIGE       24.0  \n",
      "4    LANEIGE       24.0  \n"
     ]
    }
   ],
   "source": [
    "# Display the first few rows to get a sense of the data\n",
    "print(\"\\nReview Data Overview:\")\n",
    "print(combined_reviews_df.head())"
   ]
  },
  {
   "cell_type": "code",
   "execution_count": 15,
   "metadata": {},
   "outputs": [
    {
     "name": "stdout",
     "output_type": "stream",
     "text": [
      "\n",
      "Review Data Info:\n",
      "<class 'pandas.core.frame.DataFrame'>\n",
      "RangeIndex: 739955 entries, 0 to 739954\n",
      "Data columns (total 19 columns):\n",
      " #   Column                    Non-Null Count   Dtype  \n",
      "---  ------                    --------------   -----  \n",
      " 0   Unnamed: 0                739955 non-null  int64  \n",
      " 1   author_id                 739955 non-null  object \n",
      " 2   rating                    739955 non-null  int64  \n",
      " 3   is_recommended            633266 non-null  float64\n",
      " 4   helpfulness               331066 non-null  float64\n",
      " 5   total_feedback_count      739955 non-null  int64  \n",
      " 6   total_neg_feedback_count  739955 non-null  int64  \n",
      " 7   total_pos_feedback_count  739955 non-null  int64  \n",
      " 8   submission_time           739955 non-null  object \n",
      " 9   review_text               739027 non-null  object \n",
      " 10  review_title              526439 non-null  object \n",
      " 11  skin_tone                 627748 non-null  object \n",
      " 12  eye_color                 606040 non-null  object \n",
      " 13  skin_type                 667830 non-null  object \n",
      " 14  hair_color                591269 non-null  object \n",
      " 15  product_id                739955 non-null  object \n",
      " 16  product_name              739955 non-null  object \n",
      " 17  brand_name                739955 non-null  object \n",
      " 18  price_usd                 739955 non-null  float64\n",
      "dtypes: float64(3), int64(5), object(11)\n",
      "memory usage: 107.3+ MB\n",
      "None\n"
     ]
    }
   ],
   "source": [
    "# Get general info \n",
    "print(\"\\nReview Data Info:\")\n",
    "print(combined_reviews_df.info())"
   ]
  },
  {
   "cell_type": "code",
   "execution_count": 16,
   "metadata": {},
   "outputs": [
    {
     "name": "stdout",
     "output_type": "stream",
     "text": [
      "\n",
      "Review Data Statistics:\n",
      "          Unnamed: 0         rating  is_recommended    helpfulness  \\\n",
      "count  739955.000000  739955.000000   633266.000000  331066.000000   \n",
      "mean   200664.227414       4.631782        0.938369       0.787738   \n",
      "std    177291.951540       0.629846        0.240485       0.317060   \n",
      "min         0.000000       3.000000        0.000000       0.000000   \n",
      "25%     54855.000000       4.000000        1.000000       0.666667   \n",
      "50%    131205.000000       5.000000        1.000000       1.000000   \n",
      "75%    344118.500000       5.000000        1.000000       1.000000   \n",
      "max    600987.000000       5.000000        1.000000       1.000000   \n",
      "\n",
      "       total_feedback_count  total_neg_feedback_count  \\\n",
      "count         739955.000000             739955.000000   \n",
      "mean               3.436651                  0.572193   \n",
      "std               21.561642                  3.871098   \n",
      "min                0.000000                  0.000000   \n",
      "25%                0.000000                  0.000000   \n",
      "50%                0.000000                  0.000000   \n",
      "75%                3.000000                  0.000000   \n",
      "max             5464.000000               1094.000000   \n",
      "\n",
      "       total_pos_feedback_count      price_usd  \n",
      "count             739955.000000  739955.000000  \n",
      "mean                   2.864458      52.432015  \n",
      "std                   19.158954      41.602120  \n",
      "min                    0.000000       3.000000  \n",
      "25%                    0.000000      30.000000  \n",
      "50%                    0.000000      44.000000  \n",
      "75%                    2.000000      65.000000  \n",
      "max                 5050.000000     449.000000  \n"
     ]
    }
   ],
   "source": [
    "# Describe numerical columns for basic statistics\n",
    "print(\"\\nReview Data Statistics:\")\n",
    "print(combined_reviews_df.describe())"
   ]
  },
  {
   "cell_type": "markdown",
   "metadata": {},
   "source": [
    "### Distribution of categorical and numerical features"
   ]
  },
  {
   "cell_type": "markdown",
   "metadata": {},
   "source": [
    "#### Skincare data"
   ]
  },
  {
   "cell_type": "code",
   "execution_count": 17,
   "metadata": {},
   "outputs": [
    {
     "name": "stdout",
     "output_type": "stream",
     "text": [
      "\n",
      "Skincare Secondary Categories Distribution:\n",
      "secondary_category\n",
      "Moisturizers              432\n",
      "Treatments                395\n",
      "Cleansers                 270\n",
      "Eye Care                  146\n",
      "Masks                     117\n",
      "Sunscreen                  80\n",
      "Lip Balms & Treatments     46\n",
      "Self Tanners               42\n",
      "Wellness                   34\n",
      "High Tech Tools            21\n",
      "Name: count, dtype: int64\n"
     ]
    },
    {
     "data": {
      "image/png": "[encoded data removed]",
      "text/plain": [
       "<Figure size 1000x600 with 1 Axes>"
      ]
     },
     "metadata": {},
     "output_type": "display_data"
    }
   ],
   "source": [
    "# Check distribution of secondary categories\n",
    "print(\"\\nSkincare Secondary Categories Distribution:\")\n",
    "secondary_category_counts = skincare_df['secondary_category'].value_counts().sort_values(ascending=False)\n",
    "print(secondary_category_counts)\n",
    "\n",
    "# Plot the distribution of secondary categories\n",
    "plt.figure(figsize=(10,6))\n",
    "sns.countplot(\n",
    "    y='secondary_category', \n",
    "    data=skincare_df, \n",
    "    order=secondary_category_counts.index  # Sort the plot by frequency\n",
    ")\n",
    "plt.title('Distribution of Secondary Categories')\n",
    "plt.show()"
   ]
  },
  {
   "cell_type": "code",
   "execution_count": 18,
   "metadata": {},
   "outputs": [
    {
     "name": "stdout",
     "output_type": "stream",
     "text": [
      "                Brand  Counts  Percent\n",
      "0  SEPHORA COLLECTION      56     3.54\n",
      "1        The Ordinary      39     2.46\n",
      "2      The INKEY List      37     2.34\n",
      "3      Paula's Choice      34     2.15\n",
      "4               fresh      32     2.02\n",
      "5   Peter Thomas Roth      31     1.96\n",
      "6   Dr. Barbara Sturm      31     1.96\n",
      "7            Shiseido      30     1.90\n",
      "8            Caudalie      30     1.90\n",
      "9  Kiehl's Since 1851      30     1.90\n"
     ]
    },
    {
     "data": {
      "image/png": "[encoded data removed]",
      "text/plain": [
       "<Figure size 800x600 with 1 Axes>"
      ]
     },
     "metadata": {},
     "output_type": "display_data"
    }
   ],
   "source": [
    "# Get the count and percentage of top brands\n",
    "brand_count = skincare_df['brand_name'].value_counts()\n",
    "brand_percentage = skincare_df['brand_name'].value_counts(normalize=True) * 100\n",
    "\n",
    "# Create a DataFrame for the top brands\n",
    "brand_df = pd.DataFrame({'Brand': brand_count.index, 'Counts': brand_count.values, 'Percent': np.round(brand_percentage.values, 2)})\n",
    "\n",
    "# Display the top 10 brands\n",
    "print(brand_df.head(10))\n",
    "\n",
    "# Plot the top 10 brands horizontally\n",
    "plt.figure(figsize=(8, 6))\n",
    "sns.barplot(x='Counts', y='Brand', data=brand_df.head(10))\n",
    "plt.xlabel('Count')\n",
    "plt.title('Top 10 Occurring Brands')\n",
    "plt.show()"
   ]
  },
  {
   "cell_type": "markdown",
   "metadata": {},
   "source": [
    "#### Product Reviews Data"
   ]
  },
  {
   "cell_type": "code",
   "execution_count": 19,
   "metadata": {},
   "outputs": [
    {
     "name": "stdout",
     "output_type": "stream",
     "text": [
      "\n",
      "Review Ratings Distribution:\n",
      "rating\n",
      "5    528193\n",
      "4    151059\n",
      "3     60703\n",
      "Name: count, dtype: int64\n"
     ]
    },
    {
     "data": {
      "image/png": "[encoded data removed]",
      "text/plain": [
       "<Figure size 800x600 with 1 Axes>"
      ]
     },
     "metadata": {},
     "output_type": "display_data"
    },
    {
     "data": {
      "image/png": "[encoded data removed]",
      "text/plain": [
       "<Figure size 1000x600 with 1 Axes>"
      ]
     },
     "metadata": {},
     "output_type": "display_data"
    }
   ],
   "source": [
    "# Review rating distribution\n",
    "print(\"\\nReview Ratings Distribution:\")\n",
    "print(combined_reviews_df['rating'].value_counts())\n",
    "\n",
    "# Plot the rating distribution\n",
    "plt.figure(figsize=(8,6))\n",
    "sns.countplot(x='rating', data=combined_reviews_df)\n",
    "plt.title('Distribution of Review Ratings')\n",
    "plt.show()\n",
    "\n",
    "# Review length (characters in review text)\n",
    "combined_reviews_df['review_length'] = combined_reviews_df['review_text'].apply(lambda x: len(str(x)))\n",
    "\n",
    "# Plot distribution of review lengths\n",
    "plt.figure(figsize=(10,6))\n",
    "sns.histplot(combined_reviews_df['review_length'], bins=50, kde=True)\n",
    "plt.title('Distribution of Review Lengths')\n",
    "plt.show()"
   ]
  }
 ],
 "metadata": {
  "kernelspec": {
   "display_name": "ds",
   "language": "python",
   "name": "python3"
  },
  "language_info": {
   "codemirror_mode": {
    "name": "ipython",
    "version": 3
   },
   "file_extension": ".py",
   "mimetype": "text/x-python",
   "name": "python",
   "nbconvert_exporter": "python",
   "pygments_lexer": "ipython3",
   "version": "3.12.7"
  }
 },
 "nbformat": 4,
 "nbformat_minor": 2
}
