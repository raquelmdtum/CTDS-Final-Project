{
 "cells": [
  {
   "cell_type": "markdown",
   "metadata": {},
   "source": [
    "# Load imports"
   ]
  },
  {
   "cell_type": "code",
   "execution_count": null,
   "metadata": {},
   "outputs": [],
   "source": [
    "import pandas as pd\n",
    "import numpy as np\n",
    "\n",
    "from sklearn.feature_extraction.text import TfidfVectorizer\n",
    "from sklearn.metrics.pairwise import cosine_similarity"
   ]
  },
  {
   "cell_type": "markdown",
   "metadata": {},
   "source": [
    "# Load data"
   ]
  },
  {
   "cell_type": "code",
   "execution_count": 2,
   "metadata": {},
   "outputs": [
    {
     "data": {
      "text/plain": [
       "Index(['product_id', 'product_name', 'brand_id', 'brand_name', 'loves_count',\n",
       "       'rating', 'reviews', 'size', 'variation_type', 'variation_value',\n",
       "       'variation_desc', 'ingredients', 'price_usd', 'value_price_usd',\n",
       "       'sale_price_usd', 'limited_edition', 'new', 'online_only',\n",
       "       'out_of_stock', 'sephora_exclusive', 'highlights', 'primary_category',\n",
       "       'secondary_category', 'tertiary_category', 'child_count',\n",
       "       'child_max_price', 'child_min_price'],\n",
       "      dtype='object')"
      ]
     },
     "execution_count": 2,
     "metadata": {},
     "output_type": "execute_result"
    }
   ],
   "source": [
    "products = pd.read_csv('data/skincare.csv')\n",
    "products.columns"
   ]
  },
  {
   "cell_type": "markdown",
   "metadata": {},
   "source": [
    "# Preprocessing"
   ]
  },
  {
   "cell_type": "markdown",
   "metadata": {},
   "source": [
    "### Preprocessing Ingredients Attempt #1"
   ]
  },
  {
   "cell_type": "code",
   "execution_count": 3,
   "metadata": {},
   "outputs": [],
   "source": [
    "# Preprocess ingredient lists to get list of strings instead of a singular string\n",
    "preprocess_1 = lambda x: x.replace(\".'\", \",\").split(\",\")[1:-1]\n",
    "ingredients_preprocessed_1 = [preprocess_1(ingredients) for ingredients in products['ingredients']]"
   ]
  },
  {
   "cell_type": "markdown",
   "metadata": {},
   "source": [
    "### Preprocessing Ingredients Attempt #2"
   ]
  },
  {
   "cell_type": "code",
   "execution_count": 4,
   "metadata": {},
   "outputs": [],
   "source": [
    "# Preprocess ingredient lists to string per product\n",
    "preprocess_2 = lambda x: x.split(\"'\")[1:-1][0]\n",
    "ingredients_preprocessed_2 = [preprocess_2(ingredients) for ingredients in products['ingredients']]"
   ]
  },
  {
   "cell_type": "code",
   "execution_count": 5,
   "metadata": {},
   "outputs": [
    {
     "data": {
      "text/plain": [
       "True"
      ]
     },
     "execution_count": 5,
     "metadata": {},
     "output_type": "execute_result"
    }
   ],
   "source": [
    "# Check to make sure no information was lost\n",
    "len(ingredients_preprocessed_2) == len(products['ingredients'])"
   ]
  },
  {
   "cell_type": "code",
   "execution_count": 6,
   "metadata": {},
   "outputs": [],
   "source": [
    "# Add preprocessed ingredients to dataframe\n",
    "products['ingredients_preprocessed'] = ingredients_preprocessed_2"
   ]
  },
  {
   "cell_type": "markdown",
   "metadata": {},
   "source": [
    "### TODO: Dealing with gift sets"
   ]
  },
  {
   "cell_type": "code",
   "execution_count": 7,
   "metadata": {},
   "outputs": [
    {
     "data": {
      "text/plain": [
       "\"['Rose Deep Hydration Toner:', 'Aqua (Water), Glycerin, Propanediol, 1,2-Hexanediol, Polyglycerin-3, Rosa Centifolia Flower, Rosa Damascena Flower Water, Rosa Damascena Extract, Rosa Multiflora Fruit Extract, Rosa Damascena Flower Extract, Angelica Keiskei Extract, Rosa Damascena Flower Oil, Butylene Glycol, Sodium Citrate, Citric Acid, Xanthan Gum, Sodium Hyaluronate, Caprylyl Glycol, Chlorphenesin, Sodium Benzoate, Potassium Sorbate, Citronellol, Geraniol.', 'Rose Deep Hydration Oil-Infused Serum:', 'Aqua (Water), Rosa Damascena Flower Water, Coco-Caprylate/Caprate, C9-12 Alkane, Propanediol, Ethylhexyl Palmitate, Pentylene Glycol, Glycerin, Squalane, Rosa Damascena Flower Extract, Rosa Damascena Extract, Camelina Sativa Seed Oil, Rosa Rubiginosa Seed Oil, Cucumis Sativus (Cucumber) Fruit Extract, Rosa Damascena Flower Oil, Tocopherol, Sodium Citrate, Sodium Chloride, Ethylhexylglycerin, Xanthan Gum, Citric Acid, Caprylic/Capric Tri-glyceride, Sorbitan Sesquioleate, 1,2- Hexanediol, Caprylyl Glycol, Sodium Benzoate, Potassium Sorbate, Citronellol, Geraniol.', 'Rose Deep Hydration Moisturizer:', 'Aqua (Water), Glycerin, C15-19 Alkane, Butylene Glycol, Propanediol, Isostearyl Isostearate, Hexyl Laurate, Pentylene Glycol, 1,2 Hexanediol, Behenyl Alcohol, Steareth-2, Prunus Domestica Seed Oil, Rosa Damascena Flower Water, Rosa Damascena Extract, Rosa Damascena Flower Extract, Rosa Damascena Flower Oil, Cucumis Sativus (Cucumber) Fruit Extract, Angelica Keiskei Extract, Sodium Hyaluronate, Tocopheryl Acetate, Silica, Dimethicone, Ammonium Acryloyldimethyltaurate/VP Copolymer, Steareth-21, Hydroxyethyl Acrylate/Sodium Acryloyldimethyl Taurate Copolymer, Squalane, Acrylates/C10-30 Alkyl Acrylate Crosspolymer, Tromethamine, Xanthan Gum, Dimethiconol, Polysorbate 60, Algin, Pentaerythrityl Tetra-Di-T-Butyl Hydroxyhydrocinnamate, Sorbitan Isostearate, Trisodium Ethylenediamine Disuccinate, Acacia Senegal Gum, Serine, Caramel, Caprylyl Glycol, Citric Acid, Sodium Hydroxide, Chlorphenesin, Sodium Benzoate, Potassium Sorbate, Citronellol, Geraniol.', 'Soy pH-Balanced Hydrating Face Wash:', 'Aqua (Water), Coco-Glucoside, Butylene Glycol, Glycerin, Propanediol, Xanthan Gum, 1,2-Hexanediol, Polyglyceryl-10 Laurate, Centaurea Cyanus Flower Water, Cucumis Sativus (Cucumber) Fruit Extract, Helianthus Annuus (Sunflower) Seed Oil, Borago Officinalis Seed Oil, Hydrolyzed Soy Protein, Rosa Damascena Extract, Rosa Damascena Flower Water, Aloe Barbadensis Leaf Juice, Panax Ginseng Root Extract, Malva Sylvestris (Mallow) Flower Extract, Rosa Damascena Flower Oil, Tocopherol, Caprylic/Capric Triglyceride, Caprylyl Glycol, Hydrolyzed Jojoba Esters, Silica, Citric Acid, Pentylene Glycol, Caramel, Sodium Hydroxide, Sodium Benzoate, Potassium Sorbate.']\""
      ]
     },
     "execution_count": 7,
     "metadata": {},
     "output_type": "execute_result"
    }
   ],
   "source": [
    "# Problem with gift sets\n",
    "products[products['secondary_category'] == 'Value & Gift Sets'].iloc[55]['ingredients']"
   ]
  },
  {
   "cell_type": "code",
   "execution_count": 8,
   "metadata": {},
   "outputs": [
    {
     "data": {
      "text/plain": [
       "1762"
      ]
     },
     "execution_count": 8,
     "metadata": {},
     "output_type": "execute_result"
    }
   ],
   "source": [
    "# If we remove gift sets, the number of rows left are ...\n",
    "len(products[~(products['secondary_category'] == 'Value & Gift Sets')])"
   ]
  },
  {
   "cell_type": "markdown",
   "metadata": {},
   "source": [
    "# Similarity scores using TF-IDF"
   ]
  },
  {
   "cell_type": "code",
   "execution_count": 9,
   "metadata": {},
   "outputs": [],
   "source": [
    "# Creating a TfidfVectorizer object\n",
    "vectorizer = TfidfVectorizer()"
   ]
  },
  {
   "cell_type": "markdown",
   "metadata": {},
   "source": [
    "### Cosine Similarity"
   ]
  },
  {
   "cell_type": "code",
   "execution_count": 10,
   "metadata": {},
   "outputs": [],
   "source": [
    "# Creating a list of products and their ingredients\n",
    "product_ingredients = products[[\"product_name\",\"ingredients_preprocessed\"]][products.ingredients_preprocessed.notnull()]\n",
    "ingredients = product_ingredients[\"ingredients_preprocessed\"]"
   ]
  },
  {
   "cell_type": "code",
   "execution_count": 11,
   "metadata": {},
   "outputs": [],
   "source": [
    "# Vectorize the product ingredients\n",
    "tfidf_matrix_ingredients = vectorizer.fit_transform(ingredients)"
   ]
  },
  {
   "cell_type": "code",
   "execution_count": 12,
   "metadata": {},
   "outputs": [],
   "source": [
    "# Compute pairwise cosine similarity\n",
    "cosine_similarity_matrix = cosine_similarity(tfidf_matrix_ingredients, tfidf_matrix_ingredients)"
   ]
  },
  {
   "cell_type": "code",
   "execution_count": 13,
   "metadata": {},
   "outputs": [],
   "source": [
    "# Create dataframe for similarity matrix with product names\n",
    "cosine_similarity_scores = pd.DataFrame(cosine_similarity_matrix,index=product_ingredients.product_name,columns=product_ingredients.product_name)"
   ]
  },
  {
   "cell_type": "markdown",
   "metadata": {},
   "source": [
    "### Jaccard similarity"
   ]
  },
  {
   "cell_type": "code",
   "execution_count": 14,
   "metadata": {},
   "outputs": [],
   "source": [
    "# Function to calculate jaccard similarity\n",
    "def jaccard_similarity(set_a, set_b):\n",
    "\n",
    "   intersection = len(set_a.intersection(set_b))\n",
    "   union = len(set_a.union(set_b))\n",
    "   \n",
    "   return intersection / union if union != 0 else 0.0"
   ]
  },
  {
   "cell_type": "code",
   "execution_count": 15,
   "metadata": {},
   "outputs": [],
   "source": [
    "def similarity_search(df, token_list):\n",
    "\n",
    "   # Convert the token list to a set\n",
    "   token_set = set(token_list)\n",
    "   \n",
    "   # List to store the similarity scores\n",
    "   similarity_scores = []\n",
    "   \n",
    "   # Iterate over the rows of the DataFrame\n",
    "   for index, row in df.iterrows():\n",
    "\n",
    "      product_id = row['product_id']\n",
    "      title = row['product_name']\n",
    "\n",
    "      # Convert the tokens for this ID to a set (assumed to be a string)\n",
    "      id_token_set = set(row['ingredients_preprocessed'].split(\", \"))\n",
    "      \n",
    "      # Calculate Jaccard similarity\n",
    "      similarity_score = jaccard_similarity(id_token_set, token_set)\n",
    "      \n",
    "      # Append the result as a tuple (id, score)\n",
    "      similarity_scores.append((title, similarity_score))\n",
    "   \n",
    "   # Convert the list of similarity scores to a DataFrame\n",
    "   similarity_df = pd.DataFrame(similarity_scores, columns=['product_name', 'similarity_score'])\n",
    "   \n",
    "   # Sort the DataFrame by the 'similarity_score' column in descending order\n",
    "   similarity_df_sorted = similarity_df.sort_values(by='similarity_score', ascending=False).reset_index(drop=True)\n",
    "   \n",
    "   return similarity_df_sorted"
   ]
  },
  {
   "cell_type": "markdown",
   "metadata": {},
   "source": [
    "### TODO: Minhashing"
   ]
  },
  {
   "cell_type": "markdown",
   "metadata": {},
   "source": [
    "# Finding similarity scores for a random product"
   ]
  },
  {
   "cell_type": "code",
   "execution_count": 16,
   "metadata": {},
   "outputs": [],
   "source": [
    "# Index and get a random product in the dataset \n",
    "rand_int = np.random.randint(0, products.shape[0]-1)\n",
    "input_product_id = products.product_id.values[rand_int]\n",
    "input_product_name = products[products[\"product_id\"] == input_product_id][\"product_name\"].tolist()[0]"
   ]
  },
  {
   "cell_type": "code",
   "execution_count": 17,
   "metadata": {},
   "outputs": [
    {
     "name": "stdout",
     "output_type": "stream",
     "text": [
      "Finding similar products for: \tMini The Renewal Oil\n"
     ]
    }
   ],
   "source": [
    "print(f\"Finding similar products for: \\t{input_product_name}\")"
   ]
  },
  {
   "cell_type": "markdown",
   "metadata": {},
   "source": [
    "##### Cosine similarity"
   ]
  },
  {
   "cell_type": "code",
   "execution_count": 18,
   "metadata": {},
   "outputs": [],
   "source": [
    "# Create a dictionary to create a dataframe to easily index products\n",
    "similar_products = cosine_similarity_scores.columns\n",
    "cosine_similarity_scores_of_product = cosine_similarity_scores[cosine_similarity_scores.columns==input_product_name].values\n",
    "\n",
    "scores_dict = {\"Product\": similar_products.values, \"Score\": cosine_similarity_scores_of_product[0]}\n",
    "\n",
    "# Sorted products according to their similarity score\n",
    "cosine_similarity_scores_sorted = pd.DataFrame.from_dict(scores_dict).sort_values(\"Score\", ascending=False).reset_index().drop(columns=\"index\")"
   ]
  },
  {
   "cell_type": "code",
   "execution_count": 19,
   "metadata": {},
   "outputs": [
    {
     "data": {
      "text/html": [
       "<div>\n",
       "<style scoped>\n",
       "    .dataframe tbody tr th:only-of-type {\n",
       "        vertical-align: middle;\n",
       "    }\n",
       "\n",
       "    .dataframe tbody tr th {\n",
       "        vertical-align: top;\n",
       "    }\n",
       "\n",
       "    .dataframe thead th {\n",
       "        text-align: right;\n",
       "    }\n",
       "</style>\n",
       "<table border=\"1\" class=\"dataframe\">\n",
       "  <thead>\n",
       "    <tr style=\"text-align: right;\">\n",
       "      <th></th>\n",
       "      <th>Product</th>\n",
       "      <th>Score</th>\n",
       "    </tr>\n",
       "  </thead>\n",
       "  <tbody>\n",
       "    <tr>\n",
       "      <th>1</th>\n",
       "      <td>The Renewal Oil</td>\n",
       "      <td>0.992454</td>\n",
       "    </tr>\n",
       "    <tr>\n",
       "      <th>2</th>\n",
       "      <td>The Hydrating Infused Emulsion</td>\n",
       "      <td>0.665959</td>\n",
       "    </tr>\n",
       "    <tr>\n",
       "      <th>3</th>\n",
       "      <td>The Revitalizing Hydrating Serum</td>\n",
       "      <td>0.658235</td>\n",
       "    </tr>\n",
       "    <tr>\n",
       "      <th>4</th>\n",
       "      <td>The Moisturizing Matte Lotion</td>\n",
       "      <td>0.655423</td>\n",
       "    </tr>\n",
       "    <tr>\n",
       "      <th>5</th>\n",
       "      <td>The Moisturizing Cool Gel Cream</td>\n",
       "      <td>0.634187</td>\n",
       "    </tr>\n",
       "    <tr>\n",
       "      <th>6</th>\n",
       "      <td>Mini The Moisturizing Cool Gel Cream</td>\n",
       "      <td>0.634187</td>\n",
       "    </tr>\n",
       "    <tr>\n",
       "      <th>7</th>\n",
       "      <td>The Concentrate Serum</td>\n",
       "      <td>0.613455</td>\n",
       "    </tr>\n",
       "    <tr>\n",
       "      <th>8</th>\n",
       "      <td>Mini The Concentrate Serum</td>\n",
       "      <td>0.613455</td>\n",
       "    </tr>\n",
       "    <tr>\n",
       "      <th>9</th>\n",
       "      <td>The Moisturizing Soft Lotion</td>\n",
       "      <td>0.610100</td>\n",
       "    </tr>\n",
       "    <tr>\n",
       "      <th>10</th>\n",
       "      <td>The Eye Concentrate Cream</td>\n",
       "      <td>0.609183</td>\n",
       "    </tr>\n",
       "  </tbody>\n",
       "</table>\n",
       "</div>"
      ],
      "text/plain": [
       "                                 Product     Score\n",
       "1                        The Renewal Oil  0.992454\n",
       "2         The Hydrating Infused Emulsion  0.665959\n",
       "3       The Revitalizing Hydrating Serum  0.658235\n",
       "4          The Moisturizing Matte Lotion  0.655423\n",
       "5        The Moisturizing Cool Gel Cream  0.634187\n",
       "6   Mini The Moisturizing Cool Gel Cream  0.634187\n",
       "7                  The Concentrate Serum  0.613455\n",
       "8             Mini The Concentrate Serum  0.613455\n",
       "9           The Moisturizing Soft Lotion  0.610100\n",
       "10             The Eye Concentrate Cream  0.609183"
      ]
     },
     "execution_count": 19,
     "metadata": {},
     "output_type": "execute_result"
    }
   ],
   "source": [
    "# Top 10 products most similar to input product using cosine similarity\n",
    "cosine_similarity_scores_sorted[1:11]"
   ]
  },
  {
   "cell_type": "markdown",
   "metadata": {},
   "source": [
    "##### Jaccard similarity"
   ]
  },
  {
   "cell_type": "code",
   "execution_count": 20,
   "metadata": {},
   "outputs": [],
   "source": [
    "# Get the product category and ingredients\n",
    "token_list = products[products.product_id == input_product_id].ingredients_preprocessed.tolist()[0].split(\", \")\n",
    "\n",
    "# Remove the product being searched for\n",
    "category_df = products[products['product_id'] != input_product_id][['product_id','product_name','ingredients_preprocessed']]\n",
    "\n",
    "# Perform similarity search using Jaccard Similarity\n",
    "jaccard_similarity_scores_sorted = similarity_search(category_df, token_list)"
   ]
  },
  {
   "cell_type": "code",
   "execution_count": 21,
   "metadata": {},
   "outputs": [
    {
     "data": {
      "text/html": [
       "<div>\n",
       "<style scoped>\n",
       "    .dataframe tbody tr th:only-of-type {\n",
       "        vertical-align: middle;\n",
       "    }\n",
       "\n",
       "    .dataframe tbody tr th {\n",
       "        vertical-align: top;\n",
       "    }\n",
       "\n",
       "    .dataframe thead th {\n",
       "        text-align: right;\n",
       "    }\n",
       "</style>\n",
       "<table border=\"1\" class=\"dataframe\">\n",
       "  <thead>\n",
       "    <tr style=\"text-align: right;\">\n",
       "      <th></th>\n",
       "      <th>product_name</th>\n",
       "      <th>similarity_score</th>\n",
       "    </tr>\n",
       "  </thead>\n",
       "  <tbody>\n",
       "    <tr>\n",
       "      <th>0</th>\n",
       "      <td>The Renewal Oil</td>\n",
       "      <td>0.842105</td>\n",
       "    </tr>\n",
       "    <tr>\n",
       "      <th>1</th>\n",
       "      <td>The Moisturizing Matte Lotion</td>\n",
       "      <td>0.411765</td>\n",
       "    </tr>\n",
       "    <tr>\n",
       "      <th>2</th>\n",
       "      <td>Mini The Moisturizing Cool Gel Cream</td>\n",
       "      <td>0.373626</td>\n",
       "    </tr>\n",
       "    <tr>\n",
       "      <th>3</th>\n",
       "      <td>The Revitalizing Hydrating Serum</td>\n",
       "      <td>0.363636</td>\n",
       "    </tr>\n",
       "    <tr>\n",
       "      <th>4</th>\n",
       "      <td>The Moisturizing Cool Gel Cream</td>\n",
       "      <td>0.358696</td>\n",
       "    </tr>\n",
       "    <tr>\n",
       "      <th>5</th>\n",
       "      <td>The Hydrating Infused Emulsion</td>\n",
       "      <td>0.354167</td>\n",
       "    </tr>\n",
       "    <tr>\n",
       "      <th>6</th>\n",
       "      <td>The Moisturizing Soft Lotion</td>\n",
       "      <td>0.351852</td>\n",
       "    </tr>\n",
       "    <tr>\n",
       "      <th>7</th>\n",
       "      <td>The Moisturizing Soft Cream Moisturizer</td>\n",
       "      <td>0.344828</td>\n",
       "    </tr>\n",
       "    <tr>\n",
       "      <th>8</th>\n",
       "      <td>The Eye Concentrate Cream</td>\n",
       "      <td>0.295082</td>\n",
       "    </tr>\n",
       "    <tr>\n",
       "      <th>9</th>\n",
       "      <td>Mini The Treatment Lotion</td>\n",
       "      <td>0.284404</td>\n",
       "    </tr>\n",
       "  </tbody>\n",
       "</table>\n",
       "</div>"
      ],
      "text/plain": [
       "                              product_name  similarity_score\n",
       "0                          The Renewal Oil          0.842105\n",
       "1            The Moisturizing Matte Lotion          0.411765\n",
       "2     Mini The Moisturizing Cool Gel Cream          0.373626\n",
       "3         The Revitalizing Hydrating Serum          0.363636\n",
       "4          The Moisturizing Cool Gel Cream          0.358696\n",
       "5           The Hydrating Infused Emulsion          0.354167\n",
       "6             The Moisturizing Soft Lotion          0.351852\n",
       "7  The Moisturizing Soft Cream Moisturizer          0.344828\n",
       "8                The Eye Concentrate Cream          0.295082\n",
       "9                Mini The Treatment Lotion          0.284404"
      ]
     },
     "execution_count": 21,
     "metadata": {},
     "output_type": "execute_result"
    }
   ],
   "source": [
    "# Top 10 products most similar to input product using jaccard similarity\n",
    "jaccard_similarity_scores_sorted[:10]"
   ]
  },
  {
   "cell_type": "markdown",
   "metadata": {},
   "source": [
    "### TODO: Deal with products having multiple sizes"
   ]
  },
  {
   "cell_type": "markdown",
   "metadata": {},
   "source": []
  }
 ],
 "metadata": {
  "kernelspec": {
   "display_name": "ds",
   "language": "python",
   "name": "python3"
  },
  "language_info": {
   "codemirror_mode": {
    "name": "ipython",
    "version": 3
   },
   "file_extension": ".py",
   "mimetype": "text/x-python",
   "name": "python",
   "nbconvert_exporter": "python",
   "pygments_lexer": "ipython3",
   "version": "3.11.10"
  }
 },
 "nbformat": 4,
 "nbformat_minor": 2
}
