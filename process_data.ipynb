{
 "cells": [
  {
   "cell_type": "markdown",
   "metadata": {},
   "source": [
    "# Process product_info.cvs"
   ]
  },
  {
   "cell_type": "code",
   "execution_count": 11,
   "metadata": {},
   "outputs": [
    {
     "name": "stdout",
     "output_type": "stream",
     "text": [
      "Skin care data size 2420\n",
      "Skin care data size after removing empty highlights 2003\n",
      "Skin care data size after removing empty ingredients 1927\n",
      "Skin care data size after removing empty secondary_category 1927\n",
      "Skin care data size after removing 'Mini Size' secondary_category 1824\n",
      "Skin care data size after removing 'Value & Gift Sets' secondary_category 1659\n"
     ]
    }
   ],
   "source": [
    "import pandas as pd\n",
    "import os\n",
    "\n",
    "row_data_directroy = 'data'\n",
    "row_data_path = 'data/product_info.csv'\n",
    "processed_data_directory = 'processed_data'\n",
    "processed_data_path = processed_data_directory + '/skincare.csv'\n",
    "\n",
    "# read all products inf0\n",
    "df = pd.read_csv(row_data_path)\n",
    "\n",
    "# Filter the DataFrame for rows where 'primary_category' is 'Skincare'\n",
    "skincare_df = df[df['primary_category'] == 'Skincare']\n",
    "print(\"Skin care data size\", len(skincare_df))\n",
    "\n",
    "# remove rows where highlight are non existent\n",
    "skincare_df = skincare_df[skincare_df['highlights'].notna() & (skincare_df['highlights'] != '')]\n",
    "print(\"Skin care data size after removing empty highlights\",len(skincare_df))\n",
    "\n",
    "# remove rows where ingredients are non existent\n",
    "skincare_df = skincare_df[skincare_df['ingredients'].notna() & (skincare_df['ingredients'] != '')]\n",
    "print(\"Skin care data size after removing empty ingredients\",len(skincare_df))\n",
    "\n",
    "# remove where the secondary_category is empty\n",
    "skincare_df = skincare_df[skincare_df['secondary_category'].notna() & (skincare_df['secondary_category'] != '')]\n",
    "print(\"Skin care data size after removing empty secondary_category\",len(skincare_df))\n",
    "\n",
    "# remove 'Mini Size' from data\n",
    "skincare_df = skincare_df[skincare_df['secondary_category'] != 'Mini Size']\n",
    "print(\"Skin care data size after removing 'Mini Size' secondary_category\",len(skincare_df))\n",
    "\n",
    "# remove 'Value & Gift Sets' from data\n",
    "skincare_df = skincare_df[skincare_df['secondary_category'] != 'Value & Gift Sets']\n",
    "print(\"Skin care data size after removing 'Value & Gift Sets' secondary_category\",len(skincare_df))\n",
    "\n",
    "\n",
    "# clean highlight column\n",
    "highlights = skincare_df['highlights']\n",
    "highlights = [h.replace(\"[\", \"\").replace(\"]\", \"\").replace(\"'\", \"\").replace(\"Best for \", \"\").replace(\"Good for: \", \"\").replace(\" Skin\", \"\").replace(\"/\", \", \") for h in highlights]\n",
    "skincare_df['highlights'] = highlights\n",
    "\n",
    "# clean ingredients column\n",
    "import re\n",
    "\n",
    "# Function to clean each row\n",
    "def clean_ingredients(row):\n",
    "   # Step 1: Replace unwanted characters\n",
    "   row = row.replace(\"[\", \"\").replace(\"]\", \"\").replace(\"'\", \"\").replace(\" (Vegan)*\", \"\").replace(\".\", \"\")\n",
    "   \n",
    "   # Step 2: Remove text inside parentheses\n",
    "   row = re.sub(r'\\([^)]*\\)', '', row)\n",
    "   \n",
    "   # Step 3: Replace \" , \" with a single comma (in case extra spaces after commas)\n",
    "   row = row.replace(\" ,\", \",\")\n",
    "   \n",
    "   # Step 4: Check for \"water\", \"aqua\", or \"eau\" and replace first occurrence\n",
    "   if \"water\" in row.lower() or \"aqua\" in row.lower() or \"eau\" in row.lower():\n",
    "      row_list = row.split(\", \")\n",
    "      # Find the first occurrence of \"water\", \"aqua\", or \"eau\"\n",
    "      index = next((i for i, s in enumerate(row_list) if 'water' in s.lower() or \"aqua\" in s.lower() or \"eau\" in s.lower()), -1)\n",
    "      if index != -1:\n",
    "         # Replace the identified word with \"Water\"\n",
    "         row_list[index] = \"Water\"\n",
    "      row = \", \".join(row_list)\n",
    "   \n",
    "   return row\n",
    "\n",
    "skincare_df['ingredients'] = skincare_df['ingredients'].apply(clean_ingredients)\n",
    "\n",
    "# Ensure the directory exists\n",
    "output_dir = os.path.dirname(processed_data_path)\n",
    "if not os.path.exists(output_dir):\n",
    "   os.makedirs(output_dir)\n",
    "# save cleaned file\n",
    "skincare_df.to_csv(processed_data_path, index=False)"
   ]
  },
  {
   "cell_type": "markdown",
   "metadata": {},
   "source": [
    "# Process reviews"
   ]
  },
  {
   "cell_type": "code",
   "execution_count": 23,
   "metadata": {},
   "outputs": [
    {
     "name": "stderr",
     "output_type": "stream",
     "text": [
      "C:\\Users\\Ana Marija Pavičić\\AppData\\Local\\Temp\\ipykernel_21284\\821104202.py:7: DtypeWarning: Columns (1) have mixed types. Specify dtype option on import or set low_memory=False.\n",
      "  df = pd.read_csv(row_data_path)\n",
      "C:\\Users\\Ana Marija Pavičić\\AppData\\Local\\Temp\\ipykernel_21284\\821104202.py:7: DtypeWarning: Columns (1) have mixed types. Specify dtype option on import or set low_memory=False.\n",
      "  df = pd.read_csv(row_data_path)\n",
      "C:\\Users\\Ana Marija Pavičić\\AppData\\Local\\Temp\\ipykernel_21284\\821104202.py:7: DtypeWarning: Columns (1) have mixed types. Specify dtype option on import or set low_memory=False.\n",
      "  df = pd.read_csv(row_data_path)\n"
     ]
    }
   ],
   "source": [
    "product_ids = skincare_df['product_id']\n",
    "\n",
    "path = 'data/reviews_0-250.csv'\n",
    "\n",
    "def clean_reviews(row_data_path, processed_data_path):\n",
    "   # read the data\n",
    "   df = pd.read_csv(row_data_path)\n",
    "\n",
    "   # keep only the skincare data\n",
    "   df = df[df['product_id'].isin(product_ids)]\n",
    "\n",
    "   # keep only reviews with rating 5,4 or with rating 3 and review text\n",
    "   df = df[(df['rating'].isin((5, 4))) | ((df['rating'] == 3) & (df['review_text'] != ''))]\n",
    "   \n",
    "   # Ensure the directory exists\n",
    "   output_dir = os.path.dirname(processed_data_path)\n",
    "   if not os.path.exists(output_dir):\n",
    "      os.makedirs(output_dir)\n",
    "      \n",
    "   # save cleaned file\n",
    "   df.to_csv(processed_data_path, index=False)\n",
    "\n",
    "clean_reviews('data/reviews_0-250.csv', 'processed_data/reviews_0-250.csv')\n",
    "clean_reviews('data/reviews_250-500.csv', 'processed_data/reviews_250-500.csv')\n",
    "clean_reviews('data/reviews_500-750.csv', 'processed_data/reviews_500-750.csv')\n",
    "clean_reviews('data/reviews_750-1250.csv', 'processed_data/reviews_750-1250.csv')\n",
    "clean_reviews('data/reviews_1250-end.csv', 'processed_data/reviews_1250-end.csv')\n"
   ]
  }
 ],
 "metadata": {
  "kernelspec": {
   "display_name": "ds",
   "language": "python",
   "name": "python3"
  },
  "language_info": {
   "codemirror_mode": {
    "name": "ipython",
    "version": 3
   },
   "file_extension": ".py",
   "mimetype": "text/x-python",
   "name": "python",
   "nbconvert_exporter": "python",
   "pygments_lexer": "ipython3",
   "version": "3.12.7"
  }
 },
 "nbformat": 4,
 "nbformat_minor": 2
}
