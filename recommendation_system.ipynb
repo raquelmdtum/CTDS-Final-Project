{
  "cells": [
    {
      "cell_type": "markdown",
      "metadata": {
        "id": "bnyS_WOkpIv_"
      },
      "source": [
        "# 02807 Computational Tools for Data Science - Final Project"
      ]
    },
    {
      "cell_type": "markdown",
      "metadata": {
        "id": "5DRiM5VspIwD"
      },
      "source": [
        "Group members:\n",
        " - Ana Marija Pavičić (s232468)\n",
        " - Anna Sky Kastl Jensen (s194824)\n",
        " - Raquel Moleiro Marques (s243636)\n",
        " - Sree Keerthi Desu (s243933)"
      ]
    },
    {
      "cell_type": "markdown",
      "metadata": {
        "id": "a0KvnpcaiPK_"
      },
      "source": [
        "#### Imports"
      ]
    },
    {
      "cell_type": "code",
      "execution_count": 1,
      "metadata": {
        "id": "LYmzlkJRiRdr"
      },
      "outputs": [],
      "source": [
        "%%capture\n",
        "!pip install nbimporter\n",
        "from imports import *"
      ]
    },
    {
      "cell_type": "markdown",
      "metadata": {
        "id": "D7ezOvUCpIwG"
      },
      "source": [
        "# 1. Data pre-processing"
      ]
    },
    {
      "cell_type": "code",
      "execution_count": 2,
      "metadata": {
        "colab": {
          "base_uri": "https://localhost:8080/"
        },
        "id": "Nod0l_DZpIwH",
        "outputId": "40753e04-6104-4e0c-df1c-82ab15114d67"
      },
      "outputs": [
        {
          "output_type": "stream",
          "name": "stderr",
          "text": [
            "/usr/local/lib/python3.10/dist-packages/ipykernel/ipkernel.py:283: DeprecationWarning:\n",
            "\n",
            "`should_run_async` will not call `transform_cell` automatically in the future. Please pass the result to `transformed_cell` argument and any exception that happen during thetransform in `preprocessing_exc_tuple` in IPython 7.17 and above.\n",
            "\n"
          ]
        }
      ],
      "source": [
        "# Data paths\n",
        "raw_data_directory = 'data'\n",
        "raw_data_path = 'data/product_info.csv'\n",
        "processed_data_directory = 'processed_data'\n",
        "processed_data_path = processed_data_directory + '/skincare.csv'"
      ]
    },
    {
      "cell_type": "markdown",
      "metadata": {
        "id": "0fOtGje1pIwH"
      },
      "source": [
        "## Data Cleaning"
      ]
    },
    {
      "cell_type": "code",
      "execution_count": 3,
      "metadata": {
        "colab": {
          "base_uri": "https://localhost:8080/"
        },
        "id": "vAFzGz0ApIwI",
        "outputId": "0cb19311-6613-488a-d5f9-f6f166720395"
      },
      "outputs": [
        {
          "output_type": "stream",
          "name": "stderr",
          "text": [
            "/usr/local/lib/python3.10/dist-packages/ipykernel/ipkernel.py:283: DeprecationWarning:\n",
            "\n",
            "`should_run_async` will not call `transform_cell` automatically in the future. Please pass the result to `transformed_cell` argument and any exception that happen during thetransform in `preprocessing_exc_tuple` in IPython 7.17 and above.\n",
            "\n"
          ]
        },
        {
          "output_type": "stream",
          "name": "stdout",
          "text": [
            "Skin care data size: 2420\n",
            "Skin care data size after removing empty highlights: 2003\n",
            "Skin care data size after removing empty ingredients: 1927\n",
            "Size of skincare data after removing 'mini' from product names (case-insensitive): 1743\n",
            "Size of skincare data after removing 'limited edition' from product names (case-insensitive): 1741\n",
            "Skin care data size after removing 'Value & Gift Sets' secondary_category: 1583\n"
          ]
        }
      ],
      "source": [
        "# Read all products info\n",
        "df = pd.read_csv(raw_data_path)\n",
        "\n",
        "# Filter df for rows where 'primary_category' is 'Skincare'\n",
        "skincare_df = df[df['primary_category'] == 'Skincare']\n",
        "print(\"Skin care data size:\", len(skincare_df))\n",
        "\n",
        "# Remove rows where highlight are non existent\n",
        "skincare_df = skincare_df[skincare_df['highlights'].notna() & (skincare_df['highlights'] != '')]\n",
        "print(\"Skin care data size after removing empty highlights:\",len(skincare_df))\n",
        "\n",
        "# Remove rows where ingredients are non existent\n",
        "skincare_df = skincare_df[skincare_df['ingredients'].notna() & (skincare_df['ingredients'] != '')]\n",
        "print(\"Skin care data size after removing empty ingredients:\",len(skincare_df))\n",
        "\n",
        "# Remove 'Mini' size products from data as it could be seen as a duplicate\n",
        "skincare_df = skincare_df[~skincare_df['product_name'].str.contains('mini', case=False, na=False)]\n",
        "# Also removing additional products with 'Mini Size' as their secondary category\n",
        "skincare_df = skincare_df[skincare_df['secondary_category'] != 'Mini Size']\n",
        "print(f\"Size of skincare data after removing 'mini' from product names (case-insensitive): {len(skincare_df)}\")\n",
        "\n",
        "# Remove 'Limited edition' from data\n",
        "skincare_df = skincare_df[~skincare_df['product_name'].str.contains('limited edition', case=False, na=False)]\n",
        "print(f\"Size of skincare data after removing 'limited edition' from product names (case-insensitive): {len(skincare_df)}\")\n",
        "\n",
        "# Remove 'Value & Gift Sets' from data to focus on individual products\n",
        "skincare_df = skincare_df[skincare_df['secondary_category'] != 'Value & Gift Sets']\n",
        "print(\"Skin care data size after removing 'Value & Gift Sets' secondary_category:\",len(skincare_df))\n",
        "\n",
        "# Clean highlight column\n",
        "highlights = skincare_df['highlights']\n",
        "highlights = [h.replace(\"[\", \"\").replace(\"]\", \"\").replace(\"'\", \"\").replace(\"Best for \", \"\").replace(\"Good for: \", \"\").replace(\" Skin\", \"\").replace(\"/\", \", \") for h in highlights]\n",
        "skincare_df['highlights'] = highlights\n",
        "\n",
        "# Function to clean each ingredient row\n",
        "def clean_ingredients(row):\n",
        "   # Replace unwanted characters\n",
        "   row = row.replace(\"[\", \"\").replace(\"]\", \"\").replace(\"'\", \"\").replace(\" (Vegan)*\", \"\").replace(\".\", \"\")\n",
        "\n",
        "   # Remove text inside parentheses\n",
        "   row = re.sub(r'\\([^)]*\\)', '', row)\n",
        "\n",
        "   # Replace \" , \" with a single comma (in case extra spaces after commas)\n",
        "   row = row.replace(\" ,\", \",\")\n",
        "   row = row.replace(\"  \", \" \")\n",
        "\n",
        "   # Check for \"water\", \"aqua\", or \"eau\" and replace first occurrence\n",
        "   if \"water\" in row.lower() or \"aqua\" in row.lower() or \"eau\" in row.lower():\n",
        "      row_list = row.split(\", \")\n",
        "      # Find the first occurrence of \"water\", \"aqua\", or \"eau\"\n",
        "      index = next((i for i, s in enumerate(row_list) if 'water' in s.lower() or \"aqua\" in s.lower() or \"eau\" in s.lower()), -1)\n",
        "      if index != -1:\n",
        "         # Replace the identified word with \"Water\"\n",
        "         row_list[index] = \"Water\"\n",
        "      row = \", \".join(row_list)\n",
        "\n",
        "   return row\n",
        "\n",
        "# Apply the clean_ingredients function\n",
        "skincare_df['ingredients'] = skincare_df['ingredients'].apply(clean_ingredients)\n",
        "\n",
        "# Ensure the directory exists\n",
        "output_dir = os.path.dirname(processed_data_path)\n",
        "if not os.path.exists(output_dir):\n",
        "   os.makedirs(output_dir)\n",
        "\n",
        "# Save cleaned file\n",
        "skincare_df.to_csv(processed_data_path, index=False)"
      ]
    },
    {
      "cell_type": "markdown",
      "metadata": {
        "id": "C6Ved-mFpIwI"
      },
      "source": [
        "## Clean and Filter Product Reviews"
      ]
    },
    {
      "cell_type": "code",
      "execution_count": 4,
      "metadata": {
        "colab": {
          "base_uri": "https://localhost:8080/"
        },
        "id": "k4Yse-QNpIwJ",
        "outputId": "c08b7dbd-0368-45bc-8e91-9634a64727df"
      },
      "outputs": [
        {
          "output_type": "stream",
          "name": "stderr",
          "text": [
            "/usr/local/lib/python3.10/dist-packages/ipykernel/ipkernel.py:283: DeprecationWarning:\n",
            "\n",
            "`should_run_async` will not call `transform_cell` automatically in the future. Please pass the result to `transformed_cell` argument and any exception that happen during thetransform in `preprocessing_exc_tuple` in IPython 7.17 and above.\n",
            "\n",
            "<ipython-input-4-cb035e404ebe>:12: DtypeWarning:\n",
            "\n",
            "Columns (1) have mixed types. Specify dtype option on import or set low_memory=False.\n",
            "\n"
          ]
        },
        {
          "output_type": "stream",
          "name": "stdout",
          "text": [
            "Processed and saved: processed_data/reviews_0-250.csv\n",
            "Processed and saved: processed_data/reviews_250-500.csv\n",
            "Processed and saved: processed_data/reviews_500-750.csv\n"
          ]
        },
        {
          "output_type": "stream",
          "name": "stderr",
          "text": [
            "<ipython-input-4-cb035e404ebe>:12: DtypeWarning:\n",
            "\n",
            "Columns (1) have mixed types. Specify dtype option on import or set low_memory=False.\n",
            "\n"
          ]
        },
        {
          "output_type": "stream",
          "name": "stdout",
          "text": [
            "Processed and saved: processed_data/reviews_750-1250.csv\n"
          ]
        },
        {
          "output_type": "stream",
          "name": "stderr",
          "text": [
            "<ipython-input-4-cb035e404ebe>:12: DtypeWarning:\n",
            "\n",
            "Columns (1) have mixed types. Specify dtype option on import or set low_memory=False.\n",
            "\n"
          ]
        },
        {
          "output_type": "stream",
          "name": "stdout",
          "text": [
            "Processed and saved: processed_data/reviews_1250-end.csv\n",
            "All files have been processed and saved.\n"
          ]
        }
      ],
      "source": [
        "# Convert product_id column to a set for efficient filtering\n",
        "product_ids = set(skincare_df['product_id'])\n",
        "\n",
        "def clean_reviews(raw_data_path, processed_data_path):\n",
        "    \"\"\"\n",
        "    Clean the reviews in the given CSV file by filtering based on the conditions.\n",
        "    - Filters rows where 'product_id' is in the skincare dataset.\n",
        "    - Keeps reviews with rating 5, 4, and only 3-star reviews if they have review text.\n",
        "    \"\"\"\n",
        "    try:\n",
        "        # Read the data\n",
        "        df = pd.read_csv(raw_data_path)\n",
        "\n",
        "        # Keep only the filtered skincare data\n",
        "        df = df[df['product_id'].isin(product_ids)]\n",
        "\n",
        "        # # Check for 3-star reviews with no text or empty text\n",
        "        # three_star_reviews = df[df['rating'] == 3]\n",
        "        # no_text_reviews = three_star_reviews[three_star_reviews['review_text'].isna() | (three_star_reviews['review_text'].str.strip() == '')]\n",
        "\n",
        "        # Keep reviews with rating 5, 4, or 3 (only keep 3-star reviews if they have review text)\n",
        "        df = df[\n",
        "            (df['rating'].isin((5, 4))) |\n",
        "            ((df['rating'] == 3) & df['review_text'].notna() & (df['review_text'].str.strip() != \"\"))  # Include 3-star reviews only if they have text\n",
        "        ]\n",
        "\n",
        "        # Ensure the output directory exists\n",
        "        output_dir = os.path.dirname(processed_data_path)\n",
        "        if not os.path.exists(output_dir):\n",
        "            os.makedirs(output_dir)\n",
        "\n",
        "        # Save the cleaned file\n",
        "        df.to_csv(processed_data_path, index=False)\n",
        "        print(f\"Processed and saved: {processed_data_path}\")\n",
        "\n",
        "    except Exception as e:\n",
        "        print(f\"Error processing {raw_data_path}: {e}\")\n",
        "\n",
        "# Apply the function to each review data file\n",
        "clean_reviews('data/reviews_0-250.csv', 'processed_data/reviews_0-250.csv')\n",
        "clean_reviews('data/reviews_250-500.csv', 'processed_data/reviews_250-500.csv')\n",
        "clean_reviews('data/reviews_500-750.csv', 'processed_data/reviews_500-750.csv')\n",
        "clean_reviews('data/reviews_750-1250.csv', 'processed_data/reviews_750-1250.csv')\n",
        "clean_reviews('data/reviews_1250-end.csv', 'processed_data/reviews_1250-end.csv')\n",
        "\n",
        "print(\"All files have been processed and saved.\")"
      ]
    },
    {
      "cell_type": "markdown",
      "metadata": {
        "id": "W2zOQXf2pIwK"
      },
      "source": [
        "## Combining All Reviews Files Into a Single Dataframe"
      ]
    },
    {
      "cell_type": "code",
      "execution_count": 5,
      "metadata": {
        "colab": {
          "base_uri": "https://localhost:8080/"
        },
        "id": "emsBoffWpIwK",
        "outputId": "83afb0ff-1748-490e-f73e-8cf22ca66b32"
      },
      "outputs": [
        {
          "output_type": "stream",
          "name": "stderr",
          "text": [
            "/usr/local/lib/python3.10/dist-packages/ipykernel/ipkernel.py:283: DeprecationWarning:\n",
            "\n",
            "`should_run_async` will not call `transform_cell` automatically in the future. Please pass the result to `transformed_cell` argument and any exception that happen during thetransform in `preprocessing_exc_tuple` in IPython 7.17 and above.\n",
            "\n"
          ]
        },
        {
          "output_type": "stream",
          "name": "stdout",
          "text": [
            "Successfully added processed_data/reviews_0-250.csv\n",
            "Successfully added processed_data/reviews_250-500.csv\n",
            "Successfully added processed_data/reviews_500-750.csv\n",
            "Successfully added processed_data/reviews_750-1250.csv\n",
            "Successfully added processed_data/reviews_1250-end.csv\n",
            "All files have been combined and saved to: processed_data/combined_reviews.csv\n"
          ]
        }
      ],
      "source": [
        "# List of file paths for the processed reviews\n",
        "file_paths = [\n",
        "    'processed_data/reviews_0-250.csv',\n",
        "    'processed_data/reviews_250-500.csv',\n",
        "    'processed_data/reviews_500-750.csv',\n",
        "    'processed_data/reviews_750-1250.csv',\n",
        "    'processed_data/reviews_1250-end.csv'\n",
        "]\n",
        "\n",
        "# Combine all files into one DataFrame\n",
        "combined_reviews_df = pd.DataFrame()\n",
        "\n",
        "for file_path in file_paths:\n",
        "    try:\n",
        "        # Read each processed file with updated argument for handling bad lines\n",
        "        df = pd.read_csv(file_path,\n",
        "                         on_bad_lines='skip',  # Skip bad lines instead of using deprecated arguments\n",
        "                         encoding='utf-8',  # Ensure proper encoding\n",
        "                         engine='python')  # Use Python engine for more robust handling\n",
        "\n",
        "        # Append it to the combined DataFrame\n",
        "        combined_reviews_df = pd.concat([combined_reviews_df, df], ignore_index=True)\n",
        "        print(f\"Successfully added {file_path}\")\n",
        "    except Exception as e:\n",
        "        print(f\"Error reading {file_path}: {e}\")\n",
        "\n",
        "# Save the combined DataFrame to a single CSV file\n",
        "output_combined_path = 'processed_data/combined_reviews.csv'\n",
        "combined_reviews_df.to_csv(output_combined_path, index=False)\n",
        "print(f\"All files have been combined and saved to: {output_combined_path}\")"
      ]
    },
    {
      "cell_type": "markdown",
      "metadata": {
        "id": "wHt9smuopIwK"
      },
      "source": [
        "# 2. Exploratory Data Analysis (EDA)"
      ]
    },
    {
      "cell_type": "markdown",
      "metadata": {
        "id": "zuz6X8wOpIwK"
      },
      "source": [
        "### Skincare data"
      ]
    },
    {
      "cell_type": "code",
      "execution_count": 6,
      "metadata": {
        "colab": {
          "base_uri": "https://localhost:8080/"
        },
        "id": "GvFrlTnppIwK",
        "outputId": "bb1ce4ae-c4f3-4763-aced-6ac14c434f80"
      },
      "outputs": [
        {
          "output_type": "stream",
          "name": "stdout",
          "text": [
            "Skincare Data Overview:\n",
            "   product_id                                       product_name  brand_id  \\\n",
            "89    P439055               GENIUS Sleeping Collagen Moisturizer      6018   \n",
            "90    P421277                       GENIUS Liquid Collagen Serum      6018   \n",
            "92    P432045               GENIUS Liquid Collagen Lip Treatment      6018   \n",
            "93    P311143  SUBLIME DEFENSE Ultra Lightweight UV Defense F...      6018   \n",
            "94    P384537                   GENIUS Ultimate Anti-Aging Cream      6018   \n",
            "\n",
            "   brand_name  loves_count  rating  reviews           size variation_type  \\\n",
            "89   Algenist        33910  4.5413   1321.0    2 oz/ 60 mL           Size   \n",
            "90   Algenist        67870  4.0259   1159.0  1 oz  / 30 mL           Size   \n",
            "92   Algenist        44448  3.8721    649.0  .5 oz / 15 mL           Size   \n",
            "93   Algenist        27278  4.4134    508.0           1 oz           Size   \n",
            "94   Algenist        19733  4.2525    503.0    2 oz/ 60 mL           Size   \n",
            "\n",
            "   variation_value  ... online_only out_of_stock  sephora_exclusive  \\\n",
            "89     2 oz/ 60 mL  ...           0            0                  1   \n",
            "90   1 oz  / 30 mL  ...           0            0                  1   \n",
            "92   .5 oz / 15 mL  ...           0            0                  1   \n",
            "93            1 oz  ...           0            0                  0   \n",
            "94     2 oz/ 60 mL  ...           0            0                  0   \n",
            "\n",
            "                                           highlights  primary_category  \\\n",
            "89  Vegan, Loss of firmness, Collagen, Hypoallerge...          Skincare   \n",
            "90  Vegan, Loss of firmness, Collagen, Hypoallerge...          Skincare   \n",
            "92  Vegan, Loss of firmness, Plumping, Collagen, H...          Skincare   \n",
            "93  Vegan, Hypoallergenic, UV Protection, SPF, Dry...          Skincare   \n",
            "94  Vegan, Collagen, Hypoallergenic, Loss of firmn...          Skincare   \n",
            "\n",
            "        secondary_category  tertiary_category  child_count  child_max_price  \\\n",
            "89            Moisturizers       Moisturizers            0              NaN   \n",
            "90              Treatments        Face Serums            1             25.0   \n",
            "92  Lip Balms & Treatments                NaN            0              NaN   \n",
            "93               Sunscreen     Face Sunscreen            0              NaN   \n",
            "94            Moisturizers       Moisturizers            1             75.0   \n",
            "\n",
            "    child_min_price  \n",
            "89              NaN  \n",
            "90             25.0  \n",
            "92              NaN  \n",
            "93              NaN  \n",
            "94             75.0  \n",
            "\n",
            "[5 rows x 27 columns]\n"
          ]
        },
        {
          "output_type": "stream",
          "name": "stderr",
          "text": [
            "/usr/local/lib/python3.10/dist-packages/ipykernel/ipkernel.py:283: DeprecationWarning:\n",
            "\n",
            "`should_run_async` will not call `transform_cell` automatically in the future. Please pass the result to `transformed_cell` argument and any exception that happen during thetransform in `preprocessing_exc_tuple` in IPython 7.17 and above.\n",
            "\n"
          ]
        }
      ],
      "source": [
        "# Display the first few rows to get a sense of the data\n",
        "print(\"Skincare Data Overview:\")\n",
        "print(skincare_df.head())"
      ]
    },
    {
      "cell_type": "code",
      "execution_count": 7,
      "metadata": {
        "colab": {
          "base_uri": "https://localhost:8080/"
        },
        "id": "2qTHAd5lpIwK",
        "outputId": "980d3da8-0588-4940-e0ec-af16c648c060"
      },
      "outputs": [
        {
          "output_type": "stream",
          "name": "stdout",
          "text": [
            "\n",
            "Skincare Data Info:\n",
            "<class 'pandas.core.frame.DataFrame'>\n",
            "Index: 1583 entries, 89 to 8423\n",
            "Data columns (total 27 columns):\n",
            " #   Column              Non-Null Count  Dtype  \n",
            "---  ------              --------------  -----  \n",
            " 0   product_id          1583 non-null   object \n",
            " 1   product_name        1583 non-null   object \n",
            " 2   brand_id            1583 non-null   int64  \n",
            " 3   brand_name          1583 non-null   object \n",
            " 4   loves_count         1583 non-null   int64  \n",
            " 5   rating              1550 non-null   float64\n",
            " 6   reviews             1550 non-null   float64\n",
            " 7   size                1525 non-null   object \n",
            " 8   variation_type      1506 non-null   object \n",
            " 9   variation_value     1478 non-null   object \n",
            " 10  variation_desc      7 non-null      object \n",
            " 11  ingredients         1583 non-null   object \n",
            " 12  price_usd           1583 non-null   float64\n",
            " 13  value_price_usd     17 non-null     float64\n",
            " 14  sale_price_usd      17 non-null     float64\n",
            " 15  limited_edition     1583 non-null   int64  \n",
            " 16  new                 1583 non-null   int64  \n",
            " 17  online_only         1583 non-null   int64  \n",
            " 18  out_of_stock        1583 non-null   int64  \n",
            " 19  sephora_exclusive   1583 non-null   int64  \n",
            " 20  highlights          1583 non-null   object \n",
            " 21  primary_category    1583 non-null   object \n",
            " 22  secondary_category  1583 non-null   object \n",
            " 23  tertiary_category   1529 non-null   object \n",
            " 24  child_count         1583 non-null   int64  \n",
            " 25  child_max_price     340 non-null    float64\n",
            " 26  child_min_price     340 non-null    float64\n",
            "dtypes: float64(7), int64(8), object(12)\n",
            "memory usage: 346.3+ KB\n",
            "None\n"
          ]
        },
        {
          "output_type": "stream",
          "name": "stderr",
          "text": [
            "/usr/local/lib/python3.10/dist-packages/ipykernel/ipkernel.py:283: DeprecationWarning:\n",
            "\n",
            "`should_run_async` will not call `transform_cell` automatically in the future. Please pass the result to `transformed_cell` argument and any exception that happen during thetransform in `preprocessing_exc_tuple` in IPython 7.17 and above.\n",
            "\n"
          ]
        }
      ],
      "source": [
        "# Get general info\n",
        "print(\"\\nSkincare Data Info:\")\n",
        "print(skincare_df.info())"
      ]
    },
    {
      "cell_type": "code",
      "execution_count": 8,
      "metadata": {
        "colab": {
          "base_uri": "https://localhost:8080/"
        },
        "id": "LiKw8K-DpIwK",
        "outputId": "7292464e-1f38-44ad-ab30-9fc1207662e3"
      },
      "outputs": [
        {
          "output_type": "stream",
          "name": "stdout",
          "text": [
            "\n",
            "Skincare Data Statistics:\n",
            "          brand_id   loves_count       rating       reviews    price_usd  \\\n",
            "count  1583.000000  1.583000e+03  1550.000000   1550.000000  1583.000000   \n",
            "mean   5676.037903  3.286060e+04     4.291681    529.062581    61.408149   \n",
            "std    1421.601813  6.625197e+04     0.418085    936.350434    58.640613   \n",
            "min    1063.000000  0.000000e+00     1.000000      1.000000     3.000000   \n",
            "25%    5668.000000  4.284000e+03     4.095425     65.000000    30.000000   \n",
            "50%    6195.000000  1.191200e+04     4.363600    227.500000    46.000000   \n",
            "75%    6327.000000  3.440700e+04     4.569575    562.000000    71.000000   \n",
            "max    8017.000000  1.081315e+06     5.000000  16118.000000   495.000000   \n",
            "\n",
            "       value_price_usd  sale_price_usd  limited_edition          new  \\\n",
            "count        17.000000       17.000000      1583.000000  1583.000000   \n",
            "mean        199.176471       18.205882         0.007581     0.078964   \n",
            "std         184.000080       20.898609         0.086763     0.269768   \n",
            "min          35.000000        3.000000         0.000000     0.000000   \n",
            "25%          88.000000        7.000000         0.000000     0.000000   \n",
            "50%         120.000000       11.000000         0.000000     0.000000   \n",
            "75%         210.000000       19.000000         0.000000     0.000000   \n",
            "max         617.000000       85.000000         1.000000     1.000000   \n",
            "\n",
            "       online_only  out_of_stock  sephora_exclusive  child_count  \\\n",
            "count  1583.000000   1583.000000        1583.000000  1583.000000   \n",
            "mean      0.199621      0.034112           0.317751     0.365130   \n",
            "std       0.399842      0.181575           0.465749     0.993963   \n",
            "min       0.000000      0.000000           0.000000     0.000000   \n",
            "25%       0.000000      0.000000           0.000000     0.000000   \n",
            "50%       0.000000      0.000000           0.000000     0.000000   \n",
            "75%       0.000000      0.000000           1.000000     0.000000   \n",
            "max       1.000000      1.000000           1.000000    13.000000   \n",
            "\n",
            "       child_max_price  child_min_price  \n",
            "count       340.000000       340.000000  \n",
            "mean         60.255529        41.136412  \n",
            "std          72.324865        46.092970  \n",
            "min           3.000000         3.000000  \n",
            "25%          19.800000        17.875000  \n",
            "50%          35.000000        25.000000  \n",
            "75%          68.000000        46.000000  \n",
            "max         570.000000       365.000000  \n"
          ]
        },
        {
          "output_type": "stream",
          "name": "stderr",
          "text": [
            "/usr/local/lib/python3.10/dist-packages/ipykernel/ipkernel.py:283: DeprecationWarning:\n",
            "\n",
            "`should_run_async` will not call `transform_cell` automatically in the future. Please pass the result to `transformed_cell` argument and any exception that happen during thetransform in `preprocessing_exc_tuple` in IPython 7.17 and above.\n",
            "\n"
          ]
        }
      ],
      "source": [
        "# Describe numerical columns for basic statistics\n",
        "print(\"\\nSkincare Data Statistics:\")\n",
        "print(skincare_df.describe())"
      ]
    },
    {
      "cell_type": "markdown",
      "metadata": {
        "id": "QEeGEB1spIwL"
      },
      "source": [
        "### Product Reviews Data"
      ]
    },
    {
      "cell_type": "code",
      "execution_count": 9,
      "metadata": {
        "colab": {
          "base_uri": "https://localhost:8080/"
        },
        "id": "DnXB8lQypIwL",
        "outputId": "fa5558ae-8c42-4ebd-e369-e812cea1488e"
      },
      "outputs": [
        {
          "output_type": "stream",
          "name": "stdout",
          "text": [
            "\n",
            "Review Data Overview:\n",
            "  Unnamed: 0    author_id  rating  is_recommended helpfulness  \\\n",
            "0          0   1741593524     5.0             1.0         1.0   \n",
            "1          2   5061282401     5.0             1.0         NaN   \n",
            "2          3   6083038851     5.0             1.0         NaN   \n",
            "3          4  47056667835     5.0             1.0         NaN   \n",
            "4          5  42802569154     4.0             1.0         1.0   \n",
            "\n",
            "   total_feedback_count total_neg_feedback_count total_pos_feedback_count  \\\n",
            "0                   2.0                        0                        2   \n",
            "1                   0.0                        0                        0   \n",
            "2                   0.0                        0                        0   \n",
            "3                   0.0                        0                        0   \n",
            "4                   1.0                        0                        1   \n",
            "\n",
            "  submission_time                                        review_text  \\\n",
            "0      2023-02-01  I use this with the Nudestix “Citrus Clean Bal...   \n",
            "1      2023-03-21  My review title says it all! I get so excited ...   \n",
            "2      2023-03-20  I’ve always loved this formula for a long time...   \n",
            "3      2023-03-20  If you have dry cracked lips, this is a must h...   \n",
            "4      2023-03-19  The scent isn’t my favourite but it works grea...   \n",
            "\n",
            "                       review_title    skin_tone eye_color    skin_type  \\\n",
            "0  Taught me how to double cleanse!          NaN     brown          dry   \n",
            "1              New Favorite Routine        light     brown          dry   \n",
            "2   Can't go wrong with any of them          NaN     brown  combination   \n",
            "3                   A must have !!!        light     hazel  combination   \n",
            "4                            Great!  lightMedium     brown       normal   \n",
            "\n",
            "  hair_color product_id                                       product_name  \\\n",
            "0      black    P504322                     Gentle Hydra-Gel Face Cleanser   \n",
            "1     blonde    P420652  Lip Sleeping Mask Intense Hydration with Vitam...   \n",
            "2      black    P420652  Lip Sleeping Mask Intense Hydration with Vitam...   \n",
            "3        NaN    P420652  Lip Sleeping Mask Intense Hydration with Vitam...   \n",
            "4      brown    P420652  Lip Sleeping Mask Intense Hydration with Vitam...   \n",
            "\n",
            "  brand_name  price_usd  \n",
            "0   NUDESTIX       19.0  \n",
            "1    LANEIGE       24.0  \n",
            "2    LANEIGE       24.0  \n",
            "3    LANEIGE       24.0  \n",
            "4    LANEIGE       24.0  \n"
          ]
        },
        {
          "output_type": "stream",
          "name": "stderr",
          "text": [
            "/usr/local/lib/python3.10/dist-packages/ipykernel/ipkernel.py:283: DeprecationWarning:\n",
            "\n",
            "`should_run_async` will not call `transform_cell` automatically in the future. Please pass the result to `transformed_cell` argument and any exception that happen during thetransform in `preprocessing_exc_tuple` in IPython 7.17 and above.\n",
            "\n"
          ]
        }
      ],
      "source": [
        "# Display the first few rows to get a sense of the data\n",
        "print(\"\\nReview Data Overview:\")\n",
        "print(combined_reviews_df.head())"
      ]
    },
    {
      "cell_type": "code",
      "execution_count": 10,
      "metadata": {
        "colab": {
          "base_uri": "https://localhost:8080/"
        },
        "id": "FefvlqEYpIwL",
        "outputId": "ca53b190-ae09-4036-a233-cd6667f9e720"
      },
      "outputs": [
        {
          "output_type": "stream",
          "name": "stdout",
          "text": [
            "\n",
            "Review Data Info:\n"
          ]
        },
        {
          "output_type": "stream",
          "name": "stderr",
          "text": [
            "/usr/local/lib/python3.10/dist-packages/ipykernel/ipkernel.py:283: DeprecationWarning:\n",
            "\n",
            "`should_run_async` will not call `transform_cell` automatically in the future. Please pass the result to `transformed_cell` argument and any exception that happen during thetransform in `preprocessing_exc_tuple` in IPython 7.17 and above.\n",
            "\n"
          ]
        },
        {
          "output_type": "stream",
          "name": "stdout",
          "text": [
            "<class 'pandas.core.frame.DataFrame'>\n",
            "RangeIndex: 740390 entries, 0 to 740389\n",
            "Data columns (total 19 columns):\n",
            " #   Column                    Non-Null Count   Dtype  \n",
            "---  ------                    --------------   -----  \n",
            " 0   Unnamed: 0                740390 non-null  object \n",
            " 1   author_id                 740203 non-null  object \n",
            " 2   rating                    739955 non-null  float64\n",
            " 3   is_recommended            633266 non-null  float64\n",
            " 4   helpfulness               331220 non-null  object \n",
            " 5   total_feedback_count      739955 non-null  float64\n",
            " 6   total_neg_feedback_count  740226 non-null  object \n",
            " 7   total_pos_feedback_count  740226 non-null  object \n",
            " 8   submission_time           740226 non-null  object \n",
            " 9   review_text               739298 non-null  object \n",
            " 10  review_title              526191 non-null  object \n",
            " 11  skin_tone                 627748 non-null  object \n",
            " 12  eye_color                 606040 non-null  object \n",
            " 13  skin_type                 667676 non-null  object \n",
            " 14  hair_color                591269 non-null  object \n",
            " 15  product_id                739684 non-null  object \n",
            " 16  product_name              739684 non-null  object \n",
            " 17  brand_name                739684 non-null  object \n",
            " 18  price_usd                 739684 non-null  float64\n",
            "dtypes: float64(4), object(15)\n",
            "memory usage: 107.3+ MB\n",
            "None\n"
          ]
        }
      ],
      "source": [
        "# Get general info\n",
        "print(\"\\nReview Data Info:\")\n",
        "print(combined_reviews_df.info())"
      ]
    },
    {
      "cell_type": "code",
      "execution_count": 11,
      "metadata": {
        "colab": {
          "base_uri": "https://localhost:8080/"
        },
        "id": "v8ib-kQUpIwL",
        "outputId": "9b466740-a228-44f1-9b63-49874a9b5e61"
      },
      "outputs": [
        {
          "output_type": "stream",
          "name": "stdout",
          "text": [
            "\n",
            "Review Data Statistics:\n",
            "              rating  is_recommended  total_feedback_count      price_usd\n",
            "count  739955.000000   633266.000000         739955.000000  739684.000000\n",
            "mean        4.631782        0.938369              3.436651      52.430729\n",
            "std         0.629846        0.240485             21.561642      41.600266\n",
            "min         3.000000        0.000000              0.000000       3.000000\n",
            "25%         4.000000        1.000000              0.000000      30.000000\n",
            "50%         5.000000        1.000000              0.000000      44.000000\n",
            "75%         5.000000        1.000000              3.000000      65.000000\n",
            "max         5.000000        1.000000           5464.000000     449.000000\n"
          ]
        },
        {
          "output_type": "stream",
          "name": "stderr",
          "text": [
            "/usr/local/lib/python3.10/dist-packages/ipykernel/ipkernel.py:283: DeprecationWarning:\n",
            "\n",
            "`should_run_async` will not call `transform_cell` automatically in the future. Please pass the result to `transformed_cell` argument and any exception that happen during thetransform in `preprocessing_exc_tuple` in IPython 7.17 and above.\n",
            "\n"
          ]
        }
      ],
      "source": [
        "# Describe numerical columns for basic statistics\n",
        "print(\"\\nReview Data Statistics:\")\n",
        "print(combined_reviews_df.describe())"
      ]
    },
    {
      "cell_type": "markdown",
      "metadata": {
        "id": "Sz5I5BL3pIwL"
      },
      "source": [
        "### Distribution of categorical and numerical features"
      ]
    },
    {
      "cell_type": "markdown",
      "metadata": {
        "id": "bOjrBICKpIwL"
      },
      "source": [
        "#### Skincare data"
      ]
    },
    {
      "cell_type": "code",
      "execution_count": 12,
      "metadata": {
        "colab": {
          "base_uri": "https://localhost:8080/",
          "height": 758
        },
        "id": "OIDv5QU7pIwL",
        "outputId": "11d5931a-519c-4406-8d97-0a6dc7c56163"
      },
      "outputs": [
        {
          "output_type": "stream",
          "name": "stdout",
          "text": [
            "\n",
            "Skincare Secondary Categories Distribution:\n",
            "secondary_category\n",
            "Moisturizers              432\n",
            "Treatments                395\n",
            "Cleansers                 270\n",
            "Eye Care                  146\n",
            "Masks                     117\n",
            "Sunscreen                  80\n",
            "Lip Balms & Treatments     46\n",
            "Self Tanners               42\n",
            "Wellness                   34\n",
            "High Tech Tools            21\n",
            "Name: count, dtype: int64\n"
          ]
        },
        {
          "output_type": "stream",
          "name": "stderr",
          "text": [
            "/usr/local/lib/python3.10/dist-packages/ipykernel/ipkernel.py:283: DeprecationWarning:\n",
            "\n",
            "`should_run_async` will not call `transform_cell` automatically in the future. Please pass the result to `transformed_cell` argument and any exception that happen during thetransform in `preprocessing_exc_tuple` in IPython 7.17 and above.\n",
            "\n"
          ]
        },
        {
          "output_type": "display_data",
          "data": {
            "text/plain": [
              "<Figure size 1000x600 with 1 Axes>"
            ],
            "image/png": "[encoded data removed]"
          },
          "metadata": {}
        }
      ],
      "source": [
        "# Check distribution of secondary categories\n",
        "print(\"\\nSkincare Secondary Categories Distribution:\")\n",
        "secondary_category_counts = skincare_df['secondary_category'].value_counts().sort_values(ascending=False)\n",
        "print(secondary_category_counts)\n",
        "\n",
        "# Plot the distribution of secondary categories\n",
        "plt.figure(figsize=(10,6))\n",
        "sns.countplot(\n",
        "    y='secondary_category',\n",
        "    data=skincare_df,\n",
        "    order=secondary_category_counts.index  # Sort the plot by frequency\n",
        ")\n",
        "plt.title('Distribution of Secondary Categories')\n",
        "plt.show()"
      ]
    },
    {
      "cell_type": "code",
      "execution_count": 13,
      "metadata": {
        "colab": {
          "base_uri": "https://localhost:8080/",
          "height": 787
        },
        "id": "1-M9YrDTpIwL",
        "outputId": "b337b59b-7ea8-494d-93e2-d6996dbaf007"
      },
      "outputs": [
        {
          "output_type": "stream",
          "name": "stderr",
          "text": [
            "/usr/local/lib/python3.10/dist-packages/ipykernel/ipkernel.py:283: DeprecationWarning:\n",
            "\n",
            "`should_run_async` will not call `transform_cell` automatically in the future. Please pass the result to `transformed_cell` argument and any exception that happen during thetransform in `preprocessing_exc_tuple` in IPython 7.17 and above.\n",
            "\n"
          ]
        },
        {
          "output_type": "stream",
          "name": "stdout",
          "text": [
            "                Brand  Counts  Percent\n",
            "0  SEPHORA COLLECTION      56     3.54\n",
            "1        The Ordinary      39     2.46\n",
            "2      The INKEY List      37     2.34\n",
            "3      Paula's Choice      34     2.15\n",
            "4               fresh      32     2.02\n",
            "5   Dr. Barbara Sturm      31     1.96\n",
            "6   Peter Thomas Roth      31     1.96\n",
            "7            Shiseido      30     1.90\n",
            "8            Caudalie      30     1.90\n",
            "9  Kiehl's Since 1851      30     1.90\n"
          ]
        },
        {
          "output_type": "display_data",
          "data": {
            "text/plain": [
              "<Figure size 800x600 with 1 Axes>"
            ],
            "image/png": "[encoded data removed]"
          },
          "metadata": {}
        }
      ],
      "source": [
        "# Get the count and percentage of top brands\n",
        "brand_count = skincare_df['brand_name'].value_counts()\n",
        "brand_percentage = skincare_df['brand_name'].value_counts(normalize=True) * 100\n",
        "\n",
        "# Create a DataFrame for the top brands\n",
        "brand_df = pd.DataFrame({'Brand': brand_count.index, 'Counts': brand_count.values, 'Percent': np.round(brand_percentage.values, 2)})\n",
        "\n",
        "# Display the top 10 brands\n",
        "print(brand_df.head(10))\n",
        "\n",
        "# Plot the top 10 brands horizontally\n",
        "plt.figure(figsize=(8, 6))\n",
        "sns.barplot(x='Counts', y='Brand', data=brand_df.head(10))\n",
        "plt.xlabel('Count')\n",
        "plt.title('Top 10 Occurring Brands')\n",
        "plt.show()"
      ]
    },
    {
      "cell_type": "markdown",
      "metadata": {
        "id": "r0pFrNODpIwL"
      },
      "source": [
        "#### Product Reviews Data"
      ]
    },
    {
      "cell_type": "code",
      "execution_count": 14,
      "metadata": {
        "colab": {
          "base_uri": "https://localhost:8080/",
          "height": 775
        },
        "id": "O-8GuNyPpIwL",
        "outputId": "7db5d22e-cdd4-4059-f29d-b73722e124a3"
      },
      "outputs": [
        {
          "output_type": "stream",
          "name": "stderr",
          "text": [
            "/usr/local/lib/python3.10/dist-packages/ipykernel/ipkernel.py:283: DeprecationWarning:\n",
            "\n",
            "`should_run_async` will not call `transform_cell` automatically in the future. Please pass the result to `transformed_cell` argument and any exception that happen during thetransform in `preprocessing_exc_tuple` in IPython 7.17 and above.\n",
            "\n"
          ]
        },
        {
          "output_type": "stream",
          "name": "stdout",
          "text": [
            "\n",
            "Review Ratings Distribution:\n",
            "rating\n",
            "5.0    528193\n",
            "4.0    151059\n",
            "3.0     60703\n",
            "Name: count, dtype: int64\n"
          ]
        },
        {
          "output_type": "display_data",
          "data": {
            "text/plain": [
              "<Figure size 800x600 with 1 Axes>"
            ],
            "image/png": "[encoded data removed]"
          },
          "metadata": {}
        }
      ],
      "source": [
        "# Review rating distribution\n",
        "print(\"\\nReview Ratings Distribution:\")\n",
        "print(combined_reviews_df['rating'].value_counts())\n",
        "\n",
        "# Plot the rating distribution\n",
        "plt.figure(figsize=(8,6))\n",
        "sns.countplot(x='rating', data=combined_reviews_df)\n",
        "plt.title('Distribution of Review Ratings')\n",
        "plt.show()"
      ]
    },
    {
      "cell_type": "code",
      "execution_count": 15,
      "metadata": {
        "colab": {
          "base_uri": "https://localhost:8080/",
          "height": 568
        },
        "id": "M1z8LU-_pIwL",
        "outputId": "fccc98b3-4e85-46ea-da08-943a537d9abf"
      },
      "outputs": [
        {
          "output_type": "stream",
          "name": "stderr",
          "text": [
            "/usr/local/lib/python3.10/dist-packages/ipykernel/ipkernel.py:283: DeprecationWarning:\n",
            "\n",
            "`should_run_async` will not call `transform_cell` automatically in the future. Please pass the result to `transformed_cell` argument and any exception that happen during thetransform in `preprocessing_exc_tuple` in IPython 7.17 and above.\n",
            "\n"
          ]
        },
        {
          "output_type": "display_data",
          "data": {
            "text/plain": [
              "<Figure size 1000x600 with 1 Axes>"
            ],
            "image/png": "[encoded data removed]"
          },
          "metadata": {}
        }
      ],
      "source": [
        "# Review length (characters in review text)\n",
        "combined_reviews_df['review_length'] = combined_reviews_df['review_text'].apply(lambda x: len(str(x)))\n",
        "\n",
        "# Plot distribution of review lengths\n",
        "plt.figure(figsize=(10,6))\n",
        "sns.histplot(combined_reviews_df['review_length'], bins=50, kde=True)\n",
        "plt.title('Distribution of Review Lengths')\n",
        "plt.show()"
      ]
    },
    {
      "cell_type": "markdown",
      "metadata": {
        "id": "mud2MBMYpIwM"
      },
      "source": [
        "___"
      ]
    },
    {
      "cell_type": "markdown",
      "metadata": {
        "id": "Uy0d5Pz0jCGU"
      },
      "source": [
        "## Filtering 3-Star Reviews"
      ]
    },
    {
      "cell_type": "code",
      "execution_count": 16,
      "metadata": {
        "colab": {
          "base_uri": "https://localhost:8080/"
        },
        "id": "_znrstpgelOn",
        "outputId": "5a507a2b-32c3-49c4-bd36-42ca3048bc1b"
      },
      "outputs": [
        {
          "output_type": "stream",
          "name": "stderr",
          "text": [
            "/usr/local/lib/python3.10/dist-packages/ipykernel/ipkernel.py:283: DeprecationWarning:\n",
            "\n",
            "`should_run_async` will not call `transform_cell` automatically in the future. Please pass the result to `transformed_cell` argument and any exception that happen during thetransform in `preprocessing_exc_tuple` in IPython 7.17 and above.\n",
            "\n"
          ]
        },
        {
          "output_type": "stream",
          "name": "stdout",
          "text": [
            "Total reviews with rating of 3: 60703\n"
          ]
        }
      ],
      "source": [
        "# Load the combined reviews data from the saved file\n",
        "combined_reviews_df = pd.read_csv('processed_data/combined_reviews.csv', encoding='utf-8', engine='python')\n",
        "\n",
        "# Filter for reviews with rating = 3 to perform sentiment analysis on the same\n",
        "three_stars = combined_reviews_df[combined_reviews_df['rating'] == 3]\n",
        "\n",
        "print(f\"Total reviews with rating of 3: {len(three_stars)}\")"
      ]
    },
    {
      "cell_type": "markdown",
      "metadata": {
        "id": "-VUeOqXyxX9z"
      },
      "source": [
        "## *is_recommended* column in the dataset"
      ]
    },
    {
      "cell_type": "markdown",
      "metadata": {
        "id": "U21xO2BfBVYN"
      },
      "source": [
        "To ensure we would recommend products well-regarded by users, we explored the *is_recommended*  column in our reviews dataset and performed a series of checks to evaluate its reliability. As per the following:"
      ]
    },
    {
      "cell_type": "code",
      "execution_count": 17,
      "metadata": {
        "colab": {
          "base_uri": "https://localhost:8080/",
          "height": 299
        },
        "id": "9ZLeR7-bC_uq",
        "outputId": "46c9a46c-0f7f-4fd0-b597-d3af08cf2727"
      },
      "outputs": [
        {
          "output_type": "stream",
          "name": "stderr",
          "text": [
            "/usr/local/lib/python3.10/dist-packages/ipykernel/ipkernel.py:283: DeprecationWarning:\n",
            "\n",
            "`should_run_async` will not call `transform_cell` automatically in the future. Please pass the result to `transformed_cell` argument and any exception that happen during thetransform in `preprocessing_exc_tuple` in IPython 7.17 and above.\n",
            "\n"
          ]
        },
        {
          "output_type": "execute_result",
          "data": {
            "text/plain": [
              "is_recommended\n",
              "1.0    594237\n",
              "NaN    107124\n",
              "0.0     39029\n",
              "Name: count, dtype: int64"
            ],
            "text/html": [
              "<div>\n",
              "<style scoped>\n",
              "    .dataframe tbody tr th:only-of-type {\n",
              "        vertical-align: middle;\n",
              "    }\n",
              "\n",
              "    .dataframe tbody tr th {\n",
              "        vertical-align: top;\n",
              "    }\n",
              "\n",
              "    .dataframe thead th {\n",
              "        text-align: right;\n",
              "    }\n",
              "</style>\n",
              "<table border=\"1\" class=\"dataframe\">\n",
              "  <thead>\n",
              "    <tr style=\"text-align: right;\">\n",
              "      <th></th>\n",
              "      <th>count</th>\n",
              "    </tr>\n",
              "    <tr>\n",
              "      <th>is_recommended</th>\n",
              "      <th></th>\n",
              "    </tr>\n",
              "  </thead>\n",
              "  <tbody>\n",
              "    <tr>\n",
              "      <th>1.0</th>\n",
              "      <td>594237</td>\n",
              "    </tr>\n",
              "    <tr>\n",
              "      <th>NaN</th>\n",
              "      <td>107124</td>\n",
              "    </tr>\n",
              "    <tr>\n",
              "      <th>0.0</th>\n",
              "      <td>39029</td>\n",
              "    </tr>\n",
              "  </tbody>\n",
              "</table>\n",
              "</div><br><label><b>dtype:</b> int64</label>"
            ]
          },
          "metadata": {},
          "execution_count": 17
        }
      ],
      "source": [
        "# Count the number of 1s, 0s, and NAs in the 'is_recommended' column for 3-5 stars reviews\n",
        "is_recommended_counts = combined_reviews_df['is_recommended'].value_counts(dropna=False)\n",
        "is_recommended_counts"
      ]
    },
    {
      "cell_type": "markdown",
      "metadata": {
        "id": "1cl0oXRoD8Tv"
      },
      "source": [
        "We can already tell that there are a lot of missing values in the *is_recommended* column. Either way, before proceeding, we’ll check if any 5-star reviews are incorrectly marked as not recommended, as we would expect these to generally be recommended. This will help ensure data quality."
      ]
    },
    {
      "cell_type": "code",
      "execution_count": 18,
      "metadata": {
        "colab": {
          "base_uri": "https://localhost:8080/"
        },
        "id": "Z8sC-F6lEbIL",
        "outputId": "77d4e31b-9e93-4f51-e1f1-cd39cebfd96e"
      },
      "outputs": [
        {
          "output_type": "stream",
          "name": "stdout",
          "text": [
            "Number of 5-star reviews marked as not recommended: 610\n",
            "\n",
            "Random example of 5-star review marked as not recommended:\n",
            "This stuff is sooo good. Literally makes your lips feel so soft\n"
          ]
        },
        {
          "output_type": "stream",
          "name": "stderr",
          "text": [
            "/usr/local/lib/python3.10/dist-packages/ipykernel/ipkernel.py:283: DeprecationWarning:\n",
            "\n",
            "`should_run_async` will not call `transform_cell` automatically in the future. Please pass the result to `transformed_cell` argument and any exception that happen during thetransform in `preprocessing_exc_tuple` in IPython 7.17 and above.\n",
            "\n"
          ]
        }
      ],
      "source": [
        "# Filter 5-star reviews\n",
        "five_star_reviews = combined_reviews_df[combined_reviews_df['rating'] == 5]\n",
        "\n",
        "# Check how many of the 5-star reviews are not recommended\n",
        "not_recommended_5_stars = five_star_reviews[five_star_reviews['is_recommended'] == 0]\n",
        "\n",
        "# Count the number of 5-star reviews that are not recommended\n",
        "not_recommended_count = not_recommended_5_stars.shape[0]\n",
        "\n",
        "print(f\"Number of 5-star reviews marked as not recommended: {not_recommended_count}\")\n",
        "\n",
        "# Show a random review_text from the not recommended 5-star reviews, random seed set for reproducibility\n",
        "random_example = not_recommended_5_stars['review_text'].sample(1, random_state=42).iloc[0]\n",
        "\n",
        "print(\"\\nRandom example of 5-star review marked as not recommended:\")\n",
        "print(random_example)"
      ]
    },
    {
      "cell_type": "markdown",
      "metadata": {
        "id": "h12WAVGYFaoF"
      },
      "source": [
        "Since there are 610 5-star reviews marked as \"not recommended,\" and the random review test shows a very positive review from a happy user, this *is_recommended* column can't be trusted. Therefore, we'll rely on sentiment analysis to accurately identify products users truly recommend and feel good about."
      ]
    },
    {
      "cell_type": "markdown",
      "metadata": {
        "id": "OFBMvvzfg2_H"
      },
      "source": [
        "# 3. Sentiment Analysis on Product Reviews"
      ]
    },
    {
      "cell_type": "markdown",
      "metadata": {
        "id": "XyzD0EKYjTJv"
      },
      "source": [
        "## xlnet-base-cased-product-review-sentiment-analysis"
      ]
    },
    {
      "cell_type": "markdown",
      "metadata": {
        "id": "Z20tyUiygnwo"
      },
      "source": [
        "Below we use [xlnet-base-cased-product-review-sentiment-analysis](https://huggingface.co/dipawidia/xlnet-base-cased-product-review-sentiment-analysis)  model from Hugging face to perform sentiment analysis."
      ]
    },
    {
      "cell_type": "code",
      "execution_count": 19,
      "metadata": {
        "colab": {
          "base_uri": "https://localhost:8080/",
          "height": 1000,
          "referenced_widgets": [
            "a1fc35cee7a84676bc8923f4bdbf1560",
            "c04781d0a3c54cef88d9a0eaa3639d25",
            "abf93cc121e144e2b89b89f4724cc2da",
            "10704510c92747d1a11a8b12f377ace3",
            "fddfb99588174cc180327ce6cb2e4cfa",
            "62b7703e74ce4236950da6d04d146043",
            "4185604ce4c345c28644a9c2bf047167",
            "4dada2f13b38461f8c6a186c99a69f2e",
            "ce70290f0ce34698bdab2fc59c994d05",
            "c489015bbcc44a98aae6f5fc35a39399",
            "5ebaf9d7a72e478b8d2b4fa87e949520",
            "473efecb793047278c98c642aec0e9a7",
            "a61a3776d9b14bed98f606549cbad114",
            "18b79a963152420d9da95b063780ee8b",
            "5f01d02bb9874ec3b69dfa770e6ef745",
            "193ac98e258b4b1994d8f5e41004c5de",
            "003cd13f7e6a4a029cb47169149ebda8",
            "7496514b0c7041b49c24a5178f7cb2db",
            "6c4fa57ca254463f8b673c648124732a",
            "322c37b6a4494b64acf7553a66f6b27f",
            "cbb75bf3c63545c28167a5c37cbcc797",
            "15c20e43025b40d4abaf35ef099786c0",
            "9e2bce09c5054455b58a7786e5aeeb1b",
            "f076df97db324ba986d34379361a88d1",
            "0df0f41ab82e41bf87a194192a92e4f1",
            "642c6f8fb1dd4822b9219910691a8189",
            "2631cc8c1b394315831a1e8c34df8da7",
            "3f3010d2c81647b186a5c29efe0add5c",
            "dd4b2a100d4c409a893b736151437593",
            "659ac100b8df4ea693edd0361a7fae3e",
            "a54fc0a5fee44375bcc87586bbd2d82d",
            "ef004ff960664880876159f48c272f37",
            "8f71c10d4e194dfcb1f4230c00948e71",
            "0e20a1f1448741e399040a7d265ea5c5",
            "d259e385c21d4473a6cd9c5e18193d91",
            "9a7a3322302040b186746e0e2235ddf0",
            "6bc8c0c1220744cda076e7bd4a40e782",
            "0994fb65fa3147c18cab97af568e21de",
            "7146faeb0ac14d32aa5cb2b18d71484c",
            "06ad6a47cce7454697a652d0368c5f6f",
            "b1e5a123657c421d8e309b8b26329d40",
            "4891c6adb2f5419f9161377b35b2824e",
            "ba8a71035d26409b999805d0843a9522",
            "4355d1a8ce2a46bcb69873981b1f6b45",
            "590e11a59d654ee2a55d73a63caf9ab4",
            "c89d02af858c4a49981d607555c33765",
            "3bfaebbb3bee45abadaff0b8edd97cb9",
            "7e64c85e5b7f4aed8df610f68653bbe8",
            "5eb582065a7f4e778d586bc46bbb053e",
            "5728e98e145f4e4da8341d6c99ac73ed",
            "a9d34603cef146d4a83e13323a4cc995",
            "c1c80d525c3e48378dd8f31a5933a0b4",
            "2d8b2be9e3c74cb785ddf97362b35750",
            "0b8c6942a4a043c790bc9614e1c8f55c",
            "43c999b7c8584f9cbd20c7a6e88668c7"
          ]
        },
        "id": "eVcwGWTzpr1c",
        "outputId": "98cd300f-716e-46b1-f0fd-0767d201925e"
      },
      "outputs": [
        {
          "output_type": "stream",
          "name": "stderr",
          "text": [
            "/usr/local/lib/python3.10/dist-packages/ipykernel/ipkernel.py:283: DeprecationWarning:\n",
            "\n",
            "`should_run_async` will not call `transform_cell` automatically in the future. Please pass the result to `transformed_cell` argument and any exception that happen during thetransform in `preprocessing_exc_tuple` in IPython 7.17 and above.\n",
            "\n",
            "/usr/local/lib/python3.10/dist-packages/huggingface_hub/utils/_auth.py:94: UserWarning:\n",
            "\n",
            "\n",
            "The secret `HF_TOKEN` does not exist in your Colab secrets.\n",
            "To authenticate with the Hugging Face Hub, create a token in your settings tab (https://huggingface.co/settings/tokens), set it as secret in your Google Colab and restart your session.\n",
            "You will be able to reuse this secret in all of your notebooks.\n",
            "Please note that authentication is recommended but still optional to access public models or datasets.\n",
            "\n"
          ]
        },
        {
          "output_type": "display_data",
          "data": {
            "text/plain": [
              "tokenizer_config.json:   0%|          | 0.00/2.00k [00:00<?, ?B/s]"
            ],
            "application/vnd.jupyter.widget-view+json": {
              "version_major": 2,
              "version_minor": 0,
              "model_id": "a1fc35cee7a84676bc8923f4bdbf1560"
            }
          },
          "metadata": {}
        },
        {
          "output_type": "display_data",
          "data": {
            "text/plain": [
              "spiece.model:   0%|          | 0.00/798k [00:00<?, ?B/s]"
            ],
            "application/vnd.jupyter.widget-view+json": {
              "version_major": 2,
              "version_minor": 0,
              "model_id": "473efecb793047278c98c642aec0e9a7"
            }
          },
          "metadata": {}
        },
        {
          "output_type": "display_data",
          "data": {
            "text/plain": [
              "special_tokens_map.json:   0%|          | 0.00/346 [00:00<?, ?B/s]"
            ],
            "application/vnd.jupyter.widget-view+json": {
              "version_major": 2,
              "version_minor": 0,
              "model_id": "9e2bce09c5054455b58a7786e5aeeb1b"
            }
          },
          "metadata": {}
        },
        {
          "output_type": "display_data",
          "data": {
            "text/plain": [
              "config.json:   0%|          | 0.00/1.09k [00:00<?, ?B/s]"
            ],
            "application/vnd.jupyter.widget-view+json": {
              "version_major": 2,
              "version_minor": 0,
              "model_id": "0e20a1f1448741e399040a7d265ea5c5"
            }
          },
          "metadata": {}
        },
        {
          "output_type": "display_data",
          "data": {
            "text/plain": [
              "model.safetensors:   0%|          | 0.00/469M [00:00<?, ?B/s]"
            ],
            "application/vnd.jupyter.widget-view+json": {
              "version_major": 2,
              "version_minor": 0,
              "model_id": "590e11a59d654ee2a55d73a63caf9ab4"
            }
          },
          "metadata": {}
        },
        {
          "output_type": "stream",
          "name": "stderr",
          "text": [
            "/usr/local/lib/python3.10/dist-packages/transformers/modeling_tf_utils.py:3342: DeprecationWarning:\n",
            "\n",
            "`TFSharedEmbeddings` is scheduled for deletion in v4.32, use `keras.layers.Embedding` instead.\n",
            "\n",
            "/usr/local/lib/python3.10/dist-packages/tf_keras/src/initializers/initializers.py:121: UserWarning:\n",
            "\n",
            "The initializer TruncatedNormal is unseeded and being called multiple times, which will return identical values each time (even if the initializer is unseeded). Please update your code to provide a seed to the initializer, or avoid using the same initializer instance more than once.\n",
            "\n",
            "Processing reviews:   0%|          | 0/949 [00:00<?, ?batch/s]"
          ]
        },
        {
          "output_type": "stream",
          "name": "stdout",
          "text": [
            "2/2 [==============================] - 9s 60ms/step\n"
          ]
        },
        {
          "output_type": "stream",
          "name": "stderr",
          "text": [
            "\rProcessing reviews:   0%|          | 1/949 [00:11<3:02:10, 11.53s/batch]"
          ]
        },
        {
          "output_type": "stream",
          "name": "stdout",
          "text": [
            "2/2 [==============================] - 5s 524ms/step\n"
          ]
        },
        {
          "output_type": "stream",
          "name": "stderr",
          "text": [
            "\rProcessing reviews:   0%|          | 2/949 [00:17<2:05:56,  7.98s/batch]"
          ]
        },
        {
          "output_type": "stream",
          "name": "stdout",
          "text": [
            "2/2 [==============================] - 4s 2s/step\n"
          ]
        },
        {
          "output_type": "stream",
          "name": "stderr",
          "text": [
            "\rProcessing reviews:   0%|          | 3/949 [00:22<1:47:11,  6.80s/batch]"
          ]
        },
        {
          "output_type": "stream",
          "name": "stdout",
          "text": [
            "2/2 [==============================] - 1s 514ms/step\n"
          ]
        },
        {
          "output_type": "stream",
          "name": "stderr",
          "text": [
            "\rProcessing reviews:   0%|          | 4/949 [00:24<1:14:42,  4.74s/batch]"
          ]
        },
        {
          "output_type": "stream",
          "name": "stdout",
          "text": [
            "2/2 [==============================] - 2s 780ms/step\n"
          ]
        },
        {
          "output_type": "stream",
          "name": "stderr",
          "text": [
            "\rProcessing reviews:   1%|          | 5/949 [00:26<1:02:57,  4.00s/batch]"
          ]
        },
        {
          "output_type": "stream",
          "name": "stdout",
          "text": [
            "2/2 [==============================] - 2s 931ms/step\n"
          ]
        },
        {
          "output_type": "stream",
          "name": "stderr",
          "text": [
            "\rProcessing reviews:   1%|          | 6/949 [00:31<1:09:46,  4.44s/batch]"
          ]
        },
        {
          "output_type": "stream",
          "name": "stdout",
          "text": [
            "2/2 [==============================] - 2s 883ms/step\n"
          ]
        },
        {
          "output_type": "stream",
          "name": "stderr",
          "text": [
            "\rProcessing reviews:   1%|          | 7/949 [00:37<1:14:09,  4.72s/batch]"
          ]
        },
        {
          "output_type": "stream",
          "name": "stdout",
          "text": [
            "2/2 [==============================] - 2s 1s/step\n"
          ]
        },
        {
          "output_type": "stream",
          "name": "stderr",
          "text": [
            "\rProcessing reviews:   1%|          | 8/949 [00:42<1:16:42,  4.89s/batch]"
          ]
        },
        {
          "output_type": "stream",
          "name": "stdout",
          "text": [
            "2/2 [==============================] - 3s 2s/step\n"
          ]
        },
        {
          "output_type": "stream",
          "name": "stderr",
          "text": [
            "\rProcessing reviews:   1%|          | 9/949 [00:47<1:18:44,  5.03s/batch]"
          ]
        },
        {
          "output_type": "stream",
          "name": "stdout",
          "text": [
            "2/2 [==============================] - 3s 1s/step\n"
          ]
        },
        {
          "output_type": "stream",
          "name": "stderr",
          "text": [
            "\rProcessing reviews:   1%|          | 10/949 [00:53<1:20:18,  5.13s/batch]"
          ]
        },
        {
          "output_type": "stream",
          "name": "stdout",
          "text": [
            "2/2 [==============================] - 6s 3s/step\n"
          ]
        },
        {
          "output_type": "stream",
          "name": "stderr",
          "text": [
            "\rProcessing reviews:   1%|          | 11/949 [01:03<1:46:03,  6.78s/batch]"
          ]
        },
        {
          "output_type": "stream",
          "name": "stdout",
          "text": [
            "2/2 [==============================] - 3s 1s/step\n"
          ]
        },
        {
          "output_type": "stream",
          "name": "stderr",
          "text": [
            "\rProcessing reviews:   1%|▏         | 12/949 [01:09<1:39:14,  6.35s/batch]"
          ]
        },
        {
          "output_type": "stream",
          "name": "stdout",
          "text": [
            "2/2 [==============================] - 2s 1s/step\n"
          ]
        },
        {
          "output_type": "stream",
          "name": "stderr",
          "text": [
            "\rProcessing reviews:   1%|▏         | 13/949 [01:12<1:25:28,  5.48s/batch]"
          ]
        },
        {
          "output_type": "stream",
          "name": "stdout",
          "text": [
            "2/2 [==============================] - 2s 772ms/step\n"
          ]
        },
        {
          "output_type": "stream",
          "name": "stderr",
          "text": [
            "\rProcessing reviews:   1%|▏         | 14/949 [01:15<1:12:10,  4.63s/batch]"
          ]
        },
        {
          "output_type": "stream",
          "name": "stdout",
          "text": [
            "2/2 [==============================] - 3s 1s/step\n"
          ]
        },
        {
          "output_type": "stream",
          "name": "stderr",
          "text": [
            "\rProcessing reviews:   2%|▏         | 15/949 [01:18<1:07:45,  4.35s/batch]"
          ]
        },
        {
          "output_type": "stream",
          "name": "stdout",
          "text": [
            "2/2 [==============================] - 1s 487ms/step\n"
          ]
        },
        {
          "output_type": "stream",
          "name": "stderr",
          "text": [
            "\rProcessing reviews:   2%|▏         | 16/949 [01:20<54:23,  3.50s/batch]  "
          ]
        },
        {
          "output_type": "stream",
          "name": "stdout",
          "text": [
            "2/2 [==============================] - 2s 802ms/step\n"
          ]
        },
        {
          "output_type": "stream",
          "name": "stderr",
          "text": [
            "\rProcessing reviews:   2%|▏         | 17/949 [01:23<50:43,  3.27s/batch]"
          ]
        },
        {
          "output_type": "stream",
          "name": "stdout",
          "text": [
            "2/2 [==============================] - 2s 1s/step\n"
          ]
        },
        {
          "output_type": "stream",
          "name": "stderr",
          "text": [
            "\rProcessing reviews:   2%|▏         | 18/949 [01:28<1:00:26,  3.90s/batch]"
          ]
        },
        {
          "output_type": "stream",
          "name": "stdout",
          "text": [
            "2/2 [==============================] - 2s 809ms/step\n"
          ]
        },
        {
          "output_type": "stream",
          "name": "stderr",
          "text": [
            "\rProcessing reviews:   2%|▏         | 19/949 [01:31<55:07,  3.56s/batch]  "
          ]
        },
        {
          "output_type": "stream",
          "name": "stdout",
          "text": [
            "2/2 [==============================] - 2s 1s/step\n"
          ]
        },
        {
          "output_type": "stream",
          "name": "stderr",
          "text": [
            "\rProcessing reviews:   2%|▏         | 20/949 [01:34<53:37,  3.46s/batch]"
          ]
        },
        {
          "output_type": "stream",
          "name": "stdout",
          "text": [
            "2/2 [==============================] - 1s 597ms/step\n"
          ]
        },
        {
          "output_type": "stream",
          "name": "stderr",
          "text": [
            "\rProcessing reviews:   2%|▏         | 21/949 [01:36<45:38,  2.95s/batch]"
          ]
        },
        {
          "output_type": "stream",
          "name": "stdout",
          "text": [
            "2/2 [==============================] - 4s 2s/step\n"
          ]
        },
        {
          "output_type": "stream",
          "name": "stderr",
          "text": [
            "\rProcessing reviews:   2%|▏         | 22/949 [01:46<1:20:25,  5.21s/batch]"
          ]
        },
        {
          "output_type": "stream",
          "name": "stdout",
          "text": [
            "2/2 [==============================] - 1s 704ms/step\n"
          ]
        },
        {
          "output_type": "stream",
          "name": "stderr",
          "text": [
            "\rProcessing reviews:   2%|▏         | 23/949 [01:49<1:06:26,  4.31s/batch]"
          ]
        },
        {
          "output_type": "stream",
          "name": "stdout",
          "text": [
            "2/2 [==============================] - 1s 619ms/step\n"
          ]
        },
        {
          "output_type": "stream",
          "name": "stderr",
          "text": [
            "\rProcessing reviews:   3%|▎         | 24/949 [01:50<54:51,  3.56s/batch]  "
          ]
        },
        {
          "output_type": "stream",
          "name": "stdout",
          "text": [
            "2/2 [==============================] - 2s 789ms/step\n"
          ]
        },
        {
          "output_type": "stream",
          "name": "stderr",
          "text": [
            "\rProcessing reviews:   3%|▎         | 25/949 [01:53<50:43,  3.29s/batch]"
          ]
        },
        {
          "output_type": "stream",
          "name": "stdout",
          "text": [
            "2/2 [==============================] - 2s 1s/step\n"
          ]
        },
        {
          "output_type": "stream",
          "name": "stderr",
          "text": [
            "\rProcessing reviews:   3%|▎         | 26/949 [01:58<59:50,  3.89s/batch]"
          ]
        },
        {
          "output_type": "stream",
          "name": "stdout",
          "text": [
            "2/2 [==============================] - 3s 1s/step\n"
          ]
        },
        {
          "output_type": "stream",
          "name": "stderr",
          "text": [
            "\rProcessing reviews:   3%|▎         | 27/949 [02:04<1:06:36,  4.33s/batch]"
          ]
        },
        {
          "output_type": "stream",
          "name": "stdout",
          "text": [
            "2/2 [==============================] - 2s 1s/step\n"
          ]
        },
        {
          "output_type": "stream",
          "name": "stderr",
          "text": [
            "\rProcessing reviews:   3%|▎         | 28/949 [02:09<1:10:46,  4.61s/batch]"
          ]
        },
        {
          "output_type": "stream",
          "name": "stdout",
          "text": [
            "2/2 [==============================] - 2s 887ms/step\n"
          ]
        },
        {
          "output_type": "stream",
          "name": "stderr",
          "text": [
            "\rProcessing reviews:   3%|▎         | 29/949 [02:12<1:01:50,  4.03s/batch]"
          ]
        },
        {
          "output_type": "stream",
          "name": "stdout",
          "text": [
            "2/2 [==============================] - 2s 1s/step\n"
          ]
        },
        {
          "output_type": "stream",
          "name": "stderr",
          "text": [
            "\rProcessing reviews:   3%|▎         | 30/949 [02:17<1:07:34,  4.41s/batch]"
          ]
        },
        {
          "output_type": "stream",
          "name": "stdout",
          "text": [
            "2/2 [==============================] - 3s 2s/step\n"
          ]
        },
        {
          "output_type": "stream",
          "name": "stderr",
          "text": [
            "\rProcessing reviews:   3%|▎         | 31/949 [02:22<1:11:39,  4.68s/batch]"
          ]
        },
        {
          "output_type": "stream",
          "name": "stdout",
          "text": [
            "2/2 [==============================] - 2s 913ms/step\n"
          ]
        },
        {
          "output_type": "stream",
          "name": "stderr",
          "text": [
            "\rProcessing reviews:   3%|▎         | 32/949 [02:25<1:02:21,  4.08s/batch]"
          ]
        },
        {
          "output_type": "stream",
          "name": "stdout",
          "text": [
            "2/2 [==============================] - 3s 2s/step\n"
          ]
        },
        {
          "output_type": "stream",
          "name": "stderr",
          "text": [
            "\rProcessing reviews:   3%|▎         | 33/949 [02:29<1:03:19,  4.15s/batch]"
          ]
        },
        {
          "output_type": "stream",
          "name": "stdout",
          "text": [
            "2/2 [==============================] - 3s 1s/step\n"
          ]
        },
        {
          "output_type": "stream",
          "name": "stderr",
          "text": [
            "\rProcessing reviews:   4%|▎         | 34/949 [02:34<1:08:30,  4.49s/batch]"
          ]
        },
        {
          "output_type": "stream",
          "name": "stdout",
          "text": [
            "2/2 [==============================] - 2s 1s/step\n"
          ]
        },
        {
          "output_type": "stream",
          "name": "stderr",
          "text": [
            "\rProcessing reviews:   4%|▎         | 35/949 [02:40<1:12:13,  4.74s/batch]"
          ]
        },
        {
          "output_type": "stream",
          "name": "stdout",
          "text": [
            "2/2 [==============================] - 3s 2s/step\n"
          ]
        },
        {
          "output_type": "stream",
          "name": "stderr",
          "text": [
            "\rProcessing reviews:   4%|▍         | 36/949 [02:44<1:10:23,  4.63s/batch]"
          ]
        },
        {
          "output_type": "stream",
          "name": "stdout",
          "text": [
            "2/2 [==============================] - 1s 411ms/step\n"
          ]
        },
        {
          "output_type": "stream",
          "name": "stderr",
          "text": [
            "\rProcessing reviews:   4%|▍         | 37/949 [02:45<55:05,  3.62s/batch]  "
          ]
        },
        {
          "output_type": "stream",
          "name": "stdout",
          "text": [
            "2/2 [==============================] - 6s 3s/step\n"
          ]
        },
        {
          "output_type": "stream",
          "name": "stderr",
          "text": [
            "\rProcessing reviews:   4%|▍         | 38/949 [02:56<1:26:13,  5.68s/batch]"
          ]
        },
        {
          "output_type": "stream",
          "name": "stdout",
          "text": [
            "2/2 [==============================] - 4s 2s/step\n"
          ]
        },
        {
          "output_type": "stream",
          "name": "stderr",
          "text": [
            "\rProcessing reviews:   4%|▍         | 39/949 [03:06<1:48:02,  7.12s/batch]"
          ]
        },
        {
          "output_type": "stream",
          "name": "stdout",
          "text": [
            "2/2 [==============================] - 3s 1s/step\n"
          ]
        },
        {
          "output_type": "stream",
          "name": "stderr",
          "text": [
            "\rProcessing reviews:   4%|▍         | 40/949 [03:12<1:39:55,  6.60s/batch]"
          ]
        },
        {
          "output_type": "stream",
          "name": "stdout",
          "text": [
            "2/2 [==============================] - 3s 1s/step\n"
          ]
        },
        {
          "output_type": "stream",
          "name": "stderr",
          "text": [
            "\rProcessing reviews:   4%|▍         | 41/949 [03:15<1:25:59,  5.68s/batch]"
          ]
        },
        {
          "output_type": "stream",
          "name": "stdout",
          "text": [
            "2/2 [==============================] - 2s 1s/step\n"
          ]
        },
        {
          "output_type": "stream",
          "name": "stderr",
          "text": [
            "\rProcessing reviews:   4%|▍         | 42/949 [03:21<1:23:56,  5.55s/batch]"
          ]
        },
        {
          "output_type": "stream",
          "name": "stdout",
          "text": [
            "2/2 [==============================] - 2s 818ms/step\n"
          ]
        },
        {
          "output_type": "stream",
          "name": "stderr",
          "text": [
            "\rProcessing reviews:   5%|▍         | 43/949 [03:23<1:09:36,  4.61s/batch]"
          ]
        },
        {
          "output_type": "stream",
          "name": "stdout",
          "text": [
            "2/2 [==============================] - 4s 2s/step\n"
          ]
        },
        {
          "output_type": "stream",
          "name": "stderr",
          "text": [
            "\rProcessing reviews:   5%|▍         | 44/949 [03:33<1:35:44,  6.35s/batch]"
          ]
        },
        {
          "output_type": "stream",
          "name": "stdout",
          "text": [
            "2/2 [==============================] - 3s 1s/step\n"
          ]
        },
        {
          "output_type": "stream",
          "name": "stderr",
          "text": [
            "\rProcessing reviews:   5%|▍         | 45/949 [03:37<1:23:56,  5.57s/batch]"
          ]
        },
        {
          "output_type": "stream",
          "name": "stdout",
          "text": [
            "2/2 [==============================] - 5s 3s/step\n"
          ]
        },
        {
          "output_type": "stream",
          "name": "stderr",
          "text": [
            "\rProcessing reviews:   5%|▍         | 46/949 [03:48<1:45:59,  7.04s/batch]"
          ]
        },
        {
          "output_type": "stream",
          "name": "stdout",
          "text": [
            "2/2 [==============================] - 2s 748ms/step\n"
          ]
        },
        {
          "output_type": "stream",
          "name": "stderr",
          "text": [
            "\rProcessing reviews:   5%|▍         | 47/949 [03:50<1:24:29,  5.62s/batch]"
          ]
        },
        {
          "output_type": "stream",
          "name": "stdout",
          "text": [
            "2/2 [==============================] - 2s 957ms/step\n"
          ]
        },
        {
          "output_type": "stream",
          "name": "stderr",
          "text": [
            "\rProcessing reviews:   5%|▌         | 48/949 [03:53<1:11:07,  4.74s/batch]"
          ]
        },
        {
          "output_type": "stream",
          "name": "stdout",
          "text": [
            "2/2 [==============================] - 2s 1s/step\n"
          ]
        },
        {
          "output_type": "stream",
          "name": "stderr",
          "text": [
            "\rProcessing reviews:   5%|▌         | 49/949 [03:55<1:02:28,  4.17s/batch]"
          ]
        },
        {
          "output_type": "stream",
          "name": "stdout",
          "text": [
            "2/2 [==============================] - 3s 2s/step\n"
          ]
        },
        {
          "output_type": "stream",
          "name": "stderr",
          "text": [
            "\rProcessing reviews:   5%|▌         | 50/949 [04:01<1:07:33,  4.51s/batch]"
          ]
        },
        {
          "output_type": "stream",
          "name": "stdout",
          "text": [
            "2/2 [==============================] - 2s 979ms/step\n"
          ]
        },
        {
          "output_type": "stream",
          "name": "stderr",
          "text": [
            "\rProcessing reviews:   5%|▌         | 51/949 [04:06<1:11:21,  4.77s/batch]"
          ]
        },
        {
          "output_type": "stream",
          "name": "stdout",
          "text": [
            "2/2 [==============================] - 2s 1s/step\n"
          ]
        },
        {
          "output_type": "stream",
          "name": "stderr",
          "text": [
            "\rProcessing reviews:   5%|▌         | 52/949 [04:09<1:04:59,  4.35s/batch]"
          ]
        },
        {
          "output_type": "stream",
          "name": "stdout",
          "text": [
            "2/2 [==============================] - 3s 1s/step\n"
          ]
        },
        {
          "output_type": "stream",
          "name": "stderr",
          "text": [
            "\rProcessing reviews:   6%|▌         | 53/949 [04:15<1:08:59,  4.62s/batch]"
          ]
        },
        {
          "output_type": "stream",
          "name": "stdout",
          "text": [
            "2/2 [==============================] - 2s 1s/step\n"
          ]
        },
        {
          "output_type": "stream",
          "name": "stderr",
          "text": [
            "\rProcessing reviews:   6%|▌         | 54/949 [04:20<1:11:52,  4.82s/batch]"
          ]
        },
        {
          "output_type": "stream",
          "name": "stdout",
          "text": [
            "2/2 [==============================] - 2s 1s/step\n"
          ]
        },
        {
          "output_type": "stream",
          "name": "stderr",
          "text": [
            "\rProcessing reviews:   6%|▌         | 55/949 [04:25<1:13:58,  4.96s/batch]"
          ]
        },
        {
          "output_type": "stream",
          "name": "stdout",
          "text": [
            "2/2 [==============================] - 3s 1s/step\n"
          ]
        },
        {
          "output_type": "stream",
          "name": "stderr",
          "text": [
            "\rProcessing reviews:   6%|▌         | 56/949 [04:31<1:15:12,  5.05s/batch]"
          ]
        },
        {
          "output_type": "stream",
          "name": "stdout",
          "text": [
            "2/2 [==============================] - 2s 1s/step\n"
          ]
        },
        {
          "output_type": "stream",
          "name": "stderr",
          "text": [
            "\rProcessing reviews:   6%|▌         | 57/949 [04:36<1:16:12,  5.13s/batch]"
          ]
        },
        {
          "output_type": "stream",
          "name": "stdout",
          "text": [
            "2/2 [==============================] - 1s 661ms/step\n"
          ]
        },
        {
          "output_type": "stream",
          "name": "stderr",
          "text": [
            "\rProcessing reviews:   6%|▌         | 58/949 [04:39<1:05:35,  4.42s/batch]"
          ]
        },
        {
          "output_type": "stream",
          "name": "stdout",
          "text": [
            "2/2 [==============================] - 3s 1s/step\n"
          ]
        },
        {
          "output_type": "stream",
          "name": "stderr",
          "text": [
            "\rProcessing reviews:   6%|▌         | 59/949 [04:42<1:02:08,  4.19s/batch]"
          ]
        },
        {
          "output_type": "stream",
          "name": "stdout",
          "text": [
            "2/2 [==============================] - 1s 685ms/step\n"
          ]
        },
        {
          "output_type": "stream",
          "name": "stderr",
          "text": [
            "\rProcessing reviews:   6%|▋         | 60/949 [04:44<52:16,  3.53s/batch]  "
          ]
        },
        {
          "output_type": "stream",
          "name": "stdout",
          "text": [
            "2/2 [==============================] - 2s 1s/step\n"
          ]
        },
        {
          "output_type": "stream",
          "name": "stderr",
          "text": [
            "\rProcessing reviews:   6%|▋         | 61/949 [04:50<59:56,  4.05s/batch]"
          ]
        },
        {
          "output_type": "stream",
          "name": "stdout",
          "text": [
            "2/2 [==============================] - 6s 3s/step\n"
          ]
        },
        {
          "output_type": "stream",
          "name": "stderr",
          "text": [
            "\rProcessing reviews:   7%|▋         | 62/949 [05:00<1:28:01,  5.95s/batch]"
          ]
        },
        {
          "output_type": "stream",
          "name": "stdout",
          "text": [
            "2/2 [==============================] - 4s 2s/step\n"
          ]
        },
        {
          "output_type": "stream",
          "name": "stderr",
          "text": [
            "\rProcessing reviews:   7%|▋         | 63/949 [05:05<1:24:51,  5.75s/batch]"
          ]
        },
        {
          "output_type": "stream",
          "name": "stdout",
          "text": [
            "2/2 [==============================] - 1s 690ms/step\n"
          ]
        },
        {
          "output_type": "stream",
          "name": "stderr",
          "text": [
            "\rProcessing reviews:   7%|▋         | 64/949 [05:08<1:11:13,  4.83s/batch]"
          ]
        },
        {
          "output_type": "stream",
          "name": "stdout",
          "text": [
            "2/2 [==============================] - 4s 2s/step\n"
          ]
        },
        {
          "output_type": "stream",
          "name": "stderr",
          "text": [
            "\rProcessing reviews:   7%|▋         | 65/949 [05:13<1:13:26,  4.98s/batch]"
          ]
        },
        {
          "output_type": "stream",
          "name": "stdout",
          "text": [
            "2/2 [==============================] - 5s 2s/step\n"
          ]
        },
        {
          "output_type": "stream",
          "name": "stderr",
          "text": [
            "\rProcessing reviews:   7%|▋         | 66/949 [05:19<1:17:16,  5.25s/batch]"
          ]
        },
        {
          "output_type": "stream",
          "name": "stdout",
          "text": [
            "2/2 [==============================] - 1s 678ms/step\n"
          ]
        },
        {
          "output_type": "stream",
          "name": "stderr",
          "text": [
            "\rProcessing reviews:   7%|▋         | 67/949 [05:21<1:02:44,  4.27s/batch]"
          ]
        },
        {
          "output_type": "stream",
          "name": "stdout",
          "text": [
            "2/2 [==============================] - 3s 1s/step\n"
          ]
        },
        {
          "output_type": "stream",
          "name": "stderr",
          "text": [
            "\rProcessing reviews:   7%|▋         | 68/949 [05:26<1:07:00,  4.56s/batch]"
          ]
        },
        {
          "output_type": "stream",
          "name": "stdout",
          "text": [
            "2/2 [==============================] - 3s 1s/step\n"
          ]
        },
        {
          "output_type": "stream",
          "name": "stderr",
          "text": [
            "\rProcessing reviews:   7%|▋         | 69/949 [05:32<1:10:09,  4.78s/batch]"
          ]
        },
        {
          "output_type": "stream",
          "name": "stdout",
          "text": [
            "2/2 [==============================] - 4s 2s/step\n"
          ]
        },
        {
          "output_type": "stream",
          "name": "stderr",
          "text": [
            "\rProcessing reviews:   7%|▋         | 70/949 [05:37<1:10:31,  4.81s/batch]"
          ]
        },
        {
          "output_type": "stream",
          "name": "stdout",
          "text": [
            "2/2 [==============================] - 2s 1s/step\n"
          ]
        },
        {
          "output_type": "stream",
          "name": "stderr",
          "text": [
            "\rProcessing reviews:   7%|▋         | 71/949 [05:40<1:02:39,  4.28s/batch]"
          ]
        },
        {
          "output_type": "stream",
          "name": "stdout",
          "text": [
            "2/2 [==============================] - 4s 2s/step\n"
          ]
        },
        {
          "output_type": "stream",
          "name": "stderr",
          "text": [
            "\rProcessing reviews:   8%|▊         | 72/949 [05:50<1:29:40,  6.14s/batch]"
          ]
        },
        {
          "output_type": "stream",
          "name": "stdout",
          "text": [
            "2/2 [==============================] - 6s 3s/step\n"
          ]
        },
        {
          "output_type": "stream",
          "name": "stderr",
          "text": [
            "\rProcessing reviews:   8%|▊         | 73/949 [06:01<1:48:42,  7.45s/batch]"
          ]
        },
        {
          "output_type": "stream",
          "name": "stdout",
          "text": [
            "2/2 [==============================] - 3s 2s/step\n"
          ]
        },
        {
          "output_type": "stream",
          "name": "stderr",
          "text": [
            "\rProcessing reviews:   8%|▊         | 74/949 [06:06<1:39:16,  6.81s/batch]"
          ]
        },
        {
          "output_type": "stream",
          "name": "stdout",
          "text": [
            "2/2 [==============================] - 5s 2s/step\n"
          ]
        },
        {
          "output_type": "stream",
          "name": "stderr",
          "text": [
            "\rProcessing reviews:   8%|▊         | 75/949 [06:16<1:55:05,  7.90s/batch]"
          ]
        },
        {
          "output_type": "stream",
          "name": "stdout",
          "text": [
            "2/2 [==============================] - 2s 1s/step\n"
          ]
        },
        {
          "output_type": "stream",
          "name": "stderr",
          "text": [
            "\rProcessing reviews:   8%|▊         | 76/949 [06:22<1:43:37,  7.12s/batch]"
          ]
        },
        {
          "output_type": "stream",
          "name": "stdout",
          "text": [
            "2/2 [==============================] - 2s 962ms/step\n"
          ]
        },
        {
          "output_type": "stream",
          "name": "stderr",
          "text": [
            "\rProcessing reviews:   8%|▊         | 77/949 [06:25<1:25:39,  5.89s/batch]"
          ]
        },
        {
          "output_type": "stream",
          "name": "stdout",
          "text": [
            "2/2 [==============================] - 4s 2s/step\n"
          ]
        },
        {
          "output_type": "stream",
          "name": "stderr",
          "text": [
            "\rProcessing reviews:   8%|▊         | 78/949 [06:30<1:22:31,  5.68s/batch]"
          ]
        },
        {
          "output_type": "stream",
          "name": "stdout",
          "text": [
            "2/2 [==============================] - 3s 2s/step\n"
          ]
        },
        {
          "output_type": "stream",
          "name": "stderr",
          "text": [
            "\rProcessing reviews:   8%|▊         | 79/949 [06:34<1:17:37,  5.35s/batch]"
          ]
        },
        {
          "output_type": "stream",
          "name": "stdout",
          "text": [
            "2/2 [==============================] - 5s 2s/step\n"
          ]
        },
        {
          "output_type": "stream",
          "name": "stderr",
          "text": [
            "\rProcessing reviews:   8%|▊         | 80/949 [06:41<1:21:08,  5.60s/batch]"
          ]
        },
        {
          "output_type": "stream",
          "name": "stdout",
          "text": [
            "2/2 [==============================] - 4s 2s/step\n"
          ]
        },
        {
          "output_type": "stream",
          "name": "stderr",
          "text": [
            "\rProcessing reviews:   9%|▊         | 81/949 [06:46<1:21:00,  5.60s/batch]"
          ]
        },
        {
          "output_type": "stream",
          "name": "stdout",
          "text": [
            "2/2 [==============================] - 2s 949ms/step\n"
          ]
        },
        {
          "output_type": "stream",
          "name": "stderr",
          "text": [
            "\rProcessing reviews:   9%|▊         | 82/949 [06:49<1:08:17,  4.73s/batch]"
          ]
        },
        {
          "output_type": "stream",
          "name": "stdout",
          "text": [
            "2/2 [==============================] - 5s 3s/step\n"
          ]
        },
        {
          "output_type": "stream",
          "name": "stderr",
          "text": [
            "\rProcessing reviews:   9%|▊         | 83/949 [06:59<1:33:11,  6.46s/batch]"
          ]
        },
        {
          "output_type": "stream",
          "name": "stdout",
          "text": [
            "2/2 [==============================] - 5s 2s/step\n"
          ]
        },
        {
          "output_type": "stream",
          "name": "stderr",
          "text": [
            "\rProcessing reviews:   9%|▉         | 84/949 [07:10<1:50:22,  7.66s/batch]"
          ]
        },
        {
          "output_type": "stream",
          "name": "stdout",
          "text": [
            "2/2 [==============================] - 4s 2s/step\n"
          ]
        },
        {
          "output_type": "stream",
          "name": "stderr",
          "text": [
            "\rProcessing reviews:   9%|▉         | 85/949 [07:20<2:02:02,  8.48s/batch]"
          ]
        },
        {
          "output_type": "stream",
          "name": "stdout",
          "text": [
            "2/2 [==============================] - 2s 752ms/step\n"
          ]
        },
        {
          "output_type": "stream",
          "name": "stderr",
          "text": [
            "\rProcessing reviews:   9%|▉         | 86/949 [07:22<1:35:04,  6.61s/batch]"
          ]
        },
        {
          "output_type": "stream",
          "name": "stdout",
          "text": [
            "2/2 [==============================] - 2s 917ms/step\n"
          ]
        },
        {
          "output_type": "stream",
          "name": "stderr",
          "text": [
            "\rProcessing reviews:   9%|▉         | 87/949 [07:25<1:18:00,  5.43s/batch]"
          ]
        },
        {
          "output_type": "stream",
          "name": "stdout",
          "text": [
            "2/2 [==============================] - 1s 736ms/step\n"
          ]
        },
        {
          "output_type": "stream",
          "name": "stderr",
          "text": [
            "\rProcessing reviews:   9%|▉         | 88/949 [07:27<1:03:50,  4.45s/batch]"
          ]
        },
        {
          "output_type": "stream",
          "name": "stdout",
          "text": [
            "2/2 [==============================] - 4s 2s/step\n"
          ]
        },
        {
          "output_type": "stream",
          "name": "stderr",
          "text": [
            "\rProcessing reviews:   9%|▉         | 89/949 [07:38<1:29:19,  6.23s/batch]"
          ]
        },
        {
          "output_type": "stream",
          "name": "stdout",
          "text": [
            "2/2 [==============================] - 3s 1s/step\n"
          ]
        },
        {
          "output_type": "stream",
          "name": "stderr",
          "text": [
            "\rProcessing reviews:   9%|▉         | 90/949 [07:41<1:17:22,  5.40s/batch]"
          ]
        },
        {
          "output_type": "stream",
          "name": "stdout",
          "text": [
            "2/2 [==============================] - 2s 1s/step\n"
          ]
        },
        {
          "output_type": "stream",
          "name": "stderr",
          "text": [
            "\rProcessing reviews:  10%|▉         | 91/949 [07:46<1:16:46,  5.37s/batch]"
          ]
        },
        {
          "output_type": "stream",
          "name": "stdout",
          "text": [
            "2/2 [==============================] - 3s 2s/step\n"
          ]
        },
        {
          "output_type": "stream",
          "name": "stderr",
          "text": [
            "\rProcessing reviews:  10%|▉         | 92/949 [07:52<1:16:39,  5.37s/batch]"
          ]
        },
        {
          "output_type": "stream",
          "name": "stdout",
          "text": [
            "2/2 [==============================] - 6s 3s/step\n"
          ]
        },
        {
          "output_type": "stream",
          "name": "stderr",
          "text": [
            "\rProcessing reviews:  10%|▉         | 93/949 [08:00<1:27:32,  6.14s/batch]"
          ]
        },
        {
          "output_type": "stream",
          "name": "stdout",
          "text": [
            "2/2 [==============================] - 2s 925ms/step\n"
          ]
        },
        {
          "output_type": "stream",
          "name": "stderr",
          "text": [
            "\rProcessing reviews:  10%|▉         | 94/949 [08:02<1:12:26,  5.08s/batch]"
          ]
        },
        {
          "output_type": "stream",
          "name": "stdout",
          "text": [
            "2/2 [==============================] - 1s 615ms/step\n"
          ]
        },
        {
          "output_type": "stream",
          "name": "stderr",
          "text": [
            "\rProcessing reviews:  10%|█         | 95/949 [08:04<58:12,  4.09s/batch]  "
          ]
        },
        {
          "output_type": "stream",
          "name": "stdout",
          "text": [
            "2/2 [==============================] - 2s 843ms/step\n"
          ]
        },
        {
          "output_type": "stream",
          "name": "stderr",
          "text": [
            "\rProcessing reviews:  10%|█         | 96/949 [08:07<52:13,  3.67s/batch]"
          ]
        },
        {
          "output_type": "stream",
          "name": "stdout",
          "text": [
            "2/2 [==============================] - 2s 842ms/step\n"
          ]
        },
        {
          "output_type": "stream",
          "name": "stderr",
          "text": [
            "\rProcessing reviews:  10%|█         | 97/949 [08:09<47:31,  3.35s/batch]"
          ]
        },
        {
          "output_type": "stream",
          "name": "stdout",
          "text": [
            "2/2 [==============================] - 2s 1s/step\n"
          ]
        },
        {
          "output_type": "stream",
          "name": "stderr",
          "text": [
            "\rProcessing reviews:  10%|█         | 98/949 [08:13<47:31,  3.35s/batch]"
          ]
        },
        {
          "output_type": "stream",
          "name": "stdout",
          "text": [
            "2/2 [==============================] - 5s 2s/step\n"
          ]
        },
        {
          "output_type": "stream",
          "name": "stderr",
          "text": [
            "\rProcessing reviews:  10%|█         | 99/949 [08:19<57:38,  4.07s/batch]"
          ]
        },
        {
          "output_type": "stream",
          "name": "stdout",
          "text": [
            "2/2 [==============================] - 1s 609ms/step\n"
          ]
        },
        {
          "output_type": "stream",
          "name": "stderr",
          "text": [
            "\rProcessing reviews:  11%|█         | 100/949 [08:20<47:43,  3.37s/batch]"
          ]
        },
        {
          "output_type": "stream",
          "name": "stdout",
          "text": [
            "2/2 [==============================] - 2s 900ms/step\n"
          ]
        },
        {
          "output_type": "stream",
          "name": "stderr",
          "text": [
            "\rProcessing reviews:  11%|█         | 101/949 [08:23<44:17,  3.13s/batch]"
          ]
        },
        {
          "output_type": "stream",
          "name": "stdout",
          "text": [
            "2/2 [==============================] - 5s 3s/step\n"
          ]
        },
        {
          "output_type": "stream",
          "name": "stderr",
          "text": [
            "\rProcessing reviews:  11%|█         | 102/949 [08:33<1:15:13,  5.33s/batch]"
          ]
        },
        {
          "output_type": "stream",
          "name": "stdout",
          "text": [
            "2/2 [==============================] - 2s 809ms/step\n"
          ]
        },
        {
          "output_type": "stream",
          "name": "stderr",
          "text": [
            "\rProcessing reviews:  11%|█         | 103/949 [08:36<1:03:55,  4.53s/batch]"
          ]
        },
        {
          "output_type": "stream",
          "name": "stdout",
          "text": [
            "2/2 [==============================] - 2s 1s/step\n"
          ]
        },
        {
          "output_type": "stream",
          "name": "stderr",
          "text": [
            "\rProcessing reviews:  11%|█         | 104/949 [08:41<1:07:01,  4.76s/batch]"
          ]
        },
        {
          "output_type": "stream",
          "name": "stdout",
          "text": [
            "2/2 [==============================] - 2s 1s/step\n"
          ]
        },
        {
          "output_type": "stream",
          "name": "stderr",
          "text": [
            "\rProcessing reviews:  11%|█         | 105/949 [08:47<1:09:26,  4.94s/batch]"
          ]
        },
        {
          "output_type": "stream",
          "name": "stdout",
          "text": [
            "2/2 [==============================] - 3s 2s/step\n"
          ]
        },
        {
          "output_type": "stream",
          "name": "stderr",
          "text": [
            "\rProcessing reviews:  11%|█         | 106/949 [08:51<1:07:08,  4.78s/batch]"
          ]
        },
        {
          "output_type": "stream",
          "name": "stdout",
          "text": [
            "2/2 [==============================] - 2s 841ms/step\n"
          ]
        },
        {
          "output_type": "stream",
          "name": "stderr",
          "text": [
            "\rProcessing reviews:  11%|█▏        | 107/949 [08:54<58:13,  4.15s/batch]  "
          ]
        },
        {
          "output_type": "stream",
          "name": "stdout",
          "text": [
            "2/2 [==============================] - 6s 3s/step\n"
          ]
        },
        {
          "output_type": "stream",
          "name": "stderr",
          "text": [
            "\rProcessing reviews:  11%|█▏        | 108/949 [09:02<1:14:40,  5.33s/batch]"
          ]
        },
        {
          "output_type": "stream",
          "name": "stdout",
          "text": [
            "2/2 [==============================] - 3s 1s/step\n"
          ]
        },
        {
          "output_type": "stream",
          "name": "stderr",
          "text": [
            "\rProcessing reviews:  11%|█▏        | 109/949 [09:07<1:14:28,  5.32s/batch]"
          ]
        },
        {
          "output_type": "stream",
          "name": "stdout",
          "text": [
            "2/2 [==============================] - 1s 484ms/step\n"
          ]
        },
        {
          "output_type": "stream",
          "name": "stderr",
          "text": [
            "\rProcessing reviews:  12%|█▏        | 110/949 [09:09<58:39,  4.20s/batch]  "
          ]
        },
        {
          "output_type": "stream",
          "name": "stdout",
          "text": [
            "2/2 [==============================] - 2s 1s/step\n"
          ]
        },
        {
          "output_type": "stream",
          "name": "stderr",
          "text": [
            "\rProcessing reviews:  12%|█▏        | 111/949 [09:14<1:03:04,  4.52s/batch]"
          ]
        },
        {
          "output_type": "stream",
          "name": "stdout",
          "text": [
            "2/2 [==============================] - 2s 804ms/step\n"
          ]
        },
        {
          "output_type": "stream",
          "name": "stderr",
          "text": [
            "\rProcessing reviews:  12%|█▏        | 112/949 [09:17<55:25,  3.97s/batch]  "
          ]
        },
        {
          "output_type": "stream",
          "name": "stdout",
          "text": [
            "2/2 [==============================] - 2s 1s/step\n"
          ]
        },
        {
          "output_type": "stream",
          "name": "stderr",
          "text": [
            "\rProcessing reviews:  12%|█▏        | 113/949 [09:20<51:48,  3.72s/batch]"
          ]
        },
        {
          "output_type": "stream",
          "name": "stdout",
          "text": [
            "2/2 [==============================] - 6s 3s/step\n"
          ]
        },
        {
          "output_type": "stream",
          "name": "stderr",
          "text": [
            "\rProcessing reviews:  12%|█▏        | 114/949 [09:27<1:07:07,  4.82s/batch]"
          ]
        },
        {
          "output_type": "stream",
          "name": "stdout",
          "text": [
            "2/2 [==============================] - 1s 690ms/step\n"
          ]
        },
        {
          "output_type": "stream",
          "name": "stderr",
          "text": [
            "\rProcessing reviews:  12%|█▏        | 115/949 [09:30<58:06,  4.18s/batch]  "
          ]
        },
        {
          "output_type": "stream",
          "name": "stdout",
          "text": [
            "2/2 [==============================] - 1s 609ms/step\n"
          ]
        },
        {
          "output_type": "stream",
          "name": "stderr",
          "text": [
            "\rProcessing reviews:  12%|█▏        | 116/949 [09:32<48:00,  3.46s/batch]"
          ]
        },
        {
          "output_type": "stream",
          "name": "stdout",
          "text": [
            "2/2 [==============================] - 1s 304ms/step\n"
          ]
        },
        {
          "output_type": "stream",
          "name": "stderr",
          "text": [
            "\rProcessing reviews:  12%|█▏        | 117/949 [09:33<37:42,  2.72s/batch]"
          ]
        },
        {
          "output_type": "stream",
          "name": "stdout",
          "text": [
            "2/2 [==============================] - 1s 719ms/step\n"
          ]
        },
        {
          "output_type": "stream",
          "name": "stderr",
          "text": [
            "\rProcessing reviews:  12%|█▏        | 118/949 [09:35<35:20,  2.55s/batch]"
          ]
        },
        {
          "output_type": "stream",
          "name": "stdout",
          "text": [
            "2/2 [==============================] - 3s 2s/step\n"
          ]
        },
        {
          "output_type": "stream",
          "name": "stderr",
          "text": [
            "\rProcessing reviews:  13%|█▎        | 119/949 [09:39<42:54,  3.10s/batch]"
          ]
        },
        {
          "output_type": "stream",
          "name": "stdout",
          "text": [
            "2/2 [==============================] - 2s 888ms/step\n"
          ]
        },
        {
          "output_type": "stream",
          "name": "stderr",
          "text": [
            "\rProcessing reviews:  13%|█▎        | 120/949 [09:42<41:24,  3.00s/batch]"
          ]
        },
        {
          "output_type": "stream",
          "name": "stdout",
          "text": [
            "2/2 [==============================] - 3s 2s/step\n"
          ]
        },
        {
          "output_type": "stream",
          "name": "stderr",
          "text": [
            "\rProcessing reviews:  13%|█▎        | 121/949 [09:47<50:58,  3.69s/batch]"
          ]
        },
        {
          "output_type": "stream",
          "name": "stdout",
          "text": [
            "2/2 [==============================] - 3s 1s/step\n"
          ]
        },
        {
          "output_type": "stream",
          "name": "stderr",
          "text": [
            "\rProcessing reviews:  13%|█▎        | 122/949 [09:53<57:23,  4.16s/batch]"
          ]
        },
        {
          "output_type": "stream",
          "name": "stdout",
          "text": [
            "2/2 [==============================] - 2s 1s/step\n"
          ]
        },
        {
          "output_type": "stream",
          "name": "stderr",
          "text": [
            "\rProcessing reviews:  13%|█▎        | 123/949 [09:58<1:01:57,  4.50s/batch]"
          ]
        },
        {
          "output_type": "stream",
          "name": "stdout",
          "text": [
            "2/2 [==============================] - 1s 681ms/step\n"
          ]
        },
        {
          "output_type": "stream",
          "name": "stderr",
          "text": [
            "\rProcessing reviews:  13%|█▎        | 124/949 [10:00<52:40,  3.83s/batch]  "
          ]
        },
        {
          "output_type": "stream",
          "name": "stdout",
          "text": [
            "2/2 [==============================] - 2s 1s/step\n"
          ]
        },
        {
          "output_type": "stream",
          "name": "stderr",
          "text": [
            "\rProcessing reviews:  13%|█▎        | 125/949 [10:05<58:46,  4.28s/batch]"
          ]
        },
        {
          "output_type": "stream",
          "name": "stdout",
          "text": [
            "2/2 [==============================] - 2s 802ms/step\n"
          ]
        },
        {
          "output_type": "stream",
          "name": "stderr",
          "text": [
            "\rProcessing reviews:  13%|█▎        | 126/949 [10:08<50:47,  3.70s/batch]"
          ]
        },
        {
          "output_type": "stream",
          "name": "stdout",
          "text": [
            "2/2 [==============================] - 1s 729ms/step\n"
          ]
        },
        {
          "output_type": "stream",
          "name": "stderr",
          "text": [
            "\rProcessing reviews:  13%|█▎        | 127/949 [10:10<44:04,  3.22s/batch]"
          ]
        },
        {
          "output_type": "stream",
          "name": "stdout",
          "text": [
            "2/2 [==============================] - 3s 2s/step\n"
          ]
        },
        {
          "output_type": "stream",
          "name": "stderr",
          "text": [
            "\rProcessing reviews:  13%|█▎        | 128/949 [10:14<48:33,  3.55s/batch]"
          ]
        },
        {
          "output_type": "stream",
          "name": "stdout",
          "text": [
            "2/2 [==============================] - 1s 711ms/step\n"
          ]
        },
        {
          "output_type": "stream",
          "name": "stderr",
          "text": [
            "\rProcessing reviews:  14%|█▎        | 129/949 [10:17<45:16,  3.31s/batch]"
          ]
        },
        {
          "output_type": "stream",
          "name": "stdout",
          "text": [
            "2/2 [==============================] - 3s 1s/step\n"
          ]
        },
        {
          "output_type": "stream",
          "name": "stderr",
          "text": [
            "\rProcessing reviews:  14%|█▎        | 130/949 [10:22<53:26,  3.92s/batch]"
          ]
        },
        {
          "output_type": "stream",
          "name": "stdout",
          "text": [
            "2/2 [==============================] - 3s 2s/step\n"
          ]
        },
        {
          "output_type": "stream",
          "name": "stderr",
          "text": [
            "\rProcessing reviews:  14%|█▍        | 131/949 [10:26<54:44,  4.02s/batch]"
          ]
        },
        {
          "output_type": "stream",
          "name": "stdout",
          "text": [
            "2/2 [==============================] - 6s 3s/step\n"
          ]
        },
        {
          "output_type": "stream",
          "name": "stderr",
          "text": [
            "\rProcessing reviews:  14%|█▍        | 132/949 [10:37<1:20:43,  5.93s/batch]"
          ]
        },
        {
          "output_type": "stream",
          "name": "stdout",
          "text": [
            "2/2 [==============================] - 3s 1s/step\n"
          ]
        },
        {
          "output_type": "stream",
          "name": "stderr",
          "text": [
            "\rProcessing reviews:  14%|█▍        | 133/949 [10:42<1:17:51,  5.73s/batch]"
          ]
        },
        {
          "output_type": "stream",
          "name": "stdout",
          "text": [
            "2/2 [==============================] - 2s 968ms/step\n"
          ]
        },
        {
          "output_type": "stream",
          "name": "stderr",
          "text": [
            "\rProcessing reviews:  14%|█▍        | 134/949 [10:45<1:05:43,  4.84s/batch]"
          ]
        },
        {
          "output_type": "stream",
          "name": "stdout",
          "text": [
            "2/2 [==============================] - 1s 646ms/step\n"
          ]
        },
        {
          "output_type": "stream",
          "name": "stderr",
          "text": [
            "\rProcessing reviews:  14%|█▍        | 135/949 [10:48<56:55,  4.20s/batch]  "
          ]
        },
        {
          "output_type": "stream",
          "name": "stdout",
          "text": [
            "2/2 [==============================] - 4s 2s/step\n"
          ]
        },
        {
          "output_type": "stream",
          "name": "stderr",
          "text": [
            "\rProcessing reviews:  14%|█▍        | 136/949 [10:53<1:01:55,  4.57s/batch]"
          ]
        },
        {
          "output_type": "stream",
          "name": "stdout",
          "text": [
            "2/2 [==============================] - 2s 1s/step\n"
          ]
        },
        {
          "output_type": "stream",
          "name": "stderr",
          "text": [
            "\rProcessing reviews:  14%|█▍        | 137/949 [10:56<56:38,  4.19s/batch]  "
          ]
        },
        {
          "output_type": "stream",
          "name": "stdout",
          "text": [
            "2/2 [==============================] - 3s 1s/step\n"
          ]
        },
        {
          "output_type": "stream",
          "name": "stderr",
          "text": [
            "\rProcessing reviews:  15%|█▍        | 138/949 [11:00<54:01,  4.00s/batch]"
          ]
        },
        {
          "output_type": "stream",
          "name": "stdout",
          "text": [
            "2/2 [==============================] - 6s 3s/step\n"
          ]
        },
        {
          "output_type": "stream",
          "name": "stderr",
          "text": [
            "\rProcessing reviews:  15%|█▍        | 139/949 [11:08<1:09:23,  5.14s/batch]"
          ]
        },
        {
          "output_type": "stream",
          "name": "stdout",
          "text": [
            "2/2 [==============================] - 2s 856ms/step\n"
          ]
        },
        {
          "output_type": "stream",
          "name": "stderr",
          "text": [
            "\rProcessing reviews:  15%|█▍        | 140/949 [11:10<59:47,  4.43s/batch]  "
          ]
        },
        {
          "output_type": "stream",
          "name": "stdout",
          "text": [
            "2/2 [==============================] - 1s 675ms/step\n"
          ]
        },
        {
          "output_type": "stream",
          "name": "stderr",
          "text": [
            "\rProcessing reviews:  15%|█▍        | 141/949 [11:13<52:53,  3.93s/batch]"
          ]
        },
        {
          "output_type": "stream",
          "name": "stdout",
          "text": [
            "2/2 [==============================] - 5s 2s/step\n"
          ]
        },
        {
          "output_type": "stream",
          "name": "stderr",
          "text": [
            "\rProcessing reviews:  15%|█▍        | 142/949 [11:19<1:00:42,  4.51s/batch]"
          ]
        },
        {
          "output_type": "stream",
          "name": "stdout",
          "text": [
            "2/2 [==============================] - 2s 1s/step\n"
          ]
        },
        {
          "output_type": "stream",
          "name": "stderr",
          "text": [
            "\rProcessing reviews:  15%|█▌        | 143/949 [11:24<1:03:45,  4.75s/batch]"
          ]
        },
        {
          "output_type": "stream",
          "name": "stdout",
          "text": [
            "2/2 [==============================] - 2s 1s/step\n"
          ]
        },
        {
          "output_type": "stream",
          "name": "stderr",
          "text": [
            "\rProcessing reviews:  15%|█▌        | 144/949 [11:30<1:06:00,  4.92s/batch]"
          ]
        },
        {
          "output_type": "stream",
          "name": "stdout",
          "text": [
            "2/2 [==============================] - 2s 997ms/step\n"
          ]
        },
        {
          "output_type": "stream",
          "name": "stderr",
          "text": [
            "\rProcessing reviews:  15%|█▌        | 145/949 [11:35<1:07:17,  5.02s/batch]"
          ]
        },
        {
          "output_type": "stream",
          "name": "stdout",
          "text": [
            "2/2 [==============================] - 4s 2s/step\n"
          ]
        },
        {
          "output_type": "stream",
          "name": "stderr",
          "text": [
            "\rProcessing reviews:  15%|█▌        | 146/949 [11:40<1:08:09,  5.09s/batch]"
          ]
        },
        {
          "output_type": "stream",
          "name": "stdout",
          "text": [
            "2/2 [==============================] - 2s 941ms/step\n"
          ]
        },
        {
          "output_type": "stream",
          "name": "stderr",
          "text": [
            "\rProcessing reviews:  15%|█▌        | 147/949 [11:46<1:08:57,  5.16s/batch]"
          ]
        },
        {
          "output_type": "stream",
          "name": "stdout",
          "text": [
            "2/2 [==============================] - 2s 858ms/step\n"
          ]
        },
        {
          "output_type": "stream",
          "name": "stderr",
          "text": [
            "\rProcessing reviews:  16%|█▌        | 148/949 [11:48<59:10,  4.43s/batch]  "
          ]
        },
        {
          "output_type": "stream",
          "name": "stdout",
          "text": [
            "2/2 [==============================] - 2s 1s/step\n"
          ]
        },
        {
          "output_type": "stream",
          "name": "stderr",
          "text": [
            "\rProcessing reviews:  16%|█▌        | 149/949 [11:51<53:39,  4.02s/batch]"
          ]
        },
        {
          "output_type": "stream",
          "name": "stdout",
          "text": [
            "2/2 [==============================] - 3s 2s/step\n"
          ]
        },
        {
          "output_type": "stream",
          "name": "stderr",
          "text": [
            "\rProcessing reviews:  16%|█▌        | 150/949 [11:57<58:34,  4.40s/batch]"
          ]
        },
        {
          "output_type": "stream",
          "name": "stdout",
          "text": [
            "2/2 [==============================] - 2s 784ms/step\n"
          ]
        },
        {
          "output_type": "stream",
          "name": "stderr",
          "text": [
            "\rProcessing reviews:  16%|█▌        | 151/949 [11:59<51:44,  3.89s/batch]"
          ]
        },
        {
          "output_type": "stream",
          "name": "stdout",
          "text": [
            "2/2 [==============================] - 2s 816ms/step\n"
          ]
        },
        {
          "output_type": "stream",
          "name": "stderr",
          "text": [
            "\rProcessing reviews:  16%|█▌        | 152/949 [12:02<47:09,  3.55s/batch]"
          ]
        },
        {
          "output_type": "stream",
          "name": "stdout",
          "text": [
            "2/2 [==============================] - 3s 1s/step\n"
          ]
        },
        {
          "output_type": "stream",
          "name": "stderr",
          "text": [
            "\rProcessing reviews:  16%|█▌        | 153/949 [12:07<54:06,  4.08s/batch]"
          ]
        },
        {
          "output_type": "stream",
          "name": "stdout",
          "text": [
            "2/2 [==============================] - 6s 3s/step\n"
          ]
        },
        {
          "output_type": "stream",
          "name": "stderr",
          "text": [
            "\rProcessing reviews:  16%|█▌        | 154/949 [12:15<1:07:56,  5.13s/batch]"
          ]
        },
        {
          "output_type": "stream",
          "name": "stdout",
          "text": [
            "2/2 [==============================] - 2s 770ms/step\n"
          ]
        },
        {
          "output_type": "stream",
          "name": "stderr",
          "text": [
            "\rProcessing reviews:  16%|█▋        | 155/949 [12:18<58:28,  4.42s/batch]  "
          ]
        },
        {
          "output_type": "stream",
          "name": "stdout",
          "text": [
            "2/2 [==============================] - 2s 1s/step\n"
          ]
        },
        {
          "output_type": "stream",
          "name": "stderr",
          "text": [
            "\rProcessing reviews:  16%|█▋        | 156/949 [12:23<1:01:57,  4.69s/batch]"
          ]
        },
        {
          "output_type": "stream",
          "name": "stdout",
          "text": [
            "2/2 [==============================] - 2s 1s/step\n"
          ]
        },
        {
          "output_type": "stream",
          "name": "stderr",
          "text": [
            "\rProcessing reviews:  17%|█▋        | 157/949 [12:26<55:22,  4.20s/batch]  "
          ]
        },
        {
          "output_type": "stream",
          "name": "stdout",
          "text": [
            "2/2 [==============================] - 2s 809ms/step\n"
          ]
        },
        {
          "output_type": "stream",
          "name": "stderr",
          "text": [
            "\rProcessing reviews:  17%|█▋        | 158/949 [12:28<47:44,  3.62s/batch]"
          ]
        },
        {
          "output_type": "stream",
          "name": "stdout",
          "text": [
            "2/2 [==============================] - 2s 1s/step\n"
          ]
        },
        {
          "output_type": "stream",
          "name": "stderr",
          "text": [
            "\rProcessing reviews:  17%|█▋        | 159/949 [12:34<54:14,  4.12s/batch]"
          ]
        },
        {
          "output_type": "stream",
          "name": "stdout",
          "text": [
            "2/2 [==============================] - 5s 3s/step\n"
          ]
        },
        {
          "output_type": "stream",
          "name": "stderr",
          "text": [
            "\rProcessing reviews:  17%|█▋        | 160/949 [12:44<1:19:05,  6.01s/batch]"
          ]
        },
        {
          "output_type": "stream",
          "name": "stdout",
          "text": [
            "2/2 [==============================] - 2s 856ms/step\n"
          ]
        },
        {
          "output_type": "stream",
          "name": "stderr",
          "text": [
            "\rProcessing reviews:  17%|█▋        | 161/949 [12:47<1:05:49,  5.01s/batch]"
          ]
        },
        {
          "output_type": "stream",
          "name": "stdout",
          "text": [
            "2/2 [==============================] - 2s 1s/step\n"
          ]
        },
        {
          "output_type": "stream",
          "name": "stderr",
          "text": [
            "\rProcessing reviews:  17%|█▋        | 162/949 [12:52<1:06:47,  5.09s/batch]"
          ]
        },
        {
          "output_type": "stream",
          "name": "stdout",
          "text": [
            "2/2 [==============================] - 3s 1s/step\n"
          ]
        },
        {
          "output_type": "stream",
          "name": "stderr",
          "text": [
            "\rProcessing reviews:  17%|█▋        | 163/949 [12:57<1:07:44,  5.17s/batch]"
          ]
        },
        {
          "output_type": "stream",
          "name": "stdout",
          "text": [
            "2/2 [==============================] - 2s 919ms/step\n"
          ]
        },
        {
          "output_type": "stream",
          "name": "stderr",
          "text": [
            "\rProcessing reviews:  17%|█▋        | 164/949 [13:00<58:02,  4.44s/batch]  "
          ]
        },
        {
          "output_type": "stream",
          "name": "stdout",
          "text": [
            "2/2 [==============================] - 3s 1s/step\n"
          ]
        },
        {
          "output_type": "stream",
          "name": "stderr",
          "text": [
            "\rProcessing reviews:  17%|█▋        | 165/949 [13:04<54:47,  4.19s/batch]"
          ]
        },
        {
          "output_type": "stream",
          "name": "stdout",
          "text": [
            "2/2 [==============================] - 2s 1s/step\n"
          ]
        },
        {
          "output_type": "stream",
          "name": "stderr",
          "text": [
            "\rProcessing reviews:  17%|█▋        | 166/949 [13:07<51:41,  3.96s/batch]"
          ]
        },
        {
          "output_type": "stream",
          "name": "stdout",
          "text": [
            "2/2 [==============================] - 3s 1s/step\n"
          ]
        },
        {
          "output_type": "stream",
          "name": "stderr",
          "text": [
            "\rProcessing reviews:  18%|█▊        | 167/949 [13:12<56:52,  4.36s/batch]"
          ]
        },
        {
          "output_type": "stream",
          "name": "stdout",
          "text": [
            "2/2 [==============================] - 2s 1s/step\n"
          ]
        },
        {
          "output_type": "stream",
          "name": "stderr",
          "text": [
            "\rProcessing reviews:  18%|█▊        | 168/949 [13:18<1:00:37,  4.66s/batch]"
          ]
        },
        {
          "output_type": "stream",
          "name": "stdout",
          "text": [
            "2/2 [==============================] - 2s 1s/step\n"
          ]
        },
        {
          "output_type": "stream",
          "name": "stderr",
          "text": [
            "\rProcessing reviews:  18%|█▊        | 169/949 [13:23<1:02:51,  4.84s/batch]"
          ]
        },
        {
          "output_type": "stream",
          "name": "stdout",
          "text": [
            "2/2 [==============================] - 3s 1s/step\n"
          ]
        },
        {
          "output_type": "stream",
          "name": "stderr",
          "text": [
            "\rProcessing reviews:  18%|█▊        | 170/949 [13:28<1:04:34,  4.97s/batch]"
          ]
        },
        {
          "output_type": "stream",
          "name": "stdout",
          "text": [
            "2/2 [==============================] - 2s 905ms/step\n"
          ]
        },
        {
          "output_type": "stream",
          "name": "stderr",
          "text": [
            "\rProcessing reviews:  18%|█▊        | 171/949 [13:34<1:07:29,  5.21s/batch]"
          ]
        },
        {
          "output_type": "stream",
          "name": "stdout",
          "text": [
            "2/2 [==============================] - 5s 3s/step\n"
          ]
        },
        {
          "output_type": "stream",
          "name": "stderr",
          "text": [
            "\rProcessing reviews:  18%|█▊        | 172/949 [13:41<1:12:43,  5.62s/batch]"
          ]
        },
        {
          "output_type": "stream",
          "name": "stdout",
          "text": [
            "2/2 [==============================] - 4s 2s/step\n"
          ]
        },
        {
          "output_type": "stream",
          "name": "stderr",
          "text": [
            "\rProcessing reviews:  18%|█▊        | 173/949 [13:46<1:12:39,  5.62s/batch]"
          ]
        },
        {
          "output_type": "stream",
          "name": "stdout",
          "text": [
            "2/2 [==============================] - 2s 795ms/step\n"
          ]
        },
        {
          "output_type": "stream",
          "name": "stderr",
          "text": [
            "\rProcessing reviews:  18%|█▊        | 174/949 [13:49<1:01:32,  4.76s/batch]"
          ]
        },
        {
          "output_type": "stream",
          "name": "stdout",
          "text": [
            "2/2 [==============================] - 3s 1s/step\n"
          ]
        },
        {
          "output_type": "stream",
          "name": "stderr",
          "text": [
            "\rProcessing reviews:  18%|█▊        | 175/949 [13:53<57:14,  4.44s/batch]  "
          ]
        },
        {
          "output_type": "stream",
          "name": "stdout",
          "text": [
            "2/2 [==============================] - 2s 851ms/step\n"
          ]
        },
        {
          "output_type": "stream",
          "name": "stderr",
          "text": [
            "\rProcessing reviews:  19%|█▊        | 176/949 [13:55<49:13,  3.82s/batch]"
          ]
        },
        {
          "output_type": "stream",
          "name": "stdout",
          "text": [
            "2/2 [==============================] - 2s 829ms/step\n"
          ]
        },
        {
          "output_type": "stream",
          "name": "stderr",
          "text": [
            "\rProcessing reviews:  19%|█▊        | 177/949 [13:58<43:29,  3.38s/batch]"
          ]
        },
        {
          "output_type": "stream",
          "name": "stdout",
          "text": [
            "2/2 [==============================] - 3s 2s/step\n"
          ]
        },
        {
          "output_type": "stream",
          "name": "stderr",
          "text": [
            "\rProcessing reviews:  19%|█▉        | 178/949 [14:02<46:05,  3.59s/batch]"
          ]
        },
        {
          "output_type": "stream",
          "name": "stdout",
          "text": [
            "2/2 [==============================] - 2s 1s/step\n"
          ]
        },
        {
          "output_type": "stream",
          "name": "stderr",
          "text": [
            "\rProcessing reviews:  19%|█▉        | 179/949 [14:07<52:36,  4.10s/batch]"
          ]
        },
        {
          "output_type": "stream",
          "name": "stdout",
          "text": [
            "2/2 [==============================] - 3s 1s/step\n"
          ]
        },
        {
          "output_type": "stream",
          "name": "stderr",
          "text": [
            "\rProcessing reviews:  19%|█▉        | 180/949 [14:11<50:57,  3.98s/batch]"
          ]
        },
        {
          "output_type": "stream",
          "name": "stdout",
          "text": [
            "2/2 [==============================] - 2s 1s/step\n"
          ]
        },
        {
          "output_type": "stream",
          "name": "stderr",
          "text": [
            "\rProcessing reviews:  19%|█▉        | 181/949 [14:16<55:46,  4.36s/batch]"
          ]
        },
        {
          "output_type": "stream",
          "name": "stdout",
          "text": [
            "2/2 [==============================] - 3s 1s/step\n"
          ]
        },
        {
          "output_type": "stream",
          "name": "stderr",
          "text": [
            "\rProcessing reviews:  19%|█▉        | 182/949 [14:21<59:18,  4.64s/batch]"
          ]
        },
        {
          "output_type": "stream",
          "name": "stdout",
          "text": [
            "2/2 [==============================] - 3s 1s/step\n"
          ]
        },
        {
          "output_type": "stream",
          "name": "stderr",
          "text": [
            "\rProcessing reviews:  19%|█▉        | 183/949 [14:26<1:02:01,  4.86s/batch]"
          ]
        },
        {
          "output_type": "stream",
          "name": "stdout",
          "text": [
            "2/2 [==============================] - 3s 1s/step\n"
          ]
        },
        {
          "output_type": "stream",
          "name": "stderr",
          "text": [
            "\rProcessing reviews:  19%|█▉        | 184/949 [14:31<58:50,  4.62s/batch]  "
          ]
        },
        {
          "output_type": "stream",
          "name": "stdout",
          "text": [
            "2/2 [==============================] - 2s 795ms/step\n"
          ]
        },
        {
          "output_type": "stream",
          "name": "stderr",
          "text": [
            "\rProcessing reviews:  19%|█▉        | 185/949 [14:33<51:21,  4.03s/batch]"
          ]
        },
        {
          "output_type": "stream",
          "name": "stdout",
          "text": [
            "2/2 [==============================] - 4s 2s/step\n"
          ]
        },
        {
          "output_type": "stream",
          "name": "stderr",
          "text": [
            "\rProcessing reviews:  20%|█▉        | 186/949 [14:38<54:56,  4.32s/batch]"
          ]
        },
        {
          "output_type": "stream",
          "name": "stdout",
          "text": [
            "2/2 [==============================] - 1s 755ms/step\n"
          ]
        },
        {
          "output_type": "stream",
          "name": "stderr",
          "text": [
            "\rProcessing reviews:  20%|█▉        | 187/949 [14:41<48:53,  3.85s/batch]"
          ]
        },
        {
          "output_type": "stream",
          "name": "stdout",
          "text": [
            "2/2 [==============================] - 2s 1s/step\n"
          ]
        },
        {
          "output_type": "stream",
          "name": "stderr",
          "text": [
            "\rProcessing reviews:  20%|█▉        | 188/949 [14:46<54:26,  4.29s/batch]"
          ]
        },
        {
          "output_type": "stream",
          "name": "stdout",
          "text": [
            "2/2 [==============================] - 4s 2s/step\n"
          ]
        },
        {
          "output_type": "stream",
          "name": "stderr",
          "text": [
            "\rProcessing reviews:  20%|█▉        | 189/949 [14:51<57:43,  4.56s/batch]"
          ]
        },
        {
          "output_type": "stream",
          "name": "stdout",
          "text": [
            "2/2 [==============================] - 6s 3s/step\n"
          ]
        },
        {
          "output_type": "stream",
          "name": "stderr",
          "text": [
            "\rProcessing reviews:  20%|██        | 190/949 [15:02<1:20:09,  6.34s/batch]"
          ]
        },
        {
          "output_type": "stream",
          "name": "stdout",
          "text": [
            "2/2 [==============================] - 3s 1s/step\n"
          ]
        },
        {
          "output_type": "stream",
          "name": "stderr",
          "text": [
            "\rProcessing reviews:  20%|██        | 191/949 [15:06<1:10:00,  5.54s/batch]"
          ]
        },
        {
          "output_type": "stream",
          "name": "stdout",
          "text": [
            "2/2 [==============================] - 3s 2s/step\n"
          ]
        },
        {
          "output_type": "stream",
          "name": "stderr",
          "text": [
            "\rProcessing reviews:  20%|██        | 192/949 [15:10<1:04:08,  5.08s/batch]"
          ]
        },
        {
          "output_type": "stream",
          "name": "stdout",
          "text": [
            "2/2 [==============================] - 1s 567ms/step\n"
          ]
        },
        {
          "output_type": "stream",
          "name": "stderr",
          "text": [
            "\rProcessing reviews:  20%|██        | 193/949 [15:11<51:07,  4.06s/batch]  "
          ]
        },
        {
          "output_type": "stream",
          "name": "stdout",
          "text": [
            "2/2 [==============================] - 3s 1s/step\n"
          ]
        },
        {
          "output_type": "stream",
          "name": "stderr",
          "text": [
            "\rProcessing reviews:  20%|██        | 194/949 [15:17<55:46,  4.43s/batch]"
          ]
        },
        {
          "output_type": "stream",
          "name": "stdout",
          "text": [
            "2/2 [==============================] - 6s 3s/step\n"
          ]
        },
        {
          "output_type": "stream",
          "name": "stderr",
          "text": [
            "\rProcessing reviews:  21%|██        | 195/949 [15:24<1:07:52,  5.40s/batch]"
          ]
        },
        {
          "output_type": "stream",
          "name": "stdout",
          "text": [
            "2/2 [==============================] - 5s 3s/step\n"
          ]
        },
        {
          "output_type": "stream",
          "name": "stderr",
          "text": [
            "\rProcessing reviews:  21%|██        | 196/949 [15:35<1:26:53,  6.92s/batch]"
          ]
        },
        {
          "output_type": "stream",
          "name": "stdout",
          "text": [
            "2/2 [==============================] - 3s 1s/step\n"
          ]
        },
        {
          "output_type": "stream",
          "name": "stderr",
          "text": [
            "\rProcessing reviews:  21%|██        | 197/949 [15:38<1:13:55,  5.90s/batch]"
          ]
        },
        {
          "output_type": "stream",
          "name": "stdout",
          "text": [
            "2/2 [==============================] - 2s 803ms/step\n"
          ]
        },
        {
          "output_type": "stream",
          "name": "stderr",
          "text": [
            "\rProcessing reviews:  21%|██        | 198/949 [15:41<1:01:45,  4.93s/batch]"
          ]
        },
        {
          "output_type": "stream",
          "name": "stdout",
          "text": [
            "2/2 [==============================] - 1s 637ms/step\n"
          ]
        },
        {
          "output_type": "stream",
          "name": "stderr",
          "text": [
            "\rProcessing reviews:  21%|██        | 199/949 [15:43<50:04,  4.01s/batch]  "
          ]
        },
        {
          "output_type": "stream",
          "name": "stdout",
          "text": [
            "2/2 [==============================] - 3s 2s/step\n"
          ]
        },
        {
          "output_type": "stream",
          "name": "stderr",
          "text": [
            "\rProcessing reviews:  21%|██        | 200/949 [15:47<51:52,  4.16s/batch]"
          ]
        },
        {
          "output_type": "stream",
          "name": "stdout",
          "text": [
            "2/2 [==============================] - 2s 1s/step\n"
          ]
        },
        {
          "output_type": "stream",
          "name": "stderr",
          "text": [
            "\rProcessing reviews:  21%|██        | 201/949 [15:53<56:07,  4.50s/batch]"
          ]
        },
        {
          "output_type": "stream",
          "name": "stdout",
          "text": [
            "2/2 [==============================] - 2s 1s/step\n"
          ]
        },
        {
          "output_type": "stream",
          "name": "stderr",
          "text": [
            "\rProcessing reviews:  21%|██▏       | 202/949 [15:56<51:06,  4.11s/batch]"
          ]
        },
        {
          "output_type": "stream",
          "name": "stdout",
          "text": [
            "2/2 [==============================] - 2s 1s/step\n"
          ]
        },
        {
          "output_type": "stream",
          "name": "stderr",
          "text": [
            "\rProcessing reviews:  21%|██▏       | 203/949 [15:59<47:22,  3.81s/batch]"
          ]
        },
        {
          "output_type": "stream",
          "name": "stdout",
          "text": [
            "2/2 [==============================] - 6s 3s/step\n"
          ]
        },
        {
          "output_type": "stream",
          "name": "stderr",
          "text": [
            "\rProcessing reviews:  21%|██▏       | 204/949 [16:09<1:12:05,  5.81s/batch]"
          ]
        },
        {
          "output_type": "stream",
          "name": "stdout",
          "text": [
            "2/2 [==============================] - 4s 2s/step\n"
          ]
        },
        {
          "output_type": "stream",
          "name": "stderr",
          "text": [
            "\rProcessing reviews:  22%|██▏       | 205/949 [16:15<1:11:05,  5.73s/batch]"
          ]
        },
        {
          "output_type": "stream",
          "name": "stdout",
          "text": [
            "2/2 [==============================] - 3s 1s/step\n"
          ]
        },
        {
          "output_type": "stream",
          "name": "stderr",
          "text": [
            "\rProcessing reviews:  22%|██▏       | 206/949 [16:20<1:09:13,  5.59s/batch]"
          ]
        },
        {
          "output_type": "stream",
          "name": "stdout",
          "text": [
            "2/2 [==============================] - 3s 1s/step\n"
          ]
        },
        {
          "output_type": "stream",
          "name": "stderr",
          "text": [
            "\rProcessing reviews:  22%|██▏       | 207/949 [16:25<1:08:04,  5.50s/batch]"
          ]
        },
        {
          "output_type": "stream",
          "name": "stdout",
          "text": [
            "2/2 [==============================] - 4s 2s/step\n"
          ]
        },
        {
          "output_type": "stream",
          "name": "stderr",
          "text": [
            "\rProcessing reviews:  22%|██▏       | 208/949 [16:30<1:05:50,  5.33s/batch]"
          ]
        },
        {
          "output_type": "stream",
          "name": "stdout",
          "text": [
            "2/2 [==============================] - 4s 2s/step\n"
          ]
        },
        {
          "output_type": "stream",
          "name": "stderr",
          "text": [
            "\rProcessing reviews:  22%|██▏       | 209/949 [16:36<1:05:30,  5.31s/batch]"
          ]
        },
        {
          "output_type": "stream",
          "name": "stdout",
          "text": [
            "2/2 [==============================] - 2s 1s/step\n"
          ]
        },
        {
          "output_type": "stream",
          "name": "stderr",
          "text": [
            "\rProcessing reviews:  22%|██▏       | 210/949 [16:39<57:11,  4.64s/batch]  "
          ]
        },
        {
          "output_type": "stream",
          "name": "stdout",
          "text": [
            "2/2 [==============================] - 3s 1s/step\n"
          ]
        },
        {
          "output_type": "stream",
          "name": "stderr",
          "text": [
            "\rProcessing reviews:  22%|██▏       | 211/949 [16:44<59:35,  4.84s/batch]"
          ]
        },
        {
          "output_type": "stream",
          "name": "stdout",
          "text": [
            "2/2 [==============================] - 3s 1s/step\n"
          ]
        },
        {
          "output_type": "stream",
          "name": "stderr",
          "text": [
            "\rProcessing reviews:  22%|██▏       | 212/949 [16:49<1:01:14,  4.99s/batch]"
          ]
        },
        {
          "output_type": "stream",
          "name": "stdout",
          "text": [
            "2/2 [==============================] - 5s 3s/step\n"
          ]
        },
        {
          "output_type": "stream",
          "name": "stderr",
          "text": [
            "\rProcessing reviews:  22%|██▏       | 213/949 [16:56<1:06:58,  5.46s/batch]"
          ]
        },
        {
          "output_type": "stream",
          "name": "stdout",
          "text": [
            "2/2 [==============================] - 4s 2s/step\n"
          ]
        },
        {
          "output_type": "stream",
          "name": "stderr",
          "text": [
            "\rProcessing reviews:  23%|██▎       | 214/949 [17:06<1:24:59,  6.94s/batch]"
          ]
        },
        {
          "output_type": "stream",
          "name": "stdout",
          "text": [
            "2/2 [==============================] - 2s 902ms/step\n"
          ]
        },
        {
          "output_type": "stream",
          "name": "stderr",
          "text": [
            "\rProcessing reviews:  23%|██▎       | 215/949 [17:09<1:08:54,  5.63s/batch]"
          ]
        },
        {
          "output_type": "stream",
          "name": "stdout",
          "text": [
            "2/2 [==============================] - 3s 2s/step\n"
          ]
        },
        {
          "output_type": "stream",
          "name": "stderr",
          "text": [
            "\rProcessing reviews:  23%|██▎       | 216/949 [17:13<1:04:32,  5.28s/batch]"
          ]
        },
        {
          "output_type": "stream",
          "name": "stdout",
          "text": [
            "2/2 [==============================] - 5s 3s/step\n"
          ]
        },
        {
          "output_type": "stream",
          "name": "stderr",
          "text": [
            "\rProcessing reviews:  23%|██▎       | 217/949 [17:24<1:23:11,  6.82s/batch]"
          ]
        },
        {
          "output_type": "stream",
          "name": "stdout",
          "text": [
            "2/2 [==============================] - 6s 3s/step\n"
          ]
        },
        {
          "output_type": "stream",
          "name": "stderr",
          "text": [
            "\rProcessing reviews:  23%|██▎       | 218/949 [17:34<1:36:27,  7.92s/batch]"
          ]
        },
        {
          "output_type": "stream",
          "name": "stdout",
          "text": [
            "2/2 [==============================] - 2s 826ms/step\n"
          ]
        },
        {
          "output_type": "stream",
          "name": "stderr",
          "text": [
            "\rProcessing reviews:  23%|██▎       | 219/949 [17:37<1:17:33,  6.37s/batch]"
          ]
        },
        {
          "output_type": "stream",
          "name": "stdout",
          "text": [
            "2/2 [==============================] - 6s 3s/step\n"
          ]
        },
        {
          "output_type": "stream",
          "name": "stderr",
          "text": [
            "\rProcessing reviews:  23%|██▎       | 220/949 [17:48<1:32:25,  7.61s/batch]"
          ]
        },
        {
          "output_type": "stream",
          "name": "stdout",
          "text": [
            "2/2 [==============================] - 3s 2s/step\n"
          ]
        },
        {
          "output_type": "stream",
          "name": "stderr",
          "text": [
            "\rProcessing reviews:  23%|██▎       | 221/949 [17:53<1:23:55,  6.92s/batch]"
          ]
        },
        {
          "output_type": "stream",
          "name": "stdout",
          "text": [
            "2/2 [==============================] - 3s 2s/step\n"
          ]
        },
        {
          "output_type": "stream",
          "name": "stderr",
          "text": [
            "\rProcessing reviews:  23%|██▎       | 222/949 [17:58<1:18:06,  6.45s/batch]"
          ]
        },
        {
          "output_type": "stream",
          "name": "stdout",
          "text": [
            "2/2 [==============================] - 4s 2s/step\n"
          ]
        },
        {
          "output_type": "stream",
          "name": "stderr",
          "text": [
            "\rProcessing reviews:  23%|██▎       | 223/949 [18:03<1:13:33,  6.08s/batch]"
          ]
        },
        {
          "output_type": "stream",
          "name": "stdout",
          "text": [
            "2/2 [==============================] - 1s 747ms/step\n"
          ]
        },
        {
          "output_type": "stream",
          "name": "stderr",
          "text": [
            "\rProcessing reviews:  24%|██▎       | 224/949 [18:06<59:23,  4.92s/batch]  "
          ]
        },
        {
          "output_type": "stream",
          "name": "stdout",
          "text": [
            "2/2 [==============================] - 1s 569ms/step\n"
          ]
        },
        {
          "output_type": "stream",
          "name": "stderr",
          "text": [
            "\rProcessing reviews:  24%|██▎       | 225/949 [18:08<51:16,  4.25s/batch]"
          ]
        },
        {
          "output_type": "stream",
          "name": "stdout",
          "text": [
            "2/2 [==============================] - 2s 942ms/step\n"
          ]
        },
        {
          "output_type": "stream",
          "name": "stderr",
          "text": [
            "\rProcessing reviews:  24%|██▍       | 226/949 [18:11<46:16,  3.84s/batch]"
          ]
        },
        {
          "output_type": "stream",
          "name": "stdout",
          "text": [
            "2/2 [==============================] - 3s 1s/step\n"
          ]
        },
        {
          "output_type": "stream",
          "name": "stderr",
          "text": [
            "\rProcessing reviews:  24%|██▍       | 227/949 [18:15<47:05,  3.91s/batch]"
          ]
        },
        {
          "output_type": "stream",
          "name": "stdout",
          "text": [
            "2/2 [==============================] - 3s 1s/step\n"
          ]
        },
        {
          "output_type": "stream",
          "name": "stderr",
          "text": [
            "\rProcessing reviews:  24%|██▍       | 228/949 [18:21<52:09,  4.34s/batch]"
          ]
        },
        {
          "output_type": "stream",
          "name": "stdout",
          "text": [
            "2/2 [==============================] - 2s 1s/step\n"
          ]
        },
        {
          "output_type": "stream",
          "name": "stderr",
          "text": [
            "\rProcessing reviews:  24%|██▍       | 229/949 [18:24<48:27,  4.04s/batch]"
          ]
        },
        {
          "output_type": "stream",
          "name": "stdout",
          "text": [
            "2/2 [==============================] - 3s 1s/step\n"
          ]
        },
        {
          "output_type": "stream",
          "name": "stderr",
          "text": [
            "\rProcessing reviews:  24%|██▍       | 230/949 [18:29<52:57,  4.42s/batch]"
          ]
        },
        {
          "output_type": "stream",
          "name": "stdout",
          "text": [
            "2/2 [==============================] - 2s 1s/step\n"
          ]
        },
        {
          "output_type": "stream",
          "name": "stderr",
          "text": [
            "\rProcessing reviews:  24%|██▍       | 231/949 [18:35<56:07,  4.69s/batch]"
          ]
        },
        {
          "output_type": "stream",
          "name": "stdout",
          "text": [
            "2/2 [==============================] - 4s 2s/step\n"
          ]
        },
        {
          "output_type": "stream",
          "name": "stderr",
          "text": [
            "\rProcessing reviews:  24%|██▍       | 232/949 [18:40<57:33,  4.82s/batch]"
          ]
        },
        {
          "output_type": "stream",
          "name": "stdout",
          "text": [
            "2/2 [==============================] - 6s 3s/step\n"
          ]
        },
        {
          "output_type": "stream",
          "name": "stderr",
          "text": [
            "\rProcessing reviews:  25%|██▍       | 233/949 [18:47<1:07:05,  5.62s/batch]"
          ]
        },
        {
          "output_type": "stream",
          "name": "stdout",
          "text": [
            "2/2 [==============================] - 2s 1s/step\n"
          ]
        },
        {
          "output_type": "stream",
          "name": "stderr",
          "text": [
            "\rProcessing reviews:  25%|██▍       | 234/949 [18:53<1:05:58,  5.54s/batch]"
          ]
        },
        {
          "output_type": "stream",
          "name": "stdout",
          "text": [
            "2/2 [==============================] - 2s 920ms/step\n"
          ]
        },
        {
          "output_type": "stream",
          "name": "stderr",
          "text": [
            "\rProcessing reviews:  25%|██▍       | 235/949 [18:55<55:32,  4.67s/batch]  "
          ]
        },
        {
          "output_type": "stream",
          "name": "stdout",
          "text": [
            "2/2 [==============================] - 2s 941ms/step\n"
          ]
        },
        {
          "output_type": "stream",
          "name": "stderr",
          "text": [
            "\rProcessing reviews:  25%|██▍       | 236/949 [18:58<48:28,  4.08s/batch]"
          ]
        },
        {
          "output_type": "stream",
          "name": "stdout",
          "text": [
            "2/2 [==============================] - 2s 1s/step\n"
          ]
        },
        {
          "output_type": "stream",
          "name": "stderr",
          "text": [
            "\rProcessing reviews:  25%|██▍       | 237/949 [19:01<45:07,  3.80s/batch]"
          ]
        },
        {
          "output_type": "stream",
          "name": "stdout",
          "text": [
            "2/2 [==============================] - 3s 1s/step\n"
          ]
        },
        {
          "output_type": "stream",
          "name": "stderr",
          "text": [
            "\rProcessing reviews:  25%|██▌       | 238/949 [19:06<50:22,  4.25s/batch]"
          ]
        },
        {
          "output_type": "stream",
          "name": "stdout",
          "text": [
            "2/2 [==============================] - 2s 1s/step\n"
          ]
        },
        {
          "output_type": "stream",
          "name": "stderr",
          "text": [
            "\rProcessing reviews:  25%|██▌       | 239/949 [19:12<54:05,  4.57s/batch]"
          ]
        },
        {
          "output_type": "stream",
          "name": "stdout",
          "text": [
            "2/2 [==============================] - 4s 2s/step\n"
          ]
        },
        {
          "output_type": "stream",
          "name": "stderr",
          "text": [
            "\rProcessing reviews:  25%|██▌       | 240/949 [19:22<1:14:53,  6.34s/batch]"
          ]
        },
        {
          "output_type": "stream",
          "name": "stdout",
          "text": [
            "2/2 [==============================] - 2s 1s/step\n"
          ]
        },
        {
          "output_type": "stream",
          "name": "stderr",
          "text": [
            "\rProcessing reviews:  25%|██▌       | 241/949 [19:27<1:11:12,  6.04s/batch]"
          ]
        },
        {
          "output_type": "stream",
          "name": "stdout",
          "text": [
            "2/2 [==============================] - 4s 2s/step\n"
          ]
        },
        {
          "output_type": "stream",
          "name": "stderr",
          "text": [
            "\rProcessing reviews:  26%|██▌       | 242/949 [19:32<1:06:24,  5.64s/batch]"
          ]
        },
        {
          "output_type": "stream",
          "name": "stdout",
          "text": [
            "2/2 [==============================] - 5s 3s/step\n"
          ]
        },
        {
          "output_type": "stream",
          "name": "stderr",
          "text": [
            "\rProcessing reviews:  26%|██▌       | 243/949 [19:43<1:23:28,  7.09s/batch]"
          ]
        },
        {
          "output_type": "stream",
          "name": "stdout",
          "text": [
            "2/2 [==============================] - 4s 2s/step\n"
          ]
        },
        {
          "output_type": "stream",
          "name": "stderr",
          "text": [
            "\rProcessing reviews:  26%|██▌       | 244/949 [19:48<1:16:37,  6.52s/batch]"
          ]
        },
        {
          "output_type": "stream",
          "name": "stdout",
          "text": [
            "2/2 [==============================] - 4s 2s/step\n"
          ]
        },
        {
          "output_type": "stream",
          "name": "stderr",
          "text": [
            "\rProcessing reviews:  26%|██▌       | 245/949 [19:53<1:11:29,  6.09s/batch]"
          ]
        },
        {
          "output_type": "stream",
          "name": "stdout",
          "text": [
            "2/2 [==============================] - 2s 917ms/step\n"
          ]
        },
        {
          "output_type": "stream",
          "name": "stderr",
          "text": [
            "\rProcessing reviews:  26%|██▌       | 246/949 [19:56<59:29,  5.08s/batch]  "
          ]
        },
        {
          "output_type": "stream",
          "name": "stdout",
          "text": [
            "2/2 [==============================] - 4s 2s/step\n"
          ]
        },
        {
          "output_type": "stream",
          "name": "stderr",
          "text": [
            "\rProcessing reviews:  26%|██▌       | 247/949 [20:01<1:00:26,  5.17s/batch]"
          ]
        },
        {
          "output_type": "stream",
          "name": "stdout",
          "text": [
            "2/2 [==============================] - 2s 792ms/step\n"
          ]
        },
        {
          "output_type": "stream",
          "name": "stderr",
          "text": [
            "\rProcessing reviews:  26%|██▌       | 248/949 [20:03<50:38,  4.34s/batch]  "
          ]
        },
        {
          "output_type": "stream",
          "name": "stdout",
          "text": [
            "2/2 [==============================] - 2s 1s/step\n"
          ]
        },
        {
          "output_type": "stream",
          "name": "stderr",
          "text": [
            "\rProcessing reviews:  26%|██▌       | 249/949 [20:07<46:36,  4.00s/batch]"
          ]
        },
        {
          "output_type": "stream",
          "name": "stdout",
          "text": [
            "2/2 [==============================] - 6s 3s/step\n"
          ]
        },
        {
          "output_type": "stream",
          "name": "stderr",
          "text": [
            "\rProcessing reviews:  26%|██▋       | 250/949 [20:17<1:09:11,  5.94s/batch]"
          ]
        },
        {
          "output_type": "stream",
          "name": "stdout",
          "text": [
            "2/2 [==============================] - 5s 3s/step\n"
          ]
        },
        {
          "output_type": "stream",
          "name": "stderr",
          "text": [
            "\rProcessing reviews:  26%|██▋       | 251/949 [20:28<1:24:54,  7.30s/batch]"
          ]
        },
        {
          "output_type": "stream",
          "name": "stdout",
          "text": [
            "2/2 [==============================] - 1s 676ms/step\n"
          ]
        },
        {
          "output_type": "stream",
          "name": "stderr",
          "text": [
            "\rProcessing reviews:  27%|██▋       | 252/949 [20:30<1:06:25,  5.72s/batch]"
          ]
        },
        {
          "output_type": "stream",
          "name": "stdout",
          "text": [
            "2/2 [==============================] - 1s 715ms/step\n"
          ]
        },
        {
          "output_type": "stream",
          "name": "stderr",
          "text": [
            "\rProcessing reviews:  27%|██▋       | 253/949 [20:32<55:52,  4.82s/batch]  "
          ]
        },
        {
          "output_type": "stream",
          "name": "stdout",
          "text": [
            "2/2 [==============================] - 2s 1s/step\n"
          ]
        },
        {
          "output_type": "stream",
          "name": "stderr",
          "text": [
            "\rProcessing reviews:  27%|██▋       | 254/949 [20:38<57:31,  4.97s/batch]"
          ]
        },
        {
          "output_type": "stream",
          "name": "stdout",
          "text": [
            "2/2 [==============================] - 1s 624ms/step\n"
          ]
        },
        {
          "output_type": "stream",
          "name": "stderr",
          "text": [
            "\rProcessing reviews:  27%|██▋       | 255/949 [20:40<46:53,  4.05s/batch]"
          ]
        },
        {
          "output_type": "stream",
          "name": "stdout",
          "text": [
            "2/2 [==============================] - 2s 1s/step\n"
          ]
        },
        {
          "output_type": "stream",
          "name": "stderr",
          "text": [
            "\rProcessing reviews:  27%|██▋       | 256/949 [20:43<43:09,  3.74s/batch]"
          ]
        },
        {
          "output_type": "stream",
          "name": "stdout",
          "text": [
            "2/2 [==============================] - 6s 3s/step\n"
          ]
        },
        {
          "output_type": "stream",
          "name": "stderr",
          "text": [
            "\rProcessing reviews:  27%|██▋       | 257/949 [20:53<1:06:25,  5.76s/batch]"
          ]
        },
        {
          "output_type": "stream",
          "name": "stdout",
          "text": [
            "2/2 [==============================] - 3s 2s/step\n"
          ]
        },
        {
          "output_type": "stream",
          "name": "stderr",
          "text": [
            "\rProcessing reviews:  27%|██▋       | 258/949 [20:58<1:04:49,  5.63s/batch]"
          ]
        },
        {
          "output_type": "stream",
          "name": "stdout",
          "text": [
            "2/2 [==============================] - 1s 701ms/step\n"
          ]
        },
        {
          "output_type": "stream",
          "name": "stderr",
          "text": [
            "\rProcessing reviews:  27%|██▋       | 259/949 [21:00<52:12,  4.54s/batch]  "
          ]
        },
        {
          "output_type": "stream",
          "name": "stdout",
          "text": [
            "2/2 [==============================] - 1s 729ms/step\n"
          ]
        },
        {
          "output_type": "stream",
          "name": "stderr",
          "text": [
            "\rProcessing reviews:  27%|██▋       | 260/949 [21:03<45:41,  3.98s/batch]"
          ]
        },
        {
          "output_type": "stream",
          "name": "stdout",
          "text": [
            "2/2 [==============================] - 2s 1s/step\n"
          ]
        },
        {
          "output_type": "stream",
          "name": "stderr",
          "text": [
            "\rProcessing reviews:  28%|██▊       | 261/949 [21:08<50:06,  4.37s/batch]"
          ]
        },
        {
          "output_type": "stream",
          "name": "stdout",
          "text": [
            "2/2 [==============================] - 1s 432ms/step\n"
          ]
        },
        {
          "output_type": "stream",
          "name": "stderr",
          "text": [
            "\rProcessing reviews:  28%|██▊       | 262/949 [21:10<40:29,  3.54s/batch]"
          ]
        },
        {
          "output_type": "stream",
          "name": "stdout",
          "text": [
            "2/2 [==============================] - 2s 1s/step\n"
          ]
        },
        {
          "output_type": "stream",
          "name": "stderr",
          "text": [
            "\rProcessing reviews:  28%|██▊       | 263/949 [21:13<39:29,  3.45s/batch]"
          ]
        },
        {
          "output_type": "stream",
          "name": "stdout",
          "text": [
            "2/2 [==============================] - 2s 808ms/step\n"
          ]
        },
        {
          "output_type": "stream",
          "name": "stderr",
          "text": [
            "\rProcessing reviews:  28%|██▊       | 264/949 [21:15<35:22,  3.10s/batch]"
          ]
        },
        {
          "output_type": "stream",
          "name": "stdout",
          "text": [
            "2/2 [==============================] - 2s 964ms/step\n"
          ]
        },
        {
          "output_type": "stream",
          "name": "stderr",
          "text": [
            "\rProcessing reviews:  28%|██▊       | 265/949 [21:18<33:58,  2.98s/batch]"
          ]
        },
        {
          "output_type": "stream",
          "name": "stdout",
          "text": [
            "2/2 [==============================] - 3s 2s/step\n"
          ]
        },
        {
          "output_type": "stream",
          "name": "stderr",
          "text": [
            "\rProcessing reviews:  28%|██▊       | 266/949 [21:23<41:54,  3.68s/batch]"
          ]
        },
        {
          "output_type": "stream",
          "name": "stdout",
          "text": [
            "2/2 [==============================] - 3s 1s/step\n"
          ]
        },
        {
          "output_type": "stream",
          "name": "stderr",
          "text": [
            "\rProcessing reviews:  28%|██▊       | 267/949 [21:29<47:31,  4.18s/batch]"
          ]
        },
        {
          "output_type": "stream",
          "name": "stdout",
          "text": [
            "2/2 [==============================] - 1s 594ms/step\n"
          ]
        },
        {
          "output_type": "stream",
          "name": "stderr",
          "text": [
            "\rProcessing reviews:  28%|██▊       | 268/949 [21:31<39:41,  3.50s/batch]"
          ]
        },
        {
          "output_type": "stream",
          "name": "stdout",
          "text": [
            "2/2 [==============================] - 4s 2s/step\n"
          ]
        },
        {
          "output_type": "stream",
          "name": "stderr",
          "text": [
            "\rProcessing reviews:  28%|██▊       | 269/949 [21:41<1:03:13,  5.58s/batch]"
          ]
        },
        {
          "output_type": "stream",
          "name": "stdout",
          "text": [
            "2/2 [==============================] - 2s 1s/step\n"
          ]
        },
        {
          "output_type": "stream",
          "name": "stderr",
          "text": [
            "\rProcessing reviews:  28%|██▊       | 270/949 [21:46<1:02:21,  5.51s/batch]"
          ]
        },
        {
          "output_type": "stream",
          "name": "stdout",
          "text": [
            "2/2 [==============================] - 2s 787ms/step\n"
          ]
        },
        {
          "output_type": "stream",
          "name": "stderr",
          "text": [
            "\rProcessing reviews:  29%|██▊       | 271/949 [21:49<51:39,  4.57s/batch]  "
          ]
        },
        {
          "output_type": "stream",
          "name": "stdout",
          "text": [
            "2/2 [==============================] - 3s 1s/step\n"
          ]
        },
        {
          "output_type": "stream",
          "name": "stderr",
          "text": [
            "\rProcessing reviews:  29%|██▊       | 272/949 [21:52<48:07,  4.27s/batch]"
          ]
        },
        {
          "output_type": "stream",
          "name": "stdout",
          "text": [
            "2/2 [==============================] - 5s 3s/step\n"
          ]
        },
        {
          "output_type": "stream",
          "name": "stderr",
          "text": [
            "\rProcessing reviews:  29%|██▉       | 273/949 [21:59<56:24,  5.01s/batch]"
          ]
        },
        {
          "output_type": "stream",
          "name": "stdout",
          "text": [
            "2/2 [==============================] - 6s 3s/step\n"
          ]
        },
        {
          "output_type": "stream",
          "name": "stderr",
          "text": [
            "\rProcessing reviews:  29%|██▉       | 274/949 [22:06<1:03:30,  5.65s/batch]"
          ]
        },
        {
          "output_type": "stream",
          "name": "stdout",
          "text": [
            "2/2 [==============================] - 3s 1s/step\n"
          ]
        },
        {
          "output_type": "stream",
          "name": "stderr",
          "text": [
            "\rProcessing reviews:  29%|██▉       | 275/949 [22:10<57:40,  5.13s/batch]  "
          ]
        },
        {
          "output_type": "stream",
          "name": "stdout",
          "text": [
            "2/2 [==============================] - 5s 2s/step\n"
          ]
        },
        {
          "output_type": "stream",
          "name": "stderr",
          "text": [
            "\rProcessing reviews:  29%|██▉       | 276/949 [22:21<1:15:33,  6.74s/batch]"
          ]
        },
        {
          "output_type": "stream",
          "name": "stdout",
          "text": [
            "2/2 [==============================] - 4s 2s/step\n"
          ]
        },
        {
          "output_type": "stream",
          "name": "stderr",
          "text": [
            "\rProcessing reviews:  29%|██▉       | 277/949 [22:31<1:27:57,  7.85s/batch]"
          ]
        },
        {
          "output_type": "stream",
          "name": "stdout",
          "text": [
            "2/2 [==============================] - 2s 1s/step\n"
          ]
        },
        {
          "output_type": "stream",
          "name": "stderr",
          "text": [
            "\rProcessing reviews:  29%|██▉       | 278/949 [22:36<1:19:16,  7.09s/batch]"
          ]
        },
        {
          "output_type": "stream",
          "name": "stdout",
          "text": [
            "2/2 [==============================] - 4s 2s/step\n"
          ]
        },
        {
          "output_type": "stream",
          "name": "stderr",
          "text": [
            "\rProcessing reviews:  29%|██▉       | 279/949 [22:42<1:13:11,  6.55s/batch]"
          ]
        },
        {
          "output_type": "stream",
          "name": "stdout",
          "text": [
            "2/2 [==============================] - 3s 2s/step\n"
          ]
        },
        {
          "output_type": "stream",
          "name": "stderr",
          "text": [
            "\rProcessing reviews:  30%|██▉       | 280/949 [22:47<1:08:45,  6.17s/batch]"
          ]
        },
        {
          "output_type": "stream",
          "name": "stdout",
          "text": [
            "2/2 [==============================] - 2s 781ms/step\n"
          ]
        },
        {
          "output_type": "stream",
          "name": "stderr",
          "text": [
            "\rProcessing reviews:  30%|██▉       | 281/949 [22:50<56:58,  5.12s/batch]  "
          ]
        },
        {
          "output_type": "stream",
          "name": "stdout",
          "text": [
            "2/2 [==============================] - 1s 765ms/step\n"
          ]
        },
        {
          "output_type": "stream",
          "name": "stderr",
          "text": [
            "\rProcessing reviews:  30%|██▉       | 282/949 [22:52<48:51,  4.39s/batch]"
          ]
        },
        {
          "output_type": "stream",
          "name": "stdout",
          "text": [
            "2/2 [==============================] - 2s 799ms/step\n"
          ]
        },
        {
          "output_type": "stream",
          "name": "stderr",
          "text": [
            "\rProcessing reviews:  30%|██▉       | 283/949 [22:55<43:21,  3.91s/batch]"
          ]
        },
        {
          "output_type": "stream",
          "name": "stdout",
          "text": [
            "2/2 [==============================] - 2s 943ms/step\n"
          ]
        },
        {
          "output_type": "stream",
          "name": "stderr",
          "text": [
            "\rProcessing reviews:  30%|██▉       | 284/949 [22:58<39:54,  3.60s/batch]"
          ]
        },
        {
          "output_type": "stream",
          "name": "stdout",
          "text": [
            "2/2 [==============================] - 5s 3s/step\n"
          ]
        },
        {
          "output_type": "stream",
          "name": "stderr",
          "text": [
            "\rProcessing reviews:  30%|███       | 285/949 [23:09<1:02:38,  5.66s/batch]"
          ]
        },
        {
          "output_type": "stream",
          "name": "stdout",
          "text": [
            "2/2 [==============================] - 2s 941ms/step\n"
          ]
        },
        {
          "output_type": "stream",
          "name": "stderr",
          "text": [
            "\rProcessing reviews:  30%|███       | 286/949 [23:11<53:31,  4.84s/batch]  "
          ]
        },
        {
          "output_type": "stream",
          "name": "stdout",
          "text": [
            "2/2 [==============================] - 3s 1s/step\n"
          ]
        },
        {
          "output_type": "stream",
          "name": "stderr",
          "text": [
            "\rProcessing reviews:  30%|███       | 287/949 [23:17<55:03,  4.99s/batch]"
          ]
        },
        {
          "output_type": "stream",
          "name": "stdout",
          "text": [
            "2/2 [==============================] - 1s 729ms/step\n"
          ]
        },
        {
          "output_type": "stream",
          "name": "stderr",
          "text": [
            "\rProcessing reviews:  30%|███       | 288/949 [23:19<47:18,  4.29s/batch]"
          ]
        },
        {
          "output_type": "stream",
          "name": "stdout",
          "text": [
            "2/2 [==============================] - 1s 704ms/step\n"
          ]
        },
        {
          "output_type": "stream",
          "name": "stderr",
          "text": [
            "\rProcessing reviews:  30%|███       | 289/949 [23:21<39:39,  3.60s/batch]"
          ]
        },
        {
          "output_type": "stream",
          "name": "stdout",
          "text": [
            "2/2 [==============================] - 2s 1s/step\n"
          ]
        },
        {
          "output_type": "stream",
          "name": "stderr",
          "text": [
            "\rProcessing reviews:  31%|███       | 290/949 [23:24<37:12,  3.39s/batch]"
          ]
        },
        {
          "output_type": "stream",
          "name": "stdout",
          "text": [
            "2/2 [==============================] - 1s 742ms/step\n"
          ]
        },
        {
          "output_type": "stream",
          "name": "stderr",
          "text": [
            "\rProcessing reviews:  31%|███       | 291/949 [23:27<34:52,  3.18s/batch]"
          ]
        },
        {
          "output_type": "stream",
          "name": "stdout",
          "text": [
            "2/2 [==============================] - 3s 2s/step\n"
          ]
        },
        {
          "output_type": "stream",
          "name": "stderr",
          "text": [
            "\rProcessing reviews:  31%|███       | 292/949 [23:32<41:58,  3.83s/batch]"
          ]
        },
        {
          "output_type": "stream",
          "name": "stdout",
          "text": [
            "2/2 [==============================] - 1s 766ms/step\n"
          ]
        },
        {
          "output_type": "stream",
          "name": "stderr",
          "text": [
            "\rProcessing reviews:  31%|███       | 293/949 [23:35<36:50,  3.37s/batch]"
          ]
        },
        {
          "output_type": "stream",
          "name": "stdout",
          "text": [
            "2/2 [==============================] - 2s 1s/step\n"
          ]
        },
        {
          "output_type": "stream",
          "name": "stderr",
          "text": [
            "\rProcessing reviews:  31%|███       | 294/949 [23:38<35:13,  3.23s/batch]"
          ]
        },
        {
          "output_type": "stream",
          "name": "stdout",
          "text": [
            "2/2 [==============================] - 2s 806ms/step\n"
          ]
        },
        {
          "output_type": "stream",
          "name": "stderr",
          "text": [
            "\rProcessing reviews:  31%|███       | 295/949 [23:40<33:22,  3.06s/batch]"
          ]
        },
        {
          "output_type": "stream",
          "name": "stdout",
          "text": [
            "2/2 [==============================] - 4s 2s/step\n"
          ]
        },
        {
          "output_type": "stream",
          "name": "stderr",
          "text": [
            "\rProcessing reviews:  31%|███       | 296/949 [23:45<39:53,  3.67s/batch]"
          ]
        },
        {
          "output_type": "stream",
          "name": "stdout",
          "text": [
            "2/2 [==============================] - 2s 922ms/step\n"
          ]
        },
        {
          "output_type": "stream",
          "name": "stderr",
          "text": [
            "\rProcessing reviews:  31%|███▏      | 297/949 [23:51<45:16,  4.17s/batch]"
          ]
        },
        {
          "output_type": "stream",
          "name": "stdout",
          "text": [
            "2/2 [==============================] - 2s 991ms/step\n"
          ]
        },
        {
          "output_type": "stream",
          "name": "stderr",
          "text": [
            "\rProcessing reviews:  31%|███▏      | 298/949 [23:56<48:57,  4.51s/batch]"
          ]
        },
        {
          "output_type": "stream",
          "name": "stdout",
          "text": [
            "2/2 [==============================] - 1s 703ms/step\n"
          ]
        },
        {
          "output_type": "stream",
          "name": "stderr",
          "text": [
            "\rProcessing reviews:  32%|███▏      | 299/949 [23:59<42:58,  3.97s/batch]"
          ]
        },
        {
          "output_type": "stream",
          "name": "stdout",
          "text": [
            "2/2 [==============================] - 2s 1s/step\n"
          ]
        },
        {
          "output_type": "stream",
          "name": "stderr",
          "text": [
            "\rProcessing reviews:  32%|███▏      | 300/949 [24:04<47:09,  4.36s/batch]"
          ]
        },
        {
          "output_type": "stream",
          "name": "stdout",
          "text": [
            "2/2 [==============================] - 1s 704ms/step\n"
          ]
        },
        {
          "output_type": "stream",
          "name": "stderr",
          "text": [
            "\rProcessing reviews:  32%|███▏      | 301/949 [24:06<40:33,  3.75s/batch]"
          ]
        },
        {
          "output_type": "stream",
          "name": "stdout",
          "text": [
            "2/2 [==============================] - 2s 793ms/step\n"
          ]
        },
        {
          "output_type": "stream",
          "name": "stderr",
          "text": [
            "\rProcessing reviews:  32%|███▏      | 302/949 [24:09<37:15,  3.46s/batch]"
          ]
        },
        {
          "output_type": "stream",
          "name": "stdout",
          "text": [
            "2/2 [==============================] - 2s 1s/step\n"
          ]
        },
        {
          "output_type": "stream",
          "name": "stderr",
          "text": [
            "\rProcessing reviews:  32%|███▏      | 303/949 [24:14<42:59,  3.99s/batch]"
          ]
        },
        {
          "output_type": "stream",
          "name": "stdout",
          "text": [
            "2/2 [==============================] - 2s 865ms/step\n"
          ]
        },
        {
          "output_type": "stream",
          "name": "stderr",
          "text": [
            "\rProcessing reviews:  32%|███▏      | 304/949 [24:17<38:40,  3.60s/batch]"
          ]
        },
        {
          "output_type": "stream",
          "name": "stdout",
          "text": [
            "2/2 [==============================] - 2s 1s/step\n"
          ]
        },
        {
          "output_type": "stream",
          "name": "stderr",
          "text": [
            "\rProcessing reviews:  32%|███▏      | 305/949 [24:22<44:03,  4.11s/batch]"
          ]
        },
        {
          "output_type": "stream",
          "name": "stdout",
          "text": [
            "2/2 [==============================] - 6s 3s/step\n"
          ]
        },
        {
          "output_type": "stream",
          "name": "stderr",
          "text": [
            "\rProcessing reviews:  32%|███▏      | 306/949 [24:33<1:04:25,  6.01s/batch]"
          ]
        },
        {
          "output_type": "stream",
          "name": "stdout",
          "text": [
            "2/2 [==============================] - 2s 1s/step\n"
          ]
        },
        {
          "output_type": "stream",
          "name": "stderr",
          "text": [
            "\rProcessing reviews:  32%|███▏      | 307/949 [24:38<1:02:01,  5.80s/batch]"
          ]
        },
        {
          "output_type": "stream",
          "name": "stdout",
          "text": [
            "2/2 [==============================] - 2s 774ms/step\n"
          ]
        },
        {
          "output_type": "stream",
          "name": "stderr",
          "text": [
            "\rProcessing reviews:  32%|███▏      | 308/949 [24:41<52:16,  4.89s/batch]  "
          ]
        },
        {
          "output_type": "stream",
          "name": "stdout",
          "text": [
            "2/2 [==============================] - 2s 921ms/step\n"
          ]
        },
        {
          "output_type": "stream",
          "name": "stderr",
          "text": [
            "\rProcessing reviews:  33%|███▎      | 309/949 [24:44<45:23,  4.26s/batch]"
          ]
        },
        {
          "output_type": "stream",
          "name": "stdout",
          "text": [
            "2/2 [==============================] - 4s 2s/step\n"
          ]
        },
        {
          "output_type": "stream",
          "name": "stderr",
          "text": [
            "\rProcessing reviews:  33%|███▎      | 310/949 [24:49<48:57,  4.60s/batch]"
          ]
        },
        {
          "output_type": "stream",
          "name": "stdout",
          "text": [
            "2/2 [==============================] - 2s 833ms/step\n"
          ]
        },
        {
          "output_type": "stream",
          "name": "stderr",
          "text": [
            "\rProcessing reviews:  33%|███▎      | 311/949 [24:51<41:49,  3.93s/batch]"
          ]
        },
        {
          "output_type": "stream",
          "name": "stdout",
          "text": [
            "2/2 [==============================] - 6s 3s/step\n"
          ]
        },
        {
          "output_type": "stream",
          "name": "stderr",
          "text": [
            "\rProcessing reviews:  33%|███▎      | 312/949 [25:02<1:02:23,  5.88s/batch]"
          ]
        },
        {
          "output_type": "stream",
          "name": "stdout",
          "text": [
            "2/2 [==============================] - 3s 2s/step\n"
          ]
        },
        {
          "output_type": "stream",
          "name": "stderr",
          "text": [
            "\rProcessing reviews:  33%|███▎      | 313/949 [25:06<56:43,  5.35s/batch]  "
          ]
        },
        {
          "output_type": "stream",
          "name": "stdout",
          "text": [
            "2/2 [==============================] - 3s 1s/step\n"
          ]
        },
        {
          "output_type": "stream",
          "name": "stderr",
          "text": [
            "\rProcessing reviews:  33%|███▎      | 314/949 [25:11<56:22,  5.33s/batch]"
          ]
        },
        {
          "output_type": "stream",
          "name": "stdout",
          "text": [
            "2/2 [==============================] - 2s 1s/step\n"
          ]
        },
        {
          "output_type": "stream",
          "name": "stderr",
          "text": [
            "\rProcessing reviews:  33%|███▎      | 315/949 [25:14<49:40,  4.70s/batch]"
          ]
        },
        {
          "output_type": "stream",
          "name": "stdout",
          "text": [
            "2/2 [==============================] - 2s 883ms/step\n"
          ]
        },
        {
          "output_type": "stream",
          "name": "stderr",
          "text": [
            "\rProcessing reviews:  33%|███▎      | 316/949 [25:17<43:19,  4.11s/batch]"
          ]
        },
        {
          "output_type": "stream",
          "name": "stdout",
          "text": [
            "2/2 [==============================] - 1s 760ms/step\n"
          ]
        },
        {
          "output_type": "stream",
          "name": "stderr",
          "text": [
            "\rProcessing reviews:  33%|███▎      | 317/949 [25:20<38:57,  3.70s/batch]"
          ]
        },
        {
          "output_type": "stream",
          "name": "stdout",
          "text": [
            "2/2 [==============================] - 2s 1s/step\n"
          ]
        },
        {
          "output_type": "stream",
          "name": "stderr",
          "text": [
            "\rProcessing reviews:  34%|███▎      | 318/949 [25:25<43:49,  4.17s/batch]"
          ]
        },
        {
          "output_type": "stream",
          "name": "stdout",
          "text": [
            "2/2 [==============================] - 3s 2s/step\n"
          ]
        },
        {
          "output_type": "stream",
          "name": "stderr",
          "text": [
            "\rProcessing reviews:  34%|███▎      | 319/949 [25:30<47:22,  4.51s/batch]"
          ]
        },
        {
          "output_type": "stream",
          "name": "stdout",
          "text": [
            "2/2 [==============================] - 2s 932ms/step\n"
          ]
        },
        {
          "output_type": "stream",
          "name": "stderr",
          "text": [
            "\rProcessing reviews:  34%|███▎      | 320/949 [25:33<42:10,  4.02s/batch]"
          ]
        },
        {
          "output_type": "stream",
          "name": "stdout",
          "text": [
            "2/2 [==============================] - 1s 756ms/step\n"
          ]
        },
        {
          "output_type": "stream",
          "name": "stderr",
          "text": [
            "\rProcessing reviews:  34%|███▍      | 321/949 [25:36<38:07,  3.64s/batch]"
          ]
        },
        {
          "output_type": "stream",
          "name": "stdout",
          "text": [
            "2/2 [==============================] - 1s 737ms/step\n"
          ]
        },
        {
          "output_type": "stream",
          "name": "stderr",
          "text": [
            "\rProcessing reviews:  34%|███▍      | 322/949 [25:39<35:09,  3.36s/batch]"
          ]
        },
        {
          "output_type": "stream",
          "name": "stdout",
          "text": [
            "2/2 [==============================] - 2s 1s/step\n"
          ]
        },
        {
          "output_type": "stream",
          "name": "stderr",
          "text": [
            "\rProcessing reviews:  34%|███▍      | 323/949 [25:44<41:01,  3.93s/batch]"
          ]
        },
        {
          "output_type": "stream",
          "name": "stdout",
          "text": [
            "2/2 [==============================] - 1s 622ms/step\n"
          ]
        },
        {
          "output_type": "stream",
          "name": "stderr",
          "text": [
            "\rProcessing reviews:  34%|███▍      | 324/949 [25:47<37:00,  3.55s/batch]"
          ]
        },
        {
          "output_type": "stream",
          "name": "stdout",
          "text": [
            "2/2 [==============================] - 1s 635ms/step\n"
          ]
        },
        {
          "output_type": "stream",
          "name": "stderr",
          "text": [
            "\rProcessing reviews:  34%|███▍      | 325/949 [25:49<34:17,  3.30s/batch]"
          ]
        },
        {
          "output_type": "stream",
          "name": "stdout",
          "text": [
            "2/2 [==============================] - 1s 641ms/step\n"
          ]
        },
        {
          "output_type": "stream",
          "name": "stderr",
          "text": [
            "\rProcessing reviews:  34%|███▍      | 326/949 [25:52<32:32,  3.13s/batch]"
          ]
        },
        {
          "output_type": "stream",
          "name": "stdout",
          "text": [
            "2/2 [==============================] - 2s 868ms/step\n"
          ]
        },
        {
          "output_type": "stream",
          "name": "stderr",
          "text": [
            "\rProcessing reviews:  34%|███▍      | 327/949 [25:55<31:05,  3.00s/batch]"
          ]
        },
        {
          "output_type": "stream",
          "name": "stdout",
          "text": [
            "2/2 [==============================] - 2s 906ms/step\n"
          ]
        },
        {
          "output_type": "stream",
          "name": "stderr",
          "text": [
            "\rProcessing reviews:  35%|███▍      | 328/949 [25:58<30:13,  2.92s/batch]"
          ]
        },
        {
          "output_type": "stream",
          "name": "stdout",
          "text": [
            "2/2 [==============================] - 1s 579ms/step\n"
          ]
        },
        {
          "output_type": "stream",
          "name": "stderr",
          "text": [
            "\rProcessing reviews:  35%|███▍      | 329/949 [26:00<29:24,  2.85s/batch]"
          ]
        },
        {
          "output_type": "stream",
          "name": "stdout",
          "text": [
            "2/2 [==============================] - 3s 2s/step\n"
          ]
        },
        {
          "output_type": "stream",
          "name": "stderr",
          "text": [
            "\rProcessing reviews:  35%|███▍      | 330/949 [26:04<33:00,  3.20s/batch]"
          ]
        },
        {
          "output_type": "stream",
          "name": "stdout",
          "text": [
            "2/2 [==============================] - 1s 662ms/step\n"
          ]
        },
        {
          "output_type": "stream",
          "name": "stderr",
          "text": [
            "\rProcessing reviews:  35%|███▍      | 331/949 [26:07<31:26,  3.05s/batch]"
          ]
        },
        {
          "output_type": "stream",
          "name": "stdout",
          "text": [
            "2/2 [==============================] - 5s 3s/step\n"
          ]
        },
        {
          "output_type": "stream",
          "name": "stderr",
          "text": [
            "\rProcessing reviews:  35%|███▍      | 332/949 [26:14<42:13,  4.11s/batch]"
          ]
        },
        {
          "output_type": "stream",
          "name": "stdout",
          "text": [
            "2/2 [==============================] - 2s 1s/step\n"
          ]
        },
        {
          "output_type": "stream",
          "name": "stderr",
          "text": [
            "\rProcessing reviews:  35%|███▌      | 333/949 [26:17<39:59,  3.90s/batch]"
          ]
        },
        {
          "output_type": "stream",
          "name": "stdout",
          "text": [
            "2/2 [==============================] - 2s 812ms/step\n"
          ]
        },
        {
          "output_type": "stream",
          "name": "stderr",
          "text": [
            "\rProcessing reviews:  35%|███▌      | 334/949 [26:20<36:11,  3.53s/batch]"
          ]
        },
        {
          "output_type": "stream",
          "name": "stdout",
          "text": [
            "2/2 [==============================] - 3s 1s/step\n"
          ]
        },
        {
          "output_type": "stream",
          "name": "stderr",
          "text": [
            "\rProcessing reviews:  35%|███▌      | 335/949 [26:25<41:34,  4.06s/batch]"
          ]
        },
        {
          "output_type": "stream",
          "name": "stdout",
          "text": [
            "2/2 [==============================] - 2s 858ms/step\n"
          ]
        },
        {
          "output_type": "stream",
          "name": "stderr",
          "text": [
            "\rProcessing reviews:  35%|███▌      | 336/949 [26:28<37:33,  3.68s/batch]"
          ]
        },
        {
          "output_type": "stream",
          "name": "stdout",
          "text": [
            "2/2 [==============================] - 5s 2s/step\n"
          ]
        },
        {
          "output_type": "stream",
          "name": "stderr",
          "text": [
            "\rProcessing reviews:  36%|███▌      | 337/949 [26:38<58:16,  5.71s/batch]"
          ]
        },
        {
          "output_type": "stream",
          "name": "stdout",
          "text": [
            "2/2 [==============================] - 3s 1s/step\n"
          ]
        },
        {
          "output_type": "stream",
          "name": "stderr",
          "text": [
            "\rProcessing reviews:  36%|███▌      | 338/949 [26:43<56:55,  5.59s/batch]"
          ]
        },
        {
          "output_type": "stream",
          "name": "stdout",
          "text": [
            "2/2 [==============================] - 4s 2s/step\n"
          ]
        },
        {
          "output_type": "stream",
          "name": "stderr",
          "text": [
            "\rProcessing reviews:  36%|███▌      | 339/949 [26:49<56:04,  5.52s/batch]"
          ]
        },
        {
          "output_type": "stream",
          "name": "stdout",
          "text": [
            "2/2 [==============================] - 3s 1s/step\n"
          ]
        },
        {
          "output_type": "stream",
          "name": "stderr",
          "text": [
            "\rProcessing reviews:  36%|███▌      | 340/949 [26:54<55:10,  5.44s/batch]"
          ]
        },
        {
          "output_type": "stream",
          "name": "stdout",
          "text": [
            "2/2 [==============================] - 1s 664ms/step\n"
          ]
        },
        {
          "output_type": "stream",
          "name": "stderr",
          "text": [
            "\rProcessing reviews:  36%|███▌      | 341/949 [26:57<46:40,  4.61s/batch]"
          ]
        },
        {
          "output_type": "stream",
          "name": "stdout",
          "text": [
            "2/2 [==============================] - 1s 599ms/step\n"
          ]
        },
        {
          "output_type": "stream",
          "name": "stderr",
          "text": [
            "\rProcessing reviews:  36%|███▌      | 342/949 [26:59<40:48,  4.03s/batch]"
          ]
        },
        {
          "output_type": "stream",
          "name": "stdout",
          "text": [
            "2/2 [==============================] - 1s 741ms/step\n"
          ]
        },
        {
          "output_type": "stream",
          "name": "stderr",
          "text": [
            "\rProcessing reviews:  36%|███▌      | 343/949 [27:02<35:33,  3.52s/batch]"
          ]
        },
        {
          "output_type": "stream",
          "name": "stdout",
          "text": [
            "2/2 [==============================] - 1s 561ms/step\n"
          ]
        },
        {
          "output_type": "stream",
          "name": "stderr",
          "text": [
            "\rProcessing reviews:  36%|███▌      | 344/949 [27:05<33:09,  3.29s/batch]"
          ]
        },
        {
          "output_type": "stream",
          "name": "stdout",
          "text": [
            "2/2 [==============================] - 1s 641ms/step\n"
          ]
        },
        {
          "output_type": "stream",
          "name": "stderr",
          "text": [
            "\rProcessing reviews:  36%|███▋      | 345/949 [27:06<29:01,  2.88s/batch]"
          ]
        },
        {
          "output_type": "stream",
          "name": "stdout",
          "text": [
            "2/2 [==============================] - 2s 1s/step\n"
          ]
        },
        {
          "output_type": "stream",
          "name": "stderr",
          "text": [
            "\rProcessing reviews:  36%|███▋      | 346/949 [27:12<36:07,  3.59s/batch]"
          ]
        },
        {
          "output_type": "stream",
          "name": "stdout",
          "text": [
            "2/2 [==============================] - 2s 1s/step\n"
          ]
        },
        {
          "output_type": "stream",
          "name": "stderr",
          "text": [
            "\rProcessing reviews:  37%|███▋      | 347/949 [27:15<33:58,  3.39s/batch]"
          ]
        },
        {
          "output_type": "stream",
          "name": "stdout",
          "text": [
            "2/2 [==============================] - 3s 1s/step\n"
          ]
        },
        {
          "output_type": "stream",
          "name": "stderr",
          "text": [
            "\rProcessing reviews:  37%|███▋      | 348/949 [27:20<39:42,  3.96s/batch]"
          ]
        },
        {
          "output_type": "stream",
          "name": "stdout",
          "text": [
            "2/2 [==============================] - 2s 1s/step\n"
          ]
        },
        {
          "output_type": "stream",
          "name": "stderr",
          "text": [
            "\rProcessing reviews:  37%|███▋      | 349/949 [27:23<38:19,  3.83s/batch]"
          ]
        },
        {
          "output_type": "stream",
          "name": "stdout",
          "text": [
            "2/2 [==============================] - 1s 734ms/step\n"
          ]
        },
        {
          "output_type": "stream",
          "name": "stderr",
          "text": [
            "\rProcessing reviews:  37%|███▋      | 350/949 [27:26<33:01,  3.31s/batch]"
          ]
        },
        {
          "output_type": "stream",
          "name": "stdout",
          "text": [
            "2/2 [==============================] - 1s 701ms/step\n"
          ]
        },
        {
          "output_type": "stream",
          "name": "stderr",
          "text": [
            "\rProcessing reviews:  37%|███▋      | 351/949 [27:28<31:04,  3.12s/batch]"
          ]
        },
        {
          "output_type": "stream",
          "name": "stdout",
          "text": [
            "2/2 [==============================] - 6s 3s/step\n"
          ]
        },
        {
          "output_type": "stream",
          "name": "stderr",
          "text": [
            "\rProcessing reviews:  37%|███▋      | 352/949 [27:39<52:57,  5.32s/batch]"
          ]
        },
        {
          "output_type": "stream",
          "name": "stdout",
          "text": [
            "2/2 [==============================] - 6s 3s/step\n"
          ]
        },
        {
          "output_type": "stream",
          "name": "stderr",
          "text": [
            "\rProcessing reviews:  37%|███▋      | 353/949 [27:46<59:44,  6.01s/batch]"
          ]
        },
        {
          "output_type": "stream",
          "name": "stdout",
          "text": [
            "2/2 [==============================] - 1s 610ms/step\n"
          ]
        },
        {
          "output_type": "stream",
          "name": "stderr",
          "text": [
            "\rProcessing reviews:  37%|███▋      | 354/949 [27:49<49:41,  5.01s/batch]"
          ]
        },
        {
          "output_type": "stream",
          "name": "stdout",
          "text": [
            "2/2 [==============================] - 5s 3s/step\n"
          ]
        },
        {
          "output_type": "stream",
          "name": "stderr",
          "text": [
            "\rProcessing reviews:  37%|███▋      | 355/949 [27:59<1:05:43,  6.64s/batch]"
          ]
        },
        {
          "output_type": "stream",
          "name": "stdout",
          "text": [
            "2/2 [==============================] - 3s 1s/step\n"
          ]
        },
        {
          "output_type": "stream",
          "name": "stderr",
          "text": [
            "\rProcessing reviews:  38%|███▊      | 356/949 [28:03<56:40,  5.73s/batch]  "
          ]
        },
        {
          "output_type": "stream",
          "name": "stdout",
          "text": [
            "2/2 [==============================] - 3s 1s/step\n"
          ]
        },
        {
          "output_type": "stream",
          "name": "stderr",
          "text": [
            "\rProcessing reviews:  38%|███▊      | 357/949 [28:07<50:27,  5.11s/batch]"
          ]
        },
        {
          "output_type": "stream",
          "name": "stdout",
          "text": [
            "2/2 [==============================] - 2s 1s/step\n"
          ]
        },
        {
          "output_type": "stream",
          "name": "stderr",
          "text": [
            "\rProcessing reviews:  38%|███▊      | 358/949 [28:10<45:54,  4.66s/batch]"
          ]
        },
        {
          "output_type": "stream",
          "name": "stdout",
          "text": [
            "2/2 [==============================] - 2s 1s/step\n"
          ]
        },
        {
          "output_type": "stream",
          "name": "stderr",
          "text": [
            "\rProcessing reviews:  38%|███▊      | 359/949 [28:16<47:49,  4.86s/batch]"
          ]
        },
        {
          "output_type": "stream",
          "name": "stdout",
          "text": [
            "2/2 [==============================] - 3s 2s/step\n"
          ]
        },
        {
          "output_type": "stream",
          "name": "stderr",
          "text": [
            "\rProcessing reviews:  38%|███▊      | 360/949 [28:21<49:09,  5.01s/batch]"
          ]
        },
        {
          "output_type": "stream",
          "name": "stdout",
          "text": [
            "2/2 [==============================] - 2s 1s/step\n"
          ]
        },
        {
          "output_type": "stream",
          "name": "stderr",
          "text": [
            "\rProcessing reviews:  38%|███▊      | 361/949 [28:24<43:38,  4.45s/batch]"
          ]
        },
        {
          "output_type": "stream",
          "name": "stdout",
          "text": [
            "2/2 [==============================] - 2s 926ms/step\n"
          ]
        },
        {
          "output_type": "stream",
          "name": "stderr",
          "text": [
            "\rProcessing reviews:  38%|███▊      | 362/949 [28:29<45:59,  4.70s/batch]"
          ]
        },
        {
          "output_type": "stream",
          "name": "stdout",
          "text": [
            "2/2 [==============================] - 3s 1s/step\n"
          ]
        },
        {
          "output_type": "stream",
          "name": "stderr",
          "text": [
            "\rProcessing reviews:  38%|███▊      | 363/949 [28:35<47:46,  4.89s/batch]"
          ]
        },
        {
          "output_type": "stream",
          "name": "stdout",
          "text": [
            "2/2 [==============================] - 4s 2s/step\n"
          ]
        },
        {
          "output_type": "stream",
          "name": "stderr",
          "text": [
            "\rProcessing reviews:  38%|███▊      | 364/949 [28:40<48:46,  5.00s/batch]"
          ]
        },
        {
          "output_type": "stream",
          "name": "stdout",
          "text": [
            "2/2 [==============================] - 2s 1s/step\n"
          ]
        },
        {
          "output_type": "stream",
          "name": "stderr",
          "text": [
            "\rProcessing reviews:  38%|███▊      | 365/949 [28:45<49:32,  5.09s/batch]"
          ]
        },
        {
          "output_type": "stream",
          "name": "stdout",
          "text": [
            "2/2 [==============================] - 6s 3s/step\n"
          ]
        },
        {
          "output_type": "stream",
          "name": "stderr",
          "text": [
            "\rProcessing reviews:  39%|███▊      | 366/949 [28:56<1:05:06,  6.70s/batch]"
          ]
        },
        {
          "output_type": "stream",
          "name": "stdout",
          "text": [
            "2/2 [==============================] - 3s 2s/step\n"
          ]
        },
        {
          "output_type": "stream",
          "name": "stderr",
          "text": [
            "\rProcessing reviews:  39%|███▊      | 367/949 [29:00<57:34,  5.94s/batch]  "
          ]
        },
        {
          "output_type": "stream",
          "name": "stdout",
          "text": [
            "2/2 [==============================] - 2s 845ms/step\n"
          ]
        },
        {
          "output_type": "stream",
          "name": "stderr",
          "text": [
            "\rProcessing reviews:  39%|███▉      | 368/949 [29:03<48:06,  4.97s/batch]"
          ]
        },
        {
          "output_type": "stream",
          "name": "stdout",
          "text": [
            "2/2 [==============================] - 5s 3s/step\n"
          ]
        },
        {
          "output_type": "stream",
          "name": "stderr",
          "text": [
            "\rProcessing reviews:  39%|███▉      | 369/949 [29:09<53:09,  5.50s/batch]"
          ]
        },
        {
          "output_type": "stream",
          "name": "stdout",
          "text": [
            "2/2 [==============================] - 3s 2s/step\n"
          ]
        },
        {
          "output_type": "stream",
          "name": "stderr",
          "text": [
            "\rProcessing reviews:  39%|███▉      | 370/949 [29:15<52:23,  5.43s/batch]"
          ]
        },
        {
          "output_type": "stream",
          "name": "stdout",
          "text": [
            "2/2 [==============================] - 2s 881ms/step\n"
          ]
        },
        {
          "output_type": "stream",
          "name": "stderr",
          "text": [
            "\rProcessing reviews:  39%|███▉      | 371/949 [29:17<44:21,  4.61s/batch]"
          ]
        },
        {
          "output_type": "stream",
          "name": "stdout",
          "text": [
            "2/2 [==============================] - 2s 1s/step\n"
          ]
        },
        {
          "output_type": "stream",
          "name": "stderr",
          "text": [
            "\rProcessing reviews:  39%|███▉      | 372/949 [29:23<46:19,  4.82s/batch]"
          ]
        },
        {
          "output_type": "stream",
          "name": "stdout",
          "text": [
            "2/2 [==============================] - 3s 2s/step\n"
          ]
        },
        {
          "output_type": "stream",
          "name": "stderr",
          "text": [
            "\rProcessing reviews:  39%|███▉      | 373/949 [29:27<44:57,  4.68s/batch]"
          ]
        },
        {
          "output_type": "stream",
          "name": "stdout",
          "text": [
            "2/2 [==============================] - 2s 804ms/step\n"
          ]
        },
        {
          "output_type": "stream",
          "name": "stderr",
          "text": [
            "\rProcessing reviews:  39%|███▉      | 374/949 [29:29<37:57,  3.96s/batch]"
          ]
        },
        {
          "output_type": "stream",
          "name": "stdout",
          "text": [
            "2/2 [==============================] - 2s 1s/step\n"
          ]
        },
        {
          "output_type": "stream",
          "name": "stderr",
          "text": [
            "\rProcessing reviews:  40%|███▉      | 375/949 [29:35<41:36,  4.35s/batch]"
          ]
        },
        {
          "output_type": "stream",
          "name": "stdout",
          "text": [
            "2/2 [==============================] - 2s 794ms/step\n"
          ]
        },
        {
          "output_type": "stream",
          "name": "stderr",
          "text": [
            "\rProcessing reviews:  40%|███▉      | 376/949 [29:37<36:07,  3.78s/batch]"
          ]
        },
        {
          "output_type": "stream",
          "name": "stdout",
          "text": [
            "2/2 [==============================] - 2s 906ms/step\n"
          ]
        },
        {
          "output_type": "stream",
          "name": "stderr",
          "text": [
            "\rProcessing reviews:  40%|███▉      | 377/949 [29:42<40:31,  4.25s/batch]"
          ]
        },
        {
          "output_type": "stream",
          "name": "stdout",
          "text": [
            "2/2 [==============================] - 1s 482ms/step\n"
          ]
        },
        {
          "output_type": "stream",
          "name": "stderr",
          "text": [
            "\rProcessing reviews:  40%|███▉      | 378/949 [29:45<36:07,  3.80s/batch]"
          ]
        },
        {
          "output_type": "stream",
          "name": "stdout",
          "text": [
            "2/2 [==============================] - 3s 1s/step\n"
          ]
        },
        {
          "output_type": "stream",
          "name": "stderr",
          "text": [
            "\rProcessing reviews:  40%|███▉      | 379/949 [29:49<36:34,  3.85s/batch]"
          ]
        },
        {
          "output_type": "stream",
          "name": "stdout",
          "text": [
            "2/2 [==============================] - 4s 2s/step\n"
          ]
        },
        {
          "output_type": "stream",
          "name": "stderr",
          "text": [
            "\rProcessing reviews:  40%|████      | 380/949 [29:54<40:40,  4.29s/batch]"
          ]
        },
        {
          "output_type": "stream",
          "name": "stdout",
          "text": [
            "2/2 [==============================] - 2s 944ms/step\n"
          ]
        },
        {
          "output_type": "stream",
          "name": "stderr",
          "text": [
            "\rProcessing reviews:  40%|████      | 381/949 [29:57<36:41,  3.88s/batch]"
          ]
        },
        {
          "output_type": "stream",
          "name": "stdout",
          "text": [
            "2/2 [==============================] - 1s 571ms/step\n"
          ]
        },
        {
          "output_type": "stream",
          "name": "stderr",
          "text": [
            "\rProcessing reviews:  40%|████      | 382/949 [30:00<33:28,  3.54s/batch]"
          ]
        },
        {
          "output_type": "stream",
          "name": "stdout",
          "text": [
            "2/2 [==============================] - 4s 2s/step\n"
          ]
        },
        {
          "output_type": "stream",
          "name": "stderr",
          "text": [
            "\rProcessing reviews:  40%|████      | 383/949 [30:05<37:10,  3.94s/batch]"
          ]
        },
        {
          "output_type": "stream",
          "name": "stdout",
          "text": [
            "2/2 [==============================] - 2s 1s/step\n"
          ]
        },
        {
          "output_type": "stream",
          "name": "stderr",
          "text": [
            "\rProcessing reviews:  40%|████      | 384/949 [30:08<34:24,  3.65s/batch]"
          ]
        },
        {
          "output_type": "stream",
          "name": "stdout",
          "text": [
            "2/2 [==============================] - 3s 2s/step\n"
          ]
        },
        {
          "output_type": "stream",
          "name": "stderr",
          "text": [
            "\rProcessing reviews:  41%|████      | 385/949 [30:13<39:01,  4.15s/batch]"
          ]
        },
        {
          "output_type": "stream",
          "name": "stdout",
          "text": [
            "2/2 [==============================] - 3s 1s/step\n"
          ]
        },
        {
          "output_type": "stream",
          "name": "stderr",
          "text": [
            "\rProcessing reviews:  41%|████      | 386/949 [30:19<42:22,  4.52s/batch]"
          ]
        },
        {
          "output_type": "stream",
          "name": "stdout",
          "text": [
            "2/2 [==============================] - 2s 871ms/step\n"
          ]
        },
        {
          "output_type": "stream",
          "name": "stderr",
          "text": [
            "\rProcessing reviews:  41%|████      | 387/949 [30:21<36:57,  3.94s/batch]"
          ]
        },
        {
          "output_type": "stream",
          "name": "stdout",
          "text": [
            "2/2 [==============================] - 2s 1s/step\n"
          ]
        },
        {
          "output_type": "stream",
          "name": "stderr",
          "text": [
            "\rProcessing reviews:  41%|████      | 388/949 [30:24<34:22,  3.68s/batch]"
          ]
        },
        {
          "output_type": "stream",
          "name": "stdout",
          "text": [
            "2/2 [==============================] - 2s 813ms/step\n"
          ]
        },
        {
          "output_type": "stream",
          "name": "stderr",
          "text": [
            "\rProcessing reviews:  41%|████      | 389/949 [30:27<30:28,  3.27s/batch]"
          ]
        },
        {
          "output_type": "stream",
          "name": "stdout",
          "text": [
            "2/2 [==============================] - 2s 805ms/step\n"
          ]
        },
        {
          "output_type": "stream",
          "name": "stderr",
          "text": [
            "\rProcessing reviews:  41%|████      | 390/949 [30:29<27:41,  2.97s/batch]"
          ]
        },
        {
          "output_type": "stream",
          "name": "stdout",
          "text": [
            "2/2 [==============================] - 2s 1s/step\n"
          ]
        },
        {
          "output_type": "stream",
          "name": "stderr",
          "text": [
            "\rProcessing reviews:  41%|████      | 391/949 [30:34<34:06,  3.67s/batch]"
          ]
        },
        {
          "output_type": "stream",
          "name": "stdout",
          "text": [
            "2/2 [==============================] - 1s 582ms/step\n"
          ]
        },
        {
          "output_type": "stream",
          "name": "stderr",
          "text": [
            "\rProcessing reviews:  41%|████▏     | 392/949 [30:36<29:32,  3.18s/batch]"
          ]
        },
        {
          "output_type": "stream",
          "name": "stdout",
          "text": [
            "2/2 [==============================] - 4s 2s/step\n"
          ]
        },
        {
          "output_type": "stream",
          "name": "stderr",
          "text": [
            "\rProcessing reviews:  41%|████▏     | 393/949 [30:42<35:30,  3.83s/batch]"
          ]
        },
        {
          "output_type": "stream",
          "name": "stdout",
          "text": [
            "2/2 [==============================] - 1s 641ms/step\n"
          ]
        },
        {
          "output_type": "stream",
          "name": "stderr",
          "text": [
            "\rProcessing reviews:  42%|████▏     | 394/949 [30:44<32:14,  3.48s/batch]"
          ]
        },
        {
          "output_type": "stream",
          "name": "stdout",
          "text": [
            "2/2 [==============================] - 2s 1s/step\n"
          ]
        },
        {
          "output_type": "stream",
          "name": "stderr",
          "text": [
            "\rProcessing reviews:  42%|████▏     | 395/949 [30:49<37:14,  4.03s/batch]"
          ]
        },
        {
          "output_type": "stream",
          "name": "stdout",
          "text": [
            "2/2 [==============================] - 2s 846ms/step\n"
          ]
        },
        {
          "output_type": "stream",
          "name": "stderr",
          "text": [
            "\rProcessing reviews:  42%|████▏     | 396/949 [30:52<33:45,  3.66s/batch]"
          ]
        },
        {
          "output_type": "stream",
          "name": "stdout",
          "text": [
            "2/2 [==============================] - 2s 828ms/step\n"
          ]
        },
        {
          "output_type": "stream",
          "name": "stderr",
          "text": [
            "\rProcessing reviews:  42%|████▏     | 397/949 [30:55<31:10,  3.39s/batch]"
          ]
        },
        {
          "output_type": "stream",
          "name": "stdout",
          "text": [
            "2/2 [==============================] - 1s 746ms/step\n"
          ]
        },
        {
          "output_type": "stream",
          "name": "stderr",
          "text": [
            "\rProcessing reviews:  42%|████▏     | 398/949 [30:57<27:38,  3.01s/batch]"
          ]
        },
        {
          "output_type": "stream",
          "name": "stdout",
          "text": [
            "2/2 [==============================] - 1s 630ms/step\n"
          ]
        },
        {
          "output_type": "stream",
          "name": "stderr",
          "text": [
            "\rProcessing reviews:  42%|████▏     | 399/949 [31:00<26:39,  2.91s/batch]"
          ]
        },
        {
          "output_type": "stream",
          "name": "stdout",
          "text": [
            "2/2 [==============================] - 1s 605ms/step\n"
          ]
        },
        {
          "output_type": "stream",
          "name": "stderr",
          "text": [
            "\rProcessing reviews:  42%|████▏     | 400/949 [31:03<25:57,  2.84s/batch]"
          ]
        },
        {
          "output_type": "stream",
          "name": "stdout",
          "text": [
            "2/2 [==============================] - 2s 861ms/step\n"
          ]
        },
        {
          "output_type": "stream",
          "name": "stderr",
          "text": [
            "\rProcessing reviews:  42%|████▏     | 401/949 [31:05<24:58,  2.73s/batch]"
          ]
        },
        {
          "output_type": "stream",
          "name": "stdout",
          "text": [
            "2/2 [==============================] - 2s 807ms/step\n"
          ]
        },
        {
          "output_type": "stream",
          "name": "stderr",
          "text": [
            "\rProcessing reviews:  42%|████▏     | 402/949 [31:08<24:58,  2.74s/batch]"
          ]
        },
        {
          "output_type": "stream",
          "name": "stdout",
          "text": [
            "2/2 [==============================] - 1s 522ms/step\n"
          ]
        },
        {
          "output_type": "stream",
          "name": "stderr",
          "text": [
            "\rProcessing reviews:  42%|████▏     | 403/949 [31:11<25:00,  2.75s/batch]"
          ]
        },
        {
          "output_type": "stream",
          "name": "stdout",
          "text": [
            "2/2 [==============================] - 1s 603ms/step\n"
          ]
        },
        {
          "output_type": "stream",
          "name": "stderr",
          "text": [
            "\rProcessing reviews:  43%|████▎     | 404/949 [31:13<22:58,  2.53s/batch]"
          ]
        },
        {
          "output_type": "stream",
          "name": "stdout",
          "text": [
            "2/2 [==============================] - 2s 857ms/step\n"
          ]
        },
        {
          "output_type": "stream",
          "name": "stderr",
          "text": [
            "\rProcessing reviews:  43%|████▎     | 405/949 [31:15<23:38,  2.61s/batch]"
          ]
        },
        {
          "output_type": "stream",
          "name": "stdout",
          "text": [
            "2/2 [==============================] - 1s 398ms/step\n"
          ]
        },
        {
          "output_type": "stream",
          "name": "stderr",
          "text": [
            "\rProcessing reviews:  43%|████▎     | 406/949 [31:17<19:55,  2.20s/batch]"
          ]
        },
        {
          "output_type": "stream",
          "name": "stdout",
          "text": [
            "2/2 [==============================] - 2s 811ms/step\n"
          ]
        },
        {
          "output_type": "stream",
          "name": "stderr",
          "text": [
            "\rProcessing reviews:  43%|████▎     | 407/949 [31:19<21:12,  2.35s/batch]"
          ]
        },
        {
          "output_type": "stream",
          "name": "stdout",
          "text": [
            "2/2 [==============================] - 1s 594ms/step\n"
          ]
        },
        {
          "output_type": "stream",
          "name": "stderr",
          "text": [
            "\rProcessing reviews:  43%|████▎     | 408/949 [31:21<19:33,  2.17s/batch]"
          ]
        },
        {
          "output_type": "stream",
          "name": "stdout",
          "text": [
            "2/2 [==============================] - 1s 746ms/step\n"
          ]
        },
        {
          "output_type": "stream",
          "name": "stderr",
          "text": [
            "\rProcessing reviews:  43%|████▎     | 409/949 [31:24<20:56,  2.33s/batch]"
          ]
        },
        {
          "output_type": "stream",
          "name": "stdout",
          "text": [
            "2/2 [==============================] - 5s 3s/step\n"
          ]
        },
        {
          "output_type": "stream",
          "name": "stderr",
          "text": [
            "\rProcessing reviews:  43%|████▎     | 410/949 [31:34<42:46,  4.76s/batch]"
          ]
        },
        {
          "output_type": "stream",
          "name": "stdout",
          "text": [
            "2/2 [==============================] - 2s 939ms/step\n"
          ]
        },
        {
          "output_type": "stream",
          "name": "stderr",
          "text": [
            "\rProcessing reviews:  43%|████▎     | 411/949 [31:37<37:13,  4.15s/batch]"
          ]
        },
        {
          "output_type": "stream",
          "name": "stdout",
          "text": [
            "2/2 [==============================] - 4s 2s/step\n"
          ]
        },
        {
          "output_type": "stream",
          "name": "stderr",
          "text": [
            "\rProcessing reviews:  43%|████▎     | 412/949 [31:42<40:16,  4.50s/batch]"
          ]
        },
        {
          "output_type": "stream",
          "name": "stdout",
          "text": [
            "2/2 [==============================] - 3s 1s/step\n"
          ]
        },
        {
          "output_type": "stream",
          "name": "stderr",
          "text": [
            "\rProcessing reviews:  44%|████▎     | 413/949 [31:46<39:36,  4.43s/batch]"
          ]
        },
        {
          "output_type": "stream",
          "name": "stdout",
          "text": [
            "2/2 [==============================] - 2s 1s/step\n"
          ]
        },
        {
          "output_type": "stream",
          "name": "stderr",
          "text": [
            "\rProcessing reviews:  44%|████▎     | 414/949 [31:52<41:54,  4.70s/batch]"
          ]
        },
        {
          "output_type": "stream",
          "name": "stdout",
          "text": [
            "2/2 [==============================] - 3s 1s/step\n"
          ]
        },
        {
          "output_type": "stream",
          "name": "stderr",
          "text": [
            "\rProcessing reviews:  44%|████▎     | 415/949 [31:55<39:03,  4.39s/batch]"
          ]
        },
        {
          "output_type": "stream",
          "name": "stdout",
          "text": [
            "2/2 [==============================] - 5s 2s/step\n"
          ]
        },
        {
          "output_type": "stream",
          "name": "stderr",
          "text": [
            "\rProcessing reviews:  44%|████▍     | 416/949 [32:06<55:11,  6.21s/batch]"
          ]
        },
        {
          "output_type": "stream",
          "name": "stdout",
          "text": [
            "2/2 [==============================] - 5s 2s/step\n"
          ]
        },
        {
          "output_type": "stream",
          "name": "stderr",
          "text": [
            "\rProcessing reviews:  44%|████▍     | 417/949 [32:16<1:06:24,  7.49s/batch]"
          ]
        },
        {
          "output_type": "stream",
          "name": "stdout",
          "text": [
            "2/2 [==============================] - 3s 1s/step\n"
          ]
        },
        {
          "output_type": "stream",
          "name": "stderr",
          "text": [
            "\rProcessing reviews:  44%|████▍     | 418/949 [32:22<1:00:35,  6.85s/batch]"
          ]
        },
        {
          "output_type": "stream",
          "name": "stdout",
          "text": [
            "2/2 [==============================] - 1s 505ms/step\n"
          ]
        },
        {
          "output_type": "stream",
          "name": "stderr",
          "text": [
            "\rProcessing reviews:  44%|████▍     | 419/949 [32:24<47:08,  5.34s/batch]  "
          ]
        },
        {
          "output_type": "stream",
          "name": "stdout",
          "text": [
            "2/2 [==============================] - 1s 628ms/step\n"
          ]
        },
        {
          "output_type": "stream",
          "name": "stderr",
          "text": [
            "\rProcessing reviews:  44%|████▍     | 420/949 [32:25<38:02,  4.31s/batch]"
          ]
        },
        {
          "output_type": "stream",
          "name": "stdout",
          "text": [
            "2/2 [==============================] - 2s 862ms/step\n"
          ]
        },
        {
          "output_type": "stream",
          "name": "stderr",
          "text": [
            "\rProcessing reviews:  44%|████▍     | 421/949 [32:28<32:58,  3.75s/batch]"
          ]
        },
        {
          "output_type": "stream",
          "name": "stdout",
          "text": [
            "2/2 [==============================] - 2s 830ms/step\n"
          ]
        },
        {
          "output_type": "stream",
          "name": "stderr",
          "text": [
            "\rProcessing reviews:  44%|████▍     | 422/949 [32:31<30:06,  3.43s/batch]"
          ]
        },
        {
          "output_type": "stream",
          "name": "stdout",
          "text": [
            "2/2 [==============================] - 5s 3s/step\n"
          ]
        },
        {
          "output_type": "stream",
          "name": "stderr",
          "text": [
            "\rProcessing reviews:  45%|████▍     | 423/949 [32:41<48:34,  5.54s/batch]"
          ]
        },
        {
          "output_type": "stream",
          "name": "stdout",
          "text": [
            "2/2 [==============================] - 3s 2s/step\n"
          ]
        },
        {
          "output_type": "stream",
          "name": "stderr",
          "text": [
            "\rProcessing reviews:  45%|████▍     | 424/949 [32:46<47:58,  5.48s/batch]"
          ]
        },
        {
          "output_type": "stream",
          "name": "stdout",
          "text": [
            "2/2 [==============================] - 3s 1s/step\n"
          ]
        },
        {
          "output_type": "stream",
          "name": "stderr",
          "text": [
            "\rProcessing reviews:  45%|████▍     | 425/949 [32:52<47:17,  5.42s/batch]"
          ]
        },
        {
          "output_type": "stream",
          "name": "stdout",
          "text": [
            "2/2 [==============================] - 2s 1s/step\n"
          ]
        },
        {
          "output_type": "stream",
          "name": "stderr",
          "text": [
            "\rProcessing reviews:  45%|████▍     | 426/949 [32:55<41:21,  4.75s/batch]"
          ]
        },
        {
          "output_type": "stream",
          "name": "stdout",
          "text": [
            "2/2 [==============================] - 2s 943ms/step\n"
          ]
        },
        {
          "output_type": "stream",
          "name": "stderr",
          "text": [
            "\rProcessing reviews:  45%|████▍     | 427/949 [33:00<42:49,  4.92s/batch]"
          ]
        },
        {
          "output_type": "stream",
          "name": "stdout",
          "text": [
            "2/2 [==============================] - 6s 3s/step\n"
          ]
        },
        {
          "output_type": "stream",
          "name": "stderr",
          "text": [
            "\rProcessing reviews:  45%|████▌     | 428/949 [33:11<57:18,  6.60s/batch]"
          ]
        },
        {
          "output_type": "stream",
          "name": "stdout",
          "text": [
            "2/2 [==============================] - 3s 1s/step\n"
          ]
        },
        {
          "output_type": "stream",
          "name": "stderr",
          "text": [
            "\rProcessing reviews:  45%|████▌     | 429/949 [33:15<50:35,  5.84s/batch]"
          ]
        },
        {
          "output_type": "stream",
          "name": "stdout",
          "text": [
            "2/2 [==============================] - 3s 2s/step\n"
          ]
        },
        {
          "output_type": "stream",
          "name": "stderr",
          "text": [
            "\rProcessing reviews:  45%|████▌     | 430/949 [33:19<46:16,  5.35s/batch]"
          ]
        },
        {
          "output_type": "stream",
          "name": "stdout",
          "text": [
            "2/2 [==============================] - 5s 2s/step\n"
          ]
        },
        {
          "output_type": "stream",
          "name": "stderr",
          "text": [
            "\rProcessing reviews:  45%|████▌     | 431/949 [33:29<59:24,  6.88s/batch]"
          ]
        },
        {
          "output_type": "stream",
          "name": "stdout",
          "text": [
            "2/2 [==============================] - 2s 1s/step\n"
          ]
        },
        {
          "output_type": "stream",
          "name": "stderr",
          "text": [
            "\rProcessing reviews:  46%|████▌     | 432/949 [33:35<55:19,  6.42s/batch]"
          ]
        },
        {
          "output_type": "stream",
          "name": "stdout",
          "text": [
            "2/2 [==============================] - 1s 586ms/step\n"
          ]
        },
        {
          "output_type": "stream",
          "name": "stderr",
          "text": [
            "\rProcessing reviews:  46%|████▌     | 433/949 [33:37<43:29,  5.06s/batch]"
          ]
        },
        {
          "output_type": "stream",
          "name": "stdout",
          "text": [
            "2/2 [==============================] - 2s 877ms/step\n"
          ]
        },
        {
          "output_type": "stream",
          "name": "stderr",
          "text": [
            "\rProcessing reviews:  46%|████▌     | 434/949 [33:39<36:46,  4.28s/batch]"
          ]
        },
        {
          "output_type": "stream",
          "name": "stdout",
          "text": [
            "2/2 [==============================] - 1s 733ms/step\n"
          ]
        },
        {
          "output_type": "stream",
          "name": "stderr",
          "text": [
            "\rProcessing reviews:  46%|████▌     | 435/949 [33:41<31:14,  3.65s/batch]"
          ]
        },
        {
          "output_type": "stream",
          "name": "stdout",
          "text": [
            "2/2 [==============================] - 3s 2s/step\n"
          ]
        },
        {
          "output_type": "stream",
          "name": "stderr",
          "text": [
            "\rProcessing reviews:  46%|████▌     | 436/949 [33:47<35:26,  4.14s/batch]"
          ]
        },
        {
          "output_type": "stream",
          "name": "stdout",
          "text": [
            "2/2 [==============================] - 4s 2s/step\n"
          ]
        },
        {
          "output_type": "stream",
          "name": "stderr",
          "text": [
            "\rProcessing reviews:  46%|████▌     | 437/949 [33:52<38:33,  4.52s/batch]"
          ]
        },
        {
          "output_type": "stream",
          "name": "stdout",
          "text": [
            "2/2 [==============================] - 6s 3s/step\n"
          ]
        },
        {
          "output_type": "stream",
          "name": "stderr",
          "text": [
            "\rProcessing reviews:  46%|████▌     | 438/949 [34:03<53:47,  6.32s/batch]"
          ]
        },
        {
          "output_type": "stream",
          "name": "stdout",
          "text": [
            "2/2 [==============================] - 3s 1s/step\n"
          ]
        },
        {
          "output_type": "stream",
          "name": "stderr",
          "text": [
            "\rProcessing reviews:  46%|████▋     | 439/949 [34:08<51:10,  6.02s/batch]"
          ]
        },
        {
          "output_type": "stream",
          "name": "stdout",
          "text": [
            "2/2 [==============================] - 5s 3s/step\n"
          ]
        },
        {
          "output_type": "stream",
          "name": "stderr",
          "text": [
            "\rProcessing reviews:  46%|████▋     | 440/949 [34:18<1:02:30,  7.37s/batch]"
          ]
        },
        {
          "output_type": "stream",
          "name": "stdout",
          "text": [
            "2/2 [==============================] - 3s 1s/step\n"
          ]
        },
        {
          "output_type": "stream",
          "name": "stderr",
          "text": [
            "\rProcessing reviews:  46%|████▋     | 441/949 [34:23<54:34,  6.45s/batch]  "
          ]
        },
        {
          "output_type": "stream",
          "name": "stdout",
          "text": [
            "2/2 [==============================] - 2s 870ms/step\n"
          ]
        },
        {
          "output_type": "stream",
          "name": "stderr",
          "text": [
            "\rProcessing reviews:  47%|████▋     | 442/949 [34:25<45:08,  5.34s/batch]"
          ]
        },
        {
          "output_type": "stream",
          "name": "stdout",
          "text": [
            "2/2 [==============================] - 1s 762ms/step\n"
          ]
        },
        {
          "output_type": "stream",
          "name": "stderr",
          "text": [
            "\rProcessing reviews:  47%|████▋     | 443/949 [34:28<37:36,  4.46s/batch]"
          ]
        },
        {
          "output_type": "stream",
          "name": "stdout",
          "text": [
            "2/2 [==============================] - 1s 692ms/step\n"
          ]
        },
        {
          "output_type": "stream",
          "name": "stderr",
          "text": [
            "\rProcessing reviews:  47%|████▋     | 444/949 [34:31<33:12,  3.95s/batch]"
          ]
        },
        {
          "output_type": "stream",
          "name": "stdout",
          "text": [
            "2/2 [==============================] - 2s 929ms/step\n"
          ]
        },
        {
          "output_type": "stream",
          "name": "stderr",
          "text": [
            "\rProcessing reviews:  47%|████▋     | 445/949 [34:33<29:53,  3.56s/batch]"
          ]
        },
        {
          "output_type": "stream",
          "name": "stdout",
          "text": [
            "2/2 [==============================] - 2s 1s/step\n"
          ]
        },
        {
          "output_type": "stream",
          "name": "stderr",
          "text": [
            "\rProcessing reviews:  47%|████▋     | 446/949 [34:38<34:08,  4.07s/batch]"
          ]
        },
        {
          "output_type": "stream",
          "name": "stdout",
          "text": [
            "2/2 [==============================] - 5s 3s/step\n"
          ]
        },
        {
          "output_type": "stream",
          "name": "stderr",
          "text": [
            "\rProcessing reviews:  47%|████▋     | 447/949 [34:49<49:57,  5.97s/batch]"
          ]
        },
        {
          "output_type": "stream",
          "name": "stdout",
          "text": [
            "2/2 [==============================] - 3s 2s/step\n"
          ]
        },
        {
          "output_type": "stream",
          "name": "stderr",
          "text": [
            "\rProcessing reviews:  47%|████▋     | 448/949 [34:53<45:41,  5.47s/batch]"
          ]
        },
        {
          "output_type": "stream",
          "name": "stdout",
          "text": [
            "2/2 [==============================] - 3s 1s/step\n"
          ]
        },
        {
          "output_type": "stream",
          "name": "stderr",
          "text": [
            "\rProcessing reviews:  47%|████▋     | 449/949 [34:57<41:43,  5.01s/batch]"
          ]
        },
        {
          "output_type": "stream",
          "name": "stdout",
          "text": [
            "2/2 [==============================] - 5s 3s/step\n"
          ]
        },
        {
          "output_type": "stream",
          "name": "stderr",
          "text": [
            "\rProcessing reviews:  47%|████▋     | 450/949 [35:08<55:16,  6.65s/batch]"
          ]
        },
        {
          "output_type": "stream",
          "name": "stdout",
          "text": [
            "2/2 [==============================] - 2s 1s/step\n"
          ]
        },
        {
          "output_type": "stream",
          "name": "stderr",
          "text": [
            "\rProcessing reviews:  48%|████▊     | 451/949 [35:11<45:57,  5.54s/batch]"
          ]
        },
        {
          "output_type": "stream",
          "name": "stdout",
          "text": [
            "2/2 [==============================] - 6s 3s/step\n"
          ]
        },
        {
          "output_type": "stream",
          "name": "stderr",
          "text": [
            "\rProcessing reviews:  48%|████▊     | 452/949 [35:21<58:09,  7.02s/batch]"
          ]
        },
        {
          "output_type": "stream",
          "name": "stdout",
          "text": [
            "2/2 [==============================] - 4s 2s/step\n"
          ]
        },
        {
          "output_type": "stream",
          "name": "stderr",
          "text": [
            "\rProcessing reviews:  48%|████▊     | 453/949 [35:31<1:06:35,  8.06s/batch]"
          ]
        },
        {
          "output_type": "stream",
          "name": "stdout",
          "text": [
            "2/2 [==============================] - 2s 1s/step\n"
          ]
        },
        {
          "output_type": "stream",
          "name": "stderr",
          "text": [
            "\rProcessing reviews:  48%|████▊     | 454/949 [35:37<59:37,  7.23s/batch]  "
          ]
        },
        {
          "output_type": "stream",
          "name": "stdout",
          "text": [
            "2/2 [==============================] - 2s 733ms/step\n"
          ]
        },
        {
          "output_type": "stream",
          "name": "stderr",
          "text": [
            "\rProcessing reviews:  48%|████▊     | 455/949 [35:40<48:30,  5.89s/batch]"
          ]
        },
        {
          "output_type": "stream",
          "name": "stdout",
          "text": [
            "2/2 [==============================] - 3s 2s/step\n"
          ]
        },
        {
          "output_type": "stream",
          "name": "stderr",
          "text": [
            "\rProcessing reviews:  48%|████▊     | 456/949 [35:44<44:05,  5.37s/batch]"
          ]
        },
        {
          "output_type": "stream",
          "name": "stdout",
          "text": [
            "2/2 [==============================] - 6s 3s/step\n"
          ]
        },
        {
          "output_type": "stream",
          "name": "stderr",
          "text": [
            "\rProcessing reviews:  48%|████▊     | 457/949 [35:51<48:49,  5.95s/batch]"
          ]
        },
        {
          "output_type": "stream",
          "name": "stdout",
          "text": [
            "2/2 [==============================] - 2s 888ms/step\n"
          ]
        },
        {
          "output_type": "stream",
          "name": "stderr",
          "text": [
            "\rProcessing reviews:  48%|████▊     | 458/949 [35:54<40:44,  4.98s/batch]"
          ]
        },
        {
          "output_type": "stream",
          "name": "stdout",
          "text": [
            "2/2 [==============================] - 1s 722ms/step\n"
          ]
        },
        {
          "output_type": "stream",
          "name": "stderr",
          "text": [
            "\rProcessing reviews:  48%|████▊     | 459/949 [35:56<35:13,  4.31s/batch]"
          ]
        },
        {
          "output_type": "stream",
          "name": "stdout",
          "text": [
            "2/2 [==============================] - 4s 2s/step\n"
          ]
        },
        {
          "output_type": "stream",
          "name": "stderr",
          "text": [
            "\rProcessing reviews:  48%|████▊     | 460/949 [36:02<38:00,  4.66s/batch]"
          ]
        },
        {
          "output_type": "stream",
          "name": "stdout",
          "text": [
            "2/2 [==============================] - 3s 1s/step\n"
          ]
        },
        {
          "output_type": "stream",
          "name": "stderr",
          "text": [
            "\rProcessing reviews:  49%|████▊     | 461/949 [36:07<39:22,  4.84s/batch]"
          ]
        },
        {
          "output_type": "stream",
          "name": "stdout",
          "text": [
            "2/2 [==============================] - 4s 2s/step\n"
          ]
        },
        {
          "output_type": "stream",
          "name": "stderr",
          "text": [
            "\rProcessing reviews:  49%|████▊     | 462/949 [36:13<40:27,  4.98s/batch]"
          ]
        },
        {
          "output_type": "stream",
          "name": "stdout",
          "text": [
            "2/2 [==============================] - 6s 3s/step\n"
          ]
        },
        {
          "output_type": "stream",
          "name": "stderr",
          "text": [
            "\rProcessing reviews:  49%|████▉     | 463/949 [36:23<53:39,  6.63s/batch]"
          ]
        },
        {
          "output_type": "stream",
          "name": "stdout",
          "text": [
            "2/2 [==============================] - 1s 502ms/step\n"
          ]
        },
        {
          "output_type": "stream",
          "name": "stderr",
          "text": [
            "\rProcessing reviews:  49%|████▉     | 464/949 [36:25<41:22,  5.12s/batch]"
          ]
        },
        {
          "output_type": "stream",
          "name": "stdout",
          "text": [
            "2/2 [==============================] - 5s 2s/step\n"
          ]
        },
        {
          "output_type": "stream",
          "name": "stderr",
          "text": [
            "\rProcessing reviews:  49%|████▉     | 465/949 [36:31<43:44,  5.42s/batch]"
          ]
        },
        {
          "output_type": "stream",
          "name": "stdout",
          "text": [
            "2/2 [==============================] - 5s 2s/step\n"
          ]
        },
        {
          "output_type": "stream",
          "name": "stderr",
          "text": [
            "\rProcessing reviews:  49%|████▉     | 466/949 [36:41<55:53,  6.94s/batch]"
          ]
        },
        {
          "output_type": "stream",
          "name": "stdout",
          "text": [
            "2/2 [==============================] - 6s 3s/step\n"
          ]
        },
        {
          "output_type": "stream",
          "name": "stderr",
          "text": [
            "\rProcessing reviews:  49%|████▉     | 467/949 [36:52<1:04:18,  8.00s/batch]"
          ]
        },
        {
          "output_type": "stream",
          "name": "stdout",
          "text": [
            "2/2 [==============================] - 3s 1s/step\n"
          ]
        },
        {
          "output_type": "stream",
          "name": "stderr",
          "text": [
            "\rProcessing reviews:  49%|████▉     | 468/949 [36:55<53:22,  6.66s/batch]  "
          ]
        },
        {
          "output_type": "stream",
          "name": "stdout",
          "text": [
            "2/2 [==============================] - 1s 693ms/step\n"
          ]
        },
        {
          "output_type": "stream",
          "name": "stderr",
          "text": [
            "\rProcessing reviews:  49%|████▉     | 469/949 [36:57<42:06,  5.26s/batch]"
          ]
        },
        {
          "output_type": "stream",
          "name": "stdout",
          "text": [
            "2/2 [==============================] - 1s 715ms/step\n"
          ]
        },
        {
          "output_type": "stream",
          "name": "stderr",
          "text": [
            "\rProcessing reviews:  50%|████▉     | 470/949 [37:00<35:51,  4.49s/batch]"
          ]
        },
        {
          "output_type": "stream",
          "name": "stdout",
          "text": [
            "2/2 [==============================] - 4s 2s/step\n"
          ]
        },
        {
          "output_type": "stream",
          "name": "stderr",
          "text": [
            "\rProcessing reviews:  50%|████▉     | 471/949 [37:05<37:46,  4.74s/batch]"
          ]
        },
        {
          "output_type": "stream",
          "name": "stdout",
          "text": [
            "2/2 [==============================] - 3s 1s/step\n"
          ]
        },
        {
          "output_type": "stream",
          "name": "stderr",
          "text": [
            "\rProcessing reviews:  50%|████▉     | 472/949 [37:11<39:12,  4.93s/batch]"
          ]
        },
        {
          "output_type": "stream",
          "name": "stdout",
          "text": [
            "2/2 [==============================] - 2s 1s/step\n"
          ]
        },
        {
          "output_type": "stream",
          "name": "stderr",
          "text": [
            "\rProcessing reviews:  50%|████▉     | 473/949 [37:14<35:06,  4.43s/batch]"
          ]
        },
        {
          "output_type": "stream",
          "name": "stdout",
          "text": [
            "2/2 [==============================] - 2s 846ms/step\n"
          ]
        },
        {
          "output_type": "stream",
          "name": "stderr",
          "text": [
            "\rProcessing reviews:  50%|████▉     | 474/949 [37:17<30:53,  3.90s/batch]"
          ]
        },
        {
          "output_type": "stream",
          "name": "stdout",
          "text": [
            "2/2 [==============================] - 4s 2s/step\n"
          ]
        },
        {
          "output_type": "stream",
          "name": "stderr",
          "text": [
            "\rProcessing reviews:  50%|█████     | 475/949 [37:27<46:22,  5.87s/batch]"
          ]
        },
        {
          "output_type": "stream",
          "name": "stdout",
          "text": [
            "2/2 [==============================] - 4s 2s/step\n"
          ]
        },
        {
          "output_type": "stream",
          "name": "stderr",
          "text": [
            "\rProcessing reviews:  50%|█████     | 476/949 [37:33<45:27,  5.77s/batch]"
          ]
        },
        {
          "output_type": "stream",
          "name": "stdout",
          "text": [
            "2/2 [==============================] - 5s 2s/step\n"
          ]
        },
        {
          "output_type": "stream",
          "name": "stderr",
          "text": [
            "\rProcessing reviews:  50%|█████     | 477/949 [37:43<56:27,  7.18s/batch]"
          ]
        },
        {
          "output_type": "stream",
          "name": "stdout",
          "text": [
            "2/2 [==============================] - 2s 945ms/step\n"
          ]
        },
        {
          "output_type": "stream",
          "name": "stderr",
          "text": [
            "\rProcessing reviews:  50%|█████     | 478/949 [37:46<45:59,  5.86s/batch]"
          ]
        },
        {
          "output_type": "stream",
          "name": "stdout",
          "text": [
            "2/2 [==============================] - 2s 1s/step\n"
          ]
        },
        {
          "output_type": "stream",
          "name": "stderr",
          "text": [
            "\rProcessing reviews:  50%|█████     | 479/949 [37:49<39:01,  4.98s/batch]"
          ]
        },
        {
          "output_type": "stream",
          "name": "stdout",
          "text": [
            "2/2 [==============================] - 2s 1s/step\n"
          ]
        },
        {
          "output_type": "stream",
          "name": "stderr",
          "text": [
            "\rProcessing reviews:  51%|█████     | 480/949 [37:52<34:02,  4.35s/batch]"
          ]
        },
        {
          "output_type": "stream",
          "name": "stdout",
          "text": [
            "2/2 [==============================] - 4s 2s/step\n"
          ]
        },
        {
          "output_type": "stream",
          "name": "stderr",
          "text": [
            "\rProcessing reviews:  51%|█████     | 481/949 [37:57<36:12,  4.64s/batch]"
          ]
        },
        {
          "output_type": "stream",
          "name": "stdout",
          "text": [
            "2/2 [==============================] - 2s 1s/step\n"
          ]
        },
        {
          "output_type": "stream",
          "name": "stderr",
          "text": [
            "\rProcessing reviews:  51%|█████     | 482/949 [38:02<37:49,  4.86s/batch]"
          ]
        },
        {
          "output_type": "stream",
          "name": "stdout",
          "text": [
            "2/2 [==============================] - 3s 1s/step\n"
          ]
        },
        {
          "output_type": "stream",
          "name": "stderr",
          "text": [
            "\rProcessing reviews:  51%|█████     | 483/949 [38:06<34:50,  4.49s/batch]"
          ]
        },
        {
          "output_type": "stream",
          "name": "stdout",
          "text": [
            "2/2 [==============================] - 3s 1s/step\n"
          ]
        },
        {
          "output_type": "stream",
          "name": "stderr",
          "text": [
            "\rProcessing reviews:  51%|█████     | 484/949 [38:09<32:32,  4.20s/batch]"
          ]
        },
        {
          "output_type": "stream",
          "name": "stdout",
          "text": [
            "2/2 [==============================] - 2s 882ms/step\n"
          ]
        },
        {
          "output_type": "stream",
          "name": "stderr",
          "text": [
            "\rProcessing reviews:  51%|█████     | 485/949 [38:12<29:00,  3.75s/batch]"
          ]
        },
        {
          "output_type": "stream",
          "name": "stdout",
          "text": [
            "2/2 [==============================] - 2s 1s/step\n"
          ]
        },
        {
          "output_type": "stream",
          "name": "stderr",
          "text": [
            "\rProcessing reviews:  51%|█████     | 486/949 [38:17<32:33,  4.22s/batch]"
          ]
        },
        {
          "output_type": "stream",
          "name": "stdout",
          "text": [
            "2/2 [==============================] - 3s 1s/step\n"
          ]
        },
        {
          "output_type": "stream",
          "name": "stderr",
          "text": [
            "\rProcessing reviews:  51%|█████▏    | 487/949 [38:22<32:10,  4.18s/batch]"
          ]
        },
        {
          "output_type": "stream",
          "name": "stdout",
          "text": [
            "2/2 [==============================] - 3s 2s/step\n"
          ]
        },
        {
          "output_type": "stream",
          "name": "stderr",
          "text": [
            "\rProcessing reviews:  51%|█████▏    | 488/949 [38:26<32:14,  4.20s/batch]"
          ]
        },
        {
          "output_type": "stream",
          "name": "stdout",
          "text": [
            "2/2 [==============================] - 5s 2s/step\n"
          ]
        },
        {
          "output_type": "stream",
          "name": "stderr",
          "text": [
            "\rProcessing reviews:  52%|█████▏    | 489/949 [38:36<46:38,  6.08s/batch]"
          ]
        },
        {
          "output_type": "stream",
          "name": "stdout",
          "text": [
            "2/2 [==============================] - 5s 3s/step\n"
          ]
        },
        {
          "output_type": "stream",
          "name": "stderr",
          "text": [
            "\rProcessing reviews:  52%|█████▏    | 490/949 [38:43<48:30,  6.34s/batch]"
          ]
        },
        {
          "output_type": "stream",
          "name": "stdout",
          "text": [
            "2/2 [==============================] - 6s 3s/step\n"
          ]
        },
        {
          "output_type": "stream",
          "name": "stderr",
          "text": [
            "\rProcessing reviews:  52%|█████▏    | 491/949 [38:51<51:38,  6.77s/batch]"
          ]
        },
        {
          "output_type": "stream",
          "name": "stdout",
          "text": [
            "2/2 [==============================] - 3s 1s/step\n"
          ]
        },
        {
          "output_type": "stream",
          "name": "stderr",
          "text": [
            "\rProcessing reviews:  52%|█████▏    | 492/949 [38:56<48:21,  6.35s/batch]"
          ]
        },
        {
          "output_type": "stream",
          "name": "stdout",
          "text": [
            "2/2 [==============================] - 3s 1s/step\n"
          ]
        },
        {
          "output_type": "stream",
          "name": "stderr",
          "text": [
            "\rProcessing reviews:  52%|█████▏    | 493/949 [39:02<45:56,  6.04s/batch]"
          ]
        },
        {
          "output_type": "stream",
          "name": "stdout",
          "text": [
            "2/2 [==============================] - 3s 1s/step\n"
          ]
        },
        {
          "output_type": "stream",
          "name": "stderr",
          "text": [
            "\rProcessing reviews:  52%|█████▏    | 494/949 [39:05<40:26,  5.33s/batch]"
          ]
        },
        {
          "output_type": "stream",
          "name": "stdout",
          "text": [
            "2/2 [==============================] - 2s 1s/step\n"
          ]
        },
        {
          "output_type": "stream",
          "name": "stderr",
          "text": [
            "\rProcessing reviews:  52%|█████▏    | 495/949 [39:11<40:17,  5.33s/batch]"
          ]
        },
        {
          "output_type": "stream",
          "name": "stdout",
          "text": [
            "2/2 [==============================] - 2s 809ms/step\n"
          ]
        },
        {
          "output_type": "stream",
          "name": "stderr",
          "text": [
            "\rProcessing reviews:  52%|█████▏    | 496/949 [39:13<34:25,  4.56s/batch]"
          ]
        },
        {
          "output_type": "stream",
          "name": "stdout",
          "text": [
            "2/2 [==============================] - 5s 2s/step\n"
          ]
        },
        {
          "output_type": "stream",
          "name": "stderr",
          "text": [
            "\rProcessing reviews:  52%|█████▏    | 497/949 [39:19<37:11,  4.94s/batch]"
          ]
        },
        {
          "output_type": "stream",
          "name": "stdout",
          "text": [
            "2/2 [==============================] - 4s 2s/step\n"
          ]
        },
        {
          "output_type": "stream",
          "name": "stderr",
          "text": [
            "\rProcessing reviews:  52%|█████▏    | 498/949 [39:30<49:35,  6.60s/batch]"
          ]
        },
        {
          "output_type": "stream",
          "name": "stdout",
          "text": [
            "2/2 [==============================] - 3s 1s/step\n"
          ]
        },
        {
          "output_type": "stream",
          "name": "stderr",
          "text": [
            "\rProcessing reviews:  53%|█████▎    | 499/949 [39:35<46:36,  6.22s/batch]"
          ]
        },
        {
          "output_type": "stream",
          "name": "stdout",
          "text": [
            "2/2 [==============================] - 6s 3s/step\n"
          ]
        },
        {
          "output_type": "stream",
          "name": "stderr",
          "text": [
            "\rProcessing reviews:  53%|█████▎    | 500/949 [39:43<50:05,  6.69s/batch]"
          ]
        },
        {
          "output_type": "stream",
          "name": "stdout",
          "text": [
            "2/2 [==============================] - 4s 2s/step\n"
          ]
        },
        {
          "output_type": "stream",
          "name": "stderr",
          "text": [
            "\rProcessing reviews:  53%|█████▎    | 501/949 [39:53<58:23,  7.82s/batch]"
          ]
        },
        {
          "output_type": "stream",
          "name": "stdout",
          "text": [
            "2/2 [==============================] - 4s 2s/step\n"
          ]
        },
        {
          "output_type": "stream",
          "name": "stderr",
          "text": [
            "\rProcessing reviews:  53%|█████▎    | 502/949 [39:59<53:04,  7.12s/batch]"
          ]
        },
        {
          "output_type": "stream",
          "name": "stdout",
          "text": [
            "2/2 [==============================] - 2s 842ms/step\n"
          ]
        },
        {
          "output_type": "stream",
          "name": "stderr",
          "text": [
            "\rProcessing reviews:  53%|█████▎    | 503/949 [40:01<42:40,  5.74s/batch]"
          ]
        },
        {
          "output_type": "stream",
          "name": "stdout",
          "text": [
            "2/2 [==============================] - 3s 2s/step\n"
          ]
        },
        {
          "output_type": "stream",
          "name": "stderr",
          "text": [
            "\rProcessing reviews:  53%|█████▎    | 504/949 [40:07<41:53,  5.65s/batch]"
          ]
        },
        {
          "output_type": "stream",
          "name": "stdout",
          "text": [
            "2/2 [==============================] - 2s 1s/step\n"
          ]
        },
        {
          "output_type": "stream",
          "name": "stderr",
          "text": [
            "\rProcessing reviews:  53%|█████▎    | 505/949 [40:10<36:22,  4.91s/batch]"
          ]
        },
        {
          "output_type": "stream",
          "name": "stdout",
          "text": [
            "2/2 [==============================] - 1s 603ms/step\n"
          ]
        },
        {
          "output_type": "stream",
          "name": "stderr",
          "text": [
            "\rProcessing reviews:  53%|█████▎    | 506/949 [40:13<31:18,  4.24s/batch]"
          ]
        },
        {
          "output_type": "stream",
          "name": "stdout",
          "text": [
            "2/2 [==============================] - 2s 840ms/step\n"
          ]
        },
        {
          "output_type": "stream",
          "name": "stderr",
          "text": [
            "\rProcessing reviews:  53%|█████▎    | 507/949 [40:15<27:03,  3.67s/batch]"
          ]
        },
        {
          "output_type": "stream",
          "name": "stdout",
          "text": [
            "2/2 [==============================] - 6s 3s/step\n"
          ]
        },
        {
          "output_type": "stream",
          "name": "stderr",
          "text": [
            "\rProcessing reviews:  54%|█████▎    | 508/949 [40:23<36:14,  4.93s/batch]"
          ]
        },
        {
          "output_type": "stream",
          "name": "stdout",
          "text": [
            "2/2 [==============================] - 3s 2s/step\n"
          ]
        },
        {
          "output_type": "stream",
          "name": "stderr",
          "text": [
            "\rProcessing reviews:  54%|█████▎    | 509/949 [40:27<34:36,  4.72s/batch]"
          ]
        },
        {
          "output_type": "stream",
          "name": "stdout",
          "text": [
            "2/2 [==============================] - 1s 750ms/step\n"
          ]
        },
        {
          "output_type": "stream",
          "name": "stderr",
          "text": [
            "\rProcessing reviews:  54%|█████▎    | 510/949 [40:30<30:03,  4.11s/batch]"
          ]
        },
        {
          "output_type": "stream",
          "name": "stdout",
          "text": [
            "2/2 [==============================] - 1s 702ms/step\n"
          ]
        },
        {
          "output_type": "stream",
          "name": "stderr",
          "text": [
            "\rProcessing reviews:  54%|█████▍    | 511/949 [40:32<25:24,  3.48s/batch]"
          ]
        },
        {
          "output_type": "stream",
          "name": "stdout",
          "text": [
            "2/2 [==============================] - 4s 2s/step\n"
          ]
        },
        {
          "output_type": "stream",
          "name": "stderr",
          "text": [
            "\rProcessing reviews:  54%|█████▍    | 512/949 [40:42<40:34,  5.57s/batch]"
          ]
        },
        {
          "output_type": "stream",
          "name": "stdout",
          "text": [
            "2/2 [==============================] - 1s 604ms/step\n"
          ]
        },
        {
          "output_type": "stream",
          "name": "stderr",
          "text": [
            "\rProcessing reviews:  54%|█████▍    | 513/949 [40:45<34:19,  4.72s/batch]"
          ]
        },
        {
          "output_type": "stream",
          "name": "stdout",
          "text": [
            "2/2 [==============================] - 1s 666ms/step\n"
          ]
        },
        {
          "output_type": "stream",
          "name": "stderr",
          "text": [
            "\rProcessing reviews:  54%|█████▍    | 514/949 [40:48<29:47,  4.11s/batch]"
          ]
        },
        {
          "output_type": "stream",
          "name": "stdout",
          "text": [
            "2/2 [==============================] - 2s 1s/step\n"
          ]
        },
        {
          "output_type": "stream",
          "name": "stderr",
          "text": [
            "\rProcessing reviews:  54%|█████▍    | 515/949 [40:51<27:28,  3.80s/batch]"
          ]
        },
        {
          "output_type": "stream",
          "name": "stdout",
          "text": [
            "2/2 [==============================] - 2s 1s/step\n"
          ]
        },
        {
          "output_type": "stream",
          "name": "stderr",
          "text": [
            "\rProcessing reviews:  54%|█████▍    | 516/949 [40:56<30:38,  4.25s/batch]"
          ]
        },
        {
          "output_type": "stream",
          "name": "stdout",
          "text": [
            "2/2 [==============================] - 2s 1s/step\n"
          ]
        },
        {
          "output_type": "stream",
          "name": "stderr",
          "text": [
            "\rProcessing reviews:  54%|█████▍    | 517/949 [41:01<32:55,  4.57s/batch]"
          ]
        },
        {
          "output_type": "stream",
          "name": "stdout",
          "text": [
            "2/2 [==============================] - 6s 3s/step\n"
          ]
        },
        {
          "output_type": "stream",
          "name": "stderr",
          "text": [
            "\rProcessing reviews:  55%|█████▍    | 518/949 [41:09<39:19,  5.48s/batch]"
          ]
        },
        {
          "output_type": "stream",
          "name": "stdout",
          "text": [
            "2/2 [==============================] - 3s 1s/step\n"
          ]
        },
        {
          "output_type": "stream",
          "name": "stderr",
          "text": [
            "\rProcessing reviews:  55%|█████▍    | 519/949 [41:14<38:52,  5.42s/batch]"
          ]
        },
        {
          "output_type": "stream",
          "name": "stdout",
          "text": [
            "2/2 [==============================] - 2s 1s/step\n"
          ]
        },
        {
          "output_type": "stream",
          "name": "stderr",
          "text": [
            "\rProcessing reviews:  55%|█████▍    | 520/949 [41:18<34:44,  4.86s/batch]"
          ]
        },
        {
          "output_type": "stream",
          "name": "stdout",
          "text": [
            "2/2 [==============================] - 4s 2s/step\n"
          ]
        },
        {
          "output_type": "stream",
          "name": "stderr",
          "text": [
            "\rProcessing reviews:  55%|█████▍    | 521/949 [41:23<36:18,  5.09s/batch]"
          ]
        },
        {
          "output_type": "stream",
          "name": "stdout",
          "text": [
            "2/2 [==============================] - 3s 2s/step\n"
          ]
        },
        {
          "output_type": "stream",
          "name": "stderr",
          "text": [
            "\rProcessing reviews:  55%|█████▌    | 522/949 [41:28<34:18,  4.82s/batch]"
          ]
        },
        {
          "output_type": "stream",
          "name": "stdout",
          "text": [
            "2/2 [==============================] - 2s 1s/step\n"
          ]
        },
        {
          "output_type": "stream",
          "name": "stderr",
          "text": [
            "\rProcessing reviews:  55%|█████▌    | 523/949 [41:33<35:14,  4.96s/batch]"
          ]
        },
        {
          "output_type": "stream",
          "name": "stdout",
          "text": [
            "2/2 [==============================] - 4s 2s/step\n"
          ]
        },
        {
          "output_type": "stream",
          "name": "stderr",
          "text": [
            "\rProcessing reviews:  55%|█████▌    | 524/949 [41:38<35:56,  5.07s/batch]"
          ]
        },
        {
          "output_type": "stream",
          "name": "stdout",
          "text": [
            "2/2 [==============================] - 4s 2s/step\n"
          ]
        },
        {
          "output_type": "stream",
          "name": "stderr",
          "text": [
            "\rProcessing reviews:  55%|█████▌    | 525/949 [41:43<36:18,  5.14s/batch]"
          ]
        },
        {
          "output_type": "stream",
          "name": "stdout",
          "text": [
            "2/2 [==============================] - 2s 1s/step\n"
          ]
        },
        {
          "output_type": "stream",
          "name": "stderr",
          "text": [
            "\rProcessing reviews:  55%|█████▌    | 526/949 [41:49<36:33,  5.19s/batch]"
          ]
        },
        {
          "output_type": "stream",
          "name": "stdout",
          "text": [
            "2/2 [==============================] - 2s 1s/step\n"
          ]
        },
        {
          "output_type": "stream",
          "name": "stderr",
          "text": [
            "\rProcessing reviews:  56%|█████▌    | 527/949 [41:52<33:04,  4.70s/batch]"
          ]
        },
        {
          "output_type": "stream",
          "name": "stdout",
          "text": [
            "2/2 [==============================] - 5s 2s/step\n"
          ]
        },
        {
          "output_type": "stream",
          "name": "stderr",
          "text": [
            "\rProcessing reviews:  56%|█████▌    | 528/949 [41:59<36:02,  5.14s/batch]"
          ]
        },
        {
          "output_type": "stream",
          "name": "stdout",
          "text": [
            "2/2 [==============================] - 4s 2s/step\n"
          ]
        },
        {
          "output_type": "stream",
          "name": "stderr",
          "text": [
            "\rProcessing reviews:  56%|█████▌    | 529/949 [42:03<35:03,  5.01s/batch]"
          ]
        },
        {
          "output_type": "stream",
          "name": "stdout",
          "text": [
            "2/2 [==============================] - 4s 2s/step\n"
          ]
        },
        {
          "output_type": "stream",
          "name": "stderr",
          "text": [
            "\rProcessing reviews:  56%|█████▌    | 530/949 [42:08<35:17,  5.05s/batch]"
          ]
        },
        {
          "output_type": "stream",
          "name": "stdout",
          "text": [
            "2/2 [==============================] - 1s 753ms/step\n"
          ]
        },
        {
          "output_type": "stream",
          "name": "stderr",
          "text": [
            "\rProcessing reviews:  56%|█████▌    | 531/949 [42:11<29:39,  4.26s/batch]"
          ]
        },
        {
          "output_type": "stream",
          "name": "stdout",
          "text": [
            "2/2 [==============================] - 1s 708ms/step\n"
          ]
        },
        {
          "output_type": "stream",
          "name": "stderr",
          "text": [
            "\rProcessing reviews:  56%|█████▌    | 532/949 [42:14<26:25,  3.80s/batch]"
          ]
        },
        {
          "output_type": "stream",
          "name": "stdout",
          "text": [
            "2/2 [==============================] - 3s 2s/step\n"
          ]
        },
        {
          "output_type": "stream",
          "name": "stderr",
          "text": [
            "\rProcessing reviews:  56%|█████▌    | 533/949 [42:19<29:25,  4.24s/batch]"
          ]
        },
        {
          "output_type": "stream",
          "name": "stdout",
          "text": [
            "2/2 [==============================] - 3s 1s/step\n"
          ]
        },
        {
          "output_type": "stream",
          "name": "stderr",
          "text": [
            "\rProcessing reviews:  56%|█████▋    | 534/949 [42:24<31:32,  4.56s/batch]"
          ]
        },
        {
          "output_type": "stream",
          "name": "stdout",
          "text": [
            "2/2 [==============================] - 2s 964ms/step\n"
          ]
        },
        {
          "output_type": "stream",
          "name": "stderr",
          "text": [
            "\rProcessing reviews:  56%|█████▋    | 535/949 [42:29<33:01,  4.79s/batch]"
          ]
        },
        {
          "output_type": "stream",
          "name": "stdout",
          "text": [
            "2/2 [==============================] - 4s 2s/step\n"
          ]
        },
        {
          "output_type": "stream",
          "name": "stderr",
          "text": [
            "\rProcessing reviews:  56%|█████▋    | 536/949 [42:35<33:39,  4.89s/batch]"
          ]
        },
        {
          "output_type": "stream",
          "name": "stdout",
          "text": [
            "2/2 [==============================] - 3s 1s/step\n"
          ]
        },
        {
          "output_type": "stream",
          "name": "stderr",
          "text": [
            "\rProcessing reviews:  57%|█████▋    | 537/949 [42:40<34:24,  5.01s/batch]"
          ]
        },
        {
          "output_type": "stream",
          "name": "stdout",
          "text": [
            "2/2 [==============================] - 2s 838ms/step\n"
          ]
        },
        {
          "output_type": "stream",
          "name": "stderr",
          "text": [
            "\rProcessing reviews:  57%|█████▋    | 538/949 [42:43<29:43,  4.34s/batch]"
          ]
        },
        {
          "output_type": "stream",
          "name": "stdout",
          "text": [
            "2/2 [==============================] - 3s 1s/step\n"
          ]
        },
        {
          "output_type": "stream",
          "name": "stderr",
          "text": [
            "\rProcessing reviews:  57%|█████▋    | 539/949 [42:48<31:40,  4.63s/batch]"
          ]
        },
        {
          "output_type": "stream",
          "name": "stdout",
          "text": [
            "2/2 [==============================] - 2s 1s/step\n"
          ]
        },
        {
          "output_type": "stream",
          "name": "stderr",
          "text": [
            "\rProcessing reviews:  57%|█████▋    | 540/949 [42:53<32:52,  4.82s/batch]"
          ]
        },
        {
          "output_type": "stream",
          "name": "stdout",
          "text": [
            "2/2 [==============================] - 3s 1s/step\n"
          ]
        },
        {
          "output_type": "stream",
          "name": "stderr",
          "text": [
            "\rProcessing reviews:  57%|█████▋    | 541/949 [42:57<30:00,  4.41s/batch]"
          ]
        },
        {
          "output_type": "stream",
          "name": "stdout",
          "text": [
            "2/2 [==============================] - 4s 2s/step\n"
          ]
        },
        {
          "output_type": "stream",
          "name": "stderr",
          "text": [
            "\rProcessing reviews:  57%|█████▋    | 542/949 [43:02<31:50,  4.69s/batch]"
          ]
        },
        {
          "output_type": "stream",
          "name": "stdout",
          "text": [
            "2/2 [==============================] - 3s 2s/step\n"
          ]
        },
        {
          "output_type": "stream",
          "name": "stderr",
          "text": [
            "\rProcessing reviews:  57%|█████▋    | 543/949 [43:07<33:06,  4.89s/batch]"
          ]
        },
        {
          "output_type": "stream",
          "name": "stdout",
          "text": [
            "2/2 [==============================] - 2s 976ms/step\n"
          ]
        },
        {
          "output_type": "stream",
          "name": "stderr",
          "text": [
            "\rProcessing reviews:  57%|█████▋    | 544/949 [43:10<28:50,  4.27s/batch]"
          ]
        },
        {
          "output_type": "stream",
          "name": "stdout",
          "text": [
            "2/2 [==============================] - 2s 1s/step\n"
          ]
        },
        {
          "output_type": "stream",
          "name": "stderr",
          "text": [
            "\rProcessing reviews:  57%|█████▋    | 545/949 [43:15<30:50,  4.58s/batch]"
          ]
        },
        {
          "output_type": "stream",
          "name": "stdout",
          "text": [
            "2/2 [==============================] - 2s 1s/step\n"
          ]
        },
        {
          "output_type": "stream",
          "name": "stderr",
          "text": [
            "\rProcessing reviews:  58%|█████▊    | 546/949 [43:21<32:21,  4.82s/batch]"
          ]
        },
        {
          "output_type": "stream",
          "name": "stdout",
          "text": [
            "2/2 [==============================] - 5s 2s/step\n"
          ]
        },
        {
          "output_type": "stream",
          "name": "stderr",
          "text": [
            "\rProcessing reviews:  58%|█████▊    | 547/949 [43:31<43:40,  6.52s/batch]"
          ]
        },
        {
          "output_type": "stream",
          "name": "stdout",
          "text": [
            "2/2 [==============================] - 3s 1s/step\n"
          ]
        },
        {
          "output_type": "stream",
          "name": "stderr",
          "text": [
            "\rProcessing reviews:  58%|█████▊    | 548/949 [43:37<41:06,  6.15s/batch]"
          ]
        },
        {
          "output_type": "stream",
          "name": "stdout",
          "text": [
            "2/2 [==============================] - 3s 2s/step\n"
          ]
        },
        {
          "output_type": "stream",
          "name": "stderr",
          "text": [
            "\rProcessing reviews:  58%|█████▊    | 549/949 [43:42<39:23,  5.91s/batch]"
          ]
        },
        {
          "output_type": "stream",
          "name": "stdout",
          "text": [
            "2/2 [==============================] - 2s 1s/step\n"
          ]
        },
        {
          "output_type": "stream",
          "name": "stderr",
          "text": [
            "\rProcessing reviews:  58%|█████▊    | 550/949 [43:45<33:50,  5.09s/batch]"
          ]
        },
        {
          "output_type": "stream",
          "name": "stdout",
          "text": [
            "2/2 [==============================] - 3s 1s/step\n"
          ]
        },
        {
          "output_type": "stream",
          "name": "stderr",
          "text": [
            "\rProcessing reviews:  58%|█████▊    | 551/949 [43:50<34:07,  5.14s/batch]"
          ]
        },
        {
          "output_type": "stream",
          "name": "stdout",
          "text": [
            "2/2 [==============================] - 2s 834ms/step\n"
          ]
        },
        {
          "output_type": "stream",
          "name": "stderr",
          "text": [
            "\rProcessing reviews:  58%|█████▊    | 552/949 [43:53<29:14,  4.42s/batch]"
          ]
        },
        {
          "output_type": "stream",
          "name": "stdout",
          "text": [
            "2/2 [==============================] - 3s 1s/step\n"
          ]
        },
        {
          "output_type": "stream",
          "name": "stderr",
          "text": [
            "\rProcessing reviews:  58%|█████▊    | 553/949 [43:59<31:06,  4.71s/batch]"
          ]
        },
        {
          "output_type": "stream",
          "name": "stdout",
          "text": [
            "2/2 [==============================] - 2s 811ms/step\n"
          ]
        },
        {
          "output_type": "stream",
          "name": "stderr",
          "text": [
            "\rProcessing reviews:  58%|█████▊    | 554/949 [44:01<27:11,  4.13s/batch]"
          ]
        },
        {
          "output_type": "stream",
          "name": "stdout",
          "text": [
            "2/2 [==============================] - 2s 1s/step\n"
          ]
        },
        {
          "output_type": "stream",
          "name": "stderr",
          "text": [
            "\rProcessing reviews:  58%|█████▊    | 555/949 [44:07<29:20,  4.47s/batch]"
          ]
        },
        {
          "output_type": "stream",
          "name": "stdout",
          "text": [
            "2/2 [==============================] - 2s 1s/step\n"
          ]
        },
        {
          "output_type": "stream",
          "name": "stderr",
          "text": [
            "\rProcessing reviews:  59%|█████▊    | 556/949 [44:12<30:53,  4.72s/batch]"
          ]
        },
        {
          "output_type": "stream",
          "name": "stdout",
          "text": [
            "2/2 [==============================] - 3s 1s/step\n"
          ]
        },
        {
          "output_type": "stream",
          "name": "stderr",
          "text": [
            "\rProcessing reviews:  59%|█████▊    | 557/949 [44:16<30:07,  4.61s/batch]"
          ]
        },
        {
          "output_type": "stream",
          "name": "stdout",
          "text": [
            "2/2 [==============================] - 1s 753ms/step\n"
          ]
        },
        {
          "output_type": "stream",
          "name": "stderr",
          "text": [
            "\rProcessing reviews:  59%|█████▉    | 558/949 [44:18<25:26,  3.90s/batch]"
          ]
        },
        {
          "output_type": "stream",
          "name": "stdout",
          "text": [
            "2/2 [==============================] - 4s 2s/step\n"
          ]
        },
        {
          "output_type": "stream",
          "name": "stderr",
          "text": [
            "\rProcessing reviews:  59%|█████▉    | 559/949 [44:24<28:16,  4.35s/batch]"
          ]
        },
        {
          "output_type": "stream",
          "name": "stdout",
          "text": [
            "2/2 [==============================] - 3s 1s/step\n"
          ]
        },
        {
          "output_type": "stream",
          "name": "stderr",
          "text": [
            "\rProcessing reviews:  59%|█████▉    | 560/949 [44:29<30:06,  4.64s/batch]"
          ]
        },
        {
          "output_type": "stream",
          "name": "stdout",
          "text": [
            "2/2 [==============================] - 3s 1s/step\n"
          ]
        },
        {
          "output_type": "stream",
          "name": "stderr",
          "text": [
            "\rProcessing reviews:  59%|█████▉    | 561/949 [44:35<31:21,  4.85s/batch]"
          ]
        },
        {
          "output_type": "stream",
          "name": "stdout",
          "text": [
            "2/2 [==============================] - 2s 1s/step\n"
          ]
        },
        {
          "output_type": "stream",
          "name": "stderr",
          "text": [
            "\rProcessing reviews:  59%|█████▉    | 562/949 [44:40<32:04,  4.97s/batch]"
          ]
        },
        {
          "output_type": "stream",
          "name": "stdout",
          "text": [
            "2/2 [==============================] - 2s 1s/step\n"
          ]
        },
        {
          "output_type": "stream",
          "name": "stderr",
          "text": [
            "\rProcessing reviews:  59%|█████▉    | 563/949 [44:43<28:41,  4.46s/batch]"
          ]
        },
        {
          "output_type": "stream",
          "name": "stdout",
          "text": [
            "2/2 [==============================] - 3s 1s/step\n"
          ]
        },
        {
          "output_type": "stream",
          "name": "stderr",
          "text": [
            "\rProcessing reviews:  59%|█████▉    | 564/949 [44:47<27:30,  4.29s/batch]"
          ]
        },
        {
          "output_type": "stream",
          "name": "stdout",
          "text": [
            "2/2 [==============================] - 1s 576ms/step\n"
          ]
        },
        {
          "output_type": "stream",
          "name": "stderr",
          "text": [
            "\rProcessing reviews:  60%|█████▉    | 565/949 [44:50<24:31,  3.83s/batch]"
          ]
        },
        {
          "output_type": "stream",
          "name": "stdout",
          "text": [
            "2/2 [==============================] - 2s 1s/step\n"
          ]
        },
        {
          "output_type": "stream",
          "name": "stderr",
          "text": [
            "\rProcessing reviews:  60%|█████▉    | 566/949 [44:53<23:58,  3.75s/batch]"
          ]
        },
        {
          "output_type": "stream",
          "name": "stdout",
          "text": [
            "2/2 [==============================] - 4s 2s/step\n"
          ]
        },
        {
          "output_type": "stream",
          "name": "stderr",
          "text": [
            "\rProcessing reviews:  60%|█████▉    | 567/949 [44:59<26:48,  4.21s/batch]"
          ]
        },
        {
          "output_type": "stream",
          "name": "stdout",
          "text": [
            "2/2 [==============================] - 4s 2s/step\n"
          ]
        },
        {
          "output_type": "stream",
          "name": "stderr",
          "text": [
            "\rProcessing reviews:  60%|█████▉    | 568/949 [45:04<28:51,  4.54s/batch]"
          ]
        },
        {
          "output_type": "stream",
          "name": "stdout",
          "text": [
            "2/2 [==============================] - 2s 1s/step\n"
          ]
        },
        {
          "output_type": "stream",
          "name": "stderr",
          "text": [
            "\rProcessing reviews:  60%|█████▉    | 569/949 [45:09<30:20,  4.79s/batch]"
          ]
        },
        {
          "output_type": "stream",
          "name": "stdout",
          "text": [
            "2/2 [==============================] - 3s 1s/step\n"
          ]
        },
        {
          "output_type": "stream",
          "name": "stderr",
          "text": [
            "\rProcessing reviews:  60%|██████    | 570/949 [45:15<31:17,  4.95s/batch]"
          ]
        },
        {
          "output_type": "stream",
          "name": "stdout",
          "text": [
            "2/2 [==============================] - 2s 798ms/step\n"
          ]
        },
        {
          "output_type": "stream",
          "name": "stderr",
          "text": [
            "\rProcessing reviews:  60%|██████    | 571/949 [45:17<26:55,  4.27s/batch]"
          ]
        },
        {
          "output_type": "stream",
          "name": "stdout",
          "text": [
            "2/2 [==============================] - 2s 959ms/step\n"
          ]
        },
        {
          "output_type": "stream",
          "name": "stderr",
          "text": [
            "\rProcessing reviews:  60%|██████    | 572/949 [45:23<28:45,  4.58s/batch]"
          ]
        },
        {
          "output_type": "stream",
          "name": "stdout",
          "text": [
            "2/2 [==============================] - 3s 1s/step\n"
          ]
        },
        {
          "output_type": "stream",
          "name": "stderr",
          "text": [
            "\rProcessing reviews:  60%|██████    | 573/949 [45:28<30:05,  4.80s/batch]"
          ]
        },
        {
          "output_type": "stream",
          "name": "stdout",
          "text": [
            "2/2 [==============================] - 2s 1s/step\n"
          ]
        },
        {
          "output_type": "stream",
          "name": "stderr",
          "text": [
            "\rProcessing reviews:  60%|██████    | 574/949 [45:31<26:30,  4.24s/batch]"
          ]
        },
        {
          "output_type": "stream",
          "name": "stdout",
          "text": [
            "2/2 [==============================] - 4s 2s/step\n"
          ]
        },
        {
          "output_type": "stream",
          "name": "stderr",
          "text": [
            "\rProcessing reviews:  61%|██████    | 575/949 [45:36<28:21,  4.55s/batch]"
          ]
        },
        {
          "output_type": "stream",
          "name": "stdout",
          "text": [
            "2/2 [==============================] - 4s 2s/step\n"
          ]
        },
        {
          "output_type": "stream",
          "name": "stderr",
          "text": [
            "\rProcessing reviews:  61%|██████    | 576/949 [45:41<29:43,  4.78s/batch]"
          ]
        },
        {
          "output_type": "stream",
          "name": "stdout",
          "text": [
            "2/2 [==============================] - 3s 1s/step\n"
          ]
        },
        {
          "output_type": "stream",
          "name": "stderr",
          "text": [
            "\rProcessing reviews:  61%|██████    | 577/949 [45:47<30:39,  4.95s/batch]"
          ]
        },
        {
          "output_type": "stream",
          "name": "stdout",
          "text": [
            "2/2 [==============================] - 4s 2s/step\n"
          ]
        },
        {
          "output_type": "stream",
          "name": "stderr",
          "text": [
            "\rProcessing reviews:  61%|██████    | 578/949 [45:57<40:50,  6.60s/batch]"
          ]
        },
        {
          "output_type": "stream",
          "name": "stdout",
          "text": [
            "2/2 [==============================] - 4s 2s/step\n"
          ]
        },
        {
          "output_type": "stream",
          "name": "stderr",
          "text": [
            "\rProcessing reviews:  61%|██████    | 579/949 [46:08<47:52,  7.76s/batch]"
          ]
        },
        {
          "output_type": "stream",
          "name": "stdout",
          "text": [
            "2/2 [==============================] - 6s 3s/step\n"
          ]
        },
        {
          "output_type": "stream",
          "name": "stderr",
          "text": [
            "\rProcessing reviews:  61%|██████    | 580/949 [46:18<52:47,  8.59s/batch]"
          ]
        },
        {
          "output_type": "stream",
          "name": "stdout",
          "text": [
            "2/2 [==============================] - 2s 1s/step\n"
          ]
        },
        {
          "output_type": "stream",
          "name": "stderr",
          "text": [
            "\rProcessing reviews:  61%|██████    | 581/949 [46:22<43:05,  7.03s/batch]"
          ]
        },
        {
          "output_type": "stream",
          "name": "stdout",
          "text": [
            "2/2 [==============================] - 3s 1s/step\n"
          ]
        },
        {
          "output_type": "stream",
          "name": "stderr",
          "text": [
            "\rProcessing reviews:  61%|██████▏   | 582/949 [46:25<36:55,  6.04s/batch]"
          ]
        },
        {
          "output_type": "stream",
          "name": "stdout",
          "text": [
            "2/2 [==============================] - 2s 806ms/step\n"
          ]
        },
        {
          "output_type": "stream",
          "name": "stderr",
          "text": [
            "\rProcessing reviews:  61%|██████▏   | 583/949 [46:28<29:54,  4.90s/batch]"
          ]
        },
        {
          "output_type": "stream",
          "name": "stdout",
          "text": [
            "2/2 [==============================] - 2s 1s/step\n"
          ]
        },
        {
          "output_type": "stream",
          "name": "stderr",
          "text": [
            "\rProcessing reviews:  62%|██████▏   | 584/949 [46:31<26:20,  4.33s/batch]"
          ]
        },
        {
          "output_type": "stream",
          "name": "stdout",
          "text": [
            "2/2 [==============================] - 2s 1s/step\n"
          ]
        },
        {
          "output_type": "stream",
          "name": "stderr",
          "text": [
            "\rProcessing reviews:  62%|██████▏   | 585/949 [46:36<28:00,  4.62s/batch]"
          ]
        },
        {
          "output_type": "stream",
          "name": "stdout",
          "text": [
            "2/2 [==============================] - 3s 1s/step\n"
          ]
        },
        {
          "output_type": "stream",
          "name": "stderr",
          "text": [
            "\rProcessing reviews:  62%|██████▏   | 586/949 [46:40<26:11,  4.33s/batch]"
          ]
        },
        {
          "output_type": "stream",
          "name": "stdout",
          "text": [
            "2/2 [==============================] - 3s 1s/step\n"
          ]
        },
        {
          "output_type": "stream",
          "name": "stderr",
          "text": [
            "\rProcessing reviews:  62%|██████▏   | 587/949 [46:43<25:29,  4.23s/batch]"
          ]
        },
        {
          "output_type": "stream",
          "name": "stdout",
          "text": [
            "2/2 [==============================] - 3s 1s/step\n"
          ]
        },
        {
          "output_type": "stream",
          "name": "stderr",
          "text": [
            "\rProcessing reviews:  62%|██████▏   | 588/949 [46:47<24:48,  4.12s/batch]"
          ]
        },
        {
          "output_type": "stream",
          "name": "stdout",
          "text": [
            "2/2 [==============================] - 2s 1s/step\n"
          ]
        },
        {
          "output_type": "stream",
          "name": "stderr",
          "text": [
            "\rProcessing reviews:  62%|██████▏   | 589/949 [46:53<26:51,  4.48s/batch]"
          ]
        },
        {
          "output_type": "stream",
          "name": "stdout",
          "text": [
            "2/2 [==============================] - 4s 2s/step\n"
          ]
        },
        {
          "output_type": "stream",
          "name": "stderr",
          "text": [
            "\rProcessing reviews:  62%|██████▏   | 590/949 [46:58<28:18,  4.73s/batch]"
          ]
        },
        {
          "output_type": "stream",
          "name": "stdout",
          "text": [
            "2/2 [==============================] - 3s 1s/step\n"
          ]
        },
        {
          "output_type": "stream",
          "name": "stderr",
          "text": [
            "\rProcessing reviews:  62%|██████▏   | 591/949 [47:02<26:40,  4.47s/batch]"
          ]
        },
        {
          "output_type": "stream",
          "name": "stdout",
          "text": [
            "2/2 [==============================] - 2s 944ms/step\n"
          ]
        },
        {
          "output_type": "stream",
          "name": "stderr",
          "text": [
            "\rProcessing reviews:  62%|██████▏   | 592/949 [47:05<23:25,  3.94s/batch]"
          ]
        },
        {
          "output_type": "stream",
          "name": "stdout",
          "text": [
            "2/2 [==============================] - 3s 2s/step\n"
          ]
        },
        {
          "output_type": "stream",
          "name": "stderr",
          "text": [
            "\rProcessing reviews:  62%|██████▏   | 593/949 [47:10<25:48,  4.35s/batch]"
          ]
        },
        {
          "output_type": "stream",
          "name": "stdout",
          "text": [
            "2/2 [==============================] - 4s 2s/step\n"
          ]
        },
        {
          "output_type": "stream",
          "name": "stderr",
          "text": [
            "\rProcessing reviews:  63%|██████▎   | 594/949 [47:15<27:33,  4.66s/batch]"
          ]
        },
        {
          "output_type": "stream",
          "name": "stdout",
          "text": [
            "2/2 [==============================] - 2s 939ms/step\n"
          ]
        },
        {
          "output_type": "stream",
          "name": "stderr",
          "text": [
            "\rProcessing reviews:  63%|██████▎   | 595/949 [47:18<24:00,  4.07s/batch]"
          ]
        },
        {
          "output_type": "stream",
          "name": "stdout",
          "text": [
            "2/2 [==============================] - 3s 1s/step\n"
          ]
        },
        {
          "output_type": "stream",
          "name": "stderr",
          "text": [
            "\rProcessing reviews:  63%|██████▎   | 596/949 [47:22<23:43,  4.03s/batch]"
          ]
        },
        {
          "output_type": "stream",
          "name": "stdout",
          "text": [
            "2/2 [==============================] - 3s 2s/step\n"
          ]
        },
        {
          "output_type": "stream",
          "name": "stderr",
          "text": [
            "\rProcessing reviews:  63%|██████▎   | 597/949 [47:27<25:54,  4.42s/batch]"
          ]
        },
        {
          "output_type": "stream",
          "name": "stdout",
          "text": [
            "2/2 [==============================] - 3s 1s/step\n"
          ]
        },
        {
          "output_type": "stream",
          "name": "stderr",
          "text": [
            "\rProcessing reviews:  63%|██████▎   | 598/949 [47:31<25:24,  4.34s/batch]"
          ]
        },
        {
          "output_type": "stream",
          "name": "stdout",
          "text": [
            "2/2 [==============================] - 6s 3s/step\n"
          ]
        },
        {
          "output_type": "stream",
          "name": "stderr",
          "text": [
            "\rProcessing reviews:  63%|██████▎   | 599/949 [47:42<36:05,  6.19s/batch]"
          ]
        },
        {
          "output_type": "stream",
          "name": "stdout",
          "text": [
            "2/2 [==============================] - 3s 2s/step\n"
          ]
        },
        {
          "output_type": "stream",
          "name": "stderr",
          "text": [
            "\rProcessing reviews:  63%|██████▎   | 600/949 [47:46<33:04,  5.69s/batch]"
          ]
        },
        {
          "output_type": "stream",
          "name": "stdout",
          "text": [
            "2/2 [==============================] - 2s 908ms/step\n"
          ]
        },
        {
          "output_type": "stream",
          "name": "stderr",
          "text": [
            "\rProcessing reviews:  63%|██████▎   | 601/949 [47:52<32:17,  5.57s/batch]"
          ]
        },
        {
          "output_type": "stream",
          "name": "stdout",
          "text": [
            "2/2 [==============================] - 3s 1s/step\n"
          ]
        },
        {
          "output_type": "stream",
          "name": "stderr",
          "text": [
            "\rProcessing reviews:  63%|██████▎   | 602/949 [47:57<31:40,  5.48s/batch]"
          ]
        },
        {
          "output_type": "stream",
          "name": "stdout",
          "text": [
            "2/2 [==============================] - 3s 2s/step\n"
          ]
        },
        {
          "output_type": "stream",
          "name": "stderr",
          "text": [
            "\rProcessing reviews:  64%|██████▎   | 603/949 [48:02<31:18,  5.43s/batch]"
          ]
        },
        {
          "output_type": "stream",
          "name": "stdout",
          "text": [
            "2/2 [==============================] - 6s 3s/step\n"
          ]
        },
        {
          "output_type": "stream",
          "name": "stderr",
          "text": [
            "\rProcessing reviews:  64%|██████▎   | 604/949 [48:13<39:56,  6.95s/batch]"
          ]
        },
        {
          "output_type": "stream",
          "name": "stdout",
          "text": [
            "2/2 [==============================] - 3s 1s/step\n"
          ]
        },
        {
          "output_type": "stream",
          "name": "stderr",
          "text": [
            "\rProcessing reviews:  64%|██████▍   | 605/949 [48:16<33:58,  5.92s/batch]"
          ]
        },
        {
          "output_type": "stream",
          "name": "stdout",
          "text": [
            "2/2 [==============================] - 2s 881ms/step\n"
          ]
        },
        {
          "output_type": "stream",
          "name": "stderr",
          "text": [
            "\rProcessing reviews:  64%|██████▍   | 606/949 [48:19<28:22,  4.96s/batch]"
          ]
        },
        {
          "output_type": "stream",
          "name": "stdout",
          "text": [
            "2/2 [==============================] - 3s 1s/step\n"
          ]
        },
        {
          "output_type": "stream",
          "name": "stderr",
          "text": [
            "\rProcessing reviews:  64%|██████▍   | 607/949 [48:24<28:59,  5.09s/batch]"
          ]
        },
        {
          "output_type": "stream",
          "name": "stdout",
          "text": [
            "2/2 [==============================] - 2s 808ms/step\n"
          ]
        },
        {
          "output_type": "stream",
          "name": "stderr",
          "text": [
            "\rProcessing reviews:  64%|██████▍   | 608/949 [48:27<24:53,  4.38s/batch]"
          ]
        },
        {
          "output_type": "stream",
          "name": "stdout",
          "text": [
            "2/2 [==============================] - 2s 1s/step\n"
          ]
        },
        {
          "output_type": "stream",
          "name": "stderr",
          "text": [
            "\rProcessing reviews:  64%|██████▍   | 609/949 [48:30<22:51,  4.03s/batch]"
          ]
        },
        {
          "output_type": "stream",
          "name": "stdout",
          "text": [
            "2/2 [==============================] - 5s 3s/step\n"
          ]
        },
        {
          "output_type": "stream",
          "name": "stderr",
          "text": [
            "\rProcessing reviews:  64%|██████▍   | 610/949 [48:41<33:41,  5.96s/batch]"
          ]
        },
        {
          "output_type": "stream",
          "name": "stdout",
          "text": [
            "2/2 [==============================] - 3s 1s/step\n"
          ]
        },
        {
          "output_type": "stream",
          "name": "stderr",
          "text": [
            "\rProcessing reviews:  64%|██████▍   | 611/949 [48:45<29:58,  5.32s/batch]"
          ]
        },
        {
          "output_type": "stream",
          "name": "stdout",
          "text": [
            "2/2 [==============================] - 2s 808ms/step\n"
          ]
        },
        {
          "output_type": "stream",
          "name": "stderr",
          "text": [
            "\rProcessing reviews:  64%|██████▍   | 612/949 [48:47<24:48,  4.42s/batch]"
          ]
        },
        {
          "output_type": "stream",
          "name": "stdout",
          "text": [
            "2/2 [==============================] - 4s 2s/step\n"
          ]
        },
        {
          "output_type": "stream",
          "name": "stderr",
          "text": [
            "\rProcessing reviews:  65%|██████▍   | 613/949 [48:57<34:52,  6.23s/batch]"
          ]
        },
        {
          "output_type": "stream",
          "name": "stdout",
          "text": [
            "2/2 [==============================] - 3s 1s/step\n"
          ]
        },
        {
          "output_type": "stream",
          "name": "stderr",
          "text": [
            "\rProcessing reviews:  65%|██████▍   | 614/949 [49:01<30:16,  5.42s/batch]"
          ]
        },
        {
          "output_type": "stream",
          "name": "stdout",
          "text": [
            "2/2 [==============================] - 5s 2s/step\n"
          ]
        },
        {
          "output_type": "stream",
          "name": "stderr",
          "text": [
            "\rProcessing reviews:  65%|██████▍   | 615/949 [49:07<31:23,  5.64s/batch]"
          ]
        },
        {
          "output_type": "stream",
          "name": "stdout",
          "text": [
            "2/2 [==============================] - 3s 1s/step\n"
          ]
        },
        {
          "output_type": "stream",
          "name": "stderr",
          "text": [
            "\rProcessing reviews:  65%|██████▍   | 616/949 [49:12<30:45,  5.54s/batch]"
          ]
        },
        {
          "output_type": "stream",
          "name": "stdout",
          "text": [
            "2/2 [==============================] - 5s 2s/step\n"
          ]
        },
        {
          "output_type": "stream",
          "name": "stderr",
          "text": [
            "\rProcessing reviews:  65%|██████▌   | 617/949 [49:19<31:48,  5.75s/batch]"
          ]
        },
        {
          "output_type": "stream",
          "name": "stdout",
          "text": [
            "2/2 [==============================] - 1s 737ms/step\n"
          ]
        },
        {
          "output_type": "stream",
          "name": "stderr",
          "text": [
            "\rProcessing reviews:  65%|██████▌   | 618/949 [49:21<26:37,  4.83s/batch]"
          ]
        },
        {
          "output_type": "stream",
          "name": "stdout",
          "text": [
            "2/2 [==============================] - 3s 1s/step\n"
          ]
        },
        {
          "output_type": "stream",
          "name": "stderr",
          "text": [
            "\rProcessing reviews:  65%|██████▌   | 619/949 [49:25<24:22,  4.43s/batch]"
          ]
        },
        {
          "output_type": "stream",
          "name": "stdout",
          "text": [
            "2/2 [==============================] - 4s 2s/step\n"
          ]
        },
        {
          "output_type": "stream",
          "name": "stderr",
          "text": [
            "\rProcessing reviews:  65%|██████▌   | 620/949 [49:30<25:46,  4.70s/batch]"
          ]
        },
        {
          "output_type": "stream",
          "name": "stdout",
          "text": [
            "2/2 [==============================] - 2s 917ms/step\n"
          ]
        },
        {
          "output_type": "stream",
          "name": "stderr",
          "text": [
            "\rProcessing reviews:  65%|██████▌   | 621/949 [49:36<26:48,  4.90s/batch]"
          ]
        },
        {
          "output_type": "stream",
          "name": "stdout",
          "text": [
            "2/2 [==============================] - 5s 2s/step\n"
          ]
        },
        {
          "output_type": "stream",
          "name": "stderr",
          "text": [
            "\rProcessing reviews:  66%|██████▌   | 622/949 [49:46<35:56,  6.59s/batch]"
          ]
        },
        {
          "output_type": "stream",
          "name": "stdout",
          "text": [
            "2/2 [==============================] - 3s 1s/step\n"
          ]
        },
        {
          "output_type": "stream",
          "name": "stderr",
          "text": [
            "\rProcessing reviews:  66%|██████▌   | 623/949 [49:51<33:50,  6.23s/batch]"
          ]
        },
        {
          "output_type": "stream",
          "name": "stdout",
          "text": [
            "2/2 [==============================] - 2s 946ms/step\n"
          ]
        },
        {
          "output_type": "stream",
          "name": "stderr",
          "text": [
            "\rProcessing reviews:  66%|██████▌   | 624/949 [49:54<28:14,  5.21s/batch]"
          ]
        },
        {
          "output_type": "stream",
          "name": "stdout",
          "text": [
            "2/2 [==============================] - 5s 3s/step\n"
          ]
        },
        {
          "output_type": "stream",
          "name": "stderr",
          "text": [
            "\rProcessing reviews:  66%|██████▌   | 625/949 [50:01<30:14,  5.60s/batch]"
          ]
        },
        {
          "output_type": "stream",
          "name": "stdout",
          "text": [
            "2/2 [==============================] - 2s 813ms/step\n"
          ]
        },
        {
          "output_type": "stream",
          "name": "stderr",
          "text": [
            "\rProcessing reviews:  66%|██████▌   | 626/949 [50:03<25:26,  4.73s/batch]"
          ]
        },
        {
          "output_type": "stream",
          "name": "stdout",
          "text": [
            "2/2 [==============================] - 4s 2s/step\n"
          ]
        },
        {
          "output_type": "stream",
          "name": "stderr",
          "text": [
            "\rProcessing reviews:  66%|██████▌   | 627/949 [50:09<26:50,  5.00s/batch]"
          ]
        },
        {
          "output_type": "stream",
          "name": "stdout",
          "text": [
            "2/2 [==============================] - 2s 1s/step\n"
          ]
        },
        {
          "output_type": "stream",
          "name": "stderr",
          "text": [
            "\rProcessing reviews:  66%|██████▌   | 628/949 [50:12<23:47,  4.45s/batch]"
          ]
        },
        {
          "output_type": "stream",
          "name": "stdout",
          "text": [
            "2/2 [==============================] - 2s 884ms/step\n"
          ]
        },
        {
          "output_type": "stream",
          "name": "stderr",
          "text": [
            "\rProcessing reviews:  66%|██████▋   | 629/949 [50:15<20:36,  3.86s/batch]"
          ]
        },
        {
          "output_type": "stream",
          "name": "stdout",
          "text": [
            "2/2 [==============================] - 5s 3s/step\n"
          ]
        },
        {
          "output_type": "stream",
          "name": "stderr",
          "text": [
            "\rProcessing reviews:  66%|██████▋   | 630/949 [50:21<25:02,  4.71s/batch]"
          ]
        },
        {
          "output_type": "stream",
          "name": "stdout",
          "text": [
            "2/2 [==============================] - 2s 1s/step\n"
          ]
        },
        {
          "output_type": "stream",
          "name": "stderr",
          "text": [
            "\rProcessing reviews:  66%|██████▋   | 631/949 [50:27<25:53,  4.89s/batch]"
          ]
        },
        {
          "output_type": "stream",
          "name": "stdout",
          "text": [
            "2/2 [==============================] - 2s 729ms/step\n"
          ]
        },
        {
          "output_type": "stream",
          "name": "stderr",
          "text": [
            "\rProcessing reviews:  67%|██████▋   | 632/949 [50:29<21:58,  4.16s/batch]"
          ]
        },
        {
          "output_type": "stream",
          "name": "stdout",
          "text": [
            "2/2 [==============================] - 2s 957ms/step\n"
          ]
        },
        {
          "output_type": "stream",
          "name": "stderr",
          "text": [
            "\rProcessing reviews:  67%|██████▋   | 633/949 [50:35<23:44,  4.51s/batch]"
          ]
        },
        {
          "output_type": "stream",
          "name": "stdout",
          "text": [
            "2/2 [==============================] - 2s 1s/step\n"
          ]
        },
        {
          "output_type": "stream",
          "name": "stderr",
          "text": [
            "\rProcessing reviews:  67%|██████▋   | 634/949 [50:40<24:50,  4.73s/batch]"
          ]
        },
        {
          "output_type": "stream",
          "name": "stdout",
          "text": [
            "2/2 [==============================] - 2s 840ms/step\n"
          ]
        },
        {
          "output_type": "stream",
          "name": "stderr",
          "text": [
            "\rProcessing reviews:  67%|██████▋   | 635/949 [50:42<21:27,  4.10s/batch]"
          ]
        },
        {
          "output_type": "stream",
          "name": "stdout",
          "text": [
            "2/2 [==============================] - 4s 2s/step\n"
          ]
        },
        {
          "output_type": "stream",
          "name": "stderr",
          "text": [
            "\rProcessing reviews:  67%|██████▋   | 636/949 [50:48<23:30,  4.51s/batch]"
          ]
        },
        {
          "output_type": "stream",
          "name": "stdout",
          "text": [
            "2/2 [==============================] - 2s 849ms/step\n"
          ]
        },
        {
          "output_type": "stream",
          "name": "stderr",
          "text": [
            "\rProcessing reviews:  67%|██████▋   | 637/949 [50:51<20:41,  3.98s/batch]"
          ]
        },
        {
          "output_type": "stream",
          "name": "stdout",
          "text": [
            "2/2 [==============================] - 2s 1s/step\n"
          ]
        },
        {
          "output_type": "stream",
          "name": "stderr",
          "text": [
            "\rProcessing reviews:  67%|██████▋   | 638/949 [50:54<18:58,  3.66s/batch]"
          ]
        },
        {
          "output_type": "stream",
          "name": "stdout",
          "text": [
            "2/2 [==============================] - 2s 1s/step\n"
          ]
        },
        {
          "output_type": "stream",
          "name": "stderr",
          "text": [
            "\rProcessing reviews:  67%|██████▋   | 639/949 [50:59<21:27,  4.15s/batch]"
          ]
        },
        {
          "output_type": "stream",
          "name": "stdout",
          "text": [
            "2/2 [==============================] - 3s 1s/step\n"
          ]
        },
        {
          "output_type": "stream",
          "name": "stderr",
          "text": [
            "\rProcessing reviews:  67%|██████▋   | 640/949 [51:03<21:39,  4.21s/batch]"
          ]
        },
        {
          "output_type": "stream",
          "name": "stdout",
          "text": [
            "2/2 [==============================] - 4s 2s/step\n"
          ]
        },
        {
          "output_type": "stream",
          "name": "stderr",
          "text": [
            "\rProcessing reviews:  68%|██████▊   | 641/949 [51:08<22:41,  4.42s/batch]"
          ]
        },
        {
          "output_type": "stream",
          "name": "stdout",
          "text": [
            "2/2 [==============================] - 2s 907ms/step\n"
          ]
        },
        {
          "output_type": "stream",
          "name": "stderr",
          "text": [
            "\rProcessing reviews:  68%|██████▊   | 642/949 [51:11<19:59,  3.91s/batch]"
          ]
        },
        {
          "output_type": "stream",
          "name": "stdout",
          "text": [
            "2/2 [==============================] - 3s 1s/step\n"
          ]
        },
        {
          "output_type": "stream",
          "name": "stderr",
          "text": [
            "\rProcessing reviews:  68%|██████▊   | 643/949 [51:14<19:27,  3.81s/batch]"
          ]
        },
        {
          "output_type": "stream",
          "name": "stdout",
          "text": [
            "2/2 [==============================] - 2s 1s/step\n"
          ]
        },
        {
          "output_type": "stream",
          "name": "stderr",
          "text": [
            "\rProcessing reviews:  68%|██████▊   | 644/949 [51:20<21:39,  4.26s/batch]"
          ]
        },
        {
          "output_type": "stream",
          "name": "stdout",
          "text": [
            "2/2 [==============================] - 1s 628ms/step\n"
          ]
        },
        {
          "output_type": "stream",
          "name": "stderr",
          "text": [
            "\rProcessing reviews:  68%|██████▊   | 645/949 [51:22<18:25,  3.64s/batch]"
          ]
        },
        {
          "output_type": "stream",
          "name": "stdout",
          "text": [
            "2/2 [==============================] - 4s 2s/step\n"
          ]
        },
        {
          "output_type": "stream",
          "name": "stderr",
          "text": [
            "\rProcessing reviews:  68%|██████▊   | 646/949 [51:27<20:57,  4.15s/batch]"
          ]
        },
        {
          "output_type": "stream",
          "name": "stdout",
          "text": [
            "2/2 [==============================] - 5s 3s/step\n"
          ]
        },
        {
          "output_type": "stream",
          "name": "stderr",
          "text": [
            "\rProcessing reviews:  68%|██████▊   | 647/949 [51:38<30:28,  6.05s/batch]"
          ]
        },
        {
          "output_type": "stream",
          "name": "stdout",
          "text": [
            "2/2 [==============================] - 3s 1s/step\n"
          ]
        },
        {
          "output_type": "stream",
          "name": "stderr",
          "text": [
            "\rProcessing reviews:  68%|██████▊   | 648/949 [51:42<27:06,  5.40s/batch]"
          ]
        },
        {
          "output_type": "stream",
          "name": "stdout",
          "text": [
            "2/2 [==============================] - 2s 1s/step\n"
          ]
        },
        {
          "output_type": "stream",
          "name": "stderr",
          "text": [
            "\rProcessing reviews:  68%|██████▊   | 649/949 [51:47<26:47,  5.36s/batch]"
          ]
        },
        {
          "output_type": "stream",
          "name": "stdout",
          "text": [
            "2/2 [==============================] - 2s 1s/step\n"
          ]
        },
        {
          "output_type": "stream",
          "name": "stderr",
          "text": [
            "\rProcessing reviews:  68%|██████▊   | 650/949 [51:50<23:24,  4.70s/batch]"
          ]
        },
        {
          "output_type": "stream",
          "name": "stdout",
          "text": [
            "2/2 [==============================] - 5s 2s/step\n"
          ]
        },
        {
          "output_type": "stream",
          "name": "stderr",
          "text": [
            "\rProcessing reviews:  69%|██████▊   | 651/949 [52:00<31:50,  6.41s/batch]"
          ]
        },
        {
          "output_type": "stream",
          "name": "stdout",
          "text": [
            "2/2 [==============================] - 2s 858ms/step\n"
          ]
        },
        {
          "output_type": "stream",
          "name": "stderr",
          "text": [
            "\rProcessing reviews:  69%|██████▊   | 652/949 [52:03<25:58,  5.25s/batch]"
          ]
        },
        {
          "output_type": "stream",
          "name": "stdout",
          "text": [
            "2/2 [==============================] - 3s 1s/step\n"
          ]
        },
        {
          "output_type": "stream",
          "name": "stderr",
          "text": [
            "\rProcessing reviews:  69%|██████▉   | 653/949 [52:07<23:24,  4.75s/batch]"
          ]
        },
        {
          "output_type": "stream",
          "name": "stdout",
          "text": [
            "2/2 [==============================] - 5s 3s/step\n"
          ]
        },
        {
          "output_type": "stream",
          "name": "stderr",
          "text": [
            "\rProcessing reviews:  69%|██████▉   | 654/949 [52:17<31:41,  6.44s/batch]"
          ]
        },
        {
          "output_type": "stream",
          "name": "stdout",
          "text": [
            "2/2 [==============================] - 2s 1s/step\n"
          ]
        },
        {
          "output_type": "stream",
          "name": "stderr",
          "text": [
            "\rProcessing reviews:  69%|██████▉   | 655/949 [52:22<29:50,  6.09s/batch]"
          ]
        },
        {
          "output_type": "stream",
          "name": "stdout",
          "text": [
            "2/2 [==============================] - 2s 918ms/step\n"
          ]
        },
        {
          "output_type": "stream",
          "name": "stderr",
          "text": [
            "\rProcessing reviews:  69%|██████▉   | 656/949 [52:25<24:43,  5.06s/batch]"
          ]
        },
        {
          "output_type": "stream",
          "name": "stdout",
          "text": [
            "2/2 [==============================] - 2s 1s/step\n"
          ]
        },
        {
          "output_type": "stream",
          "name": "stderr",
          "text": [
            "\rProcessing reviews:  69%|██████▉   | 657/949 [52:28<22:12,  4.56s/batch]"
          ]
        },
        {
          "output_type": "stream",
          "name": "stdout",
          "text": [
            "2/2 [==============================] - 2s 883ms/step\n"
          ]
        },
        {
          "output_type": "stream",
          "name": "stderr",
          "text": [
            "\rProcessing reviews:  69%|██████▉   | 658/949 [52:31<19:33,  4.03s/batch]"
          ]
        },
        {
          "output_type": "stream",
          "name": "stdout",
          "text": [
            "2/2 [==============================] - 5s 2s/step\n"
          ]
        },
        {
          "output_type": "stream",
          "name": "stderr",
          "text": [
            "\rProcessing reviews:  69%|██████▉   | 659/949 [52:37<22:37,  4.68s/batch]"
          ]
        },
        {
          "output_type": "stream",
          "name": "stdout",
          "text": [
            "2/2 [==============================] - 3s 1s/step\n"
          ]
        },
        {
          "output_type": "stream",
          "name": "stderr",
          "text": [
            "\rProcessing reviews:  70%|██████▉   | 660/949 [52:42<23:22,  4.85s/batch]"
          ]
        },
        {
          "output_type": "stream",
          "name": "stdout",
          "text": [
            "2/2 [==============================] - 4s 2s/step\n"
          ]
        },
        {
          "output_type": "stream",
          "name": "stderr",
          "text": [
            "\rProcessing reviews:  70%|██████▉   | 661/949 [52:48<23:57,  4.99s/batch]"
          ]
        },
        {
          "output_type": "stream",
          "name": "stdout",
          "text": [
            "2/2 [==============================] - 3s 2s/step\n"
          ]
        },
        {
          "output_type": "stream",
          "name": "stderr",
          "text": [
            "\rProcessing reviews:  70%|██████▉   | 662/949 [52:53<24:28,  5.12s/batch]"
          ]
        },
        {
          "output_type": "stream",
          "name": "stdout",
          "text": [
            "2/2 [==============================] - 2s 914ms/step\n"
          ]
        },
        {
          "output_type": "stream",
          "name": "stderr",
          "text": [
            "\rProcessing reviews:  70%|██████▉   | 663/949 [52:56<20:58,  4.40s/batch]"
          ]
        },
        {
          "output_type": "stream",
          "name": "stdout",
          "text": [
            "2/2 [==============================] - 3s 2s/step\n"
          ]
        },
        {
          "output_type": "stream",
          "name": "stderr",
          "text": [
            "\rProcessing reviews:  70%|██████▉   | 664/949 [53:00<21:04,  4.44s/batch]"
          ]
        },
        {
          "output_type": "stream",
          "name": "stdout",
          "text": [
            "2/2 [==============================] - 2s 1s/step\n"
          ]
        },
        {
          "output_type": "stream",
          "name": "stderr",
          "text": [
            "\rProcessing reviews:  70%|███████   | 665/949 [53:06<22:12,  4.69s/batch]"
          ]
        },
        {
          "output_type": "stream",
          "name": "stdout",
          "text": [
            "2/2 [==============================] - 2s 766ms/step\n"
          ]
        },
        {
          "output_type": "stream",
          "name": "stderr",
          "text": [
            "\rProcessing reviews:  70%|███████   | 666/949 [53:09<19:24,  4.11s/batch]"
          ]
        },
        {
          "output_type": "stream",
          "name": "stdout",
          "text": [
            "2/2 [==============================] - 5s 2s/step\n"
          ]
        },
        {
          "output_type": "stream",
          "name": "stderr",
          "text": [
            "\rProcessing reviews:  70%|███████   | 667/949 [53:14<21:54,  4.66s/batch]"
          ]
        },
        {
          "output_type": "stream",
          "name": "stdout",
          "text": [
            "2/2 [==============================] - 2s 1s/step\n"
          ]
        },
        {
          "output_type": "stream",
          "name": "stderr",
          "text": [
            "\rProcessing reviews:  70%|███████   | 668/949 [53:20<22:39,  4.84s/batch]"
          ]
        },
        {
          "output_type": "stream",
          "name": "stdout",
          "text": [
            "2/2 [==============================] - 6s 3s/step\n"
          ]
        },
        {
          "output_type": "stream",
          "name": "stderr",
          "text": [
            "\rProcessing reviews:  70%|███████   | 669/949 [53:30<30:22,  6.51s/batch]"
          ]
        },
        {
          "output_type": "stream",
          "name": "stdout",
          "text": [
            "2/2 [==============================] - 4s 2s/step\n"
          ]
        },
        {
          "output_type": "stream",
          "name": "stderr",
          "text": [
            "\rProcessing reviews:  71%|███████   | 670/949 [53:35<28:33,  6.14s/batch]"
          ]
        },
        {
          "output_type": "stream",
          "name": "stdout",
          "text": [
            "2/2 [==============================] - 3s 2s/step\n"
          ]
        },
        {
          "output_type": "stream",
          "name": "stderr",
          "text": [
            "\rProcessing reviews:  71%|███████   | 671/949 [53:41<27:18,  5.89s/batch]"
          ]
        },
        {
          "output_type": "stream",
          "name": "stdout",
          "text": [
            "2/2 [==============================] - 6s 3s/step\n"
          ]
        },
        {
          "output_type": "stream",
          "name": "stderr",
          "text": [
            "\rProcessing reviews:  71%|███████   | 672/949 [53:51<33:37,  7.28s/batch]"
          ]
        },
        {
          "output_type": "stream",
          "name": "stdout",
          "text": [
            "2/2 [==============================] - 3s 2s/step\n"
          ]
        },
        {
          "output_type": "stream",
          "name": "stderr",
          "text": [
            "\rProcessing reviews:  71%|███████   | 673/949 [53:56<29:49,  6.48s/batch]"
          ]
        },
        {
          "output_type": "stream",
          "name": "stdout",
          "text": [
            "2/2 [==============================] - 1s 623ms/step\n"
          ]
        },
        {
          "output_type": "stream",
          "name": "stderr",
          "text": [
            "\rProcessing reviews:  71%|███████   | 674/949 [53:58<23:28,  5.12s/batch]"
          ]
        },
        {
          "output_type": "stream",
          "name": "stdout",
          "text": [
            "2/2 [==============================] - 5s 3s/step\n"
          ]
        },
        {
          "output_type": "stream",
          "name": "stderr",
          "text": [
            "\rProcessing reviews:  71%|███████   | 675/949 [54:05<26:03,  5.70s/batch]"
          ]
        },
        {
          "output_type": "stream",
          "name": "stdout",
          "text": [
            "2/2 [==============================] - 4s 2s/step\n"
          ]
        },
        {
          "output_type": "stream",
          "name": "stderr",
          "text": [
            "\rProcessing reviews:  71%|███████   | 676/949 [54:10<25:08,  5.53s/batch]"
          ]
        },
        {
          "output_type": "stream",
          "name": "stdout",
          "text": [
            "2/2 [==============================] - 2s 1s/step\n"
          ]
        },
        {
          "output_type": "stream",
          "name": "stderr",
          "text": [
            "\rProcessing reviews:  71%|███████▏  | 677/949 [54:13<21:59,  4.85s/batch]"
          ]
        },
        {
          "output_type": "stream",
          "name": "stdout",
          "text": [
            "2/2 [==============================] - 2s 829ms/step\n"
          ]
        },
        {
          "output_type": "stream",
          "name": "stderr",
          "text": [
            "\rProcessing reviews:  71%|███████▏  | 678/949 [54:16<18:41,  4.14s/batch]"
          ]
        },
        {
          "output_type": "stream",
          "name": "stdout",
          "text": [
            "2/2 [==============================] - 3s 1s/step\n"
          ]
        },
        {
          "output_type": "stream",
          "name": "stderr",
          "text": [
            "\rProcessing reviews:  72%|███████▏  | 679/949 [54:21<20:15,  4.50s/batch]"
          ]
        },
        {
          "output_type": "stream",
          "name": "stdout",
          "text": [
            "2/2 [==============================] - 2s 1s/step\n"
          ]
        },
        {
          "output_type": "stream",
          "name": "stderr",
          "text": [
            "\rProcessing reviews:  72%|███████▏  | 680/949 [54:26<21:19,  4.76s/batch]"
          ]
        },
        {
          "output_type": "stream",
          "name": "stdout",
          "text": [
            "2/2 [==============================] - 3s 1s/step\n"
          ]
        },
        {
          "output_type": "stream",
          "name": "stderr",
          "text": [
            "\rProcessing reviews:  72%|███████▏  | 681/949 [54:32<21:55,  4.91s/batch]"
          ]
        },
        {
          "output_type": "stream",
          "name": "stdout",
          "text": [
            "2/2 [==============================] - 3s 1s/step\n"
          ]
        },
        {
          "output_type": "stream",
          "name": "stderr",
          "text": [
            "\rProcessing reviews:  72%|███████▏  | 682/949 [54:37<22:22,  5.03s/batch]"
          ]
        },
        {
          "output_type": "stream",
          "name": "stdout",
          "text": [
            "2/2 [==============================] - 3s 1s/step\n"
          ]
        },
        {
          "output_type": "stream",
          "name": "stderr",
          "text": [
            "\rProcessing reviews:  72%|███████▏  | 683/949 [54:42<22:42,  5.12s/batch]"
          ]
        },
        {
          "output_type": "stream",
          "name": "stdout",
          "text": [
            "2/2 [==============================] - 5s 2s/step\n"
          ]
        },
        {
          "output_type": "stream",
          "name": "stderr",
          "text": [
            "\rProcessing reviews:  72%|███████▏  | 684/949 [54:53<29:42,  6.73s/batch]"
          ]
        },
        {
          "output_type": "stream",
          "name": "stdout",
          "text": [
            "2/2 [==============================] - 6s 3s/step\n"
          ]
        },
        {
          "output_type": "stream",
          "name": "stderr",
          "text": [
            "\rProcessing reviews:  72%|███████▏  | 685/949 [55:00<30:13,  6.87s/batch]"
          ]
        },
        {
          "output_type": "stream",
          "name": "stdout",
          "text": [
            "2/2 [==============================] - 4s 2s/step\n"
          ]
        },
        {
          "output_type": "stream",
          "name": "stderr",
          "text": [
            "\rProcessing reviews:  72%|███████▏  | 686/949 [55:06<28:25,  6.48s/batch]"
          ]
        },
        {
          "output_type": "stream",
          "name": "stdout",
          "text": [
            "2/2 [==============================] - 5s 3s/step\n"
          ]
        },
        {
          "output_type": "stream",
          "name": "stderr",
          "text": [
            "\rProcessing reviews:  72%|███████▏  | 687/949 [55:16<33:27,  7.66s/batch]"
          ]
        },
        {
          "output_type": "stream",
          "name": "stdout",
          "text": [
            "2/2 [==============================] - 2s 836ms/step\n"
          ]
        },
        {
          "output_type": "stream",
          "name": "stderr",
          "text": [
            "\rProcessing reviews:  72%|███████▏  | 688/949 [55:18<26:33,  6.10s/batch]"
          ]
        },
        {
          "output_type": "stream",
          "name": "stdout",
          "text": [
            "2/2 [==============================] - 6s 3s/step\n"
          ]
        },
        {
          "output_type": "stream",
          "name": "stderr",
          "text": [
            "\rProcessing reviews:  73%|███████▎  | 689/949 [55:29<32:08,  7.42s/batch]"
          ]
        },
        {
          "output_type": "stream",
          "name": "stdout",
          "text": [
            "2/2 [==============================] - 2s 735ms/step\n"
          ]
        },
        {
          "output_type": "stream",
          "name": "stderr",
          "text": [
            "\rProcessing reviews:  73%|███████▎  | 690/949 [55:32<26:01,  6.03s/batch]"
          ]
        },
        {
          "output_type": "stream",
          "name": "stdout",
          "text": [
            "2/2 [==============================] - 1s 737ms/step\n"
          ]
        },
        {
          "output_type": "stream",
          "name": "stderr",
          "text": [
            "\rProcessing reviews:  73%|███████▎  | 691/949 [55:35<21:41,  5.05s/batch]"
          ]
        },
        {
          "output_type": "stream",
          "name": "stdout",
          "text": [
            "2/2 [==============================] - 3s 1s/step\n"
          ]
        },
        {
          "output_type": "stream",
          "name": "stderr",
          "text": [
            "\rProcessing reviews:  73%|███████▎  | 692/949 [55:40<21:54,  5.11s/batch]"
          ]
        },
        {
          "output_type": "stream",
          "name": "stdout",
          "text": [
            "2/2 [==============================] - 3s 2s/step\n"
          ]
        },
        {
          "output_type": "stream",
          "name": "stderr",
          "text": [
            "\rProcessing reviews:  73%|███████▎  | 693/949 [55:45<22:07,  5.18s/batch]"
          ]
        },
        {
          "output_type": "stream",
          "name": "stdout",
          "text": [
            "2/2 [==============================] - 3s 2s/step\n"
          ]
        },
        {
          "output_type": "stream",
          "name": "stderr",
          "text": [
            "\rProcessing reviews:  73%|███████▎  | 694/949 [55:50<22:14,  5.23s/batch]"
          ]
        },
        {
          "output_type": "stream",
          "name": "stdout",
          "text": [
            "2/2 [==============================] - 6s 3s/step\n"
          ]
        },
        {
          "output_type": "stream",
          "name": "stderr",
          "text": [
            "\rProcessing reviews:  73%|███████▎  | 695/949 [56:01<28:49,  6.81s/batch]"
          ]
        },
        {
          "output_type": "stream",
          "name": "stdout",
          "text": [
            "2/2 [==============================] - 2s 1s/step\n"
          ]
        },
        {
          "output_type": "stream",
          "name": "stderr",
          "text": [
            "\rProcessing reviews:  73%|███████▎  | 696/949 [56:06<26:52,  6.38s/batch]"
          ]
        },
        {
          "output_type": "stream",
          "name": "stdout",
          "text": [
            "2/2 [==============================] - 2s 965ms/step\n"
          ]
        },
        {
          "output_type": "stream",
          "name": "stderr",
          "text": [
            "\rProcessing reviews:  73%|███████▎  | 697/949 [56:09<22:20,  5.32s/batch]"
          ]
        },
        {
          "output_type": "stream",
          "name": "stdout",
          "text": [
            "2/2 [==============================] - 2s 1s/step\n"
          ]
        },
        {
          "output_type": "stream",
          "name": "stderr",
          "text": [
            "\rProcessing reviews:  74%|███████▎  | 698/949 [56:13<19:51,  4.75s/batch]"
          ]
        },
        {
          "output_type": "stream",
          "name": "stdout",
          "text": [
            "2/2 [==============================] - 1s 665ms/step\n"
          ]
        },
        {
          "output_type": "stream",
          "name": "stderr",
          "text": [
            "\rProcessing reviews:  74%|███████▎  | 699/949 [56:15<17:12,  4.13s/batch]"
          ]
        },
        {
          "output_type": "stream",
          "name": "stdout",
          "text": [
            "2/2 [==============================] - 4s 2s/step\n"
          ]
        },
        {
          "output_type": "stream",
          "name": "stderr",
          "text": [
            "\rProcessing reviews:  74%|███████▍  | 700/949 [56:20<18:25,  4.44s/batch]"
          ]
        },
        {
          "output_type": "stream",
          "name": "stdout",
          "text": [
            "2/2 [==============================] - 1s 626ms/step\n"
          ]
        },
        {
          "output_type": "stream",
          "name": "stderr",
          "text": [
            "\rProcessing reviews:  74%|███████▍  | 701/949 [56:23<16:16,  3.94s/batch]"
          ]
        },
        {
          "output_type": "stream",
          "name": "stdout",
          "text": [
            "2/2 [==============================] - 3s 1s/step\n"
          ]
        },
        {
          "output_type": "stream",
          "name": "stderr",
          "text": [
            "\rProcessing reviews:  74%|███████▍  | 702/949 [56:29<17:55,  4.36s/batch]"
          ]
        },
        {
          "output_type": "stream",
          "name": "stdout",
          "text": [
            "2/2 [==============================] - 2s 1s/step\n"
          ]
        },
        {
          "output_type": "stream",
          "name": "stderr",
          "text": [
            "\rProcessing reviews:  74%|███████▍  | 703/949 [56:32<16:20,  3.99s/batch]"
          ]
        },
        {
          "output_type": "stream",
          "name": "stdout",
          "text": [
            "2/2 [==============================] - 6s 3s/step\n"
          ]
        },
        {
          "output_type": "stream",
          "name": "stderr",
          "text": [
            "\rProcessing reviews:  74%|███████▍  | 704/949 [56:42<24:16,  5.94s/batch]"
          ]
        },
        {
          "output_type": "stream",
          "name": "stdout",
          "text": [
            "2/2 [==============================] - 4s 2s/step\n"
          ]
        },
        {
          "output_type": "stream",
          "name": "stderr",
          "text": [
            "\rProcessing reviews:  74%|███████▍  | 705/949 [56:48<23:28,  5.77s/batch]"
          ]
        },
        {
          "output_type": "stream",
          "name": "stdout",
          "text": [
            "2/2 [==============================] - 2s 777ms/step\n"
          ]
        },
        {
          "output_type": "stream",
          "name": "stderr",
          "text": [
            "\rProcessing reviews:  74%|███████▍  | 706/949 [56:50<19:37,  4.85s/batch]"
          ]
        },
        {
          "output_type": "stream",
          "name": "stdout",
          "text": [
            "2/2 [==============================] - 4s 2s/step\n"
          ]
        },
        {
          "output_type": "stream",
          "name": "stderr",
          "text": [
            "\rProcessing reviews:  74%|███████▍  | 707/949 [56:56<20:06,  4.99s/batch]"
          ]
        },
        {
          "output_type": "stream",
          "name": "stdout",
          "text": [
            "2/2 [==============================] - 3s 1s/step\n"
          ]
        },
        {
          "output_type": "stream",
          "name": "stderr",
          "text": [
            "\rProcessing reviews:  75%|███████▍  | 708/949 [57:01<20:28,  5.10s/batch]"
          ]
        },
        {
          "output_type": "stream",
          "name": "stdout",
          "text": [
            "2/2 [==============================] - 3s 2s/step\n"
          ]
        },
        {
          "output_type": "stream",
          "name": "stderr",
          "text": [
            "\rProcessing reviews:  75%|███████▍  | 709/949 [57:06<20:40,  5.17s/batch]"
          ]
        },
        {
          "output_type": "stream",
          "name": "stdout",
          "text": [
            "2/2 [==============================] - 2s 1s/step\n"
          ]
        },
        {
          "output_type": "stream",
          "name": "stderr",
          "text": [
            "\rProcessing reviews:  75%|███████▍  | 710/949 [57:10<18:22,  4.61s/batch]"
          ]
        },
        {
          "output_type": "stream",
          "name": "stdout",
          "text": [
            "2/2 [==============================] - 6s 3s/step\n"
          ]
        },
        {
          "output_type": "stream",
          "name": "stderr",
          "text": [
            "\rProcessing reviews:  75%|███████▍  | 711/949 [57:20<25:17,  6.38s/batch]"
          ]
        },
        {
          "output_type": "stream",
          "name": "stdout",
          "text": [
            "2/2 [==============================] - 5s 2s/step\n"
          ]
        },
        {
          "output_type": "stream",
          "name": "stderr",
          "text": [
            "\rProcessing reviews:  75%|███████▌  | 712/949 [57:26<25:00,  6.33s/batch]"
          ]
        },
        {
          "output_type": "stream",
          "name": "stdout",
          "text": [
            "2/2 [==============================] - 2s 1s/step\n"
          ]
        },
        {
          "output_type": "stream",
          "name": "stderr",
          "text": [
            "\rProcessing reviews:  75%|███████▌  | 713/949 [57:29<20:57,  5.33s/batch]"
          ]
        },
        {
          "output_type": "stream",
          "name": "stdout",
          "text": [
            "2/2 [==============================] - 6s 3s/step\n"
          ]
        },
        {
          "output_type": "stream",
          "name": "stderr",
          "text": [
            "\rProcessing reviews:  75%|███████▌  | 714/949 [57:40<26:51,  6.86s/batch]"
          ]
        },
        {
          "output_type": "stream",
          "name": "stdout",
          "text": [
            "2/2 [==============================] - 2s 794ms/step\n"
          ]
        },
        {
          "output_type": "stream",
          "name": "stderr",
          "text": [
            "\rProcessing reviews:  75%|███████▌  | 715/949 [57:42<21:51,  5.60s/batch]"
          ]
        },
        {
          "output_type": "stream",
          "name": "stdout",
          "text": [
            "2/2 [==============================] - 2s 829ms/step\n"
          ]
        },
        {
          "output_type": "stream",
          "name": "stderr",
          "text": [
            "\rProcessing reviews:  75%|███████▌  | 716/949 [57:45<18:21,  4.73s/batch]"
          ]
        },
        {
          "output_type": "stream",
          "name": "stdout",
          "text": [
            "2/2 [==============================] - 5s 2s/step\n"
          ]
        },
        {
          "output_type": "stream",
          "name": "stderr",
          "text": [
            "\rProcessing reviews:  76%|███████▌  | 717/949 [57:56<24:56,  6.45s/batch]"
          ]
        },
        {
          "output_type": "stream",
          "name": "stdout",
          "text": [
            "2/2 [==============================] - 2s 939ms/step\n"
          ]
        },
        {
          "output_type": "stream",
          "name": "stderr",
          "text": [
            "\rProcessing reviews:  76%|███████▌  | 718/949 [57:58<20:34,  5.34s/batch]"
          ]
        },
        {
          "output_type": "stream",
          "name": "stdout",
          "text": [
            "2/2 [==============================] - 3s 1s/step\n"
          ]
        },
        {
          "output_type": "stream",
          "name": "stderr",
          "text": [
            "\rProcessing reviews:  76%|███████▌  | 719/949 [58:02<18:29,  4.83s/batch]"
          ]
        },
        {
          "output_type": "stream",
          "name": "stdout",
          "text": [
            "2/2 [==============================] - 4s 2s/step\n"
          ]
        },
        {
          "output_type": "stream",
          "name": "stderr",
          "text": [
            "\rProcessing reviews:  76%|███████▌  | 720/949 [58:07<18:19,  4.80s/batch]"
          ]
        },
        {
          "output_type": "stream",
          "name": "stdout",
          "text": [
            "2/2 [==============================] - 2s 1s/step\n"
          ]
        },
        {
          "output_type": "stream",
          "name": "stderr",
          "text": [
            "\rProcessing reviews:  76%|███████▌  | 721/949 [58:10<16:38,  4.38s/batch]"
          ]
        },
        {
          "output_type": "stream",
          "name": "stdout",
          "text": [
            "2/2 [==============================] - 3s 2s/step\n"
          ]
        },
        {
          "output_type": "stream",
          "name": "stderr",
          "text": [
            "\rProcessing reviews:  76%|███████▌  | 722/949 [58:15<17:07,  4.53s/batch]"
          ]
        },
        {
          "output_type": "stream",
          "name": "stdout",
          "text": [
            "2/2 [==============================] - 2s 1s/step\n"
          ]
        },
        {
          "output_type": "stream",
          "name": "stderr",
          "text": [
            "\rProcessing reviews:  76%|███████▌  | 723/949 [58:18<15:18,  4.06s/batch]"
          ]
        },
        {
          "output_type": "stream",
          "name": "stdout",
          "text": [
            "2/2 [==============================] - 2s 808ms/step\n"
          ]
        },
        {
          "output_type": "stream",
          "name": "stderr",
          "text": [
            "\rProcessing reviews:  76%|███████▋  | 724/949 [58:21<13:41,  3.65s/batch]"
          ]
        },
        {
          "output_type": "stream",
          "name": "stdout",
          "text": [
            "2/2 [==============================] - 4s 2s/step\n"
          ]
        },
        {
          "output_type": "stream",
          "name": "stderr",
          "text": [
            "\rProcessing reviews:  76%|███████▋  | 725/949 [58:31<21:16,  5.70s/batch]"
          ]
        },
        {
          "output_type": "stream",
          "name": "stdout",
          "text": [
            "2/2 [==============================] - 6s 3s/step\n"
          ]
        },
        {
          "output_type": "stream",
          "name": "stderr",
          "text": [
            "\rProcessing reviews:  77%|███████▋  | 726/949 [58:38<22:37,  6.09s/batch]"
          ]
        },
        {
          "output_type": "stream",
          "name": "stdout",
          "text": [
            "2/2 [==============================] - 3s 1s/step\n"
          ]
        },
        {
          "output_type": "stream",
          "name": "stderr",
          "text": [
            "\rProcessing reviews:  77%|███████▋  | 727/949 [58:43<21:39,  5.85s/batch]"
          ]
        },
        {
          "output_type": "stream",
          "name": "stdout",
          "text": [
            "2/2 [==============================] - 6s 3s/step\n"
          ]
        },
        {
          "output_type": "stream",
          "name": "stderr",
          "text": [
            "\rProcessing reviews:  77%|███████▋  | 728/949 [58:51<23:16,  6.32s/batch]"
          ]
        },
        {
          "output_type": "stream",
          "name": "stdout",
          "text": [
            "2/2 [==============================] - 2s 866ms/step\n"
          ]
        },
        {
          "output_type": "stream",
          "name": "stderr",
          "text": [
            "\rProcessing reviews:  77%|███████▋  | 729/949 [58:53<19:10,  5.23s/batch]"
          ]
        },
        {
          "output_type": "stream",
          "name": "stdout",
          "text": [
            "2/2 [==============================] - 3s 1s/step\n"
          ]
        },
        {
          "output_type": "stream",
          "name": "stderr",
          "text": [
            "\rProcessing reviews:  77%|███████▋  | 730/949 [58:57<17:25,  4.78s/batch]"
          ]
        },
        {
          "output_type": "stream",
          "name": "stdout",
          "text": [
            "2/2 [==============================] - 3s 1s/step\n"
          ]
        },
        {
          "output_type": "stream",
          "name": "stderr",
          "text": [
            "\rProcessing reviews:  77%|███████▋  | 731/949 [59:01<16:42,  4.60s/batch]"
          ]
        },
        {
          "output_type": "stream",
          "name": "stdout",
          "text": [
            "2/2 [==============================] - 1s 685ms/step\n"
          ]
        },
        {
          "output_type": "stream",
          "name": "stderr",
          "text": [
            "\rProcessing reviews:  77%|███████▋  | 732/949 [59:04<14:38,  4.05s/batch]"
          ]
        },
        {
          "output_type": "stream",
          "name": "stdout",
          "text": [
            "2/2 [==============================] - 1s 688ms/step\n"
          ]
        },
        {
          "output_type": "stream",
          "name": "stderr",
          "text": [
            "\rProcessing reviews:  77%|███████▋  | 733/949 [59:06<12:36,  3.50s/batch]"
          ]
        },
        {
          "output_type": "stream",
          "name": "stdout",
          "text": [
            "2/2 [==============================] - 2s 947ms/step\n"
          ]
        },
        {
          "output_type": "stream",
          "name": "stderr",
          "text": [
            "\rProcessing reviews:  77%|███████▋  | 734/949 [59:09<11:45,  3.28s/batch]"
          ]
        },
        {
          "output_type": "stream",
          "name": "stdout",
          "text": [
            "2/2 [==============================] - 3s 2s/step\n"
          ]
        },
        {
          "output_type": "stream",
          "name": "stderr",
          "text": [
            "\rProcessing reviews:  77%|███████▋  | 735/949 [59:13<12:38,  3.54s/batch]"
          ]
        },
        {
          "output_type": "stream",
          "name": "stdout",
          "text": [
            "2/2 [==============================] - 6s 3s/step\n"
          ]
        },
        {
          "output_type": "stream",
          "name": "stderr",
          "text": [
            "\rProcessing reviews:  78%|███████▊  | 736/949 [59:21<17:14,  4.86s/batch]"
          ]
        },
        {
          "output_type": "stream",
          "name": "stdout",
          "text": [
            "2/2 [==============================] - 4s 2s/step\n"
          ]
        },
        {
          "output_type": "stream",
          "name": "stderr",
          "text": [
            "\rProcessing reviews:  78%|███████▊  | 737/949 [59:32<23:06,  6.54s/batch]"
          ]
        },
        {
          "output_type": "stream",
          "name": "stdout",
          "text": [
            "2/2 [==============================] - 1s 570ms/step\n"
          ]
        },
        {
          "output_type": "stream",
          "name": "stderr",
          "text": [
            "\rProcessing reviews:  78%|███████▊  | 738/949 [59:34<18:55,  5.38s/batch]"
          ]
        },
        {
          "output_type": "stream",
          "name": "stdout",
          "text": [
            "2/2 [==============================] - 2s 1s/step\n"
          ]
        },
        {
          "output_type": "stream",
          "name": "stderr",
          "text": [
            "\rProcessing reviews:  78%|███████▊  | 739/949 [59:40<18:44,  5.35s/batch]"
          ]
        },
        {
          "output_type": "stream",
          "name": "stdout",
          "text": [
            "2/2 [==============================] - 4s 2s/step\n"
          ]
        },
        {
          "output_type": "stream",
          "name": "stderr",
          "text": [
            "\rProcessing reviews:  78%|███████▊  | 740/949 [59:45<18:35,  5.34s/batch]"
          ]
        },
        {
          "output_type": "stream",
          "name": "stdout",
          "text": [
            "2/2 [==============================] - 2s 930ms/step\n"
          ]
        },
        {
          "output_type": "stream",
          "name": "stderr",
          "text": [
            "\rProcessing reviews:  78%|███████▊  | 741/949 [59:48<15:44,  4.54s/batch]"
          ]
        },
        {
          "output_type": "stream",
          "name": "stdout",
          "text": [
            "2/2 [==============================] - 1s 748ms/step\n"
          ]
        },
        {
          "output_type": "stream",
          "name": "stderr",
          "text": [
            "\rProcessing reviews:  78%|███████▊  | 742/949 [59:50<13:12,  3.83s/batch]"
          ]
        },
        {
          "output_type": "stream",
          "name": "stdout",
          "text": [
            "2/2 [==============================] - 1s 708ms/step\n"
          ]
        },
        {
          "output_type": "stream",
          "name": "stderr",
          "text": [
            "\rProcessing reviews:  78%|███████▊  | 743/949 [59:52<11:17,  3.29s/batch]"
          ]
        },
        {
          "output_type": "stream",
          "name": "stdout",
          "text": [
            "2/2 [==============================] - 2s 927ms/step\n"
          ]
        },
        {
          "output_type": "stream",
          "name": "stderr",
          "text": [
            "\rProcessing reviews:  78%|███████▊  | 744/949 [59:57<13:16,  3.89s/batch]"
          ]
        },
        {
          "output_type": "stream",
          "name": "stdout",
          "text": [
            "2/2 [==============================] - 3s 1s/step\n"
          ]
        },
        {
          "output_type": "stream",
          "name": "stderr",
          "text": [
            "\rProcessing reviews:  79%|███████▊  | 745/949 [1:00:02<14:41,  4.32s/batch]"
          ]
        },
        {
          "output_type": "stream",
          "name": "stdout",
          "text": [
            "2/2 [==============================] - 3s 1s/step\n"
          ]
        },
        {
          "output_type": "stream",
          "name": "stderr",
          "text": [
            "\rProcessing reviews:  79%|███████▊  | 746/949 [1:00:06<14:06,  4.17s/batch]"
          ]
        },
        {
          "output_type": "stream",
          "name": "stdout",
          "text": [
            "2/2 [==============================] - 2s 1s/step\n"
          ]
        },
        {
          "output_type": "stream",
          "name": "stderr",
          "text": [
            "\rProcessing reviews:  79%|███████▊  | 747/949 [1:00:09<12:59,  3.86s/batch]"
          ]
        },
        {
          "output_type": "stream",
          "name": "stdout",
          "text": [
            "2/2 [==============================] - 4s 2s/step\n"
          ]
        },
        {
          "output_type": "stream",
          "name": "stderr",
          "text": [
            "\rProcessing reviews:  79%|███████▉  | 748/949 [1:00:20<19:30,  5.82s/batch]"
          ]
        },
        {
          "output_type": "stream",
          "name": "stdout",
          "text": [
            "2/2 [==============================] - 5s 3s/step\n"
          ]
        },
        {
          "output_type": "stream",
          "name": "stderr",
          "text": [
            "\rProcessing reviews:  79%|███████▉  | 749/949 [1:00:30<24:04,  7.22s/batch]"
          ]
        },
        {
          "output_type": "stream",
          "name": "stdout",
          "text": [
            "2/2 [==============================] - 2s 1s/step\n"
          ]
        },
        {
          "output_type": "stream",
          "name": "stderr",
          "text": [
            "\rProcessing reviews:  79%|███████▉  | 750/949 [1:00:36<22:06,  6.67s/batch]"
          ]
        },
        {
          "output_type": "stream",
          "name": "stdout",
          "text": [
            "2/2 [==============================] - 3s 1s/step\n"
          ]
        },
        {
          "output_type": "stream",
          "name": "stderr",
          "text": [
            "\rProcessing reviews:  79%|███████▉  | 751/949 [1:00:41<20:39,  6.26s/batch]"
          ]
        },
        {
          "output_type": "stream",
          "name": "stdout",
          "text": [
            "2/2 [==============================] - 2s 928ms/step\n"
          ]
        },
        {
          "output_type": "stream",
          "name": "stderr",
          "text": [
            "\rProcessing reviews:  79%|███████▉  | 752/949 [1:00:44<17:01,  5.19s/batch]"
          ]
        },
        {
          "output_type": "stream",
          "name": "stdout",
          "text": [
            "2/2 [==============================] - 3s 1s/step\n"
          ]
        },
        {
          "output_type": "stream",
          "name": "stderr",
          "text": [
            "\rProcessing reviews:  79%|███████▉  | 753/949 [1:00:49<17:04,  5.23s/batch]"
          ]
        },
        {
          "output_type": "stream",
          "name": "stdout",
          "text": [
            "2/2 [==============================] - 2s 1s/step\n"
          ]
        },
        {
          "output_type": "stream",
          "name": "stderr",
          "text": [
            "\rProcessing reviews:  79%|███████▉  | 754/949 [1:00:54<17:05,  5.26s/batch]"
          ]
        },
        {
          "output_type": "stream",
          "name": "stdout",
          "text": [
            "2/2 [==============================] - 6s 3s/step\n"
          ]
        },
        {
          "output_type": "stream",
          "name": "stderr",
          "text": [
            "\rProcessing reviews:  80%|███████▉  | 755/949 [1:01:05<22:02,  6.82s/batch]"
          ]
        },
        {
          "output_type": "stream",
          "name": "stdout",
          "text": [
            "2/2 [==============================] - 3s 1s/step\n"
          ]
        },
        {
          "output_type": "stream",
          "name": "stderr",
          "text": [
            "\rProcessing reviews:  80%|███████▉  | 756/949 [1:01:10<20:31,  6.38s/batch]"
          ]
        },
        {
          "output_type": "stream",
          "name": "stdout",
          "text": [
            "2/2 [==============================] - 3s 1s/step\n"
          ]
        },
        {
          "output_type": "stream",
          "name": "stderr",
          "text": [
            "\rProcessing reviews:  80%|███████▉  | 757/949 [1:01:15<19:25,  6.07s/batch]"
          ]
        },
        {
          "output_type": "stream",
          "name": "stdout",
          "text": [
            "2/2 [==============================] - 5s 2s/step\n"
          ]
        },
        {
          "output_type": "stream",
          "name": "stderr",
          "text": [
            "\rProcessing reviews:  80%|███████▉  | 758/949 [1:01:26<23:31,  7.39s/batch]"
          ]
        },
        {
          "output_type": "stream",
          "name": "stdout",
          "text": [
            "2/2 [==============================] - 6s 3s/step\n"
          ]
        },
        {
          "output_type": "stream",
          "name": "stderr",
          "text": [
            "\rProcessing reviews:  80%|███████▉  | 759/949 [1:01:36<26:20,  8.32s/batch]"
          ]
        },
        {
          "output_type": "stream",
          "name": "stdout",
          "text": [
            "2/2 [==============================] - 2s 884ms/step\n"
          ]
        },
        {
          "output_type": "stream",
          "name": "stderr",
          "text": [
            "\rProcessing reviews:  80%|████████  | 760/949 [1:01:42<23:19,  7.40s/batch]"
          ]
        },
        {
          "output_type": "stream",
          "name": "stdout",
          "text": [
            "2/2 [==============================] - 5s 2s/step\n"
          ]
        },
        {
          "output_type": "stream",
          "name": "stderr",
          "text": [
            "\rProcessing reviews:  80%|████████  | 761/949 [1:01:52<26:04,  8.32s/batch]"
          ]
        },
        {
          "output_type": "stream",
          "name": "stdout",
          "text": [
            "2/2 [==============================] - 2s 1s/step\n"
          ]
        },
        {
          "output_type": "stream",
          "name": "stderr",
          "text": [
            "\rProcessing reviews:  80%|████████  | 762/949 [1:01:57<23:05,  7.41s/batch]"
          ]
        },
        {
          "output_type": "stream",
          "name": "stdout",
          "text": [
            "2/2 [==============================] - 1s 678ms/step\n"
          ]
        },
        {
          "output_type": "stream",
          "name": "stderr",
          "text": [
            "\rProcessing reviews:  80%|████████  | 763/949 [1:02:00<18:38,  6.01s/batch]"
          ]
        },
        {
          "output_type": "stream",
          "name": "stdout",
          "text": [
            "2/2 [==============================] - 4s 2s/step\n"
          ]
        },
        {
          "output_type": "stream",
          "name": "stderr",
          "text": [
            "\rProcessing reviews:  81%|████████  | 764/949 [1:02:06<17:56,  5.82s/batch]"
          ]
        },
        {
          "output_type": "stream",
          "name": "stdout",
          "text": [
            "2/2 [==============================] - 4s 2s/step\n"
          ]
        },
        {
          "output_type": "stream",
          "name": "stderr",
          "text": [
            "\rProcessing reviews:  81%|████████  | 765/949 [1:02:11<17:20,  5.66s/batch]"
          ]
        },
        {
          "output_type": "stream",
          "name": "stdout",
          "text": [
            "2/2 [==============================] - 2s 900ms/step\n"
          ]
        },
        {
          "output_type": "stream",
          "name": "stderr",
          "text": [
            "\rProcessing reviews:  81%|████████  | 766/949 [1:02:14<14:33,  4.77s/batch]"
          ]
        },
        {
          "output_type": "stream",
          "name": "stdout",
          "text": [
            "2/2 [==============================] - 2s 948ms/step\n"
          ]
        },
        {
          "output_type": "stream",
          "name": "stderr",
          "text": [
            "\rProcessing reviews:  81%|████████  | 767/949 [1:02:19<14:59,  4.94s/batch]"
          ]
        },
        {
          "output_type": "stream",
          "name": "stdout",
          "text": [
            "2/2 [==============================] - 2s 1s/step\n"
          ]
        },
        {
          "output_type": "stream",
          "name": "stderr",
          "text": [
            "\rProcessing reviews:  81%|████████  | 768/949 [1:02:24<15:15,  5.06s/batch]"
          ]
        },
        {
          "output_type": "stream",
          "name": "stdout",
          "text": [
            "2/2 [==============================] - 4s 2s/step\n"
          ]
        },
        {
          "output_type": "stream",
          "name": "stderr",
          "text": [
            "\rProcessing reviews:  81%|████████  | 769/949 [1:02:29<15:22,  5.13s/batch]"
          ]
        },
        {
          "output_type": "stream",
          "name": "stdout",
          "text": [
            "2/2 [==============================] - 2s 829ms/step\n"
          ]
        },
        {
          "output_type": "stream",
          "name": "stderr",
          "text": [
            "\rProcessing reviews:  81%|████████  | 770/949 [1:02:32<13:09,  4.41s/batch]"
          ]
        },
        {
          "output_type": "stream",
          "name": "stdout",
          "text": [
            "2/2 [==============================] - 3s 2s/step\n"
          ]
        },
        {
          "output_type": "stream",
          "name": "stderr",
          "text": [
            "\rProcessing reviews:  81%|████████  | 771/949 [1:02:38<13:58,  4.71s/batch]"
          ]
        },
        {
          "output_type": "stream",
          "name": "stdout",
          "text": [
            "2/2 [==============================] - 2s 913ms/step\n"
          ]
        },
        {
          "output_type": "stream",
          "name": "stderr",
          "text": [
            "\rProcessing reviews:  81%|████████▏ | 772/949 [1:02:40<12:08,  4.11s/batch]"
          ]
        },
        {
          "output_type": "stream",
          "name": "stdout",
          "text": [
            "2/2 [==============================] - 2s 1s/step\n"
          ]
        },
        {
          "output_type": "stream",
          "name": "stderr",
          "text": [
            "\rProcessing reviews:  81%|████████▏ | 773/949 [1:02:46<13:04,  4.46s/batch]"
          ]
        },
        {
          "output_type": "stream",
          "name": "stdout",
          "text": [
            "2/2 [==============================] - 2s 1s/step\n"
          ]
        },
        {
          "output_type": "stream",
          "name": "stderr",
          "text": [
            "\rProcessing reviews:  82%|████████▏ | 774/949 [1:02:51<13:44,  4.71s/batch]"
          ]
        },
        {
          "output_type": "stream",
          "name": "stdout",
          "text": [
            "2/2 [==============================] - 1s 666ms/step\n"
          ]
        },
        {
          "output_type": "stream",
          "name": "stderr",
          "text": [
            "\rProcessing reviews:  82%|████████▏ | 775/949 [1:02:54<11:57,  4.12s/batch]"
          ]
        },
        {
          "output_type": "stream",
          "name": "stdout",
          "text": [
            "2/2 [==============================] - 2s 1s/step\n"
          ]
        },
        {
          "output_type": "stream",
          "name": "stderr",
          "text": [
            "\rProcessing reviews:  82%|████████▏ | 776/949 [1:02:59<12:56,  4.49s/batch]"
          ]
        },
        {
          "output_type": "stream",
          "name": "stdout",
          "text": [
            "2/2 [==============================] - 2s 1s/step\n"
          ]
        },
        {
          "output_type": "stream",
          "name": "stderr",
          "text": [
            "\rProcessing reviews:  82%|████████▏ | 777/949 [1:03:04<13:31,  4.72s/batch]"
          ]
        },
        {
          "output_type": "stream",
          "name": "stdout",
          "text": [
            "2/2 [==============================] - 3s 1s/step\n"
          ]
        },
        {
          "output_type": "stream",
          "name": "stderr",
          "text": [
            "\rProcessing reviews:  82%|████████▏ | 778/949 [1:03:09<13:04,  4.58s/batch]"
          ]
        },
        {
          "output_type": "stream",
          "name": "stdout",
          "text": [
            "2/2 [==============================] - 2s 926ms/step\n"
          ]
        },
        {
          "output_type": "stream",
          "name": "stderr",
          "text": [
            "\rProcessing reviews:  82%|████████▏ | 779/949 [1:03:11<11:32,  4.07s/batch]"
          ]
        },
        {
          "output_type": "stream",
          "name": "stdout",
          "text": [
            "2/2 [==============================] - 2s 1s/step\n"
          ]
        },
        {
          "output_type": "stream",
          "name": "stderr",
          "text": [
            "\rProcessing reviews:  82%|████████▏ | 780/949 [1:03:15<10:55,  3.88s/batch]"
          ]
        },
        {
          "output_type": "stream",
          "name": "stdout",
          "text": [
            "2/2 [==============================] - 4s 2s/step\n"
          ]
        },
        {
          "output_type": "stream",
          "name": "stderr",
          "text": [
            "\rProcessing reviews:  82%|████████▏ | 781/949 [1:03:20<11:31,  4.12s/batch]"
          ]
        },
        {
          "output_type": "stream",
          "name": "stdout",
          "text": [
            "2/2 [==============================] - 6s 3s/step\n"
          ]
        },
        {
          "output_type": "stream",
          "name": "stderr",
          "text": [
            "\rProcessing reviews:  82%|████████▏ | 782/949 [1:03:27<14:19,  5.15s/batch]"
          ]
        },
        {
          "output_type": "stream",
          "name": "stdout",
          "text": [
            "2/2 [==============================] - 2s 1s/step\n"
          ]
        },
        {
          "output_type": "stream",
          "name": "stderr",
          "text": [
            "\rProcessing reviews:  83%|████████▎ | 783/949 [1:03:32<14:25,  5.21s/batch]"
          ]
        },
        {
          "output_type": "stream",
          "name": "stdout",
          "text": [
            "2/2 [==============================] - 5s 3s/step\n"
          ]
        },
        {
          "output_type": "stream",
          "name": "stderr",
          "text": [
            "\rProcessing reviews:  83%|████████▎ | 784/949 [1:03:39<15:29,  5.63s/batch]"
          ]
        },
        {
          "output_type": "stream",
          "name": "stdout",
          "text": [
            "2/2 [==============================] - 2s 1s/step\n"
          ]
        },
        {
          "output_type": "stream",
          "name": "stderr",
          "text": [
            "\rProcessing reviews:  83%|████████▎ | 785/949 [1:03:42<13:35,  4.97s/batch]"
          ]
        },
        {
          "output_type": "stream",
          "name": "stdout",
          "text": [
            "2/2 [==============================] - 2s 890ms/step\n"
          ]
        },
        {
          "output_type": "stream",
          "name": "stderr",
          "text": [
            "\rProcessing reviews:  83%|████████▎ | 786/949 [1:03:45<11:37,  4.28s/batch]"
          ]
        },
        {
          "output_type": "stream",
          "name": "stdout",
          "text": [
            "2/2 [==============================] - 4s 2s/step\n"
          ]
        },
        {
          "output_type": "stream",
          "name": "stderr",
          "text": [
            "\rProcessing reviews:  83%|████████▎ | 787/949 [1:03:56<16:33,  6.13s/batch]"
          ]
        },
        {
          "output_type": "stream",
          "name": "stdout",
          "text": [
            "2/2 [==============================] - 6s 3s/step\n"
          ]
        },
        {
          "output_type": "stream",
          "name": "stderr",
          "text": [
            "\rProcessing reviews:  83%|████████▎ | 788/949 [1:04:06<19:57,  7.44s/batch]"
          ]
        },
        {
          "output_type": "stream",
          "name": "stdout",
          "text": [
            "2/2 [==============================] - 5s 2s/step\n"
          ]
        },
        {
          "output_type": "stream",
          "name": "stderr",
          "text": [
            "\rProcessing reviews:  83%|████████▎ | 789/949 [1:04:12<18:40,  7.00s/batch]"
          ]
        },
        {
          "output_type": "stream",
          "name": "stdout",
          "text": [
            "2/2 [==============================] - 2s 811ms/step\n"
          ]
        },
        {
          "output_type": "stream",
          "name": "stderr",
          "text": [
            "\rProcessing reviews:  83%|████████▎ | 790/949 [1:04:15<15:07,  5.71s/batch]"
          ]
        },
        {
          "output_type": "stream",
          "name": "stdout",
          "text": [
            "2/2 [==============================] - 3s 1s/step\n"
          ]
        },
        {
          "output_type": "stream",
          "name": "stderr",
          "text": [
            "\rProcessing reviews:  83%|████████▎ | 791/949 [1:04:20<14:42,  5.59s/batch]"
          ]
        },
        {
          "output_type": "stream",
          "name": "stdout",
          "text": [
            "2/2 [==============================] - 2s 1s/step\n"
          ]
        },
        {
          "output_type": "stream",
          "name": "stderr",
          "text": [
            "\rProcessing reviews:  83%|████████▎ | 792/949 [1:04:25<14:26,  5.52s/batch]"
          ]
        },
        {
          "output_type": "stream",
          "name": "stdout",
          "text": [
            "2/2 [==============================] - 2s 876ms/step\n"
          ]
        },
        {
          "output_type": "stream",
          "name": "stderr",
          "text": [
            "\rProcessing reviews:  84%|████████▎ | 793/949 [1:04:28<12:11,  4.69s/batch]"
          ]
        },
        {
          "output_type": "stream",
          "name": "stdout",
          "text": [
            "2/2 [==============================] - 6s 3s/step\n"
          ]
        },
        {
          "output_type": "stream",
          "name": "stderr",
          "text": [
            "\rProcessing reviews:  84%|████████▎ | 794/949 [1:04:39<16:36,  6.43s/batch]"
          ]
        },
        {
          "output_type": "stream",
          "name": "stdout",
          "text": [
            "2/2 [==============================] - 6s 3s/step\n"
          ]
        },
        {
          "output_type": "stream",
          "name": "stderr",
          "text": [
            "\rProcessing reviews:  84%|████████▍ | 795/949 [1:04:46<17:32,  6.83s/batch]"
          ]
        },
        {
          "output_type": "stream",
          "name": "stdout",
          "text": [
            "2/2 [==============================] - 3s 1s/step\n"
          ]
        },
        {
          "output_type": "stream",
          "name": "stderr",
          "text": [
            "\rProcessing reviews:  84%|████████▍ | 796/949 [1:04:52<16:14,  6.37s/batch]"
          ]
        },
        {
          "output_type": "stream",
          "name": "stdout",
          "text": [
            "2/2 [==============================] - 3s 2s/step\n"
          ]
        },
        {
          "output_type": "stream",
          "name": "stderr",
          "text": [
            "\rProcessing reviews:  84%|████████▍ | 797/949 [1:04:57<15:20,  6.05s/batch]"
          ]
        },
        {
          "output_type": "stream",
          "name": "stdout",
          "text": [
            "2/2 [==============================] - 2s 1s/step\n"
          ]
        },
        {
          "output_type": "stream",
          "name": "stderr",
          "text": [
            "\rProcessing reviews:  84%|████████▍ | 798/949 [1:05:00<13:07,  5.21s/batch]"
          ]
        },
        {
          "output_type": "stream",
          "name": "stdout",
          "text": [
            "2/2 [==============================] - 2s 1s/step\n"
          ]
        },
        {
          "output_type": "stream",
          "name": "stderr",
          "text": [
            "\rProcessing reviews:  84%|████████▍ | 799/949 [1:05:06<13:06,  5.24s/batch]"
          ]
        },
        {
          "output_type": "stream",
          "name": "stdout",
          "text": [
            "2/2 [==============================] - 3s 2s/step\n"
          ]
        },
        {
          "output_type": "stream",
          "name": "stderr",
          "text": [
            "\rProcessing reviews:  84%|████████▍ | 800/949 [1:05:10<12:25,  5.00s/batch]"
          ]
        },
        {
          "output_type": "stream",
          "name": "stdout",
          "text": [
            "2/2 [==============================] - 4s 2s/step\n"
          ]
        },
        {
          "output_type": "stream",
          "name": "stderr",
          "text": [
            "\rProcessing reviews:  84%|████████▍ | 801/949 [1:05:20<16:19,  6.62s/batch]"
          ]
        },
        {
          "output_type": "stream",
          "name": "stdout",
          "text": [
            "2/2 [==============================] - 1s 578ms/step\n"
          ]
        },
        {
          "output_type": "stream",
          "name": "stderr",
          "text": [
            "\rProcessing reviews:  85%|████████▍ | 802/949 [1:05:23<13:19,  5.44s/batch]"
          ]
        },
        {
          "output_type": "stream",
          "name": "stdout",
          "text": [
            "2/2 [==============================] - 6s 3s/step\n"
          ]
        },
        {
          "output_type": "stream",
          "name": "stderr",
          "text": [
            "\rProcessing reviews:  85%|████████▍ | 803/949 [1:05:31<14:54,  6.13s/batch]"
          ]
        },
        {
          "output_type": "stream",
          "name": "stdout",
          "text": [
            "2/2 [==============================] - 1s 589ms/step\n"
          ]
        },
        {
          "output_type": "stream",
          "name": "stderr",
          "text": [
            "\rProcessing reviews:  85%|████████▍ | 804/949 [1:05:34<12:22,  5.12s/batch]"
          ]
        },
        {
          "output_type": "stream",
          "name": "stdout",
          "text": [
            "2/2 [==============================] - 1s 755ms/step\n"
          ]
        },
        {
          "output_type": "stream",
          "name": "stderr",
          "text": [
            "\rProcessing reviews:  85%|████████▍ | 805/949 [1:05:36<10:35,  4.42s/batch]"
          ]
        },
        {
          "output_type": "stream",
          "name": "stdout",
          "text": [
            "2/2 [==============================] - 2s 908ms/step\n"
          ]
        },
        {
          "output_type": "stream",
          "name": "stderr",
          "text": [
            "\rProcessing reviews:  85%|████████▍ | 806/949 [1:05:39<09:14,  3.88s/batch]"
          ]
        },
        {
          "output_type": "stream",
          "name": "stdout",
          "text": [
            "2/2 [==============================] - 2s 1s/step\n"
          ]
        },
        {
          "output_type": "stream",
          "name": "stderr",
          "text": [
            "\rProcessing reviews:  85%|████████▌ | 807/949 [1:05:44<10:09,  4.29s/batch]"
          ]
        },
        {
          "output_type": "stream",
          "name": "stdout",
          "text": [
            "2/2 [==============================] - 2s 792ms/step\n"
          ]
        },
        {
          "output_type": "stream",
          "name": "stderr",
          "text": [
            "\rProcessing reviews:  85%|████████▌ | 808/949 [1:05:47<08:41,  3.70s/batch]"
          ]
        },
        {
          "output_type": "stream",
          "name": "stdout",
          "text": [
            "2/2 [==============================] - 2s 1s/step\n"
          ]
        },
        {
          "output_type": "stream",
          "name": "stderr",
          "text": [
            "\rProcessing reviews:  85%|████████▌ | 809/949 [1:05:52<09:44,  4.18s/batch]"
          ]
        },
        {
          "output_type": "stream",
          "name": "stdout",
          "text": [
            "2/2 [==============================] - 2s 844ms/step\n"
          ]
        },
        {
          "output_type": "stream",
          "name": "stderr",
          "text": [
            "\rProcessing reviews:  85%|████████▌ | 810/949 [1:05:55<08:42,  3.76s/batch]"
          ]
        },
        {
          "output_type": "stream",
          "name": "stdout",
          "text": [
            "2/2 [==============================] - 3s 1s/step\n"
          ]
        },
        {
          "output_type": "stream",
          "name": "stderr",
          "text": [
            "\rProcessing reviews:  85%|████████▌ | 811/949 [1:06:00<09:42,  4.22s/batch]"
          ]
        },
        {
          "output_type": "stream",
          "name": "stdout",
          "text": [
            "2/2 [==============================] - 3s 1s/step\n"
          ]
        },
        {
          "output_type": "stream",
          "name": "stderr",
          "text": [
            "\rProcessing reviews:  86%|████████▌ | 812/949 [1:06:03<09:08,  4.00s/batch]"
          ]
        },
        {
          "output_type": "stream",
          "name": "stdout",
          "text": [
            "2/2 [==============================] - 4s 2s/step\n"
          ]
        },
        {
          "output_type": "stream",
          "name": "stderr",
          "text": [
            "\rProcessing reviews:  86%|████████▌ | 813/949 [1:06:09<09:58,  4.40s/batch]"
          ]
        },
        {
          "output_type": "stream",
          "name": "stdout",
          "text": [
            "2/2 [==============================] - 3s 1s/step\n"
          ]
        },
        {
          "output_type": "stream",
          "name": "stderr",
          "text": [
            "\rProcessing reviews:  86%|████████▌ | 814/949 [1:06:14<10:31,  4.68s/batch]"
          ]
        },
        {
          "output_type": "stream",
          "name": "stdout",
          "text": [
            "2/2 [==============================] - 3s 2s/step\n"
          ]
        },
        {
          "output_type": "stream",
          "name": "stderr",
          "text": [
            "\rProcessing reviews:  86%|████████▌ | 815/949 [1:06:18<10:09,  4.55s/batch]"
          ]
        },
        {
          "output_type": "stream",
          "name": "stdout",
          "text": [
            "2/2 [==============================] - 2s 940ms/step\n"
          ]
        },
        {
          "output_type": "stream",
          "name": "stderr",
          "text": [
            "\rProcessing reviews:  86%|████████▌ | 816/949 [1:06:21<08:50,  3.99s/batch]"
          ]
        },
        {
          "output_type": "stream",
          "name": "stdout",
          "text": [
            "2/2 [==============================] - 3s 1s/step\n"
          ]
        },
        {
          "output_type": "stream",
          "name": "stderr",
          "text": [
            "\rProcessing reviews:  86%|████████▌ | 817/949 [1:06:26<09:39,  4.39s/batch]"
          ]
        },
        {
          "output_type": "stream",
          "name": "stdout",
          "text": [
            "2/2 [==============================] - 4s 2s/step\n"
          ]
        },
        {
          "output_type": "stream",
          "name": "stderr",
          "text": [
            "\rProcessing reviews:  86%|████████▌ | 818/949 [1:06:31<10:03,  4.61s/batch]"
          ]
        },
        {
          "output_type": "stream",
          "name": "stdout",
          "text": [
            "2/2 [==============================] - 2s 1s/step\n"
          ]
        },
        {
          "output_type": "stream",
          "name": "stderr",
          "text": [
            "\rProcessing reviews:  86%|████████▋ | 819/949 [1:06:37<10:27,  4.83s/batch]"
          ]
        },
        {
          "output_type": "stream",
          "name": "stdout",
          "text": [
            "2/2 [==============================] - 3s 1s/step\n"
          ]
        },
        {
          "output_type": "stream",
          "name": "stderr",
          "text": [
            "\rProcessing reviews:  86%|████████▋ | 820/949 [1:06:42<10:41,  4.97s/batch]"
          ]
        },
        {
          "output_type": "stream",
          "name": "stdout",
          "text": [
            "2/2 [==============================] - 2s 1s/step\n"
          ]
        },
        {
          "output_type": "stream",
          "name": "stderr",
          "text": [
            "\rProcessing reviews:  87%|████████▋ | 821/949 [1:06:47<10:50,  5.08s/batch]"
          ]
        },
        {
          "output_type": "stream",
          "name": "stdout",
          "text": [
            "2/2 [==============================] - 3s 2s/step\n"
          ]
        },
        {
          "output_type": "stream",
          "name": "stderr",
          "text": [
            "\rProcessing reviews:  87%|████████▋ | 822/949 [1:06:52<10:13,  4.83s/batch]"
          ]
        },
        {
          "output_type": "stream",
          "name": "stdout",
          "text": [
            "2/2 [==============================] - 2s 916ms/step\n"
          ]
        },
        {
          "output_type": "stream",
          "name": "stderr",
          "text": [
            "\rProcessing reviews:  87%|████████▋ | 823/949 [1:06:54<08:44,  4.16s/batch]"
          ]
        },
        {
          "output_type": "stream",
          "name": "stdout",
          "text": [
            "2/2 [==============================] - 1s 751ms/step\n"
          ]
        },
        {
          "output_type": "stream",
          "name": "stderr",
          "text": [
            "\rProcessing reviews:  87%|████████▋ | 824/949 [1:06:56<07:25,  3.56s/batch]"
          ]
        },
        {
          "output_type": "stream",
          "name": "stdout",
          "text": [
            "2/2 [==============================] - 3s 1s/step\n"
          ]
        },
        {
          "output_type": "stream",
          "name": "stderr",
          "text": [
            "\rProcessing reviews:  87%|████████▋ | 825/949 [1:07:00<07:33,  3.65s/batch]"
          ]
        },
        {
          "output_type": "stream",
          "name": "stdout",
          "text": [
            "2/2 [==============================] - 2s 970ms/step\n"
          ]
        },
        {
          "output_type": "stream",
          "name": "stderr",
          "text": [
            "\rProcessing reviews:  87%|████████▋ | 826/949 [1:07:06<08:32,  4.16s/batch]"
          ]
        },
        {
          "output_type": "stream",
          "name": "stdout",
          "text": [
            "2/2 [==============================] - 6s 3s/step\n"
          ]
        },
        {
          "output_type": "stream",
          "name": "stderr",
          "text": [
            "\rProcessing reviews:  87%|████████▋ | 827/949 [1:07:16<12:18,  6.05s/batch]"
          ]
        },
        {
          "output_type": "stream",
          "name": "stdout",
          "text": [
            "2/2 [==============================] - 3s 2s/step\n"
          ]
        },
        {
          "output_type": "stream",
          "name": "stderr",
          "text": [
            "\rProcessing reviews:  87%|████████▋ | 828/949 [1:07:21<11:18,  5.61s/batch]"
          ]
        },
        {
          "output_type": "stream",
          "name": "stdout",
          "text": [
            "2/2 [==============================] - 4s 2s/step\n"
          ]
        },
        {
          "output_type": "stream",
          "name": "stderr",
          "text": [
            "\rProcessing reviews:  87%|████████▋ | 829/949 [1:07:26<10:56,  5.47s/batch]"
          ]
        },
        {
          "output_type": "stream",
          "name": "stdout",
          "text": [
            "2/2 [==============================] - 4s 2s/step\n"
          ]
        },
        {
          "output_type": "stream",
          "name": "stderr",
          "text": [
            "\rProcessing reviews:  87%|████████▋ | 830/949 [1:07:32<10:56,  5.52s/batch]"
          ]
        },
        {
          "output_type": "stream",
          "name": "stdout",
          "text": [
            "2/2 [==============================] - 4s 2s/step\n"
          ]
        },
        {
          "output_type": "stream",
          "name": "stderr",
          "text": [
            "\rProcessing reviews:  88%|████████▊ | 831/949 [1:07:42<13:46,  7.01s/batch]"
          ]
        },
        {
          "output_type": "stream",
          "name": "stdout",
          "text": [
            "2/2 [==============================] - 3s 2s/step\n"
          ]
        },
        {
          "output_type": "stream",
          "name": "stderr",
          "text": [
            "\rProcessing reviews:  88%|████████▊ | 832/949 [1:07:46<12:08,  6.22s/batch]"
          ]
        },
        {
          "output_type": "stream",
          "name": "stdout",
          "text": [
            "2/2 [==============================] - 3s 2s/step\n"
          ]
        },
        {
          "output_type": "stream",
          "name": "stderr",
          "text": [
            "\rProcessing reviews:  88%|████████▊ | 833/949 [1:07:52<11:28,  5.94s/batch]"
          ]
        },
        {
          "output_type": "stream",
          "name": "stdout",
          "text": [
            "2/2 [==============================] - 2s 1s/step\n"
          ]
        },
        {
          "output_type": "stream",
          "name": "stderr",
          "text": [
            "\rProcessing reviews:  88%|████████▊ | 834/949 [1:07:57<11:01,  5.75s/batch]"
          ]
        },
        {
          "output_type": "stream",
          "name": "stdout",
          "text": [
            "2/2 [==============================] - 2s 961ms/step\n"
          ]
        },
        {
          "output_type": "stream",
          "name": "stderr",
          "text": [
            "\rProcessing reviews:  88%|████████▊ | 835/949 [1:08:02<10:40,  5.62s/batch]"
          ]
        },
        {
          "output_type": "stream",
          "name": "stdout",
          "text": [
            "2/2 [==============================] - 4s 2s/step\n"
          ]
        },
        {
          "output_type": "stream",
          "name": "stderr",
          "text": [
            "\rProcessing reviews:  88%|████████▊ | 836/949 [1:08:08<10:23,  5.52s/batch]"
          ]
        },
        {
          "output_type": "stream",
          "name": "stdout",
          "text": [
            "2/2 [==============================] - 3s 1s/step\n"
          ]
        },
        {
          "output_type": "stream",
          "name": "stderr",
          "text": [
            "\rProcessing reviews:  88%|████████▊ | 837/949 [1:08:13<10:11,  5.46s/batch]"
          ]
        },
        {
          "output_type": "stream",
          "name": "stdout",
          "text": [
            "2/2 [==============================] - 2s 887ms/step\n"
          ]
        },
        {
          "output_type": "stream",
          "name": "stderr",
          "text": [
            "\rProcessing reviews:  88%|████████▊ | 838/949 [1:08:16<08:38,  4.67s/batch]"
          ]
        },
        {
          "output_type": "stream",
          "name": "stdout",
          "text": [
            "2/2 [==============================] - 2s 971ms/step\n"
          ]
        },
        {
          "output_type": "stream",
          "name": "stderr",
          "text": [
            "\rProcessing reviews:  88%|████████▊ | 839/949 [1:08:19<07:34,  4.13s/batch]"
          ]
        },
        {
          "output_type": "stream",
          "name": "stdout",
          "text": [
            "2/2 [==============================] - 2s 786ms/step\n"
          ]
        },
        {
          "output_type": "stream",
          "name": "stderr",
          "text": [
            "\rProcessing reviews:  89%|████████▊ | 840/949 [1:08:21<06:27,  3.56s/batch]"
          ]
        },
        {
          "output_type": "stream",
          "name": "stdout",
          "text": [
            "2/2 [==============================] - 1s 635ms/step\n"
          ]
        },
        {
          "output_type": "stream",
          "name": "stderr",
          "text": [
            "\rProcessing reviews:  89%|████████▊ | 841/949 [1:08:24<05:56,  3.30s/batch]"
          ]
        },
        {
          "output_type": "stream",
          "name": "stdout",
          "text": [
            "2/2 [==============================] - 4s 2s/step\n"
          ]
        },
        {
          "output_type": "stream",
          "name": "stderr",
          "text": [
            "\rProcessing reviews:  89%|████████▊ | 842/949 [1:08:29<06:58,  3.91s/batch]"
          ]
        },
        {
          "output_type": "stream",
          "name": "stdout",
          "text": [
            "2/2 [==============================] - 2s 831ms/step\n"
          ]
        },
        {
          "output_type": "stream",
          "name": "stderr",
          "text": [
            "\rProcessing reviews:  89%|████████▉ | 843/949 [1:08:31<06:12,  3.51s/batch]"
          ]
        },
        {
          "output_type": "stream",
          "name": "stdout",
          "text": [
            "2/2 [==============================] - 4s 2s/step\n"
          ]
        },
        {
          "output_type": "stream",
          "name": "stderr",
          "text": [
            "\rProcessing reviews:  89%|████████▉ | 844/949 [1:08:42<09:47,  5.59s/batch]"
          ]
        },
        {
          "output_type": "stream",
          "name": "stdout",
          "text": [
            "2/2 [==============================] - 5s 2s/step\n"
          ]
        },
        {
          "output_type": "stream",
          "name": "stderr",
          "text": [
            "\rProcessing reviews:  89%|████████▉ | 845/949 [1:08:52<12:13,  7.06s/batch]"
          ]
        },
        {
          "output_type": "stream",
          "name": "stdout",
          "text": [
            "2/2 [==============================] - 2s 720ms/step\n"
          ]
        },
        {
          "output_type": "stream",
          "name": "stderr",
          "text": [
            "\rProcessing reviews:  89%|████████▉ | 846/949 [1:08:55<09:37,  5.61s/batch]"
          ]
        },
        {
          "output_type": "stream",
          "name": "stdout",
          "text": [
            "2/2 [==============================] - 6s 3s/step\n"
          ]
        },
        {
          "output_type": "stream",
          "name": "stderr",
          "text": [
            "\rProcessing reviews:  89%|████████▉ | 847/949 [1:09:02<10:13,  6.02s/batch]"
          ]
        },
        {
          "output_type": "stream",
          "name": "stdout",
          "text": [
            "2/2 [==============================] - 4s 2s/step\n"
          ]
        },
        {
          "output_type": "stream",
          "name": "stderr",
          "text": [
            "\rProcessing reviews:  89%|████████▉ | 848/949 [1:09:12<12:20,  7.34s/batch]"
          ]
        },
        {
          "output_type": "stream",
          "name": "stdout",
          "text": [
            "2/2 [==============================] - 4s 2s/step\n"
          ]
        },
        {
          "output_type": "stream",
          "name": "stderr",
          "text": [
            "\rProcessing reviews:  89%|████████▉ | 849/949 [1:09:17<10:57,  6.57s/batch]"
          ]
        },
        {
          "output_type": "stream",
          "name": "stdout",
          "text": [
            "2/2 [==============================] - 3s 1s/step\n"
          ]
        },
        {
          "output_type": "stream",
          "name": "stderr",
          "text": [
            "\rProcessing reviews:  90%|████████▉ | 850/949 [1:09:22<10:12,  6.19s/batch]"
          ]
        },
        {
          "output_type": "stream",
          "name": "stdout",
          "text": [
            "2/2 [==============================] - 3s 1s/step\n"
          ]
        },
        {
          "output_type": "stream",
          "name": "stderr",
          "text": [
            "\rProcessing reviews:  90%|████████▉ | 851/949 [1:09:26<09:05,  5.57s/batch]"
          ]
        },
        {
          "output_type": "stream",
          "name": "stdout",
          "text": [
            "2/2 [==============================] - 2s 1s/step\n"
          ]
        },
        {
          "output_type": "stream",
          "name": "stderr",
          "text": [
            "\rProcessing reviews:  90%|████████▉ | 852/949 [1:09:29<07:52,  4.87s/batch]"
          ]
        },
        {
          "output_type": "stream",
          "name": "stdout",
          "text": [
            "2/2 [==============================] - 2s 1s/step\n"
          ]
        },
        {
          "output_type": "stream",
          "name": "stderr",
          "text": [
            "\rProcessing reviews:  90%|████████▉ | 853/949 [1:09:33<06:56,  4.34s/batch]"
          ]
        },
        {
          "output_type": "stream",
          "name": "stdout",
          "text": [
            "2/2 [==============================] - 2s 937ms/step\n"
          ]
        },
        {
          "output_type": "stream",
          "name": "stderr",
          "text": [
            "\rProcessing reviews:  90%|████████▉ | 854/949 [1:09:35<06:05,  3.85s/batch]"
          ]
        },
        {
          "output_type": "stream",
          "name": "stdout",
          "text": [
            "2/2 [==============================] - 3s 1s/step\n"
          ]
        },
        {
          "output_type": "stream",
          "name": "stderr",
          "text": [
            "\rProcessing reviews:  90%|█████████ | 855/949 [1:09:41<06:42,  4.28s/batch]"
          ]
        },
        {
          "output_type": "stream",
          "name": "stdout",
          "text": [
            "2/2 [==============================] - 2s 716ms/step\n"
          ]
        },
        {
          "output_type": "stream",
          "name": "stderr",
          "text": [
            "\rProcessing reviews:  90%|█████████ | 856/949 [1:09:43<05:45,  3.71s/batch]"
          ]
        },
        {
          "output_type": "stream",
          "name": "stdout",
          "text": [
            "2/2 [==============================] - 2s 1s/step\n"
          ]
        },
        {
          "output_type": "stream",
          "name": "stderr",
          "text": [
            "\rProcessing reviews:  90%|█████████ | 857/949 [1:09:48<06:25,  4.19s/batch]"
          ]
        },
        {
          "output_type": "stream",
          "name": "stdout",
          "text": [
            "2/2 [==============================] - 2s 905ms/step\n"
          ]
        },
        {
          "output_type": "stream",
          "name": "stderr",
          "text": [
            "\rProcessing reviews:  90%|█████████ | 858/949 [1:09:51<05:40,  3.74s/batch]"
          ]
        },
        {
          "output_type": "stream",
          "name": "stdout",
          "text": [
            "2/2 [==============================] - 2s 944ms/step\n"
          ]
        },
        {
          "output_type": "stream",
          "name": "stderr",
          "text": [
            "\rProcessing reviews:  91%|█████████ | 859/949 [1:09:54<05:08,  3.42s/batch]"
          ]
        },
        {
          "output_type": "stream",
          "name": "stdout",
          "text": [
            "2/2 [==============================] - 3s 2s/step\n"
          ]
        },
        {
          "output_type": "stream",
          "name": "stderr",
          "text": [
            "\rProcessing reviews:  91%|█████████ | 860/949 [1:09:59<05:55,  3.99s/batch]"
          ]
        },
        {
          "output_type": "stream",
          "name": "stdout",
          "text": [
            "2/2 [==============================] - 4s 2s/step\n"
          ]
        },
        {
          "output_type": "stream",
          "name": "stderr",
          "text": [
            "\rProcessing reviews:  91%|█████████ | 861/949 [1:10:09<08:42,  5.94s/batch]"
          ]
        },
        {
          "output_type": "stream",
          "name": "stdout",
          "text": [
            "2/2 [==============================] - 2s 1s/step\n"
          ]
        },
        {
          "output_type": "stream",
          "name": "stderr",
          "text": [
            "\rProcessing reviews:  91%|█████████ | 862/949 [1:10:15<08:19,  5.74s/batch]"
          ]
        },
        {
          "output_type": "stream",
          "name": "stdout",
          "text": [
            "2/2 [==============================] - 6s 3s/step\n"
          ]
        },
        {
          "output_type": "stream",
          "name": "stderr",
          "text": [
            "\rProcessing reviews:  91%|█████████ | 863/949 [1:10:22<09:05,  6.34s/batch]"
          ]
        },
        {
          "output_type": "stream",
          "name": "stdout",
          "text": [
            "2/2 [==============================] - 2s 1s/step\n"
          ]
        },
        {
          "output_type": "stream",
          "name": "stderr",
          "text": [
            "\rProcessing reviews:  91%|█████████ | 864/949 [1:10:26<07:42,  5.44s/batch]"
          ]
        },
        {
          "output_type": "stream",
          "name": "stdout",
          "text": [
            "2/2 [==============================] - 4s 2s/step\n"
          ]
        },
        {
          "output_type": "stream",
          "name": "stderr",
          "text": [
            "\rProcessing reviews:  91%|█████████ | 865/949 [1:10:31<07:32,  5.39s/batch]"
          ]
        },
        {
          "output_type": "stream",
          "name": "stdout",
          "text": [
            "2/2 [==============================] - 3s 1s/step\n"
          ]
        },
        {
          "output_type": "stream",
          "name": "stderr",
          "text": [
            "\rProcessing reviews:  91%|█████████▏| 866/949 [1:10:36<07:25,  5.36s/batch]"
          ]
        },
        {
          "output_type": "stream",
          "name": "stdout",
          "text": [
            "2/2 [==============================] - 2s 1s/step\n"
          ]
        },
        {
          "output_type": "stream",
          "name": "stderr",
          "text": [
            "\rProcessing reviews:  91%|█████████▏| 867/949 [1:10:42<07:18,  5.35s/batch]"
          ]
        },
        {
          "output_type": "stream",
          "name": "stdout",
          "text": [
            "2/2 [==============================] - 2s 973ms/step\n"
          ]
        },
        {
          "output_type": "stream",
          "name": "stderr",
          "text": [
            "\rProcessing reviews:  91%|█████████▏| 868/949 [1:10:47<07:10,  5.32s/batch]"
          ]
        },
        {
          "output_type": "stream",
          "name": "stdout",
          "text": [
            "2/2 [==============================] - 6s 3s/step\n"
          ]
        },
        {
          "output_type": "stream",
          "name": "stderr",
          "text": [
            "\rProcessing reviews:  92%|█████████▏| 869/949 [1:10:57<09:09,  6.87s/batch]"
          ]
        },
        {
          "output_type": "stream",
          "name": "stdout",
          "text": [
            "2/2 [==============================] - 2s 1s/step\n"
          ]
        },
        {
          "output_type": "stream",
          "name": "stderr",
          "text": [
            "\rProcessing reviews:  92%|█████████▏| 870/949 [1:11:00<07:30,  5.70s/batch]"
          ]
        },
        {
          "output_type": "stream",
          "name": "stdout",
          "text": [
            "2/2 [==============================] - 4s 2s/step\n"
          ]
        },
        {
          "output_type": "stream",
          "name": "stderr",
          "text": [
            "\rProcessing reviews:  92%|█████████▏| 871/949 [1:11:06<07:14,  5.57s/batch]"
          ]
        },
        {
          "output_type": "stream",
          "name": "stdout",
          "text": [
            "2/2 [==============================] - 3s 1s/step\n"
          ]
        },
        {
          "output_type": "stream",
          "name": "stderr",
          "text": [
            "\rProcessing reviews:  92%|█████████▏| 872/949 [1:11:11<07:02,  5.49s/batch]"
          ]
        },
        {
          "output_type": "stream",
          "name": "stdout",
          "text": [
            "2/2 [==============================] - 2s 843ms/step\n"
          ]
        },
        {
          "output_type": "stream",
          "name": "stderr",
          "text": [
            "\rProcessing reviews:  92%|█████████▏| 873/949 [1:11:14<05:54,  4.66s/batch]"
          ]
        },
        {
          "output_type": "stream",
          "name": "stdout",
          "text": [
            "2/2 [==============================] - 1s 725ms/step\n"
          ]
        },
        {
          "output_type": "stream",
          "name": "stderr",
          "text": [
            "\rProcessing reviews:  92%|█████████▏| 874/949 [1:11:16<04:55,  3.93s/batch]"
          ]
        },
        {
          "output_type": "stream",
          "name": "stdout",
          "text": [
            "2/2 [==============================] - 2s 1s/step\n"
          ]
        },
        {
          "output_type": "stream",
          "name": "stderr",
          "text": [
            "\rProcessing reviews:  92%|█████████▏| 875/949 [1:11:19<04:33,  3.70s/batch]"
          ]
        },
        {
          "output_type": "stream",
          "name": "stdout",
          "text": [
            "2/2 [==============================] - 4s 2s/step\n"
          ]
        },
        {
          "output_type": "stream",
          "name": "stderr",
          "text": [
            "\rProcessing reviews:  92%|█████████▏| 876/949 [1:11:29<06:57,  5.72s/batch]"
          ]
        },
        {
          "output_type": "stream",
          "name": "stdout",
          "text": [
            "2/2 [==============================] - 1s 758ms/step\n"
          ]
        },
        {
          "output_type": "stream",
          "name": "stderr",
          "text": [
            "\rProcessing reviews:  92%|█████████▏| 877/949 [1:11:32<05:49,  4.85s/batch]"
          ]
        },
        {
          "output_type": "stream",
          "name": "stdout",
          "text": [
            "2/2 [==============================] - 3s 1s/step\n"
          ]
        },
        {
          "output_type": "stream",
          "name": "stderr",
          "text": [
            "\rProcessing reviews:  93%|█████████▎| 878/949 [1:11:38<05:54,  4.99s/batch]"
          ]
        },
        {
          "output_type": "stream",
          "name": "stdout",
          "text": [
            "2/2 [==============================] - 6s 3s/step\n"
          ]
        },
        {
          "output_type": "stream",
          "name": "stderr",
          "text": [
            "\rProcessing reviews:  93%|█████████▎| 879/949 [1:11:48<07:45,  6.65s/batch]"
          ]
        },
        {
          "output_type": "stream",
          "name": "stdout",
          "text": [
            "2/2 [==============================] - 3s 1s/step\n"
          ]
        },
        {
          "output_type": "stream",
          "name": "stderr",
          "text": [
            "\rProcessing reviews:  93%|█████████▎| 880/949 [1:11:52<06:47,  5.90s/batch]"
          ]
        },
        {
          "output_type": "stream",
          "name": "stdout",
          "text": [
            "2/2 [==============================] - 2s 870ms/step\n"
          ]
        },
        {
          "output_type": "stream",
          "name": "stderr",
          "text": [
            "\rProcessing reviews:  93%|█████████▎| 881/949 [1:11:55<05:30,  4.87s/batch]"
          ]
        },
        {
          "output_type": "stream",
          "name": "stdout",
          "text": [
            "2/2 [==============================] - 1s 743ms/step\n"
          ]
        },
        {
          "output_type": "stream",
          "name": "stderr",
          "text": [
            "\rProcessing reviews:  93%|█████████▎| 882/949 [1:11:57<04:31,  4.05s/batch]"
          ]
        },
        {
          "output_type": "stream",
          "name": "stdout",
          "text": [
            "2/2 [==============================] - 1s 650ms/step\n"
          ]
        },
        {
          "output_type": "stream",
          "name": "stderr",
          "text": [
            "\rProcessing reviews:  93%|█████████▎| 883/949 [1:11:59<03:44,  3.40s/batch]"
          ]
        },
        {
          "output_type": "stream",
          "name": "stdout",
          "text": [
            "2/2 [==============================] - 3s 2s/step\n"
          ]
        },
        {
          "output_type": "stream",
          "name": "stderr",
          "text": [
            "\rProcessing reviews:  93%|█████████▎| 884/949 [1:12:04<04:18,  3.98s/batch]"
          ]
        },
        {
          "output_type": "stream",
          "name": "stdout",
          "text": [
            "2/2 [==============================] - 2s 1s/step\n"
          ]
        },
        {
          "output_type": "stream",
          "name": "stderr",
          "text": [
            "\rProcessing reviews:  93%|█████████▎| 885/949 [1:12:09<04:40,  4.38s/batch]"
          ]
        },
        {
          "output_type": "stream",
          "name": "stdout",
          "text": [
            "2/2 [==============================] - 3s 1s/step\n"
          ]
        },
        {
          "output_type": "stream",
          "name": "stderr",
          "text": [
            "\rProcessing reviews:  93%|█████████▎| 886/949 [1:12:13<04:29,  4.27s/batch]"
          ]
        },
        {
          "output_type": "stream",
          "name": "stdout",
          "text": [
            "2/2 [==============================] - 2s 806ms/step\n"
          ]
        },
        {
          "output_type": "stream",
          "name": "stderr",
          "text": [
            "\rProcessing reviews:  93%|█████████▎| 887/949 [1:12:16<03:55,  3.80s/batch]"
          ]
        },
        {
          "output_type": "stream",
          "name": "stdout",
          "text": [
            "2/2 [==============================] - 4s 2s/step\n"
          ]
        },
        {
          "output_type": "stream",
          "name": "stderr",
          "text": [
            "\rProcessing reviews:  94%|█████████▎| 888/949 [1:12:21<04:19,  4.25s/batch]"
          ]
        },
        {
          "output_type": "stream",
          "name": "stdout",
          "text": [
            "2/2 [==============================] - 2s 1s/step\n"
          ]
        },
        {
          "output_type": "stream",
          "name": "stderr",
          "text": [
            "\rProcessing reviews:  94%|█████████▎| 889/949 [1:12:27<04:35,  4.59s/batch]"
          ]
        },
        {
          "output_type": "stream",
          "name": "stdout",
          "text": [
            "2/2 [==============================] - 3s 2s/step\n"
          ]
        },
        {
          "output_type": "stream",
          "name": "stderr",
          "text": [
            "\rProcessing reviews:  94%|█████████▍| 890/949 [1:12:32<04:44,  4.82s/batch]"
          ]
        },
        {
          "output_type": "stream",
          "name": "stdout",
          "text": [
            "2/2 [==============================] - 3s 1s/step\n"
          ]
        },
        {
          "output_type": "stream",
          "name": "stderr",
          "text": [
            "\rProcessing reviews:  94%|█████████▍| 891/949 [1:12:36<04:16,  4.41s/batch]"
          ]
        },
        {
          "output_type": "stream",
          "name": "stdout",
          "text": [
            "2/2 [==============================] - 2s 1s/step\n"
          ]
        },
        {
          "output_type": "stream",
          "name": "stderr",
          "text": [
            "\rProcessing reviews:  94%|█████████▍| 892/949 [1:12:41<04:26,  4.68s/batch]"
          ]
        },
        {
          "output_type": "stream",
          "name": "stdout",
          "text": [
            "2/2 [==============================] - 2s 918ms/step\n"
          ]
        },
        {
          "output_type": "stream",
          "name": "stderr",
          "text": [
            "\rProcessing reviews:  94%|█████████▍| 893/949 [1:12:46<04:32,  4.87s/batch]"
          ]
        },
        {
          "output_type": "stream",
          "name": "stdout",
          "text": [
            "2/2 [==============================] - 3s 2s/step\n"
          ]
        },
        {
          "output_type": "stream",
          "name": "stderr",
          "text": [
            "\rProcessing reviews:  94%|█████████▍| 894/949 [1:12:50<04:16,  4.66s/batch]"
          ]
        },
        {
          "output_type": "stream",
          "name": "stdout",
          "text": [
            "2/2 [==============================] - 3s 1s/step\n"
          ]
        },
        {
          "output_type": "stream",
          "name": "stderr",
          "text": [
            "\rProcessing reviews:  94%|█████████▍| 895/949 [1:12:56<04:22,  4.85s/batch]"
          ]
        },
        {
          "output_type": "stream",
          "name": "stdout",
          "text": [
            "2/2 [==============================] - 2s 857ms/step\n"
          ]
        },
        {
          "output_type": "stream",
          "name": "stderr",
          "text": [
            "\rProcessing reviews:  94%|█████████▍| 896/949 [1:12:58<03:44,  4.23s/batch]"
          ]
        },
        {
          "output_type": "stream",
          "name": "stdout",
          "text": [
            "2/2 [==============================] - 2s 892ms/step\n"
          ]
        },
        {
          "output_type": "stream",
          "name": "stderr",
          "text": [
            "\rProcessing reviews:  95%|█████████▍| 897/949 [1:13:01<03:17,  3.80s/batch]"
          ]
        },
        {
          "output_type": "stream",
          "name": "stdout",
          "text": [
            "2/2 [==============================] - 2s 955ms/step\n"
          ]
        },
        {
          "output_type": "stream",
          "name": "stderr",
          "text": [
            "\rProcessing reviews:  95%|█████████▍| 898/949 [1:13:04<02:57,  3.49s/batch]"
          ]
        },
        {
          "output_type": "stream",
          "name": "stdout",
          "text": [
            "2/2 [==============================] - 3s 2s/step\n"
          ]
        },
        {
          "output_type": "stream",
          "name": "stderr",
          "text": [
            "\rProcessing reviews:  95%|█████████▍| 899/949 [1:13:08<03:06,  3.73s/batch]"
          ]
        },
        {
          "output_type": "stream",
          "name": "stdout",
          "text": [
            "2/2 [==============================] - 2s 1s/step\n"
          ]
        },
        {
          "output_type": "stream",
          "name": "stderr",
          "text": [
            "\rProcessing reviews:  95%|█████████▍| 900/949 [1:13:11<02:50,  3.49s/batch]"
          ]
        },
        {
          "output_type": "stream",
          "name": "stdout",
          "text": [
            "2/2 [==============================] - 4s 2s/step\n"
          ]
        },
        {
          "output_type": "stream",
          "name": "stderr",
          "text": [
            "\rProcessing reviews:  95%|█████████▍| 901/949 [1:13:16<03:08,  3.94s/batch]"
          ]
        },
        {
          "output_type": "stream",
          "name": "stdout",
          "text": [
            "2/2 [==============================] - 2s 967ms/step\n"
          ]
        },
        {
          "output_type": "stream",
          "name": "stderr",
          "text": [
            "\rProcessing reviews:  95%|█████████▌| 902/949 [1:13:22<03:24,  4.35s/batch]"
          ]
        },
        {
          "output_type": "stream",
          "name": "stdout",
          "text": [
            "2/2 [==============================] - 4s 2s/step\n"
          ]
        },
        {
          "output_type": "stream",
          "name": "stderr",
          "text": [
            "\rProcessing reviews:  95%|█████████▌| 903/949 [1:13:27<03:33,  4.64s/batch]"
          ]
        },
        {
          "output_type": "stream",
          "name": "stdout",
          "text": [
            "2/2 [==============================] - 2s 1s/step\n"
          ]
        },
        {
          "output_type": "stream",
          "name": "stderr",
          "text": [
            "\rProcessing reviews:  95%|█████████▌| 904/949 [1:13:30<03:07,  4.17s/batch]"
          ]
        },
        {
          "output_type": "stream",
          "name": "stdout",
          "text": [
            "2/2 [==============================] - 2s 884ms/step\n"
          ]
        },
        {
          "output_type": "stream",
          "name": "stderr",
          "text": [
            "\rProcessing reviews:  95%|█████████▌| 905/949 [1:13:33<02:44,  3.73s/batch]"
          ]
        },
        {
          "output_type": "stream",
          "name": "stdout",
          "text": [
            "2/2 [==============================] - 1s 738ms/step\n"
          ]
        },
        {
          "output_type": "stream",
          "name": "stderr",
          "text": [
            "\rProcessing reviews:  95%|█████████▌| 906/949 [1:13:35<02:27,  3.44s/batch]"
          ]
        },
        {
          "output_type": "stream",
          "name": "stdout",
          "text": [
            "2/2 [==============================] - 3s 1s/step\n"
          ]
        },
        {
          "output_type": "stream",
          "name": "stderr",
          "text": [
            "\rProcessing reviews:  96%|█████████▌| 907/949 [1:13:39<02:29,  3.56s/batch]"
          ]
        },
        {
          "output_type": "stream",
          "name": "stdout",
          "text": [
            "2/2 [==============================] - 3s 1s/step\n"
          ]
        },
        {
          "output_type": "stream",
          "name": "stderr",
          "text": [
            "\rProcessing reviews:  96%|█████████▌| 908/949 [1:13:44<02:46,  4.07s/batch]"
          ]
        },
        {
          "output_type": "stream",
          "name": "stdout",
          "text": [
            "2/2 [==============================] - 2s 1s/step\n"
          ]
        },
        {
          "output_type": "stream",
          "name": "stderr",
          "text": [
            "\rProcessing reviews:  96%|█████████▌| 909/949 [1:13:50<02:57,  4.43s/batch]"
          ]
        },
        {
          "output_type": "stream",
          "name": "stdout",
          "text": [
            "2/2 [==============================] - 2s 1s/step\n"
          ]
        },
        {
          "output_type": "stream",
          "name": "stderr",
          "text": [
            "\rProcessing reviews:  96%|█████████▌| 910/949 [1:13:53<02:43,  4.19s/batch]"
          ]
        },
        {
          "output_type": "stream",
          "name": "stdout",
          "text": [
            "2/2 [==============================] - 5s 3s/step\n"
          ]
        },
        {
          "output_type": "stream",
          "name": "stderr",
          "text": [
            "\rProcessing reviews:  96%|█████████▌| 911/949 [1:14:00<03:08,  4.95s/batch]"
          ]
        },
        {
          "output_type": "stream",
          "name": "stdout",
          "text": [
            "2/2 [==============================] - 5s 3s/step\n"
          ]
        },
        {
          "output_type": "stream",
          "name": "stderr",
          "text": [
            "\rProcessing reviews:  96%|█████████▌| 912/949 [1:14:07<03:25,  5.56s/batch]"
          ]
        },
        {
          "output_type": "stream",
          "name": "stdout",
          "text": [
            "2/2 [==============================] - 2s 1s/step\n"
          ]
        },
        {
          "output_type": "stream",
          "name": "stderr",
          "text": [
            "\rProcessing reviews:  96%|█████████▌| 913/949 [1:14:11<02:56,  4.91s/batch]"
          ]
        },
        {
          "output_type": "stream",
          "name": "stdout",
          "text": [
            "2/2 [==============================] - 2s 910ms/step\n"
          ]
        },
        {
          "output_type": "stream",
          "name": "stderr",
          "text": [
            "\rProcessing reviews:  96%|█████████▋| 914/949 [1:14:16<02:56,  5.03s/batch]"
          ]
        },
        {
          "output_type": "stream",
          "name": "stdout",
          "text": [
            "2/2 [==============================] - 3s 2s/step\n"
          ]
        },
        {
          "output_type": "stream",
          "name": "stderr",
          "text": [
            "\rProcessing reviews:  96%|█████████▋| 915/949 [1:14:20<02:42,  4.78s/batch]"
          ]
        },
        {
          "output_type": "stream",
          "name": "stdout",
          "text": [
            "2/2 [==============================] - 3s 2s/step\n"
          ]
        },
        {
          "output_type": "stream",
          "name": "stderr",
          "text": [
            "\rProcessing reviews:  97%|█████████▋| 916/949 [1:14:24<02:32,  4.64s/batch]"
          ]
        },
        {
          "output_type": "stream",
          "name": "stdout",
          "text": [
            "2/2 [==============================] - 2s 910ms/step\n"
          ]
        },
        {
          "output_type": "stream",
          "name": "stderr",
          "text": [
            "\rProcessing reviews:  97%|█████████▋| 917/949 [1:14:30<02:34,  4.83s/batch]"
          ]
        },
        {
          "output_type": "stream",
          "name": "stdout",
          "text": [
            "2/2 [==============================] - 2s 1s/step\n"
          ]
        },
        {
          "output_type": "stream",
          "name": "stderr",
          "text": [
            "\rProcessing reviews:  97%|█████████▋| 918/949 [1:14:33<02:16,  4.39s/batch]"
          ]
        },
        {
          "output_type": "stream",
          "name": "stdout",
          "text": [
            "2/2 [==============================] - 2s 1s/step\n"
          ]
        },
        {
          "output_type": "stream",
          "name": "stderr",
          "text": [
            "\rProcessing reviews:  97%|█████████▋| 919/949 [1:14:36<01:59,  3.98s/batch]"
          ]
        },
        {
          "output_type": "stream",
          "name": "stdout",
          "text": [
            "2/2 [==============================] - 6s 3s/step\n"
          ]
        },
        {
          "output_type": "stream",
          "name": "stderr",
          "text": [
            "\rProcessing reviews:  97%|█████████▋| 920/949 [1:14:46<02:51,  5.93s/batch]"
          ]
        },
        {
          "output_type": "stream",
          "name": "stdout",
          "text": [
            "2/2 [==============================] - 5s 3s/step\n"
          ]
        },
        {
          "output_type": "stream",
          "name": "stderr",
          "text": [
            "\rProcessing reviews:  97%|█████████▋| 921/949 [1:14:53<02:51,  6.14s/batch]"
          ]
        },
        {
          "output_type": "stream",
          "name": "stdout",
          "text": [
            "2/2 [==============================] - 3s 2s/step\n"
          ]
        },
        {
          "output_type": "stream",
          "name": "stderr",
          "text": [
            "\rProcessing reviews:  97%|█████████▋| 922/949 [1:14:58<02:38,  5.88s/batch]"
          ]
        },
        {
          "output_type": "stream",
          "name": "stdout",
          "text": [
            "2/2 [==============================] - 5s 2s/step\n"
          ]
        },
        {
          "output_type": "stream",
          "name": "stderr",
          "text": [
            "\rProcessing reviews:  97%|█████████▋| 923/949 [1:15:09<03:08,  7.24s/batch]"
          ]
        },
        {
          "output_type": "stream",
          "name": "stdout",
          "text": [
            "2/2 [==============================] - 2s 1s/step\n"
          ]
        },
        {
          "output_type": "stream",
          "name": "stderr",
          "text": [
            "\rProcessing reviews:  97%|█████████▋| 924/949 [1:15:14<02:46,  6.64s/batch]"
          ]
        },
        {
          "output_type": "stream",
          "name": "stdout",
          "text": [
            "2/2 [==============================] - 6s 3s/step\n"
          ]
        },
        {
          "output_type": "stream",
          "name": "stderr",
          "text": [
            "\rProcessing reviews:  97%|█████████▋| 925/949 [1:15:25<03:07,  7.80s/batch]"
          ]
        },
        {
          "output_type": "stream",
          "name": "stdout",
          "text": [
            "2/2 [==============================] - 2s 1s/step\n"
          ]
        },
        {
          "output_type": "stream",
          "name": "stderr",
          "text": [
            "\rProcessing reviews:  98%|█████████▊| 926/949 [1:15:28<02:29,  6.48s/batch]"
          ]
        },
        {
          "output_type": "stream",
          "name": "stdout",
          "text": [
            "2/2 [==============================] - 5s 3s/step\n"
          ]
        },
        {
          "output_type": "stream",
          "name": "stderr",
          "text": [
            "\rProcessing reviews:  98%|█████████▊| 927/949 [1:15:38<02:48,  7.68s/batch]"
          ]
        },
        {
          "output_type": "stream",
          "name": "stdout",
          "text": [
            "2/2 [==============================] - 2s 956ms/step\n"
          ]
        },
        {
          "output_type": "stream",
          "name": "stderr",
          "text": [
            "\rProcessing reviews:  98%|█████████▊| 928/949 [1:15:41<02:12,  6.29s/batch]"
          ]
        },
        {
          "output_type": "stream",
          "name": "stdout",
          "text": [
            "2/2 [==============================] - 5s 2s/step\n"
          ]
        },
        {
          "output_type": "stream",
          "name": "stderr",
          "text": [
            "\rProcessing reviews:  98%|█████████▊| 929/949 [1:15:52<02:30,  7.55s/batch]"
          ]
        },
        {
          "output_type": "stream",
          "name": "stdout",
          "text": [
            "2/2 [==============================] - 4s 2s/step\n"
          ]
        },
        {
          "output_type": "stream",
          "name": "stderr",
          "text": [
            "\rProcessing reviews:  98%|█████████▊| 930/949 [1:16:02<02:39,  8.41s/batch]"
          ]
        },
        {
          "output_type": "stream",
          "name": "stdout",
          "text": [
            "2/2 [==============================] - 3s 1s/step\n"
          ]
        },
        {
          "output_type": "stream",
          "name": "stderr",
          "text": [
            "\rProcessing reviews:  98%|█████████▊| 931/949 [1:16:08<02:14,  7.47s/batch]"
          ]
        },
        {
          "output_type": "stream",
          "name": "stdout",
          "text": [
            "2/2 [==============================] - 2s 1s/step\n"
          ]
        },
        {
          "output_type": "stream",
          "name": "stderr",
          "text": [
            "\rProcessing reviews:  98%|█████████▊| 932/949 [1:16:13<01:55,  6.81s/batch]"
          ]
        },
        {
          "output_type": "stream",
          "name": "stdout",
          "text": [
            "2/2 [==============================] - 3s 1s/step\n"
          ]
        },
        {
          "output_type": "stream",
          "name": "stderr",
          "text": [
            "\rProcessing reviews:  98%|█████████▊| 933/949 [1:16:18<01:41,  6.36s/batch]"
          ]
        },
        {
          "output_type": "stream",
          "name": "stdout",
          "text": [
            "2/2 [==============================] - 6s 3s/step\n"
          ]
        },
        {
          "output_type": "stream",
          "name": "stderr",
          "text": [
            "\rProcessing reviews:  98%|█████████▊| 934/949 [1:16:29<01:53,  7.60s/batch]"
          ]
        },
        {
          "output_type": "stream",
          "name": "stdout",
          "text": [
            "2/2 [==============================] - 6s 3s/step\n"
          ]
        },
        {
          "output_type": "stream",
          "name": "stderr",
          "text": [
            "\rProcessing reviews:  99%|█████████▊| 935/949 [1:16:39<01:58,  8.46s/batch]"
          ]
        },
        {
          "output_type": "stream",
          "name": "stdout",
          "text": [
            "2/2 [==============================] - 2s 1s/step\n"
          ]
        },
        {
          "output_type": "stream",
          "name": "stderr",
          "text": [
            "\rProcessing reviews:  99%|█████████▊| 936/949 [1:16:42<01:29,  6.88s/batch]"
          ]
        },
        {
          "output_type": "stream",
          "name": "stdout",
          "text": [
            "2/2 [==============================] - 1s 734ms/step\n"
          ]
        },
        {
          "output_type": "stream",
          "name": "stderr",
          "text": [
            "\rProcessing reviews:  99%|█████████▊| 937/949 [1:16:45<01:07,  5.63s/batch]"
          ]
        },
        {
          "output_type": "stream",
          "name": "stdout",
          "text": [
            "2/2 [==============================] - 2s 914ms/step\n"
          ]
        },
        {
          "output_type": "stream",
          "name": "stderr",
          "text": [
            "\rProcessing reviews:  99%|█████████▉| 938/949 [1:16:50<01:00,  5.54s/batch]"
          ]
        },
        {
          "output_type": "stream",
          "name": "stdout",
          "text": [
            "2/2 [==============================] - 6s 3s/step\n"
          ]
        },
        {
          "output_type": "stream",
          "name": "stderr",
          "text": [
            "\rProcessing reviews:  99%|█████████▉| 939/949 [1:17:01<01:10,  7.03s/batch]"
          ]
        },
        {
          "output_type": "stream",
          "name": "stdout",
          "text": [
            "2/2 [==============================] - 3s 1s/step\n"
          ]
        },
        {
          "output_type": "stream",
          "name": "stderr",
          "text": [
            "\rProcessing reviews:  99%|█████████▉| 940/949 [1:17:06<00:58,  6.51s/batch]"
          ]
        },
        {
          "output_type": "stream",
          "name": "stdout",
          "text": [
            "2/2 [==============================] - 3s 1s/step\n"
          ]
        },
        {
          "output_type": "stream",
          "name": "stderr",
          "text": [
            "\rProcessing reviews:  99%|█████████▉| 941/949 [1:17:12<00:49,  6.16s/batch]"
          ]
        },
        {
          "output_type": "stream",
          "name": "stdout",
          "text": [
            "2/2 [==============================] - 1s 521ms/step\n"
          ]
        },
        {
          "output_type": "stream",
          "name": "stderr",
          "text": [
            "\rProcessing reviews:  99%|█████████▉| 942/949 [1:17:14<00:35,  5.11s/batch]"
          ]
        },
        {
          "output_type": "stream",
          "name": "stdout",
          "text": [
            "2/2 [==============================] - 5s 3s/step\n"
          ]
        },
        {
          "output_type": "stream",
          "name": "stderr",
          "text": [
            "\rProcessing reviews:  99%|█████████▉| 943/949 [1:17:25<00:40,  6.73s/batch]"
          ]
        },
        {
          "output_type": "stream",
          "name": "stdout",
          "text": [
            "2/2 [==============================] - 6s 3s/step\n"
          ]
        },
        {
          "output_type": "stream",
          "name": "stderr",
          "text": [
            "\rProcessing reviews:  99%|█████████▉| 944/949 [1:17:32<00:34,  6.88s/batch]"
          ]
        },
        {
          "output_type": "stream",
          "name": "stdout",
          "text": [
            "2/2 [==============================] - 6s 3s/step\n"
          ]
        },
        {
          "output_type": "stream",
          "name": "stderr",
          "text": [
            "\rProcessing reviews: 100%|█████████▉| 945/949 [1:17:42<00:31,  7.96s/batch]"
          ]
        },
        {
          "output_type": "stream",
          "name": "stdout",
          "text": [
            "2/2 [==============================] - 4s 2s/step\n"
          ]
        },
        {
          "output_type": "stream",
          "name": "stderr",
          "text": [
            "\rProcessing reviews: 100%|█████████▉| 946/949 [1:17:48<00:21,  7.29s/batch]"
          ]
        },
        {
          "output_type": "stream",
          "name": "stdout",
          "text": [
            "2/2 [==============================] - 2s 860ms/step\n"
          ]
        },
        {
          "output_type": "stream",
          "name": "stderr",
          "text": [
            "\rProcessing reviews: 100%|█████████▉| 947/949 [1:17:51<00:11,  5.83s/batch]"
          ]
        },
        {
          "output_type": "stream",
          "name": "stdout",
          "text": [
            "2/2 [==============================] - 5s 3s/step\n"
          ]
        },
        {
          "output_type": "stream",
          "name": "stderr",
          "text": [
            "\rProcessing reviews: 100%|█████████▉| 948/949 [1:18:01<00:07,  7.22s/batch]"
          ]
        },
        {
          "output_type": "stream",
          "name": "stdout",
          "text": [
            "1/1 [==============================] - 4s 4s/step\n"
          ]
        },
        {
          "output_type": "stream",
          "name": "stderr",
          "text": [
            "Processing reviews: 100%|██████████| 949/949 [1:18:05<00:00,  4.94s/batch]"
          ]
        },
        {
          "output_type": "stream",
          "name": "stdout",
          "text": [
            "sentiment\n",
            "Negative    38999\n",
            "Positive    21704\n",
            "Name: count, dtype: int64\n"
          ]
        },
        {
          "output_type": "stream",
          "name": "stderr",
          "text": [
            "\n",
            "<ipython-input-19-71cf0fc2eb74>:29: SettingWithCopyWarning:\n",
            "\n",
            "\n",
            "A value is trying to be set on a copy of a slice from a DataFrame.\n",
            "Try using .loc[row_indexer,col_indexer] = value instead\n",
            "\n",
            "See the caveats in the documentation: https://pandas.pydata.org/pandas-docs/stable/user_guide/indexing.html#returning-a-view-versus-a-copy\n",
            "\n"
          ]
        }
      ],
      "source": [
        "# Initialize the tokenizer and model\n",
        "tokenizer = XLNetTokenizer.from_pretrained(\"dipawidia/xlnet-base-cased-product-review-sentiment-analysis\")\n",
        "model = TFXLNetForSequenceClassification.from_pretrained(\"dipawidia/xlnet-base-cased-product-review-sentiment-analysis\")\n",
        "\n",
        "# Function to analyze sentiment for a batch of reviews\n",
        "def get_sentiment_batch(reviews_batch):\n",
        "    tokenize_text = tokenizer(reviews_batch.tolist(), padding=True, truncation=True, return_tensors='tf', max_length=512)\n",
        "    preds = model.predict(dict(tokenize_text))['logits']\n",
        "    class_preds = np.argmax(tf.keras.layers.Softmax()(preds), axis=-1)\n",
        "    labels = ['Positive' if pred == 1 else 'Negative' for pred in class_preds]\n",
        "    return labels\n",
        "\n",
        "# Batch size for processing reviews\n",
        "batch_size = 64\n",
        "\n",
        "# Initialize the progress bar for batching\n",
        "num_batches = len(three_stars) // batch_size + (1 if len(three_stars) % batch_size != 0 else 0)\n",
        "\n",
        "# List to hold sentiment results\n",
        "sentiment_results = []\n",
        "\n",
        "# Process reviews in batches\n",
        "for i in tqdm(range(0, len(three_stars), batch_size), total=num_batches, desc=\"Processing reviews\", unit=\"batch\"):\n",
        "    batch = three_stars['review_text'][i:i + batch_size]  # Get the current batch of reviews\n",
        "    batch_sentiments = get_sentiment_batch(batch)  # Get sentiments for the current batch\n",
        "    sentiment_results.extend(batch_sentiments)  # Append results\n",
        "\n",
        "# Assign the sentiment results back to the dataframe\n",
        "three_stars['sentiment'] = sentiment_results\n",
        "\n",
        "# Count positive and negative sentiments\n",
        "sentiment_counts = three_stars['sentiment'].value_counts()\n",
        "print(sentiment_counts)"
      ]
    },
    {
      "cell_type": "code",
      "execution_count": 20,
      "metadata": {
        "colab": {
          "base_uri": "https://localhost:8080/"
        },
        "id": "47nkajpjWo_6",
        "outputId": "c12a110a-2ccf-4353-fd5b-31d36e889001"
      },
      "outputs": [
        {
          "output_type": "stream",
          "name": "stdout",
          "text": [
            "Number of positive sentiment reviews: 21704\n",
            "Positive Sentiment Examples:\n",
            "                                           review_text\n",
            "14   It’s super glossy and looks amazing but doesn’...\n",
            "40   This product is marketed as a sleeping mask bu...\n",
            "53   I think this is overpriced for what it is - li...\n",
            "92   Meh, I mean it’s ok. I like the Fenty skin one...\n",
            "112  I used to love this product. Because it feels ...\n"
          ]
        },
        {
          "output_type": "stream",
          "name": "stderr",
          "text": [
            "/usr/local/lib/python3.10/dist-packages/ipykernel/ipkernel.py:283: DeprecationWarning:\n",
            "\n",
            "`should_run_async` will not call `transform_cell` automatically in the future. Please pass the result to `transformed_cell` argument and any exception that happen during thetransform in `preprocessing_exc_tuple` in IPython 7.17 and above.\n",
            "\n"
          ]
        }
      ],
      "source": [
        "# Filter the reviews with positive sentiment\n",
        "positive_reviews_xlnet = three_stars[three_stars['sentiment'] == 'Positive']\n",
        "\n",
        "# Display the count of positive sentiment reviews\n",
        "print(f\"Number of positive sentiment reviews: {len(positive_reviews_xlnet)}\")\n",
        "\n",
        "print(\"Positive Sentiment Examples:\")\n",
        "print(positive_reviews_xlnet[['review_text']].head())"
      ]
    },
    {
      "cell_type": "markdown",
      "metadata": {
        "id": "RsQun374pIwX"
      },
      "source": [
        "____"
      ]
    },
    {
      "cell_type": "markdown",
      "metadata": {
        "id": "efS3LnagiNBY"
      },
      "source": [
        "## cardiffnlp/twitter-xlm-roberta-base-sentiment"
      ]
    },
    {
      "cell_type": "markdown",
      "metadata": {
        "id": "-Rbzu0ICpIwX"
      },
      "source": [
        "Below we use [cardiffnlp/twitter-xlm-roberta-base-sentiment](https://huggingface.co/cardiffnlp/twitter-xlm-roberta-base-sentiment) model from Hugging face to perform again sentiment analysis."
      ]
    },
    {
      "cell_type": "code",
      "execution_count": 21,
      "metadata": {
        "colab": {
          "base_uri": "https://localhost:8080/",
          "height": 616,
          "referenced_widgets": [
            "628f96611cbf49f794c475c21c456eb0",
            "07d44c7dd9c64c918dc19190dc0b11f3",
            "35975678c46a4e088b71c6991c761169",
            "2eea34da8b7c48fa910e3e4617b56edc",
            "722d91ff5d974ae399097bb402d1eec4",
            "30e859a14f2d49368a8160dd147bb472",
            "259da1f7499741778e157cc560980867",
            "a4316bc56c504661914ec3668bc20dd8",
            "84c29acf7399471a8922fcb779b70816",
            "cf8ac5081f86418fbe5fcda8bf61cb7b",
            "e2b1283a119548e6ab4ee8802c7ed3e7",
            "027299016a26478d8890442cee6e4d25",
            "3c66a2ab50f34f7babcc8d00ef58cef7",
            "a52a0bf1f27f497293af546fef732dd1",
            "780c2da6b3fd4d4ab3dd9817b5e97735",
            "d375d7d7f24d4ec2ae137e957be1a496",
            "89ed27a0939147d1900db4c694244b14",
            "64160001b3dd41969d61eaf43e604b0d",
            "d0cf5683c16049d7b2d9b8c3f72967e1",
            "1a636b5bc11c449ba327fa0e94cf247a",
            "3155cd7aff5149a4b6bf16d3846c6c31",
            "ad35575261c04c7182dcbec3adca3529",
            "042e0ba81b4f4d46a13831e982bb2ad7",
            "a7901b66270947b9821a08e8fcbd8361",
            "abd27d8e93904bef8e982a88b3dd14bd",
            "11929418443841c5a65b378626dc817d",
            "5e800901b195423db21266967669fc8b",
            "caf6e49b60aa4d74acd4d1ed7e61dfbf",
            "88ab49666d4f434c9e36501cf1ffc3d7",
            "b0dd0cd6ef9b4de89a41d29a4cd408e5",
            "d8a5a35193fd41f28ebf899b6e09e6fd",
            "a75191b71beb4f42b2c1a1d8e3be1180",
            "269e573e565042b4ad54e44c935b4585",
            "9e467966c3204dc5a29f57644b28948b",
            "e8dbc95261d548ccb44e8b4e2e4df24c",
            "d3ce456e6c6942b48a80cd73fddb8015",
            "f91405d4d7544fa197cbcad80be54e96",
            "bd593c135f9b41d686b2e8b605f5b598",
            "711c7f32f0f6486e899b2111a823aa78",
            "3e771ab424f14070bf19436f2da172de",
            "0322d7942547475793a1e7c42112b16c",
            "e6a661653c8345c1bc067f1cb731af6e",
            "205eda4fcd634df4927a95171272b04d",
            "cf1a5a9f25214eb1843a360d59d3576f"
          ]
        },
        "id": "f-k9_1qsgHcj",
        "outputId": "cb66ef0f-9a27-4952-97b2-d85688d1aad5"
      },
      "outputs": [
        {
          "output_type": "stream",
          "name": "stderr",
          "text": [
            "/usr/local/lib/python3.10/dist-packages/ipykernel/ipkernel.py:283: DeprecationWarning:\n",
            "\n",
            "`should_run_async` will not call `transform_cell` automatically in the future. Please pass the result to `transformed_cell` argument and any exception that happen during thetransform in `preprocessing_exc_tuple` in IPython 7.17 and above.\n",
            "\n"
          ]
        },
        {
          "output_type": "display_data",
          "data": {
            "text/plain": [
              "config.json:   0%|          | 0.00/841 [00:00<?, ?B/s]"
            ],
            "application/vnd.jupyter.widget-view+json": {
              "version_major": 2,
              "version_minor": 0,
              "model_id": "628f96611cbf49f794c475c21c456eb0"
            }
          },
          "metadata": {}
        },
        {
          "output_type": "display_data",
          "data": {
            "text/plain": [
              "sentencepiece.bpe.model:   0%|          | 0.00/5.07M [00:00<?, ?B/s]"
            ],
            "application/vnd.jupyter.widget-view+json": {
              "version_major": 2,
              "version_minor": 0,
              "model_id": "027299016a26478d8890442cee6e4d25"
            }
          },
          "metadata": {}
        },
        {
          "output_type": "display_data",
          "data": {
            "text/plain": [
              "special_tokens_map.json:   0%|          | 0.00/150 [00:00<?, ?B/s]"
            ],
            "application/vnd.jupyter.widget-view+json": {
              "version_major": 2,
              "version_minor": 0,
              "model_id": "042e0ba81b4f4d46a13831e982bb2ad7"
            }
          },
          "metadata": {}
        },
        {
          "output_type": "display_data",
          "data": {
            "text/plain": [
              "tf_model.h5:   0%|          | 0.00/1.11G [00:00<?, ?B/s]"
            ],
            "application/vnd.jupyter.widget-view+json": {
              "version_major": 2,
              "version_minor": 0,
              "model_id": "9e467966c3204dc5a29f57644b28948b"
            }
          },
          "metadata": {}
        },
        {
          "output_type": "stream",
          "name": "stderr",
          "text": [
            "<ipython-input-21-32828c06af50>:31: SettingWithCopyWarning:\n",
            "\n",
            "\n",
            "A value is trying to be set on a copy of a slice from a DataFrame.\n",
            "Try using .loc[row_indexer,col_indexer] = value instead\n",
            "\n",
            "See the caveats in the documentation: https://pandas.pydata.org/pandas-docs/stable/user_guide/indexing.html#returning-a-view-versus-a-copy\n",
            "\n",
            "Processing reviews: 100%|██████████| 949/949 [22:24<00:00,  1.42s/batch]"
          ]
        },
        {
          "output_type": "stream",
          "name": "stdout",
          "text": [
            "sentiment\n",
            "Negative    34045\n",
            "Positive    21846\n",
            "Neutral      4812\n",
            "Name: count, dtype: int64\n"
          ]
        },
        {
          "output_type": "stream",
          "name": "stderr",
          "text": [
            "\n",
            "<ipython-input-21-32828c06af50>:46: SettingWithCopyWarning:\n",
            "\n",
            "\n",
            "A value is trying to be set on a copy of a slice from a DataFrame.\n",
            "Try using .loc[row_indexer,col_indexer] = value instead\n",
            "\n",
            "See the caveats in the documentation: https://pandas.pydata.org/pandas-docs/stable/user_guide/indexing.html#returning-a-view-versus-a-copy\n",
            "\n"
          ]
        }
      ],
      "source": [
        "# Model path for the new model\n",
        "model_path = \"cardiffnlp/twitter-xlm-roberta-base-sentiment\"\n",
        "\n",
        "# Initialize the tokenizer and model\n",
        "tokenizer = AutoTokenizer.from_pretrained(model_path)\n",
        "model = TFAutoModelForSequenceClassification.from_pretrained(model_path)\n",
        "\n",
        "# Function to analyze sentiment for a batch of reviews\n",
        "def get_sentiment_batch(reviews_batch):\n",
        "    # Tokenize the batch of reviews\n",
        "    tokenize_text = tokenizer(reviews_batch.tolist(), padding=True, truncation=True, return_tensors='tf', max_length=512)\n",
        "\n",
        "    # Get predictions from the model\n",
        "    preds = model(**tokenize_text)['logits']\n",
        "\n",
        "    # Apply softmax to get class probabilities\n",
        "    scores = softmax(preds.numpy(), axis=-1)\n",
        "\n",
        "    # Get the class with the highest probability (0 = negative, 2 = positive)\n",
        "    class_preds = np.argmax(scores, axis=-1)\n",
        "\n",
        "    # Assign sentiment labels based on the class prediction\n",
        "    labels = ['Negative' if pred == 0 else 'Neutral' if pred == 1 else 'Positive' for pred in class_preds]\n",
        "\n",
        "    return labels\n",
        "\n",
        "# Batch size for processing reviews\n",
        "batch_size = 64\n",
        "\n",
        "# Ensure the reviews are valid strings and filter out NaN values\n",
        "three_stars['review_text'] = three_stars['review_text'].fillna('').astype(str)\n",
        "\n",
        "# Initialize the progress bar for batching\n",
        "num_batches = len(three_stars) // batch_size + (1 if len(three_stars) % batch_size != 0 else 0)\n",
        "\n",
        "# List to hold sentiment results\n",
        "sentiment_results = []\n",
        "\n",
        "# Process reviews in batches\n",
        "for i in tqdm(range(0, len(three_stars), batch_size), total=num_batches, desc=\"Processing reviews\", unit=\"batch\"):\n",
        "    batch = three_stars['review_text'][i:i + batch_size]  # Get the current batch of reviews\n",
        "    batch_sentiments = get_sentiment_batch(batch)  # Get sentiments for the current batch\n",
        "    sentiment_results.extend(batch_sentiments)  # Append results\n",
        "\n",
        "# Assign the sentiment results back to the dataframe\n",
        "three_stars['sentiment'] = sentiment_results\n",
        "\n",
        "# Count positive, negative, and neutral sentiments\n",
        "sentiment_counts = three_stars['sentiment'].value_counts()\n",
        "print(sentiment_counts)"
      ]
    },
    {
      "cell_type": "code",
      "execution_count": 22,
      "metadata": {
        "colab": {
          "base_uri": "https://localhost:8080/"
        },
        "id": "qzcZLasbW88A",
        "outputId": "0d9acd41-a714-4d6d-d1c7-748e9dd2de78"
      },
      "outputs": [
        {
          "output_type": "stream",
          "name": "stdout",
          "text": [
            "Number of positive sentiment reviews: 21846\n",
            "Positive Sentiment Examples:\n",
            "                                          review_text product_id\n",
            "11  Does the gummy bear mask smell absolutely deli...    P420652\n",
            "30  ive tried my friend’s a few times and it does ...    P420652\n",
            "40  This product is marketed as a sleeping mask bu...    P420652\n",
            "53  I think this is overpriced for what it is - li...    P420652\n",
            "80  I tried it first from the mini version Sephora...    P420652\n"
          ]
        },
        {
          "output_type": "stream",
          "name": "stderr",
          "text": [
            "/usr/local/lib/python3.10/dist-packages/ipykernel/ipkernel.py:283: DeprecationWarning:\n",
            "\n",
            "`should_run_async` will not call `transform_cell` automatically in the future. Please pass the result to `transformed_cell` argument and any exception that happen during thetransform in `preprocessing_exc_tuple` in IPython 7.17 and above.\n",
            "\n"
          ]
        }
      ],
      "source": [
        "# Filter the positive sentiment reviews\n",
        "positive_reviews_cardiffnlp = three_stars[three_stars['sentiment'] == 'Positive']\n",
        "\n",
        "# Display the count of positive sentiment reviews\n",
        "print(f\"Number of positive sentiment reviews: {len(positive_reviews_cardiffnlp)}\")\n",
        "\n",
        "print(\"Positive Sentiment Examples:\")\n",
        "print(positive_reviews_cardiffnlp[['review_text', 'product_id']].head())"
      ]
    },
    {
      "cell_type": "markdown",
      "metadata": {
        "id": "7sUs_NbppIwX"
      },
      "source": [
        "____"
      ]
    },
    {
      "cell_type": "markdown",
      "metadata": {
        "id": "GO8k9nGLWS9c"
      },
      "source": [
        "## Intersect all positive reviews found"
      ]
    },
    {
      "cell_type": "code",
      "execution_count": 23,
      "metadata": {
        "colab": {
          "base_uri": "https://localhost:8080/"
        },
        "id": "6B7fxHvfZaT5",
        "outputId": "2593a9b5-28f9-4919-cc05-c1edc85b0d61"
      },
      "outputs": [
        {
          "output_type": "stream",
          "name": "stderr",
          "text": [
            "/usr/local/lib/python3.10/dist-packages/ipykernel/ipkernel.py:283: DeprecationWarning:\n",
            "\n",
            "`should_run_async` will not call `transform_cell` automatically in the future. Please pass the result to `transformed_cell` argument and any exception that happen during thetransform in `preprocessing_exc_tuple` in IPython 7.17 and above.\n",
            "\n"
          ]
        },
        {
          "output_type": "stream",
          "name": "stdout",
          "text": [
            "Number of unique intersected positive sentiment reviews: 13631\n",
            "  Unnamed: 0    author_id                                        review_text  \\\n",
            "0         55  46853998374  This product is marketed as a sleeping mask bu...   \n",
            "1         70   1660910909  I think this is overpriced for what it is - li...   \n",
            "2        115  43851162127  Meh, I mean it’s ok. I like the Fenty skin one...   \n",
            "3        137  33060342567  I used to love this product. Because it feels ...   \n",
            "4        282   1552661644  It’s a great mask for sealing in moisture to t...   \n",
            "\n",
            "                            review_title product_id  \\\n",
            "0            Wanted to love but couldnt.    P420652   \n",
            "1                                    NaN    P420652   \n",
            "2                                     ok    P420652   \n",
            "3                      Not bad, not good    P420652   \n",
            "4  Great when paired with other products    P420652   \n",
            "\n",
            "                                        product_name brand_name  price_usd  \n",
            "0  Lip Sleeping Mask Intense Hydration with Vitam...    LANEIGE       24.0  \n",
            "1  Lip Sleeping Mask Intense Hydration with Vitam...    LANEIGE       24.0  \n",
            "2  Lip Sleeping Mask Intense Hydration with Vitam...    LANEIGE       24.0  \n",
            "3  Lip Sleeping Mask Intense Hydration with Vitam...    LANEIGE       24.0  \n",
            "4  Lip Sleeping Mask Intense Hydration with Vitam...    LANEIGE       24.0  \n"
          ]
        }
      ],
      "source": [
        "# Merge the two positive review datasets based on the 'Unnamed: 0' column\n",
        "intersected_positive_reviews = pd.merge(\n",
        "    positive_reviews_xlnet[['Unnamed: 0', 'review_text', 'product_id', 'author_id', 'review_title',\n",
        "                            'product_name', 'brand_name', 'price_usd']],\n",
        "    positive_reviews_cardiffnlp[['Unnamed: 0', 'product_id', 'author_id', 'review_title',\n",
        "                                'product_name', 'brand_name', 'price_usd']],\n",
        "    on='Unnamed: 0',\n",
        "    how='inner'  # 'inner' ensures only matching rows are returned\n",
        ")\n",
        "\n",
        "# Remove duplicates based on the 'Unnamed: 0' column to ensure unique reviews\n",
        "intersected_positive_reviews = intersected_positive_reviews.drop_duplicates(subset='Unnamed: 0')\n",
        "\n",
        "# Rename columns to avoid conflicts (the '_x' and '_y' suffixes)\n",
        "intersected_positive_reviews.rename(columns={\n",
        "    'review_text_x': 'review_text',\n",
        "    'product_id_x': 'product_id',\n",
        "    'author_id_x': 'author_id',\n",
        "    'review_title_x': 'review_title',\n",
        "    'product_name_x': 'product_name',\n",
        "    'brand_name_x': 'brand_name',\n",
        "    'price_usd_x': 'price_usd'\n",
        "}, inplace=True)\n",
        "\n",
        "# Now drop the columns from the second dataframe that are not needed (with the '_y' suffix)\n",
        "intersected_positive_reviews.drop(columns=[col for col in intersected_positive_reviews.columns if col.endswith('_y')], inplace=True)\n",
        "\n",
        "# Select only desired columns\n",
        "final_columns = ['Unnamed: 0', 'author_id', 'review_text', 'review_title', 'product_id', 'product_name', 'brand_name', 'price_usd']\n",
        "intersected_positive_reviews = intersected_positive_reviews[final_columns]\n",
        "\n",
        "# Display the count of unique intersected positive sentiment reviews\n",
        "print(f\"Number of unique intersected positive sentiment reviews: {len(intersected_positive_reviews)}\")\n",
        "\n",
        "# Check the first few rows of the final dataframe\n",
        "print(intersected_positive_reviews.head())\n",
        "\n",
        "# Save the intersected positive reviews to a CSV file\n",
        "intersected_positive_reviews.to_csv('processed_data/3_star_positive_reviews.csv', index=False)"
      ]
    },
    {
      "cell_type": "code",
      "source": [],
      "metadata": {
        "colab": {
          "base_uri": "https://localhost:8080/"
        },
        "id": "maOBHrX0DTbT",
        "outputId": "005f2070-02e7-4fdd-e947-f5f42ba8d8a8"
      },
      "execution_count": 23,
      "outputs": [
        {
          "output_type": "stream",
          "name": "stderr",
          "text": [
            "/usr/local/lib/python3.10/dist-packages/ipykernel/ipkernel.py:283: DeprecationWarning:\n",
            "\n",
            "`should_run_async` will not call `transform_cell` automatically in the future. Please pass the result to `transformed_cell` argument and any exception that happen during thetransform in `preprocessing_exc_tuple` in IPython 7.17 and above.\n",
            "\n"
          ]
        }
      ]
    },
    {
      "cell_type": "markdown",
      "metadata": {
        "id": "kfGmdZa5pIwY"
      },
      "source": [
        "_____"
      ]
    },
    {
      "cell_type": "markdown",
      "metadata": {
        "id": "XS_KIagtpIwY"
      },
      "source": [
        "## Filtering and Combining Desired Reviews"
      ]
    },
    {
      "cell_type": "code",
      "execution_count": 24,
      "metadata": {
        "colab": {
          "base_uri": "https://localhost:8080/"
        },
        "id": "FX-EodTzpIwY",
        "outputId": "560061b8-8879-4e91-9e90-e2a61e7b886e"
      },
      "outputs": [
        {
          "output_type": "stream",
          "name": "stderr",
          "text": [
            "/usr/local/lib/python3.10/dist-packages/ipykernel/ipkernel.py:283: DeprecationWarning:\n",
            "\n",
            "`should_run_async` will not call `transform_cell` automatically in the future. Please pass the result to `transformed_cell` argument and any exception that happen during thetransform in `preprocessing_exc_tuple` in IPython 7.17 and above.\n",
            "\n"
          ]
        },
        {
          "output_type": "stream",
          "name": "stdout",
          "text": [
            "Total reviews to be used in frequent items: 692883\n"
          ]
        }
      ],
      "source": [
        "# Load the combined reviews data from the saved file\n",
        "combined_reviews_df = pd.read_csv('processed_data/combined_reviews.csv', encoding='utf-8', engine='python')\n",
        "\n",
        "# Filter the reviews with 4 and 5 stars\n",
        "frequent_items_reviews = combined_reviews_df[combined_reviews_df['rating'].isin([4, 5])]\n",
        "\n",
        "# Load the positive reviews from the sentiment analysis on the 3-star reviews\n",
        "positive_reviews_df = pd.read_csv('processed_data/3_star_positive_reviews.csv', encoding='utf-8', engine='python')\n",
        "\n",
        "# Combine the filtered 4 and 5-star reviews with the 3-star positive reviews\n",
        "frequent_items_reviews = pd.concat([frequent_items_reviews, positive_reviews_df], ignore_index=True)\n",
        "\n",
        "print(f\"Total reviews to be used in frequent items: {len(frequent_items_reviews)}\")"
      ]
    },
    {
      "cell_type": "code",
      "execution_count": 25,
      "metadata": {
        "colab": {
          "base_uri": "https://localhost:8080/"
        },
        "id": "lDkQWKm7pIwY",
        "outputId": "f58c624e-970a-4e87-df82-4ea3a46b4484"
      },
      "outputs": [
        {
          "output_type": "stream",
          "name": "stdout",
          "text": [
            "Total number of unique products in the reviews dataset: 1547\n"
          ]
        },
        {
          "output_type": "stream",
          "name": "stderr",
          "text": [
            "/usr/local/lib/python3.10/dist-packages/ipykernel/ipkernel.py:283: DeprecationWarning:\n",
            "\n",
            "`should_run_async` will not call `transform_cell` automatically in the future. Please pass the result to `transformed_cell` argument and any exception that happen during thetransform in `preprocessing_exc_tuple` in IPython 7.17 and above.\n",
            "\n"
          ]
        }
      ],
      "source": [
        "# Check how many unique products there are based on 'product_id'\n",
        "unique_products_count = frequent_items_reviews['product_id'].nunique()\n",
        "\n",
        "# Pretty printing the result\n",
        "print(f\"Total number of unique products in the reviews dataset: {unique_products_count}\")"
      ]
    },
    {
      "cell_type": "markdown",
      "metadata": {
        "id": "wfDjnsfUpIwY"
      },
      "source": [
        "# 4. Frequent Items"
      ]
    },
    {
      "cell_type": "code",
      "execution_count": 26,
      "metadata": {
        "colab": {
          "base_uri": "https://localhost:8080/",
          "height": 1000
        },
        "id": "ckUV5lovpIwY",
        "outputId": "c0e06892-a44b-4312-ba5f-1460a446b952"
      },
      "outputs": [
        {
          "output_type": "stream",
          "name": "stderr",
          "text": [
            "/usr/local/lib/python3.10/dist-packages/ipykernel/ipkernel.py:283: DeprecationWarning:\n",
            "\n",
            "`should_run_async` will not call `transform_cell` automatically in the future. Please pass the result to `transformed_cell` argument and any exception that happen during thetransform in `preprocessing_exc_tuple` in IPython 7.17 and above.\n",
            "\n"
          ]
        },
        {
          "output_type": "stream",
          "name": "stdout",
          "text": [
            "Users per group:\n",
            "2+ reviews: 117363 users\n",
            "3+ reviews: 55330 users\n",
            "4+ reviews: 30670 users\n",
            "5+ reviews: 18734 users\n",
            "6+ reviews: 12544 users\n",
            "7+ reviews: 9002 users\n",
            "8+ reviews: 6894 users\n",
            "9+ reviews: 5526 users\n",
            "10+ reviews: 4610 users\n",
            "20+ reviews: 1574 users\n",
            "30+ reviews: 825 users\n",
            "40+ reviews: 457 users\n",
            "50+ reviews: 255 users\n",
            "60+ reviews: 138 users\n",
            "70+ reviews: 77 users\n",
            "80+ reviews: 33 users\n",
            "90+ reviews: 13 users\n",
            "100+ reviews: 7 users\n",
            "110+ reviews: 6 users\n",
            "120+ reviews: 4 users\n",
            "130+ reviews: 2 users\n",
            "140+ reviews: 1 users\n",
            "150+ reviews: 1 users\n",
            "160+ reviews: 1 users\n",
            "170+ reviews: 1 users\n",
            "180+ reviews: 1 users\n",
            "190+ reviews: 1 users\n",
            "200+ reviews: 1 users\n",
            "210+ reviews: 0 users\n"
          ]
        },
        {
          "output_type": "display_data",
          "data": {
            "text/plain": [
              "<Figure size 1200x600 with 1 Axes>"
            ],
            "image/png": "[encoded data removed]"
          },
          "metadata": {}
        }
      ],
      "source": [
        "# Step 1: Aggregate reviews by user\n",
        "user_review_counts = frequent_items_reviews.groupby('author_id')['product_id'].nunique()\n",
        "\n",
        "# Step 2: Define thresholds for grouping\n",
        "thresholds = list(range(2, 11)) + [20, 30] + list(range(40, user_review_counts.max() + 10, 10))\n",
        "\n",
        "# Step 3: Count users per group\n",
        "users_per_group = []\n",
        "\n",
        "for t in thresholds:\n",
        "    count = (user_review_counts >= t).sum()\n",
        "    users_per_group.append(count)\n",
        "\n",
        "# Step 4: Display results\n",
        "print(\"Users per group:\")\n",
        "for t, count in zip(thresholds, users_per_group):\n",
        "    print(f\"{t}+ reviews: {count} users\")\n",
        "\n",
        "plt.figure(figsize=(12, 6))\n",
        "plt.bar([str(t) + \"+\" for t in thresholds], users_per_group, color=\"skyblue\", alpha=0.8)\n",
        "plt.title(\"Number of Users per Group Based on Minimum Reviews\")\n",
        "plt.xlabel(\"Minimum Reviews per User\")\n",
        "plt.ylabel(\"Number of Users\")\n",
        "plt.xticks(rotation=45)\n",
        "plt.grid(axis='y', linestyle='--', alpha=0.7)\n",
        "plt.show()"
      ]
    },
    {
      "cell_type": "markdown",
      "metadata": {
        "id": "zWBMDtXIpIwY"
      },
      "source": [
        "## Threshold on users with 10+ reviews"
      ]
    },
    {
      "cell_type": "code",
      "execution_count": 27,
      "metadata": {
        "colab": {
          "base_uri": "https://localhost:8080/"
        },
        "id": "V746GEjMpIwY",
        "outputId": "339767a8-137e-441c-a47b-80cc7eaacc8a"
      },
      "outputs": [
        {
          "output_type": "stream",
          "name": "stderr",
          "text": [
            "/usr/local/lib/python3.10/dist-packages/ipykernel/ipkernel.py:283: DeprecationWarning:\n",
            "\n",
            "`should_run_async` will not call `transform_cell` automatically in the future. Please pass the result to `transformed_cell` argument and any exception that happen during thetransform in `preprocessing_exc_tuple` in IPython 7.17 and above.\n",
            "\n"
          ]
        },
        {
          "output_type": "stream",
          "name": "stdout",
          "text": [
            "Number of rows in the filtered dataframe: 95766\n",
            "Number of unique authors in the filtered dataframe: 4610\n"
          ]
        }
      ],
      "source": [
        "# Selecting users with 10+ reviews\n",
        "filtered_df = frequent_items_reviews.groupby('author_id').filter(lambda x: x['product_id'].nunique() > 9)\n",
        "\n",
        "# Display the filtered DataFrame\n",
        "print(f\"Number of rows in the filtered dataframe: {len(filtered_df)}\")\n",
        "print(f\"Number of unique authors in the filtered dataframe: {len(set(filtered_df['author_id']))}\")\n",
        "#set(filtered_df['author_id'])"
      ]
    },
    {
      "cell_type": "code",
      "execution_count": 28,
      "metadata": {
        "colab": {
          "base_uri": "https://localhost:8080/"
        },
        "id": "q8X9E_repIwY",
        "outputId": "f4f8a6f5-75d3-46b6-9850-0f51614ead9f"
      },
      "outputs": [
        {
          "output_type": "stream",
          "name": "stderr",
          "text": [
            "/usr/local/lib/python3.10/dist-packages/ipykernel/ipkernel.py:283: DeprecationWarning:\n",
            "\n",
            "`should_run_async` will not call `transform_cell` automatically in the future. Please pass the result to `transformed_cell` argument and any exception that happen during thetransform in `preprocessing_exc_tuple` in IPython 7.17 and above.\n",
            "\n"
          ]
        },
        {
          "output_type": "stream",
          "name": "stdout",
          "text": [
            "            author_id                                         product_id\n",
            "0          1000235057  P420652 P421275 P297524 P456412 P232903 P37584...\n",
            "1         10003868106  P420652 P480612 P375849 P375853 P472468 P37585...\n",
            "2          1001087549  P309308 P423688 P270594 P433520 P232915 P45621...\n",
            "3         10015807972  P420652 P427419 P454380 P480612 P427406 P42741...\n",
            "4         10021044780  P309308 P442840 P466123 P500633 P418346 P47641...\n",
            "...               ...                                                ...\n",
            "4605        998162812  P269122 P429952 P471237 P443833 P422022 P37970...\n",
            "4606        998179876  P309308 P429952 P270594 P442840 P466123 P44779...\n",
            "4607        998853649  P456398 P461159 P461933 P456213 P429242 P41561...\n",
            "4608       9990263118  P430337 P427406 P431180 P440307 P410400 P45567...\n",
            "4609  orderGen1698648  P443833 P428095 P455926 P502656 P446423 P45536...\n",
            "\n",
            "[4610 rows x 2 columns]\n"
          ]
        }
      ],
      "source": [
        "# Combining all the products reviewed for each person in the dataset\n",
        "selected_columns = filtered_df[['author_id', 'product_id']]\n",
        "\n",
        "# Convert product_id to string before applying 'join'\n",
        "combined_reviews = selected_columns.groupby('author_id')['product_id'].apply(lambda x: ' '.join(x.astype(str))).reset_index()\n",
        "\n",
        "print(combined_reviews)"
      ]
    },
    {
      "cell_type": "code",
      "execution_count": 29,
      "metadata": {
        "colab": {
          "base_uri": "https://localhost:8080/"
        },
        "id": "75ZaBdeRpIwY",
        "outputId": "49377879-a302-47dd-cc30-76a93b115639"
      },
      "outputs": [
        {
          "output_type": "stream",
          "name": "stderr",
          "text": [
            "/usr/local/lib/python3.10/dist-packages/ipykernel/ipkernel.py:283: DeprecationWarning:\n",
            "\n",
            "`should_run_async` will not call `transform_cell` automatically in the future. Please pass the result to `transformed_cell` argument and any exception that happen during thetransform in `preprocessing_exc_tuple` in IPython 7.17 and above.\n",
            "\n"
          ]
        },
        {
          "output_type": "stream",
          "name": "stdout",
          "text": [
            "      support   itemsets\n",
            "0    0.077007  (P232915)\n",
            "1    0.053145  (P269122)\n",
            "2    0.263341  (P270594)\n",
            "3    0.183080  (P309308)\n",
            "4    0.040347  (P379707)\n",
            "..        ...        ...\n",
            "189  0.047939  (P505049)\n",
            "190  0.069631  (P505054)\n",
            "191  0.036659  (P505139)\n",
            "192  0.031236  (P505158)\n",
            "193  0.033839    (P7880)\n",
            "\n",
            "[194 rows x 2 columns]\n"
          ]
        }
      ],
      "source": [
        "# Convert the 'reviews' into a list of transactions\n",
        "transactions = combined_reviews['product_id'].str.split().tolist()\n",
        "\n",
        "# Create a DataFrame for one-hot encoding\n",
        "# Flatten all unique items (reviews) and create a unique item list\n",
        "te = TransactionEncoder()\n",
        "te_array = te.fit(transactions).transform(transactions)\n",
        "df_encoded = pd.DataFrame(te_array, columns=te.columns_)\n",
        "\n",
        "# Apply the Apriori algorithm\n",
        "frequent_itemsets = apriori(df_encoded, min_support=0.03, use_colnames=True)\n",
        "\n",
        "# Focus on frequent itemsets containing only a single product (not pairs or larger sets)\n",
        "frequent_pairs = frequent_itemsets[frequent_itemsets['itemsets'].apply(len) == 1]\n",
        "\n",
        "# Generate association rules, with support as minimum of 3%\n",
        "rules = association_rules(frequent_itemsets, metric=\"support\", min_threshold=0.03, num_itemsets=len(frequent_itemsets))\n",
        "\n",
        "print(frequent_pairs)"
      ]
    },
    {
      "cell_type": "code",
      "execution_count": 30,
      "metadata": {
        "colab": {
          "base_uri": "https://localhost:8080/"
        },
        "id": "cJKJCmYppIwY",
        "outputId": "7024dbf3-5799-4687-9857-d6f956aa75ba"
      },
      "outputs": [
        {
          "output_type": "stream",
          "name": "stdout",
          "text": [
            "antecedents               consequents  support  confidence      lift\n",
            "    P270594                   P500633 0.148373    0.563427  1.990343\n",
            "    P500633                   P270594 0.148373    0.524138  1.990343\n",
            "    P503936                   P500633 0.127332    0.596545  2.107334\n",
            "    P500633                   P503936 0.127332    0.449808  2.107334\n",
            "    P503936                   P270594 0.122343    0.573171  2.176538\n",
            "    P270594                   P503936 0.122343    0.464580  2.176538\n",
            "    P500633                   P476414 0.113883    0.402299  1.877123\n",
            "    P476414                   P500633 0.113883    0.531377  1.877123\n",
            "    P476414                   P270594 0.110846    0.517206  1.964021\n",
            "    P270594                   P476414 0.110846    0.420923  1.964021\n",
            "    P500777                   P500633 0.106074    0.677285  2.392556\n",
            "    P500633                   P500777 0.106074    0.374713  2.392556\n",
            "    P500633                   P479841 0.105640    0.373180  2.139751\n",
            "    P479841                   P500633 0.105640    0.605721  2.139751\n",
            "    P500633                   P423688 0.102169    0.360920  1.368289\n",
            "    P423688                   P500633 0.102169    0.387336  1.368289\n",
            "    P479841                   P476414 0.100434    0.575871  2.687008\n",
            "    P476414                   P479841 0.100434    0.468623  2.687008\n",
            "    P479841                   P270594 0.096963    0.555970  2.111221\n",
            "    P270594                   P479841 0.096963    0.368204  2.111221\n",
            "    P482551                   P483076 0.091974    1.000000 10.872642\n",
            "    P483076                   P482551 0.091974    1.000000 10.872642\n",
            "    P270594                   P423688 0.090022    0.341845  1.295975\n",
            "    P423688                   P270594 0.090022    0.341283  1.295975\n",
            "    P270594                   P500777 0.086551    0.328666  2.098543\n",
            "    P500777                   P270594 0.086551    0.552632  2.098543\n",
            "    P270594                   P479327 0.084816    0.322076  2.082425\n",
            "    P479327                   P270594 0.084816    0.548387  2.082425\n",
            "    P503936                   P476414 0.084599    0.396341  1.849326\n",
            "    P476414                   P503936 0.084599    0.394737  1.849326\n",
            "    P500633                   P479327 0.083948    0.296552  1.917396\n",
            "    P479327                   P500633 0.083948    0.542777  1.917396\n",
            "    P500633                   P501760 0.083080    0.293487  2.442190\n",
            "    P501760                   P500633 0.083080    0.691336  2.442190\n",
            "    P423688                   P503936 0.081779    0.310033  1.452492\n",
            "    P503936                   P423688 0.081779    0.383130  1.452492\n",
            "    P482676                   P500633 0.081779    0.669627  2.365502\n",
            "    P500633                   P482676 0.081779    0.288889  2.365502\n",
            "    P270594          P500633, P503936 0.080043    0.303954  2.387099\n",
            "    P500633          P270594, P503936 0.080043    0.282759  2.311201\n",
            "    P503936          P270594, P500633 0.080043    0.375000  2.527412\n",
            "    P500633                   P501254 0.080043    0.282759  2.497159\n",
            "    P501254                   P500633 0.080043    0.706897  2.497159\n",
            "    P476414                   P442840 0.077657    0.362348  2.320035\n",
            "    P442840                   P476414 0.077657    0.497222  2.320035\n",
            "    P479327                   P476414 0.077007    0.497896  2.323180\n",
            "    P476414                   P479327 0.077007    0.359312  2.323180\n",
            "    P400259                   P270594 0.073753    0.579216  2.199495\n",
            "    P400259                   P500633 0.073753    0.579216  2.046121\n",
            "    P270594                   P400259 0.073753    0.280066  2.199495\n",
            "    P500633                   P400259 0.073753    0.260536  2.046121\n",
            "    P503936                   P500777 0.071584    0.335366  2.141325\n",
            "    P500777                   P503936 0.071584    0.457064  2.141325\n",
            "    P270594                   P482676 0.071584    0.271829  2.225808\n",
            "    P476414                   P469538 0.071584    0.334008  2.794514\n",
            "    P482676                   P270594 0.071584    0.586146  2.225808\n",
            "    P469538                   P476414 0.071584    0.598911  2.794514\n",
            "    P479841                   P503936 0.070716    0.405473  1.899623\n",
            "    P503936                   P479841 0.070716    0.331301  1.899623\n",
            "    P442840                   P270594 0.070065    0.448611  1.703540\n",
            "    P270594                   P442840 0.070065    0.266063  1.703540\n",
            "    P501760                   P270594 0.069848    0.581227  2.207132\n",
            "    P270594                   P501760 0.069848    0.265239  2.207132\n",
            "    P270594          P476414, P500633 0.069197    0.262768  2.307351\n",
            "    P500633          P270594, P476414 0.069197    0.244444  2.205262\n",
            "    P476414          P270594, P500633 0.069197    0.322874  2.176099\n",
            "    P411365                   P500633 0.068980    0.611538  2.160301\n",
            "    P500633                   P411365 0.068980    0.243678  2.160301\n",
            "    P500633                   P442840 0.068764    0.242912  1.555311\n",
            "    P442840                   P500633 0.068764    0.440278  1.555311\n",
            "    P479318                   P270594 0.068113    0.553792  2.102949\n",
            "    P270594                   P479318 0.068113    0.258649  2.102949\n",
            "    P482676                   P476414 0.067679    0.554174  2.585772\n",
            "    P476414                   P482676 0.067679    0.315789  2.585772\n",
            "    P479327                   P479841 0.066811    0.431978  2.476886\n",
            "    P479318                   P500633 0.066811    0.543210  1.918925\n",
            "    P500633                   P479318 0.066811    0.236015  1.918925\n",
            "    P479841                   P479327 0.066811    0.383085  2.476886\n",
            "    P270594          P479841, P500633 0.066594    0.252883  2.393821\n",
            "    P479841          P270594, P500633 0.066594    0.381841  2.573518\n",
            "    P500633          P270594, P479841 0.066594    0.235249  2.426170\n",
            "    P400259                   P503936 0.065727    0.516184  2.418301\n",
            "    P503936                   P400259 0.065727    0.307927  2.418301\n",
            "    P469538                   P500633 0.064208    0.537205  1.897713\n",
            "    P500633                   P469538 0.064208    0.226820  1.897713\n",
            "    P476414                   P423688 0.064208    0.299595  1.135801\n",
            "    P423688                   P476414 0.064208    0.243421  1.135801\n",
            "    P503726                   P500633 0.063991    0.591182  2.088391\n",
            "    P500633                   P503726 0.063991    0.226054  2.088391\n",
            "    P476414                   P423148 0.063774    0.297571  2.863886\n",
            "    P423148                   P476414 0.063774    0.613779  2.863886\n",
            "    P270594                   P501254 0.063557    0.241351  2.131471\n",
            "    P501254                   P270594 0.063557    0.561303  2.131471\n",
            "    P500633                   P505031 0.063124    0.222989  2.210703\n",
            "    P505031                   P500633 0.063124    0.625806  2.210703\n",
            "    P309308                   P423688 0.062907    0.343602  1.302635\n",
            "    P423688                   P309308 0.062907    0.238487  1.302635\n",
            "    P479841          P476414, P500633 0.062473    0.358209  3.145416\n",
            "    P476414          P479841, P500633 0.062473    0.291498  2.759355\n",
            "    P500633          P479841, P476414 0.062473    0.220690  2.197364\n",
            "    P471237                   P423688 0.062039    0.428144  1.623144\n",
            "    P423688                   P471237 0.062039    0.235197  1.623144\n",
            "    P479318                   P476414 0.061605    0.500882  2.337111\n",
            "    P476414                   P479318 0.061605    0.287449  2.337111\n",
            "    P270594                   P503726 0.061605    0.233937  2.161225\n",
            "    P503726                   P270594 0.061605    0.569138  2.161225\n",
            "    P500777                   P476414 0.061388    0.391967  1.828914\n",
            "    P476414                   P500777 0.061388    0.286437  1.828914\n",
            "    P270594          P500633, P500777 0.061171    0.232290  2.189891\n",
            "    P500633          P270594, P500777 0.061171    0.216092  2.496702\n",
            "    P500777          P270594, P500633 0.061171    0.390582  2.632429\n",
            "    P479645                   P500633 0.060738    0.658824  2.327338\n",
            "    P500633                   P479645 0.060738    0.214559  2.327338\n",
            "    P270594                   P411365 0.060521    0.229819  2.037432\n",
            "    P411365                   P270594 0.060521    0.536538  2.037432\n",
            "    P482535                   P500633 0.060304    0.612335  2.163114\n",
            "    P500633                   P482535 0.060304    0.213027  2.163114\n",
            "    P270594          P479841, P476414 0.059870    0.227348  2.263655\n",
            "    P476414          P270594, P479841 0.059870    0.279352  2.881015\n",
            "    P479841          P270594, P476414 0.059870    0.343284  3.096942\n",
            "    P479841                   P500777 0.059219    0.339552  2.168055\n",
            "    P500777                   P479841 0.059219    0.378116  2.168055\n",
            "    P442840                   P479841 0.058785    0.376389  2.158150\n",
            "    P270594                   P423148 0.058785    0.223229  2.148404\n",
            "    P479327                   P503936 0.058785    0.380084  1.780679\n",
            "    P503936                   P479327 0.058785    0.275407  1.780679\n",
            "    P479841                   P442840 0.058785    0.337065  2.158150\n",
            "    P423148                   P270594 0.058785    0.565762  2.148404\n",
            "    P479841                   P482676 0.058568    0.335821  2.749795\n",
            "    P482676                   P479841 0.058568    0.479574  2.749795\n",
            "    P474832                   P476414 0.058568    0.636792  2.971268\n",
            "    P476414                   P474832 0.058568    0.273279  2.971268\n",
            "    P479841                   P479318 0.058134    0.333333  2.710170\n",
            "    P479318                   P479841 0.058134    0.472663  2.710170\n",
            "    P500633          P476414, P503936 0.057701    0.203831  2.409392\n",
            "    P471237                   P500633 0.057701    0.398204  1.406681\n",
            "    P500633                   P471237 0.057701    0.203831  1.406681\n",
            "    P503936                   P501760 0.057701    0.270325  2.249457\n",
            "    P503936          P476414, P500633 0.057701    0.270325  2.373713\n",
            "    P501760                   P503936 0.057701    0.480144  2.249457\n",
            "    P476414          P500633, P503936 0.057701    0.269231  2.114402\n",
            "    P503726                   P503936 0.057484    0.531062  2.488004\n",
            "    P469538                   P270594 0.057484    0.480944  1.826318\n",
            "    P270594                   P469538 0.057484    0.218287  1.826318\n",
            "    P500288                   P500633 0.057484    0.716216  2.530082\n",
            "    P503936                   P503726 0.057484    0.269309  2.488004\n",
            "    P500633                   P500288 0.057484    0.203065  2.530082\n",
            "    P423688                   P479841 0.057267    0.217105  1.244845\n",
            "    P500633          P270594, P423688 0.057267    0.202299  2.247223\n",
            "    P423688          P270594, P500633 0.057267    0.217105  1.463239\n",
            "    P479841                   P423688 0.057267    0.328358  1.244845\n",
            "    P270594          P423688, P500633 0.057267    0.217463  2.128459\n",
            "    P476414                   P471043 0.057267    0.267206  3.199537\n",
            "    P471043                   P476414 0.057267    0.685714  3.199537\n",
            "    P500633                   P481739 0.056833    0.200766  1.912257\n",
            "    P423148                   P500633 0.056833    0.546973  1.932218\n",
            "    P500633                   P423148 0.056833    0.200766  1.932218\n",
            "    P481739                   P500633 0.056833    0.541322  1.912257\n",
            "    P481739                   P270594 0.056616    0.539256  2.047752\n",
            "    P270594                   P481739 0.056616    0.214992  2.047752\n",
            "    P466123                   P476414 0.056399    0.446735  2.084464\n",
            "    P476414                   P466123 0.056399    0.263158  2.084464\n",
            "    P423688                   P500777 0.056182    0.212993  1.359972\n",
            "    P503936                   P482676 0.056182    0.263211  2.155248\n",
            "    P482676                   P503936 0.056182    0.460036  2.155248\n",
            "    P500777                   P423688 0.056182    0.358726  1.359972\n",
            "    P482551          P483076, P500633 0.055965    0.608491 10.872642\n",
            "    P483076          P500633, P482551 0.055965    0.608491 10.872642\n",
            "    P500633          P483076, P482551 0.055965    0.197701  2.149534\n",
            "    P482551                   P500633 0.055965    0.608491  2.149534\n",
            "    P500633                   P483076 0.055965    0.197701  2.149534\n",
            "    P500633                   P482551 0.055965    0.197701  2.149534\n",
            "    P483076                   P500633 0.055965    0.608491  2.149534\n",
            "    P455236                   P476414 0.055748    0.617788  2.882596\n",
            "    P477157                   P476414 0.055748    0.652284  3.043553\n",
            "    P476414                   P477157 0.055748    0.260121  3.043553\n",
            "    P476414                   P455236 0.055748    0.260121  2.882596\n",
            "    P500633                   P505023 0.055315    0.195402  2.061338\n",
            "    P505023                   P500633 0.055315    0.583524  2.061338\n",
            "    P505031                   P270594 0.055315    0.548387  2.082425\n",
            "    P483076          P270594, P482551 0.055315    0.601415 10.872642\n",
            "    P270594          P483076, P482551 0.055315    0.210049  2.283792\n",
            "    P482551          P270594, P483076 0.055315    0.601415 10.872642\n",
            "    P482551                   P270594 0.055315    0.601415  2.283792\n",
            "    P270594                   P505031 0.055315    0.210049  2.082425\n",
            "    P270594                   P483076 0.055315    0.210049  2.283792\n",
            "    P270594                   P482551 0.055315    0.210049  2.283792\n",
            "    P483076                   P270594 0.055315    0.601415  2.283792\n",
            "    P270594                   P479645 0.055098    0.209226  2.269483\n",
            "    P479645                   P270594 0.055098    0.597647  2.269483\n",
            "    P479327                   P442840 0.054881    0.354839  2.271953\n",
            "    P442840                   P479327 0.054881    0.351389  2.271953\n",
            "    P476414          P270594, P503936 0.054447    0.254049  2.076532\n",
            "    P270594          P476414, P503936 0.054447    0.206755  2.443945\n",
            "    P503936          P270594, P476414 0.054447    0.255081  2.301223\n",
            "    P309308                   P270594 0.054013    0.295024  1.120312\n",
            "    P270594                   P309308 0.054013    0.205107  1.120312\n",
            "    P503936                   P411365 0.054013    0.253049  2.243375\n",
            "    P411365                   P503936 0.054013    0.478846  2.243375\n",
            "    P500857                   P500633 0.053579    0.656915  2.320596\n",
            "    P500633                   P500857 0.053579    0.189272  2.320596\n",
            "    P479841                   P469538 0.053579    0.307214  2.570338\n",
            "    P469538                   P479841 0.053579    0.448276  2.570338\n",
            "    P500633          P500777, P503936 0.053362    0.188506  2.633368\n",
            "    P500777          P500633, P503936 0.053362    0.340720  2.675844\n",
            "    P503936          P500633, P500777 0.053362    0.250000  2.356851\n",
            "    P476414                   P471237 0.053145    0.247976  1.711329\n",
            "    P501760                   P501254 0.053145    0.442238  3.905591\n",
            "    P501254                   P501760 0.053145    0.469349  3.905591\n",
            "    P471237                   P476414 0.053145    0.366766  1.711329\n",
            "    P423688          P500633, P503936 0.052928    0.200658  1.575865\n",
            "    P476414                   P442838 0.052928    0.246964  2.964849\n",
            "    P500633                   P474832 0.052928    0.186973  2.032892\n",
            "    P500633          P423688, P503936 0.052928    0.186973  2.286330\n",
            "    P476414                   P479645 0.052928    0.246964  2.678828\n",
            "    P503936          P423688, P500633 0.052928    0.247967  2.427028\n",
            "    P474832                   P500633 0.052928    0.575472  2.032892\n",
            "    P501760          P270594, P500633 0.052928    0.440433  2.968417\n",
            "    P500633          P270594, P501760 0.052928    0.186973  2.676852\n",
            "    P270594          P500633, P501760 0.052928    0.200988  2.419208\n",
            "    P479645                   P476414 0.052928    0.574118  2.678828\n",
            "    P442838                   P476414 0.052928    0.635417  2.964849\n",
            "    P423148                   P479841 0.052495    0.505219  2.896841\n",
            "    P479841                   P423148 0.052495    0.300995  2.896841\n",
            "    P270594                   P471237 0.052278    0.198517  1.370007\n",
            "    P471237                   P270594 0.052278    0.360778  1.370007\n",
            "    P500633          P270594, P479327 0.052278    0.184674  2.177362\n",
            "    P309308                   P471237 0.052278    0.285545  1.970603\n",
            "    P471237                   P309308 0.052278    0.360778  1.970603\n",
            "    P479327          P270594, P500633 0.052278    0.338008  2.278098\n",
            "    P270594          P479327, P500633 0.052278    0.198517  2.364767\n",
            "    P500777                   P501760 0.052061    0.332410  2.766083\n",
            "    P501760                   P500777 0.052061    0.433213  2.766083\n",
            "    P309308                   P476414 0.051844    0.283175  1.321294\n",
            "    P455236                   P466123 0.051844    0.574519  4.550745\n",
            "    P466123                   P455236 0.051844    0.410653  4.550745\n",
            "    P476414                   P309308 0.051844    0.241903  1.321294\n",
            "    P270594          P500633, P482676 0.051627    0.196046  2.397275\n",
            "    P423688                   P442840 0.051627    0.195724  1.253175\n",
            "    P482676          P270594, P500633 0.051627    0.422735  2.849137\n",
            "    P500633          P270594, P482676 0.051627    0.182375  2.547730\n",
            "    P442840                   P423688 0.051627    0.330556  1.253175\n",
            "    P423688          P270594, P503936 0.050976    0.193257  1.579633\n",
            "    P503936          P270594, P423688 0.050976    0.238821  2.652929\n",
            "    P505031                   P505023 0.050976    0.505376  5.331316\n",
            "    P505023                   P505031 0.050976    0.537757  5.331316\n",
            "    P270594          P423688, P503936 0.050976    0.193575  2.367057\n",
            "    P500633                   P466123 0.050759    0.179310  1.420310\n",
            "    P466123                   P500633 0.050759    0.402062  1.420310\n",
            "    P500857                   P270594 0.050759    0.622340  2.363253\n",
            "    P270594                   P500857 0.050759    0.192751  2.363253\n",
            "    P309308                   P442840 0.050542    0.276066  1.767591\n",
            "    P442840                   P309308 0.050542    0.323611  1.767591\n",
            "    P505009                   P505023 0.050542    0.605195  6.384320\n",
            "    P479327                   P479318 0.050542    0.326788  2.656955\n",
            "    P479318                   P479327 0.050542    0.410935  2.656955\n",
            "    P505023                   P505009 0.050542    0.533181  6.384320\n",
            "    P442840                   P471237 0.050325    0.322222  2.223719\n",
            "    P466123                   P270594 0.050325    0.398625  1.513726\n",
            "    P471237                   P442840 0.050325    0.347305  2.223719\n",
            "    P476414                   P411365 0.050325    0.234818  2.081750\n",
            "    P270594                   P466123 0.050325    0.191104  1.513726\n",
            "    P411365                   P476414 0.050325    0.446154  2.081750\n",
            "    P500633                   P481831 0.050325    0.177778  1.710972\n",
            "    P481831                   P500633 0.050325    0.484342  1.710972\n",
            "    P505054                   P505023 0.050108    0.719626  7.591480\n",
            "    P477157                   P500633 0.050108    0.586294  2.071124\n",
            "    P505023                   P505054 0.050108    0.528604  7.591480\n",
            "    P500633                   P309308 0.050108    0.177011  0.966852\n",
            "    P309308                   P500633 0.050108    0.273697  0.966852\n",
            "    P500633                   P477157 0.050108    0.177011  2.071124\n",
            "    P479327                   P500777 0.049892    0.322581  2.059691\n",
            "    P479841          P500633, P503936 0.049892    0.286070  2.246646\n",
            "    P500777                   P479327 0.049892    0.318560  2.059691\n",
            "    P500633          P479841, P503936 0.049892    0.176245  2.492302\n",
            "    P503936          P479841, P500633 0.049892    0.233740  2.212609\n",
            "    P500633          P270594, P501254 0.049675    0.175479  2.760948\n",
            "    P500633                   P503668 0.049675    0.175479  2.134453\n",
            "    P503668                   P500633 0.049675    0.604222  2.134453\n",
            "    P270594          P501254, P500633 0.049675    0.188633  2.356630\n",
            "    P501254          P270594, P500633 0.049675    0.438697  2.956717\n",
            "    P471237                   P479841 0.049241    0.339820  1.948472\n",
            "    P500288                   P270594 0.049241    0.613514  2.329734\n",
            "    P479841                   P471237 0.049241    0.282338  1.948472\n",
            "    P270594                   P500288 0.049241    0.186985  2.329734\n",
            "    P474832                   P270594 0.049024    0.533019  2.024067\n",
            "    P270594                   P474832 0.049024    0.186161  2.024067\n",
            "    P481739                   P476414 0.049024    0.466942  2.178748\n",
            "    P476414                   P481739 0.049024    0.228745  2.178748\n",
            "    P270594                   P503668 0.049024    0.186161  2.264391\n",
            "    P503668                   P270594 0.049024    0.596306  2.264391\n",
            "    P481989                   P500633 0.048807    0.589005  2.080700\n",
            "    P500633                   P481989 0.048807    0.172414  2.080700\n",
            "    P503936                   P501254 0.048590    0.227642  2.010404\n",
            "    P501254                   P503936 0.048590    0.429119  2.010404\n",
            "    P501760                   P479327 0.048590    0.404332  2.614265\n",
            "    P479318                   P442840 0.048590    0.395062  2.529492\n",
            "    P479327                   P501760 0.048590    0.314165  2.614265\n",
            "    P442840                   P479318 0.048590    0.311111  2.529492\n",
            "    P400259          P270594, P500633 0.048373    0.379898  2.560422\n",
            "    P500633          P270594, P400259 0.048373    0.170881  2.316948\n",
            "    P270594          P400259, P500633 0.048373    0.183690  2.490624\n",
            "    P500777          P270594, P503936 0.048156    0.307479  2.513261\n",
            "    P500777                   P501254 0.048156    0.307479  2.715477\n",
            "    P501254                   P500777 0.048156    0.425287  2.715477\n",
            "    P476414                   P442839 0.048156    0.224696  3.082888\n",
            "    P442839                   P476414 0.048156    0.660714  3.082888\n",
            "    P270594          P500777, P503936 0.048156    0.182867  2.554590\n",
            "    P503936          P270594, P500777 0.048156    0.225610  2.606669\n",
            "    P482540                   P500633 0.047939    0.631429  2.230564\n",
            "    P477157                   P270594 0.047939    0.560914  2.129994\n",
            "    P270594                   P477157 0.047939    0.182043  2.129994\n",
            "    P500633                   P482540 0.047939    0.169349  2.230564\n",
            "    P400259                   P423688 0.047722    0.374787  1.420862\n",
            "    P423688                   P400259 0.047722    0.180921  1.420862\n",
            "    P503936                   P505031 0.047722    0.223577  2.216540\n",
            "    P479327                   P423688 0.047722    0.308555  1.169770\n",
            "    P423688                   P479327 0.047722    0.180921  1.169770\n",
            "    P505031                   P503936 0.047722    0.473118  2.216540\n",
            "    P270594          P476414, P442840 0.047505    0.180395  2.322969\n",
            "    P442840          P270594, P476414 0.047505    0.304167  2.744048\n",
            "    P476414          P270594, P442840 0.047505    0.221660  3.163629\n",
            "    P479327          P270594, P476414 0.047289    0.305750  2.758335\n",
            "    P482676                   P500777 0.047289    0.387211  2.472361\n",
            "    P500633                   P505009 0.047289    0.167050  2.000259\n",
            "    P500777                   P400259 0.047289    0.301939  2.371276\n",
            "    P400259                   P500777 0.047289    0.371380  2.371276\n",
            "    P505009                   P500633 0.047289    0.566234  2.000259\n",
            "    P500777                   P482676 0.047289    0.301939  2.472361\n",
            "    P270594          P479327, P476414 0.047289    0.179572  2.331902\n",
            "    P476414          P270594, P479327 0.047289    0.220648  2.601499\n",
            "    P479318          P270594, P500633 0.046855    0.380952  2.567530\n",
            "    P270594          P479318, P500633 0.046855    0.177924  2.663087\n",
            "    P500633          P270594, P479318 0.046855    0.165517  2.430046\n",
            "    P474075                   P476414 0.046638    0.754386  3.519959\n",
            "    P476414                   P482535 0.046638    0.217611  2.209666\n",
            "    P476414                   P474075 0.046638    0.217611  3.519959\n",
            "    P482535                   P476414 0.046638    0.473568  2.209666\n",
            "    P503936                   P469538 0.046421    0.217480  1.819567\n",
            "    P471046                   P418624 0.046421    0.652439  8.308685\n",
            "    P482676                   P423688 0.046421    0.380107  1.441029\n",
            "    P423688                   P482676 0.046421    0.175987  1.441029\n",
            "    P469538                   P503936 0.046421    0.388385  1.819567\n",
            "    P503936                   P442840 0.046421    0.217480  1.392474\n",
            "    P418624                   P471046 0.046421    0.591160  8.308685\n",
            "    P442840                   P503936 0.046421    0.297222  1.392474\n",
            "    P476414                   P501254 0.046204    0.215587  1.903939\n",
            "    P500633          P479327, P476414 0.046204    0.163218  2.119540\n",
            "    P479841                   P474832 0.046204    0.264925  2.880439\n",
            "    P270594                   P455236 0.046204    0.175453  1.944323\n",
            "    P476414          P479327, P500633 0.046204    0.215587  2.568104\n",
            "    P479327          P476414, P500633 0.046204    0.298738  2.623202\n",
            "    P455236                   P270594 0.046204    0.512019  1.944323\n",
            "    P474832                   P479841 0.046204    0.502358  2.880439\n",
            "    P501254                   P476414 0.046204    0.408046  1.903939\n",
            "    P503668                   P503936 0.045987    0.559367  2.620611\n",
            "    P503936                   P503668 0.045987    0.215447  2.620611\n",
            "    P479318                   P503936 0.045770    0.372134  1.743433\n",
            "    P479841                   P481739 0.045770    0.262438  2.499666\n",
            "    P505023                   P270594 0.045770    0.482838  1.833510\n",
            "    P270594                   P505023 0.045770    0.173806  1.833510\n",
            "    P503936                   P479318 0.045770    0.214431  1.743433\n",
            "    P476414          P500633, P482676 0.045770    0.213563  2.611470\n",
            "    P481739                   P479841 0.045770    0.435950  2.499666\n",
            "    P503936                   P309308 0.045770    0.214431  1.171240\n",
            "    P479318                   P423688 0.045770    0.372134  1.410804\n",
            "    P423688                   P479318 0.045770    0.173520  1.410804\n",
            "    P500633          P476414, P482676 0.045770    0.161686  2.389012\n",
            "    P482676          P476414, P500633 0.045770    0.374778  3.290908\n",
            "    P309308                   P503936 0.045770    0.250000  1.171240\n",
            "    P479318                   P482676 0.045553    0.370370  3.032695\n",
            "    P482676                   P479318 0.045553    0.373002  3.032695\n",
            "    P505031                   P505009 0.045336    0.449462  5.381874\n",
            "    P442840                   P423148 0.045336    0.290278  2.793696\n",
            "    P423148                   P442840 0.045336    0.436326  2.793696\n",
            "    P505009                   P505031 0.045336    0.542857  5.381874\n",
            "    P479841                   P477157 0.045119    0.258706  3.026997\n",
            "    P270594          P479841, P503936 0.045119    0.171334  2.422858\n",
            "    P503936          P270594, P479841 0.045119    0.211382  2.180026\n",
            "    P442840          P476414, P500633 0.045119    0.288889  2.536720\n",
            "    P500633          P270594, P442840 0.045119    0.159387  2.274842\n",
            "    P442840          P270594, P500633 0.045119    0.288889  1.947044\n",
            "    P476414          P500633, P442840 0.045119    0.210526  3.061597\n",
            "    P501760                   P476414 0.045119    0.375451  1.751853\n",
            "    P476414                   P501760 0.045119    0.210526  1.751853\n",
            "    P477157                   P479841 0.045119    0.527919  3.026997\n",
            "    P500633          P476414, P442840 0.045119    0.159387  2.052441\n",
            "    P270594          P500633, P442840 0.045119    0.171334  2.491646\n",
            "    P479841          P270594, P503936 0.045119    0.258706  2.114604\n",
            "    P482551          P483076, P476414 0.044902    0.488208 10.872642\n",
            "    P481732                   P500633 0.044902    0.612426  2.163436\n",
            "    P500633                   P481732 0.044902    0.158621  2.163436\n",
            "    P482676          P270594, P476414 0.044902    0.367673  3.316973\n",
            "    P270594          P476414, P482676 0.044902    0.170511  2.519405\n",
            "    P476414          P483076, P482551 0.044902    0.209514  2.277972\n",
            "    P483076          P476414, P482551 0.044902    0.488208 10.872642\n",
            "    P476414          P270594, P482676 0.044902    0.209514  2.926849\n",
            "    P503936                   P479645 0.044902    0.210366  2.281851\n",
            "    P423688                   P411365 0.044902    0.170230  1.509157\n",
            "    P476414                   P482551 0.044902    0.209514  2.277972\n",
            "    P482551                   P476414 0.044902    0.488208  2.277972\n",
            "    P479645                   P503936 0.044902    0.487059  2.281851\n",
            "    P505023                   P505024 0.044902    0.473684  7.183172\n",
            "    P476414                   P483076 0.044902    0.209514  2.277972\n",
            "    P411365                   P423688 0.044902    0.398077  1.509157\n",
            "    P505024                   P505023 0.044902    0.680921  7.183172\n",
            "    P483076                   P476414 0.044902    0.488208  2.277972\n",
            "    P483076          P482551, P503936 0.044469    0.483491 10.872642\n",
            "    P500633                   P455236 0.044469    0.157088  1.740808\n",
            "    P500633          P501760, P503936 0.044469    0.157088  2.722467\n",
            "    P501760          P500633, P503936 0.044469    0.370036  2.906076\n",
            "    P503936          P483076, P482551 0.044469    0.208333  2.265134\n",
            "    P500777          P476414, P500633 0.044469    0.283934  2.493207\n",
            "    P476414                   P461949 0.044469    0.207490  2.725152\n",
            "    P461949                   P476414 0.044469    0.584046  2.725152\n",
            "    P500633          P476414, P500777 0.044469    0.157088  2.558927\n",
            "    P503936          P500633, P501760 0.044469    0.208333  2.507615\n",
            "    P483076                   P503936 0.044469    0.483491  2.265134\n",
            "    P503936                   P483076 0.044469    0.208333  2.265134\n",
            "    P455236                   P500633 0.044469    0.492788  1.740808\n",
            "    P505031                   P505054 0.044469    0.440860  6.331357\n",
            "    P476414          P500633, P500777 0.044469    0.207490  1.956091\n",
            "    P482551          P483076, P503936 0.044469    0.483491 10.872642\n",
            "    P482551                   P503936 0.044469    0.483491  2.265134\n",
            "    P505054                   P505031 0.044469    0.638629  6.331357\n",
            "    P503936                   P482551 0.044469    0.208333  2.265134\n",
            "    P479841          P500633, P500777 0.044252    0.253731  2.392028\n",
            "    P479327                   P482676 0.044252    0.286115  2.342789\n",
            "    P482676                   P479327 0.044252    0.362345  2.342789\n",
            "    P500633          P479841, P500777 0.044252    0.156322  2.639720\n",
            "    P500777          P479841, P500633 0.044252    0.282548  2.674638\n",
            "    P270594                   P481831 0.044035    0.167216  1.609321\n",
            "    P481831                   P270594 0.044035    0.423800  1.609321\n",
            "    P270594                   P482535 0.044035    0.167216  1.697940\n",
            "    P466123                   P309308 0.044035    0.348797  1.905160\n",
            "    P418624                   P270594 0.044035    0.560773  2.129461\n",
            "    P270594                   P418624 0.044035    0.167216  2.129461\n",
            "    P309308                   P466123 0.044035    0.240521  1.905160\n",
            "    P479841                   P411365 0.044035    0.252488  2.238399\n",
            "    P411365                   P479841 0.044035    0.390385  2.238399\n",
            "    P482535                   P270594 0.044035    0.447137  1.697940\n",
            "    P482540                   P503936 0.044035    0.580000  2.717276\n",
            "    P503936                   P482540 0.044035    0.206301  2.717276\n",
            "    P466123                   P442840 0.044035    0.348797  2.233271\n",
            "    P442840                   P466123 0.044035    0.281944  2.233271\n",
            "    P479841          P476414, P503936 0.043818    0.251244  2.969830\n",
            "    P503936          P479841, P476414 0.043818    0.205285  2.043978\n",
            "    P500633                   P500993 0.043818    0.154789  2.188891\n",
            "    P500633                   P433520 0.043818    0.154789  1.575229\n",
            "    P500993                   P500633 0.043818    0.619632  2.188891\n",
            "    P503879                   P423688 0.043818    0.521964  1.978827\n",
            "    P476414          P479841, P503936 0.043818    0.204453  2.891197\n",
            "    P433520                   P500633 0.043818    0.445916  1.575229\n",
            "    P423688                   P503879 0.043818    0.166118  1.978827\n",
            "    P400259                   P501760 0.043601    0.342419  2.849372\n",
            "    P501760                   P400259 0.043601    0.362816  2.849372\n",
            "    P270594                   P471043 0.043601    0.165568  1.982520\n",
            "    P400259          P500633, P503936 0.043601    0.342419  2.689186\n",
            "    P455236                   P479841 0.043601    0.483173  2.770433\n",
            "    P479327          P479841, P476414 0.043601    0.281907  2.806897\n",
            "    P471043                   P270594 0.043601    0.522078  1.982520\n",
            "    P500633          P400259, P503936 0.043601    0.154023  2.343386\n",
            "    P503936          P400259, P500633 0.043601    0.204268  2.769638\n",
            "    P476414          P479841, P479327 0.043601    0.203441  3.045014\n",
            "    P479841                   P455236 0.043601    0.250000  2.770433\n",
            "    P479841          P479327, P476414 0.043601    0.250000  3.246479\n",
            "    P479841                   P466123 0.043384    0.248756  1.970389\n",
            "    P466123                   P479841 0.043384    0.343643  1.970389\n",
            "    P481739                   P503936 0.043384    0.413223  1.935934\n",
            "    P503936                   P481739 0.043384    0.203252  1.935934\n",
            "    P500633                   P461949 0.043384    0.153257  2.012859\n",
            "    P461949                   P500633 0.043384    0.569801  2.012859\n",
            "    P270594 P479841, P476414, P500633 0.043167    0.163921  2.623873\n",
            "    P270594                   P442838 0.043167    0.163921  1.967905\n",
            "    P500633          P479841, P479327 0.043167    0.152490  2.282405\n",
            "    P442838                   P270594 0.043167    0.518229  1.967905\n",
            "    P500633 P270594, P479841, P476414 0.043167    0.152490  2.547032\n",
            "    P476414                   P400259 0.043167    0.201417  1.581827\n",
            "    P400259                   P476414 0.043167    0.339012  1.581827\n",
            "    P479841 P270594, P476414, P500633 0.043167    0.247512  3.576904\n",
            "    P479327          P479841, P500633 0.043167    0.279102  2.642016\n",
            "    P400259                   P503726 0.043167    0.339012  3.131954\n",
            "    P503726                   P400259 0.043167    0.398798  3.131954\n",
            "    P479841          P479327, P500633 0.043167    0.247512  2.948404\n",
            "    P476414 P270594, P479841, P500633 0.043167    0.201417  3.024535\n",
            "    P500633                   P471046 0.043167    0.152490  2.143234\n",
            "    P471046                   P500633 0.043167    0.606707  2.143234\n",
            "    P501254                   P479841 0.042950    0.379310  2.174901\n",
            "    P479841                   P501254 0.042950    0.246269  2.174901\n",
            "    P500777                   P503726 0.042950    0.274238  2.533544\n",
            "    P503726                   P500777 0.042950    0.396794  2.533544\n",
            "    P270594                   P442839 0.042733    0.162273  2.226431\n",
            "    P442839                   P270594 0.042733    0.586310  2.226431\n",
            "    P442840                   P477157 0.042733    0.273611  3.201389\n",
            "    P477157                   P442840 0.042733    0.500000  3.201389\n",
            "    P479327                   P423148 0.042733    0.276297  2.659146\n",
            "    P423148                   P479327 0.042733    0.411273  2.659146\n",
            "    P270594          P400259, P503936 0.042733    0.162273  2.468913\n",
            "    P400259          P270594, P503936 0.042733    0.335605  2.743152\n",
            "    P503936          P270594, P400259 0.042733    0.200203  2.714521\n",
            "    P423688                   P503726 0.042516    0.161184  1.489097\n",
            "    P501760                   P479841 0.042516    0.353791  2.028576\n",
            "    P479841                   P501760 0.042516    0.243781  2.028576\n",
            "    P503726                   P423688 0.042516    0.392786  1.489097\n",
            "    P469538          P476414, P500633 0.042516    0.355717  3.123533\n",
            "    P423688                   P501760 0.042516    0.161184  1.341262\n",
            "    P501760                   P423688 0.042516    0.353791  1.341262\n",
            "    P500633          P469538, P476414 0.042516    0.150192  2.098131\n",
            "    P476414          P469538, P500633 0.042516    0.198381  3.089643\n",
            "    P505023                   P503936 0.042299    0.446224  2.090543\n",
            "    P476414          P270594, P479318 0.042299    0.197368  2.897670\n",
            "    P479318          P270594, P476414 0.042299    0.343915  3.102641\n",
            "    P503936                   P505023 0.042299    0.198171  2.090543\n",
            "    P270594          P476414, P479318 0.042299    0.160626  2.607345\n",
            "    P479348                   P476414 0.042082    0.644518  3.007317\n",
            "    P476414                   P479348 0.042082    0.196356  3.007317\n",
            "    P500633          P270594, P411365 0.042082    0.148659  2.456337\n",
            "    P505024                   P505031 0.042082    0.638158  6.326684\n",
            "    P500633          P479841, P482676 0.042082    0.148659  2.538215\n",
            "    P270594          P411365, P500633 0.042082    0.159802  2.316631\n",
            "    P411365          P270594, P500633 0.042082    0.373077  2.514451\n",
            "    P482676          P479841, P500633 0.042082    0.344583  3.261860\n",
            "    P479841          P500633, P482676 0.042082    0.241294  2.950565\n",
            "    P505031                   P505024 0.042082    0.417204  6.326684\n",
            "    P505054                   P500633 0.041866    0.601246  2.123942\n",
            "    P500633                   P503814 0.041866    0.147893  2.383865\n",
            "    P500633                   P505054 0.041866    0.147893  2.123942\n",
            "    P503814                   P500633 0.041866    0.674825  2.383865\n",
            "    P503936          P500633, P482676 0.041649    0.195122  2.385974\n",
            "    P500633          P482676, P503936 0.041649    0.147126  2.618737\n",
            "    P500633                   P471043 0.041649    0.147126  1.761696\n",
            "    P270594                   P481732 0.041649    0.158155  2.157083\n",
            "    P411365                   P500777 0.041649    0.369231  2.357554\n",
            "    P500777                   P411365 0.041649    0.265928  2.357554\n",
            "    P503726                   P479327 0.041649    0.384770  2.487781\n",
            "    P423148                   P503936 0.041649    0.400835  1.877896\n",
            "    P503936                   P423148 0.041649    0.195122  1.877896\n",
            "    P482676          P500633, P503936 0.041649    0.341030  2.678278\n",
            "    P479327                   P503726 0.041649    0.269285  2.487781\n",
            "    P481732                   P270594 0.041649    0.568047  2.157083\n",
            "    P471043                   P500633 0.041649    0.498701  1.761696\n",
            "    P270594                   P505009 0.041432    0.157331  1.883887\n",
            "    P505009                   P270594 0.041432    0.496104  1.883887\n",
            "    P442840          P479841, P476414 0.041432    0.265278  2.641319\n",
            "    P476414          P479841, P442840 0.041432    0.193320  3.288577\n",
            "    P479841          P476414, P442840 0.041432    0.237562  3.059111\n",
            "    P423688                   P481831 0.041432    0.157072  1.511699\n",
            "    P481831                   P423688 0.041432    0.398747  1.511699\n",
            "    P479327          P270594, P479841 0.041432    0.267882  2.762722\n",
            "    P479841          P270594, P479327 0.041432    0.237562  2.800925\n",
            "    P270594          P479841, P479327 0.041432    0.157331  2.354859\n",
            "    P423148          P270594, P476414 0.041215    0.396660  3.578476\n",
            "    P501760          P500633, P500777 0.041215    0.342960  3.233225\n",
            "    P500633          P501760, P500777 0.041215    0.145594  2.796616\n",
            "    P476414          P270594, P423148 0.041215    0.192308  3.271360\n",
            "    P270594          P423148, P476414 0.041215    0.156507  2.454079\n",
            "    P479645                   P479841 0.041215    0.447059  2.563360\n",
            "    P500777          P500633, P501760 0.041215    0.263158  3.167514\n",
            "    P479841                   P479645 0.041215    0.236318  2.563360\n",
            "    P418624                   P500633 0.041215    0.524862  1.854110\n",
            "    P500633          P503726, P270594 0.041215    0.145594  2.363337\n",
            "    P423688                   P483679 0.041215    0.156250  1.782952\n",
            "    P483679                   P423688 0.041215    0.470297  1.782952\n",
            "    P442840                   P474832 0.041215    0.263889  2.869169\n",
            "    P474832                   P442840 0.041215    0.448113  2.869169\n",
            "    P479327                   P400259 0.041215    0.266480  2.092796\n",
            "    P471046                   P270594 0.041215    0.579268  2.199693\n",
            "    P503726          P270594, P500633 0.041215    0.380762  2.566244\n",
            "    P270594                   P471046 0.041215    0.156507  2.199693\n",
            "    P270594          P503726, P500633 0.041215    0.156507  2.445760\n",
            "    P400259                   P479327 0.041215    0.323680  2.092796\n",
            "    P479841                   P400259 0.041215    0.236318  1.855925\n",
            "    P400259                   P479841 0.041215    0.323680  1.855925\n",
            "    P500633                   P418624 0.041215    0.145594  1.854110\n",
            "    P476414          P479318, P500633 0.040998    0.191296  2.863222\n",
            "    P479318          P476414, P500633 0.040998    0.333333  2.926984\n",
            "    P500633          P476414, P479318 0.040998    0.144828  2.350898\n",
            "    P442838                   P479841 0.040781    0.489583  2.807188\n",
            "    P479841                   P442838 0.040781    0.233831  2.807188\n",
            "    P442840                   P469538 0.040781    0.261111  2.184614\n",
            "    P469538                   P442840 0.040781    0.341198  2.184614\n",
            "    P501254                   P479327 0.040781    0.360153  2.328621\n",
            "    P479327                   P501254 0.040781    0.263675  2.328621\n",
            "    P481732                   P476414 0.040781    0.556213  2.595285\n",
            "    P476414                   P481732 0.040781    0.190283  2.595285\n",
            "    P500633          P423688, P476414 0.040564    0.143295  2.231723\n",
            "    P500288                   P503936 0.040564    0.505405  2.367804\n",
            "    P503936                   P500288 0.040564    0.190041  2.367804\n",
            "    P442840                   P500777 0.040564    0.259722  1.658337\n",
            "    P423688          P476414, P500633 0.040564    0.153783  1.350360\n",
            "    P469538          P270594, P476414 0.040564    0.339383  3.061752\n",
            "    P500777                   P442840 0.040564    0.259003  1.658337\n",
            "    P476414          P270594, P469538 0.040564    0.189271  3.292606\n",
            "    P270594          P469538, P476414 0.040564    0.154036  2.151840\n",
            "    P482540                   P270594 0.040564    0.534286  2.028877\n",
            "    P270594                   P482540 0.040564    0.154036  2.028877\n",
            "    P500633                   P232915 0.040564    0.143295  1.860817\n",
            "    P232915                   P500633 0.040564    0.526761  1.860817\n",
            "    P479327                   P471237 0.040564    0.262272  1.809992\n",
            "    P471237                   P479327 0.040564    0.279940  1.809992\n",
            "    P476414          P423688, P500633 0.040564    0.189271  1.852528\n",
            "    P481739                   P423688 0.040347    0.384298  1.456917\n",
            "    P423688                   P481739 0.040347    0.152961  1.456917\n",
            "    P423148          P476414, P500633 0.040347    0.388309  3.409723\n",
            "    P500633          P423148, P476414 0.040347    0.142529  2.234889\n",
            "    P423688                   P469538 0.040347    0.152961  1.279760\n",
            "    P476414          P423148, P500633 0.040347    0.188259  3.312498\n",
            "    P469538                   P423688 0.040347    0.337568  1.279760\n",
            "    P455236                   P442840 0.040347    0.447115  2.862780\n",
            "    P501760                   P503726 0.040347    0.335740  3.101727\n",
            "    P476414                   P475124 0.040347    0.188259  3.055896\n",
            "    P475124                   P476414 0.040347    0.654930  3.055896\n",
            "    P500777          P423688, P500633 0.040347    0.257618  2.521481\n",
            "    P500633          P423688, P500777 0.040347    0.142529  2.536901\n",
            "    P503726                   P501760 0.040347    0.372745  3.101727\n",
            "    P423688          P500633, P500777 0.040347    0.152961  1.442021\n",
            "    P442840                   P455236 0.040347    0.258333  2.862780\n",
            "    P500777                   P500288 0.040130    0.256233  3.192521\n",
            "    P500288                   P500777 0.040130    0.500000  3.192521\n",
            "    P270594          P479841, P479318 0.039913    0.151565  2.607145\n",
            "    P270594                   P433520 0.039913    0.151565  1.542417\n",
            "    P433520                   P270594 0.039913    0.406181  1.542417\n",
            "    P503936                   P482535 0.039913    0.186992  1.898750\n",
            "    P479841          P270594, P479318 0.039913    0.228856  3.359952\n",
            "    P479318          P270594, P479841 0.039913    0.324515  3.346788\n",
            "    P482535                   P503936 0.039913    0.405286  1.898750\n",
            "    P500633          P479841, P479318 0.039696    0.140230  2.412163\n",
            "    P479318          P479841, P500633 0.039696    0.322751  3.055202\n",
            "    P500993                   P270594 0.039696    0.561350  2.131649\n",
            "    P503936                   P500857 0.039696    0.185976  2.280180\n",
            "    P270594                   P500993 0.039696    0.150741  2.131649\n",
            "    P479841          P479318, P500633 0.039696    0.227612  3.406789\n",
            "    P270594 P476414, P500633, P503936 0.039696    0.150741  2.612472\n",
            "    P270594          P479841, P482676 0.039696    0.150741  2.573769\n",
            "    P479841          P270594, P482676 0.039696    0.227612  3.179670\n",
            "    P476414 P270594, P500633, P503936 0.039696    0.185223  2.314029\n",
            "    P500633 P270594, P476414, P503936 0.039696    0.140230  2.575537\n",
            "    P503936 P270594, P476414, P500633 0.039696    0.185976  2.687610\n",
            "    P482676          P270594, P479841 0.039696    0.325044  3.352248\n",
            "    P500857                   P503936 0.039696    0.486702  2.280180\n",
            "    P270594                   P504045 0.039479    0.149918  2.296081\n",
            "    P504045                   P270594 0.039479    0.604651  2.296081\n",
            "    P479327          P500633, P503936 0.039479    0.255259  2.004678\n",
            "    P270594          P479327, P503936 0.039479    0.149918  2.550259\n",
            "    P503936          P479327, P500633 0.039479    0.184959  2.203263\n",
            "    P479327                   P466123 0.039479    0.255259  2.021901\n",
            "    P466123                   P479327 0.039479    0.312715  2.021901\n",
            "    P423148                   P479318 0.039479    0.379958  3.089255\n",
            "    P479318                   P423148 0.039479    0.320988  3.089255\n",
            "    P500633          P479327, P503936 0.039479    0.139464  2.372425\n",
            "    P479327          P270594, P503936 0.039479    0.255259  2.086429\n",
            "    P503936          P270594, P479327 0.039479    0.184959  2.180723\n",
            "    P482676                   P442840 0.039262    0.321492  2.058442\n",
            "    P232915                   P270594 0.039262    0.509859  1.936121\n",
            "    P503936          P270594, P501760 0.039262    0.183943  2.633471\n",
            "    P442840                   P482676 0.039262    0.251389  2.058442\n",
            "    P501760          P270594, P503936 0.039262    0.326715  2.670488\n",
            "    P500633                   P500744 0.039262    0.138697  2.350716\n",
            "    P505009                   P503936 0.039262    0.470130  2.202539\n",
            "    P503936                   P505009 0.039262    0.183943  2.202539\n",
            "    P500744                   P500633 0.039262    0.665441  2.350716\n",
            "    P270594                   P232915 0.039262    0.149094  1.936121\n",
            "    P270594          P501760, P503936 0.039262    0.149094  2.583921\n",
            "    P503936          P411365, P500633 0.039046    0.182927  2.651864\n",
            "    P482676                   P501760 0.039046    0.319716  2.660451\n",
            "    P270594                   P481989 0.039046    0.148270  1.789334\n",
            "    P500633          P411365, P503936 0.039046    0.137931  2.553663\n",
            "    P479841          P476414, P479318 0.039046    0.223881  3.634118\n",
            "    P476414          P479841, P479318 0.039046    0.182186  3.133875\n",
            "    P411365          P500633, P503936 0.039046    0.346154  2.718517\n",
            "    P423148          P270594, P500633 0.039046    0.375783  2.532689\n",
            "    P270594          P423148, P500633 0.039046    0.148270  2.608876\n",
            "    P481989                   P270594 0.039046    0.471204  1.789334\n",
            "    P501760                   P482676 0.039046    0.324910  2.660451\n",
            "    P503936          P501254, P500633 0.039046    0.182927  2.285346\n",
            "    P500633                   P504045 0.039046    0.137931  2.112499\n",
            "    P500633                   P442838 0.039046    0.137931  1.655891\n",
            "    P500633          P501254, P503936 0.039046    0.137931  2.838670\n",
            "    P442838                   P500633 0.039046    0.468750  1.655891\n",
            "    P500633          P270594, P423148 0.039046    0.137931  2.346354\n",
            "    P501254          P500633, P503936 0.039046    0.344828  2.708101\n",
            "    P504045                   P500633 0.039046    0.598007  2.112499\n",
            "    P479318          P479841, P476414 0.039046    0.317460  3.160890\n",
            "    P479841          P476414, P482676 0.038829    0.222637  3.289602\n",
            "    P500777          P483076, P482551 0.038829    0.247922  2.695572\n",
            "    P482551          P483076, P500777 0.038829    0.422170 10.872642\n",
            "    P483076          P482551, P500777 0.038829    0.422170 10.872642\n",
            "    P483076                   P500777 0.038829    0.422170  2.695572\n",
            "    P500633                   P456218 0.038829    0.137165  1.677267\n",
            "    P456218                   P500633 0.038829    0.474801  1.677267\n",
            "    P482551                   P500777 0.038829    0.422170  2.695572\n",
            "    P500777                   P482551 0.038829    0.247922  2.695572\n",
            "    P476414          P479841, P482676 0.038829    0.181174  3.093380\n",
            "    P505024                   P505009 0.038829    0.588816  7.050496\n",
            "    P482676          P479841, P476414 0.038829    0.317940  3.165662\n",
            "    P500777                   P483076 0.038829    0.247922  2.695572\n",
            "    P505009                   P505024 0.038829    0.464935  7.050496\n",
            "    P505020                   P505031 0.038612    0.689922  6.839877\n",
            "    P504045                   P503936 0.038612    0.591362  2.770508\n",
            "    P500633                   P505024 0.038612    0.136398  2.068411\n",
            "    P505024                   P500633 0.038612    0.585526  2.068411\n",
            "    P505031                   P505020 0.038612    0.382796  6.839877\n",
            "    P503936                   P504045 0.038612    0.180894  2.770508\n",
            "    P500633          P270594, P505031 0.038612    0.136398  2.465870\n",
            "    P505031          P270594, P500633 0.038612    0.382796  2.579953\n",
            "    P501254          P500633, P501760 0.038612    0.340996  4.104419\n",
            "    P474832                   P479327 0.038612    0.419811  2.714348\n",
            "    P479327                   P474832 0.038612    0.249649  2.714348\n",
            "    P501760          P501254, P500633 0.038612    0.321300  4.014069\n",
            "    P270594          P482676, P503936 0.038612    0.146623  2.609771\n",
            "    P442840                   P442838 0.038612    0.247222  2.967954\n",
            "    P442838                   P442840 0.038612    0.463542  2.967954\n",
            "    P442839                   P442838 0.038612    0.529762  6.359902\n",
            "    P442838                   P442839 0.038612    0.463542  6.359902\n",
            "    P503936          P270594, P482676 0.038612    0.180894  2.527039\n",
            "    P482676          P270594, P503936 0.038612    0.316163  2.584243\n",
            "    P423688                   P505023 0.038612    0.146382  1.544208\n",
            "    P505023                   P423688 0.038612    0.407323  1.544208\n",
            "    P270594          P505031, P500633 0.038612    0.146623  2.322786\n",
            "    P500633          P501254, P501760 0.038612    0.136398  2.566518\n",
            "    P469538                   P479327 0.038395    0.321234  2.076984\n",
            "    P505009                   P505054 0.038395    0.459740  6.602500\n",
            "    P505054                   P505009 0.038395    0.551402  6.602500\n",
            "    P482535                   P479327 0.038395    0.389868  2.520744\n",
            "    P479327                   P455236 0.038395    0.248247  2.751005\n",
            "    P481739                   P482676 0.038395    0.365702  2.994473\n",
            "    P455236                   P479327 0.038395    0.425481  2.751005\n",
            "    P479327                   P482535 0.038395    0.248247  2.520744\n",
            "    P479327                   P469538 0.038395    0.248247  2.076984\n",
            "    P482535                   P479841 0.038395    0.389868  2.235436\n",
            "    P479841                   P482535 0.038395    0.220149  2.235436\n",
            "    P482676                   P481739 0.038395    0.314387  2.994473\n",
            "    P500633          P479841, P442840 0.038178    0.134866  2.294213\n",
            "    P270594                   P461949 0.038178    0.144975  1.904091\n",
            "    P479841          P483076, P482551 0.038178    0.218905  2.380081\n",
            "    P461949                   P270594 0.038178    0.501425  1.904091\n",
            "    P476414          P270594, P423688 0.038178    0.178138  1.978830\n",
            "    P442840          P479841, P500633 0.038178    0.244444  2.313940\n",
            "    P479841          P500633, P442840 0.038178    0.218905  3.183452\n",
            "    P423688          P270594, P476414 0.038178    0.144737  1.305747\n",
            "    P483076          P479841, P482551 0.038178    0.415094 10.872642\n",
            "    P270594          P423688, P476414 0.038178    0.144975  2.257892\n",
            "    P479841                   P482551 0.038178    0.218905  2.380081\n",
            "    P482551                   P479841 0.038178    0.415094  2.380081\n",
            "    P482551          P483076, P479841 0.038178    0.415094 10.872642\n",
            "    P442840          P270594, P479841 0.038178    0.244444  2.521004\n",
            "    P479841          P270594, P442840 0.038178    0.218905  3.124316\n",
            "    P483076                   P479841 0.038178    0.415094  2.380081\n",
            "    P479841                   P483076 0.038178    0.218905  2.380081\n",
            "    P270594          P479841, P442840 0.038178    0.144975  2.466185\n",
            "    P500633          P479841, P423688 0.037961    0.134100  2.341664\n",
            "    P423688                   P423148 0.037961    0.143914  1.385064\n",
            "    P423688          P479841, P500633 0.037961    0.143914  1.362312\n",
            "    P479841          P423688, P500633 0.037961    0.217662  2.130404\n",
            "    P423148                   P423688 0.037961    0.365344  1.385064\n",
            "    P270594          P481739, P500633 0.037961    0.144152  2.536407\n",
            "    P423688                   P501254 0.037961    0.143914  1.270969\n",
            "    P481739          P270594, P500633 0.037961    0.361570  2.436899\n",
            "    P479327          P476414, P442840 0.037961    0.245442  3.160577\n",
            "    P501254                   P423688 0.037961    0.335249  1.270969\n",
            "    P270594                   P474075 0.037961    0.144152  2.331715\n",
            "    P474075                   P270594 0.037961    0.614035  2.331715\n",
            "    P442840          P479327, P476414 0.037961    0.243056  3.156299\n",
            "    P476414          P479327, P442840 0.037961    0.177126  3.227465\n",
            "    P500633          P270594, P481739 0.037961    0.134100  2.368579\n",
            "    P479327                   P477157 0.037961    0.245442  2.871794\n",
            "    P474832                   P503936 0.037961    0.412736  1.933651\n",
            "    P503936                   P474832 0.037961    0.177846  1.933651\n",
            "    P477157                   P479327 0.037961    0.444162  2.871794\n",
            "    P442840                   P442839 0.037744    0.241667  3.315724\n",
            "    P503936                   P481831 0.037744    0.176829  1.701843\n",
            "    P481831                   P503936 0.037744    0.363257  1.701843\n",
            "    P270594          P479645, P500633 0.037744    0.143328  2.359791\n",
            "    P442839                   P442840 0.037744    0.517857  3.315724\n",
            "    P400259                   P501254 0.037744    0.296422  2.617831\n",
            "    P501254                   P400259 0.037744    0.333333  2.617831\n",
            "    P500857                   P500777 0.037744    0.462766  2.954780\n",
            "    P500777                   P500857 0.037744    0.240997  2.954780\n",
            "    P500633                   P442839 0.037744    0.133333  1.829365\n",
            "    P479645          P270594, P500633 0.037744    0.409412  2.759340\n",
            "    P500633          P270594, P479645 0.037744    0.133333  2.419948\n",
            "    P442839                   P500633 0.037744    0.517857  1.829365\n",
            "    P462666                   P500633 0.037527    0.574751  2.030346\n",
            "    P500633                   P462666 0.037527    0.132567  2.030346\n",
            "    P270594                   P479348 0.037527    0.142504  2.182538\n",
            "    P503814                   P503936 0.037527    0.604895  2.833909\n",
            "    P503936                   P503814 0.037527    0.175813  2.833909\n",
            "    P442839                   P479841 0.037527    0.514881  2.952240\n",
            "    P479841                   P442839 0.037527    0.215174  2.952240\n",
            "    P423688                   P500857 0.037527    0.142270  1.744318\n",
            "    P476414          P270594, P500777 0.037527    0.175101  2.023099\n",
            "    P479348                   P270594 0.037527    0.574751  2.182538\n",
            "    P481830                   P500633 0.037527    0.611307  2.159484\n",
            "    P500857                   P423688 0.037527    0.460106  1.744318\n",
            "    P500633                   P501288 0.037527    0.132567  2.434797\n",
            "    P501288                   P500633 0.037527    0.689243  2.434797\n",
            "    P500633                   P481830 0.037527    0.132567  2.159484\n",
            "    P270594          P476414, P500777 0.037527    0.142504  2.321357\n",
            "    P500777          P270594, P476414 0.037527    0.239612  2.161668\n",
            "    P423688                   P505031 0.037310    0.141447  1.402306\n",
            "    P500777          P270594, P479841 0.037310    0.238227  2.456884\n",
            "    P479327                   P481739 0.037310    0.241234  2.297706\n",
            "    P481739                   P479327 0.037310    0.355372  2.297706\n",
            "    P504044                   P500633 0.037310    0.688000  2.430406\n",
            "    P500288                   P501760 0.037310    0.464865  3.868280\n",
            "    P500633                   P504044 0.037310    0.131801  2.430406\n",
            "    P270594          P479841, P500777 0.037310    0.141680  2.392478\n",
            "    P500633          P270594, P469538 0.037310    0.131801  2.292836\n",
            "    P469538          P270594, P500633 0.037310    0.312160  2.103883\n",
            "    P270594          P469538, P500633 0.037310    0.141680  2.206576\n",
            "    P505031                   P423688 0.037310    0.369892  1.402306\n",
            "    P479841          P270594, P500777 0.037310    0.213930  2.471727\n",
            "    P501760                   P500288 0.037310    0.310469  3.868280\n",
            "    P471043                   P479841 0.037093    0.444156  2.546714\n",
            "    P270594 P483076, P500633, P482551 0.037093    0.140857  2.516858\n",
            "    P474832                   P466123 0.037093    0.403302  3.194539\n",
            "    P500777                   P479318 0.037093    0.236842  1.925647\n",
            "    P503936                   P418624 0.037093    0.173780  2.213061\n",
            "    P483076          P270594, P500633 0.037093    0.403302  2.718160\n",
            "    P270594          P483076, P500633 0.037093    0.140857  2.516858\n",
            "    P418624                   P503936 0.037093    0.472376  2.213061\n",
            "    P479318                   P500777 0.037093    0.301587  1.925647\n",
            "    P476414                   P503726 0.037093    0.173077  1.598967\n",
            "    P503726                   P476414 0.037093    0.342685  1.598967\n",
            "    P482551          P483076, P479327 0.037093    0.403302 10.872642\n",
            "    P479327                   P483076 0.037093    0.239832  2.607604\n",
            "    P479841                   P471043 0.037093    0.212687  2.546714\n",
            "    P500633          P270594, P482551 0.037093    0.131034  2.368898\n",
            "    P483076          P479327, P482551 0.037093    0.403302 10.872642\n",
            "    P482551          P270594, P500633 0.037093    0.403302  2.718160\n",
            "    P466123                   P474832 0.037093    0.293814  3.194539\n",
            "    P482551 P270594, P483076, P500633 0.037093    0.403302 10.872642\n",
            "    P270594          P500633, P482551 0.037093    0.140857  2.516858\n",
            "    P483076 P270594, P500633, P482551 0.037093    0.403302 10.872642\n",
            "    P500633 P270594, P483076, P482551 0.037093    0.131034  2.368898\n",
            "    P482551                   P479327 0.037093    0.403302  2.607604\n",
            "    P479327                   P482551 0.037093    0.239832  2.607604\n",
            "    P479327          P483076, P482551 0.037093    0.239832  2.607604\n",
            "    P503651                   P270594 0.037093    0.617329  2.344221\n",
            "    P479318                   P501760 0.037093    0.301587  2.509598\n",
            "    P270594                   P503651 0.037093    0.140857  2.344221\n",
            "    P500633          P270594, P483076 0.037093    0.131034  2.368898\n",
            "    P501760                   P479318 0.037093    0.308664  2.509598\n",
            "    P483076                   P479327 0.037093    0.403302  2.607604\n",
            "    P501254          P500633, P500777 0.036876    0.325670  3.070227\n",
            "    P442840                   P481739 0.036876    0.236111  2.248910\n",
            "    P481739                   P442840 0.036876    0.351240  2.248910\n",
            "    P479841          P469538, P476414 0.036876    0.211443  2.953792\n",
            "    P476414          P469538, P479841 0.036876    0.172065  3.211411\n",
            "    P474832          P476414, P500633 0.036876    0.400943  3.520665\n",
            "    P270594                   P462666 0.036876    0.140033  2.144691\n",
            "    P462666                   P270594 0.036876    0.564784  2.144691\n",
            "    P500633          P474832, P476414 0.036876    0.130268  2.224209\n",
            "    P476414          P474832, P500633 0.036876    0.172065  3.250896\n",
            "    P500633                   P503651 0.036876    0.130268  2.168001\n",
            "    P503651                   P500633 0.036876    0.613718  2.168001\n",
            "    P500633                   P475124 0.036876    0.130268  2.114565\n",
            "    P469538          P479841, P476414 0.036876    0.308530  3.071972\n",
            "    P500777          P501254, P500633 0.036876    0.235457  2.941618\n",
            "    P475124                   P500633 0.036876    0.598592  2.114565\n",
            "    P500633          P501254, P500777 0.036876    0.130268  2.705119\n",
            "    P477157                   P479318 0.036659    0.428934  3.487453\n",
            "    P505009                   P423688 0.036659    0.438961  1.664153\n",
            "    P500777          P479841, P476414 0.036659    0.234072  2.330609\n",
            "    P469538                   P474832 0.036659    0.306715  3.334803\n",
            "    P476414          P479841, P500777 0.036659    0.171053  2.888471\n",
            "    P503814                   P270594 0.036659    0.590909  2.243897\n",
            "    P270594                   P503814 0.036659    0.139209  2.243897\n",
            "    P500633          P482676, P500777 0.036659    0.129502  2.738550\n",
            "    P482676          P500633, P500777 0.036659    0.300178  2.829895\n",
            "    P423688                   P505009 0.036659    0.138980  1.664153\n",
            "    P479841          P476414, P500777 0.036659    0.210199  3.424090\n",
            "    P479318                   P477157 0.036659    0.298060  3.487453\n",
            "    P474832                   P469538 0.036659    0.398585  3.334803\n",
            "    P500777          P500633, P482676 0.036659    0.234072  2.862260\n",
            "    P505054                   P505024 0.036443    0.523364  7.936547\n",
            "    P503936          P503726, P270594 0.036443    0.170732  2.771384\n",
            "    P309308                   P479327 0.036443    0.199052  1.286999\n",
            "    P479327                   P309308 0.036443    0.235624  1.286999\n",
            "    P500288          P270594, P500633 0.036443    0.454054  3.060218\n",
            "    P270594                   P504125 0.036443    0.138386  2.192293\n",
            "    P504125                   P270594 0.036443    0.577320  2.192293\n",
            "    P270594          P500288, P500633 0.036443    0.138386  2.407386\n",
            "    P500633          P270594, P500288 0.036443    0.128736  2.614411\n",
            "    P505024                   P505054 0.036443    0.552632  7.936547\n",
            "    P270594          P503726, P503936 0.036443    0.138386  2.407386\n",
            "    P503651                   P503936 0.036443    0.606498  2.841419\n",
            "    P482676                   P423148 0.036443    0.298401  2.871880\n",
            "    P503726          P270594, P503936 0.036443    0.336673  2.751887\n",
            "    P482676                   P482535 0.036443    0.298401  3.030023\n",
            "    P482535                   P482676 0.036443    0.370044  3.030023\n",
            "    P423148                   P482676 0.036443    0.350731  2.871880\n",
            "    P503936                   P503651 0.036443    0.170732  2.841419\n",
            "    P461949                   P479841 0.036226    0.475783  2.728062\n",
            "    P501760          P483076, P482551 0.036226    0.301444  3.277493\n",
            "    P501254                   P479318 0.036226    0.319923  2.601141\n",
            "    P471046                   P503936 0.036226    0.509146  2.385330\n",
            "    P479318                   P501254 0.036226    0.294533  2.601141\n",
            "    P503936                   P471046 0.036226    0.169715  2.385330\n",
            "    P482551                   P501760 0.036226    0.393868  3.277493\n",
            "    P483076          P482551, P501760 0.036226    0.393868 10.872642\n",
            "    P501760                   P482551 0.036226    0.301444  3.277493\n",
            "    P482551          P483076, P501760 0.036226    0.393868 10.872642\n",
            "    P479841                   P461949 0.036226    0.207711  2.728062\n",
            "    P476414                   P433520 0.036226    0.169028  1.720134\n",
            "    P483076                   P501760 0.036226    0.393868  3.277493\n",
            "    P501760                   P483076 0.036226    0.301444  3.277493\n",
            "    P503936                   P462666 0.036226    0.169715  2.599296\n",
            "    P462666                   P503936 0.036226    0.554817  2.599296\n",
            "    P433520                   P476414 0.036226    0.368653  1.720134\n",
            "    P471237                   P479318 0.036009    0.248503  2.020456\n",
            "    P423688                   P433520 0.036009    0.136513  1.389240\n",
            "    P433520                   P423688 0.036009    0.366446  1.389240\n",
            "    P479318                   P471237 0.036009    0.292769  2.020456\n",
            "    P479841                   P481732 0.036009    0.206468  2.816023\n",
            "    P481732                   P479841 0.036009    0.491124  2.816023\n",
            "    P503726                   P479841 0.036009    0.332665  1.907447\n",
            "    P501254                   P482676 0.036009    0.318008  2.603935\n",
            "    P482676                   P501254 0.036009    0.294849  2.603935\n",
            "    P479841                   P503726 0.036009    0.206468  1.907447\n",
            "    P466123                   P471043 0.036009    0.285223  3.415272\n",
            "    P504125                   P500633 0.036009    0.570447  2.015141\n",
            "    P500633                   P504125 0.036009    0.127203  2.015141\n",
            "    P471043                   P466123 0.036009    0.431169  3.415272\n",
            "    P479841                   P309308 0.036009    0.206468  1.127744\n",
            "    P309308                   P479841 0.036009    0.196682  1.127744\n",
            "    P474075                   P500633 0.035792    0.578947  2.045170\n",
            "    P503936 P270594, P500633, P500777 0.035792    0.167683  2.741200\n",
            "    P503936 P270594, P423688, P500633 0.035792    0.167683  2.928100\n",
            "    P500633                   P474075 0.035792    0.126437  2.045170\n",
            "    P471237                   P466123 0.035792    0.247006  1.956525\n",
            "    P270594 P423688, P500633, P503936 0.035792    0.135914  2.567890\n",
            "    P423688 P270594, P500633, P503936 0.035792    0.135691  1.695216\n",
            "    P500633 P270594, P503936, P500777 0.035792    0.126437  2.625557\n",
            "    P500633 P270594, P423688, P503936 0.035792    0.126437  2.480313\n",
            "    P423148          P479841, P476414 0.035792    0.344468  3.429797\n",
            "    P479841          P423148, P476414 0.035792    0.205224  3.217966\n",
            "    P476414          P423148, P479841 0.035792    0.167004  3.181358\n",
            "    P270594 P503936, P500633, P500777 0.035792    0.135914  2.547012\n",
            "    P500777 P270594, P500633, P503936 0.035792    0.228532  2.855100\n",
            "    P466123                   P471237 0.035792    0.283505  1.956525\n",
            "    P479327          P500633, P500777 0.035575    0.230014  2.168435\n",
            "    P500633          P479327, P500777 0.035575    0.125670  2.518874\n",
            "    P500777          P479327, P500633 0.035575    0.227147  2.705806\n",
            "    P500633                   P479348 0.035575    0.125670  1.924721\n",
            "    P479348                   P500633 0.035575    0.544850  1.924721\n",
            "    P500633          P503726, P503936 0.035358    0.124904  2.172862\n",
            "    P500633          P423688, P482676 0.035358    0.124904  2.690694\n",
            "    P474832                   P477157 0.035358    0.384434  4.498073\n",
            "    P477157                   P474832 0.035358    0.413706  4.498073\n",
            "    P503726          P500633, P503936 0.035358    0.326653  2.565369\n",
            "    P504044                   P270594 0.035358    0.652000  2.475881\n",
            "    P270594                   P504044 0.035358    0.134267  2.475881\n",
            "    P423688          P500633, P482676 0.035358    0.134046  1.639131\n",
            "    P482676          P423688, P500633 0.035358    0.289520  2.833735\n",
            "    P503936          P503726, P500633 0.035358    0.165650  2.588639\n",
            "    P471101                   P476414 0.035358    0.564014  2.631684\n",
            "    P476414                   P471101 0.035358    0.164980  2.631684\n",
            "    P270594          P500857, P500633 0.035141    0.133443  2.490579\n",
            "    P471043                   P442840 0.035141    0.420779  2.694156\n",
            "    P500633          P477157, P476414 0.035141    0.124138  2.226754\n",
            "    P471043                   P503936 0.035141    0.420779  1.971334\n",
            "    P474075                   P479841 0.035141    0.568421  3.259230\n",
            "    P503936                   P471043 0.035141    0.164634  1.971334\n",
            "    P479327          P500633, P501760 0.035141    0.227209  2.734813\n",
            "    P442840                   P471043 0.035141    0.225000  2.694156\n",
            "    P500633          P479327, P501760 0.035141    0.124138  2.554803\n",
            "    P500857          P270594, P500633 0.035141    0.430851  2.903835\n",
            "    P479645          P476414, P500633 0.035141    0.381176  3.347092\n",
            "    P476414          P479645, P500633 0.035141    0.163968  2.699610\n",
            "    P477157          P476414, P500633 0.035141    0.411168  3.610442\n",
            "    P500633          P479645, P476414 0.035141    0.124138  2.345393\n",
            "    P479841                   P474075 0.035141    0.201493  3.259230\n",
            "    P500633          P270594, P500857 0.035141    0.124138  2.445623\n",
            "    P476414          P477157, P500633 0.035141    0.163968  3.272254\n",
            "    P501760          P479327, P500633 0.035141    0.292419  3.483335\n",
            "    P475124                   P270594 0.035141    0.570423  2.166102\n",
            "    P270594                   P475124 0.035141    0.133443  2.166102\n",
            "    P482551                   P400259 0.034924    0.379717  2.982104\n",
            "    P455236                   P471043 0.034924    0.387019  4.634178\n",
            "    P471043                   P455236 0.034924    0.418182  4.634178\n",
            "    P479841          P270594, P423148 0.034924    0.200249  3.406446\n",
            "    P423148          P270594, P479841 0.034924    0.336117  3.466441\n",
            "    P270594          P423148, P479841 0.034924    0.132619  2.526346\n",
            "    P270594                   P470529 0.034924    0.132619  1.448757\n",
            "    P503936          P270594, P411365 0.034924    0.163618  2.703507\n",
            "    P411365          P270594, P503936 0.034924    0.309615  2.530721\n",
            "    P470529                   P270594 0.034924    0.381517  1.448757\n",
            "    P479318                   P309308 0.034924    0.283951  1.550962\n",
            "    P400259                   P483076 0.034924    0.274276  2.982104\n",
            "    P483076                   P400259 0.034924    0.379717  2.982104\n",
            "    P309308                   P479318 0.034924    0.190758  1.550962\n",
            "    P400259                   P482551 0.034924    0.274276  2.982104\n",
            "    P501254                   P500288 0.034924    0.308429  3.842860\n",
            "    P479327          P270594, P442840 0.034924    0.225806  3.222810\n",
            "    P442840          P270594, P479327 0.034924    0.223611  2.636438\n",
            "    P270594          P479327, P442840 0.034924    0.132619  2.416504\n",
            "    P500288                   P501254 0.034924    0.435135  3.842860\n",
            "    P482551          P483076, P400259 0.034924    0.379717 10.872642\n",
            "    P483076          P400259, P482551 0.034924    0.379717 10.872642\n",
            "    P400259          P483076, P482551 0.034924    0.274276  2.982104\n",
            "    P270594          P411365, P503936 0.034924    0.132619  2.455324\n",
            "    P471237                   P503936 0.034707    0.239521  1.122146\n",
            "    P423688          P483076, P482551 0.034707    0.131579  1.430611\n",
            "    P482551          P483076, P423688 0.034707    0.377358 10.872642\n",
            "    P423688                   P482551 0.034707    0.131579  1.430611\n",
            "    P505031          P505023, P505054 0.034707    0.344086  6.866825\n",
            "    P505023          P505054, P505031 0.034707    0.366133  8.233521\n",
            "    P423148                   P500777 0.034707    0.334029  2.132790\n",
            "    P483076          P423688, P482551 0.034707    0.377358 10.872642\n",
            "    P503936                   P471237 0.034707    0.162602  1.122146\n",
            "    P505054          P505023, P505031 0.034707    0.498442  9.777955\n",
            "    P483076                   P423688 0.034707    0.377358  1.430611\n",
            "    P482551                   P423688 0.034707    0.377358  1.430611\n",
            "    P500777                   P423148 0.034707    0.221607  2.132790\n",
            "    P423688                   P483076 0.034707    0.131579  1.430611\n",
            "    P270594          P471237, P500633 0.034490    0.130972  2.269853\n",
            "    P501760          P476414, P500633 0.034490    0.287004  2.520165\n",
            "    P476414          P500633, P501760 0.034490    0.160931  1.937057\n",
            "    P500633          P476414, P501760 0.034490    0.121839  2.700376\n",
            "    P500633          P501254, P476414 0.034490    0.121839  2.636987\n",
            "    P479645                   P479327 0.034490    0.374118  2.418909\n",
            "    P482676          P479318, P500633 0.034490    0.282416  4.227065\n",
            "    P500633          P479318, P482676 0.034490    0.121839  2.674658\n",
            "    P500633          P270594, P471237 0.034490    0.121839  2.330615\n",
            "    P471237          P270594, P500633 0.034490    0.238024  1.604226\n",
            "    P479327                   P479645 0.034490    0.223001  2.418909\n",
            "    P476414          P501254, P500633 0.034490    0.160931  2.010549\n",
            "    P501254          P476414, P500633 0.034490    0.304598  2.674658\n",
            "    P479318          P500633, P482676 0.034490    0.280423  3.429049\n",
            "    P476414                   P479692 0.034490    0.160931  3.104154\n",
            "    P423148          P479841, P500633 0.034490    0.331942  3.142198\n",
            "    P479841          P471237, P500633 0.034490    0.197761  3.427365\n",
            "    P423688                   P482540 0.034490    0.130757  1.722251\n",
            "    P479692                   P476414 0.034490    0.665272  3.104154\n",
            "    P500633          P423148, P479841 0.034490    0.121839  2.320984\n",
            "    P479841          P423148, P500633 0.034490    0.197761  3.479691\n",
            "    P482540                   P423688 0.034490    0.454286  1.722251\n",
            "    P500633          P479841, P471237 0.034490    0.121839  2.474353\n",
            "    P471237          P479841, P500633 0.034490    0.238024  2.253163\n",
            "    P270594                   P479692 0.034273    0.130148  2.510391\n",
            "    P479692                   P270594 0.034273    0.661088  2.510391\n",
            "    P479841          P423688, P476414 0.034273    0.196517  3.060626\n",
            "    P476414          P479841, P423688 0.034273    0.159919  2.792525\n",
            "    P270594          P474832, P476414 0.034273    0.130148  2.222161\n",
            "    P474832          P270594, P476414 0.034273    0.372642  3.361795\n",
            "    P476414          P270594, P474832 0.034273    0.159919  3.262065\n",
            "    P471237          P476414, P500633 0.034273    0.236527  2.076932\n",
            "    P476414          P471237, P500633 0.034273    0.159919  2.771529\n",
            "    P423688          P479841, P476414 0.034273    0.129934  1.293729\n",
            "    P500633          P471237, P476414 0.034273    0.121073  2.278145\n",
            "    P442838                   P503936 0.034273    0.411458  1.927666\n",
            "    P503936          P476414, P482676 0.034273    0.160569  2.372511\n",
            "    P479348                   P479841 0.034273    0.524917  3.009785\n",
            "    P479841                   P479348 0.034273    0.196517  3.009785\n",
            "    P476414          P482676, P503936 0.034273    0.159919  2.846435\n",
            "    P482676          P476414, P503936 0.034273    0.280639  3.317302\n",
            "    P503936                   P442838 0.034273    0.160569  1.927666\n",
            "    P500777          P400259, P500633 0.034056    0.217452  2.948387\n",
            "    P500633          P469538, P479841 0.034056    0.120307  2.245397\n",
            "    P479841          P469538, P500633 0.034056    0.195274  3.041255\n",
            "    P469538          P479841, P500633 0.034056    0.284936  2.697243\n",
            "    P504125                   P503936 0.034056    0.539519  2.527624\n",
            "    P500633          P400259, P500777 0.034056    0.120307  2.544096\n",
            "    P474832                   P471237 0.034056    0.370283  2.555396\n",
            "    P471237                   P474832 0.034056    0.235030  2.555396\n",
            "    P476414          P270594, P479645 0.034056    0.158907  2.884097\n",
            "    P479645          P270594, P476414 0.034056    0.369412  3.332658\n",
            "    P270594          P474832, P500633 0.034056    0.129325  2.443386\n",
            "    P474832          P270594, P500633 0.034056    0.370283  2.495621\n",
            "    P500633          P270594, P474832 0.034056    0.120307  2.454040\n",
            "    P270594          P479645, P476414 0.034056    0.129325  2.443386\n",
            "    P400259          P500633, P500777 0.034056    0.267462  2.521469\n",
            "    P500633                   P458219 0.034056    0.120307  1.660518\n",
            "    P458219                   P500633 0.034056    0.470060  1.660518\n",
            "    P503936                   P504125 0.034056    0.159553  2.527624\n",
            "    P504044                   P503936 0.034056    0.628000  2.942154\n",
            "    P270594          P423688, P500777 0.034056    0.129325  2.301877\n",
            "    P423688          P270594, P500777 0.034056    0.129112  1.491743\n",
            "    P500777          P270594, P423688 0.034056    0.217452  2.415546\n",
            "    P503726                   P501254 0.034056    0.314629  2.778622\n",
            "    P501254                   P503726 0.034056    0.300766  2.778622\n",
            "    P503936                   P504044 0.034056    0.159553  2.942154\n",
            "    P500288                   P423688 0.033839    0.421622  1.598417\n",
            "    P500633          P479327, P479318 0.033839    0.119540  2.365152\n",
            "    P501282                   P500633 0.033839    0.666667  2.355045\n",
            "    P471237                   P423148 0.033839    0.233533  2.247572\n",
            "    P433520                   P503936 0.033839    0.344371  1.613363\n",
            "    P500633                   P501282 0.033839    0.119540  2.355045\n",
            "    P423148                   P471237 0.033839    0.325678  2.247572\n",
            "    P479318          P500633, P503936 0.033839    0.275132  2.160749\n",
            "    P500633          P479318, P503936 0.033839    0.119540  2.611756\n",
            "    P503936          P479318, P500633 0.033839    0.158537  2.372901\n",
            "    P423688                   P500288 0.033839    0.128289  1.598417\n",
            "    P503936                   P433520 0.033839    0.158537  1.613363\n",
            "    P476414                   P500288 0.033839    0.157895  1.967283\n",
            "    P503668                   P501760 0.033839    0.411609  3.425126\n",
            "    P501760                   P503668 0.033839    0.281588  3.425126\n",
            "    P270594 P476414, P500633, P482676 0.033839    0.128501  2.807530\n",
            "    P500633 P270594, P476414, P482676 0.033839    0.119540  2.662224\n",
            "    P479318          P479327, P500633 0.033839    0.275132  3.277415\n",
            "    P482676 P270594, P476414, P500633 0.033839    0.277087  4.004299\n",
            "    P476414 P270594, P500633, P482676 0.033839    0.157895  3.058381\n",
            "    P479327          P479318, P500633 0.033839    0.218794  3.274804\n",
            "    P500288                   P476414 0.033839    0.421622  1.967283\n",
            "    P470529                   P500633 0.033623    0.367299  1.297507\n",
            "    P505054                   P270594 0.033623    0.482866  1.833618\n",
            "    P270594                   P505054 0.033623    0.127677  1.833618\n",
            "    P442840                   P411365 0.033623    0.215278  1.908520\n",
            "    P500633                   P470529 0.033623    0.118774  1.297507\n",
            "    P479327                   P500288 0.033623    0.217391  2.708578\n",
            "    P411365                   P442840 0.033623    0.298077  1.908520\n",
            "    P500777                   P481739 0.033623    0.214681  2.044796\n",
            "    P500288                   P479327 0.033623    0.418919  2.708578\n",
            "    P479339                   P504043 0.033623    0.752427 21.022360\n",
            "    P505020                   P505023 0.033623    0.600775  6.337697\n",
            "    P504043                   P479339 0.033623    0.939394 21.022360\n",
            "    P505023                   P505020 0.033623    0.354691  6.337697\n",
            "    P481739                   P500777 0.033623    0.320248  2.044796\n",
            "    P503936 P270594, P479841, P500633 0.033406    0.156504  2.350110\n",
            "    P270594          P479318, P503936 0.033406    0.126853  2.771536\n",
            "    P442840                   P501760 0.033406    0.213889  1.779834\n",
            "    P479318                   P466123 0.033406    0.271605  2.151372\n",
            "    P501760                   P442840 0.033406    0.277978  1.779834\n",
            "    P505023          P505031, P500633 0.033406    0.352403  5.582738\n",
            "    P503936                   P466123 0.033406    0.156504  1.239663\n",
            "    P466123                   P503936 0.033406    0.264605  1.239663\n",
            "    P500633 P270594, P479841, P503936 0.033406    0.118008  2.615458\n",
            "    P479841 P270594, P500633, P503936 0.033406    0.191542  2.392981\n",
            "    P270594 P479841, P500633, P503936 0.033406    0.126853  2.542583\n",
            "    P500777                   P469538 0.033406    0.213296  1.784567\n",
            "    P466123                   P479318 0.033406    0.264605  2.151372\n",
            "    P469538                   P500777 0.033406    0.279492  1.784567\n",
            "    P479318          P270594, P503936 0.033406    0.271605  2.220033\n",
            "    P470529                   P476414 0.033406    0.364929  1.702755\n",
            "    P476414                   P470529 0.033406    0.155870  1.702755\n",
            "    P503936          P270594, P479318 0.033406    0.156504  2.297719\n",
            "    P505031          P505023, P500633 0.033406    0.331183  5.987265\n",
            "    P500633          P505023, P505031 0.033406    0.118008  2.314959\n",
            "    P477157                   P423148 0.033406    0.390863  3.761750\n",
            "    P423148                   P477157 0.033406    0.321503  3.761750\n",
            "    P503936                   P481732 0.033189    0.155488  2.120706\n",
            "    P480461                   P500633 0.033189    0.634855  2.242667\n",
            "    P481989                   P423688 0.033189    0.400524  1.518432\n",
            "    P500633                   P480461 0.033189    0.117241  2.242667\n",
            "    P423688                   P481989 0.033189    0.125822  1.518432\n",
            "    P423688                   P479645 0.033189    0.125822  1.364803\n",
            "    P479645                   P423688 0.033189    0.360000  1.364803\n",
            "    P423688                   P466123 0.033189    0.125822  0.996634\n",
            "    P466123                   P423688 0.033189    0.262887  0.996634\n",
            "    P423688          P270594, P479841 0.033189    0.125822  1.297631\n",
            "    P270594          P501254, P503936 0.033189    0.126030  2.593735\n",
            "    P481732                   P503936 0.033189    0.452663  2.120706\n",
            "    P479841          P270594, P423688 0.033189    0.190299  2.113918\n",
            "    P501254          P270594, P503936 0.033189    0.293103  2.395757\n",
            "    P470529                   P442840 0.033189    0.362559  2.321386\n",
            "    P270594          P479841, P423688 0.033189    0.126030  2.200745\n",
            "    P442840                   P470529 0.033189    0.212500  2.321386\n",
            "    P503936          P270594, P501254 0.033189    0.155488  2.446412\n",
            "    P501760          P479841, P500633 0.033189    0.276173  2.614289\n",
            "    P469538          P476414, P503936 0.033189    0.277677  3.282284\n",
            "    P479318                   P481739 0.033189    0.269841  2.570182\n",
            "    P503936          P469538, P476414 0.033189    0.155488  2.172118\n",
            "    P501254          P479841, P500633 0.033189    0.293103  2.774552\n",
            "    P479841          P501254, P500633 0.033189    0.190299  2.377442\n",
            "    P500633          P501254, P479841 0.033189    0.117241  2.729711\n",
            "    P500633          P479841, P501760 0.033189    0.117241  2.757565\n",
            "    P479841          P500633, P501760 0.033189    0.190299  2.290538\n",
            "    P481989                   P503936 0.033189    0.400524  1.876437\n",
            "    P481739                   P479318 0.033189    0.316116  2.570182\n",
            "    P476414          P469538, P503936 0.033189    0.154858  3.335966\n",
            "    P503936                   P481989 0.033189    0.155488  1.876437\n",
            "    P479841          P471237, P476414 0.033189    0.190299  3.580719\n",
            "    P471237          P479841, P476414 0.033189    0.229042  2.280525\n",
            "    P476414          P479841, P471237 0.033189    0.154858  3.144920\n",
            "    P503668                   P423688 0.032972    0.401055  1.520449\n",
            "    P500777          P270594, P501760 0.032972    0.210526  3.014057\n",
            "    P501760          P270594, P501254 0.032972    0.274368  4.316852\n",
            "    P501254          P270594, P501760 0.032972    0.291188  4.168868\n",
            "    P270594          P501254, P501760 0.032972    0.125206  2.355916\n",
            "    P500633          P479645, P503936 0.032972    0.116475  2.593962\n",
            "    P476414                   P500857 0.032972    0.153846  1.886252\n",
            "    P500857                   P476414 0.032972    0.404255  1.886252\n",
            "    P505023          P505009, P505054 0.032972    0.347826  9.059199\n",
            "    P505009          P505023, P505054 0.032972    0.394805  7.879013\n",
            "    P423688                   P503668 0.032972    0.125000  1.520449\n",
            "    P505054          P505009, P505023 0.032972    0.473520  9.368791\n",
            "    P501760          P270594, P500777 0.032972    0.274368  3.170019\n",
            "    P501760          P423688, P500633 0.032972    0.274368  2.685430\n",
            "    P503936          P479645, P500633 0.032972    0.154472  2.543264\n",
            "    P423688          P500633, P501760 0.032972    0.125000  1.504569\n",
            "    P500633          P423688, P501760 0.032972    0.116475  2.739542\n",
            "    P270594          P501760, P500777 0.032972    0.125206  2.404997\n",
            "    P479645          P500633, P503936 0.032972    0.357647  2.808778\n",
            "    P482535                   P423688 0.032972    0.334802  1.269273\n",
            "    P479645                   P500777 0.032972    0.357647  2.283591\n",
            "    P309308                   P468684 0.032972    0.180095  2.954580\n",
            "    P400259                   P479318 0.032972    0.258944  2.105345\n",
            "    P469538                   P479318 0.032972    0.275862  2.242900\n",
            "    P479318                   P469538 0.032972    0.268078  2.242900\n",
            "    P456218                   P270594 0.032972    0.403183  1.531033\n",
            "    P479318                   P400259 0.032972    0.268078  2.105345\n",
            "    P270594                   P456218 0.032972    0.125206  1.531033\n",
            "    P468684                   P309308 0.032972    0.540925  2.954580\n",
            "    P270594          P479327, P479318 0.032972    0.125206  2.477250\n",
            "    P479327          P270594, P479318 0.032972    0.213184  3.129863\n",
            "    P479318          P270594, P479327 0.032972    0.268078  3.160710\n",
            "    P423688                   P482535 0.032972    0.125000  1.269273\n",
            "    P500777                   P479645 0.032972    0.210526  2.283591\n",
            "    P481830                   P270594 0.032755    0.533569  2.026155\n",
            "    P270594                   P481830 0.032755    0.124382  2.026155\n",
            "    P503668                   P500777 0.032755    0.398417  2.543908\n",
            "    P476414          P423688, P503936 0.032755    0.152834  1.868872\n",
            "    P270594                   P503879 0.032755    0.124382  1.481659\n",
            "    P411365                   P479327 0.032755    0.290385  1.877522\n",
            "    P400259          P500633, P501760 0.032755    0.257240  3.096285\n",
            "    P500633          P400259, P501760 0.032755    0.115709  2.653819\n",
            "    P500777                   P503668 0.032755    0.209141  2.543908\n",
            "    P500633 P270594, P479327, P476414 0.032755    0.115709  2.446870\n",
            "    P476414 P270594, P479327, P500633 0.032755    0.152834  2.923505\n",
            "    P479327 P270594, P476414, P500633 0.032755    0.211781  3.060537\n",
            "    P270594 P479327, P476414, P500633 0.032755    0.124382  2.692028\n",
            "    P479327                   P411365 0.032755    0.211781  1.877522\n",
            "    P503879                   P270594 0.032755    0.390181  1.481659\n",
            "    P503936          P423688, P476414 0.032755    0.153455  2.389962\n",
            "    P423688          P476414, P503936 0.032755    0.124178  1.467843\n",
            "    P501760          P400259, P500633 0.032755    0.272563  3.695636\n",
            "    P505023                   P476414 0.032755    0.345538  1.612276\n",
            "    P505031                   P476414 0.032755    0.324731  1.515193\n",
            "    P476414                   P505023 0.032755    0.152834  1.612276\n",
            "    P476414                   P505031 0.032755    0.152834  1.515193\n",
            "    P503936          P270594, P442840 0.032755    0.153455  2.190182\n",
            "    P442840          P270594, P503936 0.032755    0.209722  1.714219\n",
            "    P270594          P442840, P503936 0.032755    0.124382  2.679448\n",
            "    P461949                   P503936 0.032755    0.430199  2.015467\n",
            "    P503936                   P461949 0.032755    0.153455  2.015467\n",
            "    P479645                   P479318 0.032755    0.355294  2.888723\n",
            "    P479318                   P479645 0.032755    0.266314  2.888723\n",
            "    P469538                   P482676 0.032755    0.274047  2.243974\n",
            "    P482676                   P469538 0.032755    0.268206  2.243974\n",
            "    P270594          P477157, P476414 0.032538    0.123558  2.216360\n",
            "    P477157          P270594, P476414 0.032538    0.380711  3.434591\n",
            "    P476414          P270594, P477157 0.032538    0.151822  3.166963\n",
            "    P232915                   P503936 0.032538    0.422535  1.979560\n",
            "    P503936                   P232915 0.032538    0.152439  1.979560\n",
            "    P500633                   P483679 0.032538    0.114943  1.311597\n",
            "    P483679                   P500633 0.032538    0.371287  1.311597\n",
            "    P470529                   P471237 0.032538    0.355450  2.453032\n",
            "    P505049                   P500633 0.032538    0.678733  2.397670\n",
            "    P500633                   P505049 0.032538    0.114943  2.397670\n",
            "    P471237                   P470529 0.032538    0.224551  2.453032\n",
            "    P270594          P411365, P476414 0.032538    0.123558  2.455192\n",
            "    P479841                   P500288 0.032538    0.186567  2.324526\n",
            "    P411365          P270594, P476414 0.032538    0.288462  2.602363\n",
            "    P476414          P270594, P411365 0.032538    0.151822  2.508598\n",
            "    P500857                   P479841 0.032538    0.398936  2.287433\n",
            "    P500288                   P479841 0.032538    0.405405  2.324526\n",
            "    P479841                   P500857 0.032538    0.186567  2.287433\n",
            "    P442839                   P455236 0.032321    0.443452  4.914220\n",
            "    P400259          P270594, P500777 0.032321    0.253833  2.932758\n",
            "    P455236                   P442839 0.032321    0.358173  4.914220\n",
            "    P442840          P500633, P503936 0.032321    0.206944  1.625237\n",
            "    P479841                   P433520 0.032321    0.185323  1.885962\n",
            "    P433520                   P479841 0.032321    0.328918  1.885962\n",
            "    P503891                   P500633 0.032321    0.560150  1.978769\n",
            "    P270594          P400259, P500777 0.032321    0.122735  2.595446\n",
            "    P476414          P477157, P479841 0.032321    0.150810  3.342465\n",
            "    P476414          P442840, P503936 0.032321    0.150810  3.248751\n",
            "    P477157          P479841, P476414 0.032321    0.378173  3.765390\n",
            "    P479841          P477157, P476414 0.032321    0.185323  3.324283\n",
            "    P500777          P270594, P400259 0.032321    0.206371  2.798151\n",
            "    P442840          P476414, P503936 0.032321    0.206944  2.446189\n",
            "    P469538                   P471237 0.032321    0.270417  1.866204\n",
            "    P471237                   P469538 0.032321    0.223054  1.866204\n",
            "    P503936          P476414, P442840 0.032321    0.151423  1.949885\n",
            "    P500744                   P270594 0.032321    0.547794  2.080174\n",
            "    P270594                   P500744 0.032321    0.122735  2.080174\n",
            "    P442840                   P474075 0.032321    0.206944  3.347417\n",
            "    P480461                   P503936 0.032321    0.618257  2.896510\n",
            "    P503936          P500633, P442840 0.032321    0.151423  2.202079\n",
            "    P466123          P476414, P455236 0.032321    0.256014  4.592309\n",
            "    P500633 P270594, P476414, P442840 0.032321    0.114176  2.403436\n",
            "    P476414 P270594, P500633, P442840 0.032321    0.150810  3.342465\n",
            "    P411365                   P479645 0.032321    0.286538  3.108100\n",
            "    P479645                   P411365 0.032321    0.350588  3.108100\n",
            "    P500633          P442840, P503936 0.032321    0.114176  2.459591\n",
            "    P476414          P466123, P455236 0.032321    0.150810  2.908924\n",
            "    P474075                   P442840 0.032321    0.522807  3.347417\n",
            "    P503936                   P480461 0.032321    0.151423  2.896510\n",
            "    P500633                   P503891 0.032321    0.114176  1.978769\n",
            "    P455236          P466123, P476414 0.032321    0.358173  6.350684\n",
            "    P270594 P500633, P476414, P442840 0.032321    0.122735  2.720227\n",
            "    P442840 P270594, P476414, P500633 0.032321    0.206944  2.990639\n",
            "    P481739          P270594, P476414 0.032104    0.305785  2.758649\n",
            "    P476414          P270594, P481739 0.032104    0.149798  2.645850\n",
            "    P476414 P479841, P500633, P503936 0.032104    0.149798  3.002464\n",
            "    P270594          P476414, P481739 0.032104    0.121911  2.486769\n",
            "    P442840          P479327, P500633 0.032104    0.205556  2.448608\n",
            "    P479327          P500633, P442840 0.032104    0.207574  3.018658\n",
            "    P500633          P479327, P442840 0.032104    0.113410  2.066482\n",
            "    P501288                   P270594 0.032104    0.589641  2.239083\n",
            "    P270594                   P501288 0.032104    0.121911  2.239083\n",
            "    P500633 P479841, P476414, P503936 0.032104    0.113410  2.588217\n",
            "    P479841 P476414, P500633, P503936 0.032104    0.184080  3.190252\n",
            "    P442840          P476414, P479318 0.032104    0.205556  3.336659\n",
            "    P479318          P476414, P442840 0.032104    0.261023  3.361217\n",
            "    P476414          P479318, P442840 0.032104    0.149798  3.082888\n",
            "    P500633          P479318, P442840 0.032104    0.113410  2.334018\n",
            "    P470529                   P466123 0.032104    0.350711  2.777968\n",
            "    P442840          P479318, P500633 0.032104    0.205556  3.076659\n",
            "    P270594          P477157, P500633 0.032104    0.121911  2.432943\n",
            "    P500633          P466123, P476414 0.032104    0.113410  2.010846\n",
            "    P477157          P270594, P500633 0.032104    0.375635  2.531689\n",
            "    P270594          P479645, P503936 0.032104    0.121911  2.715024\n",
            "    P479645          P270594, P503936 0.032104    0.348235  2.846391\n",
            "    P503936          P270594, P479645 0.032104    0.150407  2.729819\n",
            "    P270594          P309308, P500633 0.032104    0.121911  2.432943\n",
            "    P309308          P270594, P500633 0.032104    0.175355  1.181855\n",
            "    P500633          P270594, P309308 0.032104    0.113410  2.099678\n",
            "    P455236          P476414, P500633 0.032104    0.355769  3.123993\n",
            "    P500633          P476414, P455236 0.032104    0.113410  2.034319\n",
            "    P476414          P500633, P455236 0.032104    0.149798  3.368619\n",
            "    P503936 P479841, P476414, P500633 0.032104    0.150407  2.407549\n",
            "    P442840                   P479645 0.032104    0.205556  2.229673\n",
            "    P479645                   P442840 0.032104    0.348235  2.229673\n",
            "    P479841                   P481989 0.032104    0.184080  2.221484\n",
            "    P481989                   P479841 0.032104    0.387435  2.221484\n",
            "    P479318          P500633, P442840 0.032104    0.261023  3.795949\n",
            "    P479841                   P505031 0.032104    0.184080  1.824961\n",
            "    P476414          P466123, P500633 0.032104    0.149798  2.951140\n",
            "    P466123          P476414, P500633 0.032104    0.254296  2.232957\n",
            "    P411365          P423688, P500633 0.032104    0.284615  2.785726\n",
            "    P270594          P479318, P482676 0.032104    0.121911  2.676238\n",
            "    P500633          P270594, P477157 0.032104    0.113410  2.365701\n",
            "    P500633          P411365, P423688 0.032104    0.113410  2.525700\n",
            "    P469538                   P466123 0.032104    0.268603  2.127591\n",
            "    P466123                   P469538 0.032104    0.254296  2.127591\n",
            "    P466123                   P470529 0.032104    0.254296  2.777968\n",
            "    P505031                   P479841 0.032104    0.318280  1.824961\n",
            "    P482676          P270594, P479318 0.032104    0.262877  3.859443\n",
            "    P479318          P270594, P482676 0.032104    0.261023  3.646411\n",
            "    P442840          P423148, P476414 0.032104    0.205556  3.223167\n",
            "    P423688          P411365, P500633 0.032104    0.121711  1.764420\n",
            "    P476414          P423148, P442840 0.032104    0.149798  3.304147\n",
            "    P423148          P476414, P442840 0.032104    0.308977  3.978727\n",
            "    P483076          P442840, P482551 0.031887    0.346698 10.872642\n",
            "    P482551          P483076, P442840 0.031887    0.346698 10.872642\n",
            "    P505031                   P500777 0.031887    0.316129  2.018497\n",
            "    P500777                   P505031 0.031887    0.203601  2.018497\n",
            "    P479841          P474832, P476414 0.031887    0.182836  3.121752\n",
            "    P476414          P474832, P479841 0.031887    0.148785  3.220192\n",
            "    P469538          P500633, P503936 0.031887    0.266788  2.095215\n",
            "    P500633          P469538, P503936 0.031887    0.112644  2.426576\n",
            "    P503936          P469538, P500633 0.031887    0.149390  2.326652\n",
            "    P474832          P479841, P476414 0.031887    0.346698  3.452005\n",
            "    P442840          P483076, P482551 0.031887    0.204167  2.219831\n",
            "    P474832                   P423148 0.031887    0.346698  3.336698\n",
            "    P503936 P270594, P500633, P501760 0.031887    0.149390  2.822496\n",
            "    P442840                   P501254 0.031887    0.204167  1.803081\n",
            "    P500633 P270594, P501760, P503936 0.031887    0.112644  2.868991\n",
            "    P479318                   P483076 0.031887    0.259259  2.818833\n",
            "    P483076                   P479318 0.031887    0.346698  2.818833\n",
            "    P482551                   P479318 0.031887    0.346698  2.818833\n",
            "    P479318                   P482551 0.031887    0.259259  2.818833\n",
            "    P482535                   P479318 0.031887    0.323789  2.632566\n",
            "    P270594          P479318, P442840 0.031887    0.121087  2.492020\n",
            "    P479318          P270594, P442840 0.031887    0.259259  3.700264\n",
            "    P442840          P270594, P479318 0.031887    0.204167  2.997479\n",
            "    P479318                   P482535 0.031887    0.259259  2.632566\n",
            "    P474832                   P479318 0.031887    0.346698  2.818833\n",
            "    P479318                   P474832 0.031887    0.259259  2.818833\n",
            "    P482551          P483076, P479318 0.031887    0.346698 10.872642\n",
            "    P479318          P483076, P482551 0.031887    0.259259  2.818833\n",
            "    P483076          P479318, P482551 0.031887    0.346698 10.872642\n",
            "    P482676                   P477157 0.031887    0.261101  3.055017\n",
            "    P477157                   P482676 0.031887    0.373096  3.055017\n",
            "    P455236                   P469538 0.031887    0.353365  2.956469\n",
            "    P469538                   P455236 0.031887    0.266788  2.956469\n",
            "    P501254                   P442840 0.031887    0.281609  1.803081\n",
            "    P442840                   P483076 0.031887    0.204167  2.219831\n",
            "    P483076                   P442840 0.031887    0.346698  2.219831\n",
            "    P501760 P270594, P500633, P503936 0.031887    0.265343  3.314989\n",
            "    P270594 P500633, P501760, P503936 0.031887    0.121087  2.722988\n",
            "    P500633                   P481366 0.031887    0.112644  2.077149\n",
            "    P481366                   P500633 0.031887    0.588000  2.077149\n",
            "    P423148                   P474832 0.031887    0.306889  3.336698\n",
            "    P442840                   P482551 0.031887    0.204167  2.219831\n",
            "    P482551                   P442840 0.031887    0.346698  2.219831\n",
            "    P505031          P505009, P505023 0.031670    0.313978  6.212193\n",
            "    P482551          P500633, P503936 0.031670    0.344340  2.704269\n",
            "    P482676          P479327, P500633 0.031670    0.259325  3.089117\n",
            "    P503936          P483076, P500633 0.031670    0.148374  2.651179\n",
            "    P500633          P479327, P482676 0.031670    0.111877  2.528210\n",
            "    P479327          P500633, P482676 0.031670    0.204769  2.503934\n",
            "    P505009          P505023, P505031 0.031670    0.379221  7.439182\n",
            "    P505023          P505009, P505031 0.031670    0.334096  7.369297\n",
            "    P503936          P500633, P482551 0.031670    0.148374  2.651179\n",
            "    P500633          P482551, P503936 0.031670    0.111877  2.515877\n",
            "    P482551 P483076, P500633, P503936 0.031670    0.344340 10.872642\n",
            "    P500633          P483076, P503936 0.031670    0.111877  2.515877\n",
            "    P483076          P500633, P503936 0.031670    0.344340  2.704269\n",
            "    P500633 P483076, P482551, P503936 0.031670    0.111877  2.515877\n",
            "    P483076 P500633, P482551, P503936 0.031670    0.344340 10.872642\n",
            "    P505031          P500633, P503936 0.031670    0.313978  2.465828\n",
            "    P500633          P505031, P503936 0.031670    0.111877  2.344340\n",
            "    P503936          P505031, P500633 0.031670    0.148374  2.350529\n",
            "    P503936 P483076, P500633, P482551 0.031670    0.148374  2.651179\n",
            "    P501760          P270594, P479327 0.031670    0.263538  3.107186\n",
            "    P503668          P270594, P500633 0.031670    0.385224  2.596321\n",
            "    P500633          P270594, P503668 0.031670    0.111877  2.282101\n",
            "    P442840                   P400259 0.031670    0.202778  1.592514\n",
            "    P400259                   P442840 0.031670    0.248722  1.592514\n",
            "    P479841          P270594, P469538 0.031670    0.181592  3.159016\n",
            "    P423148                   P469538 0.031670    0.304802  2.550156\n",
            "    P469538                   P423148 0.031670    0.264973  2.550156\n",
            "    P479327          P270594, P501760 0.031670    0.204769  2.931625\n",
            "    P270594          P479327, P501760 0.031670    0.120264  2.475068\n",
            "    P469538          P270594, P479841 0.031670    0.264973  2.732717\n",
            "    P500633                   P505020 0.031670    0.111877  1.999050\n",
            "    P270594          P469538, P479841 0.031670    0.120264  2.244596\n",
            "    P505020                   P500633 0.031670    0.565891  1.999050\n",
            "    P429952                   P309308 0.031670    0.358722  1.959372\n",
            "    P309308                   P429952 0.031670    0.172986  1.959372\n",
            "    P500993                   P503936 0.031670    0.447853  2.098172\n",
            "    P503936                   P500993 0.031670    0.148374  2.098172\n",
            "    P477157                   P466123 0.031670    0.370558  2.935179\n",
            "    P466123                   P477157 0.031670    0.250859  2.935179\n",
            "    P270594          P503668, P500633 0.031670    0.120264  2.421027\n",
            "    P476414          P270594, P466123 0.031453    0.146761  2.916245\n",
            "    P500618                   P500633 0.031453    0.617021  2.179669\n",
            "    P500633                   P480613 0.031453    0.111111  2.090703\n",
            "    P480613                   P500633 0.031453    0.591837  2.090703\n",
            "    P503936                   P479692 0.031453    0.147358  2.842339\n",
            "    P270594          P466123, P476414 0.031453    0.119440  2.117761\n",
            "    P479692                   P503936 0.031453    0.606695  2.842339\n",
            "    P500633                   P479692 0.031453    0.111111  2.143189\n",
            "    P479692                   P500633 0.031453    0.606695  2.143189\n",
            "    P466123          P270594, P476414 0.031453    0.249141  2.247631\n",
            "    P482535                   P500777 0.031453    0.319383  2.039275\n",
            "    P500633          P476414, P400259 0.031453    0.111111  2.573981\n",
            "    P476414          P411365, P500633 0.031453    0.146761  2.127575\n",
            "    P500633                   P500618 0.031453    0.111111  2.179669\n",
            "    P500777                   P482535 0.031453    0.200831  2.039275\n",
            "    P482676                   P400259 0.031453    0.257549  2.022658\n",
            "    P400259          P476414, P500633 0.031453    0.247019  2.169060\n",
            "    P476414          P400259, P500633 0.031453    0.146761  1.989908\n",
            "    P500633          P411365, P476414 0.031453    0.111111  2.207854\n",
            "    P400259                   P482676 0.031453    0.247019  2.022658\n",
            "    P411365          P476414, P500633 0.031453    0.278846  2.448535\n",
            "    P500633          P479841, P481739 0.031236    0.110345  2.410851\n",
            "    P500288                   P479318 0.031236    0.389189  3.164307\n",
            "    P476414                   P503668 0.031236    0.145749  1.772831\n",
            "    P479318                   P500288 0.031236    0.253968  3.164307\n",
            "    P503936                   P477157 0.031236    0.146341  1.712269\n",
            "    P270594          P479841, P471237 0.031236    0.118616  2.408901\n",
            "    P479841          P270594, P471237 0.031236    0.179104  3.426023\n",
            "    P471237          P270594, P479841 0.031236    0.215569  2.223205\n",
            "    P270594          P309308, P476414 0.031236    0.118616  2.287952\n",
            "    P400259          P270594, P476414 0.031236    0.245315  2.213117\n",
            "    P476414          P270594, P309308 0.031236    0.145749  2.698405\n",
            "    P309308          P270594, P476414 0.031236    0.170616  1.539218\n",
            "    P270594          P476414, P400259 0.031236    0.118616  2.747841\n",
            "    P476414          P270594, P400259 0.031236    0.145749  1.976185\n",
            "    P270594          P400259, P501760 0.031236    0.118616  2.720500\n",
            "    P400259          P270594, P501760 0.031236    0.245315  3.512121\n",
            "    P501760          P270594, P400259 0.031236    0.259928  3.524315\n",
            "    P477157                   P503936 0.031236    0.365482  1.712269\n",
            "    P479841                   P475124 0.031236    0.179104  2.907295\n",
            "    P503668                   P476414 0.031236    0.379947  1.772831\n",
            "    P503936          P479327, P476414 0.031236    0.146341  1.900378\n",
            "    P270594                   P505049 0.031236    0.118616  2.474301\n",
            "    P505049                   P270594 0.031236    0.651584  2.474301\n",
            "    P474832          P479841, P500633 0.031236    0.339623  3.214908\n",
            "    P479841          P474832, P500633 0.031236    0.179104  3.383900\n",
            "    P500633          P474832, P479841 0.031236    0.110345  2.388214\n",
            "    P309308                   P469538 0.031236    0.170616  1.427478\n",
            "    P469538                   P309308 0.031236    0.261343  1.427478\n",
            "    P479327          P476414, P503936 0.031236    0.201964  2.387313\n",
            "    P475124                   P479841 0.031236    0.507042  2.907295\n",
            "    P476414          P479327, P503936 0.031236    0.145749  2.479346\n",
            "    P481739          P479841, P500633 0.031236    0.297521  2.816366\n",
            "    P471237                   P455236 0.031236    0.215569  2.388876\n",
            "    P479841          P481739, P500633 0.031236    0.179104  3.151418\n",
            "    P500777                   P471237 0.031236    0.199446  1.376416\n",
            "    P471237                   P500777 0.031236    0.215569  1.376416\n",
            "    P482676                   P466123 0.031236    0.255773  2.025965\n",
            "    P466123                   P482676 0.031236    0.247423  2.025965\n",
            "    P455236                   P471237 0.031236    0.346154  2.388876\n",
            "    P455236                   P442838 0.031020    0.343750  4.126790\n",
            "    P503726                   P483076 0.031020    0.286573  3.115807\n",
            "    P479318                   P411365 0.031020    0.252205  2.235891\n",
            "    P411365                   P479318 0.031020    0.275000  2.235891\n",
            "    P411365                   P469538 0.031020    0.275000  2.300817\n",
            "    P469538                   P411365 0.031020    0.259528  2.300817\n",
            "    P479327                   P503668 0.031020    0.200561  2.439542\n",
            "    P483679                   P309308 0.031020    0.353960  1.933362\n",
            "    P309308                   P483679 0.031020    0.169431  1.933362\n",
            "    P483076                   P503726 0.031020    0.337264  3.115807\n",
            "    P501254                   P483076 0.031020    0.273946  2.978521\n",
            "    P483679                   P270594 0.031020    0.353960  1.344116\n",
            "    P270594                   P483679 0.031020    0.117792  1.344116\n",
            "    P483076                   P501254 0.031020    0.337264  2.978521\n",
            "    P482551                   P503726 0.031020    0.337264  3.115807\n",
            "    P442838                   P455236 0.031020    0.372396  4.126790\n",
            "    P503726                   P482551 0.031020    0.286573  3.115807\n",
            "    P481739                   P423148 0.031020    0.295455  2.843519\n",
            "    P482551          P503726, P483076 0.031020    0.337264 10.872642\n",
            "    P423148                   P481739 0.031020    0.298539  2.843519\n",
            "    P500633                   P423136 0.031020    0.109579  2.131465\n",
            "    P423136                   P500633 0.031020    0.603376  2.131465\n",
            "    P483076          P503726, P482551 0.031020    0.337264 10.872642\n",
            "    P503726          P483076, P482551 0.031020    0.286573  3.115807\n",
            "    P476414          P471043, P500633 0.031020    0.144737  3.475192\n",
            "    P501760                   P411365 0.031020    0.258123  2.288357\n",
            "    P411365                   P501760 0.031020    0.275000  2.288357\n",
            "    P471043                   P442839 0.031020    0.371429  5.096088\n",
            "    P442839                   P471043 0.031020    0.425595  5.096088\n",
            "    P483076          P501254, P482551 0.031020    0.337264 10.872642\n",
            "    P501254          P483076, P482551 0.031020    0.273946  2.978521\n",
            "    P503668                   P479327 0.031020    0.377309  2.439542\n",
            "    P501254                   P482551 0.031020    0.273946  2.978521\n",
            "    P482551                   P501254 0.031020    0.337264  2.978521\n",
            "    P482551          P501254, P483076 0.031020    0.337264 10.872642\n",
            "    P500633          P471043, P476414 0.031020    0.109579  1.913474\n",
            "    P500633          P423688, P400259 0.031020    0.109579  2.296169\n",
            "    P270594          P505023, P500633 0.031020    0.117792  2.129502\n",
            "    P423688          P400259, P500633 0.031020    0.117599  1.594500\n",
            "    P400259          P423688, P500633 0.031020    0.243612  2.384394\n",
            "    P471043          P270594, P476414 0.031020    0.371429  3.350853\n",
            "    P411365          P500633, P500777 0.031020    0.275000  2.592536\n",
            "    P500633          P411365, P500777 0.031020    0.109579  2.631027\n",
            "    P476414          P270594, P471043 0.031020    0.144737  3.319586\n",
            "    P270594          P471237, P476414 0.031020    0.117792  2.216421\n",
            "    P500633          P270594, P466123 0.031020    0.109579  2.177401\n",
            "    P466123          P270594, P500633 0.031020    0.245704  1.655991\n",
            "    P270594          P466123, P500633 0.031020    0.117792  2.320611\n",
            "    P471237          P270594, P476414 0.031020    0.214072  1.931255\n",
            "    P476414          P270594, P471237 0.031020    0.144737  2.768618\n",
            "    P500777          P411365, P500633 0.031020    0.198061  2.871261\n",
            "    P505023          P270594, P500633 0.031020    0.327231  2.205461\n",
            "    P500633          P270594, P505023 0.031020    0.109579  2.394109\n",
            "    P270594          P471043, P476414 0.031020    0.117792  2.056906\n",
            "    P481739          P476414, P500633 0.031020    0.295455  2.594372\n",
            "    P500633          P479841, P479645 0.031020    0.109579  2.658722\n",
            "    P479645          P479841, P500633 0.031020    0.336471  3.185071\n",
            "    P479841          P479645, P500633 0.031020    0.177861  2.928349\n",
            "    P476414          P481739, P500633 0.031020    0.144737  2.546706\n",
            "    P471043          P476414, P500633 0.031020    0.371429  3.261497\n",
            "    P500633          P476414, P481739 0.031020    0.109579  2.235208\n",
            "    P471043                   P469538 0.030803    0.368831  3.085865\n",
            "    P482676                   P455236 0.030803    0.252220  2.795037\n",
            "    P500633 P270594, P476414, P479318 0.030803    0.108812  2.572433\n",
            "    P479327          P270594, P500777 0.030803    0.199158  2.301054\n",
            "    P500777          P270594, P479327 0.030803    0.196676  2.318864\n",
            "    P469538                   P471043 0.030803    0.257713  3.085865\n",
            "    P505054          P505023, P500633 0.030803    0.442368  7.997312\n",
            "    P500288          P500633, P503936 0.030803    0.383784  3.014043\n",
            "    P500633          P500288, P503936 0.030803    0.108812  2.682484\n",
            "    P503936          P500288, P500633 0.030803    0.144309  2.510431\n",
            "    P500633          P505023, P505054 0.030803    0.108812  2.171535\n",
            "    P479318 P270594, P476414, P500633 0.030803    0.250441  3.619225\n",
            "    P476414 P270594, P479318, P500633 0.030803    0.143725  3.067458\n",
            "    P270594 P500633, P476414, P479318 0.030803    0.116969  2.853046\n",
            "    P400259                   P500288 0.030803    0.241908  3.014043\n",
            "    P442838                   P474832 0.030803    0.369792  4.020612\n",
            "    P474832                   P442838 0.030803    0.334906  4.020612\n",
            "    P270594          P479327, P500777 0.030803    0.116969  2.344460\n",
            "    P505023          P505054, P500633 0.030803    0.324943  7.761587\n",
            "    P500288                   P400259 0.030803    0.383784  3.014043\n",
            "    P479841          P476414, P455236 0.030803    0.176617  3.168109\n",
            "    P270594                   P458219 0.030803    0.116969  1.614448\n",
            "    P458219                   P270594 0.030803    0.425150  1.614448\n",
            "    P270594          P423688, P400259 0.030803    0.116969  2.451026\n",
            "    P455236          P479841, P476414 0.030803    0.341346  3.398717\n",
            "    P400259          P270594, P423688 0.030803    0.241908  2.687219\n",
            "    P270594                   P500618 0.030803    0.116969  2.294577\n",
            "    P500618                   P270594 0.030803    0.604255  2.294577\n",
            "    P423688          P270594, P400259 0.030803    0.116776  1.583349\n",
            "    P476414          P479841, P455236 0.030803    0.143725  3.296372\n",
            "    P482676                   P500288 0.030803    0.252220  3.142528\n",
            "    P500288                   P482676 0.030803    0.383784  3.142528\n",
            "    P455236                   P482676 0.030803    0.341346  2.795037\n",
            "    P479841          P400259, P500633 0.030803    0.176617  2.394718\n",
            "    P400259          P479841, P500633 0.030803    0.241908  2.289930\n",
            "    P500633          P479841, P400259 0.030803    0.108812  2.640129\n",
            "    P455236          P270594, P476414 0.030803    0.341346  3.079463\n",
            "    P270594          P476414, P455236 0.030803    0.116969  2.098154\n",
            "    P476414          P270594, P455236 0.030803    0.143725  3.110661\n",
            "    P309308                   P455236 0.030586    0.167062  1.851332\n",
            "    P270594                   P503891 0.030586    0.116145  2.012888\n",
            "    P474832                   P455236 0.030586    0.332547  3.685198\n",
            "    P270594 P479841, P479327, P500633 0.030586    0.116145  2.690595\n",
            "    P479841 P270594, P479327, P500633 0.030586    0.175373  3.354648\n",
            "    P479327 P270594, P479841, P500633 0.030586    0.197756  2.969560\n",
            "    P505020                   P505024 0.030586    0.546512  8.287561\n",
            "    P503891                   P270594 0.030586    0.530075  2.012888\n",
            "    P442838          P479841, P476414 0.030586    0.367188  3.656014\n",
            "    P500633 P270594, P479841, P479327 0.030586    0.108046  2.607811\n",
            "    P479841          P442838, P476414 0.030586    0.175373  3.313402\n",
            "    P442838                   P469538 0.030586    0.367188  3.072113\n",
            "    P469538                   P442838 0.030586    0.255898  3.072113\n",
            "    P270594          P500633, P482535 0.030586    0.116145  1.926001\n",
            "    P455236                   P474832 0.030586    0.338942  3.685198\n",
            "    P482535          P270594, P500633 0.030586    0.310573  2.093187\n",
            "    P455236                   P309308 0.030586    0.338942  1.851332\n",
            "    P476414          P479841, P442838 0.030586    0.142713  3.499494\n",
            "    P500633          P270594, P482535 0.030586    0.108046  2.453655\n",
            "    P505024                   P505020 0.030586    0.463816  8.287561\n",
            "    P476414          P270594, P442838 0.030586    0.142713  3.306055\n",
            "    P442838          P270594, P476414 0.030586    0.367188  3.312592\n",
            "    P270594          P442838, P476414 0.030586    0.116145  2.194378\n",
            "    P270594 P483076, P476414, P482551 0.030369    0.115321  2.568266\n",
            "    P309308                   P471043 0.030369    0.165877  1.986213\n",
            "    P500633 P270594, P479841, P482676 0.030369    0.107280  2.702510\n",
            "    P479841 P270594, P500633, P482676 0.030369    0.174129  3.372842\n",
            "    P270594 P479841, P500633, P482676 0.030369    0.115321  2.740366\n",
            "    P481739                   P501254 0.030369    0.289256  2.554542\n",
            "    P470529                   P309308 0.030369    0.331754  1.812066\n",
            "    P471043                   P309308 0.030369    0.363636  1.986213\n",
            "    P309308                   P470529 0.030369    0.165877  1.812066\n",
            "    P500633          P477157, P479841 0.030369    0.107280  2.377689\n",
            "    P479841          P477157, P500633 0.030369    0.174129  3.475049\n",
            "    P482551 P270594, P483076, P476414 0.030369    0.330189 10.872642\n",
            "    P476414 P270594, P483076, P482551 0.030369    0.141700  2.561721\n",
            "    P483076 P270594, P476414, P482551 0.030369    0.330189 10.872642\n",
            "    P503936          P503668, P500633 0.030369    0.142276  2.864167\n",
            "    P477157          P479841, P500633 0.030369    0.355330  3.363596\n",
            "    P482676 P270594, P479841, P500633 0.030369    0.248668  3.734068\n",
            "    P482535                   P501254 0.030369    0.308370  2.723345\n",
            "    P501254                   P482535 0.030369    0.268199  2.723345\n",
            "    P270594          P476414, P482551 0.030369    0.115321  2.568266\n",
            "    P400259                   P309308 0.030369    0.238501  1.302712\n",
            "    P270594 P482676, P500633, P503936 0.030369    0.115321  2.768911\n",
            "    P503936 P270594, P500633, P482676 0.030369    0.142276  2.755858\n",
            "    P500633 P270594, P482676, P503936 0.030369    0.107280  2.778424\n",
            "    P482676 P270594, P500633, P503936 0.030369    0.248668  3.106663\n",
            "    P309308                   P400259 0.030369    0.165877  1.302712\n",
            "    P471046          P270594, P418624 0.030369    0.426829  9.693019\n",
            "    P418624          P270594, P471046 0.030369    0.386740  9.383542\n",
            "    P270594          P418624, P471046 0.030369    0.115321  2.484257\n",
            "    P503726                   P500288 0.030369    0.280561  3.495640\n",
            "    P500288                   P503726 0.030369    0.378378  3.495640\n",
            "    P505054                   P503936 0.030369    0.436137  2.043284\n",
            "    P503936                   P505054 0.030369    0.142276  2.043284\n",
            "    P500633          P309308, P476414 0.030369    0.107280  2.069286\n",
            "    P501254                   P481739 0.030369    0.268199  2.554542\n",
            "    P270594          P483076, P476414 0.030369    0.115321  2.568266\n",
            "    P505024          P505023, P505054 0.030369    0.460526  9.190590\n",
            "    P505023          P505024, P505054 0.030369    0.320366  8.790999\n",
            "    P505054          P505024, P505023 0.030369    0.436137  9.713004\n",
            "    P483076          P270594, P476414 0.030369    0.330189  2.978806\n",
            "    P270594 P400259, P500633, P503936 0.030369    0.115321  2.644930\n",
            "    P400259 P270594, P500633, P503936 0.030369    0.238501  2.979645\n",
            "    P469538                   P442839 0.030369    0.254083  3.486086\n",
            "    P500633 P270594, P400259, P503936 0.030369    0.107280  2.510454\n",
            "    P442839                   P469538 0.030369    0.416667  3.486086\n",
            "    P505009          P505024, P505023 0.030369    0.363636  8.098375\n",
            "    P503936 P270594, P400259, P500633 0.030369    0.142276  2.941230\n",
            "    P505023          P505024, P505009 0.030369    0.320366  8.250770\n",
            "    P505024          P505009, P505023 0.030369    0.460526  9.111701\n",
            "    P476414          P270594, P483076 0.030369    0.141700  2.561721\n",
            "    P482551          P270594, P476414 0.030369    0.330189  2.978806\n",
            "    P476414          P270594, P482551 0.030369    0.141700  2.561721\n",
            "    P309308          P476414, P500633 0.030369    0.165877  1.456556\n",
            "    P476414          P309308, P500633 0.030369    0.141700  2.827874\n",
            "    P500633          P503668, P503936 0.030369    0.107280  2.332827\n",
            "    P503668          P500633, P503936 0.030369    0.369393  2.901026\n",
            "    P501760          P503726, P500633 0.030152    0.250903  3.920884\n",
            "    P501760          P270594, P476414 0.030152    0.250903  2.263524\n",
            "    P270594                   P423136 0.030152    0.114498  2.227146\n",
            "    P423136                   P270594 0.030152    0.586498  2.227146\n",
            "    P270594          P476414, P501760 0.030152    0.114498  2.537662\n",
            "    P476414          P270594, P501760 0.030152    0.140688  2.014201\n",
            "    P471101                   P270594 0.030152    0.480969  1.826414\n",
            "    P270594                   P471101 0.030152    0.114498  1.826414\n",
            "    P500633          P503726, P501760 0.030152    0.106513  2.639929\n",
            "    P500633                   P503879 0.030152    0.106513  1.268803\n",
            "    P503879                   P500633 0.030152    0.359173  1.268803\n",
            "    P503936                   P455236 0.030152    0.141260  1.565407\n",
            "    P503726          P500633, P501760 0.030152    0.278557  3.352868\n",
            "    P479645                   P482676 0.030152    0.327059  2.678048\n",
            "    P270594          P442839, P476414 0.030152    0.114498  2.377629\n",
            "    P442839          P270594, P476414 0.030152    0.413690  3.732120\n",
            "    P482676          P500633, P501760 0.030152    0.246892  2.971725\n",
            "    P500633          P501760, P482676 0.030152    0.106513  2.727927\n",
            "    P501760          P500633, P482676 0.030152    0.250903  3.068065\n",
            "    P482676                   P479645 0.030152    0.246892  2.678048\n",
            "    P503936          P270594, P469538 0.030152    0.141260  2.457394\n",
            "    P469538          P270594, P503936 0.030152    0.252269  2.061983\n",
            "    P505009                   P476414 0.030152    0.361039  1.684605\n",
            "    P476414          P479841, P481739 0.030152    0.140688  3.073805\n",
            "    P400259                   P411365 0.030152    0.236797  2.099299\n",
            "    P411365                   P400259 0.030152    0.267308  2.099299\n",
            "    P479841          P476414, P481739 0.030152    0.172886  3.526560\n",
            "    P481732                   P482676 0.030152    0.411243  3.367368\n",
            "    P481739          P479841, P476414 0.030152    0.287190  2.859495\n",
            "    P500993                   P476414 0.030152    0.426380  1.989487\n",
            "    P482676                   P481732 0.030152    0.246892  3.367368\n",
            "    P270594          P469538, P503936 0.030152    0.114498  2.466512\n",
            "    P476414          P270594, P442839 0.030152    0.140688  3.292248\n",
            "    P476414                   P500993 0.030152    0.140688  1.989487\n",
            "    P476414                   P505009 0.030152    0.140688  1.684605\n",
            "    P455236                   P503936 0.030152    0.334135  1.565407\n"
          ]
        }
      ],
      "source": [
        "# Filter rules to include only those where antecedents have a single item\n",
        "rules_filtered = rules[rules['antecedents'].apply(len) == 1].copy()\n",
        "\n",
        "rules_display = rules_filtered[[\"antecedents\", \"consequents\", \"support\", \"confidence\", \"lift\"]].copy()\n",
        "\n",
        "# Convert frozensets to readable strings\n",
        "rules_display[\"antecedents\"] = rules_display[\"antecedents\"].apply(lambda x: ', '.join(list(x)))\n",
        "rules_display[\"consequents\"] = rules_display[\"consequents\"].apply(lambda x: ', '.join(list(x)))\n",
        "\n",
        "# Sorting by confidence\n",
        "rules_display = rules_display.sort_values(by=\"support\", ascending=False)\n",
        "print(rules_display.to_string(index=False))"
      ]
    },
    {
      "cell_type": "markdown",
      "metadata": {
        "id": "DaL2u7BLpIwZ"
      },
      "source": [
        "### Testing"
      ]
    },
    {
      "cell_type": "code",
      "execution_count": 31,
      "metadata": {
        "colab": {
          "base_uri": "https://localhost:8080/"
        },
        "id": "TcxE1wZjpIwZ",
        "outputId": "8e03f326-f0b0-4e38-fca7-4853db7c3bd1"
      },
      "outputs": [
        {
          "output_type": "stream",
          "name": "stderr",
          "text": [
            "/usr/local/lib/python3.10/dist-packages/ipykernel/ipkernel.py:283: DeprecationWarning:\n",
            "\n",
            "`should_run_async` will not call `transform_cell` automatically in the future. Please pass the result to `transformed_cell` argument and any exception that happen during thetransform in `preprocessing_exc_tuple` in IPython 7.17 and above.\n",
            "\n"
          ]
        },
        {
          "output_type": "stream",
          "name": "stdout",
          "text": [
            "     antecedents                consequents   support  confidence      lift\n",
            "101      P500633                    P270594  0.148373    0.524138  1.990343\n",
            "880      P500633                    P503936  0.127332    0.449808  2.107334\n",
            "605      P500633                    P476414  0.113883    0.402299  1.877123\n",
            "854      P500633                    P500777  0.106074    0.374713  2.392556\n",
            "735      P500633                    P479841  0.105640    0.373180  2.139751\n",
            "...          ...                        ...       ...         ...       ...\n",
            "2294     P500633  P270594, P400259, P503936  0.030369    0.107280  2.510454\n",
            "2226     P500633           P503668, P503936  0.030369    0.107280  2.332827\n",
            "2214     P500633           P503726, P501760  0.030152    0.106513  2.639929\n",
            "877      P500633                    P503879  0.030152    0.106513  1.268803\n",
            "2160     P500633           P501760, P482676  0.030152    0.106513  2.727927\n",
            "\n",
            "[206 rows x 5 columns]\n"
          ]
        },
        {
          "output_type": "stream",
          "name": "stderr",
          "text": [
            "/usr/local/lib/python3.10/dist-packages/ipykernel/ipkernel.py:283: DeprecationWarning:\n",
            "\n",
            "`should_run_async` will not call `transform_cell` automatically in the future. Please pass the result to `transformed_cell` argument and any exception that happen during thetransform in `preprocessing_exc_tuple` in IPython 7.17 and above.\n",
            "\n"
          ]
        }
      ],
      "source": [
        "filtered_rules = rules_display[rules_display['antecedents'].apply(lambda x: 'P500633' in x)]\n",
        "print(filtered_rules)"
      ]
    },
    {
      "cell_type": "code",
      "execution_count": 32,
      "metadata": {
        "colab": {
          "base_uri": "https://localhost:8080/"
        },
        "id": "DSAVwRBTpIwZ",
        "outputId": "0ead1759-2655-426c-e686-b3ee00577473"
      },
      "outputs": [
        {
          "output_type": "stream",
          "name": "stdout",
          "text": [
            "Items associated with 'P500633': ['P270594', 'P503936', 'P476414', 'P500777', 'P479841', 'P423688', 'P479327', 'P501760', 'P482676', 'P501254', 'P400259', 'P411365', 'P442840', 'P479318', 'P469538', 'P503726', 'P505031', 'P479645', 'P482535', 'P471237', 'P500288', 'P481739', 'P423148', 'P483076', 'P482551', 'P505023', 'P500857', 'P474832', 'P466123', 'P481831', 'P477157', 'P309308', 'P503668', 'P481989', 'P482540', 'P505009', 'P481732', 'P455236', 'P433520', 'P500993', 'P461949', 'P471046', 'P503814', 'P505054', 'P471043', 'P418624', 'P232915', 'P500744', 'P442838', 'P504045', 'P456218', 'P505024', 'P442839', 'P501288', 'P481830', 'P462666', 'P504044', 'P503651', 'P475124', 'P504125', 'P474075', 'P479348', 'P458219', 'P501282', 'P470529', 'P480461', 'P505049', 'P483679', 'P503891', 'P481366', 'P505020', 'P480613', 'P479692', 'P500618', 'P423136', 'P503879']\n"
          ]
        },
        {
          "output_type": "stream",
          "name": "stderr",
          "text": [
            "/usr/local/lib/python3.10/dist-packages/ipykernel/ipkernel.py:283: DeprecationWarning:\n",
            "\n",
            "`should_run_async` will not call `transform_cell` automatically in the future. Please pass the result to `transformed_cell` argument and any exception that happen during thetransform in `preprocessing_exc_tuple` in IPython 7.17 and above.\n",
            "\n"
          ]
        }
      ],
      "source": [
        "# Preprocess the rules DataFrame to ensure 'antecedents' and 'consequents' are sets\n",
        "def preprocess_rules(rules):\n",
        "   \"\"\"\n",
        "   Preprocess the rules DataFrame to ensure 'antecedents' and 'consequents' are sets.\n",
        "   \"\"\"\n",
        "    # Create a copy of the DataFrame to avoid modifying the original\n",
        "   rules = rules.copy()\n",
        "   rules['antecedents'] = rules['antecedents'].apply(lambda x: x.split(\", \") if isinstance(x, str) else x)\n",
        "   rules['consequents'] = rules['consequents'].apply(lambda x: x.split(\", \") if isinstance(x, str) else x)\n",
        "   return rules\n",
        "\n",
        "# Function to find items associated with an input item\n",
        "def find_associated_items(input_item, rules):\n",
        "   \"\"\"\n",
        "   Find all items associated with an input item based on association rules.\n",
        "\n",
        "   Parameters:\n",
        "      input_item (str): The item to find associations for.\n",
        "      rules (pd.DataFrame): A DataFrame of association rules with columns 'antecedents' and 'consequents'.\n",
        "\n",
        "   Returns:\n",
        "      list: A list of items associated with the input item, preserving the order of rules.\n",
        "   \"\"\"\n",
        "   # Sort rules by confidence in descending order\n",
        "   rules = rules.sort_values(by='confidence', ascending=False).reset_index(drop=True)\n",
        "\n",
        "   input_item_antecedents = [input_item]\n",
        "\n",
        "   associated_items = []\n",
        "\n",
        "   # Iterate through the rules\n",
        "   for _, rule in rules.iterrows():\n",
        "      antecedents = rule['antecedents']\n",
        "      consequents = rule['consequents']\n",
        "\n",
        "      # Check if the input item is in the antecedents\n",
        "      if input_item_antecedents == antecedents:\n",
        "         # Add consequents to the associated items if not already present\n",
        "         for item in consequents:\n",
        "               if item not in associated_items:\n",
        "                  associated_items.append(item)\n",
        "\n",
        "   return associated_items\n",
        "\n",
        "rules_df = pd.DataFrame(rules_display)\n",
        "\n",
        "# Preprocess the rules DataFrame\n",
        "rules_df = preprocess_rules(rules_df)\n",
        "\n",
        "# Input item\n",
        "input_item = 'P500633'\n",
        "\n",
        "# Find associated items\n",
        "associated_items = find_associated_items(input_item, rules_df)\n",
        "print(f\"Items associated with '{input_item}': {associated_items}\")"
      ]
    },
    {
      "cell_type": "code",
      "execution_count": 33,
      "metadata": {
        "colab": {
          "base_uri": "https://localhost:8080/"
        },
        "id": "qJVv_k3zpIwZ",
        "outputId": "052325d1-56d6-4ef5-c1ee-993dc1014458"
      },
      "outputs": [
        {
          "output_type": "stream",
          "name": "stderr",
          "text": [
            "/usr/local/lib/python3.10/dist-packages/ipykernel/ipkernel.py:283: DeprecationWarning:\n",
            "\n",
            "`should_run_async` will not call `transform_cell` automatically in the future. Please pass the result to `transformed_cell` argument and any exception that happen during thetransform in `preprocessing_exc_tuple` in IPython 7.17 and above.\n",
            "\n"
          ]
        }
      ],
      "source": [
        "rules_display.to_csv('processed_data/association_rules.csv', index=False)"
      ]
    },
    {
      "cell_type": "markdown",
      "metadata": {
        "id": "yKymTVSapIwZ"
      },
      "source": [
        "____"
      ]
    },
    {
      "cell_type": "markdown",
      "metadata": {
        "id": "gFgeBUimpIwZ"
      },
      "source": [
        "# 5. Similar Items Based on Ingredients and Highlights"
      ]
    },
    {
      "cell_type": "markdown",
      "metadata": {
        "id": "RSrr3NhCpIwZ"
      },
      "source": [
        "### Calculate similar items using ingredients\n",
        "\n",
        "To calculate similar items using ingredients we choose to embed ingredients with TF-IDF. This was chosen because TF-IDF will take into account the uniqueness of ingredients. For example water is a frequent ingredient in the list which does not tell us a lot about the product. Where as salicylic acid does not occur as often leading to higher importance. To compute the similarity between products we choose cosine similarity because TF-IDF gives results in the form of embedding."
      ]
    },
    {
      "cell_type": "markdown",
      "metadata": {
        "id": "fOF1XcBHpIwa"
      },
      "source": [
        "#### Display ingredients"
      ]
    },
    {
      "cell_type": "code",
      "execution_count": 34,
      "metadata": {
        "colab": {
          "base_uri": "https://localhost:8080/"
        },
        "id": "-FKVKIzUpIwa",
        "outputId": "701ee734-6576-47b0-c84b-6dfd428e33bc"
      },
      "outputs": [
        {
          "output_type": "stream",
          "name": "stdout",
          "text": [
            "                                        product_name  \\\n",
            "0               GENIUS Sleeping Collagen Moisturizer   \n",
            "1                       GENIUS Liquid Collagen Serum   \n",
            "2               GENIUS Liquid Collagen Lip Treatment   \n",
            "3  SUBLIME DEFENSE Ultra Lightweight UV Defense F...   \n",
            "4                   GENIUS Ultimate Anti-Aging Cream   \n",
            "\n",
            "                                         ingredients  \n",
            "0  Collagen, Water, Ethylhexyl Palmitate, Oryza S...  \n",
            "1  Collagen, Water, Propanediol, Isononyl Isonona...  \n",
            "2  Collagen, Water, Glycerin, Isononyl Isononanoa...  \n",
            "3  Octinoxate 75%, Titanium Dioxide 2%, Zinc Oxid...  \n",
            "4  Water, Caprylic/Capric Triglyceride, Hydrogena...  \n"
          ]
        },
        {
          "output_type": "stream",
          "name": "stderr",
          "text": [
            "/usr/local/lib/python3.10/dist-packages/ipykernel/ipkernel.py:283: DeprecationWarning:\n",
            "\n",
            "`should_run_async` will not call `transform_cell` automatically in the future. Please pass the result to `transformed_cell` argument and any exception that happen during thetransform in `preprocessing_exc_tuple` in IPython 7.17 and above.\n",
            "\n"
          ]
        }
      ],
      "source": [
        "df = pd.read_csv(\"processed_data/skincare.csv\")\n",
        "# Select only 'Name' and 'Ingredients' columns\n",
        "df_selected = df[['product_name', 'ingredients']]\n",
        "\n",
        "# Display the first 5 rows\n",
        "print(df_selected.head())"
      ]
    },
    {
      "cell_type": "markdown",
      "metadata": {
        "id": "e64-TFYMpIwa"
      },
      "source": [
        "#### Define functions"
      ]
    },
    {
      "cell_type": "code",
      "execution_count": 35,
      "metadata": {
        "colab": {
          "base_uri": "https://localhost:8080/"
        },
        "id": "fgTwOgjxpIwa",
        "outputId": "c117e8b1-426e-4ab7-bb91-d3d723c37503"
      },
      "outputs": [
        {
          "output_type": "stream",
          "name": "stderr",
          "text": [
            "/usr/local/lib/python3.10/dist-packages/ipykernel/ipkernel.py:283: DeprecationWarning:\n",
            "\n",
            "`should_run_async` will not call `transform_cell` automatically in the future. Please pass the result to `transformed_cell` argument and any exception that happen during thetransform in `preprocessing_exc_tuple` in IPython 7.17 and above.\n",
            "\n"
          ]
        }
      ],
      "source": [
        "def custom_tokenizer(text):\n",
        "   return text.split(\", \")\n",
        "\n",
        "def similarity_search_ingredients(df, query):\n",
        "   \"\"\"\n",
        "   Perform a similarity search based on cosine similarity of TF-IDF vectors.\n",
        "\n",
        "   Parameters:\n",
        "   - query (str): The input query string.\n",
        "   - df (pd.DataFrame): A DataFrame containing 'id' and 'ingredients' columns.\n",
        "\n",
        "   Returns:\n",
        "   - results_df (pd.DataFrame): Rows from the original DataFrame sorted by similarity.\n",
        "   \"\"\"\n",
        "   # Initialize TfidfVectorizer with a custom tokenizer (adjust lowercase as needed)\n",
        "   vectorizer = TfidfVectorizer(tokenizer=custom_tokenizer, lowercase=False)\n",
        "\n",
        "   # Extract the 'ingredients' column\n",
        "   ingredients = df['ingredients']\n",
        "\n",
        "   # Fit and transform the ingredients\n",
        "   tfidf_matrix = vectorizer.fit_transform(ingredients)\n",
        "\n",
        "   # Transform the query into the TF-IDF space\n",
        "   query_tfidf = vectorizer.transform([query])\n",
        "\n",
        "   # Compute cosine similarity between the query and all documents\n",
        "   similarities = cosine_similarity(query_tfidf, tfidf_matrix).flatten()\n",
        "\n",
        "   # Add similarity scores to the DataFrame\n",
        "   df['similarity_score_ingredients'] = similarities\n",
        "\n",
        "   # Sort the DataFrame by similarity scores in descending order\n",
        "   results_df = df.sort_values(by='similarity_score_ingredients', ascending=False).reset_index(drop=True)\n",
        "\n",
        "   results_df['rank_ingredients'] = range(1, len(results_df) + 1)\n",
        "\n",
        "   return results_df"
      ]
    },
    {
      "cell_type": "markdown",
      "metadata": {
        "id": "4rTtx2QapIwa"
      },
      "source": [
        "### Calculate similarity using the highlights\n",
        "\n",
        "In the dataset we choose we were not provided with description but rather highlights of a product. Those are sets of words that describe the product, so therefore there was no need to use the minhashing as the length of sets is not big to begging with. To compare the sets we choose to use Jaccard Similarity because the more highlight product have in common the more similar they are."
      ]
    },
    {
      "cell_type": "markdown",
      "metadata": {
        "id": "yy3JxAFjpIwb"
      },
      "source": [
        "#### Display a few rows of highlights"
      ]
    },
    {
      "cell_type": "code",
      "execution_count": 36,
      "metadata": {
        "colab": {
          "base_uri": "https://localhost:8080/"
        },
        "id": "5kql2xUIpIwb",
        "outputId": "b98ba334-1128-4adc-ada2-b8a3eb48af8b"
      },
      "outputs": [
        {
          "output_type": "stream",
          "name": "stdout",
          "text": [
            "                                        product_name  \\\n",
            "0               GENIUS Sleeping Collagen Moisturizer   \n",
            "1                       GENIUS Liquid Collagen Serum   \n",
            "2               GENIUS Liquid Collagen Lip Treatment   \n",
            "3  SUBLIME DEFENSE Ultra Lightweight UV Defense F...   \n",
            "4                   GENIUS Ultimate Anti-Aging Cream   \n",
            "\n",
            "                                          highlights  \n",
            "0  Vegan, Loss of firmness, Collagen, Hypoallerge...  \n",
            "1  Vegan, Loss of firmness, Collagen, Hypoallerge...  \n",
            "2  Vegan, Loss of firmness, Plumping, Collagen, H...  \n",
            "3  Vegan, Hypoallergenic, UV Protection, SPF, Dry...  \n",
            "4  Vegan, Collagen, Hypoallergenic, Loss of firmn...  \n"
          ]
        },
        {
          "output_type": "stream",
          "name": "stderr",
          "text": [
            "/usr/local/lib/python3.10/dist-packages/ipykernel/ipkernel.py:283: DeprecationWarning:\n",
            "\n",
            "`should_run_async` will not call `transform_cell` automatically in the future. Please pass the result to `transformed_cell` argument and any exception that happen during thetransform in `preprocessing_exc_tuple` in IPython 7.17 and above.\n",
            "\n"
          ]
        }
      ],
      "source": [
        "df_selected = df[['product_name', 'highlights']]\n",
        "\n",
        "# Display the first 5 rows\n",
        "print(df_selected.head())"
      ]
    },
    {
      "cell_type": "markdown",
      "metadata": {
        "id": "TvkYqFfIpIwb"
      },
      "source": [
        "#### Define functions"
      ]
    },
    {
      "cell_type": "code",
      "execution_count": 37,
      "metadata": {
        "colab": {
          "base_uri": "https://localhost:8080/"
        },
        "id": "nRNP1mdYpIwc",
        "outputId": "3ff6e06d-93ac-4a8a-d95f-7662fb01e38b"
      },
      "outputs": [
        {
          "output_type": "stream",
          "name": "stderr",
          "text": [
            "/usr/local/lib/python3.10/dist-packages/ipykernel/ipkernel.py:283: DeprecationWarning:\n",
            "\n",
            "`should_run_async` will not call `transform_cell` automatically in the future. Please pass the result to `transformed_cell` argument and any exception that happen during thetransform in `preprocessing_exc_tuple` in IPython 7.17 and above.\n",
            "\n"
          ]
        }
      ],
      "source": [
        "def jaccard_similarity(set_a, set_b):\n",
        "   \"\"\"\n",
        "   Calculate the Jaccard Similarity between two sets.\n",
        "   \"\"\"\n",
        "   intersection = len(set_a.intersection(set_b))\n",
        "   union = len(set_a.union(set_b))\n",
        "   return intersection / union if union != 0 else 0.0\n",
        "\n",
        "def similarity_search_highlights(df, token_list):\n",
        "   \"\"\"\n",
        "   Perform similarity search based on Jaccard similarity between df and a token list.\n",
        "\n",
        "   :param df: A pandas DataFrame with columns ['product_id','product_name', 'highlights'].\n",
        "   :param token_list: A list of tokens to compare against (highlights).\n",
        "   :return: A DataFrame with IDs and their Jaccard similarity scores, sorted by similarity score.\n",
        "   \"\"\"\n",
        "   # Convert the token list to a set\n",
        "   token_set = set(token_list)\n",
        "\n",
        "   # List to store the similarity scores\n",
        "   similarity_scores = []\n",
        "\n",
        "   # Iterate over the rows of the DataFrame\n",
        "   for index, row in df.iterrows():\n",
        "      product_id = row['product_id']\n",
        "      title = row['product_name']\n",
        "      # Convert the tokens for this ID to a set\n",
        "      id_token_set = set(row['highlights'].split(\", \"))\n",
        "\n",
        "      # Calculate Jaccard similarity\n",
        "      similarity_score = jaccard_similarity(id_token_set, token_set)\n",
        "\n",
        "      # Append the result as a tuple (id, score)\n",
        "      similarity_scores.append((product_id, title, similarity_score, (row['highlights'])))\n",
        "\n",
        "   # Convert the list of similarity scores to a DataFrame\n",
        "   similarity_df = pd.DataFrame(similarity_scores, columns=['product_id', 'product_name', 'similarity_score_highlights', 'highlights'])\n",
        "\n",
        "   # Sort the DataFrame by the 'similarity_score' column in descending order\n",
        "   similarity_df_sorted = similarity_df.sort_values(by='similarity_score_highlights', ascending=False).reset_index(drop=True)\n",
        "\n",
        "   similarity_df_sorted['rank_highlights'] = range(1, len(similarity_df_sorted) + 1)\n",
        "\n",
        "   return similarity_df_sorted"
      ]
    },
    {
      "cell_type": "markdown",
      "metadata": {
        "id": "qFje0fRMpIwd"
      },
      "source": [
        "### Combining similarities based on highlight and ingredients\n",
        "Jaccard similarity measure is in range [0, 1] and cosine similarity is in range [-1, 1] which means that we can not simply calculate the average or weighted sum. Due to that reason we choose to use reciprocal rank fusiona algorithm. To use it we need to rank our similarities tables which is already done in their respective functions.\n",
        "The **Reciprocal Rank Fusion (RRF)** score for a product _d_ is calculated as:\n",
        "$$\n",
        "RRF(d) = \\sum_{i=1}^{N} \\frac{1}{r_i(d) + k}\n",
        "\\text{}\n",
        "$$\n",
        "Where:\n",
        "- $r_i (d)$ is the rank of product $d$ in the $i^{th}$ ranked list.\n",
        "- $k$ is a constant (typically $k = 60$), used to prevent division by zero and to adjust the impact of higher ranks.\n",
        "- $N$ is the number of ranked lists (models or sources).\n",
        "\n",
        "The reciprocal rank is typically defined as $\\frac{1}{r_i(d)}$, where higher ranks give more weight to the document."
      ]
    },
    {
      "cell_type": "code",
      "execution_count": 38,
      "metadata": {
        "colab": {
          "base_uri": "https://localhost:8080/"
        },
        "id": "uXdk9hM3pIwd",
        "outputId": "0d734ab6-76c8-4a70-933f-04734ed3978e"
      },
      "outputs": [
        {
          "output_type": "stream",
          "name": "stderr",
          "text": [
            "/usr/local/lib/python3.10/dist-packages/ipykernel/ipkernel.py:283: DeprecationWarning:\n",
            "\n",
            "`should_run_async` will not call `transform_cell` automatically in the future. Please pass the result to `transformed_cell` argument and any exception that happen during thetransform in `preprocessing_exc_tuple` in IPython 7.17 and above.\n",
            "\n"
          ]
        }
      ],
      "source": [
        "def reciprocal_rank_fusion(df_highlights, df_ingredients, k=60):\n",
        "   \"\"\"\n",
        "   Compute Reciprocal Rank Fusion (RRF) scores based on rank_highlights and rank_ingredients.\n",
        "\n",
        "   Parameters:\n",
        "   - df_highlights (pd.DataFrame): DataFrame containing 'product_id', 'rank_highlights', and other relevant columns.\n",
        "   - df_ingredients (pd.DataFrame): DataFrame containing 'product_id', 'rank_ingredients', and other relevant columns.\n",
        "   - k (int): A constant for RRF computation (default=60).\n",
        "\n",
        "   Returns:\n",
        "   - combined_df (pd.DataFrame): A new DataFrame with overall RRF scores and combined ranking.\n",
        "   \"\"\"\n",
        "   # Merge the two DataFrames on 'product_id'\n",
        "   merged_df = pd.merge(\n",
        "      df_highlights,  # Include all columns from df_highlights\n",
        "      df_ingredients[['product_id', 'rank_ingredients']],  # Include only product_id and rank_ingredients\n",
        "      on='product_id',\n",
        "      how='inner'\n",
        "   )\n",
        "\n",
        "   # Fill missing ranks with a large value (e.g., very low relevance)\n",
        "   merged_df['rank_highlights'] = merged_df['rank_highlights'].fillna(float('inf'))\n",
        "   merged_df['rank_ingredients'] = merged_df['rank_ingredients'].fillna(float('inf'))\n",
        "\n",
        "   # Compute the RRF score\n",
        "   merged_df['rrf_score'] = (\n",
        "      1 / (k + merged_df['rank_highlights']) +\n",
        "      1 / (k + merged_df['rank_ingredients'])\n",
        "   )\n",
        "\n",
        "   # Sort by the RRF score in descending order\n",
        "   merged_df = merged_df.sort_values(by='rrf_score', ascending=False).reset_index(drop=True)\n",
        "\n",
        "   # Add a new rank based on the RRF score\n",
        "   merged_df['overall_rank'] = range(1, len(merged_df) + 1)\n",
        "\n",
        "   return merged_df"
      ]
    },
    {
      "cell_type": "markdown",
      "metadata": {
        "id": "O2AHd5EcpIwl"
      },
      "source": [
        "### Run code for specific product_id"
      ]
    },
    {
      "cell_type": "code",
      "execution_count": 39,
      "metadata": {
        "colab": {
          "base_uri": "https://localhost:8080/"
        },
        "id": "U3Wc2rn7pIwl",
        "outputId": "c6879fe6-3e6d-4821-d18f-096a2f3206dd"
      },
      "outputs": [
        {
          "output_type": "stream",
          "name": "stderr",
          "text": [
            "/usr/local/lib/python3.10/dist-packages/ipykernel/ipkernel.py:283: DeprecationWarning:\n",
            "\n",
            "`should_run_async` will not call `transform_cell` automatically in the future. Please pass the result to `transformed_cell` argument and any exception that happen during thetransform in `preprocessing_exc_tuple` in IPython 7.17 and above.\n",
            "\n"
          ]
        }
      ],
      "source": [
        "def get_similar_items(product_id, df, n = 5):\n",
        "   \"\"\"\n",
        "   Retrieve the top N products most similar to a given product based on highlights and ingredients.\n",
        "\n",
        "   This function takes a product ID, performs similarity searches on the product's highlights and ingredients,\n",
        "   and combines the results using a reciprocal rank fusion algorithm. It returns the top N most similar products.\n",
        "\n",
        "   Parameters:\n",
        "   ----------\n",
        "   product_id : int or str\n",
        "      The ID of the product for which similar items are being searched.\n",
        "   n : int, optional\n",
        "      The number of similar products to return. Default is 5.\n",
        "\n",
        "   Returns:\n",
        "    - merged_results (pd.DataFrame): A new DataFrame containing top n similar items\n",
        "   \"\"\"\n",
        "\n",
        "   # get the selected product\n",
        "   product = df[df['product_id'] == product_id]\n",
        "\n",
        "   # get the product highlights and ingredients\n",
        "   product_highlights =  list(product['highlights'])[0].split(\", \")\n",
        "   product_ingredients = str(product['ingredients'])\n",
        "\n",
        "   # remove the product I am searching for\n",
        "   df = df[(df['product_id'] != product_id)]\n",
        "\n",
        "   # perform similarity searches\n",
        "   highlights_similarity_results = similarity_search_highlights(df, product_highlights)\n",
        "   ingredients_similarity_results = similarity_search_ingredients(df, product_ingredients)\n",
        "\n",
        "   # combine similarity searches with reciprocal rank fusion algorithm\n",
        "   merged_results = reciprocal_rank_fusion(highlights_similarity_results, ingredients_similarity_results)\n",
        "\n",
        "   # Return only the top-n products\n",
        "   return merged_results[:n]"
      ]
    },
    {
      "cell_type": "code",
      "execution_count": 40,
      "metadata": {
        "colab": {
          "base_uri": "https://localhost:8080/"
        },
        "id": "v0oHoVI9pIwl",
        "outputId": "e7a62861-87bc-4a64-ecc8-bf46e012f99c"
      },
      "outputs": [
        {
          "output_type": "stream",
          "name": "stderr",
          "text": [
            "/usr/local/lib/python3.10/dist-packages/ipykernel/ipkernel.py:283: DeprecationWarning:\n",
            "\n",
            "`should_run_async` will not call `transform_cell` automatically in the future. Please pass the result to `transformed_cell` argument and any exception that happen during thetransform in `preprocessing_exc_tuple` in IPython 7.17 and above.\n",
            "\n",
            "/usr/local/lib/python3.10/dist-packages/sklearn/feature_extraction/text.py:521: UserWarning:\n",
            "\n",
            "The parameter 'token_pattern' will not be used since 'tokenizer' is not None'\n",
            "\n"
          ]
        },
        {
          "output_type": "stream",
          "name": "stdout",
          "text": [
            "The most similar products to the Hyaluronic Facial Cream are: \n",
            "0                                  Peptide Moisturizer\n",
            "1    Do Not Age with Dr. Brandt Moisturizing Neck C...\n",
            "2              Needles No More Wrinkle Smoothing Cream\n",
            "3                         Eczema+ Dermatitis Face Balm\n",
            "4                          Youth Junkie Activated Mask\n",
            "Name: product_name, dtype: object\n"
          ]
        },
        {
          "output_type": "stream",
          "name": "stderr",
          "text": [
            "<ipython-input-35-1d42f96044a8>:31: SettingWithCopyWarning:\n",
            "\n",
            "\n",
            "A value is trying to be set on a copy of a slice from a DataFrame.\n",
            "Try using .loc[row_indexer,col_indexer] = value instead\n",
            "\n",
            "See the caveats in the documentation: https://pandas.pydata.org/pandas-docs/stable/user_guide/indexing.html#returning-a-view-versus-a-copy\n",
            "\n"
          ]
        }
      ],
      "source": [
        "df = pd.read_csv(\"processed_data/skincare.csv\")\n",
        "product_id = \"P442001\"\n",
        "product_name = df[df['product_id'] == product_id]['product_name'].iloc[0]\n",
        "merged = get_similar_items(product_id, df)['product_name'].head(5)\n",
        "\n",
        "print(f\"The most similar products to the {product_name} are: \")\n",
        "print(merged)"
      ]
    },
    {
      "cell_type": "markdown",
      "metadata": {
        "id": "1K19eXc1pIwl"
      },
      "source": [
        "_____"
      ]
    },
    {
      "cell_type": "markdown",
      "metadata": {
        "id": "8VU54mWUpIwl"
      },
      "source": [
        "# 6.Recommender"
      ]
    },
    {
      "cell_type": "markdown",
      "metadata": {
        "id": "ZsZqtWWBpIwl"
      },
      "source": [
        "To handle cases where a product lacks association rules—such as newly introduced items—the system calculates\n",
        "similarity scores against all other products in the database. It identifies the most similar product and\n",
        "utilizes its association rules to generate recommendations. This approach maintains consistency in the type\n",
        "of recommendations provided. Similarly, if there are insufficient association rules, the system leverages the\n",
        "\"similar items\" method by using related products as a basis to ensure a consistent and diverse output."
      ]
    },
    {
      "cell_type": "code",
      "execution_count": 41,
      "metadata": {
        "colab": {
          "base_uri": "https://localhost:8080/"
        },
        "id": "Xn2hKCrxpIwl",
        "outputId": "053d580b-3697-4ac7-fa8c-3c0ec509a632"
      },
      "outputs": [
        {
          "output_type": "stream",
          "name": "stderr",
          "text": [
            "/usr/local/lib/python3.10/dist-packages/ipykernel/ipkernel.py:283: DeprecationWarning:\n",
            "\n",
            "`should_run_async` will not call `transform_cell` automatically in the future. Please pass the result to `transformed_cell` argument and any exception that happen during thetransform in `preprocessing_exc_tuple` in IPython 7.17 and above.\n",
            "\n"
          ]
        }
      ],
      "source": [
        "# Recommender function\n",
        "def recommender(product_id, rules, df, n=5):\n",
        "    \"\"\"\n",
        "    Recommend products based on association rules and similarity.\n",
        "\n",
        "    Parameters:\n",
        "        product_id (str): The product ID for which recommendations are needed.\n",
        "        rules (pd.DataFrame): A DataFrame of association rules with columns 'antecedents' and 'consequents'.\n",
        "        n (int): Number of recommendations to return.\n",
        "\n",
        "    Returns:\n",
        "        list: Recommended products.\n",
        "    \"\"\"\n",
        "\n",
        "    # Step 1: Find associated items\n",
        "    associated_items = find_associated_items(product_id, rules)\n",
        "\n",
        "    # no rule for chosen item\n",
        "    if len(associated_items) == 0:\n",
        "        # find the most similar antecedents to the product_id\n",
        "\n",
        "        # get all the single antecedents in the rules\n",
        "        antecedents = [\n",
        "            list(item)[0]\n",
        "            for item in rules[\"antecedents\"]\n",
        "            if len(item) == 1\n",
        "        ]\n",
        "\n",
        "        # filter skincare so it searches for the similar items only among the antecedents and product_id\n",
        "        antecedents.append(product_id)\n",
        "        df_antecedents = df[df['product_id'].isin(antecedents)]\n",
        "\n",
        "        # the most similar antecedents to a product_id\n",
        "        the_most_similar_product_id = get_similar_items(product_id, df_antecedents, n = 1)['product_id'].iloc[0]\n",
        "\n",
        "        associated_items = find_associated_items(the_most_similar_product_id, rules)\n",
        "\n",
        "    # get the top n associated items\n",
        "    if len(associated_items) >= n:\n",
        "        return associated_items[:n]\n",
        "\n",
        "    # if there are not enough  associated items get the similar items to the product_id as well\n",
        "    else:\n",
        "        number_of_similar_items = n - len(associated_items)\n",
        "\n",
        "        # for each of the consequents find similar items and combine them in one dataframe\n",
        "        similar_items_dataframes = []\n",
        "        for i in associated_items:\n",
        "            # get the top number_of_similar_items\n",
        "            similar_items = get_similar_items(product_id, df)\n",
        "            similar_items_dataframes.append(similar_items)\n",
        "\n",
        "        all_similar_items = pd.concat(similar_items_dataframes, axis=0)\n",
        "\n",
        "        # order is by similarity_score_highlights\n",
        "        all_similar_items = all_similar_items.sort_values(by='rrf_score', ascending=False).reset_index(drop=True)\n",
        "\n",
        "        # take only the top number_of_similar_items\n",
        "        similar_products = list(all_similar_items['product_id'])[:number_of_similar_items]\n",
        "\n",
        "        return associated_items + similar_products"
      ]
    },
    {
      "cell_type": "markdown",
      "metadata": {
        "id": "TT-ioa8KpIwl"
      },
      "source": [
        "### Load data"
      ]
    },
    {
      "cell_type": "code",
      "execution_count": 42,
      "metadata": {
        "colab": {
          "base_uri": "https://localhost:8080/"
        },
        "id": "xYVsQJLtpIwm",
        "outputId": "930a45b0-c395-4989-f876-28ef9ea6c376"
      },
      "outputs": [
        {
          "output_type": "stream",
          "name": "stderr",
          "text": [
            "/usr/local/lib/python3.10/dist-packages/ipykernel/ipkernel.py:283: DeprecationWarning:\n",
            "\n",
            "`should_run_async` will not call `transform_cell` automatically in the future. Please pass the result to `transformed_cell` argument and any exception that happen during thetransform in `preprocessing_exc_tuple` in IPython 7.17 and above.\n",
            "\n"
          ]
        }
      ],
      "source": [
        "association_rules = pd.read_csv('processed_data/association_rules.csv')\n",
        "association_rules = preprocess_rules(association_rules)\n",
        "skincare_df = pd.read_csv(\"processed_data/skincare.csv\")"
      ]
    },
    {
      "cell_type": "markdown",
      "metadata": {
        "id": "ZMtBNVDCpIwm"
      },
      "source": [
        "### Example of usage"
      ]
    },
    {
      "cell_type": "code",
      "execution_count": 43,
      "metadata": {
        "colab": {
          "base_uri": "https://localhost:8080/"
        },
        "id": "goiB6wPbpIwm",
        "outputId": "a4443103-d017-439b-e8e9-f39acd174aa6"
      },
      "outputs": [
        {
          "output_type": "stream",
          "name": "stderr",
          "text": [
            "/usr/local/lib/python3.10/dist-packages/ipykernel/ipkernel.py:283: DeprecationWarning:\n",
            "\n",
            "`should_run_async` will not call `transform_cell` automatically in the future. Please pass the result to `transformed_cell` argument and any exception that happen during thetransform in `preprocessing_exc_tuple` in IPython 7.17 and above.\n",
            "\n",
            "/usr/local/lib/python3.10/dist-packages/sklearn/feature_extraction/text.py:521: UserWarning:\n",
            "\n",
            "The parameter 'token_pattern' will not be used since 'tokenizer' is not None'\n",
            "\n"
          ]
        },
        {
          "output_type": "stream",
          "name": "stdout",
          "text": [
            "The most similar products to the Capture Dreamskin 1-Minute Mask are: \n",
            "0                     Faceshot Vitamin Ampoules Refill\n",
            "1                 Alpha Beta Universal Daily Peel Pads\n",
            "2                      Knockout 10% Acid Complex Serum\n",
            "3                                    AHA Peeling Masks\n",
            "4    Even Smoother Glycolic Retinol Resurfacing Pee...\n",
            "Name: product_name, dtype: object\n"
          ]
        },
        {
          "output_type": "stream",
          "name": "stderr",
          "text": [
            "<ipython-input-35-1d42f96044a8>:31: SettingWithCopyWarning:\n",
            "\n",
            "\n",
            "A value is trying to be set on a copy of a slice from a DataFrame.\n",
            "Try using .loc[row_indexer,col_indexer] = value instead\n",
            "\n",
            "See the caveats in the documentation: https://pandas.pydata.org/pandas-docs/stable/user_guide/indexing.html#returning-a-view-versus-a-copy\n",
            "\n"
          ]
        }
      ],
      "source": [
        "random_product_id = skincare_df['product_id'].sample(n=1).iloc[0]\n",
        "\n",
        "product_name = skincare_df[skincare_df['product_id'] == random_product_id]['product_name'].iloc[0]\n",
        "merged = get_similar_items(random_product_id, skincare_df)['product_name'].head(5)\n",
        "\n",
        "print(f\"The most similar products to the {product_name} are: \")\n",
        "print(merged)"
      ]
    }
  ],
  "metadata": {
    "accelerator": "GPU",
    "colab": {
      "gpuType": "T4",
      "provenance": []
    },
    "kernelspec": {
      "display_name": "Python 3",
      "name": "python3"
    },
    "language_info": {
      "codemirror_mode": {
        "name": "ipython",
        "version": 3
      },
      "file_extension": ".py",
      "mimetype": "text/x-python",
      "name": "python",
      "nbconvert_exporter": "python",
      "pygments_lexer": "ipython3",
      "version": "3.11.3"
    },
    "widgets": {
      "application/vnd.jupyter.widget-state+json": {
        "a1fc35cee7a84676bc8923f4bdbf1560": {
          "model_module": "@jupyter-widgets/controls",
          "model_name": "HBoxModel",
          "model_module_version": "1.5.0",
          "state": {
            "_dom_classes": [],
            "_model_module": "@jupyter-widgets/controls",
            "_model_module_version": "1.5.0",
            "_model_name": "HBoxModel",
            "_view_count": null,
            "_view_module": "@jupyter-widgets/controls",
            "_view_module_version": "1.5.0",
            "_view_name": "HBoxView",
            "box_style": "",
            "children": [
              "IPY_MODEL_c04781d0a3c54cef88d9a0eaa3639d25",
              "IPY_MODEL_abf93cc121e144e2b89b89f4724cc2da",
              "IPY_MODEL_10704510c92747d1a11a8b12f377ace3"
            ],
            "layout": "IPY_MODEL_fddfb99588174cc180327ce6cb2e4cfa"
          }
        },
        "c04781d0a3c54cef88d9a0eaa3639d25": {
          "model_module": "@jupyter-widgets/controls",
          "model_name": "HTMLModel",
          "model_module_version": "1.5.0",
          "state": {
            "_dom_classes": [],
            "_model_module": "@jupyter-widgets/controls",
            "_model_module_version": "1.5.0",
            "_model_name": "HTMLModel",
            "_view_count": null,
            "_view_module": "@jupyter-widgets/controls",
            "_view_module_version": "1.5.0",
            "_view_name": "HTMLView",
            "description": "",
            "description_tooltip": null,
            "layout": "IPY_MODEL_62b7703e74ce4236950da6d04d146043",
            "placeholder": "​",
            "style": "IPY_MODEL_4185604ce4c345c28644a9c2bf047167",
            "value": "tokenizer_config.json: 100%"
          }
        },
        "abf93cc121e144e2b89b89f4724cc2da": {
          "model_module": "@jupyter-widgets/controls",
          "model_name": "FloatProgressModel",
          "model_module_version": "1.5.0",
          "state": {
            "_dom_classes": [],
            "_model_module": "@jupyter-widgets/controls",
            "_model_module_version": "1.5.0",
            "_model_name": "FloatProgressModel",
            "_view_count": null,
            "_view_module": "@jupyter-widgets/controls",
            "_view_module_version": "1.5.0",
            "_view_name": "ProgressView",
            "bar_style": "success",
            "description": "",
            "description_tooltip": null,
            "layout": "IPY_MODEL_4dada2f13b38461f8c6a186c99a69f2e",
            "max": 1998,
            "min": 0,
            "orientation": "horizontal",
            "style": "IPY_MODEL_ce70290f0ce34698bdab2fc59c994d05",
            "value": 1998
          }
        },
        "10704510c92747d1a11a8b12f377ace3": {
          "model_module": "@jupyter-widgets/controls",
          "model_name": "HTMLModel",
          "model_module_version": "1.5.0",
          "state": {
            "_dom_classes": [],
            "_model_module": "@jupyter-widgets/controls",
            "_model_module_version": "1.5.0",
            "_model_name": "HTMLModel",
            "_view_count": null,
            "_view_module": "@jupyter-widgets/controls",
            "_view_module_version": "1.5.0",
            "_view_name": "HTMLView",
            "description": "",
            "description_tooltip": null,
            "layout": "IPY_MODEL_c489015bbcc44a98aae6f5fc35a39399",
            "placeholder": "​",
            "style": "IPY_MODEL_5ebaf9d7a72e478b8d2b4fa87e949520",
            "value": " 2.00k/2.00k [00:00&lt;00:00, 135kB/s]"
          }
        },
        "fddfb99588174cc180327ce6cb2e4cfa": {
          "model_module": "@jupyter-widgets/base",
          "model_name": "LayoutModel",
          "model_module_version": "1.2.0",
          "state": {
            "_model_module": "@jupyter-widgets/base",
            "_model_module_version": "1.2.0",
            "_model_name": "LayoutModel",
            "_view_count": null,
            "_view_module": "@jupyter-widgets/base",
            "_view_module_version": "1.2.0",
            "_view_name": "LayoutView",
            "align_content": null,
            "align_items": null,
            "align_self": null,
            "border": null,
            "bottom": null,
            "display": null,
            "flex": null,
            "flex_flow": null,
            "grid_area": null,
            "grid_auto_columns": null,
            "grid_auto_flow": null,
            "grid_auto_rows": null,
            "grid_column": null,
            "grid_gap": null,
            "grid_row": null,
            "grid_template_areas": null,
            "grid_template_columns": null,
            "grid_template_rows": null,
            "height": null,
            "justify_content": null,
            "justify_items": null,
            "left": null,
            "margin": null,
            "max_height": null,
            "max_width": null,
            "min_height": null,
            "min_width": null,
            "object_fit": null,
            "object_position": null,
            "order": null,
            "overflow": null,
            "overflow_x": null,
            "overflow_y": null,
            "padding": null,
            "right": null,
            "top": null,
            "visibility": null,
            "width": null
          }
        },
        "62b7703e74ce4236950da6d04d146043": {
          "model_module": "@jupyter-widgets/base",
          "model_name": "LayoutModel",
          "model_module_version": "1.2.0",
          "state": {
            "_model_module": "@jupyter-widgets/base",
            "_model_module_version": "1.2.0",
            "_model_name": "LayoutModel",
            "_view_count": null,
            "_view_module": "@jupyter-widgets/base",
            "_view_module_version": "1.2.0",
            "_view_name": "LayoutView",
            "align_content": null,
            "align_items": null,
            "align_self": null,
            "border": null,
            "bottom": null,
            "display": null,
            "flex": null,
            "flex_flow": null,
            "grid_area": null,
            "grid_auto_columns": null,
            "grid_auto_flow": null,
            "grid_auto_rows": null,
            "grid_column": null,
            "grid_gap": null,
            "grid_row": null,
            "grid_template_areas": null,
            "grid_template_columns": null,
            "grid_template_rows": null,
            "height": null,
            "justify_content": null,
            "justify_items": null,
            "left": null,
            "margin": null,
            "max_height": null,
            "max_width": null,
            "min_height": null,
            "min_width": null,
            "object_fit": null,
            "object_position": null,
            "order": null,
            "overflow": null,
            "overflow_x": null,
            "overflow_y": null,
            "padding": null,
            "right": null,
            "top": null,
            "visibility": null,
            "width": null
          }
        },
        "4185604ce4c345c28644a9c2bf047167": {
          "model_module": "@jupyter-widgets/controls",
          "model_name": "DescriptionStyleModel",
          "model_module_version": "1.5.0",
          "state": {
            "_model_module": "@jupyter-widgets/controls",
            "_model_module_version": "1.5.0",
            "_model_name": "DescriptionStyleModel",
            "_view_count": null,
            "_view_module": "@jupyter-widgets/base",
            "_view_module_version": "1.2.0",
            "_view_name": "StyleView",
            "description_width": ""
          }
        },
        "4dada2f13b38461f8c6a186c99a69f2e": {
          "model_module": "@jupyter-widgets/base",
          "model_name": "LayoutModel",
          "model_module_version": "1.2.0",
          "state": {
            "_model_module": "@jupyter-widgets/base",
            "_model_module_version": "1.2.0",
            "_model_name": "LayoutModel",
            "_view_count": null,
            "_view_module": "@jupyter-widgets/base",
            "_view_module_version": "1.2.0",
            "_view_name": "LayoutView",
            "align_content": null,
            "align_items": null,
            "align_self": null,
            "border": null,
            "bottom": null,
            "display": null,
            "flex": null,
            "flex_flow": null,
            "grid_area": null,
            "grid_auto_columns": null,
            "grid_auto_flow": null,
            "grid_auto_rows": null,
            "grid_column": null,
            "grid_gap": null,
            "grid_row": null,
            "grid_template_areas": null,
            "grid_template_columns": null,
            "grid_template_rows": null,
            "height": null,
            "justify_content": null,
            "justify_items": null,
            "left": null,
            "margin": null,
            "max_height": null,
            "max_width": null,
            "min_height": null,
            "min_width": null,
            "object_fit": null,
            "object_position": null,
            "order": null,
            "overflow": null,
            "overflow_x": null,
            "overflow_y": null,
            "padding": null,
            "right": null,
            "top": null,
            "visibility": null,
            "width": null
          }
        },
        "ce70290f0ce34698bdab2fc59c994d05": {
          "model_module": "@jupyter-widgets/controls",
          "model_name": "ProgressStyleModel",
          "model_module_version": "1.5.0",
          "state": {
            "_model_module": "@jupyter-widgets/controls",
            "_model_module_version": "1.5.0",
            "_model_name": "ProgressStyleModel",
            "_view_count": null,
            "_view_module": "@jupyter-widgets/base",
            "_view_module_version": "1.2.0",
            "_view_name": "StyleView",
            "bar_color": null,
            "description_width": ""
          }
        },
        "c489015bbcc44a98aae6f5fc35a39399": {
          "model_module": "@jupyter-widgets/base",
          "model_name": "LayoutModel",
          "model_module_version": "1.2.0",
          "state": {
            "_model_module": "@jupyter-widgets/base",
            "_model_module_version": "1.2.0",
            "_model_name": "LayoutModel",
            "_view_count": null,
            "_view_module": "@jupyter-widgets/base",
            "_view_module_version": "1.2.0",
            "_view_name": "LayoutView",
            "align_content": null,
            "align_items": null,
            "align_self": null,
            "border": null,
            "bottom": null,
            "display": null,
            "flex": null,
            "flex_flow": null,
            "grid_area": null,
            "grid_auto_columns": null,
            "grid_auto_flow": null,
            "grid_auto_rows": null,
            "grid_column": null,
            "grid_gap": null,
            "grid_row": null,
            "grid_template_areas": null,
            "grid_template_columns": null,
            "grid_template_rows": null,
            "height": null,
            "justify_content": null,
            "justify_items": null,
            "left": null,
            "margin": null,
            "max_height": null,
            "max_width": null,
            "min_height": null,
            "min_width": null,
            "object_fit": null,
            "object_position": null,
            "order": null,
            "overflow": null,
            "overflow_x": null,
            "overflow_y": null,
            "padding": null,
            "right": null,
            "top": null,
            "visibility": null,
            "width": null
          }
        },
        "5ebaf9d7a72e478b8d2b4fa87e949520": {
          "model_module": "@jupyter-widgets/controls",
          "model_name": "DescriptionStyleModel",
          "model_module_version": "1.5.0",
          "state": {
            "_model_module": "@jupyter-widgets/controls",
            "_model_module_version": "1.5.0",
            "_model_name": "DescriptionStyleModel",
            "_view_count": null,
            "_view_module": "@jupyter-widgets/base",
            "_view_module_version": "1.2.0",
            "_view_name": "StyleView",
            "description_width": ""
          }
        },
        "473efecb793047278c98c642aec0e9a7": {
          "model_module": "@jupyter-widgets/controls",
          "model_name": "HBoxModel",
          "model_module_version": "1.5.0",
          "state": {
            "_dom_classes": [],
            "_model_module": "@jupyter-widgets/controls",
            "_model_module_version": "1.5.0",
            "_model_name": "HBoxModel",
            "_view_count": null,
            "_view_module": "@jupyter-widgets/controls",
            "_view_module_version": "1.5.0",
            "_view_name": "HBoxView",
            "box_style": "",
            "children": [
              "IPY_MODEL_a61a3776d9b14bed98f606549cbad114",
              "IPY_MODEL_18b79a963152420d9da95b063780ee8b",
              "IPY_MODEL_5f01d02bb9874ec3b69dfa770e6ef745"
            ],
            "layout": "IPY_MODEL_193ac98e258b4b1994d8f5e41004c5de"
          }
        },
        "a61a3776d9b14bed98f606549cbad114": {
          "model_module": "@jupyter-widgets/controls",
          "model_name": "HTMLModel",
          "model_module_version": "1.5.0",
          "state": {
            "_dom_classes": [],
            "_model_module": "@jupyter-widgets/controls",
            "_model_module_version": "1.5.0",
            "_model_name": "HTMLModel",
            "_view_count": null,
            "_view_module": "@jupyter-widgets/controls",
            "_view_module_version": "1.5.0",
            "_view_name": "HTMLView",
            "description": "",
            "description_tooltip": null,
            "layout": "IPY_MODEL_003cd13f7e6a4a029cb47169149ebda8",
            "placeholder": "​",
            "style": "IPY_MODEL_7496514b0c7041b49c24a5178f7cb2db",
            "value": "spiece.model: 100%"
          }
        },
        "18b79a963152420d9da95b063780ee8b": {
          "model_module": "@jupyter-widgets/controls",
          "model_name": "FloatProgressModel",
          "model_module_version": "1.5.0",
          "state": {
            "_dom_classes": [],
            "_model_module": "@jupyter-widgets/controls",
            "_model_module_version": "1.5.0",
            "_model_name": "FloatProgressModel",
            "_view_count": null,
            "_view_module": "@jupyter-widgets/controls",
            "_view_module_version": "1.5.0",
            "_view_name": "ProgressView",
            "bar_style": "success",
            "description": "",
            "description_tooltip": null,
            "layout": "IPY_MODEL_6c4fa57ca254463f8b673c648124732a",
            "max": 798011,
            "min": 0,
            "orientation": "horizontal",
            "style": "IPY_MODEL_322c37b6a4494b64acf7553a66f6b27f",
            "value": 798011
          }
        },
        "5f01d02bb9874ec3b69dfa770e6ef745": {
          "model_module": "@jupyter-widgets/controls",
          "model_name": "HTMLModel",
          "model_module_version": "1.5.0",
          "state": {
            "_dom_classes": [],
            "_model_module": "@jupyter-widgets/controls",
            "_model_module_version": "1.5.0",
            "_model_name": "HTMLModel",
            "_view_count": null,
            "_view_module": "@jupyter-widgets/controls",
            "_view_module_version": "1.5.0",
            "_view_name": "HTMLView",
            "description": "",
            "description_tooltip": null,
            "layout": "IPY_MODEL_cbb75bf3c63545c28167a5c37cbcc797",
            "placeholder": "​",
            "style": "IPY_MODEL_15c20e43025b40d4abaf35ef099786c0",
            "value": " 798k/798k [00:00&lt;00:00, 5.73MB/s]"
          }
        },
        "193ac98e258b4b1994d8f5e41004c5de": {
          "model_module": "@jupyter-widgets/base",
          "model_name": "LayoutModel",
          "model_module_version": "1.2.0",
          "state": {
            "_model_module": "@jupyter-widgets/base",
            "_model_module_version": "1.2.0",
            "_model_name": "LayoutModel",
            "_view_count": null,
            "_view_module": "@jupyter-widgets/base",
            "_view_module_version": "1.2.0",
            "_view_name": "LayoutView",
            "align_content": null,
            "align_items": null,
            "align_self": null,
            "border": null,
            "bottom": null,
            "display": null,
            "flex": null,
            "flex_flow": null,
            "grid_area": null,
            "grid_auto_columns": null,
            "grid_auto_flow": null,
            "grid_auto_rows": null,
            "grid_column": null,
            "grid_gap": null,
            "grid_row": null,
            "grid_template_areas": null,
            "grid_template_columns": null,
            "grid_template_rows": null,
            "height": null,
            "justify_content": null,
            "justify_items": null,
            "left": null,
            "margin": null,
            "max_height": null,
            "max_width": null,
            "min_height": null,
            "min_width": null,
            "object_fit": null,
            "object_position": null,
            "order": null,
            "overflow": null,
            "overflow_x": null,
            "overflow_y": null,
            "padding": null,
            "right": null,
            "top": null,
            "visibility": null,
            "width": null
          }
        },
        "003cd13f7e6a4a029cb47169149ebda8": {
          "model_module": "@jupyter-widgets/base",
          "model_name": "LayoutModel",
          "model_module_version": "1.2.0",
          "state": {
            "_model_module": "@jupyter-widgets/base",
            "_model_module_version": "1.2.0",
            "_model_name": "LayoutModel",
            "_view_count": null,
            "_view_module": "@jupyter-widgets/base",
            "_view_module_version": "1.2.0",
            "_view_name": "LayoutView",
            "align_content": null,
            "align_items": null,
            "align_self": null,
            "border": null,
            "bottom": null,
            "display": null,
            "flex": null,
            "flex_flow": null,
            "grid_area": null,
            "grid_auto_columns": null,
            "grid_auto_flow": null,
            "grid_auto_rows": null,
            "grid_column": null,
            "grid_gap": null,
            "grid_row": null,
            "grid_template_areas": null,
            "grid_template_columns": null,
            "grid_template_rows": null,
            "height": null,
            "justify_content": null,
            "justify_items": null,
            "left": null,
            "margin": null,
            "max_height": null,
            "max_width": null,
            "min_height": null,
            "min_width": null,
            "object_fit": null,
            "object_position": null,
            "order": null,
            "overflow": null,
            "overflow_x": null,
            "overflow_y": null,
            "padding": null,
            "right": null,
            "top": null,
            "visibility": null,
            "width": null
          }
        },
        "7496514b0c7041b49c24a5178f7cb2db": {
          "model_module": "@jupyter-widgets/controls",
          "model_name": "DescriptionStyleModel",
          "model_module_version": "1.5.0",
          "state": {
            "_model_module": "@jupyter-widgets/controls",
            "_model_module_version": "1.5.0",
            "_model_name": "DescriptionStyleModel",
            "_view_count": null,
            "_view_module": "@jupyter-widgets/base",
            "_view_module_version": "1.2.0",
            "_view_name": "StyleView",
            "description_width": ""
          }
        },
        "6c4fa57ca254463f8b673c648124732a": {
          "model_module": "@jupyter-widgets/base",
          "model_name": "LayoutModel",
          "model_module_version": "1.2.0",
          "state": {
            "_model_module": "@jupyter-widgets/base",
            "_model_module_version": "1.2.0",
            "_model_name": "LayoutModel",
            "_view_count": null,
            "_view_module": "@jupyter-widgets/base",
            "_view_module_version": "1.2.0",
            "_view_name": "LayoutView",
            "align_content": null,
            "align_items": null,
            "align_self": null,
            "border": null,
            "bottom": null,
            "display": null,
            "flex": null,
            "flex_flow": null,
            "grid_area": null,
            "grid_auto_columns": null,
            "grid_auto_flow": null,
            "grid_auto_rows": null,
            "grid_column": null,
            "grid_gap": null,
            "grid_row": null,
            "grid_template_areas": null,
            "grid_template_columns": null,
            "grid_template_rows": null,
            "height": null,
            "justify_content": null,
            "justify_items": null,
            "left": null,
            "margin": null,
            "max_height": null,
            "max_width": null,
            "min_height": null,
            "min_width": null,
            "object_fit": null,
            "object_position": null,
            "order": null,
            "overflow": null,
            "overflow_x": null,
            "overflow_y": null,
            "padding": null,
            "right": null,
            "top": null,
            "visibility": null,
            "width": null
          }
        },
        "322c37b6a4494b64acf7553a66f6b27f": {
          "model_module": "@jupyter-widgets/controls",
          "model_name": "ProgressStyleModel",
          "model_module_version": "1.5.0",
          "state": {
            "_model_module": "@jupyter-widgets/controls",
            "_model_module_version": "1.5.0",
            "_model_name": "ProgressStyleModel",
            "_view_count": null,
            "_view_module": "@jupyter-widgets/base",
            "_view_module_version": "1.2.0",
            "_view_name": "StyleView",
            "bar_color": null,
            "description_width": ""
          }
        },
        "cbb75bf3c63545c28167a5c37cbcc797": {
          "model_module": "@jupyter-widgets/base",
          "model_name": "LayoutModel",
          "model_module_version": "1.2.0",
          "state": {
            "_model_module": "@jupyter-widgets/base",
            "_model_module_version": "1.2.0",
            "_model_name": "LayoutModel",
            "_view_count": null,
            "_view_module": "@jupyter-widgets/base",
            "_view_module_version": "1.2.0",
            "_view_name": "LayoutView",
            "align_content": null,
            "align_items": null,
            "align_self": null,
            "border": null,
            "bottom": null,
            "display": null,
            "flex": null,
            "flex_flow": null,
            "grid_area": null,
            "grid_auto_columns": null,
            "grid_auto_flow": null,
            "grid_auto_rows": null,
            "grid_column": null,
            "grid_gap": null,
            "grid_row": null,
            "grid_template_areas": null,
            "grid_template_columns": null,
            "grid_template_rows": null,
            "height": null,
            "justify_content": null,
            "justify_items": null,
            "left": null,
            "margin": null,
            "max_height": null,
            "max_width": null,
            "min_height": null,
            "min_width": null,
            "object_fit": null,
            "object_position": null,
            "order": null,
            "overflow": null,
            "overflow_x": null,
            "overflow_y": null,
            "padding": null,
            "right": null,
            "top": null,
            "visibility": null,
            "width": null
          }
        },
        "15c20e43025b40d4abaf35ef099786c0": {
          "model_module": "@jupyter-widgets/controls",
          "model_name": "DescriptionStyleModel",
          "model_module_version": "1.5.0",
          "state": {
            "_model_module": "@jupyter-widgets/controls",
            "_model_module_version": "1.5.0",
            "_model_name": "DescriptionStyleModel",
            "_view_count": null,
            "_view_module": "@jupyter-widgets/base",
            "_view_module_version": "1.2.0",
            "_view_name": "StyleView",
            "description_width": ""
          }
        },
        "9e2bce09c5054455b58a7786e5aeeb1b": {
          "model_module": "@jupyter-widgets/controls",
          "model_name": "HBoxModel",
          "model_module_version": "1.5.0",
          "state": {
            "_dom_classes": [],
            "_model_module": "@jupyter-widgets/controls",
            "_model_module_version": "1.5.0",
            "_model_name": "HBoxModel",
            "_view_count": null,
            "_view_module": "@jupyter-widgets/controls",
            "_view_module_version": "1.5.0",
            "_view_name": "HBoxView",
            "box_style": "",
            "children": [
              "IPY_MODEL_f076df97db324ba986d34379361a88d1",
              "IPY_MODEL_0df0f41ab82e41bf87a194192a92e4f1",
              "IPY_MODEL_642c6f8fb1dd4822b9219910691a8189"
            ],
            "layout": "IPY_MODEL_2631cc8c1b394315831a1e8c34df8da7"
          }
        },
        "f076df97db324ba986d34379361a88d1": {
          "model_module": "@jupyter-widgets/controls",
          "model_name": "HTMLModel",
          "model_module_version": "1.5.0",
          "state": {
            "_dom_classes": [],
            "_model_module": "@jupyter-widgets/controls",
            "_model_module_version": "1.5.0",
            "_model_name": "HTMLModel",
            "_view_count": null,
            "_view_module": "@jupyter-widgets/controls",
            "_view_module_version": "1.5.0",
            "_view_name": "HTMLView",
            "description": "",
            "description_tooltip": null,
            "layout": "IPY_MODEL_3f3010d2c81647b186a5c29efe0add5c",
            "placeholder": "​",
            "style": "IPY_MODEL_dd4b2a100d4c409a893b736151437593",
            "value": "special_tokens_map.json: 100%"
          }
        },
        "0df0f41ab82e41bf87a194192a92e4f1": {
          "model_module": "@jupyter-widgets/controls",
          "model_name": "FloatProgressModel",
          "model_module_version": "1.5.0",
          "state": {
            "_dom_classes": [],
            "_model_module": "@jupyter-widgets/controls",
            "_model_module_version": "1.5.0",
            "_model_name": "FloatProgressModel",
            "_view_count": null,
            "_view_module": "@jupyter-widgets/controls",
            "_view_module_version": "1.5.0",
            "_view_name": "ProgressView",
            "bar_style": "success",
            "description": "",
            "description_tooltip": null,
            "layout": "IPY_MODEL_659ac100b8df4ea693edd0361a7fae3e",
            "max": 346,
            "min": 0,
            "orientation": "horizontal",
            "style": "IPY_MODEL_a54fc0a5fee44375bcc87586bbd2d82d",
            "value": 346
          }
        },
        "642c6f8fb1dd4822b9219910691a8189": {
          "model_module": "@jupyter-widgets/controls",
          "model_name": "HTMLModel",
          "model_module_version": "1.5.0",
          "state": {
            "_dom_classes": [],
            "_model_module": "@jupyter-widgets/controls",
            "_model_module_version": "1.5.0",
            "_model_name": "HTMLModel",
            "_view_count": null,
            "_view_module": "@jupyter-widgets/controls",
            "_view_module_version": "1.5.0",
            "_view_name": "HTMLView",
            "description": "",
            "description_tooltip": null,
            "layout": "IPY_MODEL_ef004ff960664880876159f48c272f37",
            "placeholder": "​",
            "style": "IPY_MODEL_8f71c10d4e194dfcb1f4230c00948e71",
            "value": " 346/346 [00:00&lt;00:00, 17.4kB/s]"
          }
        },
        "2631cc8c1b394315831a1e8c34df8da7": {
          "model_module": "@jupyter-widgets/base",
          "model_name": "LayoutModel",
          "model_module_version": "1.2.0",
          "state": {
            "_model_module": "@jupyter-widgets/base",
            "_model_module_version": "1.2.0",
            "_model_name": "LayoutModel",
            "_view_count": null,
            "_view_module": "@jupyter-widgets/base",
            "_view_module_version": "1.2.0",
            "_view_name": "LayoutView",
            "align_content": null,
            "align_items": null,
            "align_self": null,
            "border": null,
            "bottom": null,
            "display": null,
            "flex": null,
            "flex_flow": null,
            "grid_area": null,
            "grid_auto_columns": null,
            "grid_auto_flow": null,
            "grid_auto_rows": null,
            "grid_column": null,
            "grid_gap": null,
            "grid_row": null,
            "grid_template_areas": null,
            "grid_template_columns": null,
            "grid_template_rows": null,
            "height": null,
            "justify_content": null,
            "justify_items": null,
            "left": null,
            "margin": null,
            "max_height": null,
            "max_width": null,
            "min_height": null,
            "min_width": null,
            "object_fit": null,
            "object_position": null,
            "order": null,
            "overflow": null,
            "overflow_x": null,
            "overflow_y": null,
            "padding": null,
            "right": null,
            "top": null,
            "visibility": null,
            "width": null
          }
        },
        "3f3010d2c81647b186a5c29efe0add5c": {
          "model_module": "@jupyter-widgets/base",
          "model_name": "LayoutModel",
          "model_module_version": "1.2.0",
          "state": {
            "_model_module": "@jupyter-widgets/base",
            "_model_module_version": "1.2.0",
            "_model_name": "LayoutModel",
            "_view_count": null,
            "_view_module": "@jupyter-widgets/base",
            "_view_module_version": "1.2.0",
            "_view_name": "LayoutView",
            "align_content": null,
            "align_items": null,
            "align_self": null,
            "border": null,
            "bottom": null,
            "display": null,
            "flex": null,
            "flex_flow": null,
            "grid_area": null,
            "grid_auto_columns": null,
            "grid_auto_flow": null,
            "grid_auto_rows": null,
            "grid_column": null,
            "grid_gap": null,
            "grid_row": null,
            "grid_template_areas": null,
            "grid_template_columns": null,
            "grid_template_rows": null,
            "height": null,
            "justify_content": null,
            "justify_items": null,
            "left": null,
            "margin": null,
            "max_height": null,
            "max_width": null,
            "min_height": null,
            "min_width": null,
            "object_fit": null,
            "object_position": null,
            "order": null,
            "overflow": null,
            "overflow_x": null,
            "overflow_y": null,
            "padding": null,
            "right": null,
            "top": null,
            "visibility": null,
            "width": null
          }
        },
        "dd4b2a100d4c409a893b736151437593": {
          "model_module": "@jupyter-widgets/controls",
          "model_name": "DescriptionStyleModel",
          "model_module_version": "1.5.0",
          "state": {
            "_model_module": "@jupyter-widgets/controls",
            "_model_module_version": "1.5.0",
            "_model_name": "DescriptionStyleModel",
            "_view_count": null,
            "_view_module": "@jupyter-widgets/base",
            "_view_module_version": "1.2.0",
            "_view_name": "StyleView",
            "description_width": ""
          }
        },
        "659ac100b8df4ea693edd0361a7fae3e": {
          "model_module": "@jupyter-widgets/base",
          "model_name": "LayoutModel",
          "model_module_version": "1.2.0",
          "state": {
            "_model_module": "@jupyter-widgets/base",
            "_model_module_version": "1.2.0",
            "_model_name": "LayoutModel",
            "_view_count": null,
            "_view_module": "@jupyter-widgets/base",
            "_view_module_version": "1.2.0",
            "_view_name": "LayoutView",
            "align_content": null,
            "align_items": null,
            "align_self": null,
            "border": null,
            "bottom": null,
            "display": null,
            "flex": null,
            "flex_flow": null,
            "grid_area": null,
            "grid_auto_columns": null,
            "grid_auto_flow": null,
            "grid_auto_rows": null,
            "grid_column": null,
            "grid_gap": null,
            "grid_row": null,
            "grid_template_areas": null,
            "grid_template_columns": null,
            "grid_template_rows": null,
            "height": null,
            "justify_content": null,
            "justify_items": null,
            "left": null,
            "margin": null,
            "max_height": null,
            "max_width": null,
            "min_height": null,
            "min_width": null,
            "object_fit": null,
            "object_position": null,
            "order": null,
            "overflow": null,
            "overflow_x": null,
            "overflow_y": null,
            "padding": null,
            "right": null,
            "top": null,
            "visibility": null,
            "width": null
          }
        },
        "a54fc0a5fee44375bcc87586bbd2d82d": {
          "model_module": "@jupyter-widgets/controls",
          "model_name": "ProgressStyleModel",
          "model_module_version": "1.5.0",
          "state": {
            "_model_module": "@jupyter-widgets/controls",
            "_model_module_version": "1.5.0",
            "_model_name": "ProgressStyleModel",
            "_view_count": null,
            "_view_module": "@jupyter-widgets/base",
            "_view_module_version": "1.2.0",
            "_view_name": "StyleView",
            "bar_color": null,
            "description_width": ""
          }
        },
        "ef004ff960664880876159f48c272f37": {
          "model_module": "@jupyter-widgets/base",
          "model_name": "LayoutModel",
          "model_module_version": "1.2.0",
          "state": {
            "_model_module": "@jupyter-widgets/base",
            "_model_module_version": "1.2.0",
            "_model_name": "LayoutModel",
            "_view_count": null,
            "_view_module": "@jupyter-widgets/base",
            "_view_module_version": "1.2.0",
            "_view_name": "LayoutView",
            "align_content": null,
            "align_items": null,
            "align_self": null,
            "border": null,
            "bottom": null,
            "display": null,
            "flex": null,
            "flex_flow": null,
            "grid_area": null,
            "grid_auto_columns": null,
            "grid_auto_flow": null,
            "grid_auto_rows": null,
            "grid_column": null,
            "grid_gap": null,
            "grid_row": null,
            "grid_template_areas": null,
            "grid_template_columns": null,
            "grid_template_rows": null,
            "height": null,
            "justify_content": null,
            "justify_items": null,
            "left": null,
            "margin": null,
            "max_height": null,
            "max_width": null,
            "min_height": null,
            "min_width": null,
            "object_fit": null,
            "object_position": null,
            "order": null,
            "overflow": null,
            "overflow_x": null,
            "overflow_y": null,
            "padding": null,
            "right": null,
            "top": null,
            "visibility": null,
            "width": null
          }
        },
        "8f71c10d4e194dfcb1f4230c00948e71": {
          "model_module": "@jupyter-widgets/controls",
          "model_name": "DescriptionStyleModel",
          "model_module_version": "1.5.0",
          "state": {
            "_model_module": "@jupyter-widgets/controls",
            "_model_module_version": "1.5.0",
            "_model_name": "DescriptionStyleModel",
            "_view_count": null,
            "_view_module": "@jupyter-widgets/base",
            "_view_module_version": "1.2.0",
            "_view_name": "StyleView",
            "description_width": ""
          }
        },
        "0e20a1f1448741e399040a7d265ea5c5": {
          "model_module": "@jupyter-widgets/controls",
          "model_name": "HBoxModel",
          "model_module_version": "1.5.0",
          "state": {
            "_dom_classes": [],
            "_model_module": "@jupyter-widgets/controls",
            "_model_module_version": "1.5.0",
            "_model_name": "HBoxModel",
            "_view_count": null,
            "_view_module": "@jupyter-widgets/controls",
            "_view_module_version": "1.5.0",
            "_view_name": "HBoxView",
            "box_style": "",
            "children": [
              "IPY_MODEL_d259e385c21d4473a6cd9c5e18193d91",
              "IPY_MODEL_9a7a3322302040b186746e0e2235ddf0",
              "IPY_MODEL_6bc8c0c1220744cda076e7bd4a40e782"
            ],
            "layout": "IPY_MODEL_0994fb65fa3147c18cab97af568e21de"
          }
        },
        "d259e385c21d4473a6cd9c5e18193d91": {
          "model_module": "@jupyter-widgets/controls",
          "model_name": "HTMLModel",
          "model_module_version": "1.5.0",
          "state": {
            "_dom_classes": [],
            "_model_module": "@jupyter-widgets/controls",
            "_model_module_version": "1.5.0",
            "_model_name": "HTMLModel",
            "_view_count": null,
            "_view_module": "@jupyter-widgets/controls",
            "_view_module_version": "1.5.0",
            "_view_name": "HTMLView",
            "description": "",
            "description_tooltip": null,
            "layout": "IPY_MODEL_7146faeb0ac14d32aa5cb2b18d71484c",
            "placeholder": "​",
            "style": "IPY_MODEL_06ad6a47cce7454697a652d0368c5f6f",
            "value": "config.json: 100%"
          }
        },
        "9a7a3322302040b186746e0e2235ddf0": {
          "model_module": "@jupyter-widgets/controls",
          "model_name": "FloatProgressModel",
          "model_module_version": "1.5.0",
          "state": {
            "_dom_classes": [],
            "_model_module": "@jupyter-widgets/controls",
            "_model_module_version": "1.5.0",
            "_model_name": "FloatProgressModel",
            "_view_count": null,
            "_view_module": "@jupyter-widgets/controls",
            "_view_module_version": "1.5.0",
            "_view_name": "ProgressView",
            "bar_style": "success",
            "description": "",
            "description_tooltip": null,
            "layout": "IPY_MODEL_b1e5a123657c421d8e309b8b26329d40",
            "max": 1094,
            "min": 0,
            "orientation": "horizontal",
            "style": "IPY_MODEL_4891c6adb2f5419f9161377b35b2824e",
            "value": 1094
          }
        },
        "6bc8c0c1220744cda076e7bd4a40e782": {
          "model_module": "@jupyter-widgets/controls",
          "model_name": "HTMLModel",
          "model_module_version": "1.5.0",
          "state": {
            "_dom_classes": [],
            "_model_module": "@jupyter-widgets/controls",
            "_model_module_version": "1.5.0",
            "_model_name": "HTMLModel",
            "_view_count": null,
            "_view_module": "@jupyter-widgets/controls",
            "_view_module_version": "1.5.0",
            "_view_name": "HTMLView",
            "description": "",
            "description_tooltip": null,
            "layout": "IPY_MODEL_ba8a71035d26409b999805d0843a9522",
            "placeholder": "​",
            "style": "IPY_MODEL_4355d1a8ce2a46bcb69873981b1f6b45",
            "value": " 1.09k/1.09k [00:00&lt;00:00, 68.5kB/s]"
          }
        },
        "0994fb65fa3147c18cab97af568e21de": {
          "model_module": "@jupyter-widgets/base",
          "model_name": "LayoutModel",
          "model_module_version": "1.2.0",
          "state": {
            "_model_module": "@jupyter-widgets/base",
            "_model_module_version": "1.2.0",
            "_model_name": "LayoutModel",
            "_view_count": null,
            "_view_module": "@jupyter-widgets/base",
            "_view_module_version": "1.2.0",
            "_view_name": "LayoutView",
            "align_content": null,
            "align_items": null,
            "align_self": null,
            "border": null,
            "bottom": null,
            "display": null,
            "flex": null,
            "flex_flow": null,
            "grid_area": null,
            "grid_auto_columns": null,
            "grid_auto_flow": null,
            "grid_auto_rows": null,
            "grid_column": null,
            "grid_gap": null,
            "grid_row": null,
            "grid_template_areas": null,
            "grid_template_columns": null,
            "grid_template_rows": null,
            "height": null,
            "justify_content": null,
            "justify_items": null,
            "left": null,
            "margin": null,
            "max_height": null,
            "max_width": null,
            "min_height": null,
            "min_width": null,
            "object_fit": null,
            "object_position": null,
            "order": null,
            "overflow": null,
            "overflow_x": null,
            "overflow_y": null,
            "padding": null,
            "right": null,
            "top": null,
            "visibility": null,
            "width": null
          }
        },
        "7146faeb0ac14d32aa5cb2b18d71484c": {
          "model_module": "@jupyter-widgets/base",
          "model_name": "LayoutModel",
          "model_module_version": "1.2.0",
          "state": {
            "_model_module": "@jupyter-widgets/base",
            "_model_module_version": "1.2.0",
            "_model_name": "LayoutModel",
            "_view_count": null,
            "_view_module": "@jupyter-widgets/base",
            "_view_module_version": "1.2.0",
            "_view_name": "LayoutView",
            "align_content": null,
            "align_items": null,
            "align_self": null,
            "border": null,
            "bottom": null,
            "display": null,
            "flex": null,
            "flex_flow": null,
            "grid_area": null,
            "grid_auto_columns": null,
            "grid_auto_flow": null,
            "grid_auto_rows": null,
            "grid_column": null,
            "grid_gap": null,
            "grid_row": null,
            "grid_template_areas": null,
            "grid_template_columns": null,
            "grid_template_rows": null,
            "height": null,
            "justify_content": null,
            "justify_items": null,
            "left": null,
            "margin": null,
            "max_height": null,
            "max_width": null,
            "min_height": null,
            "min_width": null,
            "object_fit": null,
            "object_position": null,
            "order": null,
            "overflow": null,
            "overflow_x": null,
            "overflow_y": null,
            "padding": null,
            "right": null,
            "top": null,
            "visibility": null,
            "width": null
          }
        },
        "06ad6a47cce7454697a652d0368c5f6f": {
          "model_module": "@jupyter-widgets/controls",
          "model_name": "DescriptionStyleModel",
          "model_module_version": "1.5.0",
          "state": {
            "_model_module": "@jupyter-widgets/controls",
            "_model_module_version": "1.5.0",
            "_model_name": "DescriptionStyleModel",
            "_view_count": null,
            "_view_module": "@jupyter-widgets/base",
            "_view_module_version": "1.2.0",
            "_view_name": "StyleView",
            "description_width": ""
          }
        },
        "b1e5a123657c421d8e309b8b26329d40": {
          "model_module": "@jupyter-widgets/base",
          "model_name": "LayoutModel",
          "model_module_version": "1.2.0",
          "state": {
            "_model_module": "@jupyter-widgets/base",
            "_model_module_version": "1.2.0",
            "_model_name": "LayoutModel",
            "_view_count": null,
            "_view_module": "@jupyter-widgets/base",
            "_view_module_version": "1.2.0",
            "_view_name": "LayoutView",
            "align_content": null,
            "align_items": null,
            "align_self": null,
            "border": null,
            "bottom": null,
            "display": null,
            "flex": null,
            "flex_flow": null,
            "grid_area": null,
            "grid_auto_columns": null,
            "grid_auto_flow": null,
            "grid_auto_rows": null,
            "grid_column": null,
            "grid_gap": null,
            "grid_row": null,
            "grid_template_areas": null,
            "grid_template_columns": null,
            "grid_template_rows": null,
            "height": null,
            "justify_content": null,
            "justify_items": null,
            "left": null,
            "margin": null,
            "max_height": null,
            "max_width": null,
            "min_height": null,
            "min_width": null,
            "object_fit": null,
            "object_position": null,
            "order": null,
            "overflow": null,
            "overflow_x": null,
            "overflow_y": null,
            "padding": null,
            "right": null,
            "top": null,
            "visibility": null,
            "width": null
          }
        },
        "4891c6adb2f5419f9161377b35b2824e": {
          "model_module": "@jupyter-widgets/controls",
          "model_name": "ProgressStyleModel",
          "model_module_version": "1.5.0",
          "state": {
            "_model_module": "@jupyter-widgets/controls",
            "_model_module_version": "1.5.0",
            "_model_name": "ProgressStyleModel",
            "_view_count": null,
            "_view_module": "@jupyter-widgets/base",
            "_view_module_version": "1.2.0",
            "_view_name": "StyleView",
            "bar_color": null,
            "description_width": ""
          }
        },
        "ba8a71035d26409b999805d0843a9522": {
          "model_module": "@jupyter-widgets/base",
          "model_name": "LayoutModel",
          "model_module_version": "1.2.0",
          "state": {
            "_model_module": "@jupyter-widgets/base",
            "_model_module_version": "1.2.0",
            "_model_name": "LayoutModel",
            "_view_count": null,
            "_view_module": "@jupyter-widgets/base",
            "_view_module_version": "1.2.0",
            "_view_name": "LayoutView",
            "align_content": null,
            "align_items": null,
            "align_self": null,
            "border": null,
            "bottom": null,
            "display": null,
            "flex": null,
            "flex_flow": null,
            "grid_area": null,
            "grid_auto_columns": null,
            "grid_auto_flow": null,
            "grid_auto_rows": null,
            "grid_column": null,
            "grid_gap": null,
            "grid_row": null,
            "grid_template_areas": null,
            "grid_template_columns": null,
            "grid_template_rows": null,
            "height": null,
            "justify_content": null,
            "justify_items": null,
            "left": null,
            "margin": null,
            "max_height": null,
            "max_width": null,
            "min_height": null,
            "min_width": null,
            "object_fit": null,
            "object_position": null,
            "order": null,
            "overflow": null,
            "overflow_x": null,
            "overflow_y": null,
            "padding": null,
            "right": null,
            "top": null,
            "visibility": null,
            "width": null
          }
        },
        "4355d1a8ce2a46bcb69873981b1f6b45": {
          "model_module": "@jupyter-widgets/controls",
          "model_name": "DescriptionStyleModel",
          "model_module_version": "1.5.0",
          "state": {
            "_model_module": "@jupyter-widgets/controls",
            "_model_module_version": "1.5.0",
            "_model_name": "DescriptionStyleModel",
            "_view_count": null,
            "_view_module": "@jupyter-widgets/base",
            "_view_module_version": "1.2.0",
            "_view_name": "StyleView",
            "description_width": ""
          }
        },
        "590e11a59d654ee2a55d73a63caf9ab4": {
          "model_module": "@jupyter-widgets/controls",
          "model_name": "HBoxModel",
          "model_module_version": "1.5.0",
          "state": {
            "_dom_classes": [],
            "_model_module": "@jupyter-widgets/controls",
            "_model_module_version": "1.5.0",
            "_model_name": "HBoxModel",
            "_view_count": null,
            "_view_module": "@jupyter-widgets/controls",
            "_view_module_version": "1.5.0",
            "_view_name": "HBoxView",
            "box_style": "",
            "children": [
              "IPY_MODEL_c89d02af858c4a49981d607555c33765",
              "IPY_MODEL_3bfaebbb3bee45abadaff0b8edd97cb9",
              "IPY_MODEL_7e64c85e5b7f4aed8df610f68653bbe8"
            ],
            "layout": "IPY_MODEL_5eb582065a7f4e778d586bc46bbb053e"
          }
        },
        "c89d02af858c4a49981d607555c33765": {
          "model_module": "@jupyter-widgets/controls",
          "model_name": "HTMLModel",
          "model_module_version": "1.5.0",
          "state": {
            "_dom_classes": [],
            "_model_module": "@jupyter-widgets/controls",
            "_model_module_version": "1.5.0",
            "_model_name": "HTMLModel",
            "_view_count": null,
            "_view_module": "@jupyter-widgets/controls",
            "_view_module_version": "1.5.0",
            "_view_name": "HTMLView",
            "description": "",
            "description_tooltip": null,
            "layout": "IPY_MODEL_5728e98e145f4e4da8341d6c99ac73ed",
            "placeholder": "​",
            "style": "IPY_MODEL_a9d34603cef146d4a83e13323a4cc995",
            "value": "model.safetensors: 100%"
          }
        },
        "3bfaebbb3bee45abadaff0b8edd97cb9": {
          "model_module": "@jupyter-widgets/controls",
          "model_name": "FloatProgressModel",
          "model_module_version": "1.5.0",
          "state": {
            "_dom_classes": [],
            "_model_module": "@jupyter-widgets/controls",
            "_model_module_version": "1.5.0",
            "_model_name": "FloatProgressModel",
            "_view_count": null,
            "_view_module": "@jupyter-widgets/controls",
            "_view_module_version": "1.5.0",
            "_view_name": "ProgressView",
            "bar_style": "success",
            "description": "",
            "description_tooltip": null,
            "layout": "IPY_MODEL_c1c80d525c3e48378dd8f31a5933a0b4",
            "max": 469264592,
            "min": 0,
            "orientation": "horizontal",
            "style": "IPY_MODEL_2d8b2be9e3c74cb785ddf97362b35750",
            "value": 469264592
          }
        },
        "7e64c85e5b7f4aed8df610f68653bbe8": {
          "model_module": "@jupyter-widgets/controls",
          "model_name": "HTMLModel",
          "model_module_version": "1.5.0",
          "state": {
            "_dom_classes": [],
            "_model_module": "@jupyter-widgets/controls",
            "_model_module_version": "1.5.0",
            "_model_name": "HTMLModel",
            "_view_count": null,
            "_view_module": "@jupyter-widgets/controls",
            "_view_module_version": "1.5.0",
            "_view_name": "HTMLView",
            "description": "",
            "description_tooltip": null,
            "layout": "IPY_MODEL_0b8c6942a4a043c790bc9614e1c8f55c",
            "placeholder": "​",
            "style": "IPY_MODEL_43c999b7c8584f9cbd20c7a6e88668c7",
            "value": " 469M/469M [00:11&lt;00:00, 36.5MB/s]"
          }
        },
        "5eb582065a7f4e778d586bc46bbb053e": {
          "model_module": "@jupyter-widgets/base",
          "model_name": "LayoutModel",
          "model_module_version": "1.2.0",
          "state": {
            "_model_module": "@jupyter-widgets/base",
            "_model_module_version": "1.2.0",
            "_model_name": "LayoutModel",
            "_view_count": null,
            "_view_module": "@jupyter-widgets/base",
            "_view_module_version": "1.2.0",
            "_view_name": "LayoutView",
            "align_content": null,
            "align_items": null,
            "align_self": null,
            "border": null,
            "bottom": null,
            "display": null,
            "flex": null,
            "flex_flow": null,
            "grid_area": null,
            "grid_auto_columns": null,
            "grid_auto_flow": null,
            "grid_auto_rows": null,
            "grid_column": null,
            "grid_gap": null,
            "grid_row": null,
            "grid_template_areas": null,
            "grid_template_columns": null,
            "grid_template_rows": null,
            "height": null,
            "justify_content": null,
            "justify_items": null,
            "left": null,
            "margin": null,
            "max_height": null,
            "max_width": null,
            "min_height": null,
            "min_width": null,
            "object_fit": null,
            "object_position": null,
            "order": null,
            "overflow": null,
            "overflow_x": null,
            "overflow_y": null,
            "padding": null,
            "right": null,
            "top": null,
            "visibility": null,
            "width": null
          }
        },
        "5728e98e145f4e4da8341d6c99ac73ed": {
          "model_module": "@jupyter-widgets/base",
          "model_name": "LayoutModel",
          "model_module_version": "1.2.0",
          "state": {
            "_model_module": "@jupyter-widgets/base",
            "_model_module_version": "1.2.0",
            "_model_name": "LayoutModel",
            "_view_count": null,
            "_view_module": "@jupyter-widgets/base",
            "_view_module_version": "1.2.0",
            "_view_name": "LayoutView",
            "align_content": null,
            "align_items": null,
            "align_self": null,
            "border": null,
            "bottom": null,
            "display": null,
            "flex": null,
            "flex_flow": null,
            "grid_area": null,
            "grid_auto_columns": null,
            "grid_auto_flow": null,
            "grid_auto_rows": null,
            "grid_column": null,
            "grid_gap": null,
            "grid_row": null,
            "grid_template_areas": null,
            "grid_template_columns": null,
            "grid_template_rows": null,
            "height": null,
            "justify_content": null,
            "justify_items": null,
            "left": null,
            "margin": null,
            "max_height": null,
            "max_width": null,
            "min_height": null,
            "min_width": null,
            "object_fit": null,
            "object_position": null,
            "order": null,
            "overflow": null,
            "overflow_x": null,
            "overflow_y": null,
            "padding": null,
            "right": null,
            "top": null,
            "visibility": null,
            "width": null
          }
        },
        "a9d34603cef146d4a83e13323a4cc995": {
          "model_module": "@jupyter-widgets/controls",
          "model_name": "DescriptionStyleModel",
          "model_module_version": "1.5.0",
          "state": {
            "_model_module": "@jupyter-widgets/controls",
            "_model_module_version": "1.5.0",
            "_model_name": "DescriptionStyleModel",
            "_view_count": null,
            "_view_module": "@jupyter-widgets/base",
            "_view_module_version": "1.2.0",
            "_view_name": "StyleView",
            "description_width": ""
          }
        },
        "c1c80d525c3e48378dd8f31a5933a0b4": {
          "model_module": "@jupyter-widgets/base",
          "model_name": "LayoutModel",
          "model_module_version": "1.2.0",
          "state": {
            "_model_module": "@jupyter-widgets/base",
            "_model_module_version": "1.2.0",
            "_model_name": "LayoutModel",
            "_view_count": null,
            "_view_module": "@jupyter-widgets/base",
            "_view_module_version": "1.2.0",
            "_view_name": "LayoutView",
            "align_content": null,
            "align_items": null,
            "align_self": null,
            "border": null,
            "bottom": null,
            "display": null,
            "flex": null,
            "flex_flow": null,
            "grid_area": null,
            "grid_auto_columns": null,
            "grid_auto_flow": null,
            "grid_auto_rows": null,
            "grid_column": null,
            "grid_gap": null,
            "grid_row": null,
            "grid_template_areas": null,
            "grid_template_columns": null,
            "grid_template_rows": null,
            "height": null,
            "justify_content": null,
            "justify_items": null,
            "left": null,
            "margin": null,
            "max_height": null,
            "max_width": null,
            "min_height": null,
            "min_width": null,
            "object_fit": null,
            "object_position": null,
            "order": null,
            "overflow": null,
            "overflow_x": null,
            "overflow_y": null,
            "padding": null,
            "right": null,
            "top": null,
            "visibility": null,
            "width": null
          }
        },
        "2d8b2be9e3c74cb785ddf97362b35750": {
          "model_module": "@jupyter-widgets/controls",
          "model_name": "ProgressStyleModel",
          "model_module_version": "1.5.0",
          "state": {
            "_model_module": "@jupyter-widgets/controls",
            "_model_module_version": "1.5.0",
            "_model_name": "ProgressStyleModel",
            "_view_count": null,
            "_view_module": "@jupyter-widgets/base",
            "_view_module_version": "1.2.0",
            "_view_name": "StyleView",
            "bar_color": null,
            "description_width": ""
          }
        },
        "0b8c6942a4a043c790bc9614e1c8f55c": {
          "model_module": "@jupyter-widgets/base",
          "model_name": "LayoutModel",
          "model_module_version": "1.2.0",
          "state": {
            "_model_module": "@jupyter-widgets/base",
            "_model_module_version": "1.2.0",
            "_model_name": "LayoutModel",
            "_view_count": null,
            "_view_module": "@jupyter-widgets/base",
            "_view_module_version": "1.2.0",
            "_view_name": "LayoutView",
            "align_content": null,
            "align_items": null,
            "align_self": null,
            "border": null,
            "bottom": null,
            "display": null,
            "flex": null,
            "flex_flow": null,
            "grid_area": null,
            "grid_auto_columns": null,
            "grid_auto_flow": null,
            "grid_auto_rows": null,
            "grid_column": null,
            "grid_gap": null,
            "grid_row": null,
            "grid_template_areas": null,
            "grid_template_columns": null,
            "grid_template_rows": null,
            "height": null,
            "justify_content": null,
            "justify_items": null,
            "left": null,
            "margin": null,
            "max_height": null,
            "max_width": null,
            "min_height": null,
            "min_width": null,
            "object_fit": null,
            "object_position": null,
            "order": null,
            "overflow": null,
            "overflow_x": null,
            "overflow_y": null,
            "padding": null,
            "right": null,
            "top": null,
            "visibility": null,
            "width": null
          }
        },
        "43c999b7c8584f9cbd20c7a6e88668c7": {
          "model_module": "@jupyter-widgets/controls",
          "model_name": "DescriptionStyleModel",
          "model_module_version": "1.5.0",
          "state": {
            "_model_module": "@jupyter-widgets/controls",
            "_model_module_version": "1.5.0",
            "_model_name": "DescriptionStyleModel",
            "_view_count": null,
            "_view_module": "@jupyter-widgets/base",
            "_view_module_version": "1.2.0",
            "_view_name": "StyleView",
            "description_width": ""
          }
        },
        "628f96611cbf49f794c475c21c456eb0": {
          "model_module": "@jupyter-widgets/controls",
          "model_name": "HBoxModel",
          "model_module_version": "1.5.0",
          "state": {
            "_dom_classes": [],
            "_model_module": "@jupyter-widgets/controls",
            "_model_module_version": "1.5.0",
            "_model_name": "HBoxModel",
            "_view_count": null,
            "_view_module": "@jupyter-widgets/controls",
            "_view_module_version": "1.5.0",
            "_view_name": "HBoxView",
            "box_style": "",
            "children": [
              "IPY_MODEL_07d44c7dd9c64c918dc19190dc0b11f3",
              "IPY_MODEL_35975678c46a4e088b71c6991c761169",
              "IPY_MODEL_2eea34da8b7c48fa910e3e4617b56edc"
            ],
            "layout": "IPY_MODEL_722d91ff5d974ae399097bb402d1eec4"
          }
        },
        "07d44c7dd9c64c918dc19190dc0b11f3": {
          "model_module": "@jupyter-widgets/controls",
          "model_name": "HTMLModel",
          "model_module_version": "1.5.0",
          "state": {
            "_dom_classes": [],
            "_model_module": "@jupyter-widgets/controls",
            "_model_module_version": "1.5.0",
            "_model_name": "HTMLModel",
            "_view_count": null,
            "_view_module": "@jupyter-widgets/controls",
            "_view_module_version": "1.5.0",
            "_view_name": "HTMLView",
            "description": "",
            "description_tooltip": null,
            "layout": "IPY_MODEL_30e859a14f2d49368a8160dd147bb472",
            "placeholder": "​",
            "style": "IPY_MODEL_259da1f7499741778e157cc560980867",
            "value": "config.json: 100%"
          }
        },
        "35975678c46a4e088b71c6991c761169": {
          "model_module": "@jupyter-widgets/controls",
          "model_name": "FloatProgressModel",
          "model_module_version": "1.5.0",
          "state": {
            "_dom_classes": [],
            "_model_module": "@jupyter-widgets/controls",
            "_model_module_version": "1.5.0",
            "_model_name": "FloatProgressModel",
            "_view_count": null,
            "_view_module": "@jupyter-widgets/controls",
            "_view_module_version": "1.5.0",
            "_view_name": "ProgressView",
            "bar_style": "success",
            "description": "",
            "description_tooltip": null,
            "layout": "IPY_MODEL_a4316bc56c504661914ec3668bc20dd8",
            "max": 841,
            "min": 0,
            "orientation": "horizontal",
            "style": "IPY_MODEL_84c29acf7399471a8922fcb779b70816",
            "value": 841
          }
        },
        "2eea34da8b7c48fa910e3e4617b56edc": {
          "model_module": "@jupyter-widgets/controls",
          "model_name": "HTMLModel",
          "model_module_version": "1.5.0",
          "state": {
            "_dom_classes": [],
            "_model_module": "@jupyter-widgets/controls",
            "_model_module_version": "1.5.0",
            "_model_name": "HTMLModel",
            "_view_count": null,
            "_view_module": "@jupyter-widgets/controls",
            "_view_module_version": "1.5.0",
            "_view_name": "HTMLView",
            "description": "",
            "description_tooltip": null,
            "layout": "IPY_MODEL_cf8ac5081f86418fbe5fcda8bf61cb7b",
            "placeholder": "​",
            "style": "IPY_MODEL_e2b1283a119548e6ab4ee8802c7ed3e7",
            "value": " 841/841 [00:00&lt;00:00, 62.1kB/s]"
          }
        },
        "722d91ff5d974ae399097bb402d1eec4": {
          "model_module": "@jupyter-widgets/base",
          "model_name": "LayoutModel",
          "model_module_version": "1.2.0",
          "state": {
            "_model_module": "@jupyter-widgets/base",
            "_model_module_version": "1.2.0",
            "_model_name": "LayoutModel",
            "_view_count": null,
            "_view_module": "@jupyter-widgets/base",
            "_view_module_version": "1.2.0",
            "_view_name": "LayoutView",
            "align_content": null,
            "align_items": null,
            "align_self": null,
            "border": null,
            "bottom": null,
            "display": null,
            "flex": null,
            "flex_flow": null,
            "grid_area": null,
            "grid_auto_columns": null,
            "grid_auto_flow": null,
            "grid_auto_rows": null,
            "grid_column": null,
            "grid_gap": null,
            "grid_row": null,
            "grid_template_areas": null,
            "grid_template_columns": null,
            "grid_template_rows": null,
            "height": null,
            "justify_content": null,
            "justify_items": null,
            "left": null,
            "margin": null,
            "max_height": null,
            "max_width": null,
            "min_height": null,
            "min_width": null,
            "object_fit": null,
            "object_position": null,
            "order": null,
            "overflow": null,
            "overflow_x": null,
            "overflow_y": null,
            "padding": null,
            "right": null,
            "top": null,
            "visibility": null,
            "width": null
          }
        },
        "30e859a14f2d49368a8160dd147bb472": {
          "model_module": "@jupyter-widgets/base",
          "model_name": "LayoutModel",
          "model_module_version": "1.2.0",
          "state": {
            "_model_module": "@jupyter-widgets/base",
            "_model_module_version": "1.2.0",
            "_model_name": "LayoutModel",
            "_view_count": null,
            "_view_module": "@jupyter-widgets/base",
            "_view_module_version": "1.2.0",
            "_view_name": "LayoutView",
            "align_content": null,
            "align_items": null,
            "align_self": null,
            "border": null,
            "bottom": null,
            "display": null,
            "flex": null,
            "flex_flow": null,
            "grid_area": null,
            "grid_auto_columns": null,
            "grid_auto_flow": null,
            "grid_auto_rows": null,
            "grid_column": null,
            "grid_gap": null,
            "grid_row": null,
            "grid_template_areas": null,
            "grid_template_columns": null,
            "grid_template_rows": null,
            "height": null,
            "justify_content": null,
            "justify_items": null,
            "left": null,
            "margin": null,
            "max_height": null,
            "max_width": null,
            "min_height": null,
            "min_width": null,
            "object_fit": null,
            "object_position": null,
            "order": null,
            "overflow": null,
            "overflow_x": null,
            "overflow_y": null,
            "padding": null,
            "right": null,
            "top": null,
            "visibility": null,
            "width": null
          }
        },
        "259da1f7499741778e157cc560980867": {
          "model_module": "@jupyter-widgets/controls",
          "model_name": "DescriptionStyleModel",
          "model_module_version": "1.5.0",
          "state": {
            "_model_module": "@jupyter-widgets/controls",
            "_model_module_version": "1.5.0",
            "_model_name": "DescriptionStyleModel",
            "_view_count": null,
            "_view_module": "@jupyter-widgets/base",
            "_view_module_version": "1.2.0",
            "_view_name": "StyleView",
            "description_width": ""
          }
        },
        "a4316bc56c504661914ec3668bc20dd8": {
          "model_module": "@jupyter-widgets/base",
          "model_name": "LayoutModel",
          "model_module_version": "1.2.0",
          "state": {
            "_model_module": "@jupyter-widgets/base",
            "_model_module_version": "1.2.0",
            "_model_name": "LayoutModel",
            "_view_count": null,
            "_view_module": "@jupyter-widgets/base",
            "_view_module_version": "1.2.0",
            "_view_name": "LayoutView",
            "align_content": null,
            "align_items": null,
            "align_self": null,
            "border": null,
            "bottom": null,
            "display": null,
            "flex": null,
            "flex_flow": null,
            "grid_area": null,
            "grid_auto_columns": null,
            "grid_auto_flow": null,
            "grid_auto_rows": null,
            "grid_column": null,
            "grid_gap": null,
            "grid_row": null,
            "grid_template_areas": null,
            "grid_template_columns": null,
            "grid_template_rows": null,
            "height": null,
            "justify_content": null,
            "justify_items": null,
            "left": null,
            "margin": null,
            "max_height": null,
            "max_width": null,
            "min_height": null,
            "min_width": null,
            "object_fit": null,
            "object_position": null,
            "order": null,
            "overflow": null,
            "overflow_x": null,
            "overflow_y": null,
            "padding": null,
            "right": null,
            "top": null,
            "visibility": null,
            "width": null
          }
        },
        "84c29acf7399471a8922fcb779b70816": {
          "model_module": "@jupyter-widgets/controls",
          "model_name": "ProgressStyleModel",
          "model_module_version": "1.5.0",
          "state": {
            "_model_module": "@jupyter-widgets/controls",
            "_model_module_version": "1.5.0",
            "_model_name": "ProgressStyleModel",
            "_view_count": null,
            "_view_module": "@jupyter-widgets/base",
            "_view_module_version": "1.2.0",
            "_view_name": "StyleView",
            "bar_color": null,
            "description_width": ""
          }
        },
        "cf8ac5081f86418fbe5fcda8bf61cb7b": {
          "model_module": "@jupyter-widgets/base",
          "model_name": "LayoutModel",
          "model_module_version": "1.2.0",
          "state": {
            "_model_module": "@jupyter-widgets/base",
            "_model_module_version": "1.2.0",
            "_model_name": "LayoutModel",
            "_view_count": null,
            "_view_module": "@jupyter-widgets/base",
            "_view_module_version": "1.2.0",
            "_view_name": "LayoutView",
            "align_content": null,
            "align_items": null,
            "align_self": null,
            "border": null,
            "bottom": null,
            "display": null,
            "flex": null,
            "flex_flow": null,
            "grid_area": null,
            "grid_auto_columns": null,
            "grid_auto_flow": null,
            "grid_auto_rows": null,
            "grid_column": null,
            "grid_gap": null,
            "grid_row": null,
            "grid_template_areas": null,
            "grid_template_columns": null,
            "grid_template_rows": null,
            "height": null,
            "justify_content": null,
            "justify_items": null,
            "left": null,
            "margin": null,
            "max_height": null,
            "max_width": null,
            "min_height": null,
            "min_width": null,
            "object_fit": null,
            "object_position": null,
            "order": null,
            "overflow": null,
            "overflow_x": null,
            "overflow_y": null,
            "padding": null,
            "right": null,
            "top": null,
            "visibility": null,
            "width": null
          }
        },
        "e2b1283a119548e6ab4ee8802c7ed3e7": {
          "model_module": "@jupyter-widgets/controls",
          "model_name": "DescriptionStyleModel",
          "model_module_version": "1.5.0",
          "state": {
            "_model_module": "@jupyter-widgets/controls",
            "_model_module_version": "1.5.0",
            "_model_name": "DescriptionStyleModel",
            "_view_count": null,
            "_view_module": "@jupyter-widgets/base",
            "_view_module_version": "1.2.0",
            "_view_name": "StyleView",
            "description_width": ""
          }
        },
        "027299016a26478d8890442cee6e4d25": {
          "model_module": "@jupyter-widgets/controls",
          "model_name": "HBoxModel",
          "model_module_version": "1.5.0",
          "state": {
            "_dom_classes": [],
            "_model_module": "@jupyter-widgets/controls",
            "_model_module_version": "1.5.0",
            "_model_name": "HBoxModel",
            "_view_count": null,
            "_view_module": "@jupyter-widgets/controls",
            "_view_module_version": "1.5.0",
            "_view_name": "HBoxView",
            "box_style": "",
            "children": [
              "IPY_MODEL_3c66a2ab50f34f7babcc8d00ef58cef7",
              "IPY_MODEL_a52a0bf1f27f497293af546fef732dd1",
              "IPY_MODEL_780c2da6b3fd4d4ab3dd9817b5e97735"
            ],
            "layout": "IPY_MODEL_d375d7d7f24d4ec2ae137e957be1a496"
          }
        },
        "3c66a2ab50f34f7babcc8d00ef58cef7": {
          "model_module": "@jupyter-widgets/controls",
          "model_name": "HTMLModel",
          "model_module_version": "1.5.0",
          "state": {
            "_dom_classes": [],
            "_model_module": "@jupyter-widgets/controls",
            "_model_module_version": "1.5.0",
            "_model_name": "HTMLModel",
            "_view_count": null,
            "_view_module": "@jupyter-widgets/controls",
            "_view_module_version": "1.5.0",
            "_view_name": "HTMLView",
            "description": "",
            "description_tooltip": null,
            "layout": "IPY_MODEL_89ed27a0939147d1900db4c694244b14",
            "placeholder": "​",
            "style": "IPY_MODEL_64160001b3dd41969d61eaf43e604b0d",
            "value": "sentencepiece.bpe.model: 100%"
          }
        },
        "a52a0bf1f27f497293af546fef732dd1": {
          "model_module": "@jupyter-widgets/controls",
          "model_name": "FloatProgressModel",
          "model_module_version": "1.5.0",
          "state": {
            "_dom_classes": [],
            "_model_module": "@jupyter-widgets/controls",
            "_model_module_version": "1.5.0",
            "_model_name": "FloatProgressModel",
            "_view_count": null,
            "_view_module": "@jupyter-widgets/controls",
            "_view_module_version": "1.5.0",
            "_view_name": "ProgressView",
            "bar_style": "success",
            "description": "",
            "description_tooltip": null,
            "layout": "IPY_MODEL_d0cf5683c16049d7b2d9b8c3f72967e1",
            "max": 5069051,
            "min": 0,
            "orientation": "horizontal",
            "style": "IPY_MODEL_1a636b5bc11c449ba327fa0e94cf247a",
            "value": 5069051
          }
        },
        "780c2da6b3fd4d4ab3dd9817b5e97735": {
          "model_module": "@jupyter-widgets/controls",
          "model_name": "HTMLModel",
          "model_module_version": "1.5.0",
          "state": {
            "_dom_classes": [],
            "_model_module": "@jupyter-widgets/controls",
            "_model_module_version": "1.5.0",
            "_model_name": "HTMLModel",
            "_view_count": null,
            "_view_module": "@jupyter-widgets/controls",
            "_view_module_version": "1.5.0",
            "_view_name": "HTMLView",
            "description": "",
            "description_tooltip": null,
            "layout": "IPY_MODEL_3155cd7aff5149a4b6bf16d3846c6c31",
            "placeholder": "​",
            "style": "IPY_MODEL_ad35575261c04c7182dcbec3adca3529",
            "value": " 5.07M/5.07M [00:00&lt;00:00, 14.9MB/s]"
          }
        },
        "d375d7d7f24d4ec2ae137e957be1a496": {
          "model_module": "@jupyter-widgets/base",
          "model_name": "LayoutModel",
          "model_module_version": "1.2.0",
          "state": {
            "_model_module": "@jupyter-widgets/base",
            "_model_module_version": "1.2.0",
            "_model_name": "LayoutModel",
            "_view_count": null,
            "_view_module": "@jupyter-widgets/base",
            "_view_module_version": "1.2.0",
            "_view_name": "LayoutView",
            "align_content": null,
            "align_items": null,
            "align_self": null,
            "border": null,
            "bottom": null,
            "display": null,
            "flex": null,
            "flex_flow": null,
            "grid_area": null,
            "grid_auto_columns": null,
            "grid_auto_flow": null,
            "grid_auto_rows": null,
            "grid_column": null,
            "grid_gap": null,
            "grid_row": null,
            "grid_template_areas": null,
            "grid_template_columns": null,
            "grid_template_rows": null,
            "height": null,
            "justify_content": null,
            "justify_items": null,
            "left": null,
            "margin": null,
            "max_height": null,
            "max_width": null,
            "min_height": null,
            "min_width": null,
            "object_fit": null,
            "object_position": null,
            "order": null,
            "overflow": null,
            "overflow_x": null,
            "overflow_y": null,
            "padding": null,
            "right": null,
            "top": null,
            "visibility": null,
            "width": null
          }
        },
        "89ed27a0939147d1900db4c694244b14": {
          "model_module": "@jupyter-widgets/base",
          "model_name": "LayoutModel",
          "model_module_version": "1.2.0",
          "state": {
            "_model_module": "@jupyter-widgets/base",
            "_model_module_version": "1.2.0",
            "_model_name": "LayoutModel",
            "_view_count": null,
            "_view_module": "@jupyter-widgets/base",
            "_view_module_version": "1.2.0",
            "_view_name": "LayoutView",
            "align_content": null,
            "align_items": null,
            "align_self": null,
            "border": null,
            "bottom": null,
            "display": null,
            "flex": null,
            "flex_flow": null,
            "grid_area": null,
            "grid_auto_columns": null,
            "grid_auto_flow": null,
            "grid_auto_rows": null,
            "grid_column": null,
            "grid_gap": null,
            "grid_row": null,
            "grid_template_areas": null,
            "grid_template_columns": null,
            "grid_template_rows": null,
            "height": null,
            "justify_content": null,
            "justify_items": null,
            "left": null,
            "margin": null,
            "max_height": null,
            "max_width": null,
            "min_height": null,
            "min_width": null,
            "object_fit": null,
            "object_position": null,
            "order": null,
            "overflow": null,
            "overflow_x": null,
            "overflow_y": null,
            "padding": null,
            "right": null,
            "top": null,
            "visibility": null,
            "width": null
          }
        },
        "64160001b3dd41969d61eaf43e604b0d": {
          "model_module": "@jupyter-widgets/controls",
          "model_name": "DescriptionStyleModel",
          "model_module_version": "1.5.0",
          "state": {
            "_model_module": "@jupyter-widgets/controls",
            "_model_module_version": "1.5.0",
            "_model_name": "DescriptionStyleModel",
            "_view_count": null,
            "_view_module": "@jupyter-widgets/base",
            "_view_module_version": "1.2.0",
            "_view_name": "StyleView",
            "description_width": ""
          }
        },
        "d0cf5683c16049d7b2d9b8c3f72967e1": {
          "model_module": "@jupyter-widgets/base",
          "model_name": "LayoutModel",
          "model_module_version": "1.2.0",
          "state": {
            "_model_module": "@jupyter-widgets/base",
            "_model_module_version": "1.2.0",
            "_model_name": "LayoutModel",
            "_view_count": null,
            "_view_module": "@jupyter-widgets/base",
            "_view_module_version": "1.2.0",
            "_view_name": "LayoutView",
            "align_content": null,
            "align_items": null,
            "align_self": null,
            "border": null,
            "bottom": null,
            "display": null,
            "flex": null,
            "flex_flow": null,
            "grid_area": null,
            "grid_auto_columns": null,
            "grid_auto_flow": null,
            "grid_auto_rows": null,
            "grid_column": null,
            "grid_gap": null,
            "grid_row": null,
            "grid_template_areas": null,
            "grid_template_columns": null,
            "grid_template_rows": null,
            "height": null,
            "justify_content": null,
            "justify_items": null,
            "left": null,
            "margin": null,
            "max_height": null,
            "max_width": null,
            "min_height": null,
            "min_width": null,
            "object_fit": null,
            "object_position": null,
            "order": null,
            "overflow": null,
            "overflow_x": null,
            "overflow_y": null,
            "padding": null,
            "right": null,
            "top": null,
            "visibility": null,
            "width": null
          }
        },
        "1a636b5bc11c449ba327fa0e94cf247a": {
          "model_module": "@jupyter-widgets/controls",
          "model_name": "ProgressStyleModel",
          "model_module_version": "1.5.0",
          "state": {
            "_model_module": "@jupyter-widgets/controls",
            "_model_module_version": "1.5.0",
            "_model_name": "ProgressStyleModel",
            "_view_count": null,
            "_view_module": "@jupyter-widgets/base",
            "_view_module_version": "1.2.0",
            "_view_name": "StyleView",
            "bar_color": null,
            "description_width": ""
          }
        },
        "3155cd7aff5149a4b6bf16d3846c6c31": {
          "model_module": "@jupyter-widgets/base",
          "model_name": "LayoutModel",
          "model_module_version": "1.2.0",
          "state": {
            "_model_module": "@jupyter-widgets/base",
            "_model_module_version": "1.2.0",
            "_model_name": "LayoutModel",
            "_view_count": null,
            "_view_module": "@jupyter-widgets/base",
            "_view_module_version": "1.2.0",
            "_view_name": "LayoutView",
            "align_content": null,
            "align_items": null,
            "align_self": null,
            "border": null,
            "bottom": null,
            "display": null,
            "flex": null,
            "flex_flow": null,
            "grid_area": null,
            "grid_auto_columns": null,
            "grid_auto_flow": null,
            "grid_auto_rows": null,
            "grid_column": null,
            "grid_gap": null,
            "grid_row": null,
            "grid_template_areas": null,
            "grid_template_columns": null,
            "grid_template_rows": null,
            "height": null,
            "justify_content": null,
            "justify_items": null,
            "left": null,
            "margin": null,
            "max_height": null,
            "max_width": null,
            "min_height": null,
            "min_width": null,
            "object_fit": null,
            "object_position": null,
            "order": null,
            "overflow": null,
            "overflow_x": null,
            "overflow_y": null,
            "padding": null,
            "right": null,
            "top": null,
            "visibility": null,
            "width": null
          }
        },
        "ad35575261c04c7182dcbec3adca3529": {
          "model_module": "@jupyter-widgets/controls",
          "model_name": "DescriptionStyleModel",
          "model_module_version": "1.5.0",
          "state": {
            "_model_module": "@jupyter-widgets/controls",
            "_model_module_version": "1.5.0",
            "_model_name": "DescriptionStyleModel",
            "_view_count": null,
            "_view_module": "@jupyter-widgets/base",
            "_view_module_version": "1.2.0",
            "_view_name": "StyleView",
            "description_width": ""
          }
        },
        "042e0ba81b4f4d46a13831e982bb2ad7": {
          "model_module": "@jupyter-widgets/controls",
          "model_name": "HBoxModel",
          "model_module_version": "1.5.0",
          "state": {
            "_dom_classes": [],
            "_model_module": "@jupyter-widgets/controls",
            "_model_module_version": "1.5.0",
            "_model_name": "HBoxModel",
            "_view_count": null,
            "_view_module": "@jupyter-widgets/controls",
            "_view_module_version": "1.5.0",
            "_view_name": "HBoxView",
            "box_style": "",
            "children": [
              "IPY_MODEL_a7901b66270947b9821a08e8fcbd8361",
              "IPY_MODEL_abd27d8e93904bef8e982a88b3dd14bd",
              "IPY_MODEL_11929418443841c5a65b378626dc817d"
            ],
            "layout": "IPY_MODEL_5e800901b195423db21266967669fc8b"
          }
        },
        "a7901b66270947b9821a08e8fcbd8361": {
          "model_module": "@jupyter-widgets/controls",
          "model_name": "HTMLModel",
          "model_module_version": "1.5.0",
          "state": {
            "_dom_classes": [],
            "_model_module": "@jupyter-widgets/controls",
            "_model_module_version": "1.5.0",
            "_model_name": "HTMLModel",
            "_view_count": null,
            "_view_module": "@jupyter-widgets/controls",
            "_view_module_version": "1.5.0",
            "_view_name": "HTMLView",
            "description": "",
            "description_tooltip": null,
            "layout": "IPY_MODEL_caf6e49b60aa4d74acd4d1ed7e61dfbf",
            "placeholder": "​",
            "style": "IPY_MODEL_88ab49666d4f434c9e36501cf1ffc3d7",
            "value": "special_tokens_map.json: 100%"
          }
        },
        "abd27d8e93904bef8e982a88b3dd14bd": {
          "model_module": "@jupyter-widgets/controls",
          "model_name": "FloatProgressModel",
          "model_module_version": "1.5.0",
          "state": {
            "_dom_classes": [],
            "_model_module": "@jupyter-widgets/controls",
            "_model_module_version": "1.5.0",
            "_model_name": "FloatProgressModel",
            "_view_count": null,
            "_view_module": "@jupyter-widgets/controls",
            "_view_module_version": "1.5.0",
            "_view_name": "ProgressView",
            "bar_style": "success",
            "description": "",
            "description_tooltip": null,
            "layout": "IPY_MODEL_b0dd0cd6ef9b4de89a41d29a4cd408e5",
            "max": 150,
            "min": 0,
            "orientation": "horizontal",
            "style": "IPY_MODEL_d8a5a35193fd41f28ebf899b6e09e6fd",
            "value": 150
          }
        },
        "11929418443841c5a65b378626dc817d": {
          "model_module": "@jupyter-widgets/controls",
          "model_name": "HTMLModel",
          "model_module_version": "1.5.0",
          "state": {
            "_dom_classes": [],
            "_model_module": "@jupyter-widgets/controls",
            "_model_module_version": "1.5.0",
            "_model_name": "HTMLModel",
            "_view_count": null,
            "_view_module": "@jupyter-widgets/controls",
            "_view_module_version": "1.5.0",
            "_view_name": "HTMLView",
            "description": "",
            "description_tooltip": null,
            "layout": "IPY_MODEL_a75191b71beb4f42b2c1a1d8e3be1180",
            "placeholder": "​",
            "style": "IPY_MODEL_269e573e565042b4ad54e44c935b4585",
            "value": " 150/150 [00:00&lt;00:00, 6.31kB/s]"
          }
        },
        "5e800901b195423db21266967669fc8b": {
          "model_module": "@jupyter-widgets/base",
          "model_name": "LayoutModel",
          "model_module_version": "1.2.0",
          "state": {
            "_model_module": "@jupyter-widgets/base",
            "_model_module_version": "1.2.0",
            "_model_name": "LayoutModel",
            "_view_count": null,
            "_view_module": "@jupyter-widgets/base",
            "_view_module_version": "1.2.0",
            "_view_name": "LayoutView",
            "align_content": null,
            "align_items": null,
            "align_self": null,
            "border": null,
            "bottom": null,
            "display": null,
            "flex": null,
            "flex_flow": null,
            "grid_area": null,
            "grid_auto_columns": null,
            "grid_auto_flow": null,
            "grid_auto_rows": null,
            "grid_column": null,
            "grid_gap": null,
            "grid_row": null,
            "grid_template_areas": null,
            "grid_template_columns": null,
            "grid_template_rows": null,
            "height": null,
            "justify_content": null,
            "justify_items": null,
            "left": null,
            "margin": null,
            "max_height": null,
            "max_width": null,
            "min_height": null,
            "min_width": null,
            "object_fit": null,
            "object_position": null,
            "order": null,
            "overflow": null,
            "overflow_x": null,
            "overflow_y": null,
            "padding": null,
            "right": null,
            "top": null,
            "visibility": null,
            "width": null
          }
        },
        "caf6e49b60aa4d74acd4d1ed7e61dfbf": {
          "model_module": "@jupyter-widgets/base",
          "model_name": "LayoutModel",
          "model_module_version": "1.2.0",
          "state": {
            "_model_module": "@jupyter-widgets/base",
            "_model_module_version": "1.2.0",
            "_model_name": "LayoutModel",
            "_view_count": null,
            "_view_module": "@jupyter-widgets/base",
            "_view_module_version": "1.2.0",
            "_view_name": "LayoutView",
            "align_content": null,
            "align_items": null,
            "align_self": null,
            "border": null,
            "bottom": null,
            "display": null,
            "flex": null,
            "flex_flow": null,
            "grid_area": null,
            "grid_auto_columns": null,
            "grid_auto_flow": null,
            "grid_auto_rows": null,
            "grid_column": null,
            "grid_gap": null,
            "grid_row": null,
            "grid_template_areas": null,
            "grid_template_columns": null,
            "grid_template_rows": null,
            "height": null,
            "justify_content": null,
            "justify_items": null,
            "left": null,
            "margin": null,
            "max_height": null,
            "max_width": null,
            "min_height": null,
            "min_width": null,
            "object_fit": null,
            "object_position": null,
            "order": null,
            "overflow": null,
            "overflow_x": null,
            "overflow_y": null,
            "padding": null,
            "right": null,
            "top": null,
            "visibility": null,
            "width": null
          }
        },
        "88ab49666d4f434c9e36501cf1ffc3d7": {
          "model_module": "@jupyter-widgets/controls",
          "model_name": "DescriptionStyleModel",
          "model_module_version": "1.5.0",
          "state": {
            "_model_module": "@jupyter-widgets/controls",
            "_model_module_version": "1.5.0",
            "_model_name": "DescriptionStyleModel",
            "_view_count": null,
            "_view_module": "@jupyter-widgets/base",
            "_view_module_version": "1.2.0",
            "_view_name": "StyleView",
            "description_width": ""
          }
        },
        "b0dd0cd6ef9b4de89a41d29a4cd408e5": {
          "model_module": "@jupyter-widgets/base",
          "model_name": "LayoutModel",
          "model_module_version": "1.2.0",
          "state": {
            "_model_module": "@jupyter-widgets/base",
            "_model_module_version": "1.2.0",
            "_model_name": "LayoutModel",
            "_view_count": null,
            "_view_module": "@jupyter-widgets/base",
            "_view_module_version": "1.2.0",
            "_view_name": "LayoutView",
            "align_content": null,
            "align_items": null,
            "align_self": null,
            "border": null,
            "bottom": null,
            "display": null,
            "flex": null,
            "flex_flow": null,
            "grid_area": null,
            "grid_auto_columns": null,
            "grid_auto_flow": null,
            "grid_auto_rows": null,
            "grid_column": null,
            "grid_gap": null,
            "grid_row": null,
            "grid_template_areas": null,
            "grid_template_columns": null,
            "grid_template_rows": null,
            "height": null,
            "justify_content": null,
            "justify_items": null,
            "left": null,
            "margin": null,
            "max_height": null,
            "max_width": null,
            "min_height": null,
            "min_width": null,
            "object_fit": null,
            "object_position": null,
            "order": null,
            "overflow": null,
            "overflow_x": null,
            "overflow_y": null,
            "padding": null,
            "right": null,
            "top": null,
            "visibility": null,
            "width": null
          }
        },
        "d8a5a35193fd41f28ebf899b6e09e6fd": {
          "model_module": "@jupyter-widgets/controls",
          "model_name": "ProgressStyleModel",
          "model_module_version": "1.5.0",
          "state": {
            "_model_module": "@jupyter-widgets/controls",
            "_model_module_version": "1.5.0",
            "_model_name": "ProgressStyleModel",
            "_view_count": null,
            "_view_module": "@jupyter-widgets/base",
            "_view_module_version": "1.2.0",
            "_view_name": "StyleView",
            "bar_color": null,
            "description_width": ""
          }
        },
        "a75191b71beb4f42b2c1a1d8e3be1180": {
          "model_module": "@jupyter-widgets/base",
          "model_name": "LayoutModel",
          "model_module_version": "1.2.0",
          "state": {
            "_model_module": "@jupyter-widgets/base",
            "_model_module_version": "1.2.0",
            "_model_name": "LayoutModel",
            "_view_count": null,
            "_view_module": "@jupyter-widgets/base",
            "_view_module_version": "1.2.0",
            "_view_name": "LayoutView",
            "align_content": null,
            "align_items": null,
            "align_self": null,
            "border": null,
            "bottom": null,
            "display": null,
            "flex": null,
            "flex_flow": null,
            "grid_area": null,
            "grid_auto_columns": null,
            "grid_auto_flow": null,
            "grid_auto_rows": null,
            "grid_column": null,
            "grid_gap": null,
            "grid_row": null,
            "grid_template_areas": null,
            "grid_template_columns": null,
            "grid_template_rows": null,
            "height": null,
            "justify_content": null,
            "justify_items": null,
            "left": null,
            "margin": null,
            "max_height": null,
            "max_width": null,
            "min_height": null,
            "min_width": null,
            "object_fit": null,
            "object_position": null,
            "order": null,
            "overflow": null,
            "overflow_x": null,
            "overflow_y": null,
            "padding": null,
            "right": null,
            "top": null,
            "visibility": null,
            "width": null
          }
        },
        "269e573e565042b4ad54e44c935b4585": {
          "model_module": "@jupyter-widgets/controls",
          "model_name": "DescriptionStyleModel",
          "model_module_version": "1.5.0",
          "state": {
            "_model_module": "@jupyter-widgets/controls",
            "_model_module_version": "1.5.0",
            "_model_name": "DescriptionStyleModel",
            "_view_count": null,
            "_view_module": "@jupyter-widgets/base",
            "_view_module_version": "1.2.0",
            "_view_name": "StyleView",
            "description_width": ""
          }
        },
        "9e467966c3204dc5a29f57644b28948b": {
          "model_module": "@jupyter-widgets/controls",
          "model_name": "HBoxModel",
          "model_module_version": "1.5.0",
          "state": {
            "_dom_classes": [],
            "_model_module": "@jupyter-widgets/controls",
            "_model_module_version": "1.5.0",
            "_model_name": "HBoxModel",
            "_view_count": null,
            "_view_module": "@jupyter-widgets/controls",
            "_view_module_version": "1.5.0",
            "_view_name": "HBoxView",
            "box_style": "",
            "children": [
              "IPY_MODEL_e8dbc95261d548ccb44e8b4e2e4df24c",
              "IPY_MODEL_d3ce456e6c6942b48a80cd73fddb8015",
              "IPY_MODEL_f91405d4d7544fa197cbcad80be54e96"
            ],
            "layout": "IPY_MODEL_bd593c135f9b41d686b2e8b605f5b598"
          }
        },
        "e8dbc95261d548ccb44e8b4e2e4df24c": {
          "model_module": "@jupyter-widgets/controls",
          "model_name": "HTMLModel",
          "model_module_version": "1.5.0",
          "state": {
            "_dom_classes": [],
            "_model_module": "@jupyter-widgets/controls",
            "_model_module_version": "1.5.0",
            "_model_name": "HTMLModel",
            "_view_count": null,
            "_view_module": "@jupyter-widgets/controls",
            "_view_module_version": "1.5.0",
            "_view_name": "HTMLView",
            "description": "",
            "description_tooltip": null,
            "layout": "IPY_MODEL_711c7f32f0f6486e899b2111a823aa78",
            "placeholder": "​",
            "style": "IPY_MODEL_3e771ab424f14070bf19436f2da172de",
            "value": "tf_model.h5: 100%"
          }
        },
        "d3ce456e6c6942b48a80cd73fddb8015": {
          "model_module": "@jupyter-widgets/controls",
          "model_name": "FloatProgressModel",
          "model_module_version": "1.5.0",
          "state": {
            "_dom_classes": [],
            "_model_module": "@jupyter-widgets/controls",
            "_model_module_version": "1.5.0",
            "_model_name": "FloatProgressModel",
            "_view_count": null,
            "_view_module": "@jupyter-widgets/controls",
            "_view_module_version": "1.5.0",
            "_view_name": "ProgressView",
            "bar_style": "success",
            "description": "",
            "description_tooltip": null,
            "layout": "IPY_MODEL_0322d7942547475793a1e7c42112b16c",
            "max": 1114822968,
            "min": 0,
            "orientation": "horizontal",
            "style": "IPY_MODEL_e6a661653c8345c1bc067f1cb731af6e",
            "value": 1114822968
          }
        },
        "f91405d4d7544fa197cbcad80be54e96": {
          "model_module": "@jupyter-widgets/controls",
          "model_name": "HTMLModel",
          "model_module_version": "1.5.0",
          "state": {
            "_dom_classes": [],
            "_model_module": "@jupyter-widgets/controls",
            "_model_module_version": "1.5.0",
            "_model_name": "HTMLModel",
            "_view_count": null,
            "_view_module": "@jupyter-widgets/controls",
            "_view_module_version": "1.5.0",
            "_view_name": "HTMLView",
            "description": "",
            "description_tooltip": null,
            "layout": "IPY_MODEL_205eda4fcd634df4927a95171272b04d",
            "placeholder": "​",
            "style": "IPY_MODEL_cf1a5a9f25214eb1843a360d59d3576f",
            "value": " 1.11G/1.11G [00:12&lt;00:00, 97.1MB/s]"
          }
        },
        "bd593c135f9b41d686b2e8b605f5b598": {
          "model_module": "@jupyter-widgets/base",
          "model_name": "LayoutModel",
          "model_module_version": "1.2.0",
          "state": {
            "_model_module": "@jupyter-widgets/base",
            "_model_module_version": "1.2.0",
            "_model_name": "LayoutModel",
            "_view_count": null,
            "_view_module": "@jupyter-widgets/base",
            "_view_module_version": "1.2.0",
            "_view_name": "LayoutView",
            "align_content": null,
            "align_items": null,
            "align_self": null,
            "border": null,
            "bottom": null,
            "display": null,
            "flex": null,
            "flex_flow": null,
            "grid_area": null,
            "grid_auto_columns": null,
            "grid_auto_flow": null,
            "grid_auto_rows": null,
            "grid_column": null,
            "grid_gap": null,
            "grid_row": null,
            "grid_template_areas": null,
            "grid_template_columns": null,
            "grid_template_rows": null,
            "height": null,
            "justify_content": null,
            "justify_items": null,
            "left": null,
            "margin": null,
            "max_height": null,
            "max_width": null,
            "min_height": null,
            "min_width": null,
            "object_fit": null,
            "object_position": null,
            "order": null,
            "overflow": null,
            "overflow_x": null,
            "overflow_y": null,
            "padding": null,
            "right": null,
            "top": null,
            "visibility": null,
            "width": null
          }
        },
        "711c7f32f0f6486e899b2111a823aa78": {
          "model_module": "@jupyter-widgets/base",
          "model_name": "LayoutModel",
          "model_module_version": "1.2.0",
          "state": {
            "_model_module": "@jupyter-widgets/base",
            "_model_module_version": "1.2.0",
            "_model_name": "LayoutModel",
            "_view_count": null,
            "_view_module": "@jupyter-widgets/base",
            "_view_module_version": "1.2.0",
            "_view_name": "LayoutView",
            "align_content": null,
            "align_items": null,
            "align_self": null,
            "border": null,
            "bottom": null,
            "display": null,
            "flex": null,
            "flex_flow": null,
            "grid_area": null,
            "grid_auto_columns": null,
            "grid_auto_flow": null,
            "grid_auto_rows": null,
            "grid_column": null,
            "grid_gap": null,
            "grid_row": null,
            "grid_template_areas": null,
            "grid_template_columns": null,
            "grid_template_rows": null,
            "height": null,
            "justify_content": null,
            "justify_items": null,
            "left": null,
            "margin": null,
            "max_height": null,
            "max_width": null,
            "min_height": null,
            "min_width": null,
            "object_fit": null,
            "object_position": null,
            "order": null,
            "overflow": null,
            "overflow_x": null,
            "overflow_y": null,
            "padding": null,
            "right": null,
            "top": null,
            "visibility": null,
            "width": null
          }
        },
        "3e771ab424f14070bf19436f2da172de": {
          "model_module": "@jupyter-widgets/controls",
          "model_name": "DescriptionStyleModel",
          "model_module_version": "1.5.0",
          "state": {
            "_model_module": "@jupyter-widgets/controls",
            "_model_module_version": "1.5.0",
            "_model_name": "DescriptionStyleModel",
            "_view_count": null,
            "_view_module": "@jupyter-widgets/base",
            "_view_module_version": "1.2.0",
            "_view_name": "StyleView",
            "description_width": ""
          }
        },
        "0322d7942547475793a1e7c42112b16c": {
          "model_module": "@jupyter-widgets/base",
          "model_name": "LayoutModel",
          "model_module_version": "1.2.0",
          "state": {
            "_model_module": "@jupyter-widgets/base",
            "_model_module_version": "1.2.0",
            "_model_name": "LayoutModel",
            "_view_count": null,
            "_view_module": "@jupyter-widgets/base",
            "_view_module_version": "1.2.0",
            "_view_name": "LayoutView",
            "align_content": null,
            "align_items": null,
            "align_self": null,
            "border": null,
            "bottom": null,
            "display": null,
            "flex": null,
            "flex_flow": null,
            "grid_area": null,
            "grid_auto_columns": null,
            "grid_auto_flow": null,
            "grid_auto_rows": null,
            "grid_column": null,
            "grid_gap": null,
            "grid_row": null,
            "grid_template_areas": null,
            "grid_template_columns": null,
            "grid_template_rows": null,
            "height": null,
            "justify_content": null,
            "justify_items": null,
            "left": null,
            "margin": null,
            "max_height": null,
            "max_width": null,
            "min_height": null,
            "min_width": null,
            "object_fit": null,
            "object_position": null,
            "order": null,
            "overflow": null,
            "overflow_x": null,
            "overflow_y": null,
            "padding": null,
            "right": null,
            "top": null,
            "visibility": null,
            "width": null
          }
        },
        "e6a661653c8345c1bc067f1cb731af6e": {
          "model_module": "@jupyter-widgets/controls",
          "model_name": "ProgressStyleModel",
          "model_module_version": "1.5.0",
          "state": {
            "_model_module": "@jupyter-widgets/controls",
            "_model_module_version": "1.5.0",
            "_model_name": "ProgressStyleModel",
            "_view_count": null,
            "_view_module": "@jupyter-widgets/base",
            "_view_module_version": "1.2.0",
            "_view_name": "StyleView",
            "bar_color": null,
            "description_width": ""
          }
        },
        "205eda4fcd634df4927a95171272b04d": {
          "model_module": "@jupyter-widgets/base",
          "model_name": "LayoutModel",
          "model_module_version": "1.2.0",
          "state": {
            "_model_module": "@jupyter-widgets/base",
            "_model_module_version": "1.2.0",
            "_model_name": "LayoutModel",
            "_view_count": null,
            "_view_module": "@jupyter-widgets/base",
            "_view_module_version": "1.2.0",
            "_view_name": "LayoutView",
            "align_content": null,
            "align_items": null,
            "align_self": null,
            "border": null,
            "bottom": null,
            "display": null,
            "flex": null,
            "flex_flow": null,
            "grid_area": null,
            "grid_auto_columns": null,
            "grid_auto_flow": null,
            "grid_auto_rows": null,
            "grid_column": null,
            "grid_gap": null,
            "grid_row": null,
            "grid_template_areas": null,
            "grid_template_columns": null,
            "grid_template_rows": null,
            "height": null,
            "justify_content": null,
            "justify_items": null,
            "left": null,
            "margin": null,
            "max_height": null,
            "max_width": null,
            "min_height": null,
            "min_width": null,
            "object_fit": null,
            "object_position": null,
            "order": null,
            "overflow": null,
            "overflow_x": null,
            "overflow_y": null,
            "padding": null,
            "right": null,
            "top": null,
            "visibility": null,
            "width": null
          }
        },
        "cf1a5a9f25214eb1843a360d59d3576f": {
          "model_module": "@jupyter-widgets/controls",
          "model_name": "DescriptionStyleModel",
          "model_module_version": "1.5.0",
          "state": {
            "_model_module": "@jupyter-widgets/controls",
            "_model_module_version": "1.5.0",
            "_model_name": "DescriptionStyleModel",
            "_view_count": null,
            "_view_module": "@jupyter-widgets/base",
            "_view_module_version": "1.2.0",
            "_view_name": "StyleView",
            "description_width": ""
          }
        }
      }
    }
  },
  "nbformat": 4,
  "nbformat_minor": 0
}