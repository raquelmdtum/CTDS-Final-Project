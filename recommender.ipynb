{
 "cells": [
  {
   "cell_type": "markdown",
   "metadata": {},
   "source": [
    "#### Imports"
   ]
  },
  {
   "cell_type": "code",
   "execution_count": 58,
   "metadata": {},
   "outputs": [],
   "source": [
    "import pickle\n",
    "import nbimporter\n",
    "import pandas as pd\n",
    "# from frequent_itemsets import find_associated_items, preprocess_rules\n",
    "from utility import find_associated_items, preprocess_rules\n",
    "from similar_items import *"
   ]
  },
  {
   "cell_type": "markdown",
   "metadata": {},
   "source": [
    "### Load variables from frequent_itemsets notebook"
   ]
  },
  {
   "cell_type": "code",
   "execution_count": 59,
   "metadata": {},
   "outputs": [],
   "source": [
    "def preprocess_rules(rules):\n",
    "   \"\"\"\n",
    "   Preprocess the rules DataFrame to ensure 'antecedents' and 'consequents' are sets.\n",
    "   \"\"\"\n",
    "    # Create a copy of the DataFrame to avoid modifying the original\n",
    "   rules = rules.copy()\n",
    "   rules['antecedents'] = rules['antecedents'].apply(lambda x: x.split(\", \") if isinstance(x, str) else x)\n",
    "   rules['consequents'] = rules['consequents'].apply(lambda x: x.split(\", \") if isinstance(x, str) else x)\n",
    "   return rules   "
   ]
  },
  {
   "cell_type": "code",
   "execution_count": 60,
   "metadata": {},
   "outputs": [],
   "source": [
    "# Function to find items associated with an input item\n",
    "def find_associated_items(input_item, rules):\n",
    "   \"\"\"\n",
    "   Find all items associated with an input item based on association rules.\n",
    "\n",
    "   Parameters:\n",
    "      input_item (str): The item to find associations for.\n",
    "      rules (pd.DataFrame): A DataFrame of association rules with columns 'antecedents' and 'consequents'.\n",
    "\n",
    "   Returns:\n",
    "      list: A list of items associated with the input item, preserving the order of rules.\n",
    "   \"\"\"\n",
    "   # Sort rules by confidence in descending order\n",
    "   rules = rules.sort_values(by='confidence', ascending=False).reset_index(drop=True)\n",
    "\n",
    "   input_item_antecedents = [input_item]\n",
    "\n",
    "   associated_items = []\n",
    "   \n",
    "   # Iterate through the rules\n",
    "   for _, rule in rules.iterrows():\n",
    "      antecedents = rule['antecedents']\n",
    "      consequents = rule['consequents']\n",
    "            \n",
    "      # Check if the input item is in the antecedents\n",
    "      if input_item_antecedents == antecedents:\n",
    "         # Add consequents to the associated items if not already present\n",
    "         for item in consequents:\n",
    "               if item not in associated_items:\n",
    "                  associated_items.append(item)\n",
    "                  \n",
    "   return associated_items"
   ]
  },
  {
   "cell_type": "code",
   "execution_count": 61,
   "metadata": {},
   "outputs": [],
   "source": [
    "# Load variables from the file\n",
    "with open('rules_display.pkl', 'rb') as f:\n",
    "    rules_display = pickle.load(f)\n",
    "    rules = preprocess_rules(rules_display) \n",
    "\n",
    "with open('filtered_rules.pkl', 'rb') as f:\n",
    "    filtered_rules = pickle.load(f)\n",
    "\n",
    "skincare_df = pd.read_csv(\"processed_data/skincare.csv\")"
   ]
  },
  {
   "cell_type": "markdown",
   "metadata": {},
   "source": [
    "## Recommender"
   ]
  },
  {
   "cell_type": "code",
   "execution_count": 62,
   "metadata": {},
   "outputs": [
    {
     "data": {
      "text/plain": [
       "'\\nPseudo code:\\n\\ndef recommender(product_id, n=5):\\n   \\n    do find_associated_items()\\n\\n   # check if our product has association rule\\n   if find_associated_items() does not return empty:\\n      # get the consequents of the product_id products, if there´s less than 5 associated items, then output all associated items\\n      recommendations = similar_items(first 5 outputs of associated_items) + first 5 outputs of associated_items\\n      \\n      return recommendations\\n   \\n   else if find_associated_items() does return empty:\\n        perform similar items on all antecedents (unique_values)\\n        and product_id is now the most similar item\\n\\n        then do recommender method again with new product_id\\n'"
      ]
     },
     "execution_count": 62,
     "metadata": {},
     "output_type": "execute_result"
    }
   ],
   "source": [
    "\"\"\"\n",
    "Pseudo code:\n",
    "\n",
    "def recommender(product_id, n=5):\n",
    "   \n",
    "    do find_associated_items()\n",
    "\n",
    "   # check if our product has association rule\n",
    "   if find_associated_items() does not return empty:\n",
    "      # get the consequents of the product_id products, if there´s less than 5 associated items, then output all associated items\n",
    "      recommendations = similar_items(first 5 outputs of associated_items) + first 5 outputs of associated_items\n",
    "      \n",
    "      return recommendations\n",
    "   \n",
    "   else if find_associated_items() does return empty:\n",
    "        perform similar items on all antecedents (unique_values)\n",
    "        and product_id is now the most similar item\n",
    "\n",
    "        then do recommender method again with new product_id\n",
    "\"\"\""
   ]
  },
  {
   "cell_type": "code",
   "execution_count": 63,
   "metadata": {},
   "outputs": [],
   "source": [
    "# # Recommender function\n",
    "# def recommender(product_id, rules, n=5):\n",
    "#     \"\"\"\n",
    "#     Recommend products based on association rules and similarity.\n",
    "\n",
    "#     Parameters:\n",
    "#         product_id (str): The product ID for which recommendations are needed.\n",
    "#         rules (pd.DataFrame): A DataFrame of association rules with columns 'antecedents' and 'consequents'.\n",
    "#         n (int): Number of recommendations to return.\n",
    "\n",
    "#     Returns:\n",
    "#         list: Recommended products.\n",
    "#     \"\"\"\n",
    "#     # Step 1: Find associated items\n",
    "#     associated_items = find_associated_items(product_id, rules)\n",
    "\n",
    "#     if associated_items:\n",
    "#         # Step 2: Direct match found; get recommendations\n",
    "#         recommendations = list(associated_items)[:n]\n",
    "\n",
    "#         # Add similar items to recommendations (assuming similar_items works on associated_items)\n",
    "#         similar_recommendations = get_similar_items(product_id, associated_items, n)\n",
    "#         return similar_recommendations + recommendations\n",
    "\n",
    "#     else:\n",
    "#         # Step 3: No direct match; find the most similar product\n",
    "#         antecedents = pd.concat([rules_display['antecedents']]).explode().unique()  # All unique antecedent items\n",
    "#         most_similar = get_similar_items(product_id, set(antecedents), 1)\n",
    "\n",
    "#         if not most_similar:\n",
    "#             return []  # No similar items found; cannot make recommendations\n",
    "\n",
    "#         # Recursive call with the new product ID\n",
    "#         return #recommender(most_similar[0], rules, n)\n",
    "\n",
    "# # Example Usage\n",
    "# # Preprocess the rules DataFrame\n",
    "# rules_df = preprocess_rules(filtered_rules)\n",
    "\n",
    "# # Input product\n",
    "# input_product = 'P500633'\n",
    "\n",
    "# # Get recommendations\n",
    "# recommendations = recommender(input_product, rules_df, n=5)\n",
    "\n",
    "# print(f\"Recommendations for product '{input_product}': {recommendations}\")"
   ]
  },
  {
   "cell_type": "code",
   "execution_count": 64,
   "metadata": {},
   "outputs": [
    {
     "name": "stderr",
     "output_type": "stream",
     "text": [
      "c:\\miniconda\\envs\\ds\\Lib\\site-packages\\sklearn\\feature_extraction\\text.py:521: UserWarning: The parameter 'token_pattern' will not be used since 'tokenizer' is not None'\n",
      "  warnings.warn(\n"
     ]
    },
    {
     "name": "stdout",
     "output_type": "stream",
     "text": [
      "Recommendations for product 'P503814': ['P500633', 'P503936', 'P270594', 'P442540', 'P94421']\n"
     ]
    }
   ],
   "source": [
    "# Recommender function\n",
    "def recommender(product_id, rules, df, n=5):\n",
    "    \"\"\"\n",
    "    Recommend products based on association rules and similarity.\n",
    "\n",
    "    Parameters:\n",
    "        product_id (str): The product ID for which recommendations are needed.\n",
    "        rules (pd.DataFrame): A DataFrame of association rules with columns 'antecedents' and 'consequents'.\n",
    "        n (int): Number of recommendations to return.\n",
    "\n",
    "    Returns:\n",
    "        list: Recommended products.\n",
    "    \"\"\"\n",
    "    \n",
    "    # Step 1: Find associated items\n",
    "    associated_items = find_associated_items(product_id, rules)\n",
    "    \n",
    "    # no rule for chosen item\n",
    "    if len(associated_items) == 0:\n",
    "        # find the most similar product to the product_id\n",
    "        \n",
    "        # get all the single antecedents in the rules\n",
    "        antecedents = [\n",
    "            list(item)[0]  # Convert frozenset to list and get the single element\n",
    "            for item in rules[\"antecedents\"]\n",
    "            if len(item) == 1\n",
    "        ]\n",
    "        \n",
    "        # filter skincare so it searches for the similar items only among the antecedents and product_id\n",
    "        antecedents.append(product_id)\n",
    "        df_antecedents = df[df['product_id'].isin(antecedents)]\n",
    "\n",
    "        # the most similar antecedents to a product_id\n",
    "        the_most_similar_product_id = get_similar_items(product_id, df_antecedents, n = 1)['product_id'].iloc[0]\n",
    "        \n",
    "        associated_items = find_associated_items(the_most_similar_product_id, rules)\n",
    "    \n",
    "    # get the top n associated items\n",
    "    if len(associated_items) >= n:\n",
    "        return associated_items[:n]\n",
    "    \n",
    "    # if there are not enough  associated items get the similar items to the product_id as well\n",
    "    else:\n",
    "        number_of_similar_items = n - len(associated_items)\n",
    "        \n",
    "        # get the top number_of_similar_items\n",
    "        similar_items = list(get_similar_items(product_id, df, n = number_of_similar_items)['product_id'])\n",
    "        \n",
    "        return associated_items + similar_items\n",
    "        \n",
    "\n",
    "# Input product\n",
    "# input_product = 'P500633'\n",
    "input_product = \"P503814\" \n",
    "\n",
    "# Get recommendations\n",
    "recommendations = recommender(input_product, rules, skincare_df, n=5)\n",
    "\n",
    "print(f\"Recommendations for product '{input_product}': {recommendations}\")"
   ]
  },
  {
   "cell_type": "code",
   "execution_count": 65,
   "metadata": {},
   "outputs": [
    {
     "data": {
      "text/plain": [
       "'def recommender(product_id, n=5):\\n   \\n   # find frequent items\\n   association_rules = get_association_rules()\\n   \\n   # get the antecedents\\n   antecedents = association_rules[\"antecedents\"]\\n   \\n   # check if our product has association rule\\n   if product_id in antecedents:\\n      # get the consequents of the product_id products \\n      consequents = association_rules[association_rules[\\'antecedents\\'] == product_id]\\n      \\n      # get top 5 products for each consequents:\\n      recommendations = DataFrame() # )\\n      for consequent in consequents:\\n         similar_items = get_similar_items(consequent, 10) # this function exists, change it so it takes the dataframe as well\\n         recommendations = pd.concat([recommendations, similar_items], ignore_index=True)\\n         \\n      recommendations = recommendations.sort_values(by=\\'rrf_score\\', ascending=False).reset_index(drop=True)\\n      recommendations = recommendations[:n]\\n      \\n      return recommendations\\n   \\n   else:\\n      # in case it does not exist find the most similar antecedents to this one \\n      \\n      # take the skincare products that are antecedents\\n      \\n      # call a new function (the same as previous but input is df as well)\\n      \\n      # get the most similar product to this one\\n      \\n      # get the consequents of that product\\n      \\n      # repeat the same as in the if part'"
      ]
     },
     "execution_count": 65,
     "metadata": {},
     "output_type": "execute_result"
    }
   ],
   "source": [
    "\"\"\"def recommender(product_id, n=5):\n",
    "   \n",
    "   # find frequent items\n",
    "   association_rules = get_association_rules()\n",
    "   \n",
    "   # get the antecedents\n",
    "   antecedents = association_rules[\"antecedents\"]\n",
    "   \n",
    "   # check if our product has association rule\n",
    "   if product_id in antecedents:\n",
    "      # get the consequents of the product_id products \n",
    "      consequents = association_rules[association_rules['antecedents'] == product_id]\n",
    "      \n",
    "      # get top 5 products for each consequents:\n",
    "      recommendations = DataFrame() # )\n",
    "      for consequent in consequents:\n",
    "         similar_items = get_similar_items(consequent, 10) # this function exists, change it so it takes the dataframe as well\n",
    "         recommendations = pd.concat([recommendations, similar_items], ignore_index=True)\n",
    "         \n",
    "      recommendations = recommendations.sort_values(by='rrf_score', ascending=False).reset_index(drop=True)\n",
    "      recommendations = recommendations[:n]\n",
    "      \n",
    "      return recommendations\n",
    "   \n",
    "   else:\n",
    "      # in case it does not exist find the most similar antecedents to this one \n",
    "      \n",
    "      # take the skincare products that are antecedents\n",
    "      \n",
    "      # call a new function (the same as previous but input is df as well)\n",
    "      \n",
    "      # get the most similar product to this one\n",
    "      \n",
    "      # get the consequents of that product\n",
    "      \n",
    "      # repeat the same as in the if part\"\"\""
   ]
  }
 ],
 "metadata": {
  "kernelspec": {
   "display_name": "ds",
   "language": "python",
   "name": "python3"
  },
  "language_info": {
   "codemirror_mode": {
    "name": "ipython",
    "version": 3
   },
   "file_extension": ".py",
   "mimetype": "text/x-python",
   "name": "python",
   "nbconvert_exporter": "python",
   "pygments_lexer": "ipython3",
   "version": "3.12.7"
  }
 },
 "nbformat": 4,
 "nbformat_minor": 2
}
