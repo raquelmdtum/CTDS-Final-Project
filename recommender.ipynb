{
 "cells": [
  {
   "cell_type": "markdown",
   "metadata": {},
   "source": [
    "#### Imports"
   ]
  },
  {
   "cell_type": "code",
   "execution_count": 7,
   "metadata": {},
   "outputs": [],
   "source": [
    "import pickle\n",
    "import nbimporter\n",
    "import pandas as pd\n",
    "from utility import * # import all the functions"
   ]
  },
  {
   "cell_type": "markdown",
   "metadata": {},
   "source": [
    "## Recommender"
   ]
  },
  {
   "cell_type": "markdown",
   "metadata": {},
   "source": [
    "To\n",
    "handle cases where a product lacks association rules—such as newly introduced items—the system calculates\n",
    "similarity scores against all other products in the database. It identifies the most similar product and\n",
    "utilizes its association rules to generate recommendations. This approach maintains consistency in the type\n",
    "of recommendations provided. Similarly, if there are insufficient association rules, the system leverages the\n",
    "\"similar items\" method by using related products as a basis to ensure a consistent and diverse output."
   ]
  },
  {
   "cell_type": "code",
   "execution_count": 9,
   "metadata": {},
   "outputs": [],
   "source": [
    "# Recommender function\n",
    "def recommender(product_id, rules, df, n=5):\n",
    "    \"\"\"\n",
    "    Recommend products based on association rules and similarity.\n",
    "\n",
    "    Parameters:\n",
    "        product_id (str): The product ID for which recommendations are needed.\n",
    "        rules (pd.DataFrame): A DataFrame of association rules with columns 'antecedents' and 'consequents'.\n",
    "        n (int): Number of recommendations to return.\n",
    "\n",
    "    Returns:\n",
    "        list: Recommended products.\n",
    "    \"\"\"\n",
    "    \n",
    "    # Step 1: Find associated items\n",
    "    associated_items = find_associated_items(product_id, rules)\n",
    "    \n",
    "    # no rule for chosen item\n",
    "    if len(associated_items) == 0:\n",
    "        # find the most similar antecedents to the product_id\n",
    "        \n",
    "        # get all the single antecedents in the rules\n",
    "        antecedents = [\n",
    "            list(item)[0]\n",
    "            for item in rules[\"antecedents\"]\n",
    "            if len(item) == 1\n",
    "        ]\n",
    "        \n",
    "        # filter skincare so it searches for the similar items only among the antecedents and product_id\n",
    "        antecedents.append(product_id)\n",
    "        df_antecedents = df[df['product_id'].isin(antecedents)]\n",
    "\n",
    "        # the most similar antecedents to a product_id\n",
    "        the_most_similar_product_id = get_similar_items(product_id, df_antecedents, n = 1)['product_id'].iloc[0]\n",
    "        \n",
    "        associated_items = find_associated_items(the_most_similar_product_id, rules)\n",
    "    \n",
    "    # get the top n associated items\n",
    "    if len(associated_items) >= n:\n",
    "        return associated_items[:n]\n",
    "    \n",
    "    # if there are not enough  associated items get the similar items to the product_id as well\n",
    "    else:\n",
    "        number_of_similar_items = n - len(associated_items)\n",
    "        \n",
    "        # for each of the consequents find similar items and combine them in one dataframe\n",
    "        similar_items_dataframes = []\n",
    "        for i in associated_items:\n",
    "            # get the top number_of_similar_items\n",
    "            similar_items = get_similar_items(product_id, df)\n",
    "            similar_items_dataframes.append(similar_items)\n",
    "        \n",
    "        all_similar_items = pd.concat(similar_items_dataframes, axis=0)\n",
    "        \n",
    "        # order is by similarity_score_highlights\n",
    "        all_similar_items = all_similar_items.sort_values(by='rrf_score', ascending=False).reset_index(drop=True)\n",
    "        \n",
    "        # take only the top number_of_similar_items\n",
    "        similar_products = list(all_similar_items['product_id'])[:number_of_similar_items]\n",
    "        \n",
    "        return associated_items + similar_products\n",
    "        "
   ]
  },
  {
   "cell_type": "markdown",
   "metadata": {},
   "source": [
    "### Load data"
   ]
  },
  {
   "cell_type": "code",
   "execution_count": null,
   "metadata": {},
   "outputs": [],
   "source": [
    "association_rules = pd.read_csv('processed_data/association_rules.csv')\n",
    "association_rules = preprocess_rules(association_rules) \n",
    "skincare_df = pd.read_csv(\"processed_data/skincare.csv\")"
   ]
  },
  {
   "cell_type": "markdown",
   "metadata": {},
   "source": [
    "### Example of usage"
   ]
  },
  {
   "cell_type": "code",
   "execution_count": 16,
   "metadata": {},
   "outputs": [
    {
     "name": "stdout",
     "output_type": "stream",
     "text": [
      "The most similar products to the Baba Bomb Moisturizer are: \n",
      "0    Drink Up Intensive Overnight Hydrating Mask wi...\n",
      "1    The Camellia Oil 2-in-1 Makeup Remover & Cleanser\n",
      "2       Pillowgasm Vitamin-Rich Cherry Glow Sleep Mask\n",
      "3                SEA Mermaid Skin Hyaluronic H2O Serum\n",
      "4    Kombucha 2-in-1 No-Rinse Cleanser & Prebiotic ...\n",
      "Name: product_name, dtype: object\n"
     ]
    },
    {
     "name": "stderr",
     "output_type": "stream",
     "text": [
      "c:\\miniconda\\envs\\ds\\Lib\\site-packages\\sklearn\\feature_extraction\\text.py:521: UserWarning: The parameter 'token_pattern' will not be used since 'tokenizer' is not None'\n",
      "  warnings.warn(\n",
      "c:\\Data Scinece\\utility.py:37: SettingWithCopyWarning: \n",
      "A value is trying to be set on a copy of a slice from a DataFrame.\n",
      "Try using .loc[row_indexer,col_indexer] = value instead\n",
      "\n",
      "See the caveats in the documentation: https://pandas.pydata.org/pandas-docs/stable/user_guide/indexing.html#returning-a-view-versus-a-copy\n",
      "  df['similarity_score_ingredients'] = similarities\n"
     ]
    }
   ],
   "source": [
    "random_product_id = skincare_df['product_id'].sample(n=1).iloc[0]\n",
    "\n",
    "product_name = skincare_df[skincare_df['product_id'] == random_product_id]['product_name'].iloc[0]\n",
    "merged = get_similar_items(random_product_id, skincare_df)['product_name'].head(5)\n",
    "\n",
    "print(f\"The most similar products to the {product_name} are: \")\n",
    "print(merged)"
   ]
  }
 ],
 "metadata": {
  "kernelspec": {
   "display_name": "ds",
   "language": "python",
   "name": "python3"
  },
  "language_info": {
   "codemirror_mode": {
    "name": "ipython",
    "version": 3
   },
   "file_extension": ".py",
   "mimetype": "text/x-python",
   "name": "python",
   "nbconvert_exporter": "python",
   "pygments_lexer": "ipython3",
   "version": "3.12.7"
  }
 },
 "nbformat": 4,
 "nbformat_minor": 2
}
