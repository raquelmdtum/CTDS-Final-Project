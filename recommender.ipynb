{
 "cells": [
  {
   "cell_type": "markdown",
   "metadata": {},
   "source": [
    "#### Imports"
   ]
  },
  {
   "cell_type": "code",
   "execution_count": 1,
   "metadata": {},
   "outputs": [],
   "source": [
    "import pickle\n",
    "import nbimporter\n",
    "import pandas as pd\n",
    "from frequent_itemsets import find_associated_items, preprocess_rules"
   ]
  },
  {
   "cell_type": "markdown",
   "metadata": {},
   "source": [
    "### Load variables from frequent_itemsets notebook"
   ]
  },
  {
   "cell_type": "code",
   "execution_count": 2,
   "metadata": {},
   "outputs": [],
   "source": [
    "# Load variables from the file\n",
    "with open('rules_display.pkl', 'rb') as f:\n",
    "    rules_display = pickle.load(f)\n",
    "\n",
    "with open('filtered_rules.pkl', 'rb') as f:\n",
    "    filtered_rules = pickle.load(f)"
   ]
  },
  {
   "cell_type": "markdown",
   "metadata": {},
   "source": [
    "## Recommender"
   ]
  },
  {
   "cell_type": "code",
   "execution_count": 10,
   "metadata": {},
   "outputs": [
    {
     "data": {
      "text/plain": [
       "'\\nPseudo code:\\n\\ndef recommender(product_id, n=5):\\n   \\n    do find_associated_items()\\n\\n   # check if our product has association rule\\n   if find_associated_items() does not return empty:\\n      # get the consequents of the product_id products, if there´s less than 5 associated items, then output all associated items\\n      recommendations = similar_items(first 5 outputs of associated_items) + first 5 outputs of associated_items\\n      \\n      return recommendations\\n   \\n   else if find_associated_items() does return empty:\\n        perform similar items on all antecedents (unique_values)\\n        and product_id is now the most similar item\\n\\n        then do recommender method again with new product_id\\n'"
      ]
     },
     "execution_count": 10,
     "metadata": {},
     "output_type": "execute_result"
    }
   ],
   "source": [
    "\"\"\"\n",
    "Pseudo code:\n",
    "\n",
    "def recommender(product_id, n=5):\n",
    "   \n",
    "    do find_associated_items()\n",
    "\n",
    "   # check if our product has association rule\n",
    "   if find_associated_items() does not return empty:\n",
    "      # get the consequents of the product_id products, if there´s less than 5 associated items, then output all associated items\n",
    "      recommendations = similar_items(first 5 outputs of associated_items) + first 5 outputs of associated_items\n",
    "      \n",
    "      return recommendations\n",
    "   \n",
    "   else if find_associated_items() does return empty:\n",
    "        perform similar items on all antecedents (unique_values)\n",
    "        and product_id is now the most similar item\n",
    "\n",
    "        then do recommender method again with new product_id\n",
    "\"\"\""
   ]
  },
  {
   "cell_type": "code",
   "execution_count": null,
   "metadata": {},
   "outputs": [],
   "source": [
    "# Recommender function\n",
    "def recommender(product_id, rules, n=5):\n",
    "    \"\"\"\n",
    "    Recommend products based on association rules and similarity.\n",
    "\n",
    "    Parameters:\n",
    "        product_id (str): The product ID for which recommendations are needed.\n",
    "        rules (pd.DataFrame): A DataFrame of association rules with columns 'antecedents' and 'consequents'.\n",
    "        n (int): Number of recommendations to return.\n",
    "\n",
    "    Returns:\n",
    "        list: Recommended products.\n",
    "    \"\"\"\n",
    "    # Step 1: Find associated items\n",
    "    associated_items = find_associated_items(product_id, rules)\n",
    "\n",
    "    if associated_items:\n",
    "        # Step 2: Direct match found; get recommendations\n",
    "        recommendations = list(associated_items)[:n]\n",
    "\n",
    "        # Add similar items to recommendations (assuming similar_items works on associated_items)\n",
    "        similar_recommendations = get_similar_items(product_id, associated_items, n)\n",
    "        return similar_recommendations + recommendations\n",
    "\n",
    "    else:\n",
    "        # Step 3: No direct match; find the most similar product\n",
    "        antecedents = pd.concat([rules_display['antecedents']]).explode().unique()  # All unique antecedent items\n",
    "        most_similar = get_similar_items(product_id, set(antecedents), 1)\n",
    "\n",
    "        if not most_similar:\n",
    "            return []  # No similar items found; cannot make recommendations\n",
    "\n",
    "        # Recursive call with the new product ID\n",
    "        return #recommender(most_similar[0], rules, n)\n",
    "\n",
    "# Example Usage\n",
    "# Preprocess the rules DataFrame\n",
    "rules_df = preprocess_rules(filtered_rules)\n",
    "\n",
    "# Input product\n",
    "input_product = 'P500633'\n",
    "\n",
    "# Get recommendations\n",
    "recommendations = recommender(input_product, rules_df, n=5)\n",
    "\n",
    "print(f\"Recommendations for product '{input_product}': {recommendations}\")"
   ]
  },
  {
   "cell_type": "code",
   "execution_count": null,
   "metadata": {},
   "outputs": [],
   "source": [
    "\"\"\"def recommender(product_id, n=5):\n",
    "   \n",
    "   # find frequent items\n",
    "   association_rules = get_association_rules()\n",
    "   \n",
    "   # get the antecedents\n",
    "   antecedents = association_rules[\"antecedents\"]\n",
    "   \n",
    "   # check if our product has association rule\n",
    "   if product_id in antecedents:\n",
    "      # get the consequents of the product_id products \n",
    "      consequents = association_rules[association_rules['antecedents'] == product_id]\n",
    "      \n",
    "      # get top 5 products for each consequents:\n",
    "      recommendations = DataFrame() # )\n",
    "      for consequent in consequents:\n",
    "         similar_items = get_similar_items(consequent, 10) # this function exists, change it so it takes the dataframe as well\n",
    "         recommendations = pd.concat([recommendations, similar_items], ignore_index=True)\n",
    "         \n",
    "      recommendations = recommendations.sort_values(by='rrf_score', ascending=False).reset_index(drop=True)\n",
    "      recommendations = recommendations[:n]\n",
    "      \n",
    "      return recommendations\n",
    "   \n",
    "   else:\n",
    "      # in case it does not exist find the most similar antecedents to this one \n",
    "      \n",
    "      # take the skincare products that are antecedents\n",
    "      \n",
    "      # call a new function (the same as previous but input is df as well)\n",
    "      \n",
    "      # get the most similar product to this one\n",
    "      \n",
    "      # get the consequents of that product\n",
    "      \n",
    "      # repeat the same as in the if part\"\"\""
   ]
  }
 ],
 "metadata": {
  "kernelspec": {
   "display_name": "Python 3",
   "language": "python",
   "name": "python3"
  },
  "language_info": {
   "codemirror_mode": {
    "name": "ipython",
    "version": 3
   },
   "file_extension": ".py",
   "mimetype": "text/x-python",
   "name": "python",
   "nbconvert_exporter": "python",
   "pygments_lexer": "ipython3",
   "version": "3.11.3"
  }
 },
 "nbformat": 4,
 "nbformat_minor": 2
}
