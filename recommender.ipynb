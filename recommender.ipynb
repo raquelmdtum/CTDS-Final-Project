{
 "cells": [
  {
   "cell_type": "markdown",
   "metadata": {},
   "source": [
    "### Recommender"
   ]
  },
  {
   "cell_type": "code",
   "execution_count": null,
   "metadata": {},
   "outputs": [],
   "source": [
    "def get_association_rules():\n",
    "   # returns data-frame with columns antecedents and consequents \n",
    "   print(\"To Do\")\n",
    "   \n",
    "\n",
    "def recommender(product_id, n=5):\n",
    "   \n",
    "   # find frequent items\n",
    "   association_rules = get_association_rules()\n",
    "   \n",
    "   # get the antecedents\n",
    "   antecedents = association_rules[\"antecedents\"]\n",
    "   \n",
    "   # check if our product has association rule\n",
    "   if product_id in antecedents:\n",
    "      # get the consequents of the product_id products \n",
    "      consequents = association_rules[association_rules['antecedents'] == product_id]\n",
    "      \n",
    "      # get top 5 products for each consequents:\n",
    "      recommendations = DataFrame() # )\n",
    "      for consequent in consequents:\n",
    "         similar_items = get_similar_items(consequent, 10) # this function exists, change it so it takes the dataframe as well\n",
    "         recommendations = pd.concat([recommendations, similar_items], ignore_index=True)\n",
    "         \n",
    "      recommendations = recommendations.sort_values(by='rrf_score', ascending=False).reset_index(drop=True)\n",
    "      recommendations = recommendations[:n]\n",
    "      \n",
    "      return recommendations\n",
    "   \n",
    "   else:\n",
    "      # in case it does not exist find the most similar antecedents to this one \n",
    "      \n",
    "   \n",
    "         \n",
    "      \n",
    "   \n",
    "   \n",
    "\n",
    "   \n"
   ]
  }
 ],
 "metadata": {
  "kernelspec": {
   "display_name": "ds",
   "language": "python",
   "name": "python3"
  },
  "language_info": {
   "name": "python",
   "version": "3.12.7"
  }
 },
 "nbformat": 4,
 "nbformat_minor": 2
}
