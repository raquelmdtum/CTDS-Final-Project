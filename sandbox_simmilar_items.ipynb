{
 "cells": [
  {
   "cell_type": "markdown",
   "metadata": {},
   "source": [
    "# Load data"
   ]
  },
  {
   "cell_type": "code",
   "execution_count": 179,
   "metadata": {},
   "outputs": [],
   "source": [
    "import pandas as pd\n",
    "from sklearn.metrics.pairwise import cosine_similarity\n",
    "from sklearn.feature_extraction.text import CountVectorizer\n",
    "\n",
    "# Load the CSV data into a DataFrame\n",
    "df = pd.read_csv(\"data/skincare.csv\")"
   ]
  },
  {
   "cell_type": "markdown",
   "metadata": {},
   "source": [
    "# Cluster based on secondary category"
   ]
  },
  {
   "cell_type": "code",
   "execution_count": 180,
   "metadata": {},
   "outputs": [],
   "source": [
    "secondary_category = set(df['secondary_category'])\n",
    "\n",
    "category_items_dict = {}\n",
    "for category in secondary_category:\n",
    "   items = list(df[df['secondary_category'] == category]['product_id'])\n",
    "   category_items_dict[category] = items"
   ]
  },
  {
   "cell_type": "markdown",
   "metadata": {},
   "source": [
    "# Get similar items based on the highlights"
   ]
  },
  {
   "cell_type": "code",
   "execution_count": 204,
   "metadata": {},
   "outputs": [],
   "source": [
    "def jaccard_similarity(set_a, set_b):\n",
    "   \"\"\"\n",
    "   Calculate the Jaccard Similarity between two sets.\n",
    "   \"\"\"\n",
    "   intersection = len(set_a.intersection(set_b))\n",
    "   union = len(set_a.union(set_b))\n",
    "   return intersection / union if union != 0 else 0.0\n",
    "\n",
    "def similarity_search(df, token_list):\n",
    "   \"\"\"\n",
    "   Perform similarity search based on Jaccard similarity between IDs and a token list.\n",
    "   \n",
    "   :param df: A pandas DataFrame with columns ['id', 'tokens'].\n",
    "   :param token_list: A list of tokens to compare against.\n",
    "   :return: A DataFrame with IDs and their Jaccard similarity scores, sorted by similarity score.\n",
    "   \"\"\"\n",
    "   # Convert the token list to a set\n",
    "   token_set = set(token_list)\n",
    "   \n",
    "   # List to store the similarity scores\n",
    "   similarity_scores = []\n",
    "   \n",
    "   # Iterate over the rows of the DataFrame\n",
    "   for index, row in df.iterrows():\n",
    "      product_id = row['product_id']\n",
    "      title = row['product_name']\n",
    "      # Convert the tokens for this ID to a set (assumed to be a string)\n",
    "      id_token_set = set(row['highlights'].split(\", \"))\n",
    "      \n",
    "      # Calculate Jaccard similarity\n",
    "      similarity_score = jaccard_similarity(id_token_set, token_set)\n",
    "      \n",
    "      # Append the result as a tuple (id, score)\n",
    "      similarity_scores.append((product_id, title, similarity_score, (row['highlights'])))\n",
    "   \n",
    "   # Convert the list of similarity scores to a DataFrame\n",
    "   similarity_df = pd.DataFrame(similarity_scores, columns=['product_id', 'product_name', 'similarity_score', 'highlights'])\n",
    "   \n",
    "   # Sort the DataFrame by the 'similarity_score' column in descending order\n",
    "   similarity_df_sorted = similarity_df.sort_values(by='similarity_score', ascending=False).reset_index(drop=True)\n",
    "   \n",
    "   return similarity_df_sorted"
   ]
  },
  {
   "cell_type": "code",
   "execution_count": 215,
   "metadata": {},
   "outputs": [
    {
     "name": "stdout",
     "output_type": "stream",
     "text": [
      "my highlights: ['Vegan', 'Collagen', 'Hypoallergenic', 'Loss of firmness', 'Dry', 'Combo', 'Normal']\n",
      "    product_id                                       product_name  \\\n",
      "0      P480986                    Firming Eye Cream with Peptides   \n",
      "1      P480192           Light Aura Vitamin C + Peptide Eye Cream   \n",
      "2      P475201  24-7 Power Swipe Hydrating Day & Night Treatme...   \n",
      "3      P383053  Do Not Age with Dr. Brandt Triple Peptide Eye ...   \n",
      "4      P461165          GOOPGENES All-In-One Nourishing Eye Cream   \n",
      "..         ...                                                ...   \n",
      "141    P502758          Super-C Dark Circle Brightening Eye Serum   \n",
      "142    P443840                                 Caffeine Eye Cream   \n",
      "143    P449410                Boosted Contouring Retinol Eye Balm   \n",
      "144    P448802                               Brighten-i Eye Cream   \n",
      "145    P501199                       YUZU-C Eye Awakening Essence   \n",
      "\n",
      "     similarity_score                                         highlights  \n",
      "0            0.555556  Dry, Combo, Normal, Anti-Aging, Loss of firmne...  \n",
      "1            0.500000  Vegan, Loss of firmness, Vitamin C, Dark Circl...  \n",
      "2            0.500000  Hyaluronic Acid, Loss of firmness, Collagen, C...  \n",
      "3            0.363636  Dry, Combo, Normal, Anti-Aging, Hypoallergenic...  \n",
      "4            0.363636  Vegan, Without Retinyl Palmitate, Clean at Sep...  \n",
      "..                ...                                                ...  \n",
      "141          0.000000  Dullness, Uneven Texture, Vitamin C, Dark Circ...  \n",
      "142          0.000000  Community Favorite, Clean at Sephora, Anti-Agi...  \n",
      "143          0.000000  Clean + Planet Positive, Retinol, Anti-Aging, ...  \n",
      "144          0.000000  Dullness, Uneven Texture, Dark Circles, Clean ...  \n",
      "145          0.000000  Dullness, Uneven Texture, Clean at Sephora, Fr...  \n",
      "\n",
      "[146 rows x 4 columns]\n"
     ]
    }
   ],
   "source": [
    "# for now we are taking the eye cream\n",
    "items = category_items_dict['Eye Care']\n",
    "\n",
    "# item I am looking for (now we only took the first one later we shall do the real one)\n",
    "my_item = items[0]\n",
    "\n",
    "# here I have remove the item I am searching for\n",
    "filtered_df = df[df['product_id'].isin(items[1:])][['product_id','product_name', 'highlights']]\n",
    "\n",
    "# The token list to compare against\n",
    "token_list = list(df[df['product_id'] == my_item]['highlights'])[0].split(\", \")\n",
    "\n",
    "# Perform similarity search and get sorted results\n",
    "similarity_results_sorted = similarity_search(filtered_df, token_list)\n",
    "\n",
    "print(\"my highlights:\", token_list)\n",
    "\n",
    "# Output sorted similarity scores\n",
    "my_sim_items = similarity_results_sorted[['similarity_score', 'highlights']]\n",
    "\n",
    "print(similarity_results_sorted)\n"
   ]
  },
  {
   "cell_type": "code",
   "execution_count": null,
   "metadata": {},
   "outputs": [],
   "source": [
    "# insert product id\n"
   ]
  }
 ],
 "metadata": {
  "kernelspec": {
   "display_name": "ds",
   "language": "python",
   "name": "python3"
  },
  "language_info": {
   "codemirror_mode": {
    "name": "ipython",
    "version": 3
   },
   "file_extension": ".py",
   "mimetype": "text/x-python",
   "name": "python",
   "nbconvert_exporter": "python",
   "pygments_lexer": "ipython3",
   "version": "3.12.7"
  }
 },
 "nbformat": 4,
 "nbformat_minor": 2
}
