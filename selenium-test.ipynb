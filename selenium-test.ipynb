{
 "cells": [
  {
   "cell_type": "code",
   "execution_count": 77,
   "id": "041e8799",
   "metadata": {},
   "outputs": [],
   "source": [
    "import time\n",
    "import pandas as pd\n",
    "\n",
    "from selenium import webdriver\n",
    "from selenium.webdriver.common.by import By\n",
    "from selenium.webdriver.common.keys import Keys\n",
    "from selenium.webdriver.chrome.options import Options\n",
    "from selenium.webdriver.support.ui import WebDriverWait, Select\n",
    "from selenium.webdriver.support import expected_conditions as EC\n"
   ]
  },
  {
   "cell_type": "code",
   "execution_count": 78,
   "id": "99ffd3db",
   "metadata": {},
   "outputs": [],
   "source": [
    "def locate_element_by_xpath(xpath, driver):\n",
    "    return WebDriverWait(driver, 10).until(EC.presence_of_element_located((By.XPATH, xpath)))\n",
    "\n",
    "def locate_element_by_name(name, driver):\n",
    "    return WebDriverWait(driver, 10).until(EC.presence_of_element_located((By.NAME, name)))"
   ]
  },
  {
   "cell_type": "code",
   "execution_count": 79,
   "id": "46581ac3",
   "metadata": {},
   "outputs": [],
   "source": [
    "# Set the path to your Chrome driver executable\n",
    "driver_path = r'C:\\Users\\desus\\OneDrive - Danmarks Tekniske Universitet\\Fall_2024\\sephora_scraper\\chromedriver\\chromedriver-win32\\chromedriver.exe'\n",
    "\n",
    "# Start a new Chrome session\n",
    "cService = webdriver.ChromeService(executable_path=driver_path)"
   ]
  },
  {
   "cell_type": "code",
   "execution_count": 83,
   "id": "6c8ce000",
   "metadata": {},
   "outputs": [
    {
     "name": "stdout",
     "output_type": "stream",
     "text": [
      "\n",
      "\n"
     ]
    }
   ],
   "source": [
    "driver = webdriver.Chrome(service=cService)\n",
    "\n",
    "# Navigate to a webpage\n",
    "# driver.get('https://www.matas.dk/hudpleje/ansigtspleje')\n",
    "driver.get('https://www.sephora.dk/shop/hudpleje/ansigtspleje-c299801/')\n",
    "\n",
    "# Find and accept Cookies\n",
    "locate_element_by_xpath('//*[@id=\"footer_tc_privacy_button_2\"]', driver).click()\n",
    "\n",
    "# Find products\n",
    "products = driver.find_elements(By.CLASS_NAME, 'grid-tile')\n",
    "\n",
    "### For each product....\n",
    "for product in products:\n",
    "\n",
    "    # Click on the product\n",
    "    product.click()\n",
    "    time.sleep(2)\n",
    "\n",
    "    try:\n",
    "\n",
    "        # Find and click the \"read more\" button of the description\n",
    "        read_more = driver.find_element(By.CLASS_NAME, 'read-more-pdp-description')\n",
    "        read_more.click()\n",
    "        time.sleep(2)\n",
    "\n",
    "        # Print the description\n",
    "        description = driver.find_element(By.XPATH, '//*[@id=\"product-infos-content\"]/div[1]/div/div').text\n",
    "        print(description)\n",
    "        time.sleep(2)\n",
    "\n",
    "        # Close the side tab\n",
    "        close = driver.find_element(By.XPATH, '/html/body/div[11]/div[1]/button')\n",
    "        close.click()\n",
    "        time.sleep(2)\n",
    "\n",
    "        # Open the ingredients \n",
    "        ingredients_button = driver.find_element(By.XPATH, '//*[@id=\"tab-ingredients\"]')\n",
    "        ingredients_button.click()\n",
    "        time.sleep(2)\n",
    "\n",
    "        # Print the ingredients\n",
    "        ingredients = driver.find_element(By.XPATH, '//*[@id=\"product-infos-content\"]/div[3]/div').text\n",
    "        print(ingredients)\n",
    "\n",
    "        # Close the side tab\n",
    "        close = driver.find_element(By.XPATH, '/html/body/div[11]/div[1]/button')\n",
    "        close.click()\n",
    "        time.sleep(2)\n",
    "\n",
    "    except:\n",
    "        print(\"uh oh\")\n",
    "    \n",
    "    \n",
    "    break\n",
    "\n",
    "\n",
    "\n",
    "\n",
    "\n",
    "\n",
    "\n"
   ]
  },
  {
   "cell_type": "code",
   "execution_count": null,
   "id": "651bf671",
   "metadata": {},
   "outputs": [],
   "source": []
  },
  {
   "cell_type": "code",
   "execution_count": null,
   "id": "211e54f0",
   "metadata": {},
   "outputs": [],
   "source": []
  }
 ],
 "metadata": {
  "kernelspec": {
   "display_name": "ds",
   "language": "python",
   "name": "python3"
  },
  "language_info": {
   "codemirror_mode": {
    "name": "ipython",
    "version": 3
   },
   "file_extension": ".py",
   "mimetype": "text/x-python",
   "name": "python",
   "nbconvert_exporter": "python",
   "pygments_lexer": "ipython3",
   "version": "3.11.10"
  }
 },
 "nbformat": 4,
 "nbformat_minor": 5
}
