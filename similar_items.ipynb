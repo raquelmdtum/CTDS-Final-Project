{
 "cells": [
  {
   "cell_type": "markdown",
   "metadata": {},
   "source": [
    "# Similar items based on ingredients and highlights"
   ]
  },
  {
   "cell_type": "code",
   "execution_count": 3,
   "metadata": {},
   "outputs": [],
   "source": [
    "import pandas as pd\n",
    "from sklearn.feature_extraction.text import TfidfVectorizer\n",
    "from sklearn.metrics.pairwise import cosine_similarity"
   ]
  },
  {
   "cell_type": "markdown",
   "metadata": {},
   "source": [
    "### Calculate similar items using ingredients\n",
    "To calculate similar items using ingredients we choose to embed ingredients with TF-IDF. This was chosen because TF-IDF will take into account the uniqueness of ingredients. For example water is a frequent ingredient in the list which does not tell us a lot about the product. Where as salicylic acid does not occur as often leading to higher importance. To compute the similarity between products we choose cosine similarity because TF-IDF gives results in the form of embedding."
   ]
  },
  {
   "cell_type": "markdown",
   "metadata": {},
   "source": [
    "#### Display ingredients"
   ]
  },
  {
   "cell_type": "code",
   "execution_count": 5,
   "metadata": {},
   "outputs": [
    {
     "name": "stdout",
     "output_type": "stream",
     "text": [
      "                                        product_name  \\\n",
      "0               GENIUS Sleeping Collagen Moisturizer   \n",
      "1                       GENIUS Liquid Collagen Serum   \n",
      "2               GENIUS Liquid Collagen Lip Treatment   \n",
      "3  SUBLIME DEFENSE Ultra Lightweight UV Defense F...   \n",
      "4                   GENIUS Ultimate Anti-Aging Cream   \n",
      "\n",
      "                                         ingredients  \n",
      "0  Collagen, Water, Ethylhexyl Palmitate, Oryza S...  \n",
      "1  Collagen, Water, Propanediol, Isononyl Isonona...  \n",
      "2  Collagen, Water, Glycerin, Isononyl Isononanoa...  \n",
      "3  Octinoxate 75%, Titanium Dioxide 2%, Zinc Oxid...  \n",
      "4  Water, Caprylic/Capric Triglyceride, Hydrogena...  \n"
     ]
    }
   ],
   "source": [
    "df = pd.read_csv(\"processed_data/skincare.csv\")\n",
    "# Select only 'Name' and 'Ingredients' columns\n",
    "df_selected = df[['product_name', 'ingredients']]\n",
    "\n",
    "# Display the first 5 rows\n",
    "print(df_selected.head())"
   ]
  },
  {
   "cell_type": "markdown",
   "metadata": {},
   "source": [
    "#### Define functions"
   ]
  },
  {
   "cell_type": "code",
   "execution_count": 6,
   "metadata": {},
   "outputs": [],
   "source": [
    "def custom_tokenizer(text):\n",
    "   return text.split(\", \")\n",
    "\n",
    "def similarity_search_ingredients(df, query):\n",
    "   \"\"\"\n",
    "   Perform a similarity search based on cosine similarity of TF-IDF vectors.\n",
    "\n",
    "   Parameters:\n",
    "   - query (str): The input query string.\n",
    "   - df (pd.DataFrame): A DataFrame containing 'id' and 'ingredients' columns.\n",
    "\n",
    "   Returns:\n",
    "   - results_df (pd.DataFrame): Rows from the original DataFrame sorted by similarity.\n",
    "   \"\"\"\n",
    "   # Initialize TfidfVectorizer with a custom tokenizer (adjust lowercase as needed)\n",
    "   vectorizer = TfidfVectorizer(tokenizer=custom_tokenizer, lowercase=False)\n",
    "\n",
    "   # Extract the 'ingredients' column\n",
    "   ingredients = df['ingredients']\n",
    "\n",
    "   # Fit and transform the ingredients\n",
    "   tfidf_matrix = vectorizer.fit_transform(ingredients)\n",
    "\n",
    "   # Transform the query into the TF-IDF space\n",
    "   query_tfidf = vectorizer.transform([query])\n",
    "\n",
    "   # Compute cosine similarity between the query and all documents\n",
    "   similarities = cosine_similarity(query_tfidf, tfidf_matrix).flatten()\n",
    "\n",
    "   # Add similarity scores to the DataFrame\n",
    "   df['similarity_score_ingredients'] = similarities\n",
    "\n",
    "   # Sort the DataFrame by similarity scores in descending order\n",
    "   results_df = df.sort_values(by='similarity_score_ingredients', ascending=False).reset_index(drop=True)\n",
    "   \n",
    "   results_df['rank_ingredients'] = range(1, len(results_df) + 1)\n",
    "\n",
    "   return results_df"
   ]
  },
  {
   "cell_type": "markdown",
   "metadata": {},
   "source": [
    "### Calculate similarity using the highlights\n",
    "In the dataset we choose we were not provided with description but rather highlights of a product. Those are sets of words that describe the product, so therefore there was no need to use the minhashing as the length of sets is not big to begging with. To compare the sets we choose to use Jaccard Similarity because the more highlight product have in common the more similar they are."
   ]
  },
  {
   "cell_type": "markdown",
   "metadata": {},
   "source": [
    "#### Display a few rows of highlights"
   ]
  },
  {
   "cell_type": "code",
   "execution_count": 7,
   "metadata": {},
   "outputs": [
    {
     "name": "stdout",
     "output_type": "stream",
     "text": [
      "                                        product_name  \\\n",
      "0               GENIUS Sleeping Collagen Moisturizer   \n",
      "1                       GENIUS Liquid Collagen Serum   \n",
      "2               GENIUS Liquid Collagen Lip Treatment   \n",
      "3  SUBLIME DEFENSE Ultra Lightweight UV Defense F...   \n",
      "4                   GENIUS Ultimate Anti-Aging Cream   \n",
      "\n",
      "                                          highlights  \n",
      "0  Vegan, Loss of firmness, Collagen, Hypoallerge...  \n",
      "1  Vegan, Loss of firmness, Collagen, Hypoallerge...  \n",
      "2  Vegan, Loss of firmness, Plumping, Collagen, H...  \n",
      "3  Vegan, Hypoallergenic, UV Protection, SPF, Dry...  \n",
      "4  Vegan, Collagen, Hypoallergenic, Loss of firmn...  \n"
     ]
    }
   ],
   "source": [
    "df_selected = df[['product_name', 'highlights']]\n",
    "\n",
    "# Display the first 5 rows\n",
    "print(df_selected.head())"
   ]
  },
  {
   "cell_type": "markdown",
   "metadata": {},
   "source": [
    "#### Define functions"
   ]
  },
  {
   "cell_type": "code",
   "execution_count": null,
   "metadata": {},
   "outputs": [],
   "source": [
    "def jaccard_similarity(set_a, set_b):\n",
    "   \"\"\"\n",
    "   Calculate the Jaccard Similarity between two sets.\n",
    "   \"\"\"\n",
    "   intersection = len(set_a.intersection(set_b))\n",
    "   union = len(set_a.union(set_b))\n",
    "   return intersection / union if union != 0 else 0.0\n",
    "\n",
    "def similarity_search_highlights(df, token_list):\n",
    "   \"\"\"\n",
    "   Perform similarity search based on Jaccard similarity between df and a token list.\n",
    "   \n",
    "   :param df: A pandas DataFrame with columns ['product_id','product_name', 'highlights'].\n",
    "   :param token_list: A list of tokens to compare against (highlights).\n",
    "   :return: A DataFrame with IDs and their Jaccard similarity scores, sorted by similarity score.\n",
    "   \"\"\"\n",
    "   # Convert the token list to a set\n",
    "   token_set = set(token_list)\n",
    "   \n",
    "   # List to store the similarity scores\n",
    "   similarity_scores = []\n",
    "   \n",
    "   # Iterate over the rows of the DataFrame\n",
    "   for index, row in df.iterrows():\n",
    "      product_id = row['product_id']\n",
    "      title = row['product_name']\n",
    "      # Convert the tokens for this ID to a set \n",
    "      id_token_set = set(row['highlights'].split(\", \"))\n",
    "      \n",
    "      # Calculate Jaccard similarity\n",
    "      similarity_score = jaccard_similarity(id_token_set, token_set)\n",
    "      \n",
    "      # Append the result as a tuple (id, score)\n",
    "      similarity_scores.append((product_id, title, similarity_score, (row['highlights'])))\n",
    "   \n",
    "   # Convert the list of similarity scores to a DataFrame\n",
    "   similarity_df = pd.DataFrame(similarity_scores, columns=['product_id', 'product_name', 'similarity_score_highlights', 'highlights'])\n",
    "   \n",
    "   # Sort the DataFrame by the 'similarity_score' column in descending order\n",
    "   similarity_df_sorted = similarity_df.sort_values(by='similarity_score_highlights', ascending=False).reset_index(drop=True)\n",
    "   \n",
    "   similarity_df_sorted['rank_highlights'] = range(1, len(similarity_df_sorted) + 1)\n",
    "   \n",
    "   return similarity_df_sorted"
   ]
  },
  {
   "cell_type": "markdown",
   "metadata": {},
   "source": [
    "### Combining similarities based on highlight and ingredients\n",
    "Jaccard similarity measure is in range [0, 1] and cosine similarity is in range [-1, 1] which means that we can not simply calculate the average or weighted sum. Due to that reason we choose to use reciprocal rank fusiona algorithm. To use it we need to rank our similarities tables which is already done in their respective functions. \n",
    "The **Reciprocal Rank Fusion (RRF)** score for a product _d_ is calculated as:\n",
    "$$\n",
    "RRF(d) = \\sum_{i=1}^{N} \\frac{1}{r_i(d) + k}\n",
    "\\text{}\n",
    "$$\n",
    "Where:\n",
    "- $r_i (d)$ is the rank of product $d$ in the $i^{th}$ ranked list.\n",
    "- $k$ is a constant (typically $k = 60$), used to prevent division by zero and to adjust the impact of higher ranks.\n",
    "- $N$ is the number of ranked lists (models or sources).\n",
    "\n",
    "The reciprocal rank is typically defined as $\\frac{1}{r_i(d)}$, where higher ranks give more weight to the document.\n"
   ]
  },
  {
   "cell_type": "code",
   "execution_count": 9,
   "metadata": {},
   "outputs": [],
   "source": [
    "def reciprocal_rank_fusion(df_highlights, df_ingredients, k=60):\n",
    "   \"\"\"\n",
    "   Compute Reciprocal Rank Fusion (RRF) scores based on rank_highlights and rank_ingredients.\n",
    "\n",
    "   Parameters:\n",
    "   - df_highlights (pd.DataFrame): DataFrame containing 'product_id', 'rank_highlights', and other relevant columns.\n",
    "   - df_ingredients (pd.DataFrame): DataFrame containing 'product_id', 'rank_ingredients', and other relevant columns.\n",
    "   - k (int): A constant for RRF computation (default=60).\n",
    "\n",
    "   Returns:\n",
    "   - combined_df (pd.DataFrame): A new DataFrame with overall RRF scores and combined ranking.\n",
    "   \"\"\"\n",
    "   # Merge the two DataFrames on 'product_id'\n",
    "   merged_df = pd.merge(\n",
    "      df_highlights,  # Include all columns from df_highlights\n",
    "      df_ingredients[['product_id', 'rank_ingredients']],  # Include only product_id and rank_ingredients\n",
    "      on='product_id',\n",
    "      how='inner'\n",
    "   )\n",
    "\n",
    "   # Fill missing ranks with a large value (e.g., very low relevance)\n",
    "   merged_df['rank_highlights'] = merged_df['rank_highlights'].fillna(float('inf'))\n",
    "   merged_df['rank_ingredients'] = merged_df['rank_ingredients'].fillna(float('inf'))\n",
    "\n",
    "   # Compute the RRF score\n",
    "   merged_df['rrf_score'] = (\n",
    "      1 / (k + merged_df['rank_highlights']) +\n",
    "      1 / (k + merged_df['rank_ingredients'])\n",
    "   )\n",
    "\n",
    "   # Sort by the RRF score in descending order\n",
    "   merged_df = merged_df.sort_values(by='rrf_score', ascending=False).reset_index(drop=True)\n",
    "\n",
    "   # Add a new rank based on the RRF score\n",
    "   merged_df['overall_rank'] = range(1, len(merged_df) + 1)\n",
    "   \n",
    "   return merged_df\n"
   ]
  },
  {
   "cell_type": "markdown",
   "metadata": {},
   "source": [
    "### Run code for specific product_id"
   ]
  },
  {
   "cell_type": "code",
   "execution_count": 10,
   "metadata": {},
   "outputs": [],
   "source": [
    "def get_similar_items(product_id, df, n = 5):\n",
    "   \"\"\"\n",
    "   Retrieve the top N products most similar to a given product based on highlights and ingredients.\n",
    "\n",
    "   This function takes a product ID, performs similarity searches on the product's highlights and ingredients, \n",
    "   and combines the results using a reciprocal rank fusion algorithm. It returns the top N most similar products.\n",
    "\n",
    "   Parameters:\n",
    "   ----------\n",
    "   product_id : int or str\n",
    "      The ID of the product for which similar items are being searched.\n",
    "   n : int, optional\n",
    "      The number of similar products to return. Default is 5.\n",
    "\n",
    "   Returns:\n",
    "    - merged_results (pd.DataFrame): A new DataFrame containing top n similar items\n",
    "   \"\"\"\n",
    "\n",
    "   # get the selected product\n",
    "   product = df[df['product_id'] == product_id]\n",
    "\n",
    "   # get the product highlights and ingredients\n",
    "   product_highlights =  list(product['highlights'])[0].split(\", \")\n",
    "   product_ingredients = str(product['ingredients'])\n",
    "\n",
    "   # remove the product I am searching for\n",
    "   df = df[(df['product_id'] != product_id)]\n",
    "\n",
    "   # perform similarity searches\n",
    "   highlights_similarity_results = similarity_search_highlights(df, product_highlights)\n",
    "   ingredients_similarity_results = similarity_search_ingredients(df, product_ingredients)\n",
    "\n",
    "   # combine similarity searches with reciprocal rank fusion algorithm\n",
    "   merged_results = reciprocal_rank_fusion(highlights_similarity_results, ingredients_similarity_results)\n",
    "   \n",
    "   # Return only the top-n products\n",
    "   return merged_results[:n]"
   ]
  },
  {
   "cell_type": "code",
   "execution_count": 20,
   "metadata": {},
   "outputs": [
    {
     "name": "stdout",
     "output_type": "stream",
     "text": [
      "The most similar products to the Hyaluronic Facial Cream are: \n",
      "0                                  Peptide Moisturizer\n",
      "1    Do Not Age with Dr. Brandt Moisturizing Neck C...\n",
      "2              Needles No More Wrinkle Smoothing Cream\n",
      "3                         Eczema+ Dermatitis Face Balm\n",
      "4                          Youth Junkie Activated Mask\n",
      "Name: product_name, dtype: object\n"
     ]
    },
    {
     "name": "stderr",
     "output_type": "stream",
     "text": [
      "c:\\miniconda\\envs\\ds\\Lib\\site-packages\\sklearn\\feature_extraction\\text.py:521: UserWarning: The parameter 'token_pattern' will not be used since 'tokenizer' is not None'\n",
      "  warnings.warn(\n",
      "C:\\Users\\Ana Marija Pavičić\\AppData\\Local\\Temp\\ipykernel_20812\\2283324914.py:31: SettingWithCopyWarning: \n",
      "A value is trying to be set on a copy of a slice from a DataFrame.\n",
      "Try using .loc[row_indexer,col_indexer] = value instead\n",
      "\n",
      "See the caveats in the documentation: https://pandas.pydata.org/pandas-docs/stable/user_guide/indexing.html#returning-a-view-versus-a-copy\n",
      "  df['similarity_score_ingredients'] = similarities\n"
     ]
    }
   ],
   "source": [
    "df = pd.read_csv(\"processed_data/skincare.csv\")\n",
    "product_id = \"P442001\"\n",
    "product_name = df[df['product_id'] == product_id]['product_name'].iloc[0]\n",
    "merged = get_similar_items(product_id, df)['product_name'].head(5)\n",
    "\n",
    "print(f\"The most similar products to the {product_name} are: \")\n",
    "print(merged)"
   ]
  }
 ],
 "metadata": {
  "kernelspec": {
   "display_name": "ds",
   "language": "python",
   "name": "python3"
  },
  "language_info": {
   "codemirror_mode": {
    "name": "ipython",
    "version": 3
   },
   "file_extension": ".py",
   "mimetype": "text/x-python",
   "name": "python",
   "nbconvert_exporter": "python",
   "pygments_lexer": "ipython3",
   "version": "3.12.7"
  }
 },
 "nbformat": 4,
 "nbformat_minor": 2
}
